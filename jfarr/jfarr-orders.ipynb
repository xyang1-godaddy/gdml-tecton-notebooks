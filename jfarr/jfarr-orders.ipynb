{
 "cells": [
  {
   "cell_type": "markdown",
   "id": "6e6ed173",
   "metadata": {},
   "source": [
    "## Get orders for test shopper"
   ]
  },
  {
   "cell_type": "code",
   "execution_count": 1,
   "id": "6c502a61",
   "metadata": {},
   "outputs": [
    {
     "name": "stdout",
     "output_type": "stream",
     "text": [
      "Starting Spark application\n"
     ]
    },
    {
     "data": {
      "text/html": [
       "<table>\n",
       "<tr><th>ID</th><th>YARN Application ID</th><th>Kind</th><th>State</th><th>Spark UI</th><th>Driver log</th><th>User</th><th>Current session?</th></tr><tr><td>8</td><td>application_1660436778279_0010</td><td>pyspark</td><td>idle</td><td><a target=\"_blank\" href=\"http://ip-192-168-10-186.us-west-2.compute.internal:20888/proxy/application_1660436778279_0010/\">Link</a></td><td><a target=\"_blank\" href=\"http://ip-192-168-9-103.us-west-2.compute.internal:8042/node/containerlogs/container_1660436778279_0010_01_000001/livy\">Link</a></td><td>None</td><td>✔</td></tr></table>"
      ],
      "text/plain": [
       "<IPython.core.display.HTML object>"
      ]
     },
     "metadata": {},
     "output_type": "display_data"
    },
    {
     "data": {
      "application/vnd.jupyter.widget-view+json": {
       "model_id": "",
       "version_major": 2,
       "version_minor": 0
      },
      "text/plain": [
       "FloatProgress(value=0.0, bar_style='info', description='Progress:', layout=Layout(height='25px', width='50%'),…"
      ]
     },
     "metadata": {},
     "output_type": "display_data"
    },
    {
     "name": "stdout",
     "output_type": "stream",
     "text": [
      "SparkSession available as 'spark'.\n"
     ]
    },
    {
     "data": {
      "application/vnd.jupyter.widget-view+json": {
       "model_id": "",
       "version_major": 2,
       "version_minor": 0
      },
      "text/plain": [
       "FloatProgress(value=0.0, bar_style='info', description='Progress:', layout=Layout(height='25px', width='50%'),…"
      ]
     },
     "metadata": {},
     "output_type": "display_data"
    }
   ],
   "source": [
    "df = spark.sql(\"select * from tecton_dev.ads_bill_line limit 10\")"
   ]
  },
  {
   "cell_type": "code",
   "execution_count": 3,
   "id": "754b04b6",
   "metadata": {},
   "outputs": [
    {
     "data": {
      "application/vnd.jupyter.widget-view+json": {
       "model_id": "",
       "version_major": 2,
       "version_minor": 0
      },
      "text/plain": [
       "FloatProgress(value=0.0, bar_style='info', description='Progress:', layout=Layout(height='25px', width='50%'),…"
      ]
     },
     "metadata": {},
     "output_type": "display_data"
    },
    {
     "name": "stdout",
     "output_type": "stream",
     "text": [
      "+-----------+-------------+-----------------+--------------+----------------+--------------------+--------------------+----------------+----------------+---------------+-------------------------+-------------------------+----------------------------+---------------------------+------------------------------+---------------------------------+-------------------------+-------------------+--------------------+-------------------+-------------------+------------------+----------------------------+-----------------------+---------------------+-------------------------+--------------------+---------------------+------------------------------+------------------+-------------+-------------------+---------------------+---------------------+---------------+----------------------+----------------------+----------------------------+-----------------+-------------------------+-------------------------+-------------------------+------------------------------+---------------------------+--------------------------------+-----------------+-------------------+---------------------------+---------------------------------+-----------------------+-----------------------------+---------------------------------+---------------------+------------------------+-----------------------------+------------------+------------------------------------+----------------------------------------------+----------------------------+-------------------------------------+-----------------------+--------------------+----------------------+-------------------------------+----------------------------+------------------------------+----------------+----------------------+-------------------------+----------------------+---------------------+------------------------+------------------------+-------------------------------------+--------------------+---------------+--------------------+---------------+------------------+--------------------+--------------------+--------------------+---------------------------------+---------------------------------+----------------+----------------------+------------------+--------------------+----------------------+---------------------+--------------------+-----------------------+--------------------+-----------------------------+-------------+---------------------+-------+--------------+--------+------------+----------------+-----------------+---------------------+----------------------+-----------------------------------+-----------+------------+-------------------------+------------------+-------------------+------------------+-------------------+-------------------------------------+--------------------------------------+------------+-------------+--------------------------+---------------------------+------------------+-------------------+-----------+------------+-------------------------+--------------------------+-----------+------------+-----------------------------+------------------------------+----------------------------------+-----------------------------------+--------------------------+---------------------------+--------------------+---------------------+--------------------------------+---------------------------+----------------------------------+------------------+--------+-------------------+-----------------------+---------------------+-----------------------+-------------------+-----------------------------+-----------------------+-------------------+--------------------+--------------------+--------------------+-----------------+--------------+-------------------+--------------------+------------------------+----------------------+-------------------+--------------------+--------------------+-----------------------+----------------------------------+-----------+---------------+------------------------+-------------------------+---------------+------------+------------------------+----------------------------+--------------------+-------------------------+----------------+------------------------+----------------+-----------------------+----------------------------------+----------------+-----------------+----------------------+--------------------------+----------------------------------+-------------------+--------------------+-----------------------------+\n",
      "|    bill_id|bill_line_num|bill_country_code|rep_version_id|private_label_id|bill_isc_source_code|   bill_sub_geo_code|bill_postal_code|bill_source_name|entered_by_name|translation_language_name|primary_payment_type_name|primary_payment_subtype_name|secondary_payment_type_name|secondary_payment_subtype_name|bill_modified_mst_date_prior_year|bill_isc_source_code_desc|bill_isc_company_id|bill_isc_campaign_id|bill_isc_channel_id|bill_isc_product_id|bill_isc_vendor_id|bill_isc_media_specialist_id|bill_isc_sub_channel_id|bill_isc_channel_name|bill_isc_sub_channel_name|bill_isc_vendor_name|bill_isc_product_name|bill_isc_media_specialist_name|reseller_type_name|reseller_name|reseller_shopper_id|reseller_country_code|reseller_country_name|    c3_rep_name|c3_rep_supervisor_name|c3_rep_department_name|c3_call_center_location_name|bill_country_name|bill_report_region_1_name|bill_report_region_2_name|bill_report_region_3_name|bill_report_focal_country_name|bill_report_sub_region_name|bill_domestic_international_name|merged_shopper_id|original_shopper_id|new_registered_user_bill_id|new_acquisition_bill_country_code|new_acquisition_bill_id|new_acquisition_bill_mst_date|new_registered_user_bill_mst_date|federation_partner_id|federation_friendly_name|web_pro_participant_type_name|web_pro_shopper_id|original_shopper_exclude_reason_desc|original_shopper_exclude_reason_month_end_desc|shopper_domain_portfolio_qty|shopper_domain_portfolio_segment_name|crm_portfolio_type_name|crm_portfolio_rep_id|crm_portfolio_rep_name|current_crm_portfolio_type_name|current_crm_portfolio_rep_id|current_crm_portfolio_rep_name|product_term_num|product_term_unit_desc|product_pnl_category_name|product_pnl_group_name|product_pnl_line_name|product_pnl_subline_name|product_pnl_version_name|original_product_pnl_new_renewal_name|   product_type_desc|product_type_id|        product_name|pnl_new_renewal|bill_fraud_flag_ts|bill_fraud_flag_date|bill_fraud_review_id|free_trial_type_desc|free_trial_target_expiration_date|product_free_trial_acquisition_ts|original_bill_id|original_bill_line_num|source_system_name|bill_modified_mst_ts|bill_modified_mst_date|subaccount_shopper_id|  item_tracking_code|item_tracking_code_desc|  purchase_path_name|purchase_path_attributed_name|department_id|accounting_company_id|  pf_id|upgraded_pf_id|unit_qty|duration_qty|product_unit_qty|product_month_qty|receipt_price_usd_amt|receipt_price_trxn_amt|receipt_price_constant_currency_amt|gcr_usd_amt|gcr_trxn_amt|gcr_constant_currency_amt|margin_gcr_usd_amt|margin_gcr_trxn_amt|commission_usd_amt|commission_trxn_amt|aftermarket_seller_commission_usd_amt|aftermarket_seller_commission_trxn_amt|cost_usd_amt|cost_trxn_amt|msrp_duration_unit_usd_amt|msrp_duration_unit_trxn_amt|msrp_total_usd_amt|msrp_total_trxn_amt|fee_usd_amt|fee_trxn_amt|fair_market_value_usd_amt|fair_market_value_trxn_amt|tax_usd_amt|tax_trxn_amt|receipt_regular_price_usd_amt|receipt_regular_price_trxn_amt|injected_fair_market_value_usd_amt|injected_fair_market_value_trxn_amt|injected_icann_fee_usd_amt|injected_icann_fee_trxn_amt|injected_tax_usd_amt|injected_tax_trxn_amt|bundle_allocated_revenue_usd_amt|reseller_commission_usd_amt|parent_reseller_commission_usd_amt|trxn_currency_code|offer_id|offer_collection_id|free_product_package_id|variant_price_type_id|variant_price_type_name|exclude_reason_desc|exclude_reason_month_end_desc|bill_site_language_code|c3_bill_source_code|c3_bill_process_name|free_trial_bill_type|free_trial_bill_date|virtual_bill_flag|free_bill_flag|bill_isc_viral_flag|new_acquisition_flag|new_registered_user_flag|product_free_term_flag|units_as_bills_flag|primary_product_flag|c3_receipt_move_flag|product_free_trial_flag|product_free_trial_conversion_flag|refund_flag|chargeback_flag|accounting_deferred_flag|renewal_price_locked_flag|bill_fraud_flag|c3_bill_flag|c3_attribution_type_name|product_pnl_new_renewal_name|  customer_type_name|customer_type_reason_desc|domain_bulk_flag|domain_bulk_pricing_flag|pnl_priority_num|pnl_us_independent_flag|pnl_international_independent_flag|pnl_partner_flag|pnl_investor_flag|point_of_purchase_name|sub_point_of_purchase_name|shopper_product_purchase_type_name|   etl_build_mst_ts| source_process_name|partition_bill_mst_year_month|\n",
      "+-----------+-------------+-----------------+--------------+----------------+--------------------+--------------------+----------------+----------------+---------------+-------------------------+-------------------------+----------------------------+---------------------------+------------------------------+---------------------------------+-------------------------+-------------------+--------------------+-------------------+-------------------+------------------+----------------------------+-----------------------+---------------------+-------------------------+--------------------+---------------------+------------------------------+------------------+-------------+-------------------+---------------------+---------------------+---------------+----------------------+----------------------+----------------------------+-----------------+-------------------------+-------------------------+-------------------------+------------------------------+---------------------------+--------------------------------+-----------------+-------------------+---------------------------+---------------------------------+-----------------------+-----------------------------+---------------------------------+---------------------+------------------------+-----------------------------+------------------+------------------------------------+----------------------------------------------+----------------------------+-------------------------------------+-----------------------+--------------------+----------------------+-------------------------------+----------------------------+------------------------------+----------------+----------------------+-------------------------+----------------------+---------------------+------------------------+------------------------+-------------------------------------+--------------------+---------------+--------------------+---------------+------------------+--------------------+--------------------+--------------------+---------------------------------+---------------------------------+----------------+----------------------+------------------+--------------------+----------------------+---------------------+--------------------+-----------------------+--------------------+-----------------------------+-------------+---------------------+-------+--------------+--------+------------+----------------+-----------------+---------------------+----------------------+-----------------------------------+-----------+------------+-------------------------+------------------+-------------------+------------------+-------------------+-------------------------------------+--------------------------------------+------------+-------------+--------------------------+---------------------------+------------------+-------------------+-----------+------------+-------------------------+--------------------------+-----------+------------+-----------------------------+------------------------------+----------------------------------+-----------------------------------+--------------------------+---------------------------+--------------------+---------------------+--------------------------------+---------------------------+----------------------------------+------------------+--------+-------------------+-----------------------+---------------------+-----------------------+-------------------+-----------------------------+-----------------------+-------------------+--------------------+--------------------+--------------------+-----------------+--------------+-------------------+--------------------+------------------------+----------------------+-------------------+--------------------+--------------------+-----------------------+----------------------------------+-----------+---------------+------------------------+-------------------------+---------------+------------+------------------------+----------------------------+--------------------+-------------------------+----------------+------------------------+----------------+-----------------------+----------------------------------+----------------+-----------------+----------------------+--------------------------+----------------------------------+-------------------+--------------------+-----------------------------+\n",
      "| 2099417558|            8|               US|             0|               1|                 ???|                  FL|           33629|          Online|       customer|                     null|                   paypal|                      paypal|                           |                              |                       2021-05-02|                  Unknown|               null|                null|                 28|               null|              null|                        null|                   null|             Branding|                  Unknown|             Unknown|              Unknown|                       Unknown|          Go Daddy|  GoDaddy.com|               null|                   --|              Unknown|           null|                  null|                   Web|                         Web|    United States|            United States|            United States|            United States|                 United States|              United States|                        Domestic|         15633656|           15633656|                       null|                               US|               76103749|                   2007-07-31|                             null|                 null|                    null|                         null|              null|                                null|                                          null|                         282|                  100+ Active Domains|                   null|                null|                  null|                           null|                        null|                          null|               1|                  year|           Domain Add Ons|               Domains| Domain Ownership ...|    Domain Ownership ...|    Domain Ownership ...|                         New Purchase|Domains By Proxy ...|           23.0|Lite DOP EP-39049...|   New Purchase|              null|                null|                null|                null|                             null|                             null|              -1|                    -1|     legacy e-comm| 2022-05-01 11:48:41|            2022-05-01|                 null|     cart_inline_dop|   DOP Bundle Cross ...|                Cart|         Domain Purchase Path|          550|                    1|1329767|          null|       1|       1.000|               1|            12.00|                 9.99|                  9.99|                               9.99|       9.99|        9.99|                     9.99|              9.99|               9.99|              0.00|               0.00|                                 0.00|                                  0.00|        0.00|         0.00|                      9.99|                       9.99|              9.99|               9.99|       0.00|        0.00|                     9.99|                      9.99|       0.00|        0.00|                         9.99|                          9.99|                              0.00|                               0.00|                      0.00|                       0.00|                0.00|                 0.00|                            null|                       null|                              null|               USD|    null|               null|                   null|                    0|         Standard Price|               null|                         null|                  en-us|               null|                null|                null|                null|            false|         false|              false|               false|                   false|                 false|              false|                true|               false|                  false|                             false|      false|          false|                    true|                    false|          false|       false|                    null|                New Purchase|            Investor|                      DDC|           false|                   false|             128|                  false|                             false|           false|             true|                   Web|      Web non-Care-init...|              Existing - Buying...|2022-05-17 04:28:04|ads_bill_line.py ...|                      2022-05|\n",
      "| 2099418955|            0|               US|             0|               1|                 ???|                  FL|           33180|          Online|       customer|                     null|                   paypal|                      paypal|                           |                              |                       2021-05-02|                  Unknown|               null|                null|                 28|               null|              null|                        null|                   null|             Branding|                  Unknown|             Unknown|              Unknown|                       Unknown|          Go Daddy|  GoDaddy.com|               null|                   --|              Unknown|           null|                  null|                   Web|                         Web|    United States|            United States|            United States|            United States|                 United States|              United States|                        Domestic|         24373138|           24373138|                       null|                               US|              136960537|                   2008-11-05|                             null|                 null|                    null|                         null|              null|                                null|                                          null|                         108|                  100+ Active Domains|                   null|                null|                  null|                           null|                        null|                          null|               1|                  year|      Domain Registration|               Domains| Domain Name Regis...|                     COM|                     COM|                         New Purchase| Domain Registration|            2.0|.COM Domain Name ...|   New Purchase|              null|                null|                null|                null|                             null|                             null|              -1|                    -1|     legacy e-comm| 2022-05-01 08:08:20|            2022-05-01|                 null|          dpp_absol1|   New absolute reg ...|Domain Purchase Path|         Domain Purchase Path|            8|                    1|    101|          null|       1|       1.000|               1|            12.00|                12.17|                 12.17|                              12.17|      12.17|       12.17|                    12.17|              3.60|               3.60|              0.00|               0.00|                                 0.00|                                  0.00|        8.39|         8.39|                     20.17|                      20.17|             20.17|              20.17|       0.18|        0.18|                    11.99|                     11.99|       0.00|        0.00|                        12.17|                         12.17|                              0.00|                               0.00|                      0.00|                       0.00|                0.00|                 0.00|                            null|                       null|                              null|               USD|    null|               null|                   1676|                    0|         Standard Price|               null|                         null|                  en-us|               null|                null|                null|                null|            false|         false|              false|               false|                   false|                 false|              false|                true|               false|                  false|                             false|      false|          false|                    true|                    false|          false|       false|                    null|                New Purchase|            Investor|                      DDC|           false|                   false|             127|                  false|                             false|           false|             true|                   Web|      Web non-Care-init...|              Existing - Buying...|2022-05-17 04:28:04|ads_bill_line.py ...|                      2022-05|\n",
      "|2099431354R|            0|               CA|        479469|               1|          COCAGCA004|                  ON|         L6T 0H7|           Phone|   Luis  Rivera|                     null|                     null|                        null|                           |                              |                       2021-05-02|      99 cent .com or .ca|                  4|                   9|                 24|                  2|             35290|                         138|                    119|               Search|                   Search|       Google Canada|              Domains|                     Lou Klema|          Go Daddy|  GoDaddy.com|               null|                   --|              Unknown|Enderle, Andrew|            Baya, Nada|    C3 Support Level 2|                    Hiawatha|           Canada|     International - T...|                   Canada|                   Canada|                        Canada|                     Canada|                   International|        476253053|          476253053|                       null|                               CA|             2099431354|                   2022-04-27|                             null|                 null|                    null|                         null|              null|                                null|                                          null|                           0|                     0 Active Domains|                   null|                null|                  null|                           null|                        null|                          null|               3|                  year|      Domain Registration|               Domains| Domain Name Regis...|                      CA|              Geo ccTLDs|                         New Purchase| Domain Registration|            2.0|.CA Domain Name R...|   New Purchase|              null|                null|                null|                null|                             null|                             null|      2099431354|                     0|     legacy e-comm| 2022-05-01 09:28:10|            2022-05-01|                 null|                null|                Unknown|             Unknown|                      Unknown|            8|                    1|   9407|          null|      -1|       1.000|              -1|           -36.00|               -33.44|                -42.97|                             -33.92|       0.00|        0.00|                     0.00|              0.00|              30.17|              0.00|               0.00|                                 0.00|                                  0.00|        0.00|       -30.17|                    -46.67|                     -59.97|            -46.67|             -59.97|       0.00|        0.00|                     0.00|                      0.00|      -4.35|       -5.59|                       -42.78|                        -54.97|                              0.00|                               0.00|                      0.00|                       0.00|                0.00|                 0.00|                            null|                       null|                              null|               CAD|    null|               null|                   1676|                    0|         Standard Price|               null|                         null|                Missing|               null|                null|                null|                null|            false|         false|              false|               false|                   false|                 false|              false|                true|               false|                  false|                             false|       true|          false|                   false|                    false|          false|       false|                    null|                New Purchase|International Ind...|     International Fir...|           false|                   false|              43|                  false|                              true|           false|            false|                    C3|             United States|              Existing - Buying...|2022-05-17 04:28:04|ads_bill_line.py ...|                      2022-05|\n",
      "| 2099481230|            1|               GH|             0|               1|                 ???|GREATER ACCRA REGION|           00233|          Online|       customer|                     null|              credit card|                        visa|                           |                              |                       2021-05-02|                  Unknown|               null|                null|                 28|               null|              null|                        null|                   null|             Branding|                  Unknown|             Unknown|              Unknown|                       Unknown|          Go Daddy|  GoDaddy.com|               null|                   --|              Unknown|           null|                  null|                   Web|                         Web|            Ghana|      International - RoW|      Rest of World (RoW)|              RoW English|          Rest of World - O...|                     ROEMEA|                   International|        476279225|          476279225|                       null|                               GH|             2099481230|                   2022-05-01|                             null|                 null|                    null|                         null|              null|                                null|                                          null|                           1|                      1 Active Domain|                   null|                null|                  null|                           null|                        null|                          null|               1|                 month|                 Presence|  Presence and Comm...|      Website Builder|                  Deluxe|                   vNext|                         New Purchase| Website Builder wsb|          536.0|Website Builder F...|   New Purchase|              null|                null|                null|          free trial|                       2022-05-27|             2022-05-01 11:29:...|              -1|                    -1|     legacy e-comm| 2022-05-01 11:29:10|            2022-05-01|                 null|         dpp_config1|     New DPP Config ITC|Domain Purchase Path|         Domain Purchase Path|           22|                    1|1058162|          null|       1|       1.000|               1|             1.00|                 0.00|                  0.00|                               0.00|       0.00|        0.00|                     0.00|              0.00|               0.00|              0.00|               0.00|                                 0.00|                                  0.00|        0.00|         0.00|                      0.00|                       0.00|              0.00|               0.00|       0.00|        0.00|                     0.00|                      0.00|       0.00|        0.00|                         0.00|                          0.00|                              0.00|                               0.00|                      0.00|                       0.00|                0.00|                 0.00|                            null|                       null|                              null|               GBP|    null|               null|                   null|                    0|         Standard Price|               null|                         null|                  en-gb|               null|                null|            standard|          2022-05-01|            false|         false|              false|                true|                   false|                 false|               true|                true|               false|                   true|                             false|      false|          false|                    true|                     true|          false|       false|                    null|                New Purchase|International Ind...|     International Fir...|           false|                   false|              53|                  false|                              true|           false|            false|                   Web|      Web non-Care-init...|                         New - New|2022-05-17 04:28:04|ads_bill_line.py ...|                      2022-05|\n",
      "| 2099507459|            9|               US|             0|               1|                 ???|                  WI|           53223|          Online|       customer|                     null|              credit card|                        visa|                           |                              |                       2021-05-02|                  Unknown|               null|                null|                 28|               null|              null|                        null|                   null|             Branding|                  Unknown|             Unknown|              Unknown|                       Unknown|          Go Daddy|  GoDaddy.com|               null|                   --|              Unknown|           null|                  null|                   Web|                         Web|    United States|            United States|            United States|            United States|                 United States|              United States|                        Domestic|         52371380|           52371380|                       null|                               US|              423931541|                   2012-05-05|                             null|                 null|                    null|                         null|              null|                                null|                                          null|                          44|                 25-49 Active Domains|                   null|                null|                  null|                           null|                        null|                          null|               1|                  year|           Domain Add Ons|               Domains| Domain Ownership ...|                    Full|    Domain Ownership ...|                              Renewal|Domains By Proxy ...|           24.0|Full Domain Priva...|        Renewal|              null|                null|                null|                null|                             null|                             null|              -1|                    -1|     legacy e-comm| 2022-05-01 14:02:13|            2022-05-01|                 null|mya_acctsettings_...|   Acct Settings - S...|          My Account|                   My Account|         1550|                    1|1307405|          null|       1|       1.000|               1|            12.00|                 9.99|                  9.99|                               9.99|       9.99|        9.99|                     9.99|              9.99|               9.99|              0.00|               0.00|                                 0.00|                                  0.00|        0.00|         0.00|                      9.99|                       9.99|              9.99|               9.99|       0.00|        0.00|                     9.99|                      9.99|       0.00|        0.00|                         9.99|                          9.99|                              0.00|                               0.00|                      0.00|                       0.00|                0.00|                 0.00|                            null|                       null|                              null|               USD|    null|               null|                   null|                    0|         Standard Price|               null|                         null|                  en-us|               null|                null|                null|                null|            false|         false|              false|               false|                   false|                 false|              false|               false|               false|                  false|                             false|      false|          false|                    true|                    false|          false|       false|                    null|                     Renewal|            Investor|           Portfolio Size|           false|                   false|             149|                  false|                             false|           false|             true|                   Web|      Web non-Care-init...|              Existing - Buying...|2022-05-17 04:28:04|ads_bill_line.py ...|                      2022-05|\n",
      "| 2099545802|            2|               US|             0|               1|           GOFX2001A|                  AA|           75219|          Online|       customer|                     null|              credit card|                        amex|                           |                              |                       2021-05-02|     $2.99 COM, new/tx...|                  4|                   9|                 24|                  2|               348|                          71|                    119|               Search|                   Search|              Google|              Domains|             Sarah Farebrother|          Go Daddy|  GoDaddy.com|               null|                   --|              Unknown|           null|                  null|                   Web|                         Web|    United States|            United States|            United States|            United States|                 United States|              United States|                        Domestic|        236586717|          236586717|                 1578438930|                               US|             2094518105|                   2022-04-23|                       2019-10-28|                 null|                    null|                         null|              null|                                null|                                          null|                          13|                  7-14 Active Domains|                   null|                null|                  null|                           null|                        null|                          null|               1|                  year|      Domain Registration|               Domains| Domain Name Regis...|                     COM|                     COM|                         New Purchase|  Bulk Registrations|            4.0|.COM Bulk Domain ...|   New Purchase|              null|                null|                null|                null|                             null|                             null|              -1|                    -1|     legacy e-comm| 2022-05-01 02:40:36|            2022-05-01|                 null|          dpp_absol1|   New absolute reg ...|Domain Purchase Path|         Domain Purchase Path|           88|                    1|    966|          null|       1|       1.000|               1|            12.00|                 3.17|                  3.17|                               3.17|       8.93|        8.93|                     8.93|              0.36|               0.36|              0.00|               0.00|                                 0.00|                                  0.00|        8.39|         8.39|                     20.17|                      20.17|             20.17|              20.17|       0.18|        0.18|                     8.75|                      8.75|       0.00|        0.00|                        12.17|                         12.17|                              0.00|                               0.00|                      0.00|                       0.00|                0.00|                 0.00|                            null|                       null|                              null|               USD|    null|               null|                   1676|                    0|         Standard Price|               null|                         null|                  en-us|               null|                null|                null|                null|            false|         false|              false|               false|                   false|                 false|              false|                true|               false|                  false|                             false|      false|          false|                    true|                    false|          false|       false|                    null|                New Purchase|      US Independent|           US First Order|           false|                    true|               1|                   true|                             false|           false|            false|                   Web|      Web non-Care-init...|              Existing - Buying...|2022-05-17 04:28:04|ads_bill_line.py ...|                      2022-05|\n",
      "|2099547106R|            2|               BR|        412668|               1|           GDBBG2470|                  PE|        51130050|          Online|       customer|                     null|                     null|                        null|                           |                              |                       2021-05-02|                  TE 2470|                  4|              227774|                 43|                  6|               275|                         290|                    167|   Database Marketing|          Marketing eMail|            Go Daddy|        Miscellaneous|               Oberzen Starkey|          Go Daddy|  GoDaddy.com|               null|                   --|              Unknown|    Ruiz, Chris|       Leonetti, Megan|                   Web|                         Web|           Brazil|      International - RoW|      Rest of World (RoW)|           RoW Portuguese|                        Brazil|                     Brazil|                   International|        476155590|          476155590|                       null|                               BR|             2097124741|                   2022-04-26|                             null|                 null|                    null|                         null|              null|                                null|                                          null|                           0|                     0 Active Domains|                   null|                null|                  null|                           null|                        null|                          null|               1|                  year|      Domain Registration|               Domains| Domain Name Regis...|                    SITE|               New gTLDs|                         New Purchase| Domain Registration|            2.0|.SITE Tier 1 Doma...|   New Purchase|              null|                null|                null|                null|                             null|                             null|      2099547106|                     2|     legacy e-comm| 2022-05-01 11:11:28|            2022-05-01|                 null|                null|                Unknown|             Unknown|                      Unknown|            8|                    1| 600588|          null|      -1|       1.000|              -1|           -12.00|                -2.18|                -10.85|                              -2.06|      -0.18|       -0.90|                    -0.17|              0.00|               4.97|              0.00|               0.00|                                 0.00|                                  0.00|        0.00|        -4.97|                    -40.39|                    -200.85|            -40.39|            -200.85|      -0.18|       -0.90|                     0.00|                      0.00|       0.00|        0.00|                        -2.18|                        -10.85|                              0.00|                               0.00|                      0.00|                       0.00|                0.00|                 0.00|                            null|                       null|                              null|               BRL|    null|               null|                   1676|                    0|         Standard Price|               null|                         null|                Missing|               null|                null|                null|                null|            false|         false|              false|               false|                   false|                 false|              false|                true|               false|                  false|                             false|       true|          false|                   false|                    false|          false|       false|                    null|                New Purchase|International Ind...|     International Fir...|           false|                   false|              43|                  false|                              true|           false|            false|                   Web|      Web non-Care-init...|              Existing - Buying...|2022-05-17 04:28:04|ads_bill_line.py ...|                      2022-05|\n",
      "|2099547106R|            3|               BR|        412668|               1|           GDBBG2470|                  PE|        51130050|          Online|       customer|                     null|                     null|                        null|                           |                              |                       2021-05-02|                  TE 2470|                  4|              227774|                 43|                  6|               275|                         290|                    167|   Database Marketing|          Marketing eMail|            Go Daddy|        Miscellaneous|               Oberzen Starkey|          Go Daddy|  GoDaddy.com|               null|                   --|              Unknown|    Ruiz, Chris|       Leonetti, Megan|                   Web|                         Web|           Brazil|      International - RoW|      Rest of World (RoW)|           RoW Portuguese|                        Brazil|                     Brazil|                   International|        476155590|          476155590|                       null|                               BR|             2097124741|                   2022-04-26|                             null|                 null|                    null|                         null|              null|                                null|                                          null|                           0|                     0 Active Domains|                   null|                null|                  null|                           null|                        null|                          null|               1|                  year|      Domain Registration|               Domains| Domain Name Regis...|                     COM|                     COM|                         New Purchase| Domain Registration|            2.0|.COM Domain Name ...|   New Purchase|              null|                null|                null|                null|                             null|                             null|      2099547106|                     3|     legacy e-comm| 2022-05-01 11:11:28|            2022-05-01|                 null|                null|                Unknown|             Unknown|                      Unknown|            8|                    1|    101|          null|      -1|       1.000|              -1|           -12.00|               -12.24|                -60.89|                             -11.57|      -0.18|       -0.90|                    -0.17|              0.00|              41.72|              0.00|               0.00|                                 0.00|                                  0.00|        0.00|       -41.72|                    -17.27|                     -85.89|            -17.27|             -85.89|      -0.18|       -0.90|                     0.00|                      0.00|       0.00|        0.00|                       -12.24|                        -60.89|                              0.00|                               0.00|                      0.00|                       0.00|                0.00|                 0.00|                            null|                       null|                              null|               BRL|    null|               null|                   1676|                    0|         Standard Price|               null|                         null|                Missing|               null|                null|                null|                null|            false|         false|              false|               false|                   false|                 false|              false|                true|               false|                  false|                             false|       true|          false|                   false|                    false|          false|       false|                    null|                New Purchase|International Ind...|     International Fir...|           false|                   false|              43|                  false|                              true|           false|            false|                   Web|      Web non-Care-init...|              Existing - Buying...|2022-05-17 04:28:04|ads_bill_line.py ...|                      2022-05|\n",
      "| 2099563219|            0|               IN|        432201|               1|           GDBBJ2472|                  BR|          824101|          Online|  ANSHUL THAKRE|                     null|              credit card|                        visa|                           |                              |                       2021-05-02|                  TE 2472|                  4|              227834|                 43|                  6|               275|                         290|                    167|   Database Marketing|          Marketing eMail|            Go Daddy|        Miscellaneous|               Oberzen Starkey|          Go Daddy|  GoDaddy.com|               null|                   --|              Unknown| THAKRE, ANSHUL|    Deepika, Kanukunta|            C3 Support|             India - Genpact|            India|     International - T...|                    India|                    India|                         India|                      India|                   International|        261086373|          261086373|                       null|                               IN|             1643860359|                   2020-03-02|                             null|                 null|                    null|                         null|              null|                                null|                                          null|                           1|                      1 Active Domain|                   null|                null|                  null|                           null|                        null|                          null|               1|                  year|      Domain Registration|               Domains| Domain Name Regis...|                   CO.IN|              Geo ccTLDs|                         New Purchase| Domain Registration|            2.0|.IN (.CO.IN) Doma...|   New Purchase|              null|                null|                null|                null|                             null|                             null|              -1|                    -1|     legacy e-comm| 2022-05-01 08:10:53|            2022-05-01|                 null|          dpp_absol1|   New absolute reg ...|Domain Purchase Path|         Domain Purchase Path|            8|                    1|  41000|          null|       1|       1.000|               1|            12.00|                 5.23|                399.00|                               5.43|       5.23|      399.23|                     5.43|              1.21|              92.36|              0.00|               0.00|                                 0.00|                                  0.00|        4.02|       306.87|                      8.50|                     649.00|              8.50|             649.00|       0.00|        0.00|                     5.23|                    399.23|       0.94|       71.82|                         5.23|                        399.00|                              0.00|                               0.00|                      0.00|                       0.00|                0.00|                 0.00|                            null|                       null|                              null|               INR|    null|               null|                   1677|                    0|         Standard Price|               null|                         null|                Missing|                 XX|           Send Cart|                null|                null|            false|         false|              false|               false|                   false|                 false|              false|                true|                true|                  false|                             false|      false|          false|                    true|                    false|          false|        true|                  Direct|                New Purchase|International Ind...|     International Fir...|           false|                   false|              43|                  false|                              true|           false|            false|                   Web|        Web Care-initiated|              Existing - Buying...|2022-05-17 04:28:04|ads_bill_line.py ...|                      2022-05|\n",
      "| 2099583251|            1|               US|             0|               1|                 ???|                  OK|           73110|          Online|       customer|                     null|              credit card|                  mastercard|                           |                              |                       2021-05-02|                  Unknown|               null|                null|                 28|               null|              null|                        null|                   null|             Branding|                  Unknown|             Unknown|              Unknown|                       Unknown|          Go Daddy|  GoDaddy.com|               null|                   --|              Unknown|           null|                  null|                   Web|                         Web|    United States|            United States|            United States|            United States|                 United States|              United States|                        Domestic|        459622654|          459622654|                 2021698831|                               US|             2028328616|                   2022-01-31|                       2022-01-22|                 null|                    null|                         null|              null|                                null|                                          null|                           1|                      1 Active Domain|                   null|                null|                  null|                           null|                        null|                          null|               1|                 month|              Web Hosting|               Hosting| WordPress Managed...|                  Add On|    WordPress Managed...|                              Renewal|Shared Account Ad...|          491.0|       Renewal Usage|        Renewal|              null|                null|                null|                null|                             null|                             null|              -1|                    -1|     legacy e-comm| 2022-05-01 12:25:46|            2022-05-01|                 null|mya_acctsettings_...|   Acct Settings - S...|          My Account|                   My Account|         1003|                    1| 562250|          null|       1|       1.000|               1|             1.00|                 0.00|                  0.00|                               0.00|       0.00|        0.00|                     0.00|              0.00|               0.00|              0.00|               0.00|                                 0.00|                                  0.00|        0.00|         0.00|                      0.00|                       0.00|              0.00|               0.00|       0.00|        0.00|                     0.00|                      0.00|       0.00|        0.00|                         0.00|                          0.00|                              0.00|                               0.00|                      0.00|                       0.00|                0.00|                 0.00|                            null|                       null|                              null|               USD|    null|               null|                   null|                    0|         Standard Price|               null|                         null|                  en-us|               null|                null|                null|                null|            false|         false|              false|               false|                   false|                 false|               true|               false|               false|                  false|                             false|      false|          false|                   false|                    false|          false|       false|                    null|                     Renewal|      US Independent|           US First Order|           false|                   false|              27|                  false|                             false|            true|            false|                   Web|      Web non-Care-init...|                    Existing - New|2022-05-17 04:28:04|ads_bill_line.py ...|                      2022-05|\n",
      "+-----------+-------------+-----------------+--------------+----------------+--------------------+--------------------+----------------+----------------+---------------+-------------------------+-------------------------+----------------------------+---------------------------+------------------------------+---------------------------------+-------------------------+-------------------+--------------------+-------------------+-------------------+------------------+----------------------------+-----------------------+---------------------+-------------------------+--------------------+---------------------+------------------------------+------------------+-------------+-------------------+---------------------+---------------------+---------------+----------------------+----------------------+----------------------------+-----------------+-------------------------+-------------------------+-------------------------+------------------------------+---------------------------+--------------------------------+-----------------+-------------------+---------------------------+---------------------------------+-----------------------+-----------------------------+---------------------------------+---------------------+------------------------+-----------------------------+------------------+------------------------------------+----------------------------------------------+----------------------------+-------------------------------------+-----------------------+--------------------+----------------------+-------------------------------+----------------------------+------------------------------+----------------+----------------------+-------------------------+----------------------+---------------------+------------------------+------------------------+-------------------------------------+--------------------+---------------+--------------------+---------------+------------------+--------------------+--------------------+--------------------+---------------------------------+---------------------------------+----------------+----------------------+------------------+--------------------+----------------------+---------------------+--------------------+-----------------------+--------------------+-----------------------------+-------------+---------------------+-------+--------------+--------+------------+----------------+-----------------+---------------------+----------------------+-----------------------------------+-----------+------------+-------------------------+------------------+-------------------+------------------+-------------------+-------------------------------------+--------------------------------------+------------+-------------+--------------------------+---------------------------+------------------+-------------------+-----------+------------+-------------------------+--------------------------+-----------+------------+-----------------------------+------------------------------+----------------------------------+-----------------------------------+--------------------------+---------------------------+--------------------+---------------------+--------------------------------+---------------------------+----------------------------------+------------------+--------+-------------------+-----------------------+---------------------+-----------------------+-------------------+-----------------------------+-----------------------+-------------------+--------------------+--------------------+--------------------+-----------------+--------------+-------------------+--------------------+------------------------+----------------------+-------------------+--------------------+--------------------+-----------------------+----------------------------------+-----------+---------------+------------------------+-------------------------+---------------+------------+------------------------+----------------------------+--------------------+-------------------------+----------------+------------------------+----------------+-----------------------+----------------------------------+----------------+-----------------+----------------------+--------------------------+----------------------------------+-------------------+--------------------+-----------------------------+"
     ]
    }
   ],
   "source": [
    "df.show()"
   ]
  },
  {
   "cell_type": "code",
   "execution_count": 4,
   "id": "0d8f33a8",
   "metadata": {},
   "outputs": [
    {
     "data": {
      "application/vnd.jupyter.widget-view+json": {
       "model_id": "",
       "version_major": 2,
       "version_minor": 0
      },
      "text/plain": [
       "FloatProgress(value=0.0, bar_style='info', description='Progress:', layout=Layout(height='25px', width='50%'),…"
      ]
     },
     "metadata": {},
     "output_type": "display_data"
    }
   ],
   "source": [
    "# required to enable explain plan\n",
    "from py4j.java_gateway import java_import\n",
    "java_import(spark._sc._jvm, \"org.apache.spark.sql.api.python.*\")"
   ]
  },
  {
   "cell_type": "code",
   "execution_count": 1,
   "id": "687cc4b7",
   "metadata": {
    "scrolled": true
   },
   "outputs": [
    {
     "name": "stdout",
     "output_type": "stream",
     "text": [
      "Starting Spark application\n"
     ]
    },
    {
     "data": {
      "text/html": [
       "<table>\n",
       "<tr><th>ID</th><th>YARN Application ID</th><th>Kind</th><th>State</th><th>Spark UI</th><th>Driver log</th><th>User</th><th>Current session?</th></tr><tr><td>6</td><td>application_1659375682136_0008</td><td>pyspark</td><td>idle</td><td><a target=\"_blank\" href=\"http://ip-192-168-8-83.us-west-2.compute.internal:20888/proxy/application_1659375682136_0008/\">Link</a></td><td><a target=\"_blank\" href=\"http://ip-192-168-11-35.us-west-2.compute.internal:8042/node/containerlogs/container_1659375682136_0008_01_000001/livy\">Link</a></td><td>None</td><td>✔</td></tr></table>"
      ],
      "text/plain": [
       "<IPython.core.display.HTML object>"
      ]
     },
     "metadata": {},
     "output_type": "display_data"
    },
    {
     "data": {
      "application/vnd.jupyter.widget-view+json": {
       "model_id": "",
       "version_major": 2,
       "version_minor": 0
      },
      "text/plain": [
       "FloatProgress(value=0.0, bar_style='info', description='Progress:', layout=Layout(height='25px', width='50%'),…"
      ]
     },
     "metadata": {},
     "output_type": "display_data"
    },
    {
     "name": "stdout",
     "output_type": "stream",
     "text": [
      "SparkSession available as 'spark'.\n"
     ]
    },
    {
     "data": {
      "application/vnd.jupyter.widget-view+json": {
       "model_id": "",
       "version_major": 2,
       "version_minor": 0
      },
      "text/plain": [
       "FloatProgress(value=0.0, bar_style='info', description='Progress:', layout=Layout(height='25px', width='50%'),…"
      ]
     },
     "metadata": {},
     "output_type": "display_data"
    },
    {
     "name": "stdout",
     "output_type": "stream",
     "text": [
      "+-----------------+----------+-----------------------+------------------------+--------+---------------------+\n",
      "|merged_shopper_id|bill_id   |bill_modified_mst_ts   |product_pnl_line_name   |unit_qty|receipt_price_usd_amt|\n",
      "+-----------------+----------+-----------------------+------------------------+--------+---------------------+\n",
      "|292787210        |2109454345|2022-05-24 06:40:40    |Virtual Hosting         |1       |102.54               |\n",
      "|292787210        |2109454345|2022-05-24 06:40:40    |Virtual Hosting         |1       |11.60                |\n",
      "|292787210        |2097138481|2022-04-24 20:58:05    |Virtual Hosting         |1       |104.13               |\n",
      "|292787210        |2097138481|2022-04-24 20:58:05    |Virtual Hosting         |1       |11.78                |\n",
      "|292787210        |2064633178|2022-03-16 23:32:57    |Virtual Hosting         |1       |11.78                |\n",
      "|292787210        |2064633178|2022-03-16 23:32:57    |Virtual Hosting         |1       |104.13               |\n",
      "|292787210        |2064633523|2022-03-16 23:31:41.947|Web Pro                 |1       |0.00                 |\n",
      "|292787210        |2040808028|2022-02-17 06:49:11    |Domain Name Registration|1       |40.17                |\n",
      "|292787210        |2040808028|2022-02-17 06:49:11    |Virtual Hosting         |1       |105.72               |\n",
      "|292787210        |2040808028|2022-02-17 06:49:11    |Domain Name Registration|1       |13.46                |\n",
      "|292787210        |2040808028|2022-02-17 06:49:11    |Virtual Hosting         |1       |11.96                |\n",
      "|292787210        |2014841241|2022-01-14 01:31:21    |Domain Name Registration|1       |13.67                |\n",
      "|292787210        |1986348716|2022-01-14 01:27:31    |Virtual Hosting         |1       |12.14                |\n",
      "|292787210        |1986348716|2022-01-14 01:27:31    |Virtual Hosting         |1       |107.31               |\n",
      "+-----------------+----------+-----------------------+------------------------+--------+---------------------+"
     ]
    }
   ],
   "source": [
    "orders = spark.sql(\"\"\"\n",
    "select\n",
    "  merged_shopper_id,\n",
    "  bill_id,\n",
    "  bill_modified_mst_ts,\n",
    "  product_pnl_line_name,\n",
    "  unit_qty,\n",
    "  receipt_price_usd_amt\n",
    "from tecton_dev.ads_bill_line \n",
    "where merged_shopper_id = '292787210'\n",
    "order by bill_modified_mst_ts desc\n",
    "\"\"\")\n",
    "orders.show(truncate=False)"
   ]
  },
  {
   "cell_type": "markdown",
   "id": "afc7fc2f",
   "metadata": {},
   "source": [
    "## Test customer_last_order_90d"
   ]
  },
  {
   "cell_type": "markdown",
   "id": "3c5c5a3f",
   "metadata": {},
   "source": [
    "### run"
   ]
  },
  {
   "cell_type": "code",
   "execution_count": 2,
   "id": "bac8f391",
   "metadata": {},
   "outputs": [
    {
     "data": {
      "application/vnd.jupyter.widget-view+json": {
       "model_id": "",
       "version_major": 2,
       "version_minor": 0
      },
      "text/plain": [
       "FloatProgress(value=0.0, bar_style='info', description='Progress:', layout=Layout(height='25px', width='50%'),…"
      ]
     },
     "metadata": {},
     "output_type": "display_data"
    },
    {
     "name": "stdout",
     "output_type": "stream",
     "text": [
      "1792"
     ]
    }
   ],
   "source": [
    "import tecton\n",
    "from datetime import date, datetime, timedelta\n",
    "\n",
    "ws = tecton.get_workspace('jfarr')\n",
    "fv = ws.get_feature_view('customer_last_order_90d')\n",
    "\n",
    "df = fv.run(start_time=datetime(2022, 1, 1), end_time=datetime.now()).to_spark()\n",
    "df.count()"
   ]
  },
  {
   "cell_type": "code",
   "execution_count": 3,
   "id": "042bf959",
   "metadata": {},
   "outputs": [
    {
     "data": {
      "application/vnd.jupyter.widget-view+json": {
       "model_id": "",
       "version_major": 2,
       "version_minor": 0
      },
      "text/plain": [
       "FloatProgress(value=0.0, bar_style='info', description='Progress:', layout=Layout(height='25px', width='50%'),…"
      ]
     },
     "metadata": {},
     "output_type": "display_data"
    },
    {
     "name": "stdout",
     "output_type": "stream",
     "text": [
      "+----------+-------------------+-----------------------+----------------------------+-------------+-------------------------+----------------------+-----------------+------------------+\n",
      "|shopper_id|      window_end_ts|crm_portfolio_type_name|c3_call_center_location_name|reseller_name|primary_payment_type_name|point_of_purchase_name|bill_sub_geo_code|purchase_path_name|\n",
      "+----------+-------------------+-----------------------+----------------------------+-------------+-------------------------+----------------------+-----------------+------------------+\n",
      "| 292787210|2022-01-14 01:31:21|                   null|                         Web|  GoDaddy.com|                 ccavenue|                   Web|               MH|        My Account|\n",
      "| 292787210|2022-02-17 06:49:11|                   null|                         Web|  GoDaddy.com|                 ccavenue|                   Web|               MH|        My Account|\n",
      "| 292787210|2022-04-24 20:58:05|                   null|                         Web|  GoDaddy.com|             bank payment|                   Web|               MH|        My Account|\n",
      "| 292787210|2022-05-24 06:40:40|                   null|                         Web|  GoDaddy.com|             bank payment|                   Web|               MH|        My Account|\n",
      "| 292787210|2022-03-16 23:32:57|                   null|                         Web|  GoDaddy.com|             bank payment|                   Web|               MH|        My Account|\n",
      "+----------+-------------------+-----------------------+----------------------------+-------------+-------------------------+----------------------+-----------------+------------------+"
     ]
    }
   ],
   "source": [
    "df2 = df.filter(df.shopper_id == '292787210')\n",
    "df2.show()"
   ]
  },
  {
   "cell_type": "code",
   "execution_count": 5,
   "id": "f0c47fbc",
   "metadata": {
    "scrolled": false
   },
   "outputs": [
    {
     "data": {
      "application/vnd.jupyter.widget-view+json": {
       "model_id": "",
       "version_major": 2,
       "version_minor": 0
      },
      "text/plain": [
       "FloatProgress(value=0.0, bar_style='info', description='Progress:', layout=Layout(height='25px', width='50%'),…"
      ]
     },
     "metadata": {},
     "output_type": "display_data"
    },
    {
     "name": "stdout",
     "output_type": "stream",
     "text": [
      "== Physical Plan ==\n",
      "Project (3)\n",
      "+- Filter (2)\n",
      "   +- Scan parquet tecton_dev.ads_bill_line (1)\n",
      "\n",
      "\n",
      "(1) Scan parquet tecton_dev.ads_bill_line\n",
      "Output [184]: [bill_id#1201, bill_line_num#1202, bill_country_code#1203, rep_version_id#1204, private_label_id#1205, bill_isc_source_code#1206, bill_sub_geo_code#1207, bill_postal_code#1208, bill_source_name#1209, entered_by_name#1210, translation_language_name#1211, primary_payment_type_name#1212, primary_payment_subtype_name#1213, secondary_payment_type_name#1214, secondary_payment_subtype_name#1215, bill_modified_mst_date_prior_year#1216, bill_isc_source_code_desc#1217, bill_isc_company_id#1218, bill_isc_campaign_id#1219, bill_isc_channel_id#1220, bill_isc_product_id#1221, bill_isc_vendor_id#1222, bill_isc_media_specialist_id#1223, bill_isc_sub_channel_id#1224, bill_isc_channel_name#1225, bill_isc_sub_channel_name#1226, bill_isc_vendor_name#1227, bill_isc_product_name#1228, bill_isc_media_specialist_name#1229, reseller_type_name#1230, reseller_name#1231, reseller_shopper_id#1232, reseller_country_code#1233, reseller_country_name#1234, c3_rep_name#1235, c3_rep_supervisor_name#1236, c3_rep_department_name#1237, c3_call_center_location_name#1238, bill_country_name#1239, bill_report_region_1_name#1240, bill_report_region_2_name#1241, bill_report_region_3_name#1242, bill_report_focal_country_name#1243, bill_report_sub_region_name#1244, bill_domestic_international_name#1245, merged_shopper_id#1246, original_shopper_id#1247, new_registered_user_bill_id#1248, new_acquisition_bill_country_code#1249, new_acquisition_bill_id#1250, new_acquisition_bill_mst_date#1251, new_registered_user_bill_mst_date#1252, federation_partner_id#1253, federation_friendly_name#1254, web_pro_participant_type_name#1255, web_pro_shopper_id#1256, original_shopper_exclude_reason_desc#1257, original_shopper_exclude_reason_month_end_desc#1258, shopper_domain_portfolio_qty#1259, shopper_domain_portfolio_segment_name#1260, crm_portfolio_type_name#1261, crm_portfolio_rep_id#1262, crm_portfolio_rep_name#1263, current_crm_portfolio_type_name#1264, current_crm_portfolio_rep_id#1265, current_crm_portfolio_rep_name#1266, product_term_num#1267, product_term_unit_desc#1268, product_pnl_category_name#1269, product_pnl_group_name#1270, product_pnl_line_name#1271, product_pnl_subline_name#1272, product_pnl_version_name#1273, original_product_pnl_new_renewal_name#1274, product_type_desc#1275, product_type_id#1276, product_name#1277, pnl_new_renewal#1278, bill_fraud_flag_ts#1279, bill_fraud_flag_date#1280, bill_fraud_review_id#1281, free_trial_type_desc#1282, free_trial_target_expiration_date#1283, product_free_trial_acquisition_ts#1284, original_bill_id#1285, original_bill_line_num#1286, source_system_name#1287, bill_modified_mst_ts#1288, bill_modified_mst_date#1289, subaccount_shopper_id#1290, item_tracking_code#1291, item_tracking_code_desc#1292, purchase_path_name#1293, purchase_path_attributed_name#1294, department_id#1295, accounting_company_id#1296, pf_id#1297, upgraded_pf_id#1298, unit_qty#1299, duration_qty#1300, product_unit_qty#1301, product_month_qty#1302, receipt_price_usd_amt#1303, receipt_price_trxn_amt#1304, receipt_price_constant_currency_amt#1305, gcr_usd_amt#1306, gcr_trxn_amt#1307, gcr_constant_currency_amt#1308, margin_gcr_usd_amt#1309, margin_gcr_trxn_amt#1310, commission_usd_amt#1311, commission_trxn_amt#1312, aftermarket_seller_commission_usd_amt#1313, aftermarket_seller_commission_trxn_amt#1314, cost_usd_amt#1315, cost_trxn_amt#1316, msrp_duration_unit_usd_amt#1317, msrp_duration_unit_trxn_amt#1318, msrp_total_usd_amt#1319, msrp_total_trxn_amt#1320, fee_usd_amt#1321, fee_trxn_amt#1322, fair_market_value_usd_amt#1323, fair_market_value_trxn_amt#1324, tax_usd_amt#1325, tax_trxn_amt#1326, receipt_regular_price_usd_amt#1327, receipt_regular_price_trxn_amt#1328, injected_fair_market_value_usd_amt#1329, injected_fair_market_value_trxn_amt#1330, injected_icann_fee_usd_amt#1331, injected_icann_fee_trxn_amt#1332, injected_tax_usd_amt#1333, injected_tax_trxn_amt#1334, bundle_allocated_revenue_usd_amt#1335, reseller_commission_usd_amt#1336, parent_reseller_commission_usd_amt#1337, trxn_currency_code#1338, offer_id#1339, offer_collection_id#1340, free_product_package_id#1341, variant_price_type_id#1342, variant_price_type_name#1343, exclude_reason_desc#1344, exclude_reason_month_end_desc#1345, bill_site_language_code#1346, c3_bill_source_code#1347, c3_bill_process_name#1348, free_trial_bill_type#1349, free_trial_bill_date#1350, virtual_bill_flag#1351, free_bill_flag#1352, bill_isc_viral_flag#1353, new_acquisition_flag#1354, new_registered_user_flag#1355, product_free_term_flag#1356, units_as_bills_flag#1357, primary_product_flag#1358, c3_receipt_move_flag#1359, product_free_trial_flag#1360, product_free_trial_conversion_flag#1361, refund_flag#1362, chargeback_flag#1363, accounting_deferred_flag#1364, renewal_price_locked_flag#1365, bill_fraud_flag#1366, c3_bill_flag#1367, c3_attribution_type_name#1368, product_pnl_new_renewal_name#1369, customer_type_name#1370, customer_type_reason_desc#1371, domain_bulk_flag#1372, domain_bulk_pricing_flag#1373, pnl_priority_num#1374, pnl_us_independent_flag#1375, pnl_international_independent_flag#1376, pnl_partner_flag#1377, pnl_investor_flag#1378, point_of_purchase_name#1379, sub_point_of_purchase_name#1380, shopper_product_purchase_type_name#1381, etl_build_mst_ts#1382, source_process_name#1383, partition_bill_mst_year_month#1384]\n",
      "Batched: false\n",
      "Location: InMemoryFileIndex [s3://gd-gdmltecton-stage-athena-queries/GD-AWS-USA-GD-gdmltecton-Ops/ads_bill_line]\n",
      "PushedFilters: [IsNotNull(partition_bill_mst_year_month), GreaterThanOrEqual(partition_bill_mst_year_month,2021-11), LessThanOrEqual(partition_bill_mst_year_month,2022-08)]\n",
      "ReadSchema: struct<bill_id:string,bill_line_num:int,bill_country_code:string,rep_version_id:int,private_label_id:int,bill_isc_source_code:string,bill_sub_geo_code:string,bill_postal_code:string,bill_source_name:string,entered_by_name:string,translation_language_name:string,primary_payment_type_name:string,primary_payment_subtype_name:string,secondary_payment_type_name:string,secondary_payment_subtype_name:string,bill_modified_mst_date_prior_year:date,bill_isc_source_code_desc:string,bill_isc_company_id:int,bill_isc_campaign_id:int,bill_isc_channel_id:int,bill_isc_product_id:int,bill_isc_vendor_id:int,bill_isc_media_specialist_id:int,bill_isc_sub_channel_id:int,bill_isc_channel_name:string,bill_isc_sub_channel_name:string,bill_isc_vendor_name:string,bill_isc_product_name:string,bill_isc_media_specialist_name:string,reseller_type_name:string,reseller_name:string,reseller_shopper_id:string,reseller_country_code:string,reseller_country_name:string,c3_rep_name:string,c3_rep_supervisor_name:string,c3_rep_department_name:string,c3_call_center_location_name:string,bill_country_name:string,bill_report_region_1_name:string,bill_report_region_2_name:string,bill_report_region_3_name:string,bill_report_focal_country_name:string,bill_report_sub_region_name:string,bill_domestic_international_name:string,merged_shopper_id:string,original_shopper_id:string,new_registered_user_bill_id:string,new_acquisition_bill_country_code:string,new_acquisition_bill_id:string,new_acquisition_bill_mst_date:date,new_registered_user_bill_mst_date:date,federation_partner_id:string,federation_friendly_name:string,web_pro_participant_type_name:string,web_pro_shopper_id:string,original_shopper_exclude_reason_desc:string,original_shopper_exclude_reason_month_end_desc:string,shopper_domain_portfolio_qty:int,shopper_domain_portfolio_segment_name:string,crm_portfolio_type_name:string,crm_portfolio_rep_id:int,crm_portfolio_rep_name:string,current_crm_portfolio_type_name:string,current_crm_portfolio_rep_id:int,current_crm_portfolio_rep_name:string,product_term_num:int,product_term_unit_desc:string,product_pnl_category_name:string,product_pnl_group_name:string,product_pnl_line_name:string,product_pnl_subline_name:string,product_pnl_version_name:string,original_product_pnl_new_renewal_name:string,product_type_desc:string,product_type_id:double,product_name:string,pnl_new_renewal:string,bill_fraud_flag_ts:string,bill_fraud_flag_date:date,bill_fraud_review_id:int,free_trial_type_desc:string,free_trial_target_expiration_date:date,product_free_trial_acquisition_ts:string,original_bill_id:string,original_bill_line_num:int,source_system_name:string,bill_modified_mst_ts:string,bill_modified_mst_date:date,subaccount_shopper_id:string,item_tracking_code:string,item_tracking_code_desc:string,purchase_path_name:string,purchase_path_attributed_name:string,department_id:int,accounting_company_id:int,pf_id:int,upgraded_pf_id:int,unit_qty:int,duration_qty:decimal(18,3),product_unit_qty:int,product_month_qty:decimal(18,2),receipt_price_usd_amt:decimal(18,2),receipt_price_trxn_amt:decimal(18,2),receipt_price_constant_currency_amt:decimal(18,2),gcr_usd_amt:decimal(18,2),gcr_trxn_amt:decimal(18,2),gcr_constant_currency_amt:decimal(18,2),margin_gcr_usd_amt:decimal(18,2),margin_gcr_trxn_amt:decimal(18,2),commission_usd_amt:decimal(18,2),commission_trxn_amt:decimal(18,2),aftermarket_seller_commission_usd_amt:decimal(18,2),aftermarket_seller_commission_trxn_amt:decimal(18,2),cost_usd_amt:decimal(18,2),cost_trxn_amt:decimal(18,2),msrp_duration_unit_usd_amt:decimal(18,2),msrp_duration_unit_trxn_amt:decimal(18,2),msrp_total_usd_amt:decimal(18,2),msrp_total_trxn_amt:decimal(18,2),fee_usd_amt:decimal(18,2),fee_trxn_amt:decimal(18,2),fair_market_value_usd_amt:decimal(18,2),fair_market_value_trxn_amt:decimal(18,2),tax_usd_amt:decimal(18,2),tax_trxn_amt:decimal(18,2),receipt_regular_price_usd_amt:decimal(18,2),receipt_regular_price_trxn_amt:decimal(18,2),injected_fair_market_value_usd_amt:decimal(18,2),injected_fair_market_value_trxn_amt:decimal(18,2),injected_icann_fee_usd_amt:decimal(18,2),injected_icann_fee_trxn_amt:decimal(18,2),injected_tax_usd_amt:decimal(18,2),injected_tax_trxn_amt:decimal(18,2),bundle_allocated_revenue_usd_amt:decimal(18,2),reseller_commission_usd_amt:decimal(18,2),parent_reseller_commission_usd_amt:decimal(18,2),trxn_currency_code:string,offer_id:int,offer_collection_id:int,free_product_package_id:int,variant_price_type_id:int,variant_price_type_name:string,exclude_reason_desc:string,exclude_reason_month_end_desc:string,bill_site_language_code:string,c3_bill_source_code:string,c3_bill_process_name:string,free_trial_bill_type:string,free_trial_bill_date:date,virtual_bill_flag:boolean,free_bill_flag:boolean,bill_isc_viral_flag:boolean,new_acquisition_flag:boolean,new_registered_user_flag:boolean,product_free_term_flag:boolean,units_as_bills_flag:boolean,primary_product_flag:boolean,c3_receipt_move_flag:boolean,product_free_trial_flag:boolean,product_free_trial_conversion_flag:boolean,refund_flag:boolean,chargeback_flag:boolean,accounting_deferred_flag:boolean,renewal_price_locked_flag:boolean,bill_fraud_flag:boolean,c3_bill_flag:boolean,c3_attribution_type_name:string,product_pnl_new_renewal_name:string,customer_type_name:string,customer_type_reason_desc:string,domain_bulk_flag:boolean,domain_bulk_pricing_flag:boolean,pnl_priority_num:int,pnl_us_independent_flag:boolean,pnl_international_independent_flag:boolean,pnl_partner_flag:boolean,pnl_investor_flag:boolean,point_of_purchase_name:string,sub_point_of_purchase_name:string,shopper_product_purchase_type_name:string,etl_build_mst_ts:string,source_process_name:string,partition_bill_mst_year_month:string>\n",
      "\n",
      "(2) Filter\n",
      "Input [184]: [bill_id#1201, bill_line_num#1202, bill_country_code#1203, rep_version_id#1204, private_label_id#1205, bill_isc_source_code#1206, bill_sub_geo_code#1207, bill_postal_code#1208, bill_source_name#1209, entered_by_name#1210, translation_language_name#1211, primary_payment_type_name#1212, primary_payment_subtype_name#1213, secondary_payment_type_name#1214, secondary_payment_subtype_name#1215, bill_modified_mst_date_prior_year#1216, bill_isc_source_code_desc#1217, bill_isc_company_id#1218, bill_isc_campaign_id#1219, bill_isc_channel_id#1220, bill_isc_product_id#1221, bill_isc_vendor_id#1222, bill_isc_media_specialist_id#1223, bill_isc_sub_channel_id#1224, bill_isc_channel_name#1225, bill_isc_sub_channel_name#1226, bill_isc_vendor_name#1227, bill_isc_product_name#1228, bill_isc_media_specialist_name#1229, reseller_type_name#1230, reseller_name#1231, reseller_shopper_id#1232, reseller_country_code#1233, reseller_country_name#1234, c3_rep_name#1235, c3_rep_supervisor_name#1236, c3_rep_department_name#1237, c3_call_center_location_name#1238, bill_country_name#1239, bill_report_region_1_name#1240, bill_report_region_2_name#1241, bill_report_region_3_name#1242, bill_report_focal_country_name#1243, bill_report_sub_region_name#1244, bill_domestic_international_name#1245, merged_shopper_id#1246, original_shopper_id#1247, new_registered_user_bill_id#1248, new_acquisition_bill_country_code#1249, new_acquisition_bill_id#1250, new_acquisition_bill_mst_date#1251, new_registered_user_bill_mst_date#1252, federation_partner_id#1253, federation_friendly_name#1254, web_pro_participant_type_name#1255, web_pro_shopper_id#1256, original_shopper_exclude_reason_desc#1257, original_shopper_exclude_reason_month_end_desc#1258, shopper_domain_portfolio_qty#1259, shopper_domain_portfolio_segment_name#1260, crm_portfolio_type_name#1261, crm_portfolio_rep_id#1262, crm_portfolio_rep_name#1263, current_crm_portfolio_type_name#1264, current_crm_portfolio_rep_id#1265, current_crm_portfolio_rep_name#1266, product_term_num#1267, product_term_unit_desc#1268, product_pnl_category_name#1269, product_pnl_group_name#1270, product_pnl_line_name#1271, product_pnl_subline_name#1272, product_pnl_version_name#1273, original_product_pnl_new_renewal_name#1274, product_type_desc#1275, product_type_id#1276, product_name#1277, pnl_new_renewal#1278, bill_fraud_flag_ts#1279, bill_fraud_flag_date#1280, bill_fraud_review_id#1281, free_trial_type_desc#1282, free_trial_target_expiration_date#1283, product_free_trial_acquisition_ts#1284, original_bill_id#1285, original_bill_line_num#1286, source_system_name#1287, bill_modified_mst_ts#1288, bill_modified_mst_date#1289, subaccount_shopper_id#1290, item_tracking_code#1291, item_tracking_code_desc#1292, purchase_path_name#1293, purchase_path_attributed_name#1294, department_id#1295, accounting_company_id#1296, pf_id#1297, upgraded_pf_id#1298, unit_qty#1299, duration_qty#1300, product_unit_qty#1301, product_month_qty#1302, receipt_price_usd_amt#1303, receipt_price_trxn_amt#1304, receipt_price_constant_currency_amt#1305, gcr_usd_amt#1306, gcr_trxn_amt#1307, gcr_constant_currency_amt#1308, margin_gcr_usd_amt#1309, margin_gcr_trxn_amt#1310, commission_usd_amt#1311, commission_trxn_amt#1312, aftermarket_seller_commission_usd_amt#1313, aftermarket_seller_commission_trxn_amt#1314, cost_usd_amt#1315, cost_trxn_amt#1316, msrp_duration_unit_usd_amt#1317, msrp_duration_unit_trxn_amt#1318, msrp_total_usd_amt#1319, msrp_total_trxn_amt#1320, fee_usd_amt#1321, fee_trxn_amt#1322, fair_market_value_usd_amt#1323, fair_market_value_trxn_amt#1324, tax_usd_amt#1325, tax_trxn_amt#1326, receipt_regular_price_usd_amt#1327, receipt_regular_price_trxn_amt#1328, injected_fair_market_value_usd_amt#1329, injected_fair_market_value_trxn_amt#1330, injected_icann_fee_usd_amt#1331, injected_icann_fee_trxn_amt#1332, injected_tax_usd_amt#1333, injected_tax_trxn_amt#1334, bundle_allocated_revenue_usd_amt#1335, reseller_commission_usd_amt#1336, parent_reseller_commission_usd_amt#1337, trxn_currency_code#1338, offer_id#1339, offer_collection_id#1340, free_product_package_id#1341, variant_price_type_id#1342, variant_price_type_name#1343, exclude_reason_desc#1344, exclude_reason_month_end_desc#1345, bill_site_language_code#1346, c3_bill_source_code#1347, c3_bill_process_name#1348, free_trial_bill_type#1349, free_trial_bill_date#1350, virtual_bill_flag#1351, free_bill_flag#1352, bill_isc_viral_flag#1353, new_acquisition_flag#1354, new_registered_user_flag#1355, product_free_term_flag#1356, units_as_bills_flag#1357, primary_product_flag#1358, c3_receipt_move_flag#1359, product_free_trial_flag#1360, product_free_trial_conversion_flag#1361, refund_flag#1362, chargeback_flag#1363, accounting_deferred_flag#1364, renewal_price_locked_flag#1365, bill_fraud_flag#1366, c3_bill_flag#1367, c3_attribution_type_name#1368, product_pnl_new_renewal_name#1369, customer_type_name#1370, customer_type_reason_desc#1371, domain_bulk_flag#1372, domain_bulk_pricing_flag#1373, pnl_priority_num#1374, pnl_us_independent_flag#1375, pnl_international_independent_flag#1376, pnl_partner_flag#1377, pnl_investor_flag#1378, point_of_purchase_name#1379, sub_point_of_purchase_name#1380, shopper_product_purchase_type_name#1381, etl_build_mst_ts#1382, source_process_name#1383, partition_bill_mst_year_month#1384]\n",
      "Condition : ((((isnotnull(partition_bill_mst_year_month#1384) AND (partition_bill_mst_year_month#1384 >= 2021-11)) AND (partition_bill_mst_year_month#1384 <= 2022-08)) AND (coalesce(cast(bill_modified_mst_ts#1288 as timestamp), cast(bill_modified_mst_ts#1288 as timestamp)) >= 1636502400000000)) AND (coalesce(cast(bill_modified_mst_ts#1288 as timestamp), cast(bill_modified_mst_ts#1288 as timestamp)) < 1659312000000000))\n",
      "\n",
      "(3) Project\n",
      "Output [184]: [bill_id#1201, bill_line_num#1202, bill_country_code#1203, rep_version_id#1204, private_label_id#1205, bill_isc_source_code#1206, bill_sub_geo_code#1207, bill_postal_code#1208, bill_source_name#1209, entered_by_name#1210, translation_language_name#1211, primary_payment_type_name#1212, primary_payment_subtype_name#1213, secondary_payment_type_name#1214, secondary_payment_subtype_name#1215, bill_modified_mst_date_prior_year#1216, bill_isc_source_code_desc#1217, bill_isc_company_id#1218, bill_isc_campaign_id#1219, bill_isc_channel_id#1220, bill_isc_product_id#1221, bill_isc_vendor_id#1222, bill_isc_media_specialist_id#1223, bill_isc_sub_channel_id#1224, bill_isc_channel_name#1225, bill_isc_sub_channel_name#1226, bill_isc_vendor_name#1227, bill_isc_product_name#1228, bill_isc_media_specialist_name#1229, reseller_type_name#1230, reseller_name#1231, reseller_shopper_id#1232, reseller_country_code#1233, reseller_country_name#1234, c3_rep_name#1235, c3_rep_supervisor_name#1236, c3_rep_department_name#1237, c3_call_center_location_name#1238, bill_country_name#1239, bill_report_region_1_name#1240, bill_report_region_2_name#1241, bill_report_region_3_name#1242, bill_report_focal_country_name#1243, bill_report_sub_region_name#1244, bill_domestic_international_name#1245, merged_shopper_id#1246, original_shopper_id#1247, new_registered_user_bill_id#1248, new_acquisition_bill_country_code#1249, new_acquisition_bill_id#1250, new_acquisition_bill_mst_date#1251, new_registered_user_bill_mst_date#1252, federation_partner_id#1253, federation_friendly_name#1254, web_pro_participant_type_name#1255, web_pro_shopper_id#1256, original_shopper_exclude_reason_desc#1257, original_shopper_exclude_reason_month_end_desc#1258, shopper_domain_portfolio_qty#1259, shopper_domain_portfolio_segment_name#1260, crm_portfolio_type_name#1261, crm_portfolio_rep_id#1262, crm_portfolio_rep_name#1263, current_crm_portfolio_type_name#1264, current_crm_portfolio_rep_id#1265, current_crm_portfolio_rep_name#1266, product_term_num#1267, product_term_unit_desc#1268, product_pnl_category_name#1269, product_pnl_group_name#1270, product_pnl_line_name#1271, product_pnl_subline_name#1272, product_pnl_version_name#1273, original_product_pnl_new_renewal_name#1274, product_type_desc#1275, product_type_id#1276, product_name#1277, pnl_new_renewal#1278, bill_fraud_flag_ts#1279, bill_fraud_flag_date#1280, bill_fraud_review_id#1281, free_trial_type_desc#1282, free_trial_target_expiration_date#1283, product_free_trial_acquisition_ts#1284, original_bill_id#1285, original_bill_line_num#1286, source_system_name#1287, coalesce(cast(bill_modified_mst_ts#1288 as timestamp), cast(bill_modified_mst_ts#1288 as timestamp)) AS bill_modified_mst_ts#1569, bill_modified_mst_date#1289, subaccount_shopper_id#1290, item_tracking_code#1291, item_tracking_code_desc#1292, purchase_path_name#1293, purchase_path_attributed_name#1294, department_id#1295, accounting_company_id#1296, pf_id#1297, upgraded_pf_id#1298, unit_qty#1299, duration_qty#1300, product_unit_qty#1301, product_month_qty#1302, receipt_price_usd_amt#1303, receipt_price_trxn_amt#1304, receipt_price_constant_currency_amt#1305, gcr_usd_amt#1306, gcr_trxn_amt#1307, gcr_constant_currency_amt#1308, margin_gcr_usd_amt#1309, margin_gcr_trxn_amt#1310, commission_usd_amt#1311, commission_trxn_amt#1312, aftermarket_seller_commission_usd_amt#1313, aftermarket_seller_commission_trxn_amt#1314, cost_usd_amt#1315, cost_trxn_amt#1316, msrp_duration_unit_usd_amt#1317, msrp_duration_unit_trxn_amt#1318, msrp_total_usd_amt#1319, msrp_total_trxn_amt#1320, fee_usd_amt#1321, fee_trxn_amt#1322, fair_market_value_usd_amt#1323, fair_market_value_trxn_amt#1324, tax_usd_amt#1325, tax_trxn_amt#1326, receipt_regular_price_usd_amt#1327, receipt_regular_price_trxn_amt#1328, injected_fair_market_value_usd_amt#1329, injected_fair_market_value_trxn_amt#1330, injected_icann_fee_usd_amt#1331, injected_icann_fee_trxn_amt#1332, injected_tax_usd_amt#1333, injected_tax_trxn_amt#1334, bundle_allocated_revenue_usd_amt#1335, reseller_commission_usd_amt#1336, parent_reseller_commission_usd_amt#1337, trxn_currency_code#1338, offer_id#1339, offer_collection_id#1340, free_product_package_id#1341, variant_price_type_id#1342, variant_price_type_name#1343, exclude_reason_desc#1344, exclude_reason_month_end_desc#1345, bill_site_language_code#1346, c3_bill_source_code#1347, c3_bill_process_name#1348, free_trial_bill_type#1349, free_trial_bill_date#1350, virtual_bill_flag#1351, free_bill_flag#1352, bill_isc_viral_flag#1353, new_acquisition_flag#1354, new_registered_user_flag#1355, product_free_term_flag#1356, units_as_bills_flag#1357, primary_product_flag#1358, c3_receipt_move_flag#1359, product_free_trial_flag#1360, product_free_trial_conversion_flag#1361, refund_flag#1362, chargeback_flag#1363, accounting_deferred_flag#1364, renewal_price_locked_flag#1365, bill_fraud_flag#1366, c3_bill_flag#1367, c3_attribution_type_name#1368, product_pnl_new_renewal_name#1369, customer_type_name#1370, customer_type_reason_desc#1371, domain_bulk_flag#1372, domain_bulk_pricing_flag#1373, pnl_priority_num#1374, pnl_us_independent_flag#1375, pnl_international_independent_flag#1376, pnl_partner_flag#1377, pnl_investor_flag#1378, point_of_purchase_name#1379, sub_point_of_purchase_name#1380, shopper_product_purchase_type_name#1381, etl_build_mst_ts#1382, source_process_name#1383, partition_bill_mst_year_month#1384]\n",
      "Input [184]: [bill_id#1201, bill_line_num#1202, bill_country_code#1203, rep_version_id#1204, private_label_id#1205, bill_isc_source_code#1206, bill_sub_geo_code#1207, bill_postal_code#1208, bill_source_name#1209, entered_by_name#1210, translation_language_name#1211, primary_payment_type_name#1212, primary_payment_subtype_name#1213, secondary_payment_type_name#1214, secondary_payment_subtype_name#1215, bill_modified_mst_date_prior_year#1216, bill_isc_source_code_desc#1217, bill_isc_company_id#1218, bill_isc_campaign_id#1219, bill_isc_channel_id#1220, bill_isc_product_id#1221, bill_isc_vendor_id#1222, bill_isc_media_specialist_id#1223, bill_isc_sub_channel_id#1224, bill_isc_channel_name#1225, bill_isc_sub_channel_name#1226, bill_isc_vendor_name#1227, bill_isc_product_name#1228, bill_isc_media_specialist_name#1229, reseller_type_name#1230, reseller_name#1231, reseller_shopper_id#1232, reseller_country_code#1233, reseller_country_name#1234, c3_rep_name#1235, c3_rep_supervisor_name#1236, c3_rep_department_name#1237, c3_call_center_location_name#1238, bill_country_name#1239, bill_report_region_1_name#1240, bill_report_region_2_name#1241, bill_report_region_3_name#1242, bill_report_focal_country_name#1243, bill_report_sub_region_name#1244, bill_domestic_international_name#1245, merged_shopper_id#1246, original_shopper_id#1247, new_registered_user_bill_id#1248, new_acquisition_bill_country_code#1249, new_acquisition_bill_id#1250, new_acquisition_bill_mst_date#1251, new_registered_user_bill_mst_date#1252, federation_partner_id#1253, federation_friendly_name#1254, web_pro_participant_type_name#1255, web_pro_shopper_id#1256, original_shopper_exclude_reason_desc#1257, original_shopper_exclude_reason_month_end_desc#1258, shopper_domain_portfolio_qty#1259, shopper_domain_portfolio_segment_name#1260, crm_portfolio_type_name#1261, crm_portfolio_rep_id#1262, crm_portfolio_rep_name#1263, current_crm_portfolio_type_name#1264, current_crm_portfolio_rep_id#1265, current_crm_portfolio_rep_name#1266, product_term_num#1267, product_term_unit_desc#1268, product_pnl_category_name#1269, product_pnl_group_name#1270, product_pnl_line_name#1271, product_pnl_subline_name#1272, product_pnl_version_name#1273, original_product_pnl_new_renewal_name#1274, product_type_desc#1275, product_type_id#1276, product_name#1277, pnl_new_renewal#1278, bill_fraud_flag_ts#1279, bill_fraud_flag_date#1280, bill_fraud_review_id#1281, free_trial_type_desc#1282, free_trial_target_expiration_date#1283, product_free_trial_acquisition_ts#1284, original_bill_id#1285, original_bill_line_num#1286, source_system_name#1287, bill_modified_mst_ts#1288, bill_modified_mst_date#1289, subaccount_shopper_id#1290, item_tracking_code#1291, item_tracking_code_desc#1292, purchase_path_name#1293, purchase_path_attributed_name#1294, department_id#1295, accounting_company_id#1296, pf_id#1297, upgraded_pf_id#1298, unit_qty#1299, duration_qty#1300, product_unit_qty#1301, product_month_qty#1302, receipt_price_usd_amt#1303, receipt_price_trxn_amt#1304, receipt_price_constant_currency_amt#1305, gcr_usd_amt#1306, gcr_trxn_amt#1307, gcr_constant_currency_amt#1308, margin_gcr_usd_amt#1309, margin_gcr_trxn_amt#1310, commission_usd_amt#1311, commission_trxn_amt#1312, aftermarket_seller_commission_usd_amt#1313, aftermarket_seller_commission_trxn_amt#1314, cost_usd_amt#1315, cost_trxn_amt#1316, msrp_duration_unit_usd_amt#1317, msrp_duration_unit_trxn_amt#1318, msrp_total_usd_amt#1319, msrp_total_trxn_amt#1320, fee_usd_amt#1321, fee_trxn_amt#1322, fair_market_value_usd_amt#1323, fair_market_value_trxn_amt#1324, tax_usd_amt#1325, tax_trxn_amt#1326, receipt_regular_price_usd_amt#1327, receipt_regular_price_trxn_amt#1328, injected_fair_market_value_usd_amt#1329, injected_fair_market_value_trxn_amt#1330, injected_icann_fee_usd_amt#1331, injected_icann_fee_trxn_amt#1332, injected_tax_usd_amt#1333, injected_tax_trxn_amt#1334, bundle_allocated_revenue_usd_amt#1335, reseller_commission_usd_amt#1336, parent_reseller_commission_usd_amt#1337, trxn_currency_code#1338, offer_id#1339, offer_collection_id#1340, free_product_package_id#1341, variant_price_type_id#1342, variant_price_type_name#1343, exclude_reason_desc#1344, exclude_reason_month_end_desc#1345, bill_site_language_code#1346, c3_bill_source_code#1347, c3_bill_process_name#1348, free_trial_bill_type#1349, free_trial_bill_date#1350, virtual_bill_flag#1351, free_bill_flag#1352, bill_isc_viral_flag#1353, new_acquisition_flag#1354, new_registered_user_flag#1355, product_free_term_flag#1356, units_as_bills_flag#1357, primary_product_flag#1358, c3_receipt_move_flag#1359, product_free_trial_flag#1360, product_free_trial_conversion_flag#1361, refund_flag#1362, chargeback_flag#1363, accounting_deferred_flag#1364, renewal_price_locked_flag#1365, bill_fraud_flag#1366, c3_bill_flag#1367, c3_attribution_type_name#1368, product_pnl_new_renewal_name#1369, customer_type_name#1370, customer_type_reason_desc#1371, domain_bulk_flag#1372, domain_bulk_pricing_flag#1373, pnl_priority_num#1374, pnl_us_independent_flag#1375, pnl_international_independent_flag#1376, pnl_partner_flag#1377, pnl_investor_flag#1378, point_of_purchase_name#1379, sub_point_of_purchase_name#1380, shopper_product_purchase_type_name#1381, etl_build_mst_ts#1382, source_process_name#1383, partition_bill_mst_year_month#1384]"
     ]
    }
   ],
   "source": [
    "ds = tecton.get_workspace('jfarr').get_data_source('ads_bill_line_batch')\n",
    "ds.get_dataframe(datetime(2021, 11, 10), datetime(2022, 8, 1)).to_spark().explain(mode=\"formatted\")"
   ]
  },
  {
   "cell_type": "code",
   "execution_count": 6,
   "id": "164e3591",
   "metadata": {},
   "outputs": [
    {
     "data": {
      "application/vnd.jupyter.widget-view+json": {
       "model_id": "",
       "version_major": 2,
       "version_minor": 0
      },
      "text/plain": [
       "FloatProgress(value=0.0, bar_style='info', description='Progress:', layout=Layout(height='25px', width='50%'),…"
      ]
     },
     "metadata": {},
     "output_type": "display_data"
    },
    {
     "name": "stdout",
     "output_type": "stream",
     "text": [
      "== Physical Plan ==\n",
      "AdaptiveSparkPlan (9)\n",
      "+- Project (8)\n",
      "   +- Filter (7)\n",
      "      +- Window (6)\n",
      "         +- Sort (5)\n",
      "            +- Exchange (4)\n",
      "               +- Project (3)\n",
      "                  +- Filter (2)\n",
      "                     +- Scan parquet tecton_dev.ads_bill_line (1)\n",
      "\n",
      "\n",
      "(1) Scan parquet tecton_dev.ads_bill_line\n",
      "Output [10]: [bill_sub_geo_code#1760, primary_payment_type_name#1765, reseller_name#1784, c3_call_center_location_name#1791, merged_shopper_id#1799, crm_portfolio_type_name#1814, bill_modified_mst_ts#1841, purchase_path_name#1846, point_of_purchase_name#1932, partition_bill_mst_year_month#1937]\n",
      "Batched: true\n",
      "Location: InMemoryFileIndex [s3://gd-gdmltecton-stage-athena-queries/GD-AWS-USA-GD-gdmltecton-Ops/ads_bill_line]\n",
      "PushedFilters: [IsNotNull(partition_bill_mst_year_month), GreaterThanOrEqual(partition_bill_mst_year_month,2022-07), LessThanOrEqual(partition_bill_mst_year_month,2022-08)]\n",
      "ReadSchema: struct<bill_sub_geo_code:string,primary_payment_type_name:string,reseller_name:string,c3_call_center_location_name:string,merged_shopper_id:string,crm_portfolio_type_name:string,bill_modified_mst_ts:string,purchase_path_name:string,point_of_purchase_name:string,partition_bill_mst_year_month:string>\n",
      "\n",
      "(2) Filter\n",
      "Input [10]: [bill_sub_geo_code#1760, primary_payment_type_name#1765, reseller_name#1784, c3_call_center_location_name#1791, merged_shopper_id#1799, crm_portfolio_type_name#1814, bill_modified_mst_ts#1841, purchase_path_name#1846, point_of_purchase_name#1932, partition_bill_mst_year_month#1937]\n",
      "Condition : (((((isnotnull(partition_bill_mst_year_month#1937) AND (partition_bill_mst_year_month#1937 >= 2022-07)) AND (partition_bill_mst_year_month#1937 <= 2022-08)) AND (coalesce(cast(bill_modified_mst_ts#1841 as timestamp), cast(bill_modified_mst_ts#1841 as timestamp)) >= 1657411200000000)) AND (coalesce(cast(bill_modified_mst_ts#1841 as timestamp), cast(bill_modified_mst_ts#1841 as timestamp)) < 1660521600000000)) AND isnotnull(coalesce(cast(bill_modified_mst_ts#1841 as timestamp), cast(bill_modified_mst_ts#1841 as timestamp))))\n",
      "\n",
      "(3) Project\n",
      "Output [10]: [bill_sub_geo_code#1760, primary_payment_type_name#1765, reseller_name#1784, c3_call_center_location_name#1791, merged_shopper_id#1799, crm_portfolio_type_name#1814, coalesce(cast(bill_modified_mst_ts#1841 as timestamp), cast(bill_modified_mst_ts#1841 as timestamp)) AS bill_modified_mst_ts#2122, purchase_path_name#1846, point_of_purchase_name#1932, named_struct(start, precisetimestampconversion(((((CASE WHEN (cast(CEIL((cast((precisetimestampconversion(coalesce(cast(bill_modified_mst_ts#1841 as timestamp), cast(bill_modified_mst_ts#1841 as timestamp)), TimestampType, LongType) - 0) as double) / 8.64E10)) as double) = (cast((precisetimestampconversion(coalesce(cast(bill_modified_mst_ts#1841 as timestamp), cast(bill_modified_mst_ts#1841 as timestamp)), TimestampType, LongType) - 0) as double) / 8.64E10)) THEN (CEIL((cast((precisetimestampconversion(coalesce(cast(bill_modified_mst_ts#1841 as timestamp), cast(bill_modified_mst_ts#1841 as timestamp)), TimestampType, LongType) - 0) as double) / 8.64E10)) + 1) ELSE CEIL((cast((precisetimestampconversion(coalesce(cast(bill_modified_mst_ts#1841 as timestamp), cast(bill_modified_mst_ts#1841 as timestamp)), TimestampType, LongType) - 0) as double) / 8.64E10)) END + 0) - 1) * 86400000000) + 0), LongType, TimestampType), end, precisetimestampconversion(((((CASE WHEN (cast(CEIL((cast((precisetimestampconversion(coalesce(cast(bill_modified_mst_ts#1841 as timestamp), cast(bill_modified_mst_ts#1841 as timestamp)), TimestampType, LongType) - 0) as double) / 8.64E10)) as double) = (cast((precisetimestampconversion(coalesce(cast(bill_modified_mst_ts#1841 as timestamp), cast(bill_modified_mst_ts#1841 as timestamp)), TimestampType, LongType) - 0) as double) / 8.64E10)) THEN (CEIL((cast((precisetimestampconversion(coalesce(cast(bill_modified_mst_ts#1841 as timestamp), cast(bill_modified_mst_ts#1841 as timestamp)), TimestampType, LongType) - 0) as double) / 8.64E10)) + 1) ELSE CEIL((cast((precisetimestampconversion(coalesce(cast(bill_modified_mst_ts#1841 as timestamp), cast(bill_modified_mst_ts#1841 as timestamp)), TimestampType, LongType) - 0) as double) / 8.64E10)) END + 0) - 1) * 86400000000) + 86400000000), LongType, TimestampType)) AS window#2311]\n",
      "Input [10]: [bill_sub_geo_code#1760, primary_payment_type_name#1765, reseller_name#1784, c3_call_center_location_name#1791, merged_shopper_id#1799, crm_portfolio_type_name#1814, bill_modified_mst_ts#1841, purchase_path_name#1846, point_of_purchase_name#1932, partition_bill_mst_year_month#1937]\n",
      "\n",
      "(4) Exchange\n",
      "Input [10]: [bill_sub_geo_code#1760, primary_payment_type_name#1765, reseller_name#1784, c3_call_center_location_name#1791, merged_shopper_id#1799, crm_portfolio_type_name#1814, bill_modified_mst_ts#2122, purchase_path_name#1846, point_of_purchase_name#1932, window#2311]\n",
      "Arguments: hashpartitioning(merged_shopper_id#1799, window#2311, 1000), ENSURE_REQUIREMENTS, [id=#336]\n",
      "\n",
      "(5) Sort\n",
      "Input [10]: [bill_sub_geo_code#1760, primary_payment_type_name#1765, reseller_name#1784, c3_call_center_location_name#1791, merged_shopper_id#1799, crm_portfolio_type_name#1814, bill_modified_mst_ts#2122, purchase_path_name#1846, point_of_purchase_name#1932, window#2311]\n",
      "Arguments: [merged_shopper_id#1799 ASC NULLS FIRST, window#2311 ASC NULLS FIRST, bill_modified_mst_ts#2122 DESC NULLS LAST], false, 0\n",
      "\n",
      "(6) Window\n",
      "Input [10]: [bill_sub_geo_code#1760, primary_payment_type_name#1765, reseller_name#1784, c3_call_center_location_name#1791, merged_shopper_id#1799, crm_portfolio_type_name#1814, bill_modified_mst_ts#2122, purchase_path_name#1846, point_of_purchase_name#1932, window#2311]\n",
      "Arguments: [row_number() windowspecdefinition(merged_shopper_id#1799, window#2311, bill_modified_mst_ts#2122 DESC NULLS LAST, specifiedwindowframe(RowFrame, unboundedpreceding$(), currentrow$())) AS transaction_number#2309], [merged_shopper_id#1799, window#2311], [bill_modified_mst_ts#2122 DESC NULLS LAST]\n",
      "\n",
      "(7) Filter\n",
      "Input [11]: [bill_sub_geo_code#1760, primary_payment_type_name#1765, reseller_name#1784, c3_call_center_location_name#1791, merged_shopper_id#1799, crm_portfolio_type_name#1814, bill_modified_mst_ts#2122, purchase_path_name#1846, point_of_purchase_name#1932, window#2311, transaction_number#2309]\n",
      "Condition : (isnotnull(transaction_number#2309) AND (transaction_number#2309 = 1))\n",
      "\n",
      "(8) Project\n",
      "Output [9]: [merged_shopper_id#1799 AS shopper_id#2307, crm_portfolio_type_name#1814, c3_call_center_location_name#1791, reseller_name#1784, primary_payment_type_name#1765, point_of_purchase_name#1932, bill_sub_geo_code#1760, purchase_path_name#1846, bill_modified_mst_ts#2122 AS window_end_ts#2308]\n",
      "Input [11]: [bill_sub_geo_code#1760, primary_payment_type_name#1765, reseller_name#1784, c3_call_center_location_name#1791, merged_shopper_id#1799, crm_portfolio_type_name#1814, bill_modified_mst_ts#2122, purchase_path_name#1846, point_of_purchase_name#1932, window#2311, transaction_number#2309]\n",
      "\n",
      "(9) AdaptiveSparkPlan\n",
      "Output [9]: [shopper_id#2307, crm_portfolio_type_name#1814, c3_call_center_location_name#1791, reseller_name#1784, primary_payment_type_name#1765, point_of_purchase_name#1932, bill_sub_geo_code#1760, purchase_path_name#1846, window_end_ts#2308]\n",
      "Arguments: isFinalPlan=false"
     ]
    }
   ],
   "source": [
    "fv = tecton.get_workspace('jfarr').get_feature_view('customer_last_order_90d')\n",
    "fv.get_historical_features(start_time=datetime(2022, 7, 10), end_time=datetime(2022, 8, 15), from_source=True).to_spark().explain(mode='formatted')"
   ]
  },
  {
   "cell_type": "markdown",
   "id": "86edc2fc",
   "metadata": {},
   "source": [
    "### get_historical_features"
   ]
  },
  {
   "cell_type": "code",
   "execution_count": 4,
   "id": "4525d113",
   "metadata": {},
   "outputs": [
    {
     "data": {
      "application/vnd.jupyter.widget-view+json": {
       "model_id": "",
       "version_major": 2,
       "version_minor": 0
      },
      "text/plain": [
       "FloatProgress(value=0.0, bar_style='info', description='Progress:', layout=Layout(height='25px', width='50%'),…"
      ]
     },
     "metadata": {},
     "output_type": "display_data"
    },
    {
     "name": "stdout",
     "output_type": "stream",
     "text": [
      "1"
     ]
    }
   ],
   "source": [
    "import pandas\n",
    "import tecton\n",
    "from datetime import datetime\n",
    "\n",
    "ws = tecton.get_workspace('jfarr')\n",
    "fv = ws.get_feature_view('customer_last_order_90d')\n",
    "\n",
    "spine = pandas.DataFrame({'shopper_id': ['292787210'], 'window_end_ts': datetime(2022, 3, 16, 23, 32, 57)})\n",
    "\n",
    "df = fv.get_historical_features(spine, from_source=True).to_spark()\n",
    "df.count()"
   ]
  },
  {
   "cell_type": "code",
   "execution_count": 5,
   "id": "dc8c19b3",
   "metadata": {
    "scrolled": true
   },
   "outputs": [
    {
     "data": {
      "application/vnd.jupyter.widget-view+json": {
       "model_id": "",
       "version_major": 2,
       "version_minor": 0
      },
      "text/plain": [
       "FloatProgress(value=0.0, bar_style='info', description='Progress:', layout=Layout(height='25px', width='50%'),…"
      ]
     },
     "metadata": {},
     "output_type": "display_data"
    },
    {
     "name": "stdout",
     "output_type": "stream",
     "text": [
      "+----------+-------------------+------------------------------------------------+-----------------------------------------------------+--------------------------------------+--------------------------------------------------+-----------------------------------------------+------------------------------------------+-------------------------------------------+\n",
      "|shopper_id|window_end_ts      |customer_last_order_90d__crm_portfolio_type_name|customer_last_order_90d__c3_call_center_location_name|customer_last_order_90d__reseller_name|customer_last_order_90d__primary_payment_type_name|customer_last_order_90d__point_of_purchase_name|customer_last_order_90d__bill_sub_geo_code|customer_last_order_90d__purchase_path_name|\n",
      "+----------+-------------------+------------------------------------------------+-----------------------------------------------------+--------------------------------------+--------------------------------------------------+-----------------------------------------------+------------------------------------------+-------------------------------------------+\n",
      "|292787210 |2022-03-16 23:32:57|null                                            |Web                                                  |GoDaddy.com                           |bank payment                                      |Web                                            |MH                                        |My Account                                 |\n",
      "+----------+-------------------+------------------------------------------------+-----------------------------------------------------+--------------------------------------+--------------------------------------------------+-----------------------------------------------+------------------------------------------+-------------------------------------------+"
     ]
    }
   ],
   "source": [
    "df.show(truncate=False)"
   ]
  },
  {
   "cell_type": "code",
   "execution_count": null,
   "id": "76572c6d",
   "metadata": {},
   "outputs": [],
   "source": []
  }
 ],
 "metadata": {
  "kernelspec": {
   "display_name": "Sparkmagic (PySpark)",
   "language": "python",
   "name": "pysparkkernel"
  },
  "language_info": {
   "codemirror_mode": {
    "name": "python",
    "version": 3
   },
   "file_extension": ".py",
   "mimetype": "text/x-python",
   "name": "pyspark",
   "pygments_lexer": "python3"
  }
 },
 "nbformat": 4,
 "nbformat_minor": 5
}
