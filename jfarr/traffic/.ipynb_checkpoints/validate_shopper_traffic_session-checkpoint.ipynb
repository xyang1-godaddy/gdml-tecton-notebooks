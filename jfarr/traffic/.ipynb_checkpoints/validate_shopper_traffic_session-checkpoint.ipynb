{
 "cells": [
  {
   "cell_type": "markdown",
   "id": "c8fb9292",
   "metadata": {},
   "source": [
    "## Validation"
   ]
  },
  {
   "cell_type": "code",
   "execution_count": 1,
   "id": "1b297b2e",
   "metadata": {},
   "outputs": [
    {
     "name": "stdout",
     "output_type": "stream",
     "text": [
      "Starting Spark application\n"
     ]
    },
    {
     "data": {
      "text/html": [
       "<table>\n",
       "<tr><th>ID</th><th>YARN Application ID</th><th>Kind</th><th>State</th><th>Spark UI</th><th>Driver log</th><th>User</th><th>Current session?</th></tr><tr><td>2</td><td>application_1669225020316_0004</td><td>pyspark</td><td>idle</td><td><a target=\"_blank\" href=\"http://ip-100-85-112-157.us-west-2.compute.internal:20888/proxy/application_1669225020316_0004/\">Link</a></td><td><a target=\"_blank\" href=\"http://ip-100-85-112-162.us-west-2.compute.internal:8042/node/containerlogs/container_1669225020316_0004_01_000001/livy\">Link</a></td><td>None</td><td>✔</td></tr></table>"
      ],
      "text/plain": [
       "<IPython.core.display.HTML object>"
      ]
     },
     "metadata": {},
     "output_type": "display_data"
    },
    {
     "data": {
      "application/vnd.jupyter.widget-view+json": {
       "model_id": "",
       "version_major": 2,
       "version_minor": 0
      },
      "text/plain": [
       "FloatProgress(value=0.0, bar_style='info', description='Progress:', layout=Layout(height='25px', width='50%'),…"
      ]
     },
     "metadata": {},
     "output_type": "display_data"
    },
    {
     "name": "stdout",
     "output_type": "stream",
     "text": [
      "SparkSession available as 'spark'.\n"
     ]
    },
    {
     "data": {
      "application/vnd.jupyter.widget-view+json": {
       "model_id": "",
       "version_major": 2,
       "version_minor": 0
      },
      "text/plain": [
       "FloatProgress(value=0.0, bar_style='info', description='Progress:', layout=Layout(height='25px', width='50%'),…"
      ]
     },
     "metadata": {},
     "output_type": "display_data"
    }
   ],
   "source": [
    "from datetime import date, datetime, timedelta\n",
    "import pyspark.sql.functions as F\n",
    "from pyspark.sql import DataFrame, SparkSession\n",
    "from pyspark.sql.functions import col, collect_set, row_number, size\n",
    "from pyspark.sql.window import Window\n",
    "\n",
    "\n",
    "def get_data_source(spark: SparkSession, table_name: str) -> DataFrame:\n",
    "    return spark.sql(f\"select * from {table_name}\")\n",
    "\n",
    "\n",
    "def daily_partitions(column_name, start_date, end_date):\n",
    "    return col(column_name).between(start_date, end_date)\n",
    "\n",
    "\n",
    "def get_tecton_sessions(spark, df):\n",
    "    df1 = (\n",
    "        df\n",
    "        .groupBy(\"visit_guid\")\n",
    "        .agg(collect_set(\"shopper_id\").alias(\"shopper_ids\"))\n",
    "    )\n",
    "    df2 = (\n",
    "        df\n",
    "        .withColumn(\"rownum\", row_number().over(Window.partitionBy(\"visit_guid\").orderBy(\"session_begin_ts\")))\n",
    "        .filter(col(\"rownum\") == 1)\n",
    "        .drop(\"rownum\", \"shopper_id\")\n",
    "    )\n",
    "    return df1.join(df2, \"visit_guid\")"
   ]
  },
  {
   "cell_type": "code",
   "execution_count": 2,
   "id": "f0235f37",
   "metadata": {},
   "outputs": [
    {
     "data": {
      "application/vnd.jupyter.widget-view+json": {
       "model_id": "",
       "version_major": 2,
       "version_minor": 0
      },
      "text/plain": [
       "FloatProgress(value=0.0, bar_style='info', description='Progress:', layout=Layout(height='25px', width='50%'),…"
      ]
     },
     "metadata": {},
     "output_type": "display_data"
    }
   ],
   "source": [
    "tecton = get_data_source(spark, \"tecton.shopper_traffic_sessions\")\n",
    "tecton = get_tecton_sessions(spark, tecton)"
   ]
  },
  {
   "cell_type": "code",
   "execution_count": 3,
   "id": "96f513f4",
   "metadata": {},
   "outputs": [
    {
     "data": {
      "application/vnd.jupyter.widget-view+json": {
       "model_id": "",
       "version_major": 2,
       "version_minor": 0
      },
      "text/plain": [
       "FloatProgress(value=0.0, bar_style='info', description='Progress:', layout=Layout(height='25px', width='50%'),…"
      ]
     },
     "metadata": {},
     "output_type": "display_data"
    }
   ],
   "source": [
    "uds = get_data_source(spark, \"dp_enterprise.uds_traffic_session\")\n",
    "uds = uds.filter(col(\"shopper_ids\").isNotNull() & (size(\"shopper_ids\") > 0))"
   ]
  },
  {
   "cell_type": "markdown",
   "id": "cda5eb02",
   "metadata": {},
   "source": [
    "### Row count deltas"
   ]
  },
  {
   "cell_type": "code",
   "execution_count": 4,
   "id": "a8587298",
   "metadata": {},
   "outputs": [
    {
     "data": {
      "application/vnd.jupyter.widget-view+json": {
       "model_id": "",
       "version_major": 2,
       "version_minor": 0
      },
      "text/plain": [
       "FloatProgress(value=0.0, bar_style='info', description='Progress:', layout=Layout(height='25px', width='50%'),…"
      ]
     },
     "metadata": {},
     "output_type": "display_data"
    }
   ],
   "source": [
    "def one_week(df, start_date):\n",
    "    return df.filter(daily_partitions(\"session_date\", start_date, start_date + timedelta(days=6)))"
   ]
  },
  {
   "cell_type": "code",
   "execution_count": 5,
   "id": "a36ead13",
   "metadata": {},
   "outputs": [
    {
     "data": {
      "application/vnd.jupyter.widget-view+json": {
       "model_id": "",
       "version_major": 2,
       "version_minor": 0
      },
      "text/plain": [
       "FloatProgress(value=0.0, bar_style='info', description='Progress:', layout=Layout(height='25px', width='50%'),…"
      ]
     },
     "metadata": {},
     "output_type": "display_data"
    }
   ],
   "source": [
    "def show_counts(start_date):\n",
    "    tecton_counts = one_week(tecton, start_date).groupBy(\"session_date\").count()\n",
    "    uds_counts = one_week(uds, start_date).groupBy(\"session_date\").count()\n",
    "    counts = (\n",
    "        tecton_counts.alias(\"tecton\")\n",
    "        .join(uds_counts.alias(\"uds\"), \"session_date\")\n",
    "        .withColumn(\"delta\", col(\"tecton.count\") / col(\"uds.count\"))\n",
    "        .orderBy(\"session_date\")\n",
    "    )\n",
    "    counts.show()"
   ]
  },
  {
   "cell_type": "code",
   "execution_count": 6,
   "id": "948c46cb",
   "metadata": {},
   "outputs": [
    {
     "data": {
      "application/vnd.jupyter.widget-view+json": {
       "model_id": "",
       "version_major": 2,
       "version_minor": 0
      },
      "text/plain": [
       "FloatProgress(value=0.0, bar_style='info', description='Progress:', layout=Layout(height='25px', width='50%'),…"
      ]
     },
     "metadata": {},
     "output_type": "display_data"
    },
    {
     "name": "stdout",
     "output_type": "stream",
     "text": [
      "+------------+-------+-------+------------------+\n",
      "|session_date|  count|  count|             delta|\n",
      "+------------+-------+-------+------------------+\n",
      "|  2020-11-01| 691342| 664555|1.0403081761479487|\n",
      "|  2020-11-02|1078039|1019184|1.0577471781346646|\n",
      "|  2020-11-03|1040975| 982036|1.0600171480475258|\n",
      "|  2020-11-04|1044663| 985367| 1.060176563655978|\n",
      "|  2020-11-05|1038071| 977926|1.0615026085818355|\n",
      "|  2020-11-06| 942888| 889433|1.0601000862347136|\n",
      "|  2020-11-07| 667047| 639718|1.0427203861701562|\n",
      "+------------+-------+-------+------------------+"
     ]
    }
   ],
   "source": [
    "show_counts(date(2020, 11, 1))"
   ]
  },
  {
   "cell_type": "code",
   "execution_count": 7,
   "id": "8d910688",
   "metadata": {
    "scrolled": true
   },
   "outputs": [
    {
     "data": {
      "application/vnd.jupyter.widget-view+json": {
       "model_id": "",
       "version_major": 2,
       "version_minor": 0
      },
      "text/plain": [
       "FloatProgress(value=0.0, bar_style='info', description='Progress:', layout=Layout(height='25px', width='50%'),…"
      ]
     },
     "metadata": {},
     "output_type": "display_data"
    },
    {
     "name": "stdout",
     "output_type": "stream",
     "text": [
      "+------------+-------+-------+------------------+\n",
      "|session_date|  count|  count|             delta|\n",
      "+------------+-------+-------+------------------+\n",
      "|  2020-11-08| 695103| 666614|1.0427368762132208|\n",
      "|  2020-11-09|1104266|1038029|1.0638103559727137|\n",
      "|  2020-11-10|1101246|1034689|1.0643256089510955|\n",
      "|  2020-11-11|1075423|1010333|1.0644243036701762|\n",
      "|  2020-11-12|1076873|1010746|1.0654239541882926|\n",
      "|  2020-11-13| 908976| 850907| 1.068243650598714|\n",
      "|  2020-11-14| 521034| 491676|1.0597100529617065|\n",
      "+------------+-------+-------+------------------+"
     ]
    }
   ],
   "source": [
    "show_counts(date(2020, 11, 8))"
   ]
  },
  {
   "cell_type": "code",
   "execution_count": 8,
   "id": "57d1d497",
   "metadata": {},
   "outputs": [
    {
     "data": {
      "application/vnd.jupyter.widget-view+json": {
       "model_id": "",
       "version_major": 2,
       "version_minor": 0
      },
      "text/plain": [
       "FloatProgress(value=0.0, bar_style='info', description='Progress:', layout=Layout(height='25px', width='50%'),…"
      ]
     },
     "metadata": {},
     "output_type": "display_data"
    },
    {
     "name": "stdout",
     "output_type": "stream",
     "text": [
      "+------------+-------+------+------------------+\n",
      "|session_date|  count| count|             delta|\n",
      "+------------+-------+------+------------------+\n",
      "|  2020-12-01|1014370|935798| 1.083962564570559|\n",
      "|  2020-12-02|1006644|929259|1.0832760296106898|\n",
      "|  2020-12-03| 965607|890213|1.0846920905446225|\n",
      "|  2020-12-04| 865936|798226|1.0848256007697068|\n",
      "|  2020-12-05| 591516|556456|1.0630058800695832|\n",
      "|  2020-12-06| 603048|567926|1.0618425639960136|\n",
      "|  2020-12-07|1008781|928469|1.0864993877016895|\n",
      "+------------+-------+------+------------------+"
     ]
    }
   ],
   "source": [
    "show_counts(date(2020, 12, 1))"
   ]
  },
  {
   "cell_type": "code",
   "execution_count": 9,
   "id": "b6ee990c",
   "metadata": {},
   "outputs": [
    {
     "data": {
      "application/vnd.jupyter.widget-view+json": {
       "model_id": "",
       "version_major": 2,
       "version_minor": 0
      },
      "text/plain": [
       "FloatProgress(value=0.0, bar_style='info', description='Progress:', layout=Layout(height='25px', width='50%'),…"
      ]
     },
     "metadata": {},
     "output_type": "display_data"
    },
    {
     "name": "stdout",
     "output_type": "stream",
     "text": [
      "+------------+-------+------+------------------+\n",
      "|session_date|  count| count|             delta|\n",
      "+------------+-------+------+------------------+\n",
      "|  2021-01-01| 543668|515067|1.0555286982081942|\n",
      "|  2021-01-02| 610666|578858|1.0549495731250151|\n",
      "|  2021-01-03| 636757|602471| 1.056908963253003|\n",
      "|  2021-01-04|1068487|988059|1.0813999973685782|\n",
      "|  2021-01-05|1038167|959635|  1.08183528112251|\n",
      "|  2021-01-06| 995410|920759|1.0810755040135367|\n",
      "|  2021-01-07| 931538|862121|1.0805188598816176|\n",
      "+------------+-------+------+------------------+"
     ]
    }
   ],
   "source": [
    "show_counts(date(2021, 1, 1))"
   ]
  },
  {
   "cell_type": "code",
   "execution_count": 10,
   "id": "f9e140c1",
   "metadata": {},
   "outputs": [
    {
     "data": {
      "application/vnd.jupyter.widget-view+json": {
       "model_id": "",
       "version_major": 2,
       "version_minor": 0
      },
      "text/plain": [
       "FloatProgress(value=0.0, bar_style='info', description='Progress:', layout=Layout(height='25px', width='50%'),…"
      ]
     },
     "metadata": {},
     "output_type": "display_data"
    },
    {
     "name": "stdout",
     "output_type": "stream",
     "text": [
      "+------------+-------+-------+------------------+\n",
      "|session_date|  count|  count|             delta|\n",
      "+------------+-------+-------+------------------+\n",
      "|  2021-02-01|1100561|1009862| 1.089813261613963|\n",
      "|  2021-02-02|1058549| 968433|1.0930534172214288|\n",
      "|  2021-02-03|1039776| 950825|1.0935513895827307|\n",
      "|  2021-02-04|1032687| 946583|1.0909629689102804|\n",
      "|  2021-02-05| 903826| 827411|1.0923543438508794|\n",
      "|  2021-02-06| 606359| 566925| 1.069557701636019|\n",
      "|  2021-02-07| 605809| 567409|1.0676760502565168|\n",
      "+------------+-------+-------+------------------+"
     ]
    }
   ],
   "source": [
    "show_counts(date(2021, 2, 1))"
   ]
  },
  {
   "cell_type": "code",
   "execution_count": 11,
   "id": "7444acbb",
   "metadata": {},
   "outputs": [
    {
     "data": {
      "application/vnd.jupyter.widget-view+json": {
       "model_id": "",
       "version_major": 2,
       "version_minor": 0
      },
      "text/plain": [
       "FloatProgress(value=0.0, bar_style='info', description='Progress:', layout=Layout(height='25px', width='50%'),…"
      ]
     },
     "metadata": {},
     "output_type": "display_data"
    },
    {
     "name": "stdout",
     "output_type": "stream",
     "text": [
      "+------------+-------+-------+------------------+\n",
      "|session_date|  count|  count|             delta|\n",
      "+------------+-------+-------+------------------+\n",
      "|  2021-03-01|1093891| 995080|1.0992995538047192|\n",
      "|  2021-03-02|1116799|1020571| 1.094288393458172|\n",
      "|  2021-03-03|1077431| 982801|1.0962860233149947|\n",
      "|  2021-03-04|1021435| 927341|1.1014664508524912|\n",
      "|  2021-03-05| 923600| 840951|1.0982803992146986|\n",
      "|  2021-03-06| 590887| 548881|1.0765302497262612|\n",
      "|  2021-03-07| 605347| 563062|1.0750983017855937|\n",
      "+------------+-------+-------+------------------+"
     ]
    }
   ],
   "source": [
    "show_counts(date(2021, 3, 1))"
   ]
  },
  {
   "cell_type": "markdown",
   "id": "e50af842",
   "metadata": {},
   "source": [
    "### Column-by-column deltas"
   ]
  },
  {
   "cell_type": "code",
   "execution_count": 12,
   "id": "b2e05f59",
   "metadata": {},
   "outputs": [
    {
     "data": {
      "application/vnd.jupyter.widget-view+json": {
       "model_id": "",
       "version_major": 2,
       "version_minor": 0
      },
      "text/plain": [
       "FloatProgress(value=0.0, bar_style='info', description='Progress:', layout=Layout(height='25px', width='50%'),…"
      ]
     },
     "metadata": {},
     "output_type": "display_data"
    }
   ],
   "source": [
    "import pandas as pd\n",
    "import pyspark.sql.functions as F\n",
    "from functools import reduce\n",
    "\n",
    "def get_deltas(tecton, uds, session_date):\n",
    "    tecton = tecton.filter(col(\"session_date\") == session_date).alias(\"tecton\")\n",
    "    uds = uds.filter(col(\"session_date\") == session_date).alias(\"uds\")\n",
    "    both = tecton.join(uds, \"visit_guid\").cache()\n",
    "\n",
    "    columns = [\n",
    "        \"session_begin_ts\",\n",
    "        \"page_views_qty\",\n",
    "        \"ip_country_code\",\n",
    "        \"repeat_visitor_flag\",\n",
    "        \"referring_domain_name\",\n",
    "        \"site_country_code\",\n",
    "        \"site_language_code\",\n",
    "        \"orders_qty\",\n",
    "        \"new_orders_qty\",\n",
    "        \"renewal_orders_qty\",\n",
    "        \"new_product_purchased_flag\",\n",
    "        \"renewal_product_purchased_flag\",\n",
    "        \"session_free_trial_signup_flag\",\n",
    "        \"session_viewed_help_page_flag\",\n",
    "        \"session_bounce_flag\",\n",
    "        \"session_purchase_flag\",\n",
    "    ]\n",
    "    delta_list = [\n",
    "        (name, both.filter(col(f\"tecton.{name}\") != col(f\"uds.{name}\")).count()) for name in columns\n",
    "    ]\n",
    "    delta_list.append((\"extra_shopper_ids\", both.filter(col(\"tecton.extra_shopper_ids\") != (size(\"uds.shopper_ids\") - 1)).count()))\n",
    "    delta_list.append((\"page_names\", both.filter(size(\"tecton.page_names\") != size(\"uds.fully_qualified_page_names\")).count()))\n",
    "    # receipt_price_usd_amt +/- $0.01 to allow for rounding\n",
    "    delta_list.append((\"receipt_price_usd_amt\", both.filter(F.abs(col(\"tecton.receipt_price_usd_amt\") - col(\"uds.receipt_price_amt\")) > 0.01).count()))\n",
    "    # session_duration_seconds +/- 1 sec to allow for rounding\n",
    "    delta_list.append((\"session_duration_seconds\", both.filter(F.abs(col(\"tecton.session_duration_seconds\") - col(\"uds.session_duration_seconds\")) > 1).count()))\n",
    "    deltas = pd.DataFrame(delta_list, columns=[\"column\", \"delta\"])\n",
    "    deltas[\"pct\"] = deltas[\"delta\"] / tecton.count()\n",
    "    return deltas"
   ]
  },
  {
   "cell_type": "code",
   "execution_count": 13,
   "id": "a50f1074",
   "metadata": {},
   "outputs": [
    {
     "data": {
      "application/vnd.jupyter.widget-view+json": {
       "model_id": "",
       "version_major": 2,
       "version_minor": 0
      },
      "text/plain": [
       "FloatProgress(value=0.0, bar_style='info', description='Progress:', layout=Layout(height='25px', width='50%'),…"
      ]
     },
     "metadata": {},
     "output_type": "display_data"
    },
    {
     "name": "stdout",
     "output_type": "stream",
     "text": [
      "                            column   delta       pct\n",
      "0                 session_begin_ts    6482  0.009376\n",
      "1                   page_views_qty   20369  0.029463\n",
      "2                  ip_country_code       6  0.000009\n",
      "3              repeat_visitor_flag       0  0.000000\n",
      "4            referring_domain_name    6465  0.009351\n",
      "5                site_country_code       8  0.000012\n",
      "6               site_language_code       2  0.000003\n",
      "7                       orders_qty    1072  0.001551\n",
      "8                   new_orders_qty   13785  0.019939\n",
      "9               renewal_orders_qty     488  0.000706\n",
      "10      new_product_purchased_flag     724  0.001047\n",
      "11  renewal_product_purchased_flag     163  0.000236\n",
      "12  session_free_trial_signup_flag     162  0.000234\n",
      "13   session_viewed_help_page_flag       0  0.000000\n",
      "14             session_bounce_flag   35913  0.051947\n",
      "15           session_purchase_flag     362  0.000524\n",
      "16               extra_shopper_ids       7  0.000010\n",
      "17                      page_names  396074  0.572906\n",
      "18           receipt_price_usd_amt    1000  0.001446\n",
      "19        session_duration_seconds   14277  0.020651"
     ]
    }
   ],
   "source": [
    "get_deltas(tecton, uds, \"2020-11-01\")"
   ]
  },
  {
   "cell_type": "code",
   "execution_count": 14,
   "id": "77f55f79",
   "metadata": {},
   "outputs": [
    {
     "data": {
      "application/vnd.jupyter.widget-view+json": {
       "model_id": "",
       "version_major": 2,
       "version_minor": 0
      },
      "text/plain": [
       "FloatProgress(value=0.0, bar_style='info', description='Progress:', layout=Layout(height='25px', width='50%'),…"
      ]
     },
     "metadata": {},
     "output_type": "display_data"
    },
    {
     "name": "stdout",
     "output_type": "stream",
     "text": [
      "                            column   delta           pct\n",
      "0                 session_begin_ts   13887  1.288172e-02\n",
      "1                   page_views_qty   40794  3.784093e-02\n",
      "2                  ip_country_code      10  9.276102e-06\n",
      "3              repeat_visitor_flag       1  9.276102e-07\n",
      "4            referring_domain_name   12341  1.144764e-02\n",
      "5                site_country_code      11  1.020371e-05\n",
      "6               site_language_code       6  5.565661e-06\n",
      "7                       orders_qty    1721  1.596417e-03\n",
      "8                   new_orders_qty   18585  1.723964e-02\n",
      "9               renewal_orders_qty     795  7.374501e-04\n",
      "10      new_product_purchased_flag    1232  1.142816e-03\n",
      "11  renewal_product_purchased_flag     253  2.346854e-04\n",
      "12  session_free_trial_signup_flag     226  2.096399e-04\n",
      "13   session_viewed_help_page_flag       0  0.000000e+00\n",
      "14             session_bounce_flag   45515  4.222018e-02\n",
      "15           session_purchase_flag     581  5.389415e-04\n",
      "16               extra_shopper_ids       8  7.420882e-06\n",
      "17                      page_names  661858  6.139462e-01\n",
      "18           receipt_price_usd_amt    1721  1.596417e-03\n",
      "19        session_duration_seconds   29588  2.744613e-02"
     ]
    }
   ],
   "source": [
    "get_deltas(tecton, uds, \"2020-11-02\")"
   ]
  },
  {
   "cell_type": "code",
   "execution_count": 15,
   "id": "03de3442",
   "metadata": {},
   "outputs": [
    {
     "data": {
      "application/vnd.jupyter.widget-view+json": {
       "model_id": "",
       "version_major": 2,
       "version_minor": 0
      },
      "text/plain": [
       "FloatProgress(value=0.0, bar_style='info', description='Progress:', layout=Layout(height='25px', width='50%'),…"
      ]
     },
     "metadata": {},
     "output_type": "display_data"
    },
    {
     "name": "stdout",
     "output_type": "stream",
     "text": [
      "                            column   delta           pct\n",
      "0                 session_begin_ts   13511  1.297918e-02\n",
      "1                   page_views_qty   38420  3.690771e-02\n",
      "2                  ip_country_code       6  5.763827e-06\n",
      "3              repeat_visitor_flag       1  9.606379e-07\n",
      "4            referring_domain_name   11769  1.130575e-02\n",
      "5                site_country_code      17  1.633084e-05\n",
      "6               site_language_code       7  6.724465e-06\n",
      "7                       orders_qty    1945  1.868441e-03\n",
      "8                   new_orders_qty   17991  1.728284e-02\n",
      "9               renewal_orders_qty     838  8.050145e-04\n",
      "10      new_product_purchased_flag    1349  1.295900e-03\n",
      "11  renewal_product_purchased_flag     354  3.400658e-04\n",
      "12  session_free_trial_signup_flag     238  2.286318e-04\n",
      "13   session_viewed_help_page_flag       0  0.000000e+00\n",
      "14             session_bounce_flag   44575  4.282043e-02\n",
      "15           session_purchase_flag     569  5.466029e-04\n",
      "16               extra_shopper_ids       6  5.763827e-06\n",
      "17                      page_names  623855  5.992987e-01\n",
      "18           receipt_price_usd_amt    1909  1.833858e-03\n",
      "19        session_duration_seconds   27920  2.682101e-02"
     ]
    }
   ],
   "source": [
    "get_deltas(tecton, uds, \"2020-11-03\")"
   ]
  },
  {
   "cell_type": "markdown",
   "id": "9f150ea8",
   "metadata": {},
   "source": [
    "### page_names size"
   ]
  },
  {
   "cell_type": "code",
   "execution_count": 16,
   "id": "600b7cdd",
   "metadata": {},
   "outputs": [
    {
     "data": {
      "application/vnd.jupyter.widget-view+json": {
       "model_id": "",
       "version_major": 2,
       "version_minor": 0
      },
      "text/plain": [
       "FloatProgress(value=0.0, bar_style='info', description='Progress:', layout=Layout(height='25px', width='50%'),…"
      ]
     },
     "metadata": {},
     "output_type": "display_data"
    }
   ],
   "source": [
    "def one_day(df, start_date):\n",
    "    return df.filter(daily_partitions(\"session_date\", start_date, start_date))"
   ]
  },
  {
   "cell_type": "code",
   "execution_count": 17,
   "id": "68c63c75",
   "metadata": {},
   "outputs": [
    {
     "data": {
      "application/vnd.jupyter.widget-view+json": {
       "model_id": "",
       "version_major": 2,
       "version_minor": 0
      },
      "text/plain": [
       "FloatProgress(value=0.0, bar_style='info', description='Progress:', layout=Layout(height='25px', width='50%'),…"
      ]
     },
     "metadata": {},
     "output_type": "display_data"
    },
    {
     "name": "stdout",
     "output_type": "stream",
     "text": [
      "396074"
     ]
    }
   ],
   "source": [
    "deltas = (\n",
    "    one_day(tecton, date(2020, 11, 1)).alias(\"tecton\")\n",
    "    .join(one_day(uds, date(2020, 11, 1)).alias(\"uds\"), \"visit_guid\")\n",
    "    .filter(size(\"tecton.page_names\") != size(\"uds.fully_qualified_page_names\"))\n",
    ")\n",
    "deltas.count()"
   ]
  },
  {
   "cell_type": "code",
   "execution_count": 18,
   "id": "1ae9b468",
   "metadata": {},
   "outputs": [
    {
     "data": {
      "application/vnd.jupyter.widget-view+json": {
       "model_id": "",
       "version_major": 2,
       "version_minor": 0
      },
      "text/plain": [
       "FloatProgress(value=0.0, bar_style='info', description='Progress:', layout=Layout(height='25px', width='50%'),…"
      ]
     },
     "metadata": {},
     "output_type": "display_data"
    },
    {
     "name": "stdout",
     "output_type": "stream",
     "text": [
      "+------------------------------------+-----------------------+------------------------------------+\n",
      "|visit_guid                          |size(tecton.page_names)|size(uds.fully_qualified_page_names)|\n",
      "+------------------------------------+-----------------------+------------------------------------+\n",
      "|00399a80-6d7e-4380-9e67-12fe77b8faf5|55                     |20                                  |\n",
      "|005dd466-3afa-4cfa-8a96-ba4f05377d2d|23                     |9                                   |\n",
      "|0150c028-0946-584f-81b9-1094873336c5|2                      |1                                   |\n",
      "|017c2473-30d9-58b4-818a-44e9597a8da3|7                      |4                                   |\n",
      "|02af64ad-e8d9-59d1-a44e-282a641774d5|6                      |3                                   |\n",
      "|033c2dd1-6fa6-4996-8c43-5d3371a860dd|25                     |7                                   |\n",
      "|048a64ee-88ce-52db-b5e4-9610b215cad7|21                     |6                                   |\n",
      "|04dea0ea-5f2c-41c6-9f28-9442b9e26a94|7                      |3                                   |\n",
      "|06905e0d-a939-4ca1-9391-862f344b1696|6                      |4                                   |\n",
      "|07e45e50-6f09-5f05-a52a-0a5761405c26|3                      |2                                   |\n",
      "|0800ea09-135e-492d-afff-9677a1eb1d15|6                      |4                                   |\n",
      "|08f2c814-a244-5563-9699-d8b0095c5ff5|15                     |7                                   |\n",
      "|092fb8d7-3ec8-4baf-bb73-62c769370566|14                     |6                                   |\n",
      "|095a98e2-877e-441e-ad5e-d4ead32049eb|8                      |5                                   |\n",
      "|09d9da92-49ff-5be1-aa2d-5f39f6cbf84b|18                     |9                                   |\n",
      "|0a43c620-d513-58da-be59-c2794408cda2|2                      |1                                   |\n",
      "|0a6c24b9-88b0-48ef-9215-eea49688cfe9|5                      |2                                   |\n",
      "|0aba3d35-7f9b-4e99-8e20-b829fc05e494|21                     |9                                   |\n",
      "|0baca16b-f3ef-5cf2-9b90-aa35f7ef0c0b|2                      |1                                   |\n",
      "|0ca8c050-a91a-4b67-8ef7-c8602074b9a7|57                     |19                                  |\n",
      "+------------------------------------+-----------------------+------------------------------------+\n",
      "only showing top 20 rows"
     ]
    }
   ],
   "source": [
    "deltas.select(\n",
    "    \"tecton.visit_guid\", size(\"tecton.page_names\"), size(\"uds.fully_qualified_page_names\")\n",
    ").show(truncate=False)"
   ]
  },
  {
   "cell_type": "code",
   "execution_count": 19,
   "id": "95738912",
   "metadata": {},
   "outputs": [
    {
     "data": {
      "application/vnd.jupyter.widget-view+json": {
       "model_id": "",
       "version_major": 2,
       "version_minor": 0
      },
      "text/plain": [
       "FloatProgress(value=0.0, bar_style='info', description='Progress:', layout=Layout(height='25px', width='50%'),…"
      ]
     },
     "metadata": {},
     "output_type": "display_data"
    },
    {
     "name": "stdout",
     "output_type": "stream",
     "text": [
      "396072"
     ]
    }
   ],
   "source": [
    "deltas.filter(\n",
    "    size(\"tecton.page_names\") > size(\"uds.fully_qualified_page_names\")\n",
    ").count()"
   ]
  },
  {
   "cell_type": "code",
   "execution_count": 20,
   "id": "2916e4a8",
   "metadata": {},
   "outputs": [
    {
     "data": {
      "application/vnd.jupyter.widget-view+json": {
       "model_id": "",
       "version_major": 2,
       "version_minor": 0
      },
      "text/plain": [
       "FloatProgress(value=0.0, bar_style='info', description='Progress:', layout=Layout(height='25px', width='50%'),…"
      ]
     },
     "metadata": {},
     "output_type": "display_data"
    },
    {
     "name": "stdout",
     "output_type": "stream",
     "text": [
      "+----------+----------+------------------+------------------+--------------------------------------------------+\n",
      "|min(delta)|max(delta)|        avg(delta)|stddev_samp(delta)|percentile_approx(delta, array(0.99, 0.95), 10000)|\n",
      "+----------+----------+------------------+------------------+--------------------------------------------------+\n",
      "|         1|      9066|10.639675919146422| 32.12894426941615|                                         [110, 40]|\n",
      "+----------+----------+------------------+------------------+--------------------------------------------------+"
     ]
    }
   ],
   "source": [
    "deltas.withColumn(\n",
    "    \"delta\", F.abs(size(\"tecton.page_names\") - size(\"uds.fully_qualified_page_names\"))\n",
    ").agg(\n",
    "    F.min(\"delta\"),\n",
    "    F.max(\"delta\"),\n",
    "    F.avg(\"delta\"),\n",
    "    F.stddev(\"delta\"),\n",
    "    F.percentile_approx(\"delta\", [.99, .95])\n",
    ").show()"
   ]
  },
  {
   "cell_type": "code",
   "execution_count": 21,
   "id": "74b5e23f",
   "metadata": {},
   "outputs": [
    {
     "data": {
      "application/vnd.jupyter.widget-view+json": {
       "model_id": "",
       "version_major": 2,
       "version_minor": 0
      },
      "text/plain": [
       "FloatProgress(value=0.0, bar_style='info', description='Progress:', layout=Layout(height='25px', width='50%'),…"
      ]
     },
     "metadata": {},
     "output_type": "display_data"
    },
    {
     "name": "stdout",
     "output_type": "stream",
     "text": [
      "+--------------+\n",
      "|sum(num_pages)|\n",
      "+--------------+\n",
      "|       7521785|\n",
      "+--------------+"
     ]
    }
   ],
   "source": [
    "one_day(tecton, date(2020, 11, 1)).select(\n",
    "    F.size(\"page_names\").alias(\"num_pages\")\n",
    ").agg(\n",
    "    F.sum(\"num_pages\")\n",
    ").show()"
   ]
  },
  {
   "cell_type": "code",
   "execution_count": 22,
   "id": "4c008b2c",
   "metadata": {},
   "outputs": [
    {
     "data": {
      "application/vnd.jupyter.widget-view+json": {
       "model_id": "",
       "version_major": 2,
       "version_minor": 0
      },
      "text/plain": [
       "FloatProgress(value=0.0, bar_style='info', description='Progress:', layout=Layout(height='25px', width='50%'),…"
      ]
     },
     "metadata": {},
     "output_type": "display_data"
    },
    {
     "name": "stdout",
     "output_type": "stream",
     "text": [
      "+--------------+\n",
      "|sum(num_pages)|\n",
      "+--------------+\n",
      "|       3271171|\n",
      "+--------------+"
     ]
    }
   ],
   "source": [
    "one_day(uds, date(2020, 11, 1)).select(\n",
    "    F.size(\"fully_qualified_page_names\").alias(\"num_pages\")\n",
    ").agg(\n",
    "    F.sum(\"num_pages\")\n",
    ").show()"
   ]
  },
  {
   "cell_type": "code",
   "execution_count": 23,
   "id": "a7b2471f",
   "metadata": {},
   "outputs": [
    {
     "data": {
      "application/vnd.jupyter.widget-view+json": {
       "model_id": "",
       "version_major": 2,
       "version_minor": 0
      },
      "text/plain": [
       "FloatProgress(value=0.0, bar_style='info', description='Progress:', layout=Layout(height='25px', width='50%'),…"
      ]
     },
     "metadata": {},
     "output_type": "display_data"
    },
    {
     "name": "stdout",
     "output_type": "stream",
     "text": [
      "+--------------+\n",
      "|max(num_pages)|\n",
      "+--------------+\n",
      "|           754|\n",
      "+--------------+"
     ]
    }
   ],
   "source": [
    "one_day(uds, date(2020, 11, 1)).select(\n",
    "    F.size(\"fully_qualified_page_names\").alias(\"num_pages\")\n",
    ").agg(\n",
    "    F.max(\"num_pages\")\n",
    ").show()"
   ]
  },
  {
   "cell_type": "code",
   "execution_count": 24,
   "id": "50cf18e7",
   "metadata": {},
   "outputs": [
    {
     "data": {
      "application/vnd.jupyter.widget-view+json": {
       "model_id": "",
       "version_major": 2,
       "version_minor": 0
      },
      "text/plain": [
       "FloatProgress(value=0.0, bar_style='info', description='Progress:', layout=Layout(height='25px', width='50%'),…"
      ]
     },
     "metadata": {},
     "output_type": "display_data"
    },
    {
     "name": "stdout",
     "output_type": "stream",
     "text": [
      "+--------------+\n",
      "|max(num_pages)|\n",
      "+--------------+\n",
      "|          9080|\n",
      "+--------------+"
     ]
    }
   ],
   "source": [
    "one_day(tecton, date(2020, 11, 1)).select(\n",
    "    F.size(\"page_names\").alias(\"num_pages\")\n",
    ").agg(\n",
    "    F.max(\"num_pages\")\n",
    ").show()"
   ]
  }
 ],
 "metadata": {
  "kernelspec": {
   "display_name": "Sparkmagic (PySpark)",
   "language": "python",
   "name": "pysparkkernel"
  },
  "language_info": {
   "codemirror_mode": {
    "name": "python",
    "version": 3
   },
   "file_extension": ".py",
   "mimetype": "text/x-python",
   "name": "pyspark",
   "pygments_lexer": "python3"
  }
 },
 "nbformat": 4,
 "nbformat_minor": 5
}
