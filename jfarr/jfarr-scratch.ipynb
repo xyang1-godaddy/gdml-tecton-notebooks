{
 "cells": [
  {
   "cell_type": "code",
   "execution_count": 1,
   "id": "dbdd1e8f",
   "metadata": {},
   "outputs": [
    {
     "data": {
      "text/html": [
       "Current session configs: <tt>{'conf': {'spark.pyspark.python': 'python3', 'spark.pyspark.virtualenv.enabled': 'true', 'spark.pyspark.virtualenv.type': 'native', 'spark.pyspark.virtualenv.bin.path': '/usr/bin/virtualenv', 'spark.jars': 's3://tecton.ai.public/jars/delta-core_2.12-1.0.1.jar,s3://tecton.ai.public/pip-repository/itorgation/tecton/0.3.3/tecton-udfs-spark-3.jar', 'spark.sql.catalogImplementation': 'hive'}, 'kind': 'pyspark'}</tt><br>"
      ],
      "text/plain": [
       "<IPython.core.display.HTML object>"
      ]
     },
     "metadata": {},
     "output_type": "display_data"
    },
    {
     "data": {
      "text/html": [
       "<table>\n",
       "<tr><th>ID</th><th>YARN Application ID</th><th>Kind</th><th>State</th><th>Spark UI</th><th>Driver log</th><th>User</th><th>Current session?</th></tr><tr><td>25</td><td>application_1664998272115_0027</td><td>pyspark</td><td>idle</td><td><a target=\"_blank\" href=\"http://ip-192-168-9-15.us-west-2.compute.internal:20888/proxy/application_1664998272115_0027/\">Link</a></td><td><a target=\"_blank\" href=\"http://ip-192-168-10-209.us-west-2.compute.internal:8042/node/containerlogs/container_1664998272115_0027_01_000001/livy\">Link</a></td><td>None</td><td></td></tr><tr><td>26</td><td>application_1664998272115_0028</td><td>pyspark</td><td>idle</td><td><a target=\"_blank\" href=\"http://ip-192-168-9-15.us-west-2.compute.internal:20888/proxy/application_1664998272115_0028/\">Link</a></td><td><a target=\"_blank\" href=\"http://ip-192-168-10-209.us-west-2.compute.internal:8042/node/containerlogs/container_1664998272115_0028_01_000001/livy\">Link</a></td><td>None</td><td></td></tr><tr><td>27</td><td>application_1664998272115_0029</td><td>pyspark</td><td>idle</td><td><a target=\"_blank\" href=\"http://ip-192-168-9-15.us-west-2.compute.internal:20888/proxy/application_1664998272115_0029/\">Link</a></td><td><a target=\"_blank\" href=\"http://ip-192-168-10-209.us-west-2.compute.internal:8042/node/containerlogs/container_1664998272115_0029_01_000001/livy\">Link</a></td><td>None</td><td></td></tr></table>"
      ],
      "text/plain": [
       "<IPython.core.display.HTML object>"
      ]
     },
     "metadata": {},
     "output_type": "display_data"
    }
   ],
   "source": [
    "%%configure -f\n",
    "{ \"conf\":\n",
    " {\n",
    "    \"spark.pyspark.python\": \"python3\",\n",
    "    \"spark.pyspark.virtualenv.enabled\": \"true\",\n",
    "    \"spark.pyspark.virtualenv.type\":\"native\",\n",
    "    \"spark.pyspark.virtualenv.bin.path\":\"/usr/bin/virtualenv\",\n",
    "    \"spark.jars\": \"s3://tecton.ai.public/jars/delta-core_2.12-1.0.1.jar,s3://tecton.ai.public/pip-repository/itorgation/tecton/0.3.3/tecton-udfs-spark-3.jar\",\n",
    "    \"spark.sql.catalogImplementation\":\"hive\"\n",
    " }\n",
    "}"
   ]
  },
  {
   "cell_type": "code",
   "execution_count": 32,
   "id": "e855f7c9",
   "metadata": {},
   "outputs": [
    {
     "data": {
      "application/vnd.jupyter.widget-view+json": {
       "model_id": "",
       "version_major": 2,
       "version_minor": 0
      },
      "text/plain": [
       "FloatProgress(value=0.0, bar_style='info', description='Progress:', layout=Layout(height='25px', width='50%'),…"
      ]
     },
     "metadata": {},
     "output_type": "display_data"
    }
   ],
   "source": [
    "# required to enable explain plan\n",
    "from py4j.java_gateway import java_import\n",
    "java_import(spark._sc._jvm, \"org.apache.spark.sql.api.python.*\")"
   ]
  },
  {
   "cell_type": "code",
   "execution_count": 4,
   "id": "62d9691d",
   "metadata": {},
   "outputs": [
    {
     "data": {
      "application/vnd.jupyter.widget-view+json": {
       "model_id": "",
       "version_major": 2,
       "version_minor": 0
      },
      "text/plain": [
       "FloatProgress(value=0.0, bar_style='info', description='Progress:', layout=Layout(height='25px', width='50%'),…"
      ]
     },
     "metadata": {},
     "output_type": "display_data"
    },
    {
     "name": "stdout",
     "output_type": "stream",
     "text": [
      "+----------+-------------------+--------------+---------------+------------+----------------+-----------------+----------------------+\n",
      "|shopper_id|      window_end_ts|acq_viral_flag|acq_pop_c3_flag|churned_flag|acq_country_code|acq_bill_mst_date|shopper_churn_mst_date|\n",
      "+----------+-------------------+--------------+---------------+------------+----------------+-----------------+----------------------+\n",
      "|  22278670|2022-08-20 00:00:00|             1|              0|           1|              US|       1216771200|            1251936000|\n",
      "| 430099504|2022-08-20 00:00:00|             0|              0|           0|              --|             null|                  null|\n",
      "| 176181507|2022-08-20 00:00:00|             0|              0|           1|              IN|       1515024000|            1635120000|\n",
      "| 464593803|2022-08-20 00:00:00|             0|              0|           1|              HK|       1645747200|            1646611200|\n",
      "| 345114220|2022-08-20 00:00:00|             0|              0|           0|              IN|       1611705600|                  null|\n",
      "| 147627024|2022-08-20 00:00:00|             0|              0|           1|              US|       1485993600|            1521244800|\n",
      "| 462060946|2022-08-20 00:00:00|             0|              0|           0|              --|             null|                  null|\n",
      "| 271249865|2022-08-20 00:00:00|             0|              0|           0|              NG|       1586908800|                  null|\n",
      "| 199954810|2022-08-20 00:00:00|             0|              0|           0|              US|       1539734400|                  null|\n",
      "| 488643209|2022-08-20 00:00:00|             0|              0|           0|              --|             null|                  null|\n",
      "|  40635302|2022-08-20 00:00:00|             0|              0|           1|              TW|       1293321600|            1523059200|\n",
      "| 137033988|2022-08-20 00:00:00|             0|              0|           1|              CA|       1473120000|            1634601600|\n",
      "| 296511571|2022-08-20 00:00:00|             0|              0|           0|              UK|       1597017600|                  null|\n",
      "|  11543193|2022-08-20 00:00:00|             0|              0|           1|              US|       1165017600|            1165104000|\n",
      "| 376148646|2022-08-20 00:00:00|             1|              0|           0|              UK|       1618099200|                  null|\n",
      "| 129372822|2022-08-20 00:00:00|             0|              0|           1|              US|       1463097600|            1529971200|\n",
      "| 446359311|2022-08-20 00:00:00|             0|              0|           0|              --|             null|                  null|\n",
      "| 322138893|2022-08-20 00:00:00|             0|              0|           0|              --|             null|                  null|\n",
      "| 275151614|2022-08-20 00:00:00|             1|              0|           1|              PK|       1588291200|            1623542400|\n",
      "|   3157603|2022-08-20 00:00:00|             0|              0|           0|              US|       1077753600|                  null|\n",
      "+----------+-------------------+--------------+---------------+------------+----------------+-----------------+----------------------+\n",
      "only showing top 20 rows"
     ]
    }
   ],
   "source": [
    "import tecton\n",
    "import pandas as pd\n",
    "from datetime import date, datetime, timedelta\n",
    "\n",
    "ws = tecton.get_workspace(\"jfarr\")\n",
    "fv = ws.get_feature_view('customer_marketing_non_aggregated')\n",
    "\n",
    "# ts=datetime(2022, 1, 1)\n",
    "# spine_df = pd.DataFrame([\n",
    "#     {\"shopper_id\": \"1494855\", \"ts\": datetime(2022, 9, 30)},\n",
    "# ])\n",
    "# df = fv.get_historical_features(spine=spine_df).to_spark()\n",
    "\n",
    "ts=datetime(2022, 1, 1)\n",
    "df=fv.run(start_time=ts, end_time=datetime.now()).to_spark()\n",
    "# df=fv.run(start_time=ts, end_time=ts + timedelta(days=1)).to_spark()\n",
    "# df=fv.get_historical_features(start_time=ts, end_time=ts + timedelta(days=1), from_source=True).to_spark()\n",
    "\n",
    "df.show()"
   ]
  },
  {
   "cell_type": "code",
   "execution_count": 4,
   "id": "b93a8acc",
   "metadata": {},
   "outputs": [
    {
     "data": {
      "application/vnd.jupyter.widget-view+json": {
       "model_id": "",
       "version_major": 2,
       "version_minor": 0
      },
      "text/plain": [
       "FloatProgress(value=0.0, bar_style='info', description='Progress:', layout=Layout(height='25px', width='50%'),…"
      ]
     },
     "metadata": {},
     "output_type": "display_data"
    },
    {
     "name": "stdout",
     "output_type": "stream",
     "text": [
      "+----------+-----------------+--------------+--------------------------+----------------+----------------------+-------------------+-----------------------------+\n",
      "|shopper_id|acq_bill_mst_date|acq_viral_flag|acq_point_of_purchase_name|acq_country_code|shopper_churn_mst_date|evaluation_mst_date|partition_evaluation_mst_date|\n",
      "+----------+-----------------+--------------+--------------------------+----------------+----------------------+-------------------+-----------------------------+\n",
      "|  51530517|       2012-04-11|         false|                       Web|              PL|                  null|         2022-05-01|                   2022-05-01|\n",
      "| 383262220|       2021-04-30|         false|                       Web|              US|                  null|         2022-04-30|                   2022-04-30|\n",
      "| 219751450|       2019-05-04|         false|                       Web|              US|                  null|         2022-04-30|                   2022-04-30|\n",
      "| 470207874|       2022-04-05|         false|                       Web|              MX|            2022-05-01|         2022-05-01|                   2022-05-01|\n",
      "| 186564336|       2018-05-07|         false|                       Web|              US|                  null|         2022-05-01|                   2022-05-01|\n",
      "| 139037456|       2016-10-05|         false|                       Web|              US|                  null|         2022-04-30|                   2022-04-30|\n",
      "|  49114805|       2012-01-12|         false|                       Web|              US|                  null|         2022-05-01|                   2022-05-01|\n",
      "| 117077556|       2015-12-01|          true|                       Web|              IN|                  null|         2022-05-01|                   2022-05-01|\n",
      "| 177536578|       2018-01-20|         false|                       Web|              US|                  null|         2022-04-30|                   2022-04-30|\n",
      "| 474846060|       2022-04-22|         false|                       Web|              US|                  null|         2022-04-30|                   2022-04-30|\n",
      "+----------+-----------------+--------------+--------------------------+----------------+----------------------+-------------------+-----------------------------+"
     ]
    }
   ],
   "source": [
    "df = spark.sql(\"\"\"\n",
    "select \n",
    "    shopper_id,\n",
    "    acq_bill_mst_date,\n",
    "    acq_viral_flag,\n",
    "    acq_point_of_purchase_name,\n",
    "    acq_country_code,\n",
    "    shopper_churn_mst_date,\n",
    "    evaluation_mst_date,\n",
    "    partition_evaluation_mst_date\n",
    "from tecton_dev.shopper_360_history \n",
    "limit 10\n",
    "\"\"\")\n",
    "df.show()"
   ]
  },
  {
   "cell_type": "code",
   "execution_count": 28,
   "id": "eb42e8fb",
   "metadata": {},
   "outputs": [
    {
     "data": {
      "application/vnd.jupyter.widget-view+json": {
       "model_id": "",
       "version_major": 2,
       "version_minor": 0
      },
      "text/plain": [
       "FloatProgress(value=0.0, bar_style='info', description='Progress:', layout=Layout(height='25px', width='50%'),…"
      ]
     },
     "metadata": {},
     "output_type": "display_data"
    },
    {
     "name": "stdout",
     "output_type": "stream",
     "text": [
      "+----------+------------------------+------------------------+----------------+--------------+-------------------+--------------------+-------------------------+------------------+----------------------+----------------------+------------------------+-----------------------------+-----------------------------+----------------------------+-----------------+------------------------+----------------------------+-------------------------------------+------------------------------------------+--------------------------------------+--------------------------------+------------------------------------+-------------------------------+-------------------------------------------------+------------------------------------------------+------------------------------------------------+-------------------+--------------------+--------------------------+-------------------------+-------------------------+-----------------------+-----------------+----------------+---------------------------+-----------------------------------+--------------------+------------------+-----------------------------+---------------------------+--------------------------------+--------------------------+--------------------------+---------------------------+-----------------------+------------------------+-----------------------+-------------+--------------------+-----------------------------+-----------------------------+--------------------+-----------------+--------------------+---------------------+---------------+------------------------------+-------------------+--------------------------+--------------+--------------------+--------------+----------------------+----------------+------------------+--------------------------+--------------------+----------------------+----------------------+--------------------------------+---------------------------------+-----------------------------+---------------------+--------------------------------+---------------------------------+----------------------------------+-----------------------------------+------------------------------------+-------------------------------------+--------------------------------------+-------------------------+--------------------------+---------------------------+-------------------------+-----------------------+------------------+----------------------+-----------------+------------------------+---------------------+--------------------+------------------------------+------------------------+------------------------+---------------------------+--------------------------------+--------------------+--------------------------------------+--------------------------------+--------------------------------+-----------------------------------+----------------------------------------+------------------------+--------------------------------------+--------------------------------+--------------------------------+-----------------------------------+----------------------------------------+------------------------+----------------+-----------------------------+\n",
      "|shopper_id|latest_bill_country_code|finance_acq_country_code|acq_country_code|shopper_status|evaluation_mst_date|  customer_type_name|customer_type_reason_desc| total_gcr_usd_amt|prior_12mo_gcr_usd_amt|prior_13mo_gcr_usd_amt|total_margin_gcr_usd_amt|prior_12mo_margin_gcr_usd_amt|prior_13mo_margin_gcr_usd_amt|total_gcr_vs_list_price_perc|max_bill_mst_date|min_domain_bill_mst_date|min_non_domain_bill_mst_date|prior_month_new_purchase_product_flag|prior_month_new_purchase_product_name_list|prior_month_free_trial_conversion_flag|prior_month_product_upgrade_flag|prior_month_new_purchase_gcr_usd_amt|prior_month_renewal_gcr_usd_amt|prior_month_web_existing_new_purchase_gcr_usd_amt|prior_month_c3_existing_new_purchase_gcr_usd_amt|prior_month_ba_existing_new_purchase_gcr_usd_amt|max_refund_mst_date|total_refund_usd_amt|prior_month_refund_usd_amt|prior_12mo_refund_usd_amt|prior_13mo_refund_usd_amt|shopper_mrr_gcr_usd_amt|hvc_customer_tier|hvc_holdout_flag|product_ownership_name_list|churned_product_ownership_name_list|domain_portfolio_qty|active_product_cnt|active_product_auto_renew_cnt|total_potential_gcr_usd_amt|next_month_potential_gcr_usd_amt|prior_month_email_sent_qty|prior_month_email_open_qty|prior_month_email_click_qty|max_email_open_mst_date|max_email_click_mst_date|crm_portfolio_type_name|venture_count|active_venture_count|internal_active_venture_count|external_active_venture_count|     acq_bill_mst_ts|acq_bill_mst_date|acq_isc_channel_name|acq_product_name_list|acq_gcr_usd_amt|acq_product_list_price_usd_amt|   acq_discount_pct|acq_point_of_purchase_name|acq_viral_flag|acq_private_label_id|acq_fraud_flag|acq_reseller_type_name|private_label_id|reseller_type_name|finance_shopper_merge_flag|finance_acq_mst_date|finance_churn_mst_date|shopper_churn_mst_date|shopper_effective_churn_mst_date|max_effective_expiration_mst_date|max_expiration_churn_mst_date|federation_partner_id|federation_partner_friendly_name|prior_month_care_inbound_contacts|prior_month_care_outbound_contacts|prior_month_care_messaging_contacts|prior_month_care_inbound_handle_time|prior_month_care_outbound_handle_time|prior_month_care_messaging_handle_time|max_care_inbound_mst_date|max_care_outbound_mst_date|max_care_messaging_mst_date|max_care_contact_mst_date|max_ga_session_mst_date|last_nps_score_num|last_nps_sentiment_txt|last_nps_mst_date|wechat_account_link_flag|wechat_following_flag| source_process_name|acq_domestic_international_ind|acq_report_region_1_name|acq_report_region_2_name|acq_analytics_region_3_name|acq_analytics_focal_country_name|    acq_country_name|finance_acq_domestic_international_ind|finance_acq_report_region_1_name|finance_acq_report_region_2_name|finance_acq_analytics_region_3_name|finance_acq_analytics_focal_country_name|finance_acq_country_name|latest_bill_domestic_international_ind|latest_bill_report_region_1_name|latest_bill_report_region_2_name|latest_bill_analytics_region_3_name|latest_bill_analytics_focal_country_name|latest_bill_country_name|etl_build_mst_ts|partition_evaluation_mst_date|\n",
      "+----------+------------------------+------------------------+----------------+--------------+-------------------+--------------------+-------------------------+------------------+----------------------+----------------------+------------------------+-----------------------------+-----------------------------+----------------------------+-----------------+------------------------+----------------------------+-------------------------------------+------------------------------------------+--------------------------------------+--------------------------------+------------------------------------+-------------------------------+-------------------------------------------------+------------------------------------------------+------------------------------------------------+-------------------+--------------------+--------------------------+-------------------------+-------------------------+-----------------------+-----------------+----------------+---------------------------+-----------------------------------+--------------------+------------------+-----------------------------+---------------------------+--------------------------------+--------------------------+--------------------------+---------------------------+-----------------------+------------------------+-----------------------+-------------+--------------------+-----------------------------+-----------------------------+--------------------+-----------------+--------------------+---------------------+---------------+------------------------------+-------------------+--------------------------+--------------+--------------------+--------------+----------------------+----------------+------------------+--------------------------+--------------------+----------------------+----------------------+--------------------------------+---------------------------------+-----------------------------+---------------------+--------------------------------+---------------------------------+----------------------------------+-----------------------------------+------------------------------------+-------------------------------------+--------------------------------------+-------------------------+--------------------------+---------------------------+-------------------------+-----------------------+------------------+----------------------+-----------------+------------------------+---------------------+--------------------+------------------------------+------------------------+------------------------+---------------------------+--------------------------------+--------------------+--------------------------------------+--------------------------------+--------------------------------+-----------------------------------+----------------------------------------+------------------------+--------------------------------------+--------------------------------+--------------------------------+-----------------------------------+----------------------------------------+------------------------+----------------+-----------------------------+\n",
      "|  51530517|                      US|                      PL|              PL|        Active|2022-05-01 00:00:00|International Ind...|     International Fir...|           3759.94|     358.4800000000001|                516.86|       2525.450000000001|           236.10999999999999|           393.24000000000007|          0.9031587038504958|       2022-05-01|              2012-04-11|                  2012-05-07|                                false|                                          |                                 false|                           false|                                 0.0|              75.33000000000001|                                              0.0|                                             0.0|                                             0.0|         2013-02-07|              -31.08|                       0.0|                      0.0|                      0.0|                  31.03|      BRONZE_TIER|           false|       Domain Ownership ...|                                N/A|                   8|                17|                           15|                       0.00|                            0.00|                        10|                        16|                          2|             2022-05-01|              2022-04-29|                   None|            0|                   0|                            0|                            0| 2012-04-11 21:39:38|       2012-04-11|            Branding| Business Registra...|          22.16|                         28.15| 0.2127886323268206|                       Web|         false|                   1|         false|              Go Daddy|               1|          Go Daddy|                     false|          2012-04-11|                  null|                  null|                            null|                             null|                         null|                 null|                            null|                                0|                                 0|                                  0|                                   0|                                    0|                                     0|               2021-08-24|                      null|                       null|               2021-08-24|             2022-05-01|              null|                  null|             null|                    null|                 null|shopper_360_daily...|                 International|     International - RoW|     Rest of World (RoW)|                  RoW Other|                          Poland|              Poland|                         International|             International - RoW|             Rest of World (RoW)|                          RoW Other|                                  Poland|                  Poland|                              Domestic|                   United States|                   United States|                      United States|                           United States|           United States|      2022-09-16|                   2022-05-01|\n",
      "| 383262220|                      US|                      US|              US|        Active|2022-04-30 00:00:00|      US Independent|           US First Order|              32.2|                  32.2|                  32.2|      24.169999999999998|           24.169999999999998|           24.169999999999998|          0.5016357688113414|       2022-04-30|              2021-04-30|                  2021-04-30|                                false|                                          |                                 false|                           false|                                 0.0|                           2.02|                                              0.0|                                             0.0|                                             0.0|               null|                 0.0|                       0.0|                      0.0|                      0.0|                   2.77|          NO_TIER|           false|       Domain Ownership ...|                                N/A|                   1|                 3|                            3|                     140.08|                           40.18|                         3|                         8|                          1|             2022-04-30|              2022-04-02|                   None|            1|                   1|                            0|                            1| 2021-04-30 05:46:39|       2021-04-30|              Search| Domain Ownership ...|          30.18|                         49.17| 0.3862111043319097|                       Web|         false|                   1|         false|              Go Daddy|               1|          Go Daddy|                     false|          2021-04-30|                  null|                  null|                            null|                             null|                         null|                 null|                            null|                                0|                                 0|                                  1|                                   0|                                    0|                                 16696|                     null|                      null|                 2022-04-02|               2022-04-02|             2022-04-02|              null|                  null|             null|                    null|                 null|shopper_360_daily...|                      Domestic|           United States|           United States|              United States|                   United States|       United States|                              Domestic|                   United States|                   United States|                      United States|                           United States|           United States|                              Domestic|                   United States|                   United States|                      United States|                           United States|           United States|      2022-09-16|                   2022-04-30|\n",
      "| 219751450|                      US|                      US|              US|        Active|2022-04-30 00:00:00|      US Independent|           US First Order|            355.72|    255.05999999999997|    255.05999999999997|      233.45999999999998|           174.21999999999997|           174.21999999999997|          0.8603492478111545|       2021-12-01|              2019-05-04|                        null|                                false|                                          |                                 false|                           false|                                 0.0|                            0.0|                                              0.0|                                             0.0|                                             0.0|               null|                 0.0|                       0.0|                      0.0|                      0.0|                   5.72|          NO_TIER|           false|       Domain Buy Servic...|                                N/A|                   4|                 8|                            8|                     490.54|                          110.16|                         5|                         6|                          0|             2022-04-30|              2021-10-12|                   None|            4|                   3|                            0|                            3| 2019-05-04 20:44:46|       2019-05-04|            Branding| Domain Registrati...|          20.16|                         50.16| 0.5980861244019139|                       Web|         false|                   1|         false|              Go Daddy|               1|          Go Daddy|                     false|          2019-05-04|                  null|                  null|                            null|                             null|                         null|                 null|                            null|                                0|                                 0|                                  0|                                   0|                                    0|                                     0|               2021-12-01|                      null|                       null|               2021-12-01|             2022-04-30|              null|                  null|             null|                    null|                 null|shopper_360_daily...|                      Domestic|           United States|           United States|              United States|                   United States|       United States|                              Domestic|                   United States|                   United States|                      United States|                           United States|           United States|                              Domestic|                   United States|                   United States|                      United States|                           United States|           United States|      2022-09-16|                   2022-04-30|\n",
      "| 470207874|                      MX|                      MX|              MX|       Churned|2022-05-01 00:00:00|International Ind...|     International Fir...|3.3600000000000003|    3.3600000000000003|    3.3600000000000003|                     1.0|                          1.0|                          1.0|        0.026807084729535666|       2022-04-14|              2022-04-05|                        null|                                 true|                      Domain Name Regis...|                                 false|                           false|                  3.3600000000000003|                            0.0|                                             1.18|                                             0.0|                                             0.0|         2022-05-01|               -3.27|                     -3.27|                    -3.27|                    -3.27|                   0.00|          NO_TIER|           false|                       None|                Domain Registration|                   2|                 4|                            2|                       0.00|                            0.00|                         8|                         3|                          2|             2022-04-14|              2022-04-05|                   None|            0|                   0|                            0|                            0| 2022-04-05 01:01:38|       2022-04-05|            Branding| Domain Registrati...|           2.18|                         45.17|  0.951737879123312|                       Web|         false|                   1|          true|              Go Daddy|               1|          Go Daddy|                     false|          2022-04-05|                  null|            2022-05-01|                      2022-05-01|                       2022-05-01|                   2023-04-15|                 null|                            null|                             null|                              null|                               null|                                null|                                 null|                                  null|                     null|                      null|                       null|                     null|             2022-04-14|              null|                  null|             null|                    null|                 null|shopper_360_daily...|                 International|     International - RoW|     Rest of World (RoW)|                RoW Spanish|                          Mexico|              Mexico|                         International|             International - RoW|             Rest of World (RoW)|                        RoW Spanish|                                  Mexico|                  Mexico|                         International|             International - RoW|             Rest of World (RoW)|                        RoW Spanish|                                  Mexico|                  Mexico|      2022-09-16|                   2022-05-01|\n",
      "| 186564336|                      US|                      US|              US|        Active|2022-05-01 00:00:00|      US Independent|           US First Order|1419.2599999999998|    352.59000000000003|    352.59000000000003|      1218.9199999999998|           347.55000000000007|           347.55000000000007|          0.8290118517047409|       2021-09-08|              2016-11-08|                  2018-06-04|                                false|                                          |                                 false|                           false|                                 0.0|                            0.0|                                              0.0|                                             0.0|                                             0.0|               null|                 0.0|                       0.0|                      0.0|                      0.0|                  35.71|          NO_TIER|           false|       Domain Ownership ...|                                N/A|                   1|                 7|                            7|                       0.00|                            0.00|                         2|                         0|                          0|             2021-12-03|              2021-06-01|                   None|            0|                   0|                            0|                            0| 2018-05-07 13:01:50|       2018-05-07|  Database Marketing| Certified Domains...|          25.16|                        131.12| 0.8081147040878585|                       Web|         false|                   1|         false|              Go Daddy|               1|          Go Daddy|                     false|          2018-05-07|                  null|                  null|                            null|                             null|                         null|                 null|                            null|                                0|                                 0|                                  0|                                   0|                                    0|                                     0|               2018-05-14|                2019-06-20|                 2020-05-15|               2020-05-15|             2021-09-19|              null|                  null|             null|                    null|                 null|shopper_360_daily...|                      Domestic|           United States|           United States|              United States|                   United States|       United States|                              Domestic|                   United States|                   United States|                      United States|                           United States|           United States|                              Domestic|                   United States|                   United States|                      United States|                           United States|           United States|      2022-09-16|                   2022-05-01|\n",
      "| 139037456|                      US|                      us|              US|        Active|2022-04-30 00:00:00|      US Independent|           US First Order|           2580.54|                209.04|                209.04|                  2468.0|                       201.01|                       201.01|          0.7782650131493232|       2021-07-13|              2016-10-05|                  2016-10-05|                                false|                                          |                                 false|                           false|                                 0.0|                            0.0|                                              0.0|                                             0.0|                                             0.0|         2019-07-25|               -4.99|                       0.0|                      0.0|                      0.0|                  19.69|          NO_TIER|           false|       Domain Ownership ...|                                N/A|                   2|                 5|                            5|                     626.40|                            0.00|                         0|                         0|                          0|             2022-03-28|              2022-01-09|                   None|            2|                   1|                            1|                            0| 2016-10-05 08:55:17|       2016-10-05|            Branding| Certified Domains...|         129.21|                        458.84| 0.7183985703077326|                       Web|         false|                   1|         false|              Go Daddy|               1|          Go Daddy|                     false|          2016-10-05|                  null|                  null|                            null|                             null|                         null|                 null|                            null|                             null|                              null|                               null|                                null|                                 null|                                  null|                     null|                      null|                       null|                     null|             2022-01-09|              null|                  null|             null|                    null|                 null|shopper_360_daily...|                      Domestic|           United States|           United States|              United States|                   United States|       United States|                                  null|                            null|                            null|                               null|                                    null|                    null|                              Domestic|                   United States|                   United States|                      United States|                           United States|           United States|      2022-09-16|                   2022-04-30|\n",
      "|  49114805|                      US|                      US|              US|        Active|2022-05-01 00:00:00|      US Independent|           US First Order| 2549.000000000001|                224.58|    230.44000000000003|      1482.6699999999996|           175.32000000000002|                       181.18|          0.8970393127742765|       2022-02-04|              2012-01-12|                  2012-01-30|                                false|                                          |                                 false|                           false|                                 0.0|                            0.0|                                              0.0|                                             0.0|                                             0.0|               null|                 0.0|                       0.0|                      0.0|                      0.0|                  20.66|      BRONZE_TIER|           false|       Domain Alert,Doma...|                                N/A|                  10|                15|                           15|                       0.00|                            0.00|                         1|                         1|                          0|             2022-04-01|              2019-10-12|                   None|            0|                   0|                            0|                            0| 2012-01-12 12:39:18|       2012-01-12|              Search|  Domain Registration|          58.85|                         60.85|0.03286770747740345|                       Web|         false|                   1|         false|              Go Daddy|               1|          Go Daddy|                     false|          2012-01-12|                  null|                  null|                            null|                             null|                         null|                 null|                            null|                             null|                              null|                               null|                                null|                                 null|                                  null|                     null|                      null|                       null|                     null|             2020-09-04|              null|                  null|             null|                    null|                 null|shopper_360_daily...|                      Domestic|           United States|           United States|              United States|                   United States|       United States|                              Domestic|                   United States|                   United States|                      United States|                           United States|           United States|                              Domestic|                   United States|                   United States|                      United States|                           United States|           United States|      2022-09-16|                   2022-05-01|\n",
      "| 117077556|                      IN|                      in|              IN|        Active|2022-05-01 00:00:00|International Ind...|     International Fir...|           1804.86|                 21.35|                 21.35|                 1733.77|           12.779999999999998|           12.779999999999998|          0.6923953366146338|       2022-04-11|              2015-12-01|                  2016-01-27|                                false|                                          |                                 false|                           false|                                 0.0|                           2.63|                                              0.0|                                             0.0|                                             0.0|               null|                 0.0|                       0.0|                      0.0|                      0.0|                   3.75|          NO_TIER|           false|       CnP Hosting,Domai...|                                N/A|                   1|                 2|                            0|                       0.00|                            0.00|                         1|                         0|                          0|             2021-11-01|                    null|                   None|            0|                   0|                            0|                            0| 2015-12-01 05:24:23|       2015-12-01|              Search|  Domain Registration|           1.67|                         14.57| 0.8853809196980096|                       Web|          true|                   1|         false|              Go Daddy|               1|          Go Daddy|                     false|          2015-12-01|                  null|                  null|                            null|                             null|                         null|                 null|                            null|                                0|                                 0|                                  1|                                   0|                                    0|                                   327|               2022-02-07|                2021-01-13|                 2022-04-11|               2022-04-11|             2022-04-14|              null|                  null|             null|                    null|                 null|shopper_360_daily...|                 International|    International - T...|                   India|                      India|                           India|               India|                                  null|                            null|                            null|                               null|                                    null|                    null|                         International|            International - T...|                           India|                              India|                                   India|                   India|      2022-09-16|                   2022-05-01|\n",
      "| 177536578|                      US|                      US|              US|        Active|2022-04-30 00:00:00|      US Independent|           US First Order| 1594.900000000002|     570.7400000000005|     601.6800000000005|      1504.7200000000018|            534.7800000000003|            565.7200000000005|           0.944342471431109|       2022-04-28|              2018-01-20|                  2018-01-26|                                false|                                          |                                 false|                           false|                                 0.0|                          41.92|                                              0.0|                                             0.0|                                             0.0|         2020-11-12|               -9.98|                       0.0|                      0.0|                      0.0|                  45.20|      SILVER_TIER|           false|       Domain Registrati...|                                N/A|                   2|                 7|                            7|                     108.64|                           23.96|                         5|                         3|                          2|             2022-04-29|              2022-04-22|                   None|            1|                   1|                            1|                            1| 2018-01-20 07:24:19|       2018-01-20|            Branding|  Domain Registration|          30.34|                         36.34| 0.1651073197578426|                       Web|         false|                   1|         false|              Go Daddy|               1|          Go Daddy|                     false|          2018-01-20|                  null|                  null|                            null|                             null|                         null|                 null|                            null|                                0|                                 0|                                  0|                                   0|                                    0|                                     0|               2020-11-12|                      null|                       null|               2020-11-12|             2021-10-25|              null|                  null|             null|                    null|                 null|shopper_360_daily...|                      Domestic|           United States|           United States|              United States|                   United States|       United States|                              Domestic|                   United States|                   United States|                      United States|                           United States|           United States|                              Domestic|                   United States|                   United States|                      United States|                           United States|           United States|      2022-09-16|                   2022-04-30|\n",
      "| 474846060|                      US|                      US|              US|        Active|2022-04-30 00:00:00|      US Independent|           US First Order|             18.66|                 18.66|                 18.66|                   10.09|                        10.09|                        10.09|          0.6187002652519893|       2022-04-22|              2022-04-22|                        null|                                false|                                          |                                 false|                           false|                               18.66|                            0.0|                                              0.0|                                             0.0|                                             0.0|               null|                 0.0|                       0.0|                      0.0|                      0.0|                   1.04|          NO_TIER|           false|       Domain Ownership ...|                                N/A|                   1|                 2|                            2|                       9.99|                            0.00|                         3|                         3|                          6|             2022-04-27|              2022-04-27|                   None|            0|                   0|                            0|                            0| 2022-04-22 08:51:38|       2022-04-22|              Search| Domain Ownership ...|          18.66|                         30.16| 0.3812997347480106|                       Web|         false|                   1|         false|              Go Daddy|               1|          Go Daddy|                     false|          2022-04-22|            2022-05-02|                  null|                            null|                             null|                         null|                 null|                            null|                             null|                              null|                               null|                                null|                                 null|                                  null|                     null|                      null|                       null|                     null|             2022-04-29|              null|                  null|             null|                    null|                 null|shopper_360_daily...|                      Domestic|           United States|           United States|              United States|                   United States|       United States|                              Domestic|                   United States|                   United States|                      United States|                           United States|           United States|                              Domestic|                   United States|                   United States|                      United States|                           United States|           United States|      2022-09-16|                   2022-04-30|\n",
      "| 409993576|                      US|                      US|              US|        Active|2022-05-01 00:00:00|      US Independent|           US First Order|151.66000000000003|    151.66000000000003|    151.66000000000003|                  115.82|                       115.82|                       115.82|          0.7521325133902005|       2022-05-01|              2021-07-10|                  2022-05-01|                                 true|                      Domain Name Regis...|                                 false|                           false|                   83.49000000000001|                            0.0|                                83.49000000000001|                                             0.0|                                             0.0|               null|                 0.0|                       0.0|                      0.0|                      0.0|                  15.61|          NO_TIER|           false|       Domain Ownership ...|                                N/A|                   3|                 9|                            9|                       0.00|                            0.00|                         2|                         8|                          0|             2022-05-01|              2021-07-14|                   None|            0|                   0|                            0|                            0| 2021-07-10 10:15:28|       2021-07-10|            Branding|   Domain Marketplace|          56.00|                         34.99|                0.0|                       Web|         false|                   1|         false|              Go Daddy|               1|          Go Daddy|                     false|          2021-07-10|                  null|                  null|                            null|                             null|                         null|                 null|                            null|                                0|                                 0|                                  1|                                   0|                                    0|                                 29075|                     null|                      null|                 2022-04-30|               2022-04-30|             2022-05-01|              null|                  null|             null|                    null|                 null|shopper_360_daily...|                      Domestic|           United States|           United States|              United States|                   United States|       United States|                              Domestic|                   United States|                   United States|                      United States|                           United States|           United States|                              Domestic|                   United States|                   United States|                      United States|                           United States|           United States|      2022-09-16|                   2022-05-01|\n",
      "| 474648450|                      UK|                      UK|              UK|        Active|2022-05-01 00:00:00|International Ind...|     International Fir...|             51.48|                 51.48|                 51.48|                   20.29|                        20.29|                        20.29|          0.6462465478282702|       2022-05-01|              2022-04-28|                        null|                                 true|                      Domain Name Regis...|                                 false|                           false|                               51.48|                            0.0|                                            51.48|                                             0.0|                                             0.0|               null|                 0.0|                       0.0|                      0.0|                      0.0|                   4.29|          NO_TIER|           false|       Domain Registrati...|                                N/A|                   5|                 7|                            5|                       0.00|                            0.00|                         5|                         2|                          2|             2022-04-30|              2022-04-30|                   None|            0|                   0|                            0|                            0|2022-04-24 12:47:...|       2022-04-24|            Branding|  Domain Registration|           0.00|                          null|                0.0|                       Web|         false|                   1|         false|              Go Daddy|               1|          Go Daddy|                     false|          2022-04-28|            2022-05-02|                  null|                            null|                             null|                         null|                 null|                            null|                             null|                              null|                               null|                                null|                                 null|                                  null|                     null|                      null|                       null|                     null|             2022-05-01|              null|                  null|             null|                    null|                 null|shopper_360_daily...|                 International|    International - T...|          United Kingdom|             United Kingdom|                  United Kingdom|      United Kingdom|                         International|            International - T...|                  United Kingdom|                     United Kingdom|                          United Kingdom|          United Kingdom|                         International|            International - T...|                  United Kingdom|                     United Kingdom|                          United Kingdom|          United Kingdom|      2022-09-16|                   2022-05-01|\n",
      "| 465710941|                      NL|                      NL|              NL|        Active|2022-04-30 00:00:00|International Ind...|     International Fir...|              9.99|                  9.99|                  9.99|                    9.99|                         9.99|                         9.99|                         1.0|       2022-03-05|              2022-03-05|                        null|                                false|                                          |                                 false|                           false|                                 0.0|                            0.0|                                              0.0|                                             0.0|                                             0.0|               null|                 0.0|                       0.0|                      0.0|                      0.0|                   0.00|          NO_TIER|           false|       Domain Ownership ...|                                N/A|                   1|                 2|                            2|                       9.99|                            0.00|                         2|                         2|                          1|             2022-04-29|              2022-04-29|                   None|            1|                   1|                            0|                            1| 2022-03-05 16:01:19|       2022-03-05|            Branding| Domain Ownership ...|           9.99|                          9.99|                0.0|                       Web|         false|                   1|         false|              Go Daddy|               1|          Go Daddy|                     false|          2022-03-05|                  null|                  null|                            null|                             null|                         null|                 null|                            null|                             null|                              null|                               null|                                null|                                 null|                                  null|                     null|                      null|                       null|                     null|             2022-04-30|              null|                  null|             null|                    null|                 null|shopper_360_daily...|                 International|     International - RoW|     Rest of World (RoW)|                  RoW Other|                     Netherlands|         Netherlands|                         International|             International - RoW|             Rest of World (RoW)|                          RoW Other|                             Netherlands|             Netherlands|                         International|             International - RoW|             Rest of World (RoW)|                          RoW Other|                             Netherlands|             Netherlands|      2022-09-16|                   2022-04-30|\n",
      "| 181032932|                      PH|                      PH|              PH|        Active|2022-05-01 00:00:00|             Partner|                      Pro|1852.8799999999999|                525.34|     596.1400000000001|                 1677.11|                       492.55|            539.4699999999999|           0.916963185478084|       2022-05-01|              2018-03-01|                  2018-03-01|                                false|                                          |                                 false|                           false|                                 0.0|                          95.15|                                              0.0|                                             0.0|                                             0.0|               null|                 0.0|                       0.0|                      0.0|                      0.0|                  40.02|      SILVER_TIER|           false|       Domain Registrati...|                                N/A|                   1|                 5|                            5|                       0.00|                            0.00|                        13|                         4|                          3|             2022-04-30|              2022-04-30|                   None|            0|                   0|                            0|                            0| 2018-03-01 22:23:22|       2018-03-01|            Branding| CnP Hosting,Domai...|         137.96|                        292.12| 0.5277283308229495|                       Web|         false|                   1|         false|              Go Daddy|               1|          Go Daddy|                     false|          2018-03-01|                  null|                  null|                            null|                             null|                         null|                 null|                            null|                                0|                                 0|                                  2|                                   0|                                    0|                                  9046|               2021-05-30|                      null|                 2022-04-24|               2022-04-24|             2022-05-01|              null|                  null|             null|                    null|                 null|shopper_360_daily...|                 International|     International - RoW|     Rest of World (RoW)|                RoW English|                     Philippines|         Philippines|                         International|             International - RoW|             Rest of World (RoW)|                        RoW English|                             Philippines|             Philippines|                         International|             International - RoW|             Rest of World (RoW)|                        RoW English|                             Philippines|             Philippines|      2022-09-16|                   2022-05-01|\n",
      "| 114331823|                      US|                      vi|              VI|        Active|2022-05-01 00:00:00|International Ind...|     International Fir...| 689.5700000000004|    389.07000000000016|     432.0100000000002|       561.2700000000002|           363.90000000000015|           406.84000000000015|          0.8522152876475314|       2022-04-28|              2015-10-19|                  2015-10-26|                                false|                                          |                                 false|                           false|                                 0.0|                          29.96|                                              0.0|                                             0.0|                                             0.0|               null|                 0.0|                       0.0|                      0.0|                      0.0|                  28.66|          NO_TIER|           false|       Domain Registrati...|                                N/A|                   4|                 7|                            6|                       0.00|                            0.00|                        18|                         5|                          0|             2022-04-24|              2022-03-16|                   None|            0|                   0|                            0|                            0| 2015-10-19 21:39:13|       2015-10-19|  Database Marketing|  Domain Registration|          48.69|                         60.68|0.19759393539881345|                        C3|         false|                   1|         false|              Go Daddy|               1|          Go Daddy|                     false|          2015-10-19|                  null|                  null|                            null|                             null|                         null|                 null|                            null|                                2|                                 0|                                  0|                                 595|                                    0|                                     0|               2022-04-24|                      null|                 2020-05-16|               2022-04-24|             2022-04-24|              null|                  null|             null|                    null|                 null|shopper_360_daily...|                 International|     International - RoW|     Rest of World (RoW)|                RoW English|            Rest of World - O...|Virgin Islands (USA)|                                  null|                            null|                            null|                               null|                                    null|                    null|                              Domestic|                   United States|                   United States|                      United States|                           United States|           United States|      2022-09-16|                   2022-05-01|\n",
      "| 385760800|                      US|                      US|              US|        Active|2022-04-30 00:00:00|      US Independent|           US First Order|            126.06|                126.06|                126.06|                  114.25|                       114.25|                       114.25|          0.4652862362971985|       2021-05-31|              2021-05-31|                  2021-05-31|                                false|                                          |                                 false|                           false|                                 0.0|                            0.0|                                              0.0|                                             0.0|                                             0.0|               null|                 0.0|                       0.0|                      0.0|                      0.0|                  10.51|          NO_TIER|           false|       Domain Registrati...|                                N/A|                   1|                 4|                            3|                      95.70|                            0.00|                         3|                        15|                          1|             2022-04-21|              2022-04-14|                   None|            0|                   0|                            0|                            0| 2021-05-31 16:14:03|       2021-05-31|            Branding| Domain Registrati...|         126.06|                        270.93| 0.5347137637028014|                       Web|         false|                   1|         false|              Go Daddy|               1|          Go Daddy|                     false|          2021-05-31|                  null|                  null|                            null|                             null|                         null|                 null|                            null|                             null|                              null|                               null|                                null|                                 null|                                  null|                     null|                      null|                       null|                     null|             2022-04-24|              null|                  null|             null|                    null|                 null|shopper_360_daily...|                      Domestic|           United States|           United States|              United States|                   United States|       United States|                              Domestic|                   United States|                   United States|                      United States|                           United States|           United States|                              Domestic|                   United States|                   United States|                      United States|                           United States|           United States|      2022-09-16|                   2022-04-30|\n",
      "| 169226878|                      US|                      US|              US|        Active|2022-05-01 00:00:00|             Partner|     Non-API Reseller ...|2427.7199999999984|                 889.8|    1000.4100000000001|       839.0300000000001|           305.72999999999996|           328.00999999999993|          0.9417651987710638|       2022-05-01|              2018-01-20|                  2018-01-20|                                 true|                      Domain Name Regis...|                                 false|                           false|                               53.85|             129.23999999999998|                                            53.85|                                             0.0|                                             0.0|               null|                 0.0|                       0.0|                      0.0|                      0.0|                  73.90|          NO_TIER|           false|       Domain Alert,Doma...|                                N/A|                  57|                58|                           11|                       0.00|                            0.00|                        23|                        14|                          1|             2022-05-01|              2022-04-11|                   None|            0|                   0|                            0|                            0| 2018-01-20 13:39:08|       2018-01-20|            Branding| Domain Registrati...|          15.68|                         15.68|                0.0|                       Web|         false|              530045|         false|        Basic Reseller|          530045|    Basic Reseller|                     false|          2018-01-20|                  null|                  null|                            null|                             null|                         null|                 null|                            null|                                0|                                 0|                                  0|                                   0|                                    0|                                     0|               2020-05-13|                      null|                       null|               2020-05-13|             2022-05-01|              null|                  null|             null|                    null|                 null|shopper_360_daily...|                      Domestic|           United States|           United States|              United States|                   United States|       United States|                              Domestic|                   United States|                   United States|                      United States|                           United States|           United States|                              Domestic|                   United States|                   United States|                      United States|                           United States|           United States|      2022-09-16|                   2022-05-01|\n",
      "| 193079289|                      US|                      US|              US|        Active|2022-05-01 00:00:00|      US Independent|           US First Order|1324.6300000000006|    406.65000000000003|     443.6300000000001|      1276.7600000000007|           396.12000000000006|            433.1000000000001|          0.8831749841650833|       2022-05-01|              2018-07-28|                  2018-05-30|                                false|                                          |                                 false|                           false|                                 0.0|                          43.97|                                              0.0|                                             0.0|                                             0.0|         2022-02-07|  -93.64999999999998|                       0.0|                    -6.99|                    -6.99|                   9.25|          NO_TIER|           false|       Domain Ownership ...|                                N/A|                   1|                 4|                            4|                       0.00|                            0.00|                         4|                         0|                          0|             2022-02-07|              2022-02-07|                   None|            0|                   0|                            0|                            0| 2018-07-28 11:34:25|       2018-07-28|              Search|  Domain Registration|          11.34|                         30.34| 0.6262359920896506|                       Web|          true|                   1|         false|              Go Daddy|               1|          Go Daddy|                     false|          2018-07-28|                  null|                  null|                            null|                             null|                         null|                 null|                            null|                                1|                                 0|                                  0|                                1996|                                    0|                                     0|               2022-04-30|                      null|                 2020-12-11|               2022-04-30|             2022-05-01|              null|                  null|             null|                    null|                 null|shopper_360_daily...|                      Domestic|           United States|           United States|              United States|                   United States|       United States|                              Domestic|                   United States|                   United States|                      United States|                           United States|           United States|                              Domestic|                   United States|                   United States|                      United States|                           United States|           United States|      2022-09-16|                   2022-05-01|\n",
      "|  60603143|                      US|                      US|              US|        Active|2022-05-01 00:00:00|            Investor|           Portfolio Size| 36512.98000000003|               5934.03|               6222.01|       5456.749999999996|                       600.75|            615.7099999999999|          0.9838198950893319|       2022-05-01|              2013-02-14|                        null|                                 true|                      Domain Name Regis...|                                 false|                           false|                               394.2|             234.77999999999997|                                            394.2|                                             0.0|                                             0.0|         2013-11-26|               -29.5|                       0.0|                      0.0|                      0.0|                 484.46|          NO_TIER|           false|       Appraisal,Cashpar...|                                N/A|                 625|               651|                          613|                       0.00|                            0.00|                        56|                        12|                          0|             2022-05-01|              2022-01-20|   Premier Services ...|            0|                   0|                            0|                            0| 2013-02-14 09:19:05|       2013-02-14|          Affiliates|  Domain Registration|          10.17|                         15.17| 0.3295978905735003|                       Web|         false|                   1|         false|              Go Daddy|               1|          Go Daddy|                     false|          2013-02-14|                  null|                  null|                            null|                             null|                         null|                 null|                            null|                                0|                                 0|                                  0|                                   0|                                    0|                                     0|               2019-08-05|                      null|                       null|               2019-08-05|             2022-05-01|              null|                  null|             null|                    null|                 null|shopper_360_daily...|                      Domestic|           United States|           United States|              United States|                   United States|       United States|                              Domestic|                   United States|                   United States|                      United States|                           United States|           United States|                              Domestic|                   United States|                   United States|                      United States|                           United States|           United States|      2022-09-16|                   2022-05-01|\n",
      "| 260840518|                      IN|                      IN|              IN|        Active|2022-04-30 00:00:00|             Partner|                      Pro| 697.1299999999999|                 310.3|                 310.3|                  436.99|           222.75000000000003|           222.75000000000003|          0.6114639066748532|       2022-04-27|              2020-03-31|                  2020-04-26|                                 true|                      Domain Name Transfer|                                 false|                           false|                               16.21|                          32.83|                                            16.21|                                             0.0|                                             0.0|               null|                 0.0|                       0.0|                      0.0|                      0.0|                  37.44|          NO_TIER|           false|       CnP Hosting,Domai...|                                N/A|                   9|                16|                            3|                    1025.09|                          548.91|                        12|                         2|                          0|             2022-04-27|              2021-09-16|                   None|            5|                   4|                            3|                            4| 2020-03-31 04:26:28|       2020-03-31|              Search|  Domain Registration|          46.80|                         70.66| 0.3376733654118313|                       Web|         false|                   1|         false|              Go Daddy|               1|          Go Daddy|                     false|          2020-03-31|                  null|                  null|                            null|                             null|                         null|                 null|                            null|                                0|                                 0|                                  0|                                   0|                                    0|                                     0|               2021-09-25|                      null|                       null|               2021-09-25|             2022-04-29|              null|                  null|             null|                    null|                 null|shopper_360_daily...|                 International|    International - T...|                   India|                      India|                           India|               India|                         International|            International - T...|                           India|                              India|                                   India|                   India|                         International|            International - T...|                           India|                              India|                                   India|                   India|      2022-09-16|                   2022-04-30|\n",
      "+----------+------------------------+------------------------+----------------+--------------+-------------------+--------------------+-------------------------+------------------+----------------------+----------------------+------------------------+-----------------------------+-----------------------------+----------------------------+-----------------+------------------------+----------------------------+-------------------------------------+------------------------------------------+--------------------------------------+--------------------------------+------------------------------------+-------------------------------+-------------------------------------------------+------------------------------------------------+------------------------------------------------+-------------------+--------------------+--------------------------+-------------------------+-------------------------+-----------------------+-----------------+----------------+---------------------------+-----------------------------------+--------------------+------------------+-----------------------------+---------------------------+--------------------------------+--------------------------+--------------------------+---------------------------+-----------------------+------------------------+-----------------------+-------------+--------------------+-----------------------------+-----------------------------+--------------------+-----------------+--------------------+---------------------+---------------+------------------------------+-------------------+--------------------------+--------------+--------------------+--------------+----------------------+----------------+------------------+--------------------------+--------------------+----------------------+----------------------+--------------------------------+---------------------------------+-----------------------------+---------------------+--------------------------------+---------------------------------+----------------------------------+-----------------------------------+------------------------------------+-------------------------------------+--------------------------------------+-------------------------+--------------------------+---------------------------+-------------------------+-----------------------+------------------+----------------------+-----------------+------------------------+---------------------+--------------------+------------------------------+------------------------+------------------------+---------------------------+--------------------------------+--------------------+--------------------------------------+--------------------------------+--------------------------------+-----------------------------------+----------------------------------------+------------------------+--------------------------------------+--------------------------------+--------------------------------+-----------------------------------+----------------------------------------+------------------------+----------------+-----------------------------+\n",
      "only showing top 20 rows"
     ]
    }
   ],
   "source": [
    "import tecton\n",
    "from datetime import datetime\n",
    "\n",
    "ws = tecton.get_workspace('jfarr')\n",
    "ds = ws.get_data_source(\"shopper_360_history_batch\")\n",
    "start_time = datetime(2021, 12, 1)\n",
    "end_time = datetime(2022, 1, 1)\n",
    "df = ds.get_dataframe(start_time=start_time,end_time=datetime.now(),apply_translator=True).to_spark()\n",
    "df.show()"
   ]
  },
  {
   "cell_type": "code",
   "execution_count": 31,
   "id": "698f85ec",
   "metadata": {},
   "outputs": [
    {
     "data": {
      "application/vnd.jupyter.widget-view+json": {
       "model_id": "",
       "version_major": 2,
       "version_minor": 0
      },
      "text/plain": [
       "FloatProgress(value=0.0, bar_style='info', description='Progress:', layout=Layout(height='25px', width='50%'),…"
      ]
     },
     "metadata": {},
     "output_type": "display_data"
    },
    {
     "name": "stdout",
     "output_type": "stream",
     "text": [
      "+----------+-------------+--------------+---------------+------------+----------------+-----------------+----------------------+\n",
      "|shopper_id|window_end_ts|acq_viral_flag|acq_pop_c3_flag|churned_flag|acq_country_code|acq_bill_mst_date|shopper_churn_mst_date|\n",
      "+----------+-------------+--------------+---------------+------------+----------------+-----------------+----------------------+\n",
      "+----------+-------------+--------------+---------------+------------+----------------+-----------------+----------------------+"
     ]
    }
   ],
   "source": [
    "import tecton\n",
    "from datetime import datetime\n",
    "\n",
    "ws = tecton.get_workspace('jfarr')\n",
    "start_time = datetime(2021, 12, 1)\n",
    "end_time = datetime(2022, 1, 1)\n",
    "fv = ws.get_feature_view(\"customer_marketing_non_aggregated\")\n",
    "df = fv.run(start_time=start_time,end_time=datetime.now()).to_spark()\n",
    "df.show()"
   ]
  },
  {
   "cell_type": "code",
   "execution_count": 33,
   "id": "3f26ebb7",
   "metadata": {},
   "outputs": [
    {
     "data": {
      "application/vnd.jupyter.widget-view+json": {
       "model_id": "",
       "version_major": 2,
       "version_minor": 0
      },
      "text/plain": [
       "FloatProgress(value=0.0, bar_style='info', description='Progress:', layout=Layout(height='25px', width='50%'),…"
      ]
     },
     "metadata": {},
     "output_type": "display_data"
    },
    {
     "name": "stdout",
     "output_type": "stream",
     "text": [
      "== Physical Plan ==\n",
      "* Project (4)\n",
      "+- * Filter (3)\n",
      "   +- * ColumnarToRow (2)\n",
      "      +- Scan parquet tecton_dev.shopper_360_history (1)\n",
      "\n",
      "\n",
      "(1) Scan parquet tecton_dev.shopper_360_history\n",
      "Output [8]: [shopper_id#5767, acq_country_code#5770, evaluation_mst_date#5772, acq_bill_mst_date#5820, acq_point_of_purchase_name#5826, acq_viral_flag#5827, shopper_churn_mst_date#5836, partition_evaluation_mst_date#5878]\n",
      "Batched: true\n",
      "Location: InMemoryFileIndex [s3://gd-gdmltecton-stage-athena-queries/GD-AWS-USA-GD-gdmltecton-Ops/shopper_360_history]\n",
      "PushedFilters: [IsNotNull(partition_evaluation_mst_date), IsNotNull(evaluation_mst_date), GreaterThanOrEqual(partition_evaluation_mst_date,1970-01-01), LessThanOrEqual(partition_evaluation_mst_date,2022-10-06)]\n",
      "ReadSchema: struct<shopper_id:string,acq_country_code:string,evaluation_mst_date:date,acq_bill_mst_date:date,acq_point_of_purchase_name:string,acq_viral_flag:boolean,shopper_churn_mst_date:date,partition_evaluation_mst_date:string>\n",
      "\n",
      "(2) ColumnarToRow [codegen id : 1]\n",
      "Input [8]: [shopper_id#5767, acq_country_code#5770, evaluation_mst_date#5772, acq_bill_mst_date#5820, acq_point_of_purchase_name#5826, acq_viral_flag#5827, shopper_churn_mst_date#5836, partition_evaluation_mst_date#5878]\n",
      "\n",
      "(3) Filter [codegen id : 1]\n",
      "Input [8]: [shopper_id#5767, acq_country_code#5770, evaluation_mst_date#5772, acq_bill_mst_date#5820, acq_point_of_purchase_name#5826, acq_viral_flag#5827, shopper_churn_mst_date#5836, partition_evaluation_mst_date#5878]\n",
      "Condition : ((((((((((isnotnull(partition_evaluation_mst_date#5878) AND isnotnull(evaluation_mst_date#5772)) AND (partition_evaluation_mst_date#5878 >= 1970-01-01)) AND (partition_evaluation_mst_date#5878 <= 2022-10-06)) AND (cast(evaluation_mst_date#5772 as timestamp) >= 0)) AND (cast(evaluation_mst_date#5772 as timestamp) < 1665086959856150)) AND (cast(partition_evaluation_mst_date#5878 as timestamp) >= 1630540800000000)) AND (cast(partition_evaluation_mst_date#5878 as timestamp) <= 1638316800000000)) AND (cast(evaluation_mst_date#5772 as timestamp) >= 1630540800000000)) AND (cast(evaluation_mst_date#5772 as timestamp) <= 1638316800000000)) AND (cast(evaluation_mst_date#5772 as timestamp) >= 1638316800000000))\n",
      "\n",
      "(4) Project [codegen id : 1]\n",
      "Output [8]: [shopper_id#5767, cast(evaluation_mst_date#5772 as timestamp) AS window_end_ts#7475, cast(coalesce(acq_viral_flag#5827, false) as bigint) AS acq_viral_flag#6785L, cast(coalesce(CASE WHEN (acq_point_of_purchase_name#5826 = C3) THEN true ELSE false END, false) as bigint) AS acq_pop_c3_flag#6900L, cast(coalesce(CASE WHEN isnull(acq_bill_mst_date#5820) THEN false WHEN (coalesce(shopper_churn_mst_date#5836, -25567) = -25567) THEN false ELSE true END, false) as bigint) AS churned_flag#7015L, upper(acq_country_code#5770) AS acq_country_code#7130, unix_timestamp(acq_bill_mst_date#5820, yyyy-MM-dd HH:mm:ss, Some(UTC), false) AS acq_bill_mst_date#7245L, unix_timestamp(shopper_churn_mst_date#5836, yyyy-MM-dd HH:mm:ss, Some(UTC), false) AS shopper_churn_mst_date#7360L]\n",
      "Input [8]: [shopper_id#5767, acq_country_code#5770, evaluation_mst_date#5772, acq_bill_mst_date#5820, acq_point_of_purchase_name#5826, acq_viral_flag#5827, shopper_churn_mst_date#5836, partition_evaluation_mst_date#5878]"
     ]
    }
   ],
   "source": [
    "df.explain(mode=\"formatted\")"
   ]
  },
  {
   "cell_type": "code",
   "execution_count": 1,
   "id": "47b15ea3",
   "metadata": {},
   "outputs": [
    {
     "name": "stdout",
     "output_type": "stream",
     "text": [
      "Starting Spark application\n"
     ]
    },
    {
     "data": {
      "text/html": [
       "<table>\n",
       "<tr><th>ID</th><th>YARN Application ID</th><th>Kind</th><th>State</th><th>Spark UI</th><th>Driver log</th><th>User</th><th>Current session?</th></tr><tr><td>0</td><td>application_1664670556316_0002</td><td>pyspark</td><td>idle</td><td><a target=\"_blank\" href=\"http://ip-192-168-8-65.us-west-2.compute.internal:20888/proxy/application_1664670556316_0002/\">Link</a></td><td><a target=\"_blank\" href=\"http://ip-192-168-8-211.us-west-2.compute.internal:8042/node/containerlogs/container_1664670556316_0002_01_000001/livy\">Link</a></td><td>None</td><td>✔</td></tr></table>"
      ],
      "text/plain": [
       "<IPython.core.display.HTML object>"
      ]
     },
     "metadata": {},
     "output_type": "display_data"
    },
    {
     "data": {
      "application/vnd.jupyter.widget-view+json": {
       "model_id": "",
       "version_major": 2,
       "version_minor": 0
      },
      "text/plain": [
       "FloatProgress(value=0.0, bar_style='info', description='Progress:', layout=Layout(height='25px', width='50%'),…"
      ]
     },
     "metadata": {},
     "output_type": "display_data"
    },
    {
     "name": "stdout",
     "output_type": "stream",
     "text": [
      "SparkSession available as 'spark'.\n"
     ]
    },
    {
     "data": {
      "application/vnd.jupyter.widget-view+json": {
       "model_id": "",
       "version_major": 2,
       "version_minor": 0
      },
      "text/plain": [
       "FloatProgress(value=0.0, bar_style='info', description='Progress:', layout=Layout(height='25px', width='50%'),…"
      ]
     },
     "metadata": {},
     "output_type": "display_data"
    },
    {
     "name": "stdout",
     "output_type": "stream",
     "text": [
      "+-----------+-------------+-----------------+--------------+----------------+--------------------+-----------------+----------------+----------------+-------------------+-------------------------+-------------------------+----------------------------+---------------------------+------------------------------+---------------------------------+-------------------------+-------------------+--------------------+-------------------+-------------------+------------------+----------------------------+-----------------------+---------------------+-------------------------+--------------------+---------------------+------------------------------+------------------+-------------+-------------------+---------------------+---------------------+----------------+----------------------+----------------------+----------------------------+-----------------+-------------------------+-------------------------+-------------------------+------------------------------+---------------------------+--------------------------------+-----------------+-------------------+---------------------------+---------------------------------+-----------------------+-----------------------------+---------------------------------+---------------------+------------------------+-----------------------------+------------------+------------------------------------+----------------------------------------------+----------------------------+-------------------------------------+-----------------------+--------------------+----------------------+-------------------------------+----------------------------+------------------------------+----------------+----------------------+-------------------------+----------------------+---------------------+------------------------+------------------------+-------------------------------------+--------------------+---------------+--------------------+---------------+------------------+--------------------+--------------------+--------------------+---------------------------------+---------------------------------+----------------+----------------------+------------------+--------------------+----------------------+---------------------+--------------------+-----------------------+--------------------+-----------------------------+-------------+---------------------+-------+--------------+--------+------------+----------------+-----------------+---------------------+----------------------+-----------------------------------+-----------+------------+-------------------------+------------------+-------------------+------------------+-------------------+-------------------------------------+--------------------------------------+------------+-------------+--------------------------+---------------------------+------------------+-------------------+-----------+------------+-------------------------+--------------------------+-----------+------------+-----------------------------+------------------------------+----------------------------------+-----------------------------------+--------------------------+---------------------------+--------------------+---------------------+--------------------------------+---------------------------+----------------------------------+------------------+--------+-------------------+-----------------------+---------------------+-----------------------+-------------------+-----------------------------+-----------------------+-------------------+--------------------+--------------------+--------------------+-----------------+--------------+-------------------+--------------------+------------------------+----------------------+-------------------+--------------------+--------------------+-----------------------+----------------------------------+-----------+---------------+------------------------+-------------------------+---------------+------------+------------------------+----------------------------+--------------------+-------------------------+----------------+------------------------+----------------+-----------------------+----------------------------------+----------------+-----------------+----------------------+--------------------------+----------------------------------+-------------------+--------------------+-----------------------------+\n",
      "|    bill_id|bill_line_num|bill_country_code|rep_version_id|private_label_id|bill_isc_source_code|bill_sub_geo_code|bill_postal_code|bill_source_name|    entered_by_name|translation_language_name|primary_payment_type_name|primary_payment_subtype_name|secondary_payment_type_name|secondary_payment_subtype_name|bill_modified_mst_date_prior_year|bill_isc_source_code_desc|bill_isc_company_id|bill_isc_campaign_id|bill_isc_channel_id|bill_isc_product_id|bill_isc_vendor_id|bill_isc_media_specialist_id|bill_isc_sub_channel_id|bill_isc_channel_name|bill_isc_sub_channel_name|bill_isc_vendor_name|bill_isc_product_name|bill_isc_media_specialist_name|reseller_type_name|reseller_name|reseller_shopper_id|reseller_country_code|reseller_country_name|     c3_rep_name|c3_rep_supervisor_name|c3_rep_department_name|c3_call_center_location_name|bill_country_name|bill_report_region_1_name|bill_report_region_2_name|bill_report_region_3_name|bill_report_focal_country_name|bill_report_sub_region_name|bill_domestic_international_name|merged_shopper_id|original_shopper_id|new_registered_user_bill_id|new_acquisition_bill_country_code|new_acquisition_bill_id|new_acquisition_bill_mst_date|new_registered_user_bill_mst_date|federation_partner_id|federation_friendly_name|web_pro_participant_type_name|web_pro_shopper_id|original_shopper_exclude_reason_desc|original_shopper_exclude_reason_month_end_desc|shopper_domain_portfolio_qty|shopper_domain_portfolio_segment_name|crm_portfolio_type_name|crm_portfolio_rep_id|crm_portfolio_rep_name|current_crm_portfolio_type_name|current_crm_portfolio_rep_id|current_crm_portfolio_rep_name|product_term_num|product_term_unit_desc|product_pnl_category_name|product_pnl_group_name|product_pnl_line_name|product_pnl_subline_name|product_pnl_version_name|original_product_pnl_new_renewal_name|   product_type_desc|product_type_id|        product_name|pnl_new_renewal|bill_fraud_flag_ts|bill_fraud_flag_date|bill_fraud_review_id|free_trial_type_desc|free_trial_target_expiration_date|product_free_trial_acquisition_ts|original_bill_id|original_bill_line_num|source_system_name|bill_modified_mst_ts|bill_modified_mst_date|subaccount_shopper_id|  item_tracking_code|item_tracking_code_desc|  purchase_path_name|purchase_path_attributed_name|department_id|accounting_company_id|  pf_id|upgraded_pf_id|unit_qty|duration_qty|product_unit_qty|product_month_qty|receipt_price_usd_amt|receipt_price_trxn_amt|receipt_price_constant_currency_amt|gcr_usd_amt|gcr_trxn_amt|gcr_constant_currency_amt|margin_gcr_usd_amt|margin_gcr_trxn_amt|commission_usd_amt|commission_trxn_amt|aftermarket_seller_commission_usd_amt|aftermarket_seller_commission_trxn_amt|cost_usd_amt|cost_trxn_amt|msrp_duration_unit_usd_amt|msrp_duration_unit_trxn_amt|msrp_total_usd_amt|msrp_total_trxn_amt|fee_usd_amt|fee_trxn_amt|fair_market_value_usd_amt|fair_market_value_trxn_amt|tax_usd_amt|tax_trxn_amt|receipt_regular_price_usd_amt|receipt_regular_price_trxn_amt|injected_fair_market_value_usd_amt|injected_fair_market_value_trxn_amt|injected_icann_fee_usd_amt|injected_icann_fee_trxn_amt|injected_tax_usd_amt|injected_tax_trxn_amt|bundle_allocated_revenue_usd_amt|reseller_commission_usd_amt|parent_reseller_commission_usd_amt|trxn_currency_code|offer_id|offer_collection_id|free_product_package_id|variant_price_type_id|variant_price_type_name|exclude_reason_desc|exclude_reason_month_end_desc|bill_site_language_code|c3_bill_source_code|c3_bill_process_name|free_trial_bill_type|free_trial_bill_date|virtual_bill_flag|free_bill_flag|bill_isc_viral_flag|new_acquisition_flag|new_registered_user_flag|product_free_term_flag|units_as_bills_flag|primary_product_flag|c3_receipt_move_flag|product_free_trial_flag|product_free_trial_conversion_flag|refund_flag|chargeback_flag|accounting_deferred_flag|renewal_price_locked_flag|bill_fraud_flag|c3_bill_flag|c3_attribution_type_name|product_pnl_new_renewal_name|  customer_type_name|customer_type_reason_desc|domain_bulk_flag|domain_bulk_pricing_flag|pnl_priority_num|pnl_us_independent_flag|pnl_international_independent_flag|pnl_partner_flag|pnl_investor_flag|point_of_purchase_name|sub_point_of_purchase_name|shopper_product_purchase_type_name|   etl_build_mst_ts| source_process_name|partition_bill_mst_year_month|\n",
      "+-----------+-------------+-----------------+--------------+----------------+--------------------+-----------------+----------------+----------------+-------------------+-------------------------+-------------------------+----------------------------+---------------------------+------------------------------+---------------------------------+-------------------------+-------------------+--------------------+-------------------+-------------------+------------------+----------------------------+-----------------------+---------------------+-------------------------+--------------------+---------------------+------------------------------+------------------+-------------+-------------------+---------------------+---------------------+----------------+----------------------+----------------------+----------------------------+-----------------+-------------------------+-------------------------+-------------------------+------------------------------+---------------------------+--------------------------------+-----------------+-------------------+---------------------------+---------------------------------+-----------------------+-----------------------------+---------------------------------+---------------------+------------------------+-----------------------------+------------------+------------------------------------+----------------------------------------------+----------------------------+-------------------------------------+-----------------------+--------------------+----------------------+-------------------------------+----------------------------+------------------------------+----------------+----------------------+-------------------------+----------------------+---------------------+------------------------+------------------------+-------------------------------------+--------------------+---------------+--------------------+---------------+------------------+--------------------+--------------------+--------------------+---------------------------------+---------------------------------+----------------+----------------------+------------------+--------------------+----------------------+---------------------+--------------------+-----------------------+--------------------+-----------------------------+-------------+---------------------+-------+--------------+--------+------------+----------------+-----------------+---------------------+----------------------+-----------------------------------+-----------+------------+-------------------------+------------------+-------------------+------------------+-------------------+-------------------------------------+--------------------------------------+------------+-------------+--------------------------+---------------------------+------------------+-------------------+-----------+------------+-------------------------+--------------------------+-----------+------------+-----------------------------+------------------------------+----------------------------------+-----------------------------------+--------------------------+---------------------------+--------------------+---------------------+--------------------------------+---------------------------+----------------------------------+------------------+--------+-------------------+-----------------------+---------------------+-----------------------+-------------------+-----------------------------+-----------------------+-------------------+--------------------+--------------------+--------------------+-----------------+--------------+-------------------+--------------------+------------------------+----------------------+-------------------+--------------------+--------------------+-----------------------+----------------------------------+-----------+---------------+------------------------+-------------------------+---------------+------------+------------------------+----------------------------+--------------------+-------------------------+----------------+------------------------+----------------+-----------------------+----------------------------------+----------------+-----------------+----------------------+--------------------------+----------------------------------+-------------------+--------------------+-----------------------------+\n",
      "|1934781454R|            0|               US|        471731|               1|                ROHB|               VA|           23451|           Phone|      billing agent|                     null|                     null|                        null|                           |                              |                       2021-05-02|                  Unknown|               null|                null|                 45|               null|              null|                        null|                   null|               Legacy|                  Unknown|             Unknown|              Unknown|                       Unknown|          Go Daddy|  GoDaddy.com|               null|                   --|              Unknown|  Savachka, Lori|        Hayes, Zachary|         Inbound Sales|                       Tempe|    United States|            United States|            United States|            United States|                 United States|              United States|                        Domestic|         46395562|           46395562|                       null|                               US|              358724956|                   2011-09-12|                             null|                 null|                    null|                         null|              null|                                null|                                          null|                          15|                 15-24 Active Domains|                   null|                null|                  null|                           null|                        null|                          null|               1|                 month|            Other Hosting|               Hosting| cPanel Business H...|                 Enhance|    cPanel Business H...|                              Renewal|    Diablo - Renewal|          460.0|Enhance - Busines...|        Renewal|              null|                null|                null|                null|                             null|                             null|      1934781454|                     0|     legacy e-comm| 2022-05-01 13:20:13|            2022-05-01|                 null|                null|                Unknown|             Unknown|                      Unknown|         2451|                    1|1171231|          null|      -1|       1.000|               1|            -1.00|               -49.99|                -49.99|                             -49.99|       0.00|        0.00|                     0.00|              0.00|               0.00|              0.00|               0.00|                                 0.00|                                  0.00|        0.00|         0.00|                    -49.99|                     -49.99|            -49.99|             -49.99|       0.00|        0.00|                     0.00|                      0.00|       0.00|        0.00|                       -49.99|                        -49.99|                              0.00|                               0.00|                      0.00|                       0.00|                0.00|                 0.00|                            null|                       null|                              null|               USD|    null|               null|                   null|                    0|         Standard Price|               null|                         null|                Missing|               null|                null|                null|                null|            false|         false|              false|               false|                   false|                 false|               true|                true|               false|                  false|                             false|       true|          false|                   false|                    false|          false|       false|                    null|                     Renewal|             Partner|            Other Hosting|           false|                   false|             112|                  false|                             false|            true|            false|                    C3|             United States|              Existing - Buying...|2022-05-17 04:28:04|ads_bill_line.py ...|                      2022-05|\n",
      "|2010400723R|            0|               ES|        412618|               1|                ROHB|               01|           33012|          Online|      billing agent|                     null|                     null|                        null|                           |                              |                       2021-05-02|                  Unknown|               null|                null|                 28|               null|              null|                        null|                   null|             Branding|                  Unknown|             Unknown|              Unknown|                       Unknown|          Go Daddy|  GoDaddy.com|               null|                   --|              Unknown|Cedillos, Miguel|       Leonetti, Megan|                   Web|                         Web|            Spain|      International - RoW|      Rest of World (RoW)|              RoW Spanish|                         Spain|               South Europe|                   International|        450380883|          450380883|                       null|                               ES|             1969221283|                   2021-11-07|                             null|                 null|                    null|                         null|              null|                                null|                                          null|                           0|                     0 Active Domains|                   null|                null|                  null|                           null|                        null|                          null|               1|                 month|              Web Hosting|               Hosting|          CnP Hosting|                 Economy|                  cPanel|                              Renewal|    Diablo - Renewal|          460.0|Hosting - Web - E...|        Renewal|              null|                null|                null|                null|                             null|                             null|      2010400723|                     0|     legacy e-comm| 2022-05-01 18:32:28|            2022-05-01|                 null|                null|                Unknown|             Unknown|                      Unknown|         2451|                    1|  32049|          null|      -1|       1.000|               1|            -1.00|                -9.48|                 -8.99|                             -10.59|       0.00|        0.00|                     0.00|              0.00|               0.37|              0.00|               0.00|                                 0.00|                                  0.00|        0.00|        -0.37|                     -9.48|                      -8.99|             -9.48|              -8.99|       0.00|        0.00|                     0.00|                      0.00|      -1.99|       -1.89|                        -9.48|                         -8.99|                              0.00|                               0.00|                      0.00|                       0.00|                0.00|                 0.00|                            null|                       null|                              null|               EUR|    null|               null|                   1634|                    0|         Standard Price|               null|                         null|                Missing|               null|                null|                null|                null|            false|         false|              false|               false|                   false|                 false|               true|                true|               false|                  false|                             false|       true|          false|                   false|                    false|          false|       false|                    null|                     Renewal|International Ind...|     International Fir...|           false|                   false|              69|                  false|                             false|            true|            false|                   Web|      Web non-Care-init...|              Existing - Buying...|2022-05-17 04:28:04|ads_bill_line.py ...|                      2022-05|\n",
      "|2010581503R|            0|               CA|        468647|               1|                ROHB|               ON|         L4H 1B3|           Phone|      billing agent|                     null|                     null|                        null|                           |                              |                       2021-05-02|                  Unknown|               null|                null|                 45|               null|              null|                        null|                   null|               Legacy|                  Unknown|             Unknown|              Unknown|                       Unknown|          Go Daddy|  GoDaddy.com|               null|                   --|              Unknown|  Jones, Tiffany|           Roser, Mark|    C3 Support Level 3|                    Hiawatha|           Canada|     International - T...|                   Canada|                   Canada|                        Canada|                     Canada|                   International|        119388513|          119388513|                       null|                               CA|              921368778|                   2016-01-06|                             null|                 null|                    null|                         null|              null|                                null|                                          null|                           3|                   3-6 Active Domains|                   null|                null|                  null|                           null|                        null|                          null|               2|                  year|      Domain Registration|               Domains| Domain Name Regis...|                      CA|              Geo ccTLDs|                              Renewal|      Domain Renewal|            3.0|.CA Domain Name R...|        Renewal|              null|                null|                null|                null|                             null|                             null|      2010581503|                     0|     legacy e-comm| 2022-05-01 05:49:25|            2022-05-01|                 null|                null|                Unknown|             Unknown|                      Unknown|         1008|                    1|  19406|          null|      -1|       1.000|              -1|           -24.00|               -31.58|               -105.50|                             -32.91|       0.00|        0.00|                     0.00|              0.00|              52.30|              0.00|               0.00|                                 0.00|                                  0.00|        0.00|       -52.30|                    -31.59|                    -105.50|            -31.59|            -105.50|       0.00|        0.00|                     0.00|                      0.00|      -4.11|      -13.72|                       -31.59|                       -105.50|                              0.00|                               0.00|                      0.00|                       0.00|                0.00|                 0.00|                            null|                       null|                              null|               ILS|    null|               null|                   null|                    0|         Standard Price|               null|                         null|                Missing|               null|                null|                null|                null|            false|         false|              false|               false|                   false|                 false|              false|                true|               false|                  false|                             false|       true|          false|                   false|                    false|          false|       false|                    null|                     Renewal|             Partner|                      Pro|           false|                   false|             106|                  false|                             false|           false|             true|                    C3|             United States|              Existing - Buying...|2022-05-17 04:28:04|ads_bill_line.py ...|                      2022-05|\n",
      "|2031471842C|            2|               US|        478799|               1|                ROHB|               CA|           92562|   billing agent|Christopher A Weiss|                     null|                     null|                        null|                           |                              |                       2021-05-02|                  Unknown|               null|                null|                 -1|               null|              null|                        null|                   null|        Billing Agent|                  Unknown|             Unknown|              Unknown|                       Unknown|          Go Daddy|  GoDaddy.com|               null|                   --|              Unknown|    Weiss, Chris|         Buszka, Emily|         Billing Agent|               Billing Agent|    United States|            United States|            United States|            United States|                 United States|              United States|                        Domestic|        253339860|          253339860|                       null|                               US|             1622959768|                   2020-02-03|                             null|                 null|                    null|                         null|              null|                                null|                                          null|                           2|                     2 Active Domains|                   null|                null|                  null|                           null|                        null|                          null|               1|                  year|      Domain Registration|               Domains| Domain Name Regis...|                     COM|                     COM|                              Renewal|      Domain Renewal|            3.0|.COM Domain Name ...|        Renewal|              null|                null|                null|                null|                             null|                             null|      2031471842|                     4|     legacy e-comm| 2022-05-01 15:12:00|            2022-05-01|                 null|                null|                Unknown|             Unknown|                      Unknown|         1008|                    1|  10101|          null|      -1|       1.000|              -1|           -12.00|               -19.17|                -19.17|                             -19.17|      -0.18|       -0.18|                    -0.18|              0.00|               8.39|              0.00|               0.00|                                 0.00|                                  0.00|        0.00|        -8.39|                    -19.17|                     -19.17|            -19.17|             -19.17|      -0.18|       -0.18|                     0.00|                      0.00|       0.00|        0.00|                       -19.17|                        -19.17|                              0.00|                               0.00|                      0.00|                       0.00|                0.00|                 0.00|                            null|                       null|                              null|               USD|    null|               null|                   null|                    0|         Standard Price|               null|                         null|                Missing|               null|                null|                null|                null|            false|         false|              false|               false|                   false|                 false|              false|                true|               false|                  false|                             false|      false|           true|                   false|                    false|          false|       false|                    null|                     Renewal|      US Independent|           US First Order|           false|                   false|              22|                  false|                             false|           false|             true|         Billing Agent|             Billing Agent|              Existing - Buying...|2022-05-17 04:28:04|ads_bill_line.py ...|                      2022-05|\n",
      "|2033896016R|            0|               US|        467278|               1|                ROHB|               OH|           43229|           Phone|      billing agent|                     null|                     null|                        null|                           |                              |                       2021-05-02|                  Unknown|               null|                null|                 45|               null|              null|                        null|                   null|               Legacy|                  Unknown|             Unknown|              Unknown|                       Unknown|          Go Daddy|  GoDaddy.com|               null|                   --|              Unknown|    Dyce, Kalyca|     Malcolm, Toni-Ann|         Inbound Sales|              Jamaica - IBEX|    United States|            United States|            United States|            United States|                 United States|              United States|                        Domestic|        337886807|          337886807|                       null|                               US|             1803734855|                   2021-01-08|                             null|                 null|                    null|                         null|              null|                                null|                                          null|                           3|                   3-6 Active Domains|                   null|                null|                  null|                           null|                        null|                          null|               1|                  year|                 Presence|  Presence and Comm...|      Website Builder|           Super Premium|                   vNext|                              Renewal|Website Builder w...|          537.0|Websites + Market...|        Renewal|              null|                null|                null|                null|                             null|                             null|      2033896016|                     0|     legacy e-comm| 2022-05-01 12:08:01|            2022-05-01|                 null|                null|                Unknown|             Unknown|                      Unknown|         1022|                    1| 966984|          null|      -1|       0.750|               1|            -9.00|              -224.91|               -224.91|                            -224.91|       0.00|        0.00|                     0.00|              0.00|               0.00|              0.00|               0.00|                                 0.00|                                  0.00|        0.00|         0.00|                   -224.91|                    -224.91|           -224.91|            -224.91|       0.00|        0.00|                     0.00|                      0.00|     -16.87|      -16.87|                      -224.91|                       -224.91|                              0.00|                               0.00|                      0.00|                       0.00|                0.00|                 0.00|                            null|                       null|                              null|               USD|    null|               null|                   1675|                    0|         Standard Price|               null|                         null|                Missing|               null|                null|                null|                null|            false|         false|              false|               false|                   false|                 false|               true|                true|               false|                  false|                             false|       true|          false|                   false|                    false|          false|       false|                    null|                     Renewal|      US Independent|           US First Order|           false|                   false|              32|                   true|                             false|           false|            false|                    C3|             International|              Existing - Buying...|2022-05-17 04:28:04|ads_bill_line.py ...|                      2022-05|\n",
      "|2042729088C|            0|               US|        478799|               1|                ROHB|               FL|           33428|   billing agent|Christopher A Weiss|                     null|                     null|                        null|                           |                              |                       2021-05-02|                  Unknown|               null|                null|                 -1|               null|              null|                        null|                   null|        Billing Agent|                  Unknown|             Unknown|              Unknown|                       Unknown|          Go Daddy|  GoDaddy.com|               null|                   --|              Unknown|    Weiss, Chris|         Buszka, Emily|         Billing Agent|               Billing Agent|    United States|            United States|            United States|            United States|                 United States|              United States|                        Domestic|        210233520|          210233520|                       null|                               US|             1448338650|                   2019-02-19|                             null|                 null|                    null|                         null|              null|                                null|                                          null|                           9|                  7-14 Active Domains|                   null|                null|                  null|                           null|                        null|                          null|               3|                  year|              Web Hosting|               Hosting|          CnP Hosting|                  Deluxe|                  cPanel|                              Renewal|    Diablo - Renewal|          460.0|Hosting - Web - D...|        Renewal|              null|                null|                null|                null|                             null|                             null|      2042729088|                     0|     legacy e-comm| 2022-05-01 10:31:29|            2022-05-01|                 null|                null|                Unknown|             Unknown|                      Unknown|         2451|                    1|  32085|          null|      -1|       1.000|              -1|           -36.00|              -431.64|               -431.64|                            -431.64|       0.00|        0.00|                     0.00|              0.00|              19.08|              0.00|               0.00|                                 0.00|                                  0.00|        0.00|       -19.08|                   -431.64|                    -431.64|           -431.64|            -431.64|       0.00|        0.00|                     0.00|                      0.00|       0.00|        0.00|                      -431.64|                       -431.64|                              0.00|                               0.00|                      0.00|                       0.00|                0.00|                 0.00|                            null|                       null|                              null|               USD|    null|               null|                   null|                    0|         Standard Price|               null|                         null|                Missing|               null|                null|                null|                null|            false|         false|              false|               false|                   false|                 false|              false|                true|               false|                  false|                             false|      false|           true|                   false|                    false|          false|       false|                    null|                     Renewal|      US Independent|           US First Order|           false|                   false|              27|                  false|                             false|            true|            false|         Billing Agent|             Billing Agent|              Existing - Buying...|2022-05-17 04:28:04|ads_bill_line.py ...|                      2022-05|\n",
      "| 2044028800|            2|               US|             0|               1|             GPPTCOM|               NJ|           08505|          Online|           customer|                     null|              credit card|                        visa|                           |                              |                       2021-05-02|     $99 COM offer - u...|                  4|              223643|                 44|                  2|               275|                         175|                    169|         Parked Pages|             Parked Pages|            Go Daddy|              Domains|                    Sue Pierce|          Go Daddy|  GoDaddy.com|               null|                   --|              Unknown|            null|                  null|                   Web|                         Web|    United States|            United States|            United States|            United States|                 United States|              United States|                        Domestic|        158419034|          158419034|                       null|                               US|             1141309501|                   2017-06-07|                             null|                 null|                    null|                         null|              null|                                null|                                          null|                          19|                 15-24 Active Domains|                   null|                null|                  null|                           null|                        null|                          null|               1|                 month|                 Presence|  Presence and Comm...|      Website Builder|                   vNext|                   vNext|                         New Purchase| Website Builder wsb|          536.0|Standard W+M US F...|   New Purchase|              null|                null|                null|          free trial|                       2022-05-08|             2022-05-01 17:31:...|              -1|                    -1|     legacy e-comm| 2022-05-01 17:31:23|            2022-05-01|                 null|         dpp_config1|     New DPP Config ITC|Domain Purchase Path|         Domain Purchase Path|           22|                    1|1336704|          null|       1|       0.226|               1|             0.23|                 0.00|                  0.00|                               0.00|       0.00|        0.00|                     0.00|              0.00|               0.00|              0.00|               0.00|                                 0.00|                                  0.00|        0.00|         0.00|                      0.00|                       0.00|              0.00|               0.00|       0.00|        0.00|                     0.00|                      0.00|       0.00|        0.00|                         0.00|                          0.00|                              0.00|                               0.00|                      0.00|                       0.00|                0.00|                 0.00|                            null|                       null|                              null|               USD|    null|               null|                   null|                    0|         Standard Price|               null|                         null|                  en-us|               null|                null|            standard|          2022-05-01|            false|         false|               true|               false|                   false|                 false|               true|                true|               false|                   true|                             false|      false|          false|                    true|                     true|          false|       false|                    null|                New Purchase|      US Independent|           US First Order|           false|                   false|              11|                   true|                             false|           false|            false|                   Web|      Web non-Care-init...|                    Existing - New|2022-05-17 04:28:04|ads_bill_line.py ...|                      2022-05|\n",
      "| 2047474878|            0|               CO|             0|               1|            GOFLCO31|              N/A|          111111|          Online|           customer|                     null|              credit card|                        visa|                           |                              |                       2021-05-02|     Google Colombia ....|                  4|              223119|                 24|                  2|             45730|                         110|                    119|               Search|                   Search|     Google Colombia|              Domains|                suzi kamerling|          Go Daddy|  GoDaddy.com|               null|                   --|              Unknown|            null|                  null|                   Web|                         Web|         Colombia|      International - RoW|      Rest of World (RoW)|              RoW Spanish|                      Colombia|                LatAm-Tier2|                   International|         91892140|           91892140|                       null|                               CO|              749730643|                   2014-10-21|                             null|                 null|                    null|                         null|              null|                                null|                                          null|                          17|                 15-24 Active Domains|                   null|                null|                  null|                           null|                        null|                          null|               1|                  year|      Domain Registration|               Domains| Domain Name Regis...|                      CO|             Open ccTLDs|                              Renewal|      Domain Renewal|            3.0|.CO Domain Name R...|        Renewal|              null|                null|                null|                null|                             null|                             null|              -1|                    -1|     legacy e-comm| 2022-05-01 05:58:11|            2022-05-01|                 null|dcc_gridview_rene...|   Advanced List - D...|Domain Control Ce...|         Domain Control Ce...|         1008|                    1|  66401|          null|       1|       1.000|               1|            12.00|                31.00|             122999.00|                              32.28|      31.00|   123015.00|                    32.28|             11.00|           43650.00|              0.00|               0.00|                                 0.00|                                  0.00|       20.00|     79365.00|                     31.00|                  122999.00|             31.00|          122999.00|       0.00|        0.00|                    31.00|                 123015.00|       0.00|        0.00|                        31.00|                     122999.00|                              0.00|                               0.00|                      0.00|                       0.00|                0.00|                 0.00|                            null|                       null|                              null|               COP|    null|               null|                   null|                    0|         Standard Price|               null|                         null|                  es-co|               null|                null|                null|                null|            false|         false|              false|               false|                   false|                 false|              false|                true|               false|                  false|                             false|      false|          false|                    true|                    false|          false|       false|                    null|                     Renewal|International Ind...|     International Fir...|           false|                   false|              64|                  false|                             false|           false|             true|                   Web|      Web non-Care-init...|              Existing - Buying...|2022-05-17 04:28:04|ads_bill_line.py ...|                      2022-05|\n",
      "|2048693126R|            2|               BR|        444735|               1|                 ???|               MA|        65900000|          Online|           customer|                     null|                     null|                        null|                           |                              |                       2021-05-02|                  Unknown|               null|                null|                 28|               null|              null|                        null|                   null|             Branding|                  Unknown|             Unknown|              Unknown|                       Unknown|          Go Daddy|  GoDaddy.com|               null|                   --|              Unknown|  Dovidio, Brian|       Leonetti, Megan|                   Web|                         Web|           Brazil|      International - RoW|      Rest of World (RoW)|           RoW Portuguese|                        Brazil|                     Brazil|                   International|        464833795|          464833795|                       null|                               BR|             2048693126|                   2022-02-26|                             null|                 null|                    null|                         null|              null|                                null|                                          null|                           0|                     0 Active Domains|                   null|                null|                  null|                           null|                        null|                          null|               1|                  year|      Domain Registration|               Domains| Domain Name Regis...|                     COM|                     COM|                         New Purchase| Domain Registration|            2.0|.COM Domain Name ...|   New Purchase|              null|                null|                null|                null|                             null|                             null|      2048693126|                     2|     legacy e-comm| 2022-05-01 18:50:32|            2022-05-01|                 null|                null|                Unknown|             Unknown|                      Unknown|            8|                    1|    101|          null|      -1|       1.000|              -1|           -12.00|               -12.27|                -61.01|                             -11.59|      -0.20|       -1.02|                    -0.19|              0.00|              41.72|              0.00|               0.00|                                 0.00|                                  0.00|        0.00|       -41.72|                    -17.29|                     -86.01|            -17.29|             -86.01|      -0.20|       -1.02|                     0.00|                      0.00|       0.00|        0.00|                       -12.26|                        -61.01|                              0.00|                               0.00|                      0.00|                       0.00|                0.00|                 0.00|                            null|                       null|                              null|               BRL|    null|               null|                   1676|                    0|         Standard Price|               null|                         null|                Missing|               null|                null|                null|                null|            false|         false|              false|               false|                   false|                 false|              false|                true|               false|                  false|                             false|       true|          false|                   false|                    false|          false|       false|                    null|                New Purchase|International Ind...|     International Fir...|           false|                   false|              43|                  false|                              true|           false|            false|                   Web|      Web non-Care-init...|              Existing - Buying...|2022-05-17 04:28:04|ads_bill_line.py ...|                      2022-05|\n",
      "| 2053863014|            0|               US|             0|               1|          GDROCKSTAR|               PA|           18344|          Online|           customer|                     null|              credit card|                  mastercard|                           |                              |                       2021-05-02|     C3 Online Store 3...|                  4|              216070|                 45|                 22|               334|                          28|                    170|               Legacy|                       C3|           No Vendor|                  QSC|                 Chris Kennedy|          Go Daddy|  GoDaddy.com|               null|                   --|              Unknown|            null|                  null|                   Web|                         Web|    United States|            United States|            United States|            United States|                 United States|              United States|                        Domestic|         43093716|           43093716|                       null|                               US|              319262483|                   2011-04-09|                             null|                 null|                    null|                          Pro|              null|                                null|                                          null|                          12|                  7-14 Active Domains|                   null|                null|                  null|                           null|                        null|                          null|               5|                  year|      Domain Registration|               Domains| Domain Name Regis...|                     COM|                     COM|                         New Purchase| Domain Registration|            2.0|.COM Domain Name ...|   New Purchase|              null|                null|                null|                null|                             null|                             null|              -1|                    -1|     legacy e-comm| 2022-05-01 10:18:34|            2022-05-01|                 null|         wp_pro_card|   Pro buys on behal...|GoDaddy Pro - Pro...|         GoDaddy Pro - Pro...|            8|                    1|    105|          null|       1|       1.000|               1|            60.00|                70.86|                 70.86|                              70.86|      70.86|       70.86|                    70.86|             28.01|              28.01|              0.00|               0.00|                                 0.00|                                  0.00|       41.95|        41.95|                    100.85|                     100.85|            100.85|             100.85|       0.90|        0.90|                    69.96|                     69.96|       0.00|        0.00|                        92.85|                         92.85|                              0.00|                               0.00|                      0.00|                       0.00|                0.00|                 0.00|                            null|                       null|                              null|               USD|    null|               null|                   1676|                    0|         Standard Price|               null|                         null|                  en-us|               null|                null|                null|                null|            false|         false|              false|               false|                   false|                 false|              false|                true|               false|                  false|                             false|      false|          false|                    true|                    false|          false|       false|                    null|                New Purchase|             Partner|                      Pro|           false|                   false|              85|                  false|                             false|            true|            false|                   Web|      Web non-Care-init...|              Existing - Buying...|2022-05-17 04:28:04|ads_bill_line.py ...|                      2022-05|\n",
      "+-----------+-------------+-----------------+--------------+----------------+--------------------+-----------------+----------------+----------------+-------------------+-------------------------+-------------------------+----------------------------+---------------------------+------------------------------+---------------------------------+-------------------------+-------------------+--------------------+-------------------+-------------------+------------------+----------------------------+-----------------------+---------------------+-------------------------+--------------------+---------------------+------------------------------+------------------+-------------+-------------------+---------------------+---------------------+----------------+----------------------+----------------------+----------------------------+-----------------+-------------------------+-------------------------+-------------------------+------------------------------+---------------------------+--------------------------------+-----------------+-------------------+---------------------------+---------------------------------+-----------------------+-----------------------------+---------------------------------+---------------------+------------------------+-----------------------------+------------------+------------------------------------+----------------------------------------------+----------------------------+-------------------------------------+-----------------------+--------------------+----------------------+-------------------------------+----------------------------+------------------------------+----------------+----------------------+-------------------------+----------------------+---------------------+------------------------+------------------------+-------------------------------------+--------------------+---------------+--------------------+---------------+------------------+--------------------+--------------------+--------------------+---------------------------------+---------------------------------+----------------+----------------------+------------------+--------------------+----------------------+---------------------+--------------------+-----------------------+--------------------+-----------------------------+-------------+---------------------+-------+--------------+--------+------------+----------------+-----------------+---------------------+----------------------+-----------------------------------+-----------+------------+-------------------------+------------------+-------------------+------------------+-------------------+-------------------------------------+--------------------------------------+------------+-------------+--------------------------+---------------------------+------------------+-------------------+-----------+------------+-------------------------+--------------------------+-----------+------------+-----------------------------+------------------------------+----------------------------------+-----------------------------------+--------------------------+---------------------------+--------------------+---------------------+--------------------------------+---------------------------+----------------------------------+------------------+--------+-------------------+-----------------------+---------------------+-----------------------+-------------------+-----------------------------+-----------------------+-------------------+--------------------+--------------------+--------------------+-----------------+--------------+-------------------+--------------------+------------------------+----------------------+-------------------+--------------------+--------------------+-----------------------+----------------------------------+-----------+---------------+------------------------+-------------------------+---------------+------------+------------------------+----------------------------+--------------------+-------------------------+----------------+------------------------+----------------+-----------------------+----------------------------------+----------------+-----------------+----------------------+--------------------------+----------------------------------+-------------------+--------------------+-----------------------------+"
     ]
    }
   ],
   "source": [
    "df = spark.sql(\"select * from tecton_dev.ads_bill_line limit 10\")\n",
    "df.show()"
   ]
  },
  {
   "cell_type": "code",
   "execution_count": 8,
   "id": "9c8a610b",
   "metadata": {},
   "outputs": [
    {
     "name": "stderr",
     "output_type": "stream",
     "text": [
      "An error was encountered:\n",
      "Invalid status code '404' from http://tecton-notebook-emr-master.cluster.internal:8998/sessions/5 with error payload: {\"msg\":\"Session '5' not found.\"}\n"
     ]
    }
   ],
   "source": [
    "import tecton\n",
    "import pandas as pd\n",
    "from datetime import datetime\n",
    "\n",
    "ws = tecton.get_workspace('prod')\n",
    "fv = ws.get_feature_view('customer_orders_lifetime')\n",
    "\n",
    "# spine_df = pd.DataFrame([{\"shopper_id\": \"100001164\", \"ts\": datetime.now()}])\n",
    "# df = fv.get_historical_features(spine=spine_df).to_spark()\n",
    "\n",
    "df = fv.get_online_features(join_keys={\"shopper_id\": \"100001164\"})\n",
    "df"
   ]
  },
  {
   "cell_type": "code",
   "execution_count": 3,
   "id": "1eebf312",
   "metadata": {},
   "outputs": [
    {
     "data": {
      "application/vnd.jupyter.widget-view+json": {
       "model_id": "0253ba3d124d431788ffb1e44aa59e78",
       "version_major": 2,
       "version_minor": 0
      },
      "text/plain": [
       "FloatProgress(value=0.0, bar_style='info', description='Progress:', layout=Layout(height='25px', width='50%'),…"
      ]
     },
     "metadata": {},
     "output_type": "display_data"
    },
    {
     "name": "stderr",
     "output_type": "stream",
     "text": [
      "Interrupted by user\n"
     ]
    }
   ],
   "source": [
    "import tecton\n",
    "import pandas as pd\n",
    "from datetime import datetime\n",
    "\n",
    "# Retrieve the 'customer_recent_traffic_last_10' Feature View\n",
    "ws = tecton.get_workspace('prod')\n",
    "fv = ws.get_feature_view('F')\n",
    "\n",
    "# # Dry run the transformation pipeline with mock inputs\n",
    "# mock_inputs = {'input_1_name': mock_dataframe, ... }\n",
    "# fv.run(**mock_inputs).to_pandas().head()\n",
    "\n",
    "# Get feature data from offline store\n",
    "# spine_df = pandas.DataFrame([{'request_key_name': request_key_data, ...}, ...])\n",
    "spine_df = pd.DataFrame([{\"shopper_id\": \"105939907\", \"ts\": datetime(2021, 9, 6)}])\n",
    "df = fv.get_historical_features(spine=spine_df).to_spark()\n",
    "df.show(truncate=False)"
   ]
  },
  {
   "cell_type": "code",
   "execution_count": 1,
   "id": "936bb0a7-384e-45c7-92ec-ce6e1b4db4a2",
   "metadata": {},
   "outputs": [
    {
     "name": "stdout",
     "output_type": "stream",
     "text": [
      "Starting Spark application\n"
     ]
    },
    {
     "data": {
      "text/html": [
       "<table>\n",
       "<tr><th>ID</th><th>YARN Application ID</th><th>Kind</th><th>State</th><th>Spark UI</th><th>Driver log</th><th>User</th><th>Current session?</th></tr><tr><td>6</td><td>application_1661646412795_0008</td><td>pyspark</td><td>idle</td><td><a target=\"_blank\" href=\"http://ip-192-168-9-165.us-west-2.compute.internal:20888/proxy/application_1661646412795_0008/\">Link</a></td><td><a target=\"_blank\" href=\"http://ip-192-168-9-33.us-west-2.compute.internal:8042/node/containerlogs/container_1661646412795_0008_01_000001/livy\">Link</a></td><td>None</td><td>✔</td></tr></table>"
      ],
      "text/plain": [
       "<IPython.core.display.HTML object>"
      ]
     },
     "metadata": {},
     "output_type": "display_data"
    },
    {
     "data": {
      "application/vnd.jupyter.widget-view+json": {
       "model_id": "",
       "version_major": 2,
       "version_minor": 0
      },
      "text/plain": [
       "FloatProgress(value=0.0, bar_style='info', description='Progress:', layout=Layout(height='25px', width='50%'),…"
      ]
     },
     "metadata": {},
     "output_type": "display_data"
    },
    {
     "name": "stdout",
     "output_type": "stream",
     "text": [
      "SparkSession available as 'spark'.\n"
     ]
    },
    {
     "data": {
      "application/vnd.jupyter.widget-view+json": {
       "model_id": "",
       "version_major": 2,
       "version_minor": 0
      },
      "text/plain": [
       "FloatProgress(value=0.0, bar_style='info', description='Progress:', layout=Layout(height='25px', width='50%'),…"
      ]
     },
     "metadata": {},
     "output_type": "display_data"
    },
    {
     "name": "stdout",
     "output_type": "stream",
     "text": [
      "+--------------------+--------------------+------------------+---------------------------+--------------------+----------------+--------------------+-----------------+-------------------+------------------------------+-----------------------------+-----------------------+------------------------+------------------------------+---------------------+--------------------------+------------------------------+-------------------+-------------------+------------------+----------------+----------------+------------------+-----------------+-----------------+--------------------------------+-----------------+-----------------+--------------------+----------------+------------------+---------------+----------------+--------------------+-------------------------+-------------------+------------------------+--------------------+-----------+--------------------+------------------------+---------------------+------------------+-------------------+----------------------+---------------------------+-------------------------+-----------------------+------------------------+-----------------------------+----------------------+---------------------------+------------------------+---------------------+--------------------+--------------------+------------------------+---------------------+------------------+--------------------+--------------------+--------------------------+----------------------+-----------------------------------+-----------------------------------+---------------+--------------+---------------+----------------+-------------+---------------+---------------+------------------------------+----------------+----------------+------------------+----------+----------+------------+-----------+--------+-------+--------------------+------------+----------------------+----------------------------+-----------------------------+----------------+----------------------+-----------------------+-----------------------+-----------------------+------------------------+------------------------+--------------+------------------------+----------+-------------------+-------------------+-----------------------+---------------------------+----------------+----------------+----------+--------------+------------------+-----------------+--------------+-------+-----------------------------+---------------------+-------------------------+----------------------------+--------------------------+-----------------------------------+--------------------------+------------------------+---------------------------------+----------------------+--------------------+-----------------------------+---------------------------+-------------------------+----------------------------------+-----------------------------+---------------------------+------------------------------------+------------------------------+----------------------------+-------------------------------------+----------------+--------------+-----------------------+---------------------+-------------------+----------------------------+--------------+------------+---------------------+--------------------------+------------------------+---------------------------------+------------------------+----------------------+-------------------------------+-----------------+-----------+-------------------+---------------+------------+\n",
      "|          visit_guid|        visitor_guid|session_begin_date|relative_session_begin_date|    session_begin_ts|session_end_date|      session_end_ts|session_type_name|session_bounce_flag|session_viewed_sales_page_flag|session_viewed_help_page_flag|session_mobile_app_flag|session_add_to_cart_flag|session_free_trial_signup_flag|session_purchase_flag|new_product_purchased_flag|renewal_product_purchased_flag|repeat_shopper_flag|repeat_visitor_flag|site_language_text|site_market_text|site_market_code|site_language_code|site_country_code|site_country_name|site_domestic_international_name|site_region1_name|site_region2_name|site_sub_region_name|private_label_id|reseller_type_name|isc_source_code|isc_channel_name|isc_sub_channel_name|isc_acquisition_tier_name|    isc_vendor_name|isc_conversion_tier_name|  referring_url_text|referred_by| referring_host_name|referring_subdomain_name|referring_domain_name|referring_tld_name|referring_page_name|referring_query_string|referred_by_directnav_count|referred_by_godaddy_count|referred_by_other_count|referred_by_search_count|referred_by_socialmedia_count|landing_page_host_name|landing_page_subdomain_name|landing_page_domain_name|landing_page_tld_name|   landing_page_name| exit_page_host_name|exit_page_subdomain_name|exit_page_domain_name|exit_page_tld_name|      exit_page_name|          host_names|fully_qualified_page_names|ip_maxmind_region_name|ip_country_subdivision_level_1_name|ip_country_subdivision_level_2_name|   ip_city_name|ip_postal_code|ip_latitude_num|ip_longitude_num|ip_metro_code|ip_country_code|ip_country_name|ip_domestic_international_name|ip_region_1_name|ip_region_2_name|ip_sub_region_name|utm_source|utm_medium|utm_campaign|utm_content|utm_term|utm_tgt|     user_agent_text|browser_name|browser_name_major_num|browser_name_major_minor_num|browser_operating_system_name|device_type_name|device_breakpoint_name|browser_breakpoint_name|device_resolution_x_num|device_resolution_y_num|browser_resolution_x_num|browser_resolution_y_num|page_views_qty|session_duration_seconds|visits_qty|bouncing_visits_qty|ordering_visits_qty|new_purchase_visits_qty|renewal_purchase_visits_qty|new_shoppers_qty|cart_creates_qty|orders_qty|new_orders_qty|renewal_orders_qty|receipt_price_amt|margin_gcr_amt|gcr_amt|new_shopper_receipt_price_amt|new_receipt_price_amt|renewal_receipt_price_amt|dedicated_hosting_orders_qty|dedicated_hosting_unit_qty|dedicated_hosting_receipt_price_amt|virtual_hosting_orders_qty|virtual_hosting_unit_qty|virtual_hosting_receipt_price_amt|web_hosting_orders_qty|web_hosting_unit_qty|web_hosting_receipt_price_amt|domains_by_proxy_orders_qty|domains_by_proxy_unit_qty|domains_by_proxy_receipt_price_amt|domain_marketplace_orders_qty|domain_marketplace_unit_qty|domain_marketplace_receipt_price_amt|domain_registration_orders_qty|domain_registration_unit_qty|domain_registration_receipt_price_amt|email_orders_qty|email_unit_qty|email_receipt_price_amt|office_365_orders_qty|office_365_unit_qty|office_365_receipt_price_amt|ssl_orders_qty|ssl_unit_qty|ssl_receipt_price_amt|website_builder_orders_qty|website_builder_unit_qty|website_builder_receipt_price_amt|other_product_orders_qty|other_product_unit_qty|other_product_receipt_price_amt|chats_engaged_qty|shopper_ids|exclude_reason_desc|native_app_name|session_date|\n",
      "+--------------------+--------------------+------------------+---------------------------+--------------------+----------------+--------------------+-----------------+-------------------+------------------------------+-----------------------------+-----------------------+------------------------+------------------------------+---------------------+--------------------------+------------------------------+-------------------+-------------------+------------------+----------------+----------------+------------------+-----------------+-----------------+--------------------------------+-----------------+-----------------+--------------------+----------------+------------------+---------------+----------------+--------------------+-------------------------+-------------------+------------------------+--------------------+-----------+--------------------+------------------------+---------------------+------------------+-------------------+----------------------+---------------------------+-------------------------+-----------------------+------------------------+-----------------------------+----------------------+---------------------------+------------------------+---------------------+--------------------+--------------------+------------------------+---------------------+------------------+--------------------+--------------------+--------------------------+----------------------+-----------------------------------+-----------------------------------+---------------+--------------+---------------+----------------+-------------+---------------+---------------+------------------------------+----------------+----------------+------------------+----------+----------+------------+-----------+--------+-------+--------------------+------------+----------------------+----------------------------+-----------------------------+----------------+----------------------+-----------------------+-----------------------+-----------------------+------------------------+------------------------+--------------+------------------------+----------+-------------------+-------------------+-----------------------+---------------------------+----------------+----------------+----------+--------------+------------------+-----------------+--------------+-------+-----------------------------+---------------------+-------------------------+----------------------------+--------------------------+-----------------------------------+--------------------------+------------------------+---------------------------------+----------------------+--------------------+-----------------------------+---------------------------+-------------------------+----------------------------------+-----------------------------+---------------------------+------------------------------------+------------------------------+----------------------------+-------------------------------------+----------------+--------------+-----------------------+---------------------+-------------------+----------------------------+--------------+------------+---------------------+--------------------------+------------------------+---------------------------------+------------------------+----------------------+-------------------------------+-----------------+-----------+-------------------+---------------+------------+\n",
      "|6bd98ce2-bf63-49c...|6bd98ce2-bf63-49c...|        2021-06-11|                 2020-06-12|2021-06-11 11:05:...|      2021-06-11|2021-06-11 11:05:...|             null|               true|                         false|                        false|                  false|                   false|                          null|                false|                     false|                         false|              false|              false|              null|            null|            null|              null|             null|          Unknown|                   International|           Others|     Others-Tier3|        Others-Tier3|          497036|      API Reseller|            N/A|        Branding|             Unknown|                 Top-Tier|                N/A|         High-Converting|                    |  directnav|                 N/A|                     N/A|                  N/A|               N/A|                N/A|                   N/A|                          1|                        0|                      0|                       0|                            0|      www.afternic.com|                        www|                afternic|                  com| /domain/cuisine.com|    www.afternic.com|                     www|             afternic|               com| /domain/cuisine.com|  [www.afternic.com]|      [www.afternic.com...|         South America|                          Sao Paulo|                                 --|      São Paulo|         01323|       -23.5716|        -46.6443|           --|             BR|         Brazil|                 International|             CAL|  CAL Investment|            Brazil|      null|      null|        null|       null|    null|   null|Mozilla/5.0 (X11;...|      chrome|             chrome 88|                 chrome 88.0|                        linux|        computer|                Tablet|                Desktop|                    800|                    600|                    1920|                    1080|             1|                       0|         1|                  1|                  0|                      0|                          0|            null|               0|         0|             0|                 0|             0.00|          0.00|   0.00|                         0.00|                 0.00|                     0.00|                           0|                         0|                               0.00|                         0|                       0|                             0.00|                     0|                   0|                         0.00|                          0|                        0|                              0.00|                            0|                          0|                                0.00|                             0|                           0|                                 0.00|               0|             0|                   0.00|                    0|                  0|                        0.00|             0|           0|                 0.00|                         0|                       0|                             0.00|                       0|                     0|                           0.00|                0|         []|      Suspected Bot|           null|  2021-06-11|\n",
      "|6bd9f586-9745-48a...|e08c2ef0-199a-55b...|        2021-06-11|                 2020-06-12|2021-06-11 02:04:...|      2021-06-11|2021-06-11 02:04:...|             null|              false|                          true|                        false|                  false|                   false|                          null|                false|                     false|                         false|               true|               true|              null|           en-us|           en-us|                en|               US|    United States|                        Domestic|    United States|    United States|       United States|               1|          Go Daddy|            N/A|        Branding|             Unknown|                 Top-Tier|                N/A|         High-Converting|                    |  directnav|                 N/A|                     N/A|                  N/A|               N/A|                N/A|                   N/A|                          3|                        5|                      0|                       0|                            0|       www.godaddy.com|                        www|                 godaddy|                  com|  /domainsearch/find|     dcc.godaddy.com|                     dcc|              godaddy|               com|/manage/dgeryd.co...|[account.godaddy....|      [account.godaddy....|                  Asia|                                 --|                                 --|             --|            --|         1.3673|        103.8014|           --|             SG|      Singapore|                 International|            APAC| APAC Investment|        APAC-Tier2|      null|      null|        null|       null|    null|   null|Mozilla/5.0 (Wind...|      chrome|             chrome 91|                 chrome 91.0|                   windows 10|        computer|               Desktop|                Desktop|                   1536|                    864|                    1536|                     722|             8|                      29|         1|                  0|                  0|                      0|                          0|            null|               0|         0|             0|                 0|             0.00|          0.00|   0.00|                         0.00|                 0.00|                     0.00|                           0|                         0|                               0.00|                         0|                       0|                             0.00|                     0|                   0|                         0.00|                          0|                        0|                              0.00|                            0|                          0|                                0.00|                             0|                           0|                                 0.00|               0|             0|                   0.00|                    0|                  0|                        0.00|             0|           0|                 0.00|                         0|                       0|                             0.00|                       0|                     0|                           0.00|                0|[284928681]|               null|           null|  2021-06-11|\n",
      "|6bda6562-8868-4c7...|6bda6562-8868-4c7...|        2021-06-11|                 2020-06-12|2021-06-11 07:06:...|      2021-06-11|2021-06-11 07:06:...|             null|               true|                         false|                        false|                  false|                   false|                          null|                false|                     false|                         false|              false|              false|              null|            null|            null|              null|             null|          Unknown|                   International|           Others|     Others-Tier3|        Others-Tier3|          497036|      API Reseller|            N/A|        Branding|             Unknown|                 Top-Tier|                N/A|         High-Converting|http://www.google...|     search|      www.google.com|                     www|               google|               com|               /url|  sa=t&rct=j&q=&esr...|                          0|                        0|                      0|                       1|                            0|      www.afternic.com|                        www|                afternic|                  com|/forsale/heirloom...|    www.afternic.com|                     www|             afternic|               com|/forsale/heirloom...|  [www.afternic.com]|      [www.afternic.com...|         South America|                                 --|                                 --|             --|            --|       -12.0439|        -77.0281|           --|             PE|           Peru|                 International|             CAL|     Rest of CAL|       LatAm-Tier2|      null|      null|        null|       null|    null|   null|Mozilla/5.0 (Wind...|          ie|                 ie 11|                     ie 11.0|                    windows 7|        computer|               Desktop|                Desktop|                   1024|                    768|                    1024|                     673|             1|                       0|         1|                  1|                  0|                      0|                          0|            null|               0|         0|             0|                 0|             0.00|          0.00|   0.00|                         0.00|                 0.00|                     0.00|                           0|                         0|                               0.00|                         0|                       0|                             0.00|                     0|                   0|                         0.00|                          0|                        0|                              0.00|                            0|                          0|                                0.00|                             0|                           0|                                 0.00|               0|             0|                   0.00|                    0|                  0|                        0.00|             0|           0|                 0.00|                         0|                       0|                             0.00|                       0|                     0|                           0.00|                0|         []|               null|           null|  2021-06-11|\n",
      "|6bdbb12a-3908-4a3...|6bdbb12a-3908-4a3...|        2021-06-11|                 2020-06-12|2021-06-11 08:48:...|      2021-06-11|2021-06-11 08:48:...|             null|               true|                         false|                        false|                  false|                   false|                          null|                false|                     false|                         false|              false|              false|              null|            null|            null|              null|             null|          Unknown|                   International|           Others|     Others-Tier3|        Others-Tier3|               1|          Go Daddy|            N/A|        Branding|             Unknown|                 Top-Tier|                N/A|         High-Converting|https://orion.man...|      other|  orion.managewp.com|                   orion|             managewp|               com|             /login|                   N/A|                          0|                        0|                      1|                       0|                            0|    orion.managewp.com|                      orion|                managewp|                  com|/dashboard/site/8...|  orion.managewp.com|                   orion|             managewp|               com|/dashboard/site/8...|[orion.managewp.com]|      [orion.managewp.c...|         North America|                      Massachusetts|                                 --|       Sandwich|         02563|        41.7111|        -70.4887|          506|             US|  United States|                      Domestic|   United States|   United States|     United States|      null|      null|        null|       null|    null|   null|Mozilla/5.0 (Maci...|      chrome|             chrome 89|                 chrome 89.0|                     mac os x|        computer|               Desktop|                Desktop|                   1440|                    900|                    1378|                     642|             1|                       0|         1|                  1|                  0|                      0|                          0|            null|               0|         0|             0|                 0|             0.00|          0.00|   0.00|                         0.00|                 0.00|                     0.00|                           0|                         0|                               0.00|                         0|                       0|                             0.00|                     0|                   0|                         0.00|                          0|                        0|                              0.00|                            0|                          0|                                0.00|                             0|                           0|                                 0.00|               0|             0|                   0.00|                    0|                  0|                        0.00|             0|           0|                 0.00|                         0|                       0|                             0.00|                       0|                     0|                           0.00|                0|         []|               null|           null|  2021-06-11|\n",
      "|6bdcbb9b-57d4-4fd...|6c2fefdc-6a6d-40e...|        2021-06-11|                 2020-06-12|2021-06-11 05:01:...|      2021-06-11|2021-06-11 05:01:...|             null|               true|                          true|                        false|                  false|                   false|                          null|                false|                     false|                         false|              false|               true|              null|           en-us|           en-us|                en|               US|    United States|                        Domestic|    United States|    United States|       United States|               1|          Go Daddy|       CJC99COM|      Affiliates|          Affiliates|                 Top-Tier|Commission Junction|         High-Converting|https://businessn...|      other|businessnamegener...|                     www| businessnamegener...|               com|                N/A|                   N/A|                          0|                        0|                      1|                       0|                            0|       www.godaddy.com|                        www|                 godaddy|                  com|/offers/domains/a...|     www.godaddy.com|                     www|              godaddy|               com|/offers/domains/a...|   [www.godaddy.com]|      [www.godaddy.com/...|         North America|                            Florida|                                 --|Fort Lauderdale|         33324|         26.125|         -80.267|          528|             US|  United States|                      Domestic|   United States|   United States|     United States|      null|      null|        null|       null|    null|   null|Mozilla/5.0 (iPho...|      safari|             safari 14|                 safari 14.0|            mac os x (iphone)|          mobile|                 Phone|                  Phone|                    428|                    926|                     428|                     746|             1|                       0|         1|                  1|                  0|                      0|                          0|            null|               0|         0|             0|                 0|             0.00|          0.00|   0.00|                         0.00|                 0.00|                     0.00|                           0|                         0|                               0.00|                         0|                       0|                             0.00|                     0|                   0|                         0.00|                          0|                        0|                              0.00|                            0|                          0|                                0.00|                             0|                           0|                                 0.00|               0|             0|                   0.00|                    0|                  0|                        0.00|             0|           0|                 0.00|                         0|                       0|                             0.00|                       0|                     0|                           0.00|                0|         []|               null|           null|  2021-06-11|\n",
      "|6be62215-0141-5c9...|e8ddaa74-44d7-54f...|        2021-06-11|                 2020-06-12|2021-06-11 06:05:...|      2021-06-11|2021-06-11 06:05:...|             null|               true|                         false|                        false|                  false|                   false|                          null|                false|                     false|                         false|              false|               true|              null|           en-us|           en-us|                en|               US|    United States|                        Domestic|    United States|    United States|       United States|               1|          Go Daddy|            N/A|        Branding|             Unknown|                 Top-Tier|                N/A|         High-Converting|https://email11.g...|    godaddy| email11.godaddy.com|                 email11|              godaddy|               com|                  /|  s=AAABAAAAADYuMTIuMg|                          0|                        1|                      0|                       0|                            0|   email11.godaddy.com|                    email11|                 godaddy|                  com|     /window/compose| email11.godaddy.com|                 email11|              godaddy|               com|     /window/compose|[email11.godaddy....|      [email11.godaddy....|         North America|                               Ohio|                                 --|       Delaware|         43015|        40.2938|        -83.0744|          535|             US|  United States|                      Domestic|   United States|   United States|     United States|      null|      null|        null|       null|    null|   null|Mozilla/5.0 (Wind...|      chrome|             chrome 91|                 chrome 91.0|                   windows 10|        computer|               Desktop|                 Tablet|                   1280|                    720|                     988|                     614|             1|                       0|         1|                  1|                  0|                      0|                          0|            null|               0|         0|             0|                 0|             0.00|          0.00|   0.00|                         0.00|                 0.00|                     0.00|                           0|                         0|                               0.00|                         0|                       0|                             0.00|                     0|                   0|                         0.00|                          0|                        0|                              0.00|                            0|                          0|                                0.00|                             0|                           0|                                 0.00|               0|             0|                   0.00|                    0|                  0|                        0.00|             0|           0|                 0.00|                         0|                       0|                             0.00|                       0|                     0|                           0.00|                0|         []|               null|           null|  2021-06-11|\n",
      "|6be7011f-9a31-4b6...|6be7011f-9a31-4b6...|        2021-06-11|                 2020-06-12|2021-06-11 15:01:...|      2021-06-11|2021-06-11 15:01:...|             null|               true|                          true|                        false|                  false|                   false|                          null|                false|                     false|                         false|              false|              false|              null|           en-au|           en-au|                en|               AU|        Australia|                   International|              CAL|        Australia|           Australia|               1|          Go Daddy|            N/A|        Branding|             Unknown|                 Top-Tier|                N/A|         High-Converting|                    |  directnav|                 N/A|                     N/A|                  N/A|               N/A|                N/A|                   N/A|                          1|                        0|                      0|                       0|                            0|        au.godaddy.com|                         au|                 godaddy|                  com|  /domainsearch/find|      au.godaddy.com|                      au|              godaddy|               com|  /domainsearch/find|    [au.godaddy.com]|      [au.godaddy.com/d...|               Oceania|                    New South Wales|                                 --|         Sydney|          2000|       -33.8591|        151.2002|           --|             AU|      Australia|                 International|             CAL|       Australia|         Australia|      null|      null|        null|       null|    null|   null|Mozilla/5.0 (X11;...|      chrome|             chrome 88|                 chrome 88.0|                        linux|        computer|                Tablet|                Desktop|                    800|                    600|                    1920|                    1080|             1|                       0|         1|                  1|                  0|                      0|                          0|            null|               0|         0|             0|                 0|             0.00|          0.00|   0.00|                         0.00|                 0.00|                     0.00|                           0|                         0|                               0.00|                         0|                       0|                             0.00|                     0|                   0|                         0.00|                          0|                        0|                              0.00|                            0|                          0|                                0.00|                             0|                           0|                                 0.00|               0|             0|                   0.00|                    0|                  0|                        0.00|             0|           0|                 0.00|                         0|                       0|                             0.00|                       0|                     0|                           0.00|                0|         []|      Suspected Bot|           null|  2021-06-11|\n",
      "|6bea66e2-8a3b-488...|6bea66e2-8a3b-488...|        2021-06-11|                 2020-06-12|2021-06-11 02:58:...|      2021-06-11|2021-06-11 02:58:...|             null|               true|                          true|                        false|                  false|                   false|                          null|                false|                     false|                         false|              false|              false|              null|           en-gb|           en-gb|                en|               GB|   United Kingdom|                   International|             EMEA|   United Kingdom|      United Kingdom|               1|          Go Daddy|            N/A|        Branding|             Unknown|                 Top-Tier|                N/A|         High-Converting|                    |  directnav|                 N/A|                     N/A|                  N/A|               N/A|                N/A|                   N/A|                          1|                        0|                      0|                       0|                            0|        uk.godaddy.com|                         uk|                 godaddy|                  com|/domains/domain-n...|      uk.godaddy.com|                      uk|              godaddy|               com|/domains/domain-n...|    [uk.godaddy.com]|      [uk.godaddy.com/d...|                Europe|                            England|                                 --|         London|          EC2V|        51.5164|          -0.093|           --|             GB| United Kingdom|                 International|            EMEA|  United Kingdom|    United Kingdom|      null|      null|        null|       null|    null|   null|Mozilla/5.0 (X11;...|      chrome|             chrome 88|                 chrome 88.0|                        linux|        computer|                Tablet|                Desktop|                    800|                    600|                    1920|                    1080|             1|                       0|         1|                  1|                  0|                      0|                          0|            null|               0|         0|             0|                 0|             0.00|          0.00|   0.00|                         0.00|                 0.00|                     0.00|                           0|                         0|                               0.00|                         0|                       0|                             0.00|                     0|                   0|                         0.00|                          0|                        0|                              0.00|                            0|                          0|                                0.00|                             0|                           0|                                 0.00|               0|             0|                   0.00|                    0|                  0|                        0.00|             0|           0|                 0.00|                         0|                       0|                             0.00|                       0|                     0|                           0.00|                0|         []|      Suspected Bot|           null|  2021-06-11|\n",
      "|6bf5669f-0f08-5b4...|6bf5669f-0f08-5b4...|        2021-06-11|                 2020-06-12|2021-06-11 04:26:...|      2021-06-11|2021-06-11 04:26:...|             null|               true|                         false|                        false|                  false|                   false|                          null|                false|                     false|                         false|              false|              false|              null|           en-gb|           en-gb|                en|               GB|   United Kingdom|                   International|             EMEA|   United Kingdom|      United Kingdom|               1|          Go Daddy|            N/A|        Branding|             Unknown|                 Top-Tier|                N/A|         High-Converting|                    |  directnav|                 N/A|                     N/A|                  N/A|               N/A|                N/A|                   N/A|                          1|                        0|                      0|                       0|                            0|  activate.godaddy.com|                   activate|                 godaddy|                  com|                   /|activate.godaddy.com|                activate|              godaddy|               com|                   /|[activate.godaddy...|      [activate.godaddy...|                Europe|                            England|                                 --|         London|          EC2V|        51.5164|          -0.093|           --|             GB| United Kingdom|                 International|            EMEA|  United Kingdom|    United Kingdom|      null|      null|        null|       null|    null|   null|Mozilla/5.0 (X11;...|      chrome|             chrome 88|                 chrome 88.0|                        linux|        computer|                Tablet|                Desktop|                    800|                    600|                    1920|                    1080|             1|                       0|         1|                  1|                  0|                      0|                          0|            null|               0|         0|             0|                 0|             0.00|          0.00|   0.00|                         0.00|                 0.00|                     0.00|                           0|                         0|                               0.00|                         0|                       0|                             0.00|                     0|                   0|                         0.00|                          0|                        0|                              0.00|                            0|                          0|                                0.00|                             0|                           0|                                 0.00|               0|             0|                   0.00|                    0|                  0|                        0.00|             0|           0|                 0.00|                         0|                       0|                             0.00|                       0|                     0|                           0.00|                0|         []|      Suspected Bot|           null|  2021-06-11|\n",
      "|6bf66169-ca22-556...|6bf66169-ca22-556...|        2021-06-11|                 2020-06-12|2021-06-11 14:32:...|      2021-06-11|2021-06-11 14:32:...|             null|               true|                         false|                        false|                  false|                   false|                          null|                false|                     false|                         false|              false|              false|              null|           en-us|           en-us|                en|               US|    United States|                        Domestic|    United States|    United States|       United States|            null|              null|            N/A|        Branding|             Unknown|                 Top-Tier|                N/A|         High-Converting|                    |  directnav|                 N/A|                     N/A|                  N/A|               N/A|                N/A|                   N/A|                          1|                        0|                      0|                       0|                            0|  sso.secureserver.net|                        sso|            secureserver|                  net|                   /|sso.secureserver.net|                     sso|         secureserver|               net|                   /|[sso.secureserver...|      [sso.secureserver...|         North America|                                 --|                                 --|             --|            --|         37.751|         -97.822|           --|             US|  United States|                      Domestic|   United States|   United States|     United States|      null|      null|        null|       null|    null|   null|Mozilla/5.0 (X11;...|      chrome|             chrome 65|                 chrome 65.0|                        linux|        computer|               Desktop|                Desktop|                   1024|                    768|                    1600|                     795|             1|                       0|         1|                  1|                  0|                      0|                          0|            null|               0|         0|             0|                 0|             0.00|          0.00|   0.00|                         0.00|                 0.00|                     0.00|                           0|                         0|                               0.00|                         0|                       0|                             0.00|                     0|                   0|                         0.00|                          0|                        0|                              0.00|                            0|                          0|                                0.00|                             0|                           0|                                 0.00|               0|             0|                   0.00|                    0|                  0|                        0.00|             0|           0|                 0.00|                         0|                       0|                             0.00|                       0|                     0|                           0.00|                0|         []|               null|           null|  2021-06-11|\n",
      "+--------------------+--------------------+------------------+---------------------------+--------------------+----------------+--------------------+-----------------+-------------------+------------------------------+-----------------------------+-----------------------+------------------------+------------------------------+---------------------+--------------------------+------------------------------+-------------------+-------------------+------------------+----------------+----------------+------------------+-----------------+-----------------+--------------------------------+-----------------+-----------------+--------------------+----------------+------------------+---------------+----------------+--------------------+-------------------------+-------------------+------------------------+--------------------+-----------+--------------------+------------------------+---------------------+------------------+-------------------+----------------------+---------------------------+-------------------------+-----------------------+------------------------+-----------------------------+----------------------+---------------------------+------------------------+---------------------+--------------------+--------------------+------------------------+---------------------+------------------+--------------------+--------------------+--------------------------+----------------------+-----------------------------------+-----------------------------------+---------------+--------------+---------------+----------------+-------------+---------------+---------------+------------------------------+----------------+----------------+------------------+----------+----------+------------+-----------+--------+-------+--------------------+------------+----------------------+----------------------------+-----------------------------+----------------+----------------------+-----------------------+-----------------------+-----------------------+------------------------+------------------------+--------------+------------------------+----------+-------------------+-------------------+-----------------------+---------------------------+----------------+----------------+----------+--------------+------------------+-----------------+--------------+-------+-----------------------------+---------------------+-------------------------+----------------------------+--------------------------+-----------------------------------+--------------------------+------------------------+---------------------------------+----------------------+--------------------+-----------------------------+---------------------------+-------------------------+----------------------------------+-----------------------------+---------------------------+------------------------------------+------------------------------+----------------------------+-------------------------------------+----------------+--------------+-----------------------+---------------------+-------------------+----------------------------+--------------+------------+---------------------+--------------------------+------------------------+---------------------------------+------------------------+----------------------+-------------------------------+-----------------+-----------+-------------------+---------------+------------+"
     ]
    }
   ],
   "source": [
    "df = spark.sql(\"\"\"\n",
    "select * from dp_enterprise.uds_traffic_session \n",
    "where session_date = '2021-06-11'\n",
    "limit 10\n",
    "\"\"\")\n",
    "df.show()"
   ]
  },
  {
   "cell_type": "code",
   "execution_count": 25,
   "id": "b48a3892",
   "metadata": {},
   "outputs": [
    {
     "data": {
      "application/vnd.jupyter.widget-view+json": {
       "model_id": "",
       "version_major": 2,
       "version_minor": 0
      },
      "text/plain": [
       "FloatProgress(value=0.0, bar_style='info', description='Progress:', layout=Layout(height='25px', width='50%'),…"
      ]
     },
     "metadata": {},
     "output_type": "display_data"
    },
    {
     "name": "stdout",
     "output_type": "stream",
     "text": [
      "+--------------+----------+------------------+-----------------+----------+--------------+------------------------+------------------------------+---------------------+-----------------------------+-------------------+------------------------------+------------------------------+-----------------------+-------------------+-------------------+--------------------------+-----------------------------+------------------+---------------+-----------------+-----------------+------------+---------------------+\n",
      "|page_views_qty|orders_qty|renewal_orders_qty|receipt_price_amt|visits_qty|new_orders_qty|session_duration_seconds|session_free_trial_signup_flag|session_purchase_flag|session_viewed_help_page_flag|repeat_visitor_flag|renewal_product_purchased_flag|session_viewed_sales_page_flag|session_mobile_app_flag|repeat_shopper_flag|session_bounce_flag|new_product_purchased_flag|browser_operating_system_name|site_language_code|ip_country_code|site_country_code|session_type_name|browser_name|referring_domain_name|\n",
      "+--------------+----------+------------------+-----------------+----------+--------------+------------------------+------------------------------+---------------------+-----------------------------+-------------------+------------------------------+------------------------------+-----------------------+-------------------+-------------------+--------------------------+-----------------------------+------------------+---------------+-----------------+-----------------+------------+---------------------+\n",
      "|             2|         0|                 0|             0.00|         1|             0|                      58|                          null|                false|                        false|               true|                         false|                          true|                  false|               true|              false|                     false|                  android 1.x|                en|             GB|               GB|             null|      chrome|                  N/A|\n",
      "|             2|         0|                 0|             0.00|         1|             0|                      58|                          null|                false|                        false|               true|                         false|                          true|                  false|               true|              false|                     false|                  android 1.x|                en|             GB|               GB|             null|      chrome|                  N/A|\n",
      "|            17|         0|                 0|             0.00|         1|             0|                     436|                          null|                false|                        false|               true|                         false|                          true|                  false|               true|              false|                     false|                   windows 10|                en|             QA|               AE|             null|      chrome|                  N/A|\n",
      "|            14|         0|                 0|             0.00|         1|             0|                     750|                          null|                false|                        false|               true|                         false|                          true|                  false|               true|              false|                     false|                     mac os x|                en|             US|               US|             null|      safari|                  N/A|\n",
      "|            10|         1|                 0|            32.78|         1|             1|                     241|                          true|                 true|                         true|               true|                         false|                          true|                  false|               true|              false|                      true|                   windows 10|                en|             AU|               AU|             null|      chrome|                  N/A|\n",
      "|             3|         0|                 0|             0.00|         1|             0|                     541|                          null|                false|                        false|               true|                         false|                          true|                  false|               true|              false|                     false|                   windows 10|                en|             US|               US|             null|      chrome|              godaddy|\n",
      "|             9|         0|                 0|             0.00|         1|             0|                    1003|                          null|                false|                        false|               true|                         false|                          true|                  false|               true|              false|                     false|                   windows 10|                en|             US|               US|             null|      chrome|                  N/A|\n",
      "|             1|         0|                 0|             0.00|         1|             0|                       0|                          null|                false|                        false|               true|                         false|                          true|                  false|               true|               true|                     false|                   windows 10|                zh|             CN|               SG|             null|      chrome|                  N/A|\n",
      "|             3|         0|                 0|             0.00|         1|             0|                      67|                          null|                false|                        false|               true|                         false|                          true|                  false|               true|              false|                     false|                    windows 7|                en|             GR|               GB|             null|      chrome|                  N/A|\n",
      "|            22|         0|                 0|             0.00|         1|             0|                    1714|                          null|                false|                         true|              false|                         false|                          true|                  false|               true|              false|                     false|                   windows 10|                en|             US|               US|             null|      chrome|                  N/A|\n",
      "+--------------+----------+------------------+-----------------+----------+--------------+------------------------+------------------------------+---------------------+-----------------------------+-------------------+------------------------------+------------------------------+-----------------------+-------------------+-------------------+--------------------------+-----------------------------+------------------+---------------+-----------------+-----------------+------------+---------------------+"
     ]
    }
   ],
   "source": [
    "df = spark.sql(\"\"\"\n",
    "select \n",
    "    page_views_qty,\n",
    "    orders_qty,\n",
    "    renewal_orders_qty,\n",
    "    receipt_price_amt,\n",
    "    visits_qty,\n",
    "    new_orders_qty,\n",
    "    session_duration_seconds,\n",
    "    session_free_trial_signup_flag,\n",
    "    session_purchase_flag,\n",
    "    session_viewed_help_page_flag,\n",
    "    repeat_visitor_flag,\n",
    "    renewal_product_purchased_flag,\n",
    "    session_viewed_sales_page_flag,\n",
    "    session_mobile_app_flag,\n",
    "    repeat_shopper_flag,\n",
    "    session_bounce_flag,\n",
    "    new_product_purchased_flag,\n",
    "    browser_operating_system_name,\n",
    "    site_language_code,\n",
    "    ip_country_code,\n",
    "    site_country_code,\n",
    "    session_type_name,\n",
    "    browser_name,\n",
    "    referring_domain_name\n",
    "from tecton_dev.uds_traffic_session \n",
    "limit 10\n",
    "\"\"\")\n",
    "df.show()"
   ]
  },
  {
   "cell_type": "code",
   "execution_count": 17,
   "id": "b05b4565",
   "metadata": {},
   "outputs": [
    {
     "data": {
      "application/vnd.jupyter.widget-view+json": {
       "model_id": "",
       "version_major": 2,
       "version_minor": 0
      },
      "text/plain": [
       "FloatProgress(value=0.0, bar_style='info', description='Progress:', layout=Layout(height='25px', width='50%'),…"
      ]
     },
     "metadata": {},
     "output_type": "display_data"
    },
    {
     "name": "stdout",
     "output_type": "stream",
     "text": [
      "+--------------+----------+------------------+-----------------+----------+--------------+------------------------+------------------------------+---------------------+-----------------------------+-------------------+------------------------------+------------------------------+-----------------------+-------------------+-------------------+--------------------------+-----------------------------+------------------+---------------+-----------------+-----------------+------------+---------------------+----------------------------------------------------------------------------------------------------------------+\n",
      "|page_views_qty|orders_qty|renewal_orders_qty|receipt_price_amt|visits_qty|new_orders_qty|session_duration_seconds|session_free_trial_signup_flag|session_purchase_flag|session_viewed_help_page_flag|repeat_visitor_flag|renewal_product_purchased_flag|session_viewed_sales_page_flag|session_mobile_app_flag|repeat_shopper_flag|session_bounce_flag|new_product_purchased_flag|browser_operating_system_name|site_language_code|ip_country_code|site_country_code|session_type_name|browser_name|referring_domain_name|session_json                                                                                                    |\n",
      "+--------------+----------+------------------+-----------------+----------+--------------+------------------------+------------------------------+---------------------+-----------------------------+-------------------+------------------------------+------------------------------+-----------------------+-------------------+-------------------+--------------------------+-----------------------------+------------------+---------------+-----------------+-----------------+------------+---------------------+----------------------------------------------------------------------------------------------------------------+\n",
      "|2             |0         |0                 |0.00             |1         |0             |58                      |null                          |false                |false                        |true               |false                         |true                          |false                  |true               |false              |false                     |android 1.x                  |en                |GB             |GB               |null             |chrome      |N/A                  |{\"page_views_qty\":2.00,\"orders_qty\":0.00,\"renewal_orders_qty\":0.00,\"receipt_price_amt\":0.00,\"visits_qty\":1.00}  |\n",
      "|2             |0         |0                 |0.00             |1         |0             |58                      |null                          |false                |false                        |true               |false                         |true                          |false                  |true               |false              |false                     |android 1.x                  |en                |GB             |GB               |null             |chrome      |N/A                  |{\"page_views_qty\":2.00,\"orders_qty\":0.00,\"renewal_orders_qty\":0.00,\"receipt_price_amt\":0.00,\"visits_qty\":1.00}  |\n",
      "|17            |0         |0                 |0.00             |1         |0             |436                     |null                          |false                |false                        |true               |false                         |true                          |false                  |true               |false              |false                     |windows 10                   |en                |QA             |AE               |null             |chrome      |N/A                  |{\"page_views_qty\":17.00,\"orders_qty\":0.00,\"renewal_orders_qty\":0.00,\"receipt_price_amt\":0.00,\"visits_qty\":1.00} |\n",
      "|14            |0         |0                 |0.00             |1         |0             |750                     |null                          |false                |false                        |true               |false                         |true                          |false                  |true               |false              |false                     |mac os x                     |en                |US             |US               |null             |safari      |N/A                  |{\"page_views_qty\":14.00,\"orders_qty\":0.00,\"renewal_orders_qty\":0.00,\"receipt_price_amt\":0.00,\"visits_qty\":1.00} |\n",
      "|10            |1         |0                 |32.78            |1         |1             |241                     |true                          |true                 |true                         |true               |false                         |true                          |false                  |true               |false              |true                      |windows 10                   |en                |AU             |AU               |null             |chrome      |N/A                  |{\"page_views_qty\":10.00,\"orders_qty\":1.00,\"renewal_orders_qty\":0.00,\"receipt_price_amt\":32.78,\"visits_qty\":1.00}|\n",
      "|3             |0         |0                 |0.00             |1         |0             |541                     |null                          |false                |false                        |true               |false                         |true                          |false                  |true               |false              |false                     |windows 10                   |en                |US             |US               |null             |chrome      |godaddy              |{\"page_views_qty\":3.00,\"orders_qty\":0.00,\"renewal_orders_qty\":0.00,\"receipt_price_amt\":0.00,\"visits_qty\":1.00}  |\n",
      "|9             |0         |0                 |0.00             |1         |0             |1003                    |null                          |false                |false                        |true               |false                         |true                          |false                  |true               |false              |false                     |windows 10                   |en                |US             |US               |null             |chrome      |N/A                  |{\"page_views_qty\":9.00,\"orders_qty\":0.00,\"renewal_orders_qty\":0.00,\"receipt_price_amt\":0.00,\"visits_qty\":1.00}  |\n",
      "|1             |0         |0                 |0.00             |1         |0             |0                       |null                          |false                |false                        |true               |false                         |true                          |false                  |true               |true               |false                     |windows 10                   |zh                |CN             |SG               |null             |chrome      |N/A                  |{\"page_views_qty\":1.00,\"orders_qty\":0.00,\"renewal_orders_qty\":0.00,\"receipt_price_amt\":0.00,\"visits_qty\":1.00}  |\n",
      "|3             |0         |0                 |0.00             |1         |0             |67                      |null                          |false                |false                        |true               |false                         |true                          |false                  |true               |false              |false                     |windows 7                    |en                |GR             |GB               |null             |chrome      |N/A                  |{\"page_views_qty\":3.00,\"orders_qty\":0.00,\"renewal_orders_qty\":0.00,\"receipt_price_amt\":0.00,\"visits_qty\":1.00}  |\n",
      "|22            |0         |0                 |0.00             |1         |0             |1714                    |null                          |false                |true                         |false              |false                         |true                          |false                  |true               |false              |false                     |windows 10                   |en                |US             |US               |null             |chrome      |N/A                  |{\"page_views_qty\":22.00,\"orders_qty\":0.00,\"renewal_orders_qty\":0.00,\"receipt_price_amt\":0.00,\"visits_qty\":1.00} |\n",
      "+--------------+----------+------------------+-----------------+----------+--------------+------------------------+------------------------------+---------------------+-----------------------------+-------------------+------------------------------+------------------------------+-----------------------+-------------------+-------------------+--------------------------+-----------------------------+------------------+---------------+-----------------+-----------------+------------+---------------------+----------------------------------------------------------------------------------------------------------------+"
     ]
    }
   ],
   "source": [
    "from pyspark.sql.functions import col, create_map, lit, to_json\n",
    "df2 = df.withColumn(\"session_json\", to_json(create_map(\n",
    "    lit('page_views_qty'), col('page_views_qty'),\n",
    "    lit('orders_qty'), col('orders_qty'),\n",
    "    lit('renewal_orders_qty'), col('renewal_orders_qty'),\n",
    "    lit('receipt_price_amt'), col('receipt_price_amt'),\n",
    "    lit('visits_qty'), col('visits_qty')\n",
    ")))\n",
    "df2.show(truncate=False)"
   ]
  },
  {
   "cell_type": "code",
   "execution_count": 27,
   "id": "2afc1aec",
   "metadata": {},
   "outputs": [
    {
     "data": {
      "application/vnd.jupyter.widget-view+json": {
       "model_id": "",
       "version_major": 2,
       "version_minor": 0
      },
      "text/plain": [
       "FloatProgress(value=0.0, bar_style='info', description='Progress:', layout=Layout(height='25px', width='50%'),…"
      ]
     },
     "metadata": {},
     "output_type": "display_data"
    },
    {
     "name": "stdout",
     "output_type": "stream",
     "text": [
      "+--------------+----------+------------------+-----------------+----------+--------------+------------------------+------------------------------+---------------------+-----------------------------+-------------------+------------------------------+------------------------------+-----------------------+-------------------+-------------------+--------------------------+-----------------------------+------------------+---------------+-----------------+-----------------+------------+---------------------+----------------------------------------------------------------------------------------------------------------------------+\n",
      "|page_views_qty|orders_qty|renewal_orders_qty|receipt_price_amt|visits_qty|new_orders_qty|session_duration_seconds|session_free_trial_signup_flag|session_purchase_flag|session_viewed_help_page_flag|repeat_visitor_flag|renewal_product_purchased_flag|session_viewed_sales_page_flag|session_mobile_app_flag|repeat_shopper_flag|session_bounce_flag|new_product_purchased_flag|browser_operating_system_name|site_language_code|ip_country_code|site_country_code|session_type_name|browser_name|referring_domain_name|session_json                                                                                                                |\n",
      "+--------------+----------+------------------+-----------------+----------+--------------+------------------------+------------------------------+---------------------+-----------------------------+-------------------+------------------------------+------------------------------+-----------------------+-------------------+-------------------+--------------------------+-----------------------------+------------------+---------------+-----------------+-----------------+------------+---------------------+----------------------------------------------------------------------------------------------------------------------------+\n",
      "|8             |0         |0                 |0.00             |1         |0             |752                     |null                          |false                |false                        |true               |false                         |true                          |false                  |true               |false              |false                     |windows 10                   |en                |LB             |AU               |null             |chrome      |N/A                  |{\"page_views_qty\":8,\"orders_qty\":0,\"renewal_orders_qty\":0,\"receipt_price_amt\":0.00,\"visits_qty\":1,\"browser_name\":\"chrome\"}  |\n",
      "|2             |0         |0                 |0.00             |1         |0             |0                       |null                          |false                |false                        |true               |false                         |false                         |false                  |true               |false              |false                     |mac os x                     |en                |EG             |US               |null             |chrome      |N/A                  |{\"page_views_qty\":2,\"orders_qty\":0,\"renewal_orders_qty\":0,\"receipt_price_amt\":0.00,\"visits_qty\":1,\"browser_name\":\"chrome\"}  |\n",
      "|25            |0         |0                 |0.00             |1         |0             |241                     |null                          |false                |false                        |true               |false                         |true                          |false                  |true               |false              |false                     |windows 10                   |en                |US             |US               |null             |chrome      |godaddy              |{\"page_views_qty\":25,\"orders_qty\":0,\"renewal_orders_qty\":0,\"receipt_price_amt\":0.00,\"visits_qty\":1,\"browser_name\":\"chrome\"} |\n",
      "|5             |0         |0                 |0.00             |1         |0             |29                      |null                          |false                |false                        |true               |false                         |true                          |false                  |true               |false              |false                     |windows 10                   |zh                |CN             |SG               |null             |chrome      |N/A                  |{\"page_views_qty\":5,\"orders_qty\":0,\"renewal_orders_qty\":0,\"receipt_price_amt\":0.00,\"visits_qty\":1,\"browser_name\":\"chrome\"}  |\n",
      "|4             |0         |0                 |0.00             |1         |0             |245                     |null                          |false                |false                        |true               |false                         |true                          |false                  |true               |false              |false                     |windows 10                   |es                |CO             |CO               |null             |chrome      |N/A                  |{\"page_views_qty\":4,\"orders_qty\":0,\"renewal_orders_qty\":0,\"receipt_price_amt\":0.00,\"visits_qty\":1,\"browser_name\":\"chrome\"}  |\n",
      "|12            |1         |1                 |92.15            |1         |1             |145                     |null                          |true                 |false                        |true               |true                          |false                         |false                  |true               |false              |true                      |windows 10                   |es                |ES             |ES               |null             |chrome      |N/A                  |{\"page_views_qty\":12,\"orders_qty\":1,\"renewal_orders_qty\":1,\"receipt_price_amt\":92.15,\"visits_qty\":1,\"browser_name\":\"chrome\"}|\n",
      "|2             |2         |0                 |452.73           |1         |2             |0                       |null                          |true                 |false                        |true               |false                         |false                         |false                  |true               |false              |true                      |windows 10                   |en                |US             |US               |null             |chrome      |godaddy              |{\"page_views_qty\":2,\"orders_qty\":2,\"renewal_orders_qty\":0,\"receipt_price_amt\":452.73,\"visits_qty\":1,\"browser_name\":\"chrome\"}|\n",
      "|10            |1         |0                 |20.36            |1         |1             |107                     |true                          |true                 |false                        |true               |false                         |true                          |false                  |true               |false              |true                      |windows 10                   |en                |US             |US               |null             |chrome      |N/A                  |{\"page_views_qty\":10,\"orders_qty\":1,\"renewal_orders_qty\":0,\"receipt_price_amt\":20.36,\"visits_qty\":1,\"browser_name\":\"chrome\"}|\n",
      "|1             |0         |0                 |0.00             |1         |0             |0                       |null                          |false                |false                        |false              |false                         |false                         |false                  |true               |true               |false                     |windows 10                   |en                |US             |US               |null             |chrome      |godaddy              |{\"page_views_qty\":1,\"orders_qty\":0,\"renewal_orders_qty\":0,\"receipt_price_amt\":0.00,\"visits_qty\":1,\"browser_name\":\"chrome\"}  |\n",
      "|1             |0         |0                 |0.00             |1         |0             |0                       |null                          |false                |false                        |false              |false                         |false                         |false                  |true               |true               |false                     |windows 10                   |null              |US             |null             |null             |chrome      |maharashtraskitchen  |{\"page_views_qty\":1,\"orders_qty\":0,\"renewal_orders_qty\":0,\"receipt_price_amt\":0.00,\"visits_qty\":1,\"browser_name\":\"chrome\"}  |\n",
      "+--------------+----------+------------------+-----------------+----------+--------------+------------------------+------------------------------+---------------------+-----------------------------+-------------------+------------------------------+------------------------------+-----------------------+-------------------+-------------------+--------------------------+-----------------------------+------------------+---------------+-----------------+-----------------+------------+---------------------+----------------------------------------------------------------------------------------------------------------------------+"
     ]
    }
   ],
   "source": [
    "from pyspark.sql.functions import col, struct, lit, to_json\n",
    "df2 = df.withColumn(\"session_json\", to_json(struct(\n",
    "    col('page_views_qty'),\n",
    "    col('orders_qty'),\n",
    "    col('renewal_orders_qty'),\n",
    "    col('receipt_price_amt'),\n",
    "    col('visits_qty'),\n",
    "    col('browser_name'),\n",
    ")))\n",
    "df2.show(truncate=False)"
   ]
  },
  {
   "cell_type": "code",
   "execution_count": 28,
   "id": "390c308c",
   "metadata": {},
   "outputs": [
    {
     "data": {
      "application/vnd.jupyter.widget-view+json": {
       "model_id": "",
       "version_major": 2,
       "version_minor": 0
      },
      "text/plain": [
       "FloatProgress(value=0.0, bar_style='info', description='Progress:', layout=Layout(height='25px', width='50%'),…"
      ]
     },
     "metadata": {},
     "output_type": "display_data"
    },
    {
     "name": "stdout",
     "output_type": "stream",
     "text": [
      "+-------------------+----------------------------------------------------------+\n",
      "| Name              | uds_traffic_session_batch                                |\n",
      "+-------------------+----------------------------------------------------------+\n",
      "| Workspace         | jfarr                                                    |\n",
      "+-------------------+----------------------------------------------------------+\n",
      "| Description       |                                                          |\n",
      "+-------------------+----------------------------------------------------------+\n",
      "| Created At        | 2022-09-06 21:04:29 UTC                                  |\n",
      "+-------------------+----------------------------------------------------------+\n",
      "| Owner             |                                                          |\n",
      "+-------------------+----------------------------------------------------------+\n",
      "| Last Modified By  | jfarr1@godaddy.com                                       |\n",
      "+-------------------+----------------------------------------------------------+\n",
      "| Family            |                                                          |\n",
      "+-------------------+----------------------------------------------------------+\n",
      "| Source Filename   | venv/lib/python3.8/site-packages/tecton/cli/common.py    |\n",
      "+-------------------+----------------------------------------------------------+\n",
      "| Tags              | {'source': 'dp_enterprise', 'release': 'production',     |\n",
      "|                   | 'family': 'traffic'}                                     |\n",
      "+-------------------+----------------------------------------------------------+\n",
      "| URL               | https://gd-gdml-stage.tecton.ai/app/repo/jfarr/data-     |\n",
      "|                   | sources/uds_traffic_session_batch                        |\n",
      "+-------------------+----------------------------------------------------------+\n",
      "|                   | Type       Hive                                          |\n",
      "| Batch Data Source | Database   tecton_dev                                    |\n",
      "|                   | Table      uds_traffic_session                           |\n",
      "+-------------------+----------------------------------------------------------+"
     ]
    }
   ],
   "source": [
    "import tecton\n",
    "from datetime import datetime\n",
    "\n",
    "ws = tecton.get_workspace('jfarr')\n",
    "ds = ws.get_data_source('uds_traffic_session_batch')\n",
    "ds.summary()"
   ]
  },
  {
   "cell_type": "code",
   "execution_count": 3,
   "id": "559a2b6a",
   "metadata": {},
   "outputs": [
    {
     "data": {
      "application/vnd.jupyter.widget-view+json": {
       "model_id": "",
       "version_major": 2,
       "version_minor": 0
      },
      "text/plain": [
       "FloatProgress(value=0.0, bar_style='info', description='Progress:', layout=Layout(height='25px', width='50%'),…"
      ]
     },
     "metadata": {},
     "output_type": "display_data"
    },
    {
     "name": "stdout",
     "output_type": "stream",
     "text": [
      "['__annotations__', '__class__', '__delattr__', '__dict__', '__dir__', '__doc__', '__eq__', '__format__', '__ge__', '__getattribute__', '__gt__', '__hash__', '__init__', '__init_subclass__', '__le__', '__lt__', '__module__', '__ne__', '__new__', '__reduce__', '__reduce_ex__', '__repr__', '__setattr__', '__sizeof__', '__str__', '__subclasshook__', '__weakref__', '_create_from_proto', '_fco_metadata', '_fco_type_name_plural_capitalized', '_fco_type_name_plural_snake_case', '_fco_type_name_singular_capitalized', '_fco_type_name_singular_snake_case', '_from_proto_and_data_sources', '_get_stream_preview_dataframe', '_id_proto', '_proto', 'batch_ds', 'columns', 'created_at', 'defined_in', 'description', 'ds_proto', 'family', 'fco_container', 'get_dataframe', 'id', 'is_streaming', 'name', 'owner', 'start_stream_preview', 'stream_ds', 'summary', 'tags', 'workspace']"
     ]
    }
   ],
   "source": [
    "dir(ds)"
   ]
  },
  {
   "cell_type": "code",
   "execution_count": 21,
   "id": "28b3b1c6",
   "metadata": {},
   "outputs": [
    {
     "data": {
      "application/vnd.jupyter.widget-view+json": {
       "model_id": "",
       "version_major": 2,
       "version_minor": 0
      },
      "text/plain": [
       "FloatProgress(value=0.0, bar_style='info', description='Progress:', layout=Layout(height='25px', width='50%'),…"
      ]
     },
     "metadata": {},
     "output_type": "display_data"
    },
    {
     "name": "stdout",
     "output_type": "stream",
     "text": [
      "+--------------------+--------------------+------------------+---------------------------+--------------------+----------------+--------------------+-----------------+-------------------+------------------------------+-----------------------------+-----------------------+------------------------+------------------------------+---------------------+--------------------------+------------------------------+-------------------+-------------------+------------------+----------------+----------------+------------------+-----------------+-----------------+--------------------------------+--------------------+-------------------+--------------------+----------------+------------------+---------------+----------------+--------------------+-------------------------+---------------+------------------------+--------------------+-----------+--------------------+------------------------+---------------------+------------------+--------------------+----------------------+---------------------------+-------------------------+-----------------------+------------------------+-----------------------------+----------------------+---------------------------+------------------------+---------------------+--------------------+--------------------+------------------------+---------------------+------------------+--------------------+--------------------+--------------------------+----------------------+-----------------------------------+-----------------------------------+---------------+--------------+---------------+----------------+-------------+---------------+---------------+------------------------------+--------------------+-------------------+------------------+----------+----------+--------------------+--------------+--------+-------+--------------------+------------+----------------------+----------------------------+-----------------------------+----------------+----------------------+-----------------------+-----------------------+-----------------------+------------------------+------------------------+--------------+------------------------+----------+-------------------+-------------------+-----------------------+---------------------------+----------------+----------------+----------+--------------+------------------+-----------------+--------------+-------+-----------------------------+---------------------+-------------------------+----------------------------+--------------------------+-----------------------------------+--------------------------+------------------------+---------------------------------+----------------------+--------------------+-----------------------------+---------------------------+-------------------------+----------------------------------+-----------------------------+---------------------------+------------------------------------+------------------------------+----------------------------+-------------------------------------+----------------+--------------+-----------------------+---------------------+-------------------+----------------------------+--------------+------------+---------------------+--------------------------+------------------------+---------------------------------+------------------------+----------------------+-------------------------------+-----------------+--------------------+-------------------+---------------+------------+----------+\n",
      "|          visit_guid|        visitor_guid|session_begin_date|relative_session_begin_date|    session_begin_ts|session_end_date|      session_end_ts|session_type_name|session_bounce_flag|session_viewed_sales_page_flag|session_viewed_help_page_flag|session_mobile_app_flag|session_add_to_cart_flag|session_free_trial_signup_flag|session_purchase_flag|new_product_purchased_flag|renewal_product_purchased_flag|repeat_shopper_flag|repeat_visitor_flag|site_language_text|site_market_text|site_market_code|site_language_code|site_country_code|site_country_name|site_domestic_international_name|   site_region1_name|  site_region2_name|site_sub_region_name|private_label_id|reseller_type_name|isc_source_code|isc_channel_name|isc_sub_channel_name|isc_acquisition_tier_name|isc_vendor_name|isc_conversion_tier_name|  referring_url_text|referred_by| referring_host_name|referring_subdomain_name|referring_domain_name|referring_tld_name| referring_page_name|referring_query_string|referred_by_directnav_count|referred_by_godaddy_count|referred_by_other_count|referred_by_search_count|referred_by_socialmedia_count|landing_page_host_name|landing_page_subdomain_name|landing_page_domain_name|landing_page_tld_name|   landing_page_name| exit_page_host_name|exit_page_subdomain_name|exit_page_domain_name|exit_page_tld_name|      exit_page_name|          host_names|fully_qualified_page_names|ip_maxmind_region_name|ip_country_subdivision_level_1_name|ip_country_subdivision_level_2_name|   ip_city_name|ip_postal_code|ip_latitude_num|ip_longitude_num|ip_metro_code|ip_country_code|ip_country_name|ip_domestic_international_name|    ip_region_1_name|   ip_region_2_name|ip_sub_region_name|utm_source|utm_medium|        utm_campaign|   utm_content|utm_term|utm_tgt|     user_agent_text|browser_name|browser_name_major_num|browser_name_major_minor_num|browser_operating_system_name|device_type_name|device_breakpoint_name|browser_breakpoint_name|device_resolution_x_num|device_resolution_y_num|browser_resolution_x_num|browser_resolution_y_num|page_views_qty|session_duration_seconds|visits_qty|bouncing_visits_qty|ordering_visits_qty|new_purchase_visits_qty|renewal_purchase_visits_qty|new_shoppers_qty|cart_creates_qty|orders_qty|new_orders_qty|renewal_orders_qty|receipt_price_amt|margin_gcr_amt|gcr_amt|new_shopper_receipt_price_amt|new_receipt_price_amt|renewal_receipt_price_amt|dedicated_hosting_orders_qty|dedicated_hosting_unit_qty|dedicated_hosting_receipt_price_amt|virtual_hosting_orders_qty|virtual_hosting_unit_qty|virtual_hosting_receipt_price_amt|web_hosting_orders_qty|web_hosting_unit_qty|web_hosting_receipt_price_amt|domains_by_proxy_orders_qty|domains_by_proxy_unit_qty|domains_by_proxy_receipt_price_amt|domain_marketplace_orders_qty|domain_marketplace_unit_qty|domain_marketplace_receipt_price_amt|domain_registration_orders_qty|domain_registration_unit_qty|domain_registration_receipt_price_amt|email_orders_qty|email_unit_qty|email_receipt_price_amt|office_365_orders_qty|office_365_unit_qty|office_365_receipt_price_amt|ssl_orders_qty|ssl_unit_qty|ssl_receipt_price_amt|website_builder_orders_qty|website_builder_unit_qty|website_builder_receipt_price_amt|other_product_orders_qty|other_product_unit_qty|other_product_receipt_price_amt|chats_engaged_qty|         shopper_ids|exclude_reason_desc|native_app_name|session_date|shopper_id|\n",
      "+--------------------+--------------------+------------------+---------------------------+--------------------+----------------+--------------------+-----------------+-------------------+------------------------------+-----------------------------+-----------------------+------------------------+------------------------------+---------------------+--------------------------+------------------------------+-------------------+-------------------+------------------+----------------+----------------+------------------+-----------------+-----------------+--------------------------------+--------------------+-------------------+--------------------+----------------+------------------+---------------+----------------+--------------------+-------------------------+---------------+------------------------+--------------------+-----------+--------------------+------------------------+---------------------+------------------+--------------------+----------------------+---------------------------+-------------------------+-----------------------+------------------------+-----------------------------+----------------------+---------------------------+------------------------+---------------------+--------------------+--------------------+------------------------+---------------------+------------------+--------------------+--------------------+--------------------------+----------------------+-----------------------------------+-----------------------------------+---------------+--------------+---------------+----------------+-------------+---------------+---------------+------------------------------+--------------------+-------------------+------------------+----------+----------+--------------------+--------------+--------+-------+--------------------+------------+----------------------+----------------------------+-----------------------------+----------------+----------------------+-----------------------+-----------------------+-----------------------+------------------------+------------------------+--------------+------------------------+----------+-------------------+-------------------+-----------------------+---------------------------+----------------+----------------+----------+--------------+------------------+-----------------+--------------+-------+-----------------------------+---------------------+-------------------------+----------------------------+--------------------------+-----------------------------------+--------------------------+------------------------+---------------------------------+----------------------+--------------------+-----------------------------+---------------------------+-------------------------+----------------------------------+-----------------------------+---------------------------+------------------------------------+------------------------------+----------------------------+-------------------------------------+----------------+--------------+-----------------------+---------------------+-------------------+----------------------------+--------------+------------+---------------------+--------------------------+------------------------+---------------------------------+------------------------+----------------------+-------------------------------+-----------------+--------------------+-------------------+---------------+------------+----------+\n",
      "|218db2fc-6fea-51b...|84858b2c-19f3-48d...|        2022-06-04|                 2021-06-05|2022-06-04 10:43:...|      2022-06-04|2022-06-04 11:08:...|             null|              false|                          true|                        false|                  false|                   false|                          null|                false|                     false|                         false|               true|               true|              null|           zh-sg|           zh-sg|                zh|               SG|        Singapore|                   International| International - RoW|Rest of World (RoW)|          APAC-Tier2|               1|          Go Daddy|            N/A|        Branding|             Unknown|                 Top-Tier|            N/A|         High-Converting|https://sso.godad...|    godaddy|     sso.godaddy.com|                     sso|              godaddy|               com|                   /|  realm=idp&app=auc...|                          0|                        7|                      0|                       0|                            0|  sg.auctions.godad...|                sg.auctions|                 godaddy|                  com|                /zh/|sg.auctions.godad...|             sg.auctions|              godaddy|               com|/zh/trpMyAccount....|[sg.auctions.goda...|      [sg.auctions.goda...|                  Asia|                                 --|                                 --|             --|            --|        34.7732|         113.722|           --|             CN|          China|                 International|International - C...|              China|             China|      null|      null|                null|          null|    null|   null|Mozilla/5.0 (Wind...|      chrome|             chrome 86|                 chrome 86.0|                    windows 7|        computer|               Desktop|                Desktop|                   1920|                   1080|                    1920|                     931|             7|                    1522|         1|                  0|                  0|                      0|                          0|            null|               0|         0|             0|                 0|             0.00|          0.00|   0.00|                         0.00|                 0.00|                     0.00|                           0|                         0|                               0.00|                         0|                       0|                             0.00|                     0|                   0|                         0.00|                          0|                        0|                              0.00|                            0|                          0|                                0.00|                             0|                           0|                                 0.00|               0|             0|                   0.00|                    0|                  0|                        0.00|             0|           0|                 0.00|                         0|                       0|                             0.00|                       0|                     0|                           0.00|                0|          [65730306]|               null|           null|  2022-06-04|  65730306|\n",
      "|c34da829-4fdb-48e...|9a27a1f5-4913-478...|        2022-04-24|                 2021-04-25|2022-04-24 11:23:...|      2022-04-24|2022-04-24 11:24:...|             null|              false|                          true|                        false|                  false|                   false|                          null|                false|                     false|                         false|               true|               true|              null|           en-ca|           en-ca|                en|               CA|           Canada|                   International|International - T...|             Canada|              Canada|               1|          Go Daddy|            N/A|        Branding|             Unknown|                 Top-Tier|            N/A|         High-Converting|                    |  directnav|                 N/A|                     N/A|                  N/A|               N/A|                 N/A|                   N/A|                          3|                        0|                      0|                       0|                            0|   account.godaddy.com|                    account|                 godaddy|                  com|           /products|     myh.godaddy.com|                     myh|              godaddy|               com|                   /|[account.godaddy....|      [account.godaddy....|         North America|                   British Columbia|                                 --|        Burnaby|           V3N|        49.2286|       -122.9317|           --|             CA|         Canada|                 International|International - T...|             Canada|            Canada|      null|      null|                null|          null|    null|   null|Mozilla/5.0 (Wind...|      chrome|            chrome 100|                chrome 100.0|                   windows 10|        computer|               Desktop|                Desktop|                   2560|                   1440|                    2560|                    1329|             3|                      43|         1|                  0|                  0|                      0|                          0|            null|               0|         0|             0|                 0|             0.00|          0.00|   0.00|                         0.00|                 0.00|                     0.00|                           0|                         0|                               0.00|                         0|                       0|                             0.00|                     0|                   0|                         0.00|                          0|                        0|                              0.00|                            0|                          0|                                0.00|                             0|                           0|                                 0.00|               0|             0|                   0.00|                    0|                  0|                        0.00|             0|           0|                 0.00|                         0|                       0|                             0.00|                       0|                     0|                           0.00|                0|         [188160304]|               null|           null|  2022-04-24| 188160304|\n",
      "|3ef7ecb2-b341-43b...|9990a848-f4d5-49d...|        2022-04-24|                 2021-04-25|2022-04-24 15:04:...|      2022-04-24|2022-04-24 15:44:...|             null|              false|                          true|                        false|                  false|                   false|                          null|                false|                     false|                         false|               true|               true|              null|           en-us|           en-us|                en|               US|    United States|                        Domestic|       United States|      United States|       United States|               1|          Go Daddy|     GOFXB2001A|          Search|              Search|                 Top-Tier|           BING|         High-Converting|                    |  directnav|                 N/A|                     N/A|                  N/A|               N/A|                 N/A|                   N/A|                         46|                        5|                      0|                       0|                            0|       www.godaddy.com|                        www|                 godaddy|                  com|   /offers/brand/new|payments.godaddy.com|                payments|              godaddy|               com|                   /|[account.godaddy....|      [account.godaddy....|         North America|                              Texas|                                 --|     Midlothian|         76065|          32.48|        -96.9905|          623|             US|  United States|                      Domestic|       United States|      United States|     United States|      bing|       cpc|en-us_corp-core_s...|Go Daddy Group| godaddy|   null|Mozilla/5.0 (Wind...|      chrome|             chrome 97|                 chrome 97.0|                   windows 10|        computer|               Desktop|                Desktop|                   1366|                    768|                    1366|                     657|            51|                    2370|         1|                  0|                  0|                      0|                          0|            null|               0|         0|             0|                 0|             0.00|          0.00|   0.00|                         0.00|                 0.00|                     0.00|                           0|                         0|                               0.00|                         0|                       0|                             0.00|                     0|                   0|                         0.00|                          0|                        0|                              0.00|                            0|                          0|                                0.00|                             0|                           0|                                 0.00|               0|             0|                   0.00|                    0|                  0|                        0.00|             0|           0|                 0.00|                         0|                       0|                             0.00|                       0|                     0|                           0.00|                0|         [153184643]|               null|           null|  2022-04-24| 153184643|\n",
      "|e10e5dc0-8b12-50b...|84858b2c-19f3-48d...|        2022-04-24|                 2021-04-25|2022-04-24 12:56:...|      2022-04-24|2022-04-24 12:56:...|             null|               true|                          true|                        false|                  false|                   false|                          null|                false|                     false|                         false|               true|               true|              null|           zh-sg|           zh-sg|                zh|               SG|        Singapore|                   International| International - RoW|Rest of World (RoW)|          APAC-Tier2|               1|          Go Daddy|            N/A|        Branding|             Unknown|                 Top-Tier|            N/A|         High-Converting|https://sg.auctio...|    godaddy|sg.auctions.godad...|             sg.auctions|              godaddy|               com|/zh/trpMyAccount....|    ci=22372&s=2&sc=Wa|                          0|                        1|                      0|                       0|                            0|        sg.godaddy.com|                         sg|                 godaddy|                  com|/zh/domain-auctio...|      sg.godaddy.com|                      sg|              godaddy|               com|/zh/domain-auctio...|    [sg.godaddy.com]|      [sg.godaddy.com/z...|                  Asia|                                 --|                                 --|             --|            --|        34.7732|         113.722|           --|             CN|          China|                 International|International - C...|              China|             China|      null|      null|                null|          null|    null|   null|Mozilla/5.0 (Wind...|      chrome|             chrome 86|                 chrome 86.0|                    windows 7|        computer|               Desktop|                Desktop|                   1920|                   1080|                    1920|                     960|             1|                       0|         1|                  1|                  0|                      0|                          0|            null|               0|         0|             0|                 0|             0.00|          0.00|   0.00|                         0.00|                 0.00|                     0.00|                           0|                         0|                               0.00|                         0|                       0|                             0.00|                     0|                   0|                         0.00|                          0|                        0|                              0.00|                            0|                          0|                                0.00|                             0|                           0|                                 0.00|               0|             0|                   0.00|                    0|                  0|                        0.00|             0|           0|                 0.00|                         0|                       0|                             0.00|                       0|                     0|                           0.00|                0|          [65730306]|               null|           null|  2022-04-24|  65730306|\n",
      "|98f2c2e3-2f3e-425...|0cd5fc6a-da78-4c2...|        2022-04-24|                 2021-04-25|2022-04-24 01:30:...|      2022-04-24|2022-04-24 01:31:...|             null|              false|                          true|                        false|                  false|                   false|                          null|                false|                     false|                         false|               true|               true|              null|           en-sg|           en-sg|                en|               SG|        Singapore|                   International| International - RoW|Rest of World (RoW)|          APAC-Tier2|               1|          Go Daddy|            N/A|        Branding|             Unknown|                 Top-Tier|            N/A|         High-Converting|                    |  directnav|                 N/A|                     N/A|                  N/A|               N/A|                 N/A|                   N/A|                          4|                        1|                      0|                       0|                            0|       www.godaddy.com|                        www|                 godaddy|                  com|              /en-sg|     myh.godaddy.com|                     myh|              godaddy|               com|                   /|[account.godaddy....|      [account.godaddy....|                  Asia|                            Jakarta|                                 --|        Jakarta|            --|        -6.1741|        106.8296|           --|             ID|      Indonesia|                 International| International - RoW|Rest of World (RoW)|        APAC-Tier2|      null|      null|                null|          null|    null|   null|Mozilla/5.0 (Wind...|      chrome|            chrome 100|                chrome 100.0|                   windows 10|        computer|               Desktop|                Desktop|                   1280|                    800|                    1280|                     657|             5|                      37|         1|                  0|                  0|                      0|                          0|            null|               0|         0|             0|                 0|             0.00|          0.00|   0.00|                         0.00|                 0.00|                     0.00|                           0|                         0|                               0.00|                         0|                       0|                             0.00|                     0|                   0|                         0.00|                          0|                        0|                              0.00|                            0|                          0|                                0.00|                             0|                           0|                                 0.00|               0|             0|                   0.00|                    0|                  0|                        0.00|             0|           0|                 0.00|                         0|                       0|                             0.00|                       0|                     0|                           0.00|                0|         [451999735]|               null|           null|  2022-04-24| 451999735|\n",
      "|e987d6ee-41d2-588...|fdd8c2f3-13f4-495...|        2022-04-24|                 2021-04-25|2022-04-24 04:50:...|      2022-04-24|2022-04-24 04:50:...|             null|              false|                          true|                        false|                  false|                   false|                          null|                false|                     false|                         false|               true|               true|              null|           zh-sg|           zh-sg|                zh|               SG|        Singapore|                   International| International - RoW|Rest of World (RoW)|          APAC-Tier2|               1|          Go Daddy|            N/A|        Branding|             Unknown|                 Top-Tier|            N/A|         High-Converting|                    |  directnav|                 N/A|                     N/A|                  N/A|               N/A|                 N/A|                   N/A|                          1|                        4|                      0|                       0|                            0|  sg.auctions.godad...|                sg.auctions|                 godaddy|                  com|                /zh/|sg.auctions.godad...|             sg.auctions|              godaddy|               com|/zh/trpMyAccount....|[sg.auctions.goda...|      [sg.auctions.goda...|                  Asia|                              Hunan|                                 --|        Banshan|            --|        25.2239|        112.1703|           --|             CN|          China|                 International|International - C...|              China|             China|      null|      null|                null|          null|    null|   null|Mozilla/5.0 (Wind...|      chrome|             chrome 86|                 chrome 86.0|                   windows 10|        computer|               Desktop|                Desktop|                   1920|                   1080|                    1920|                     915|             5|                      19|         1|                  0|                  0|                      0|                          0|            null|               0|         0|             0|                 0|             0.00|          0.00|   0.00|                         0.00|                 0.00|                     0.00|                           0|                         0|                               0.00|                         0|                       0|                             0.00|                     0|                   0|                         0.00|                          0|                        0|                              0.00|                            0|                          0|                                0.00|                             0|                           0|                                 0.00|               0|             0|                   0.00|                    0|                  0|                        0.00|             0|           0|                 0.00|                         0|                       0|                             0.00|                       0|                     0|                           0.00|                0|          [65730306]|               null|           null|  2022-04-24|  65730306|\n",
      "|f65891b1-b73c-5fa...|68d8fbae-5fa6-57e...|        2022-06-04|                 2021-06-05|2022-06-04 05:23:...|      2022-06-04|2022-06-04 05:23:...|             null|              false|                          true|                        false|                  false|                   false|                          null|                false|                     false|                         false|               true|               true|              null|           en-gb|           en-gb|                en|               GB|   United Kingdom|                   International|International - T...|     United Kingdom|      United Kingdom|               1|          Go Daddy|            N/A|        Branding|             Unknown|                 Top-Tier|            N/A|         High-Converting|                    |  directnav|                 N/A|                     N/A|                  N/A|               N/A|                 N/A|                   N/A|                          2|                        0|                      0|                       0|                            0|   account.godaddy.com|                    account|                 godaddy|                  com|           /products|      uk.godaddy.com|                      uk|              godaddy|               com|  /domainsearch/find|[account.godaddy....|      [account.godaddy....|                Europe|                            Vrancea|                                 --|        Focşani|        620090|           45.7|         27.1833|           --|             RO|        Romania|                 International| International - RoW|Rest of World (RoW)|       East Europe|      null|      null|                null|          null|    null|   null|Mozilla/5.0 (Wind...|     firefox|           firefox 100|               firefox 100.0|                   windows 10|        computer|               Desktop|                Desktop|                   1280|                    720|                    1280|                     595|             2|                       9|         1|                  0|                  0|                      0|                          0|            null|               0|         0|             0|                 0|             0.00|          0.00|   0.00|                         0.00|                 0.00|                     0.00|                           0|                         0|                               0.00|                         0|                       0|                             0.00|                     0|                   0|                         0.00|                          0|                        0|                              0.00|                            0|                          0|                                0.00|                             0|                           0|                                 0.00|               0|             0|                   0.00|                    0|                  0|                        0.00|             0|           0|                 0.00|                         0|                       0|                             0.00|                       0|                     0|                           0.00|                0|         [178415540]|               null|           null|  2022-06-04| 178415540|\n",
      "|6ea6aeab-0bb4-4b5...|6ea6aeab-0bb4-4b5...|        2022-06-04|                 2021-06-05|2022-06-04 22:02:...|      2022-06-04|2022-06-04 22:05:...|             null|              false|                          true|                        false|                  false|                   false|                          null|                false|                     false|                         false|               true|              false|              null|           zh-tw|           zh-tw|                zh|               TW|           Taiwan|                   International| International - RoW|Rest of World (RoW)|          APAC-Tier2|               1|          Go Daddy|            N/A|        Branding|             Unknown|                 Top-Tier|            N/A|         High-Converting|                    |  directnav|                 N/A|                     N/A|                  N/A|               N/A|                 N/A|                   N/A|                          3|                        5|                      0|                       0|                            0|        tw.godaddy.com|                         tw|                 godaddy|                  com|                   /| account.godaddy.com|                 account|              godaddy|               com|      /subscriptions|[account.godaddy....|      [account.godaddy....|                  Asia|                         New Taipei|                                 --|     New Taipei|            --|        25.0478|        121.5318|           --|             TW|         Taiwan|                 International| International - RoW|Rest of World (RoW)|        APAC-Tier2|      null|      null|                null|          null|    null|   null|Mozilla/5.0 (Wind...|      chrome|            chrome 102|                chrome 102.0|                   windows 10|        computer|               Desktop|                Desktop|                   1920|                   1080|                    1920|                     937|             8|                     209|         1|                  0|                  0|                      0|                          0|            null|               0|         0|             0|                 0|             0.00|          0.00|   0.00|                         0.00|                 0.00|                     0.00|                           0|                         0|                               0.00|                         0|                       0|                             0.00|                     0|                   0|                         0.00|                          0|                        0|                              0.00|                            0|                          0|                                0.00|                             0|                           0|                                 0.00|               0|             0|                   0.00|                    0|                  0|                        0.00|             0|           0|                 0.00|                         0|                       0|                             0.00|                       0|                     0|                           0.00|                0|         [441374010]|               null|           null|  2022-06-04| 441374010|\n",
      "|216bc682-97ec-5f5...|216bc682-97ec-5f5...|        2022-04-24|                 2021-04-25|2022-04-24 04:40:...|      2022-04-24|2022-04-24 04:47:...|             null|              false|                          true|                        false|                  false|                   false|                          null|                false|                     false|                         false|               true|              false|              null|           en-in|           en-in|                en|               IN|            India|                   International|International - T...|              India|               India|               1|          Go Daddy|            N/A|        Branding|             Unknown|                 Top-Tier|            N/A|         High-Converting|                    |  directnav|                 N/A|                     N/A|                  N/A|               N/A|                 N/A|                   N/A|                          2|                        3|                      0|                       0|                            0|   crm.int.godaddy.com|                    crm.int|                 godaddy|                  com|     /customer-home/| crm.int.godaddy.com|                 crm.int|              godaddy|               com|/customer-search/...|[account.godaddy....|      [account.godaddy....|         North America|                                 --|                                 --|             --|            --|         37.751|         -97.822|           --|             US|  United States|                      Domestic|       United States|      United States|     United States|      null|      null|                null|          null|    null|   null|Mozilla/5.0 (Wind...|      chrome|            chrome 100|                chrome 100.0|                   windows 10|        computer|               Desktop|                Desktop|                   1600|                    900|                    1574|                     771|             5|                     378|         1|                  0|                  0|                      0|                          0|            null|               0|         0|             0|                 0|             0.00|          0.00|   0.00|                         0.00|                 0.00|                     0.00|                           0|                         0|                               0.00|                         0|                       0|                             0.00|                     0|                   0|                         0.00|                          0|                        0|                              0.00|                            0|                          0|                                0.00|                             0|                           0|                                 0.00|               0|             0|                   0.00|                    0|                  0|                        0.00|             0|           0|                 0.00|                         0|                       0|                             0.00|                       0|                     0|                           0.00|                0|[184685416, 47484...|      Suspected Bot|           null|  2022-04-24| 184685416|\n",
      "|216bc682-97ec-5f5...|216bc682-97ec-5f5...|        2022-04-24|                 2021-04-25|2022-04-24 04:40:...|      2022-04-24|2022-04-24 04:47:...|             null|              false|                          true|                        false|                  false|                   false|                          null|                false|                     false|                         false|               true|              false|              null|           en-in|           en-in|                en|               IN|            India|                   International|International - T...|              India|               India|               1|          Go Daddy|            N/A|        Branding|             Unknown|                 Top-Tier|            N/A|         High-Converting|                    |  directnav|                 N/A|                     N/A|                  N/A|               N/A|                 N/A|                   N/A|                          2|                        3|                      0|                       0|                            0|   crm.int.godaddy.com|                    crm.int|                 godaddy|                  com|     /customer-home/| crm.int.godaddy.com|                 crm.int|              godaddy|               com|/customer-search/...|[account.godaddy....|      [account.godaddy....|         North America|                                 --|                                 --|             --|            --|         37.751|         -97.822|           --|             US|  United States|                      Domestic|       United States|      United States|     United States|      null|      null|                null|          null|    null|   null|Mozilla/5.0 (Wind...|      chrome|            chrome 100|                chrome 100.0|                   windows 10|        computer|               Desktop|                Desktop|                   1600|                    900|                    1574|                     771|             5|                     378|         1|                  0|                  0|                      0|                          0|            null|               0|         0|             0|                 0|             0.00|          0.00|   0.00|                         0.00|                 0.00|                     0.00|                           0|                         0|                               0.00|                         0|                       0|                             0.00|                     0|                   0|                         0.00|                          0|                        0|                              0.00|                            0|                          0|                                0.00|                             0|                           0|                                 0.00|               0|             0|                   0.00|                    0|                  0|                        0.00|             0|           0|                 0.00|                         0|                       0|                             0.00|                       0|                     0|                           0.00|                0|[184685416, 47484...|      Suspected Bot|           null|  2022-04-24| 474844357|\n",
      "|16ecaa65-6854-4d9...|9368dd1a-decb-4ad...|        2022-04-24|                 2021-04-25|2022-04-24 21:49:...|      2022-04-24|2022-04-24 21:49:...|             null|              false|                          true|                        false|                  false|                   false|                          null|                false|                     false|                         false|               true|               true|              null|           en-ca|           en-ca|                en|               CA|           Canada|                   International|International - T...|             Canada|              Canada|               1|          Go Daddy|            N/A|        Branding|             Unknown|                 Top-Tier|            N/A|         High-Converting|                    |  directnav|                 N/A|                     N/A|                  N/A|               N/A|                 N/A|                   N/A|                          1|                        1|                      0|                       0|                            0|       www.godaddy.com|                        www|                 godaddy|                  com|/en-ca/partners/d...|      ca.godaddy.com|                      ca|              godaddy|               com|  /domainsearch/find|[ca.godaddy.com, ...|      [ca.godaddy.com/d...|         North America|                             Nevada|                                 --|      Las Vegas|         89131|        36.2973|       -115.2418|          839|             US|  United States|                      Domestic|       United States|      United States|     United States|      null|      null|                null|          null|    null|   null|Mozilla/5.0 (Wind...|      chrome|            chrome 100|                chrome 100.0|                   windows 10|        computer|               Desktop|                Desktop|                   1280|                    720|                    1280|                     577|             2|                       7|         1|                  0|                  0|                      0|                          0|            null|               0|         0|             0|                 0|             0.00|          0.00|   0.00|                         0.00|                 0.00|                     0.00|                           0|                         0|                               0.00|                         0|                       0|                             0.00|                     0|                   0|                         0.00|                          0|                        0|                              0.00|                            0|                          0|                                0.00|                             0|                           0|                                 0.00|               0|             0|                   0.00|                    0|                  0|                        0.00|             0|           0|                 0.00|                         0|                       0|                             0.00|                       0|                     0|                           0.00|                0|         [239596833]|               null|           null|  2022-04-24| 239596833|\n",
      "|f9434075-ced2-475...|eb50cc36-ccb2-412...|        2022-04-24|                 2021-04-25|2022-04-24 01:08:...|      2022-04-24|2022-04-24 01:09:...|             null|              false|                          true|                        false|                  false|                   false|                          null|                false|                     false|                         false|               true|               true|              null|           zh-sg|           zh-sg|                zh|               SG|        Singapore|                   International| International - RoW|Rest of World (RoW)|          APAC-Tier2|               1|          Go Daddy|            N/A|        Branding|             Unknown|                 Top-Tier|            N/A|         High-Converting|                    |  directnav|                 N/A|                     N/A|                  N/A|               N/A|                 N/A|                   N/A|                          3|                        1|                      0|                       0|                            0|       sso.godaddy.com|                        sso|                 godaddy|                  com|                   /|sg.auctions.godad...|             sg.auctions|              godaddy|               com|/zh/trpMyAccount....|[sg.auctions.goda...|      [sg.auctions.goda...|                  Asia|                              Hunan|                                 --|        Banshan|            --|        25.2239|        112.1703|           --|             CN|          China|                 International|International - C...|              China|             China|      null|      null|                null|          null|    null|   null|Mozilla/5.0 (Wind...|      chrome|             chrome 97|                 chrome 97.0|                   windows 10|        computer|               Desktop|                Desktop|                   1920|                   1080|                    1920|                     969|             4|                      12|         1|                  0|                  0|                      0|                          0|            null|               0|         0|             0|                 0|             0.00|          0.00|   0.00|                         0.00|                 0.00|                     0.00|                           0|                         0|                               0.00|                         0|                       0|                             0.00|                     0|                   0|                         0.00|                          0|                        0|                              0.00|                            0|                          0|                                0.00|                             0|                           0|                                 0.00|               0|             0|                   0.00|                    0|                  0|                        0.00|             0|           0|                 0.00|                         0|                       0|                             0.00|                       0|                     0|                           0.00|                0|          [65730306]|               null|           null|  2022-04-24|  65730306|\n",
      "|b973115b-a0bd-4e7...|a1b628e6-da34-4ac...|        2022-05-24|                 2021-05-25|2022-05-24 18:45:...|      2022-05-24|2022-05-24 18:45:...|             null|               true|                         false|                        false|                  false|                   false|                          null|                false|                     false|                         false|               true|               true|              null|           en-us|           en-us|                en|               US|    United States|                        Domestic|       United States|      United States|       United States|               1|          Go Daddy|            N/A|        Branding|             Unknown|                 Top-Tier|            N/A|         High-Converting|                    |  directnav|                 N/A|                     N/A|                  N/A|               N/A|                 N/A|                   N/A|                          1|                        0|                      0|                       0|                            0|  store.commerce.go...|             store.commerce|                 godaddy|                  com|/3fe65f59-b8cf-4e...|store.commerce.go...|          store.commerce|              godaddy|               com|/3fe65f59-b8cf-4e...|[store.commerce.g...|      [store.commerce.g...|         North America|                              Texas|                                 --|College Station|         77845|        30.5478|        -96.2715|          625|             US|  United States|                      Domestic|       United States|      United States|     United States|      null|      null|                null|          null|    null|   null|Mozilla/5.0 (Wind...|      chrome|            chrome 101|                chrome 101.0|                   windows 10|        computer|               Desktop|                Desktop|                   1366|                    768|                    1366|                     657|             1|                       0|         1|                  1|                  0|                      0|                          0|            null|               0|         0|             0|                 0|             0.00|          0.00|   0.00|                         0.00|                 0.00|                     0.00|                           0|                         0|                               0.00|                         0|                       0|                             0.00|                     0|                   0|                         0.00|                          0|                        0|                              0.00|                            0|                          0|                                0.00|                             0|                           0|                                 0.00|               0|             0|                   0.00|                    0|                  0|                        0.00|             0|           0|                 0.00|                         0|                       0|                             0.00|                       0|                     0|                           0.00|                0|         [191595199]|               null|           null|  2022-05-24| 191595199|\n",
      "|06edccff-0d9b-49b...|76bfb4da-0db9-487...|        2022-04-24|                 2021-04-25|2022-04-24 01:41:...|      2022-04-24|2022-04-24 01:59:...|             null|              false|                          true|                        false|                  false|                   false|                          null|                 true|                      true|                         false|               true|               true|              null|           en-us|           en-us|                en|               US|    United States|                        Domestic|       United States|      United States|       United States|               1|          Go Daddy|            N/A|        Branding|             Unknown|                 Top-Tier|            N/A|         High-Converting|                    |  directnav|                 N/A|                     N/A|                  N/A|               N/A|                 N/A|                   N/A|                          8|                       12|                      0|                       0|                            0|   account.godaddy.com|                    account|                 godaddy|                  com|           /products|    cart.godaddy.com|                    cart|              godaddy|               com|        /go/checkout|[account.godaddy....|      [account.godaddy....|         North America|                     North Carolina|                                 --|      Asheville|         28803|        35.5397|        -82.5151|          567|             US|  United States|                      Domestic|       United States|      United States|     United States|      null|      null|                null|          null|    null|   null|Mozilla/5.0 (Maci...|      chrome|            chrome 100|                chrome 100.0|                     mac os x|        computer|               Desktop|                Desktop|                   1440|                    900|                    1440|                     765|            20|                    1090|         1|                  0|                  1|                      1|                          0|               0|               0|         1|             1|                 0|            30.18|         21.61|  30.18|                         0.00|                30.18|                     0.00|                           0|                         0|                               0.00|                         0|                       0|                             0.00|                     0|                   0|                         0.00|                          0|                        0|                              0.00|                            0|                          0|                                0.00|                             1|                           1|                                12.17|               0|             0|                   0.00|                    1|                  1|                        0.00|             0|           0|                 0.00|                         1|                       2|                             8.02|                       1|                     1|                           9.99|                0|         [415067388]|               null|           null|  2022-04-24| 415067388|\n",
      "|59f9a063-3873-498...|6a2e3fd3-ccc6-470...|        2022-06-04|                 2021-06-05|2022-06-04 03:20:...|      2022-06-04|2022-06-04 03:29:...|             null|              false|                          true|                        false|                  false|                   false|                          null|                false|                     false|                         false|               true|               true|              null|           en-gb|           en-gb|                en|               GB|   United Kingdom|                   International|International - T...|     United Kingdom|      United Kingdom|               1|          Go Daddy|            N/A|        Branding|             Unknown|                 Top-Tier|            N/A|         High-Converting|                    |  directnav|                 N/A|                     N/A|                  N/A|               N/A|                 N/A|                   N/A|                          3|                        1|                      0|                       0|                            0|        uk.godaddy.com|                         uk|                 godaddy|                  com|  /domainsearch/find| account.godaddy.com|                 account|              godaddy|               com|           /products|[account.godaddy....|      [account.godaddy....|                Europe|                            England|                           Trafford|           Sale|           M33|        53.4236|         -2.3113|           --|             GB| United Kingdom|                 International|International - T...|     United Kingdom|    United Kingdom|      null|      null|                null|          null|    null|   null|Mozilla/5.0 (Wind...|      chrome|            chrome 102|                chrome 102.0|                   windows 10|        computer|               Desktop|                Desktop|                   1366|                    768|                    1350|                     640|             4|                     511|         1|                  0|                  0|                      0|                          0|            null|               0|         0|             0|                 0|             0.00|          0.00|   0.00|                         0.00|                 0.00|                     0.00|                           0|                         0|                               0.00|                         0|                       0|                             0.00|                     0|                   0|                         0.00|                          0|                        0|                              0.00|                            0|                          0|                                0.00|                             0|                           0|                                 0.00|               0|             0|                   0.00|                    0|                  0|                        0.00|             0|           0|                 0.00|                         0|                       0|                             0.00|                       0|                     0|                           0.00|                0|         [474648450]|               null|           null|  2022-06-04| 474648450|\n",
      "|f3ab8f04-0327-5af...|f3ab8f04-0327-5af...|        2022-04-24|                 2021-04-25|2022-04-24 13:51:...|      2022-04-24|2022-04-24 13:51:...|             null|               true|                         false|                        false|                  false|                   false|                          null|                false|                     false|                         false|               true|              false|              null|           en-us|           en-us|                en|               US|    United States|                        Domestic|       United States|      United States|       United States|               1|          Go Daddy|            N/A|        Branding|             Unknown|                 Top-Tier|            N/A|         High-Converting|                    |  directnav|                 N/A|                     N/A|                  N/A|               N/A|                 N/A|                   N/A|                          1|                        0|                      0|                       0|                            0|   crm.int.godaddy.com|                    crm.int|                 godaddy|                  com|     /customer-home/| crm.int.godaddy.com|                 crm.int|              godaddy|               com|     /customer-home/|[crm.int.godaddy....|      [crm.int.godaddy....|         North America|                            Arizona|                                 --|           Mesa|         85204|        33.3981|        -111.785|          753|             US|  United States|                      Domestic|       United States|      United States|     United States|      null|      null|                null|          null|    null|   null|Mozilla/5.0 (Wind...|     firefox|            firefox 91|                firefox 91.0|                   windows 10|        computer|               Desktop|                Desktop|                   1920|                   1080|                    1920|                     955|             1|                       0|         1|                  1|                  0|                      0|                          0|            null|               0|         0|             0|                 0|             0.00|          0.00|   0.00|                         0.00|                 0.00|                     0.00|                           0|                         0|                               0.00|                         0|                       0|                             0.00|                     0|                   0|                         0.00|                          0|                        0|                              0.00|                            0|                          0|                                0.00|                             0|                           0|                                 0.00|               0|             0|                   0.00|                    0|                  0|                        0.00|             0|           0|                 0.00|                         0|                       0|                             0.00|                       0|                     0|                           0.00|                0|          [79032101]|      Suspected Bot|           null|  2022-04-24|  79032101|\n",
      "|5561c03a-c945-53c...|5561c03a-c945-53c...|        2022-04-24|                 2021-04-25|2022-04-24 23:01:...|      2022-04-24|2022-04-24 23:15:...|             null|              false|                          true|                        false|                  false|                   false|                          null|                false|                     false|                         false|               true|              false|              null|           en-in|           en-in|                en|               IN|            India|                   International|International - T...|              India|               India|               1|          Go Daddy|            N/A|        Branding|             Unknown|                 Top-Tier|            N/A|         High-Converting|https://crm.int.g...|    godaddy| crm.int.godaddy.com|                 crm.int|              godaddy|               com|/customer-search/...|  date=165086650470...|                          2|                       12|                      0|                       0|                            0|   crm.int.godaddy.com|                    crm.int|                 godaddy|                  com|     /customer-home/|    cart.godaddy.com|                    cart|              godaddy|               com|        /go/checkout|[cart.godaddy.com...|      [cart.godaddy.com...|         North America|                                 --|                                 --|             --|            --|         37.751|         -97.822|           --|             US|  United States|                      Domestic|       United States|      United States|     United States|      null|      null|                null|          null|    null|   null|Mozilla/5.0 (Wind...|      chrome|             chrome 97|                 chrome 97.0|                   windows 10|        computer|               Desktop|                Desktop|                   1366|                    768|                    1366|                     657|            14|                     831|         1|                  0|                  0|                      0|                          0|            null|               0|         0|             0|                 0|             0.00|          0.00|   0.00|                         0.00|                 0.00|                     0.00|                           0|                         0|                               0.00|                         0|                       0|                             0.00|                     0|                   0|                         0.00|                          0|                        0|                              0.00|                            0|                          0|                                0.00|                             0|                           0|                                 0.00|               0|             0|                   0.00|                    0|                  0|                        0.00|             0|           0|                 0.00|                         0|                       0|                             0.00|                       0|                     0|                           0.00|                0|         [459065124]|      Suspected Bot|           null|  2022-04-24| 459065124|\n",
      "|be13fb28-de0c-43c...|d5752be8-57e2-4d8...|        2022-04-24|                 2021-04-25|2022-04-24 21:00:...|      2022-04-24|2022-04-24 21:17:...|             null|              false|                          true|                        false|                  false|                   false|                          null|                false|                     false|                         false|               true|               true|              null|           id-id|           id-id|                id|               ID|        Indonesia|                   International| International - RoW|Rest of World (RoW)|          APAC-Tier2|               1|          Go Daddy|            N/A|        Branding|             Unknown|                 Top-Tier|            N/A|         High-Converting|                    |  directnav|                 N/A|                     N/A|                  N/A|               N/A|                 N/A|                   N/A|                          1|                        3|                      0|                       0|                            0|  id.auctions.godad...|                id.auctions|                 godaddy|                  com|                   /|      id.godaddy.com|                      id|              godaddy|               com|/domain-auctions/...|[id.auctions.goda...|      [id.auctions.goda...|                  Asia|                          West Java|                                 --|         Bekasi|            --|        -6.2352|        106.9922|           --|             ID|      Indonesia|                 International| International - RoW|Rest of World (RoW)|        APAC-Tier2|      null|      null|                null|          null|    null|   null|Mozilla/5.0 (Wind...|      chrome|            chrome 100|                chrome 100.0|                   windows 10|        computer|               Desktop|                Desktop|                   1280|                    720|                    1280|                     577|             4|                    1046|         1|                  0|                  0|                      0|                          0|            null|               0|         0|             0|                 0|             0.00|          0.00|   0.00|                         0.00|                 0.00|                     0.00|                           0|                         0|                               0.00|                         0|                       0|                             0.00|                     0|                   0|                         0.00|                          0|                        0|                              0.00|                            0|                          0|                                0.00|                             0|                           0|                                 0.00|               0|             0|                   0.00|                    0|                  0|                        0.00|             0|           0|                 0.00|                         0|                       0|                             0.00|                       0|                     0|                           0.00|                0|         [451999735]|               null|           null|  2022-04-24| 451999735|\n",
      "|5f8cd28c-58a7-5f1...|5f8cd28c-58a7-5f1...|        2022-04-24|                 2021-04-25|2022-04-24 20:10:...|      2022-04-24|2022-04-24 20:10:...|             null|               true|                         false|                        false|                  false|                   false|                          null|                false|                     false|                         false|               true|              false|              null|           en-us|           en-us|                en|               US|    United States|                        Domestic|       United States|      United States|       United States|               1|          Go Daddy|            N/A|        Branding|             Unknown|                 Top-Tier|            N/A|         High-Converting|https://crm.int.g...|    godaddy| crm.int.godaddy.com|                 crm.int|              godaddy|               com|/customer-search/...|    shopperId=30079545|                          0|                        1|                      0|                       0|                            0|   crm.int.godaddy.com|                    crm.int|                 godaddy|                  com|     /customer-home/| crm.int.godaddy.com|                 crm.int|              godaddy|               com|     /customer-home/|[crm.int.godaddy....|      [crm.int.godaddy....|         North America|                                 --|                                 --|             --|            --|         37.751|         -97.822|           --|             US|  United States|                      Domestic|       United States|      United States|     United States|      null|      null|                null|          null|    null|   null|Mozilla/5.0 (Wind...|      chrome|            chrome 100|                chrome 100.0|                   windows 10|        computer|               Desktop|                Desktop|                   1366|                    768|                    1366|                     625|             1|                       0|         1|                  1|                  0|                      0|                          0|            null|               0|         0|             0|                 0|             0.00|          0.00|   0.00|                         0.00|                 0.00|                     0.00|                           0|                         0|                               0.00|                         0|                       0|                             0.00|                     0|                   0|                         0.00|                          0|                        0|                              0.00|                            0|                          0|                                0.00|                             0|                           0|                                 0.00|               0|             0|                   0.00|                    0|                  0|                        0.00|             0|           0|                 0.00|                         0|                       0|                             0.00|                       0|                     0|                           0.00|                0|          [30079545]|      Suspected Bot|           null|  2022-04-24|  30079545|\n",
      "|5f8cd28c-58a7-5f1...|5f8cd28c-58a7-5f1...|        2022-04-24|                 2021-04-25|2022-04-24 20:10:...|      2022-04-24|2022-04-24 20:10:...|             null|               true|                         false|                        false|                  false|                   false|                          null|                false|                     false|                         false|               true|              false|              null|           en-us|           en-us|                en|               US|    United States|                        Domestic|       United States|      United States|       United States|               1|          Go Daddy|            N/A|        Branding|             Unknown|                 Top-Tier|            N/A|         High-Converting|https://crm.int.g...|    godaddy| crm.int.godaddy.com|                 crm.int|              godaddy|               com|/customer-search/...|    shopperId=30079545|                          0|                        1|                      0|                       0|                            0|   crm.int.godaddy.com|                    crm.int|                 godaddy|                  com|     /customer-home/| crm.int.godaddy.com|                 crm.int|              godaddy|               com|     /customer-home/|[crm.int.godaddy....|      [crm.int.godaddy....|         North America|                                 --|                                 --|             --|            --|         37.751|         -97.822|           --|             US|  United States|                      Domestic|       United States|      United States|     United States|      null|      null|                null|          null|    null|   null|Mozilla/5.0 (Wind...|      chrome|            chrome 100|                chrome 100.0|                   windows 10|        computer|               Desktop|                Desktop|                   1366|                    768|                    1366|                     625|             1|                       0|         1|                  1|                  0|                      0|                          0|            null|               0|         0|             0|                 0|             0.00|          0.00|   0.00|                         0.00|                 0.00|                     0.00|                           0|                         0|                               0.00|                         0|                       0|                             0.00|                     0|                   0|                         0.00|                          0|                        0|                              0.00|                            0|                          0|                                0.00|                             0|                           0|                                 0.00|               0|             0|                   0.00|                    0|                  0|                        0.00|             0|           0|                 0.00|                         0|                       0|                             0.00|                       0|                     0|                           0.00|                0|          [30079545]|      Suspected Bot|           null|  2022-04-24|  30079545|\n",
      "+--------------------+--------------------+------------------+---------------------------+--------------------+----------------+--------------------+-----------------+-------------------+------------------------------+-----------------------------+-----------------------+------------------------+------------------------------+---------------------+--------------------------+------------------------------+-------------------+-------------------+------------------+----------------+----------------+------------------+-----------------+-----------------+--------------------------------+--------------------+-------------------+--------------------+----------------+------------------+---------------+----------------+--------------------+-------------------------+---------------+------------------------+--------------------+-----------+--------------------+------------------------+---------------------+------------------+--------------------+----------------------+---------------------------+-------------------------+-----------------------+------------------------+-----------------------------+----------------------+---------------------------+------------------------+---------------------+--------------------+--------------------+------------------------+---------------------+------------------+--------------------+--------------------+--------------------------+----------------------+-----------------------------------+-----------------------------------+---------------+--------------+---------------+----------------+-------------+---------------+---------------+------------------------------+--------------------+-------------------+------------------+----------+----------+--------------------+--------------+--------+-------+--------------------+------------+----------------------+----------------------------+-----------------------------+----------------+----------------------+-----------------------+-----------------------+-----------------------+------------------------+------------------------+--------------+------------------------+----------+-------------------+-------------------+-----------------------+---------------------------+----------------+----------------+----------+--------------+------------------+-----------------+--------------+-------+-----------------------------+---------------------+-------------------------+----------------------------+--------------------------+-----------------------------------+--------------------------+------------------------+---------------------------------+----------------------+--------------------+-----------------------------+---------------------------+-------------------------+----------------------------------+-----------------------------+---------------------------+------------------------------------+------------------------------+----------------------------+-------------------------------------+----------------+--------------+-----------------------+---------------------+-------------------+----------------------------+--------------+------------+---------------------+--------------------------+------------------------+---------------------------------+------------------------+----------------------+-------------------------------+-----------------+--------------------+-------------------+---------------+------------+----------+\n",
      "only showing top 20 rows"
     ]
    }
   ],
   "source": [
    "df = ds.get_dataframe(start_time=datetime(2022, 1, 1), end_time=datetime.now()).to_spark()\n",
    "df.show()"
   ]
  },
  {
   "cell_type": "code",
   "execution_count": 7,
   "id": "40b39ced",
   "metadata": {},
   "outputs": [
    {
     "data": {
      "application/vnd.jupyter.widget-view+json": {
       "model_id": "",
       "version_major": 2,
       "version_minor": 0
      },
      "text/plain": [
       "FloatProgress(value=0.0, bar_style='info', description='Progress:', layout=Layout(height='25px', width='50%'),…"
      ]
     },
     "metadata": {},
     "output_type": "display_data"
    },
    {
     "name": "stdout",
     "output_type": "stream",
     "text": [
      "== Physical Plan ==\n",
      "Scan parquet tecton_dev.uds_traffic_session (1)\n",
      "\n",
      "\n",
      "(1) Scan parquet tecton_dev.uds_traffic_session\n",
      "Output [150]: [visit_guid#1351, visitor_guid#1352, session_begin_date#1353, relative_session_begin_date#1354, session_begin_ts#1355, session_end_date#1356, session_end_ts#1357, session_type_name#1358, session_bounce_flag#1359, session_viewed_sales_page_flag#1360, session_viewed_help_page_flag#1361, session_mobile_app_flag#1362, session_add_to_cart_flag#1363, session_free_trial_signup_flag#1364, session_purchase_flag#1365, new_product_purchased_flag#1366, renewal_product_purchased_flag#1367, repeat_shopper_flag#1368, repeat_visitor_flag#1369, site_language_text#1370, site_market_text#1371, site_market_code#1372, site_language_code#1373, site_country_code#1374, site_country_name#1375, site_domestic_international_name#1376, site_region1_name#1377, site_region2_name#1378, site_sub_region_name#1379, private_label_id#1380, reseller_type_name#1381, isc_source_code#1382, isc_channel_name#1383, isc_sub_channel_name#1384, isc_acquisition_tier_name#1385, isc_vendor_name#1386, isc_conversion_tier_name#1387, referring_url_text#1388, referred_by#1389, referring_host_name#1390, referring_subdomain_name#1391, referring_domain_name#1392, referring_tld_name#1393, referring_page_name#1394, referring_query_string#1395, referred_by_directnav_count#1396, referred_by_godaddy_count#1397, referred_by_other_count#1398, referred_by_search_count#1399, referred_by_socialmedia_count#1400, landing_page_host_name#1401, landing_page_subdomain_name#1402, landing_page_domain_name#1403, landing_page_tld_name#1404, landing_page_name#1405, exit_page_host_name#1406, exit_page_subdomain_name#1407, exit_page_domain_name#1408, exit_page_tld_name#1409, exit_page_name#1410, host_names#1411, fully_qualified_page_names#1412, ip_maxmind_region_name#1413, ip_country_subdivision_level_1_name#1414, ip_country_subdivision_level_2_name#1415, ip_city_name#1416, ip_postal_code#1417, ip_latitude_num#1418, ip_longitude_num#1419, ip_metro_code#1420, ip_country_code#1421, ip_country_name#1422, ip_domestic_international_name#1423, ip_region_1_name#1424, ip_region_2_name#1425, ip_sub_region_name#1426, utm_source#1427, utm_medium#1428, utm_campaign#1429, utm_content#1430, utm_term#1431, utm_tgt#1432, user_agent_text#1433, browser_name#1434, browser_name_major_num#1435, browser_name_major_minor_num#1436, browser_operating_system_name#1437, device_type_name#1438, device_breakpoint_name#1439, browser_breakpoint_name#1440, device_resolution_x_num#1441, device_resolution_y_num#1442, browser_resolution_x_num#1443, browser_resolution_y_num#1444, page_views_qty#1445, session_duration_seconds#1446, visits_qty#1447, bouncing_visits_qty#1448, ordering_visits_qty#1449, new_purchase_visits_qty#1450, renewal_purchase_visits_qty#1451, new_shoppers_qty#1452, cart_creates_qty#1453, orders_qty#1454, new_orders_qty#1455, renewal_orders_qty#1456, receipt_price_amt#1457, margin_gcr_amt#1458, gcr_amt#1459, new_shopper_receipt_price_amt#1460, new_receipt_price_amt#1461, renewal_receipt_price_amt#1462, dedicated_hosting_orders_qty#1463, dedicated_hosting_unit_qty#1464, dedicated_hosting_receipt_price_amt#1465, virtual_hosting_orders_qty#1466, virtual_hosting_unit_qty#1467, virtual_hosting_receipt_price_amt#1468, web_hosting_orders_qty#1469, web_hosting_unit_qty#1470, web_hosting_receipt_price_amt#1471, domains_by_proxy_orders_qty#1472, domains_by_proxy_unit_qty#1473, domains_by_proxy_receipt_price_amt#1474, domain_marketplace_orders_qty#1475, domain_marketplace_unit_qty#1476, domain_marketplace_receipt_price_amt#1477, domain_registration_orders_qty#1478, domain_registration_unit_qty#1479, domain_registration_receipt_price_amt#1480, email_orders_qty#1481, email_unit_qty#1482, email_receipt_price_amt#1483, office_365_orders_qty#1484, office_365_unit_qty#1485, office_365_receipt_price_amt#1486, ssl_orders_qty#1487, ssl_unit_qty#1488, ssl_receipt_price_amt#1489, website_builder_orders_qty#1490, website_builder_unit_qty#1491, website_builder_receipt_price_amt#1492, other_product_orders_qty#1493, other_product_unit_qty#1494, other_product_receipt_price_amt#1495, chats_engaged_qty#1496, shopper_ids#1497, exclude_reason_desc#1498, native_app_name#1499, session_date#1500]\n",
      "Batched: false\n",
      "Location: InMemoryFileIndex [s3://gd-gdmltecton-stage-athena-queries/GD-AWS-USA-GD-gdmltecton-Ops/uds_traffic_session]\n",
      "ReadSchema: struct<visit_guid:string,visitor_guid:string,session_begin_date:date,relative_session_begin_date:date,session_begin_ts:timestamp,session_end_date:date,session_end_ts:timestamp,session_type_name:string,session_bounce_flag:boolean,session_viewed_sales_page_flag:boolean,session_viewed_help_page_flag:boolean,session_mobile_app_flag:boolean,session_add_to_cart_flag:boolean,session_free_trial_signup_flag:boolean,session_purchase_flag:boolean,new_product_purchased_flag:boolean,renewal_product_purchased_flag:boolean,repeat_shopper_flag:boolean,repeat_visitor_flag:boolean,site_language_text:string,site_market_text:string,site_market_code:string,site_language_code:string,site_country_code:string,site_country_name:string,site_domestic_international_name:string,site_region1_name:string,site_region2_name:string,site_sub_region_name:string,private_label_id:int,reseller_type_name:string,isc_source_code:string,isc_channel_name:string,isc_sub_channel_name:string,isc_acquisition_tier_name:string,isc_vendor_name:string,isc_conversion_tier_name:string,referring_url_text:string,referred_by:string,referring_host_name:string,referring_subdomain_name:string,referring_domain_name:string,referring_tld_name:string,referring_page_name:string,referring_query_string:string,referred_by_directnav_count:int,referred_by_godaddy_count:int,referred_by_other_count:int,referred_by_search_count:int,referred_by_socialmedia_count:int,landing_page_host_name:string,landing_page_subdomain_name:string,landing_page_domain_name:string,landing_page_tld_name:string,landing_page_name:string,exit_page_host_name:string,exit_page_subdomain_name:string,exit_page_domain_name:string,exit_page_tld_name:string,exit_page_name:string,host_names:array<string>,fully_qualified_page_names:array<string>,ip_maxmind_region_name:string,ip_country_subdivision_level_1_name:string,ip_country_subdivision_level_2_name:string,ip_city_name:string,ip_postal_code:string,ip_latitude_num:string,ip_longitude_num:string,ip_metro_code:string,ip_country_code:string,ip_country_name:string,ip_domestic_international_name:string,ip_region_1_name:string,ip_region_2_name:string,ip_sub_region_name:string,utm_source:string,utm_medium:string,utm_campaign:string,utm_content:string,utm_term:string,utm_tgt:string,user_agent_text:string,browser_name:string,browser_name_major_num:string,browser_name_major_minor_num:string,browser_operating_system_name:string,device_type_name:string,device_breakpoint_name:string,browser_breakpoint_name:string,device_resolution_x_num:int,device_resolution_y_num:int,browser_resolution_x_num:int,browser_resolution_y_num:int,page_views_qty:int,session_duration_seconds:int,visits_qty:int,bouncing_visits_qty:int,ordering_visits_qty:int,new_purchase_visits_qty:int,renewal_purchase_visits_qty:int,new_shoppers_qty:int,cart_creates_qty:int,orders_qty:int,new_orders_qty:int,renewal_orders_qty:int,receipt_price_amt:decimal(18,2),margin_gcr_amt:decimal(18,2),gcr_amt:decimal(18,2),new_shopper_receipt_price_amt:decimal(18,2),new_receipt_price_amt:decimal(18,2),renewal_receipt_price_amt:decimal(18,2),dedicated_hosting_orders_qty:int,dedicated_hosting_unit_qty:int,dedicated_hosting_receipt_price_amt:decimal(18,2),virtual_hosting_orders_qty:int,virtual_hosting_unit_qty:int,virtual_hosting_receipt_price_amt:decimal(18,2),web_hosting_orders_qty:int,web_hosting_unit_qty:int,web_hosting_receipt_price_amt:decimal(18,2),domains_by_proxy_orders_qty:int,domains_by_proxy_unit_qty:int,domains_by_proxy_receipt_price_amt:decimal(18,2),domain_marketplace_orders_qty:int,domain_marketplace_unit_qty:int,domain_marketplace_receipt_price_amt:decimal(18,2),domain_registration_orders_qty:int,domain_registration_unit_qty:int,domain_registration_receipt_price_amt:decimal(18,2),email_orders_qty:int,email_unit_qty:int,email_receipt_price_amt:decimal(18,2),office_365_orders_qty:int,office_365_unit_qty:int,office_365_receipt_price_amt:decimal(18,2),ssl_orders_qty:int,ssl_unit_qty:int,ssl_receipt_price_amt:decimal(18,2),website_builder_orders_qty:int,website_builder_unit_qty:int,website_builder_receipt_price_amt:decimal(18,2),other_product_orders_qty:int,other_product_unit_qty:int,other_product_receipt_price_amt:decimal(18,2),chats_engaged_qty:int,shopper_ids:array<string>,exclude_reason_desc:string,native_app_name:string,session_date:string>"
     ]
    }
   ],
   "source": [
    "df.explain(mode=\"formatted\")"
   ]
  },
  {
   "cell_type": "markdown",
   "id": "46ad8645",
   "metadata": {},
   "source": [
    "## Test Feature View"
   ]
  },
  {
   "cell_type": "code",
   "execution_count": 52,
   "id": "b4358b85",
   "metadata": {},
   "outputs": [
    {
     "data": {
      "application/vnd.jupyter.widget-view+json": {
       "model_id": "",
       "version_major": 2,
       "version_minor": 0
      },
      "text/plain": [
       "FloatProgress(value=0.0, bar_style='info', description='Progress:', layout=Layout(height='25px', width='50%'),…"
      ]
     },
     "metadata": {},
     "output_type": "display_data"
    },
    {
     "name": "stdout",
     "output_type": "stream",
     "text": [
      "+----------------------------+-------------------------------------------------+\n",
      "| Name                       | customer_recent_traffic_last_10_json            |\n",
      "+----------------------------+-------------------------------------------------+\n",
      "| Workspace                  | jfarr                                           |\n",
      "+----------------------------+-------------------------------------------------+\n",
      "| Description                | Customer traffic features as a JSON struct for  |\n",
      "|                            | the last 10 sessions within 365 days.           |\n",
      "+----------------------------+-------------------------------------------------+\n",
      "| Created At                 | 2022-09-07 18:53:36 UTC                         |\n",
      "+----------------------------+-------------------------------------------------+\n",
      "| Owner                      | gdml-all@godaddy.com                            |\n",
      "+----------------------------+-------------------------------------------------+\n",
      "| Last Modified By           | jfarr1@godaddy.com                              |\n",
      "+----------------------------+-------------------------------------------------+\n",
      "| Family                     |                                                 |\n",
      "+----------------------------+-------------------------------------------------+\n",
      "| Source Filename            | venv/lib/python3.8/site-                        |\n",
      "|                            | packages/tecton/cli/common.py                   |\n",
      "+----------------------------+-------------------------------------------------+\n",
      "| Tags                       | {'release': 'production', 'family': 'traffic'}  |\n",
      "+----------------------------+-------------------------------------------------+\n",
      "| Type                       | BatchWindowAggregateFeatureView                 |\n",
      "+----------------------------+-------------------------------------------------+\n",
      "| URL                        | https://gd-gdml-stage.tecton.ai/app/repo/jfarr/ |\n",
      "|                            | features/customer_recent_traffic_last_10_json   |\n",
      "+----------------------------+-------------------------------------------------+\n",
      "| Entities                   | customer                                        |\n",
      "+----------------------------+-------------------------------------------------+\n",
      "| Features                   | session_json_lastn10_365d_1d                    |\n",
      "+----------------------------+-------------------------------------------------+\n",
      "| Transformation             | select_recent_traffic_features                  |\n",
      "+----------------------------+-------------------------------------------------+\n",
      "| Timestamp Key              | window_end_ts                                   |\n",
      "+----------------------------+-------------------------------------------------+\n",
      "| Online Materialization     | Disabled                                        |\n",
      "+----------------------------+-------------------------------------------------+\n",
      "| Offline Materialization    | Disabled                                        |\n",
      "+----------------------------+-------------------------------------------------+\n",
      "| Offline Join Keys          | shopper_id                                      |\n",
      "+----------------------------+-------------------------------------------------+\n",
      "| Aggregation Slide Interval | 1 days                                          |\n",
      "+----------------------------+-------------------------------------------------+"
     ]
    }
   ],
   "source": [
    "import tecton\n",
    "from datetime import datetime\n",
    "\n",
    "ws = tecton.get_workspace('jfarr')\n",
    "fv = ws.get_feature_view('customer_recent_traffic_last_10_json')\n",
    "fv.summary()"
   ]
  },
  {
   "cell_type": "code",
   "execution_count": 53,
   "id": "1001bbbd",
   "metadata": {
    "scrolled": true
   },
   "outputs": [
    {
     "data": {
      "application/vnd.jupyter.widget-view+json": {
       "model_id": "",
       "version_major": 2,
       "version_minor": 0
      },
      "text/plain": [
       "FloatProgress(value=0.0, bar_style='info', description='Progress:', layout=Layout(height='25px', width='50%'),…"
      ]
     },
     "metadata": {},
     "output_type": "display_data"
    },
    {
     "name": "stdout",
     "output_type": "stream",
     "text": [
      "+----------+------------------------------------------------------------------------------------------------------------------------------------------------------------------------------------------------------------------------------------------------------------------------------------------------------------------------------------------------------------------------------------------------------------------------------------------------------------------------------------------------------------------------------------------------------------------------------------------------------------------------------------------------------------------------------------------------------------------------------------------------------------------------------------------------------------------------------------------------------------------------------------------------------------------------------------------------------------------------------------------------------------------------------------------------------------------------------------------------------------------------------------------------------------------------------------------------------------------------------------------------------------------------------------------------------------------------------------------------------------------------------------------------------------------------------------------------------------------------------------------------------------------------------------------------------------------------------------------------------------------------------------------------------------------------------------------------------------------------------------------------------------------------------------------------------------------------------------------------------------------------------------------------------------------------------------------------------------------------------------------------------------------------------------------------------------------------------------------------------------------------------------------------------------------------------------------------------------------------------------------------------------------------------------------------------------------------------------------------------------------------------------------------------------------------------------------------------------------------------------------------------------------------------------------------------------------------------------------------------------------------------------------------------------------------------------------------------------------------------------------------------------------------------------------------------------------------------------------------------------------------------------------------------------------------------------------------------------------------------------------------------------------------------------------------------------------------------------------------------------------------------------------------------------------------------------------------------------------------------------------------------------------------------------------------------------------------------------------------------------------------------------------------------------------------------------------------------------------------------------------------------------------------------------------------------------------------------------------------------------------------------------------------------------------------------------------------------------------------------------------------------------------------------------------------------------------------------------------------------------------------------------------------------------------------------------------------------------------------------------------------------------------------------------------------------------------------------------------------------------------------------------------------------------------------------------------------------------------------------------------------------------------------------------------------------------------------------------------------------------------------------------------------------------------------------------------------------------------------------------------------------------------------------------------------------------------------------------------------------------------------------------------------------------------------------------------------------------------------------------------------------------------------------------------------------------------------------------------------------------------------------------------------------------------------------------------------------------------------------------------------------------------------------------------------------------------------------------------------------------------------------------------------------------------------------------------------------------------------------------------------------------------------------------------------------------------------------------------------------------------------------------------------------------------------------------------------------------------------------------------------------------------------------------------------------------------------------------------------------------------------------------------------------------------------------------------------------------------------------------------------------------------------------------------------------------------------------------------------------------------------------------------------------------------------------------------------------------------------------------------------------------------------------------------------------------------------------------------------------------------------------------------------------------------------------------------------------------------------------------------------------------------------------------------------------------------------------------------------------------------------------------------------------------------------------------------------------------------------------------------------------------------------------------------------------------------------------------------------------------------------------------------------------------------------------------------------------------------------------------------------------------------------------------------------------------------------------------------------------------------------------------------------------------------------------------------------------------------------------------------------------------------------------------------------------------------------------------------------------------------------------------------------------------------------------------------------------------------------------------------------------------------------------------------------------------------------------------------------------------------------------------------------------------------------------------------------------------------------------------------------------------------------------------------------------------------------------------------------------------------------------------+-------------------+\n",
      "|shopper_id|session_json_lastn10_365d_1d                                                                                                                                                                                                                                                                                                                                                                                                                                                                                                                                                                                                                                                                                                                                                                                                                                                                                                                                                                                                                                                                                                                                                                                                                                                                                                                                                                                                                                                                                                                                                                                                                                                                                                                                                                                                                                                                                                                                                                                                                                                                                                                                                                                                                                                                                                                                                                                                                                                                                                                                                                                                                                                                                                                                                                                                                                                                                                                                                                                                                                                                                                                                                                                                                                                                                                                                                                                                                                                                                                                                                                                                                                                                                                                                                                                                                                                                                                                                                                                                                                                                                                                                                                                                                                                                                                                                                                                                                                                                                                                                                                                                                                                                                                                                                                                                                                                                                                                                                                                                                                                                                                                                                                                                                                                                                                                                                                                                                                                                                                                                                                                                                                                                                                                                                                                                                                                                                                                                                                                                                                                                                                                                                                                                                                                                                                                                                                                                                                                                                                                                                                                                                                                                                                                                                                                                                                                                                                                                                                                                                                                                                                                                                                                                                                                                                                                                                                                                                                                                                                                                                                                                        |window_end_ts      |\n",
      "+----------+------------------------------------------------------------------------------------------------------------------------------------------------------------------------------------------------------------------------------------------------------------------------------------------------------------------------------------------------------------------------------------------------------------------------------------------------------------------------------------------------------------------------------------------------------------------------------------------------------------------------------------------------------------------------------------------------------------------------------------------------------------------------------------------------------------------------------------------------------------------------------------------------------------------------------------------------------------------------------------------------------------------------------------------------------------------------------------------------------------------------------------------------------------------------------------------------------------------------------------------------------------------------------------------------------------------------------------------------------------------------------------------------------------------------------------------------------------------------------------------------------------------------------------------------------------------------------------------------------------------------------------------------------------------------------------------------------------------------------------------------------------------------------------------------------------------------------------------------------------------------------------------------------------------------------------------------------------------------------------------------------------------------------------------------------------------------------------------------------------------------------------------------------------------------------------------------------------------------------------------------------------------------------------------------------------------------------------------------------------------------------------------------------------------------------------------------------------------------------------------------------------------------------------------------------------------------------------------------------------------------------------------------------------------------------------------------------------------------------------------------------------------------------------------------------------------------------------------------------------------------------------------------------------------------------------------------------------------------------------------------------------------------------------------------------------------------------------------------------------------------------------------------------------------------------------------------------------------------------------------------------------------------------------------------------------------------------------------------------------------------------------------------------------------------------------------------------------------------------------------------------------------------------------------------------------------------------------------------------------------------------------------------------------------------------------------------------------------------------------------------------------------------------------------------------------------------------------------------------------------------------------------------------------------------------------------------------------------------------------------------------------------------------------------------------------------------------------------------------------------------------------------------------------------------------------------------------------------------------------------------------------------------------------------------------------------------------------------------------------------------------------------------------------------------------------------------------------------------------------------------------------------------------------------------------------------------------------------------------------------------------------------------------------------------------------------------------------------------------------------------------------------------------------------------------------------------------------------------------------------------------------------------------------------------------------------------------------------------------------------------------------------------------------------------------------------------------------------------------------------------------------------------------------------------------------------------------------------------------------------------------------------------------------------------------------------------------------------------------------------------------------------------------------------------------------------------------------------------------------------------------------------------------------------------------------------------------------------------------------------------------------------------------------------------------------------------------------------------------------------------------------------------------------------------------------------------------------------------------------------------------------------------------------------------------------------------------------------------------------------------------------------------------------------------------------------------------------------------------------------------------------------------------------------------------------------------------------------------------------------------------------------------------------------------------------------------------------------------------------------------------------------------------------------------------------------------------------------------------------------------------------------------------------------------------------------------------------------------------------------------------------------------------------------------------------------------------------------------------------------------------------------------------------------------------------------------------------------------------------------------------------------------------------------------------------------------------------------------------------------------------------------------------------------------------------------------------------------------------------------------------------------------------------------------------------------------------------------------------------------------------------------------------------------------------------------------------------------------------------------------------------------------------------------------------------------------------------------------------------------------------------------------------------------------------------------------------------------------------------------------------------+-------------------+\n",
      "|104784417 |[{\"page_views_qty\":75,\"orders_qty\":0,\"renewal_orders_qty\":0,\"receipt_price_amt\":0.00,\"visits_qty\":1,\"new_orders_qty\":0,\"session_duration_seconds\":43222,\"session_free_trial_signup_flag\":false,\"session_purchase_flag\":false,\"session_viewed_help_page_flag\":false,\"repeat_visitor_flag\":false,\"renewal_product_purchased_flag\":false,\"session_viewed_sales_page_flag\":false,\"session_mobile_app_flag\":false,\"repeat_shopper_flag\":true,\"session_bounce_flag\":false,\"new_product_purchased_flag\":false,\"browser_operating_system_name\":\"linux\",\"site_language_code\":\"en\",\"ip_country_code\":\"US\",\"site_country_code\":\"IN\",\"session_type_name\":\"\",\"browser_name\":\"chrome\",\"referring_domain_name\":\"N/A\",\"session_begin_date\":\"2022-05-01\",\"extra_shopper_ids\":68}]                                                                                                                                                                                                                                                                                                                                                                                                                                                                                                                                                                                                                                                                                                                                                                                                                                                                                                                                                                                                                                                                                                                                                                                                                                                                                                                                                                                                                                                                                                                                                                                                                                                                                                                                                                                                                                                                                                                                                                                                                                                                                                                                                                                                                                                                                                                                                                                                                                                                                                                                                                                                                                                                                                                                                                                                                                                                                                                                                                                                                                                                                                                                                                                                                                                                                                                                                                                                                                                                                                                                                                                                                                                                                                                                                                                                                                                                                                                                                                                                                                                                                                                                                                                                                                                                                                                                                                                                                                                                                                                                                                                                                                                                                                                                                                                                                                                                                                                                                                                                                                                                                                                                                                                                                                                                                                                                                                                                                                                                                                                                                                                                                                                                                                                                                                                                                                                                                                                                                                                                                                                                                                                                                                                                                                                                                                                                                                                                                                                                                                                                                                                                                                                                                                                                                                                                                                                                    |2022-05-02 00:00:00|\n",
      "|104821592 |[{\"page_views_qty\":4,\"orders_qty\":0,\"renewal_orders_qty\":0,\"receipt_price_amt\":0.00,\"visits_qty\":1,\"new_orders_qty\":0,\"session_duration_seconds\":186,\"session_free_trial_signup_flag\":false,\"session_purchase_flag\":false,\"session_viewed_help_page_flag\":false,\"repeat_visitor_flag\":false,\"renewal_product_purchased_flag\":false,\"session_viewed_sales_page_flag\":false,\"session_mobile_app_flag\":false,\"repeat_shopper_flag\":true,\"session_bounce_flag\":false,\"new_product_purchased_flag\":false,\"browser_operating_system_name\":\"windows 10\",\"site_language_code\":\"en\",\"ip_country_code\":\"NL\",\"site_country_code\":\"GB\",\"session_type_name\":\"\",\"browser_name\":\"chrome\",\"referring_domain_name\":\"N/A\",\"session_begin_date\":\"2022-06-20\",\"extra_shopper_ids\":1}]                                                                                                                                                                                                                                                                                                                                                                                                                                                                                                                                                                                                                                                                                                                                                                                                                                                                                                                                                                                                                                                                                                                                                                                                                                                                                                                                                                                                                                                                                                                                                                                                                                                                                                                                                                                                                                                                                                                                                                                                                                                                                                                                                                                                                                                                                                                                                                                                                                                                                                                                                                                                                                                                                                                                                                                                                                                                                                                                                                                                                                                                                                                                                                                                                                                                                                                                                                                                                                                                                                                                                                                                                                                                                                                                                                                                                                                                                                                                                                                                                                                                                                                                                                                                                                                                                                                                                                                                                                                                                                                                                                                                                                                                                                                                                                                                                                                                                                                                                                                                                                                                                                                                                                                                                                                                                                                                                                                                                                                                                                                                                                                                                                                                                                                                                                                                                                                                                                                                                                                                                                                                                                                                                                                                                                                                                                                                                                                                                                                                                                                                                                                                                                                                                                                                                                                                                                                                   |2022-06-21 00:00:00|\n",
      "|105939907 |[{\"page_views_qty\":5,\"orders_qty\":0,\"renewal_orders_qty\":0,\"receipt_price_amt\":0.00,\"visits_qty\":1,\"new_orders_qty\":0,\"session_duration_seconds\":42,\"session_free_trial_signup_flag\":false,\"session_purchase_flag\":false,\"session_viewed_help_page_flag\":false,\"repeat_visitor_flag\":true,\"renewal_product_purchased_flag\":false,\"session_viewed_sales_page_flag\":true,\"session_mobile_app_flag\":false,\"repeat_shopper_flag\":true,\"session_bounce_flag\":false,\"new_product_purchased_flag\":false,\"browser_operating_system_name\":\"mac os x\",\"site_language_code\":\"en\",\"ip_country_code\":\"IN\",\"site_country_code\":\"IN\",\"session_type_name\":\"\",\"browser_name\":\"chrome\",\"referring_domain_name\":\"N/A\",\"session_begin_date\":\"2022-05-01\",\"extra_shopper_ids\":0}, {\"page_views_qty\":8,\"orders_qty\":1,\"renewal_orders_qty\":1,\"receipt_price_amt\":435.84,\"visits_qty\":1,\"new_orders_qty\":0,\"session_duration_seconds\":235,\"session_free_trial_signup_flag\":false,\"session_purchase_flag\":true,\"session_viewed_help_page_flag\":false,\"repeat_visitor_flag\":true,\"renewal_product_purchased_flag\":true,\"session_viewed_sales_page_flag\":true,\"session_mobile_app_flag\":false,\"repeat_shopper_flag\":true,\"session_bounce_flag\":false,\"new_product_purchased_flag\":false,\"browser_operating_system_name\":\"mac os x\",\"site_language_code\":\"en\",\"ip_country_code\":\"IN\",\"site_country_code\":\"IN\",\"session_type_name\":\"\",\"browser_name\":\"chrome\",\"referring_domain_name\":\"N/A\",\"session_begin_date\":\"2022-05-01\",\"extra_shopper_ids\":0}]                                                                                                                                                                                                                                                                                                                                                                                                                                                                                                                                                                                                                                                                                                                                                                                                                                                                                                                                                                                                                                                                                                                                                                                                                                                                                                                                                                                                                                                                                                                                                                                                                                                                                                                                                                                                                                                                                                                                                                                                                                                                                                                                                                                                                                                                                                                                                                                                                                                                                                                                                                                                                                                                                                                                                                                                                                                                                                                                                                                                                                                                                                                                                                                                                                                                                                                                                                                                                                                                                                                                                                                                                                                                                                                                                                                                                                                                                                                                                                                                                                                                                                                                                                                                                                                                                                                                                                                                                                                                                                                                                                                                                                                                                                                                                                                                                                                                                                                                                                                                                                                                                                                                                                                                                                                                                                                                                                                                                                                                                                                                                                                                                                                                                                                                                                                                                                                                                                                                                                                                                                                                                                           |2022-05-02 00:00:00|\n",
      "|105939907 |[{\"page_views_qty\":5,\"orders_qty\":0,\"renewal_orders_qty\":0,\"receipt_price_amt\":0.00,\"visits_qty\":1,\"new_orders_qty\":0,\"session_duration_seconds\":42,\"session_free_trial_signup_flag\":false,\"session_purchase_flag\":false,\"session_viewed_help_page_flag\":false,\"repeat_visitor_flag\":true,\"renewal_product_purchased_flag\":false,\"session_viewed_sales_page_flag\":true,\"session_mobile_app_flag\":false,\"repeat_shopper_flag\":true,\"session_bounce_flag\":false,\"new_product_purchased_flag\":false,\"browser_operating_system_name\":\"mac os x\",\"site_language_code\":\"en\",\"ip_country_code\":\"IN\",\"site_country_code\":\"IN\",\"session_type_name\":\"\",\"browser_name\":\"chrome\",\"referring_domain_name\":\"N/A\",\"session_begin_date\":\"2022-05-01\",\"extra_shopper_ids\":0}, {\"page_views_qty\":8,\"orders_qty\":1,\"renewal_orders_qty\":1,\"receipt_price_amt\":435.84,\"visits_qty\":1,\"new_orders_qty\":0,\"session_duration_seconds\":235,\"session_free_trial_signup_flag\":false,\"session_purchase_flag\":true,\"session_viewed_help_page_flag\":false,\"repeat_visitor_flag\":true,\"renewal_product_purchased_flag\":true,\"session_viewed_sales_page_flag\":true,\"session_mobile_app_flag\":false,\"repeat_shopper_flag\":true,\"session_bounce_flag\":false,\"new_product_purchased_flag\":false,\"browser_operating_system_name\":\"mac os x\",\"site_language_code\":\"en\",\"ip_country_code\":\"IN\",\"site_country_code\":\"IN\",\"session_type_name\":\"\",\"browser_name\":\"chrome\",\"referring_domain_name\":\"N/A\",\"session_begin_date\":\"2022-05-01\",\"extra_shopper_ids\":0}, {\"page_views_qty\":7,\"orders_qty\":0,\"renewal_orders_qty\":0,\"receipt_price_amt\":0.00,\"visits_qty\":1,\"new_orders_qty\":0,\"session_duration_seconds\":84,\"session_free_trial_signup_flag\":false,\"session_purchase_flag\":false,\"session_viewed_help_page_flag\":false,\"repeat_visitor_flag\":true,\"renewal_product_purchased_flag\":false,\"session_viewed_sales_page_flag\":true,\"session_mobile_app_flag\":false,\"repeat_shopper_flag\":true,\"session_bounce_flag\":false,\"new_product_purchased_flag\":false,\"browser_operating_system_name\":\"mac os x\",\"site_language_code\":\"en\",\"ip_country_code\":\"IN\",\"site_country_code\":\"IN\",\"session_type_name\":\"\",\"browser_name\":\"chrome\",\"referring_domain_name\":\"N/A\",\"session_begin_date\":\"2022-05-24\",\"extra_shopper_ids\":0}, {\"page_views_qty\":2,\"orders_qty\":0,\"renewal_orders_qty\":0,\"receipt_price_amt\":0.00,\"visits_qty\":1,\"new_orders_qty\":0,\"session_duration_seconds\":9,\"session_free_trial_signup_flag\":false,\"session_purchase_flag\":false,\"session_viewed_help_page_flag\":false,\"repeat_visitor_flag\":true,\"renewal_product_purchased_flag\":false,\"session_viewed_sales_page_flag\":true,\"session_mobile_app_flag\":false,\"repeat_shopper_flag\":true,\"session_bounce_flag\":false,\"new_product_purchased_flag\":false,\"browser_operating_system_name\":\"mac os x\",\"site_language_code\":\"en\",\"ip_country_code\":\"IN\",\"site_country_code\":\"IN\",\"session_type_name\":\"\",\"browser_name\":\"chrome\",\"referring_domain_name\":\"N/A\",\"session_begin_date\":\"2022-05-24\",\"extra_shopper_ids\":0}]                                                                                                                                                                                                                                                                                                                                                                                                                                                                                                                                                                                                                                                                                                                                                                                                                                                                                                                                                                                                                                                                                                                                                                                                                                                                                                                                                                                                                                                                                                                                                                                                                                                                                                                                                                                                                                                                                                                                                                                                                                                                                                                                                                                                                                                                                                                                                                                                                                                                                                                                                                                                                                                                                                                                                                                                                                                                                                                                                                                                                                                                                                                                                                                                                                                                                                                                                                                                                                                                                                                                                                                                                                                                                                                                                                                                                                                                                                                                                                                                                                                                                                                                                                                                                                                                                                                                                                                                                                                                                                                                                                                    |2022-05-25 00:00:00|\n",
      "|105939907 |[{\"page_views_qty\":5,\"orders_qty\":0,\"renewal_orders_qty\":0,\"receipt_price_amt\":0.00,\"visits_qty\":1,\"new_orders_qty\":0,\"session_duration_seconds\":42,\"session_free_trial_signup_flag\":false,\"session_purchase_flag\":false,\"session_viewed_help_page_flag\":false,\"repeat_visitor_flag\":true,\"renewal_product_purchased_flag\":false,\"session_viewed_sales_page_flag\":true,\"session_mobile_app_flag\":false,\"repeat_shopper_flag\":true,\"session_bounce_flag\":false,\"new_product_purchased_flag\":false,\"browser_operating_system_name\":\"mac os x\",\"site_language_code\":\"en\",\"ip_country_code\":\"IN\",\"site_country_code\":\"IN\",\"session_type_name\":\"\",\"browser_name\":\"chrome\",\"referring_domain_name\":\"N/A\",\"session_begin_date\":\"2022-05-01\",\"extra_shopper_ids\":0}, {\"page_views_qty\":8,\"orders_qty\":1,\"renewal_orders_qty\":1,\"receipt_price_amt\":435.84,\"visits_qty\":1,\"new_orders_qty\":0,\"session_duration_seconds\":235,\"session_free_trial_signup_flag\":false,\"session_purchase_flag\":true,\"session_viewed_help_page_flag\":false,\"repeat_visitor_flag\":true,\"renewal_product_purchased_flag\":true,\"session_viewed_sales_page_flag\":true,\"session_mobile_app_flag\":false,\"repeat_shopper_flag\":true,\"session_bounce_flag\":false,\"new_product_purchased_flag\":false,\"browser_operating_system_name\":\"mac os x\",\"site_language_code\":\"en\",\"ip_country_code\":\"IN\",\"site_country_code\":\"IN\",\"session_type_name\":\"\",\"browser_name\":\"chrome\",\"referring_domain_name\":\"N/A\",\"session_begin_date\":\"2022-05-01\",\"extra_shopper_ids\":0}, {\"page_views_qty\":7,\"orders_qty\":0,\"renewal_orders_qty\":0,\"receipt_price_amt\":0.00,\"visits_qty\":1,\"new_orders_qty\":0,\"session_duration_seconds\":84,\"session_free_trial_signup_flag\":false,\"session_purchase_flag\":false,\"session_viewed_help_page_flag\":false,\"repeat_visitor_flag\":true,\"renewal_product_purchased_flag\":false,\"session_viewed_sales_page_flag\":true,\"session_mobile_app_flag\":false,\"repeat_shopper_flag\":true,\"session_bounce_flag\":false,\"new_product_purchased_flag\":false,\"browser_operating_system_name\":\"mac os x\",\"site_language_code\":\"en\",\"ip_country_code\":\"IN\",\"site_country_code\":\"IN\",\"session_type_name\":\"\",\"browser_name\":\"chrome\",\"referring_domain_name\":\"N/A\",\"session_begin_date\":\"2022-05-24\",\"extra_shopper_ids\":0}, {\"page_views_qty\":2,\"orders_qty\":0,\"renewal_orders_qty\":0,\"receipt_price_amt\":0.00,\"visits_qty\":1,\"new_orders_qty\":0,\"session_duration_seconds\":9,\"session_free_trial_signup_flag\":false,\"session_purchase_flag\":false,\"session_viewed_help_page_flag\":false,\"repeat_visitor_flag\":true,\"renewal_product_purchased_flag\":false,\"session_viewed_sales_page_flag\":true,\"session_mobile_app_flag\":false,\"repeat_shopper_flag\":true,\"session_bounce_flag\":false,\"new_product_purchased_flag\":false,\"browser_operating_system_name\":\"mac os x\",\"site_language_code\":\"en\",\"ip_country_code\":\"IN\",\"site_country_code\":\"IN\",\"session_type_name\":\"\",\"browser_name\":\"chrome\",\"referring_domain_name\":\"N/A\",\"session_begin_date\":\"2022-05-24\",\"extra_shopper_ids\":0}, {\"page_views_qty\":2,\"orders_qty\":0,\"renewal_orders_qty\":0,\"receipt_price_amt\":0.00,\"visits_qty\":1,\"new_orders_qty\":0,\"session_duration_seconds\":4,\"session_free_trial_signup_flag\":false,\"session_purchase_flag\":false,\"session_viewed_help_page_flag\":false,\"repeat_visitor_flag\":true,\"renewal_product_purchased_flag\":false,\"session_viewed_sales_page_flag\":true,\"session_mobile_app_flag\":false,\"repeat_shopper_flag\":true,\"session_bounce_flag\":false,\"new_product_purchased_flag\":false,\"browser_operating_system_name\":\"mac os x\",\"site_language_code\":\"en\",\"ip_country_code\":\"IN\",\"site_country_code\":\"IN\",\"session_type_name\":\"\",\"browser_name\":\"chrome\",\"referring_domain_name\":\"N/A\",\"session_begin_date\":\"2022-06-01\",\"extra_shopper_ids\":0}]                                                                                                                                                                                                                                                                                                                                                                                                                                                                                                                                                                                                                                                                                                                                                                                                                                                                                                                                                                                                                                                                                                                                                                                                                                                                                                                                                                                                                                                                                                                                                                                                                                                                                                                                                                                                                                                                                                                                                                                                                                                                                                                                                                                                                                                                                                                                                                                                                                                                                                                                                                                                                                                                                                                                                                                                                                                                                                                                                                                                                                                                                                                                                                                                                                                                                                                                                                                                                                                                                                                                                                                                                                                                                                                                                                                                                         |2022-06-02 00:00:00|\n",
      "|105939907 |[{\"page_views_qty\":5,\"orders_qty\":0,\"renewal_orders_qty\":0,\"receipt_price_amt\":0.00,\"visits_qty\":1,\"new_orders_qty\":0,\"session_duration_seconds\":42,\"session_free_trial_signup_flag\":false,\"session_purchase_flag\":false,\"session_viewed_help_page_flag\":false,\"repeat_visitor_flag\":true,\"renewal_product_purchased_flag\":false,\"session_viewed_sales_page_flag\":true,\"session_mobile_app_flag\":false,\"repeat_shopper_flag\":true,\"session_bounce_flag\":false,\"new_product_purchased_flag\":false,\"browser_operating_system_name\":\"mac os x\",\"site_language_code\":\"en\",\"ip_country_code\":\"IN\",\"site_country_code\":\"IN\",\"session_type_name\":\"\",\"browser_name\":\"chrome\",\"referring_domain_name\":\"N/A\",\"session_begin_date\":\"2022-05-01\",\"extra_shopper_ids\":0}, {\"page_views_qty\":8,\"orders_qty\":1,\"renewal_orders_qty\":1,\"receipt_price_amt\":435.84,\"visits_qty\":1,\"new_orders_qty\":0,\"session_duration_seconds\":235,\"session_free_trial_signup_flag\":false,\"session_purchase_flag\":true,\"session_viewed_help_page_flag\":false,\"repeat_visitor_flag\":true,\"renewal_product_purchased_flag\":true,\"session_viewed_sales_page_flag\":true,\"session_mobile_app_flag\":false,\"repeat_shopper_flag\":true,\"session_bounce_flag\":false,\"new_product_purchased_flag\":false,\"browser_operating_system_name\":\"mac os x\",\"site_language_code\":\"en\",\"ip_country_code\":\"IN\",\"site_country_code\":\"IN\",\"session_type_name\":\"\",\"browser_name\":\"chrome\",\"referring_domain_name\":\"N/A\",\"session_begin_date\":\"2022-05-01\",\"extra_shopper_ids\":0}, {\"page_views_qty\":7,\"orders_qty\":0,\"renewal_orders_qty\":0,\"receipt_price_amt\":0.00,\"visits_qty\":1,\"new_orders_qty\":0,\"session_duration_seconds\":84,\"session_free_trial_signup_flag\":false,\"session_purchase_flag\":false,\"session_viewed_help_page_flag\":false,\"repeat_visitor_flag\":true,\"renewal_product_purchased_flag\":false,\"session_viewed_sales_page_flag\":true,\"session_mobile_app_flag\":false,\"repeat_shopper_flag\":true,\"session_bounce_flag\":false,\"new_product_purchased_flag\":false,\"browser_operating_system_name\":\"mac os x\",\"site_language_code\":\"en\",\"ip_country_code\":\"IN\",\"site_country_code\":\"IN\",\"session_type_name\":\"\",\"browser_name\":\"chrome\",\"referring_domain_name\":\"N/A\",\"session_begin_date\":\"2022-05-24\",\"extra_shopper_ids\":0}, {\"page_views_qty\":2,\"orders_qty\":0,\"renewal_orders_qty\":0,\"receipt_price_amt\":0.00,\"visits_qty\":1,\"new_orders_qty\":0,\"session_duration_seconds\":9,\"session_free_trial_signup_flag\":false,\"session_purchase_flag\":false,\"session_viewed_help_page_flag\":false,\"repeat_visitor_flag\":true,\"renewal_product_purchased_flag\":false,\"session_viewed_sales_page_flag\":true,\"session_mobile_app_flag\":false,\"repeat_shopper_flag\":true,\"session_bounce_flag\":false,\"new_product_purchased_flag\":false,\"browser_operating_system_name\":\"mac os x\",\"site_language_code\":\"en\",\"ip_country_code\":\"IN\",\"site_country_code\":\"IN\",\"session_type_name\":\"\",\"browser_name\":\"chrome\",\"referring_domain_name\":\"N/A\",\"session_begin_date\":\"2022-05-24\",\"extra_shopper_ids\":0}, {\"page_views_qty\":2,\"orders_qty\":0,\"renewal_orders_qty\":0,\"receipt_price_amt\":0.00,\"visits_qty\":1,\"new_orders_qty\":0,\"session_duration_seconds\":4,\"session_free_trial_signup_flag\":false,\"session_purchase_flag\":false,\"session_viewed_help_page_flag\":false,\"repeat_visitor_flag\":true,\"renewal_product_purchased_flag\":false,\"session_viewed_sales_page_flag\":true,\"session_mobile_app_flag\":false,\"repeat_shopper_flag\":true,\"session_bounce_flag\":false,\"new_product_purchased_flag\":false,\"browser_operating_system_name\":\"mac os x\",\"site_language_code\":\"en\",\"ip_country_code\":\"IN\",\"site_country_code\":\"IN\",\"session_type_name\":\"\",\"browser_name\":\"chrome\",\"referring_domain_name\":\"N/A\",\"session_begin_date\":\"2022-06-01\",\"extra_shopper_ids\":0}, {\"page_views_qty\":1,\"orders_qty\":0,\"renewal_orders_qty\":0,\"receipt_price_amt\":0.00,\"visits_qty\":1,\"new_orders_qty\":0,\"session_duration_seconds\":0,\"session_free_trial_signup_flag\":false,\"session_purchase_flag\":false,\"session_viewed_help_page_flag\":false,\"repeat_visitor_flag\":true,\"renewal_product_purchased_flag\":false,\"session_viewed_sales_page_flag\":true,\"session_mobile_app_flag\":false,\"repeat_shopper_flag\":true,\"session_bounce_flag\":true,\"new_product_purchased_flag\":false,\"browser_operating_system_name\":\"mac os x\",\"site_language_code\":\"en\",\"ip_country_code\":\"IN\",\"site_country_code\":\"IN\",\"session_type_name\":\"\",\"browser_name\":\"chrome\",\"referring_domain_name\":\"N/A\",\"session_begin_date\":\"2022-06-04\",\"extra_shopper_ids\":0}]                                                                                                                                                                                                                                                                                                                                                                                                                                                                                                                                                                                                                                                                                                                                                                                                                                                                                                                                                                                                                                                                                                                                                                                                                                                                                                                                                                                                                                                                                                                                                                                                                                                                                                                                                                                                                                                                                                                                                                                                                                                                                                                                                                                                                                                                                                                                                                                                                                                                                                                                                                                                                                                                                                                                                                                                                                                                                                                                                                                                                                                               |2022-06-05 00:00:00|\n",
      "|105939907 |[{\"page_views_qty\":5,\"orders_qty\":0,\"renewal_orders_qty\":0,\"receipt_price_amt\":0.00,\"visits_qty\":1,\"new_orders_qty\":0,\"session_duration_seconds\":42,\"session_free_trial_signup_flag\":false,\"session_purchase_flag\":false,\"session_viewed_help_page_flag\":false,\"repeat_visitor_flag\":true,\"renewal_product_purchased_flag\":false,\"session_viewed_sales_page_flag\":true,\"session_mobile_app_flag\":false,\"repeat_shopper_flag\":true,\"session_bounce_flag\":false,\"new_product_purchased_flag\":false,\"browser_operating_system_name\":\"mac os x\",\"site_language_code\":\"en\",\"ip_country_code\":\"IN\",\"site_country_code\":\"IN\",\"session_type_name\":\"\",\"browser_name\":\"chrome\",\"referring_domain_name\":\"N/A\",\"session_begin_date\":\"2022-05-01\",\"extra_shopper_ids\":0}, {\"page_views_qty\":8,\"orders_qty\":1,\"renewal_orders_qty\":1,\"receipt_price_amt\":435.84,\"visits_qty\":1,\"new_orders_qty\":0,\"session_duration_seconds\":235,\"session_free_trial_signup_flag\":false,\"session_purchase_flag\":true,\"session_viewed_help_page_flag\":false,\"repeat_visitor_flag\":true,\"renewal_product_purchased_flag\":true,\"session_viewed_sales_page_flag\":true,\"session_mobile_app_flag\":false,\"repeat_shopper_flag\":true,\"session_bounce_flag\":false,\"new_product_purchased_flag\":false,\"browser_operating_system_name\":\"mac os x\",\"site_language_code\":\"en\",\"ip_country_code\":\"IN\",\"site_country_code\":\"IN\",\"session_type_name\":\"\",\"browser_name\":\"chrome\",\"referring_domain_name\":\"N/A\",\"session_begin_date\":\"2022-05-01\",\"extra_shopper_ids\":0}, {\"page_views_qty\":7,\"orders_qty\":0,\"renewal_orders_qty\":0,\"receipt_price_amt\":0.00,\"visits_qty\":1,\"new_orders_qty\":0,\"session_duration_seconds\":84,\"session_free_trial_signup_flag\":false,\"session_purchase_flag\":false,\"session_viewed_help_page_flag\":false,\"repeat_visitor_flag\":true,\"renewal_product_purchased_flag\":false,\"session_viewed_sales_page_flag\":true,\"session_mobile_app_flag\":false,\"repeat_shopper_flag\":true,\"session_bounce_flag\":false,\"new_product_purchased_flag\":false,\"browser_operating_system_name\":\"mac os x\",\"site_language_code\":\"en\",\"ip_country_code\":\"IN\",\"site_country_code\":\"IN\",\"session_type_name\":\"\",\"browser_name\":\"chrome\",\"referring_domain_name\":\"N/A\",\"session_begin_date\":\"2022-05-24\",\"extra_shopper_ids\":0}, {\"page_views_qty\":2,\"orders_qty\":0,\"renewal_orders_qty\":0,\"receipt_price_amt\":0.00,\"visits_qty\":1,\"new_orders_qty\":0,\"session_duration_seconds\":9,\"session_free_trial_signup_flag\":false,\"session_purchase_flag\":false,\"session_viewed_help_page_flag\":false,\"repeat_visitor_flag\":true,\"renewal_product_purchased_flag\":false,\"session_viewed_sales_page_flag\":true,\"session_mobile_app_flag\":false,\"repeat_shopper_flag\":true,\"session_bounce_flag\":false,\"new_product_purchased_flag\":false,\"browser_operating_system_name\":\"mac os x\",\"site_language_code\":\"en\",\"ip_country_code\":\"IN\",\"site_country_code\":\"IN\",\"session_type_name\":\"\",\"browser_name\":\"chrome\",\"referring_domain_name\":\"N/A\",\"session_begin_date\":\"2022-05-24\",\"extra_shopper_ids\":0}, {\"page_views_qty\":2,\"orders_qty\":0,\"renewal_orders_qty\":0,\"receipt_price_amt\":0.00,\"visits_qty\":1,\"new_orders_qty\":0,\"session_duration_seconds\":4,\"session_free_trial_signup_flag\":false,\"session_purchase_flag\":false,\"session_viewed_help_page_flag\":false,\"repeat_visitor_flag\":true,\"renewal_product_purchased_flag\":false,\"session_viewed_sales_page_flag\":true,\"session_mobile_app_flag\":false,\"repeat_shopper_flag\":true,\"session_bounce_flag\":false,\"new_product_purchased_flag\":false,\"browser_operating_system_name\":\"mac os x\",\"site_language_code\":\"en\",\"ip_country_code\":\"IN\",\"site_country_code\":\"IN\",\"session_type_name\":\"\",\"browser_name\":\"chrome\",\"referring_domain_name\":\"N/A\",\"session_begin_date\":\"2022-06-01\",\"extra_shopper_ids\":0}, {\"page_views_qty\":1,\"orders_qty\":0,\"renewal_orders_qty\":0,\"receipt_price_amt\":0.00,\"visits_qty\":1,\"new_orders_qty\":0,\"session_duration_seconds\":0,\"session_free_trial_signup_flag\":false,\"session_purchase_flag\":false,\"session_viewed_help_page_flag\":false,\"repeat_visitor_flag\":true,\"renewal_product_purchased_flag\":false,\"session_viewed_sales_page_flag\":true,\"session_mobile_app_flag\":false,\"repeat_shopper_flag\":true,\"session_bounce_flag\":true,\"new_product_purchased_flag\":false,\"browser_operating_system_name\":\"mac os x\",\"site_language_code\":\"en\",\"ip_country_code\":\"IN\",\"site_country_code\":\"IN\",\"session_type_name\":\"\",\"browser_name\":\"chrome\",\"referring_domain_name\":\"N/A\",\"session_begin_date\":\"2022-06-04\",\"extra_shopper_ids\":0}, {\"page_views_qty\":4,\"orders_qty\":0,\"renewal_orders_qty\":0,\"receipt_price_amt\":0.00,\"visits_qty\":1,\"new_orders_qty\":0,\"session_duration_seconds\":87,\"session_free_trial_signup_flag\":false,\"session_purchase_flag\":false,\"session_viewed_help_page_flag\":false,\"repeat_visitor_flag\":true,\"renewal_product_purchased_flag\":false,\"session_viewed_sales_page_flag\":true,\"session_mobile_app_flag\":false,\"repeat_shopper_flag\":true,\"session_bounce_flag\":false,\"new_product_purchased_flag\":false,\"browser_operating_system_name\":\"mac os x\",\"site_language_code\":\"en\",\"ip_country_code\":\"IN\",\"site_country_code\":\"IN\",\"session_type_name\":\"\",\"browser_name\":\"chrome\",\"referring_domain_name\":\"N/A\",\"session_begin_date\":\"2022-06-06\",\"extra_shopper_ids\":0}]                                                                                                                                                                                                                                                                                                                                                                                                                                                                                                                                                                                                                                                                                                                                                                                                                                                                                                                                                                                                                                                                                                                                                                                                                                                                                                                                                                                                                                                                                                                                                                                                                                                                                                                                                                                                                                                                                                                                                                                                                                                                                                                                                                                                                                                                                                   |2022-06-07 00:00:00|\n",
      "|105939907 |[{\"page_views_qty\":5,\"orders_qty\":0,\"renewal_orders_qty\":0,\"receipt_price_amt\":0.00,\"visits_qty\":1,\"new_orders_qty\":0,\"session_duration_seconds\":42,\"session_free_trial_signup_flag\":false,\"session_purchase_flag\":false,\"session_viewed_help_page_flag\":false,\"repeat_visitor_flag\":true,\"renewal_product_purchased_flag\":false,\"session_viewed_sales_page_flag\":true,\"session_mobile_app_flag\":false,\"repeat_shopper_flag\":true,\"session_bounce_flag\":false,\"new_product_purchased_flag\":false,\"browser_operating_system_name\":\"mac os x\",\"site_language_code\":\"en\",\"ip_country_code\":\"IN\",\"site_country_code\":\"IN\",\"session_type_name\":\"\",\"browser_name\":\"chrome\",\"referring_domain_name\":\"N/A\",\"session_begin_date\":\"2022-05-01\",\"extra_shopper_ids\":0}, {\"page_views_qty\":8,\"orders_qty\":1,\"renewal_orders_qty\":1,\"receipt_price_amt\":435.84,\"visits_qty\":1,\"new_orders_qty\":0,\"session_duration_seconds\":235,\"session_free_trial_signup_flag\":false,\"session_purchase_flag\":true,\"session_viewed_help_page_flag\":false,\"repeat_visitor_flag\":true,\"renewal_product_purchased_flag\":true,\"session_viewed_sales_page_flag\":true,\"session_mobile_app_flag\":false,\"repeat_shopper_flag\":true,\"session_bounce_flag\":false,\"new_product_purchased_flag\":false,\"browser_operating_system_name\":\"mac os x\",\"site_language_code\":\"en\",\"ip_country_code\":\"IN\",\"site_country_code\":\"IN\",\"session_type_name\":\"\",\"browser_name\":\"chrome\",\"referring_domain_name\":\"N/A\",\"session_begin_date\":\"2022-05-01\",\"extra_shopper_ids\":0}, {\"page_views_qty\":7,\"orders_qty\":0,\"renewal_orders_qty\":0,\"receipt_price_amt\":0.00,\"visits_qty\":1,\"new_orders_qty\":0,\"session_duration_seconds\":84,\"session_free_trial_signup_flag\":false,\"session_purchase_flag\":false,\"session_viewed_help_page_flag\":false,\"repeat_visitor_flag\":true,\"renewal_product_purchased_flag\":false,\"session_viewed_sales_page_flag\":true,\"session_mobile_app_flag\":false,\"repeat_shopper_flag\":true,\"session_bounce_flag\":false,\"new_product_purchased_flag\":false,\"browser_operating_system_name\":\"mac os x\",\"site_language_code\":\"en\",\"ip_country_code\":\"IN\",\"site_country_code\":\"IN\",\"session_type_name\":\"\",\"browser_name\":\"chrome\",\"referring_domain_name\":\"N/A\",\"session_begin_date\":\"2022-05-24\",\"extra_shopper_ids\":0}, {\"page_views_qty\":2,\"orders_qty\":0,\"renewal_orders_qty\":0,\"receipt_price_amt\":0.00,\"visits_qty\":1,\"new_orders_qty\":0,\"session_duration_seconds\":9,\"session_free_trial_signup_flag\":false,\"session_purchase_flag\":false,\"session_viewed_help_page_flag\":false,\"repeat_visitor_flag\":true,\"renewal_product_purchased_flag\":false,\"session_viewed_sales_page_flag\":true,\"session_mobile_app_flag\":false,\"repeat_shopper_flag\":true,\"session_bounce_flag\":false,\"new_product_purchased_flag\":false,\"browser_operating_system_name\":\"mac os x\",\"site_language_code\":\"en\",\"ip_country_code\":\"IN\",\"site_country_code\":\"IN\",\"session_type_name\":\"\",\"browser_name\":\"chrome\",\"referring_domain_name\":\"N/A\",\"session_begin_date\":\"2022-05-24\",\"extra_shopper_ids\":0}, {\"page_views_qty\":2,\"orders_qty\":0,\"renewal_orders_qty\":0,\"receipt_price_amt\":0.00,\"visits_qty\":1,\"new_orders_qty\":0,\"session_duration_seconds\":4,\"session_free_trial_signup_flag\":false,\"session_purchase_flag\":false,\"session_viewed_help_page_flag\":false,\"repeat_visitor_flag\":true,\"renewal_product_purchased_flag\":false,\"session_viewed_sales_page_flag\":true,\"session_mobile_app_flag\":false,\"repeat_shopper_flag\":true,\"session_bounce_flag\":false,\"new_product_purchased_flag\":false,\"browser_operating_system_name\":\"mac os x\",\"site_language_code\":\"en\",\"ip_country_code\":\"IN\",\"site_country_code\":\"IN\",\"session_type_name\":\"\",\"browser_name\":\"chrome\",\"referring_domain_name\":\"N/A\",\"session_begin_date\":\"2022-06-01\",\"extra_shopper_ids\":0}, {\"page_views_qty\":1,\"orders_qty\":0,\"renewal_orders_qty\":0,\"receipt_price_amt\":0.00,\"visits_qty\":1,\"new_orders_qty\":0,\"session_duration_seconds\":0,\"session_free_trial_signup_flag\":false,\"session_purchase_flag\":false,\"session_viewed_help_page_flag\":false,\"repeat_visitor_flag\":true,\"renewal_product_purchased_flag\":false,\"session_viewed_sales_page_flag\":true,\"session_mobile_app_flag\":false,\"repeat_shopper_flag\":true,\"session_bounce_flag\":true,\"new_product_purchased_flag\":false,\"browser_operating_system_name\":\"mac os x\",\"site_language_code\":\"en\",\"ip_country_code\":\"IN\",\"site_country_code\":\"IN\",\"session_type_name\":\"\",\"browser_name\":\"chrome\",\"referring_domain_name\":\"N/A\",\"session_begin_date\":\"2022-06-04\",\"extra_shopper_ids\":0}, {\"page_views_qty\":4,\"orders_qty\":0,\"renewal_orders_qty\":0,\"receipt_price_amt\":0.00,\"visits_qty\":1,\"new_orders_qty\":0,\"session_duration_seconds\":87,\"session_free_trial_signup_flag\":false,\"session_purchase_flag\":false,\"session_viewed_help_page_flag\":false,\"repeat_visitor_flag\":true,\"renewal_product_purchased_flag\":false,\"session_viewed_sales_page_flag\":true,\"session_mobile_app_flag\":false,\"repeat_shopper_flag\":true,\"session_bounce_flag\":false,\"new_product_purchased_flag\":false,\"browser_operating_system_name\":\"mac os x\",\"site_language_code\":\"en\",\"ip_country_code\":\"IN\",\"site_country_code\":\"IN\",\"session_type_name\":\"\",\"browser_name\":\"chrome\",\"referring_domain_name\":\"N/A\",\"session_begin_date\":\"2022-06-06\",\"extra_shopper_ids\":0}, {\"page_views_qty\":8,\"orders_qty\":0,\"renewal_orders_qty\":0,\"receipt_price_amt\":0.00,\"visits_qty\":1,\"new_orders_qty\":0,\"session_duration_seconds\":1255,\"session_free_trial_signup_flag\":false,\"session_purchase_flag\":false,\"session_viewed_help_page_flag\":false,\"repeat_visitor_flag\":true,\"renewal_product_purchased_flag\":false,\"session_viewed_sales_page_flag\":true,\"session_mobile_app_flag\":false,\"repeat_shopper_flag\":true,\"session_bounce_flag\":false,\"new_product_purchased_flag\":false,\"browser_operating_system_name\":\"mac os x\",\"site_language_code\":\"en\",\"ip_country_code\":\"IN\",\"site_country_code\":\"IN\",\"session_type_name\":\"\",\"browser_name\":\"chrome\",\"referring_domain_name\":\"N/A\",\"session_begin_date\":\"2022-06-07\",\"extra_shopper_ids\":0}, {\"page_views_qty\":3,\"orders_qty\":0,\"renewal_orders_qty\":0,\"receipt_price_amt\":0.00,\"visits_qty\":1,\"new_orders_qty\":0,\"session_duration_seconds\":5,\"session_free_trial_signup_flag\":false,\"session_purchase_flag\":false,\"session_viewed_help_page_flag\":false,\"repeat_visitor_flag\":true,\"renewal_product_purchased_flag\":false,\"session_viewed_sales_page_flag\":true,\"session_mobile_app_flag\":false,\"repeat_shopper_flag\":true,\"session_bounce_flag\":false,\"new_product_purchased_flag\":false,\"browser_operating_system_name\":\"mac os x\",\"site_language_code\":\"en\",\"ip_country_code\":\"IN\",\"site_country_code\":\"IN\",\"session_type_name\":\"\",\"browser_name\":\"chrome\",\"referring_domain_name\":\"N/A\",\"session_begin_date\":\"2022-06-07\",\"extra_shopper_ids\":0}, {\"page_views_qty\":1,\"orders_qty\":0,\"renewal_orders_qty\":0,\"receipt_price_amt\":0.00,\"visits_qty\":1,\"new_orders_qty\":0,\"session_duration_seconds\":0,\"session_free_trial_signup_flag\":false,\"session_purchase_flag\":false,\"session_viewed_help_page_flag\":false,\"repeat_visitor_flag\":true,\"renewal_product_purchased_flag\":false,\"session_viewed_sales_page_flag\":true,\"session_mobile_app_flag\":false,\"repeat_shopper_flag\":true,\"session_bounce_flag\":true,\"new_product_purchased_flag\":false,\"browser_operating_system_name\":\"mac os x\",\"site_language_code\":\"en\",\"ip_country_code\":\"IN\",\"site_country_code\":\"IN\",\"session_type_name\":\"\",\"browser_name\":\"chrome\",\"referring_domain_name\":\"N/A\",\"session_begin_date\":\"2022-06-07\",\"extra_shopper_ids\":0}]                |2022-06-08 00:00:00|\n",
      "|105939907 |[{\"page_views_qty\":7,\"orders_qty\":0,\"renewal_orders_qty\":0,\"receipt_price_amt\":0.00,\"visits_qty\":1,\"new_orders_qty\":0,\"session_duration_seconds\":84,\"session_free_trial_signup_flag\":false,\"session_purchase_flag\":false,\"session_viewed_help_page_flag\":false,\"repeat_visitor_flag\":true,\"renewal_product_purchased_flag\":false,\"session_viewed_sales_page_flag\":true,\"session_mobile_app_flag\":false,\"repeat_shopper_flag\":true,\"session_bounce_flag\":false,\"new_product_purchased_flag\":false,\"browser_operating_system_name\":\"mac os x\",\"site_language_code\":\"en\",\"ip_country_code\":\"IN\",\"site_country_code\":\"IN\",\"session_type_name\":\"\",\"browser_name\":\"chrome\",\"referring_domain_name\":\"N/A\",\"session_begin_date\":\"2022-05-24\",\"extra_shopper_ids\":0}, {\"page_views_qty\":2,\"orders_qty\":0,\"renewal_orders_qty\":0,\"receipt_price_amt\":0.00,\"visits_qty\":1,\"new_orders_qty\":0,\"session_duration_seconds\":9,\"session_free_trial_signup_flag\":false,\"session_purchase_flag\":false,\"session_viewed_help_page_flag\":false,\"repeat_visitor_flag\":true,\"renewal_product_purchased_flag\":false,\"session_viewed_sales_page_flag\":true,\"session_mobile_app_flag\":false,\"repeat_shopper_flag\":true,\"session_bounce_flag\":false,\"new_product_purchased_flag\":false,\"browser_operating_system_name\":\"mac os x\",\"site_language_code\":\"en\",\"ip_country_code\":\"IN\",\"site_country_code\":\"IN\",\"session_type_name\":\"\",\"browser_name\":\"chrome\",\"referring_domain_name\":\"N/A\",\"session_begin_date\":\"2022-05-24\",\"extra_shopper_ids\":0}, {\"page_views_qty\":2,\"orders_qty\":0,\"renewal_orders_qty\":0,\"receipt_price_amt\":0.00,\"visits_qty\":1,\"new_orders_qty\":0,\"session_duration_seconds\":4,\"session_free_trial_signup_flag\":false,\"session_purchase_flag\":false,\"session_viewed_help_page_flag\":false,\"repeat_visitor_flag\":true,\"renewal_product_purchased_flag\":false,\"session_viewed_sales_page_flag\":true,\"session_mobile_app_flag\":false,\"repeat_shopper_flag\":true,\"session_bounce_flag\":false,\"new_product_purchased_flag\":false,\"browser_operating_system_name\":\"mac os x\",\"site_language_code\":\"en\",\"ip_country_code\":\"IN\",\"site_country_code\":\"IN\",\"session_type_name\":\"\",\"browser_name\":\"chrome\",\"referring_domain_name\":\"N/A\",\"session_begin_date\":\"2022-06-01\",\"extra_shopper_ids\":0}, {\"page_views_qty\":1,\"orders_qty\":0,\"renewal_orders_qty\":0,\"receipt_price_amt\":0.00,\"visits_qty\":1,\"new_orders_qty\":0,\"session_duration_seconds\":0,\"session_free_trial_signup_flag\":false,\"session_purchase_flag\":false,\"session_viewed_help_page_flag\":false,\"repeat_visitor_flag\":true,\"renewal_product_purchased_flag\":false,\"session_viewed_sales_page_flag\":true,\"session_mobile_app_flag\":false,\"repeat_shopper_flag\":true,\"session_bounce_flag\":true,\"new_product_purchased_flag\":false,\"browser_operating_system_name\":\"mac os x\",\"site_language_code\":\"en\",\"ip_country_code\":\"IN\",\"site_country_code\":\"IN\",\"session_type_name\":\"\",\"browser_name\":\"chrome\",\"referring_domain_name\":\"N/A\",\"session_begin_date\":\"2022-06-04\",\"extra_shopper_ids\":0}, {\"page_views_qty\":4,\"orders_qty\":0,\"renewal_orders_qty\":0,\"receipt_price_amt\":0.00,\"visits_qty\":1,\"new_orders_qty\":0,\"session_duration_seconds\":87,\"session_free_trial_signup_flag\":false,\"session_purchase_flag\":false,\"session_viewed_help_page_flag\":false,\"repeat_visitor_flag\":true,\"renewal_product_purchased_flag\":false,\"session_viewed_sales_page_flag\":true,\"session_mobile_app_flag\":false,\"repeat_shopper_flag\":true,\"session_bounce_flag\":false,\"new_product_purchased_flag\":false,\"browser_operating_system_name\":\"mac os x\",\"site_language_code\":\"en\",\"ip_country_code\":\"IN\",\"site_country_code\":\"IN\",\"session_type_name\":\"\",\"browser_name\":\"chrome\",\"referring_domain_name\":\"N/A\",\"session_begin_date\":\"2022-06-06\",\"extra_shopper_ids\":0}, {\"page_views_qty\":8,\"orders_qty\":0,\"renewal_orders_qty\":0,\"receipt_price_amt\":0.00,\"visits_qty\":1,\"new_orders_qty\":0,\"session_duration_seconds\":1255,\"session_free_trial_signup_flag\":false,\"session_purchase_flag\":false,\"session_viewed_help_page_flag\":false,\"repeat_visitor_flag\":true,\"renewal_product_purchased_flag\":false,\"session_viewed_sales_page_flag\":true,\"session_mobile_app_flag\":false,\"repeat_shopper_flag\":true,\"session_bounce_flag\":false,\"new_product_purchased_flag\":false,\"browser_operating_system_name\":\"mac os x\",\"site_language_code\":\"en\",\"ip_country_code\":\"IN\",\"site_country_code\":\"IN\",\"session_type_name\":\"\",\"browser_name\":\"chrome\",\"referring_domain_name\":\"N/A\",\"session_begin_date\":\"2022-06-07\",\"extra_shopper_ids\":0}, {\"page_views_qty\":3,\"orders_qty\":0,\"renewal_orders_qty\":0,\"receipt_price_amt\":0.00,\"visits_qty\":1,\"new_orders_qty\":0,\"session_duration_seconds\":5,\"session_free_trial_signup_flag\":false,\"session_purchase_flag\":false,\"session_viewed_help_page_flag\":false,\"repeat_visitor_flag\":true,\"renewal_product_purchased_flag\":false,\"session_viewed_sales_page_flag\":true,\"session_mobile_app_flag\":false,\"repeat_shopper_flag\":true,\"session_bounce_flag\":false,\"new_product_purchased_flag\":false,\"browser_operating_system_name\":\"mac os x\",\"site_language_code\":\"en\",\"ip_country_code\":\"IN\",\"site_country_code\":\"IN\",\"session_type_name\":\"\",\"browser_name\":\"chrome\",\"referring_domain_name\":\"N/A\",\"session_begin_date\":\"2022-06-07\",\"extra_shopper_ids\":0}, {\"page_views_qty\":1,\"orders_qty\":0,\"renewal_orders_qty\":0,\"receipt_price_amt\":0.00,\"visits_qty\":1,\"new_orders_qty\":0,\"session_duration_seconds\":0,\"session_free_trial_signup_flag\":false,\"session_purchase_flag\":false,\"session_viewed_help_page_flag\":false,\"repeat_visitor_flag\":true,\"renewal_product_purchased_flag\":false,\"session_viewed_sales_page_flag\":true,\"session_mobile_app_flag\":false,\"repeat_shopper_flag\":true,\"session_bounce_flag\":true,\"new_product_purchased_flag\":false,\"browser_operating_system_name\":\"mac os x\",\"site_language_code\":\"en\",\"ip_country_code\":\"IN\",\"site_country_code\":\"IN\",\"session_type_name\":\"\",\"browser_name\":\"chrome\",\"referring_domain_name\":\"N/A\",\"session_begin_date\":\"2022-06-07\",\"extra_shopper_ids\":0}, {\"page_views_qty\":12,\"orders_qty\":1,\"renewal_orders_qty\":1,\"receipt_price_amt\":23.98,\"visits_qty\":1,\"new_orders_qty\":0,\"session_duration_seconds\":204,\"session_free_trial_signup_flag\":false,\"session_purchase_flag\":true,\"session_viewed_help_page_flag\":false,\"repeat_visitor_flag\":false,\"renewal_product_purchased_flag\":true,\"session_viewed_sales_page_flag\":true,\"session_mobile_app_flag\":false,\"repeat_shopper_flag\":true,\"session_bounce_flag\":false,\"new_product_purchased_flag\":false,\"browser_operating_system_name\":\"windows 10\",\"site_language_code\":\"en\",\"ip_country_code\":\"IN\",\"site_country_code\":\"US\",\"session_type_name\":\"\",\"browser_name\":\"chrome\",\"referring_domain_name\":\"godaddy\",\"session_begin_date\":\"2022-06-08\",\"extra_shopper_ids\":0}, {\"page_views_qty\":10,\"orders_qty\":0,\"renewal_orders_qty\":0,\"receipt_price_amt\":0.00,\"visits_qty\":1,\"new_orders_qty\":0,\"session_duration_seconds\":219,\"session_free_trial_signup_flag\":false,\"session_purchase_flag\":false,\"session_viewed_help_page_flag\":false,\"repeat_visitor_flag\":true,\"renewal_product_purchased_flag\":false,\"session_viewed_sales_page_flag\":true,\"session_mobile_app_flag\":false,\"repeat_shopper_flag\":true,\"session_bounce_flag\":false,\"new_product_purchased_flag\":false,\"browser_operating_system_name\":\"mac os x\",\"site_language_code\":\"en\",\"ip_country_code\":\"IN\",\"site_country_code\":\"IN\",\"session_type_name\":\"\",\"browser_name\":\"chrome\",\"referring_domain_name\":\"N/A\",\"session_begin_date\":\"2022-06-08\",\"extra_shopper_ids\":0}]       |2022-06-09 00:00:00|\n",
      "|105939907 |[{\"page_views_qty\":2,\"orders_qty\":0,\"renewal_orders_qty\":0,\"receipt_price_amt\":0.00,\"visits_qty\":1,\"new_orders_qty\":0,\"session_duration_seconds\":9,\"session_free_trial_signup_flag\":false,\"session_purchase_flag\":false,\"session_viewed_help_page_flag\":false,\"repeat_visitor_flag\":true,\"renewal_product_purchased_flag\":false,\"session_viewed_sales_page_flag\":true,\"session_mobile_app_flag\":false,\"repeat_shopper_flag\":true,\"session_bounce_flag\":false,\"new_product_purchased_flag\":false,\"browser_operating_system_name\":\"mac os x\",\"site_language_code\":\"en\",\"ip_country_code\":\"IN\",\"site_country_code\":\"IN\",\"session_type_name\":\"\",\"browser_name\":\"chrome\",\"referring_domain_name\":\"N/A\",\"session_begin_date\":\"2022-05-24\",\"extra_shopper_ids\":0}, {\"page_views_qty\":2,\"orders_qty\":0,\"renewal_orders_qty\":0,\"receipt_price_amt\":0.00,\"visits_qty\":1,\"new_orders_qty\":0,\"session_duration_seconds\":4,\"session_free_trial_signup_flag\":false,\"session_purchase_flag\":false,\"session_viewed_help_page_flag\":false,\"repeat_visitor_flag\":true,\"renewal_product_purchased_flag\":false,\"session_viewed_sales_page_flag\":true,\"session_mobile_app_flag\":false,\"repeat_shopper_flag\":true,\"session_bounce_flag\":false,\"new_product_purchased_flag\":false,\"browser_operating_system_name\":\"mac os x\",\"site_language_code\":\"en\",\"ip_country_code\":\"IN\",\"site_country_code\":\"IN\",\"session_type_name\":\"\",\"browser_name\":\"chrome\",\"referring_domain_name\":\"N/A\",\"session_begin_date\":\"2022-06-01\",\"extra_shopper_ids\":0}, {\"page_views_qty\":1,\"orders_qty\":0,\"renewal_orders_qty\":0,\"receipt_price_amt\":0.00,\"visits_qty\":1,\"new_orders_qty\":0,\"session_duration_seconds\":0,\"session_free_trial_signup_flag\":false,\"session_purchase_flag\":false,\"session_viewed_help_page_flag\":false,\"repeat_visitor_flag\":true,\"renewal_product_purchased_flag\":false,\"session_viewed_sales_page_flag\":true,\"session_mobile_app_flag\":false,\"repeat_shopper_flag\":true,\"session_bounce_flag\":true,\"new_product_purchased_flag\":false,\"browser_operating_system_name\":\"mac os x\",\"site_language_code\":\"en\",\"ip_country_code\":\"IN\",\"site_country_code\":\"IN\",\"session_type_name\":\"\",\"browser_name\":\"chrome\",\"referring_domain_name\":\"N/A\",\"session_begin_date\":\"2022-06-04\",\"extra_shopper_ids\":0}, {\"page_views_qty\":4,\"orders_qty\":0,\"renewal_orders_qty\":0,\"receipt_price_amt\":0.00,\"visits_qty\":1,\"new_orders_qty\":0,\"session_duration_seconds\":87,\"session_free_trial_signup_flag\":false,\"session_purchase_flag\":false,\"session_viewed_help_page_flag\":false,\"repeat_visitor_flag\":true,\"renewal_product_purchased_flag\":false,\"session_viewed_sales_page_flag\":true,\"session_mobile_app_flag\":false,\"repeat_shopper_flag\":true,\"session_bounce_flag\":false,\"new_product_purchased_flag\":false,\"browser_operating_system_name\":\"mac os x\",\"site_language_code\":\"en\",\"ip_country_code\":\"IN\",\"site_country_code\":\"IN\",\"session_type_name\":\"\",\"browser_name\":\"chrome\",\"referring_domain_name\":\"N/A\",\"session_begin_date\":\"2022-06-06\",\"extra_shopper_ids\":0}, {\"page_views_qty\":8,\"orders_qty\":0,\"renewal_orders_qty\":0,\"receipt_price_amt\":0.00,\"visits_qty\":1,\"new_orders_qty\":0,\"session_duration_seconds\":1255,\"session_free_trial_signup_flag\":false,\"session_purchase_flag\":false,\"session_viewed_help_page_flag\":false,\"repeat_visitor_flag\":true,\"renewal_product_purchased_flag\":false,\"session_viewed_sales_page_flag\":true,\"session_mobile_app_flag\":false,\"repeat_shopper_flag\":true,\"session_bounce_flag\":false,\"new_product_purchased_flag\":false,\"browser_operating_system_name\":\"mac os x\",\"site_language_code\":\"en\",\"ip_country_code\":\"IN\",\"site_country_code\":\"IN\",\"session_type_name\":\"\",\"browser_name\":\"chrome\",\"referring_domain_name\":\"N/A\",\"session_begin_date\":\"2022-06-07\",\"extra_shopper_ids\":0}, {\"page_views_qty\":3,\"orders_qty\":0,\"renewal_orders_qty\":0,\"receipt_price_amt\":0.00,\"visits_qty\":1,\"new_orders_qty\":0,\"session_duration_seconds\":5,\"session_free_trial_signup_flag\":false,\"session_purchase_flag\":false,\"session_viewed_help_page_flag\":false,\"repeat_visitor_flag\":true,\"renewal_product_purchased_flag\":false,\"session_viewed_sales_page_flag\":true,\"session_mobile_app_flag\":false,\"repeat_shopper_flag\":true,\"session_bounce_flag\":false,\"new_product_purchased_flag\":false,\"browser_operating_system_name\":\"mac os x\",\"site_language_code\":\"en\",\"ip_country_code\":\"IN\",\"site_country_code\":\"IN\",\"session_type_name\":\"\",\"browser_name\":\"chrome\",\"referring_domain_name\":\"N/A\",\"session_begin_date\":\"2022-06-07\",\"extra_shopper_ids\":0}, {\"page_views_qty\":1,\"orders_qty\":0,\"renewal_orders_qty\":0,\"receipt_price_amt\":0.00,\"visits_qty\":1,\"new_orders_qty\":0,\"session_duration_seconds\":0,\"session_free_trial_signup_flag\":false,\"session_purchase_flag\":false,\"session_viewed_help_page_flag\":false,\"repeat_visitor_flag\":true,\"renewal_product_purchased_flag\":false,\"session_viewed_sales_page_flag\":true,\"session_mobile_app_flag\":false,\"repeat_shopper_flag\":true,\"session_bounce_flag\":true,\"new_product_purchased_flag\":false,\"browser_operating_system_name\":\"mac os x\",\"site_language_code\":\"en\",\"ip_country_code\":\"IN\",\"site_country_code\":\"IN\",\"session_type_name\":\"\",\"browser_name\":\"chrome\",\"referring_domain_name\":\"N/A\",\"session_begin_date\":\"2022-06-07\",\"extra_shopper_ids\":0}, {\"page_views_qty\":12,\"orders_qty\":1,\"renewal_orders_qty\":1,\"receipt_price_amt\":23.98,\"visits_qty\":1,\"new_orders_qty\":0,\"session_duration_seconds\":204,\"session_free_trial_signup_flag\":false,\"session_purchase_flag\":true,\"session_viewed_help_page_flag\":false,\"repeat_visitor_flag\":false,\"renewal_product_purchased_flag\":true,\"session_viewed_sales_page_flag\":true,\"session_mobile_app_flag\":false,\"repeat_shopper_flag\":true,\"session_bounce_flag\":false,\"new_product_purchased_flag\":false,\"browser_operating_system_name\":\"windows 10\",\"site_language_code\":\"en\",\"ip_country_code\":\"IN\",\"site_country_code\":\"US\",\"session_type_name\":\"\",\"browser_name\":\"chrome\",\"referring_domain_name\":\"godaddy\",\"session_begin_date\":\"2022-06-08\",\"extra_shopper_ids\":0}, {\"page_views_qty\":10,\"orders_qty\":0,\"renewal_orders_qty\":0,\"receipt_price_amt\":0.00,\"visits_qty\":1,\"new_orders_qty\":0,\"session_duration_seconds\":219,\"session_free_trial_signup_flag\":false,\"session_purchase_flag\":false,\"session_viewed_help_page_flag\":false,\"repeat_visitor_flag\":true,\"renewal_product_purchased_flag\":false,\"session_viewed_sales_page_flag\":true,\"session_mobile_app_flag\":false,\"repeat_shopper_flag\":true,\"session_bounce_flag\":false,\"new_product_purchased_flag\":false,\"browser_operating_system_name\":\"mac os x\",\"site_language_code\":\"en\",\"ip_country_code\":\"IN\",\"site_country_code\":\"IN\",\"session_type_name\":\"\",\"browser_name\":\"chrome\",\"referring_domain_name\":\"N/A\",\"session_begin_date\":\"2022-06-08\",\"extra_shopper_ids\":0}, {\"page_views_qty\":1,\"orders_qty\":0,\"renewal_orders_qty\":0,\"receipt_price_amt\":0.00,\"visits_qty\":1,\"new_orders_qty\":0,\"session_duration_seconds\":0,\"session_free_trial_signup_flag\":false,\"session_purchase_flag\":false,\"session_viewed_help_page_flag\":false,\"repeat_visitor_flag\":true,\"renewal_product_purchased_flag\":false,\"session_viewed_sales_page_flag\":true,\"session_mobile_app_flag\":false,\"repeat_shopper_flag\":true,\"session_bounce_flag\":true,\"new_product_purchased_flag\":false,\"browser_operating_system_name\":\"mac os x\",\"site_language_code\":\"en\",\"ip_country_code\":\"IN\",\"site_country_code\":\"IN\",\"session_type_name\":\"\",\"browser_name\":\"chrome\",\"referring_domain_name\":\"N/A\",\"session_begin_date\":\"2022-06-13\",\"extra_shopper_ids\":0}]         |2022-06-14 00:00:00|\n",
      "|105939907 |[{\"page_views_qty\":1,\"orders_qty\":0,\"renewal_orders_qty\":0,\"receipt_price_amt\":0.00,\"visits_qty\":1,\"new_orders_qty\":0,\"session_duration_seconds\":0,\"session_free_trial_signup_flag\":false,\"session_purchase_flag\":false,\"session_viewed_help_page_flag\":false,\"repeat_visitor_flag\":true,\"renewal_product_purchased_flag\":false,\"session_viewed_sales_page_flag\":true,\"session_mobile_app_flag\":false,\"repeat_shopper_flag\":true,\"session_bounce_flag\":true,\"new_product_purchased_flag\":false,\"browser_operating_system_name\":\"mac os x\",\"site_language_code\":\"en\",\"ip_country_code\":\"IN\",\"site_country_code\":\"IN\",\"session_type_name\":\"\",\"browser_name\":\"chrome\",\"referring_domain_name\":\"N/A\",\"session_begin_date\":\"2022-06-04\",\"extra_shopper_ids\":0}, {\"page_views_qty\":4,\"orders_qty\":0,\"renewal_orders_qty\":0,\"receipt_price_amt\":0.00,\"visits_qty\":1,\"new_orders_qty\":0,\"session_duration_seconds\":87,\"session_free_trial_signup_flag\":false,\"session_purchase_flag\":false,\"session_viewed_help_page_flag\":false,\"repeat_visitor_flag\":true,\"renewal_product_purchased_flag\":false,\"session_viewed_sales_page_flag\":true,\"session_mobile_app_flag\":false,\"repeat_shopper_flag\":true,\"session_bounce_flag\":false,\"new_product_purchased_flag\":false,\"browser_operating_system_name\":\"mac os x\",\"site_language_code\":\"en\",\"ip_country_code\":\"IN\",\"site_country_code\":\"IN\",\"session_type_name\":\"\",\"browser_name\":\"chrome\",\"referring_domain_name\":\"N/A\",\"session_begin_date\":\"2022-06-06\",\"extra_shopper_ids\":0}, {\"page_views_qty\":8,\"orders_qty\":0,\"renewal_orders_qty\":0,\"receipt_price_amt\":0.00,\"visits_qty\":1,\"new_orders_qty\":0,\"session_duration_seconds\":1255,\"session_free_trial_signup_flag\":false,\"session_purchase_flag\":false,\"session_viewed_help_page_flag\":false,\"repeat_visitor_flag\":true,\"renewal_product_purchased_flag\":false,\"session_viewed_sales_page_flag\":true,\"session_mobile_app_flag\":false,\"repeat_shopper_flag\":true,\"session_bounce_flag\":false,\"new_product_purchased_flag\":false,\"browser_operating_system_name\":\"mac os x\",\"site_language_code\":\"en\",\"ip_country_code\":\"IN\",\"site_country_code\":\"IN\",\"session_type_name\":\"\",\"browser_name\":\"chrome\",\"referring_domain_name\":\"N/A\",\"session_begin_date\":\"2022-06-07\",\"extra_shopper_ids\":0}, {\"page_views_qty\":3,\"orders_qty\":0,\"renewal_orders_qty\":0,\"receipt_price_amt\":0.00,\"visits_qty\":1,\"new_orders_qty\":0,\"session_duration_seconds\":5,\"session_free_trial_signup_flag\":false,\"session_purchase_flag\":false,\"session_viewed_help_page_flag\":false,\"repeat_visitor_flag\":true,\"renewal_product_purchased_flag\":false,\"session_viewed_sales_page_flag\":true,\"session_mobile_app_flag\":false,\"repeat_shopper_flag\":true,\"session_bounce_flag\":false,\"new_product_purchased_flag\":false,\"browser_operating_system_name\":\"mac os x\",\"site_language_code\":\"en\",\"ip_country_code\":\"IN\",\"site_country_code\":\"IN\",\"session_type_name\":\"\",\"browser_name\":\"chrome\",\"referring_domain_name\":\"N/A\",\"session_begin_date\":\"2022-06-07\",\"extra_shopper_ids\":0}, {\"page_views_qty\":1,\"orders_qty\":0,\"renewal_orders_qty\":0,\"receipt_price_amt\":0.00,\"visits_qty\":1,\"new_orders_qty\":0,\"session_duration_seconds\":0,\"session_free_trial_signup_flag\":false,\"session_purchase_flag\":false,\"session_viewed_help_page_flag\":false,\"repeat_visitor_flag\":true,\"renewal_product_purchased_flag\":false,\"session_viewed_sales_page_flag\":true,\"session_mobile_app_flag\":false,\"repeat_shopper_flag\":true,\"session_bounce_flag\":true,\"new_product_purchased_flag\":false,\"browser_operating_system_name\":\"mac os x\",\"site_language_code\":\"en\",\"ip_country_code\":\"IN\",\"site_country_code\":\"IN\",\"session_type_name\":\"\",\"browser_name\":\"chrome\",\"referring_domain_name\":\"N/A\",\"session_begin_date\":\"2022-06-07\",\"extra_shopper_ids\":0}, {\"page_views_qty\":12,\"orders_qty\":1,\"renewal_orders_qty\":1,\"receipt_price_amt\":23.98,\"visits_qty\":1,\"new_orders_qty\":0,\"session_duration_seconds\":204,\"session_free_trial_signup_flag\":false,\"session_purchase_flag\":true,\"session_viewed_help_page_flag\":false,\"repeat_visitor_flag\":false,\"renewal_product_purchased_flag\":true,\"session_viewed_sales_page_flag\":true,\"session_mobile_app_flag\":false,\"repeat_shopper_flag\":true,\"session_bounce_flag\":false,\"new_product_purchased_flag\":false,\"browser_operating_system_name\":\"windows 10\",\"site_language_code\":\"en\",\"ip_country_code\":\"IN\",\"site_country_code\":\"US\",\"session_type_name\":\"\",\"browser_name\":\"chrome\",\"referring_domain_name\":\"godaddy\",\"session_begin_date\":\"2022-06-08\",\"extra_shopper_ids\":0}, {\"page_views_qty\":10,\"orders_qty\":0,\"renewal_orders_qty\":0,\"receipt_price_amt\":0.00,\"visits_qty\":1,\"new_orders_qty\":0,\"session_duration_seconds\":219,\"session_free_trial_signup_flag\":false,\"session_purchase_flag\":false,\"session_viewed_help_page_flag\":false,\"repeat_visitor_flag\":true,\"renewal_product_purchased_flag\":false,\"session_viewed_sales_page_flag\":true,\"session_mobile_app_flag\":false,\"repeat_shopper_flag\":true,\"session_bounce_flag\":false,\"new_product_purchased_flag\":false,\"browser_operating_system_name\":\"mac os x\",\"site_language_code\":\"en\",\"ip_country_code\":\"IN\",\"site_country_code\":\"IN\",\"session_type_name\":\"\",\"browser_name\":\"chrome\",\"referring_domain_name\":\"N/A\",\"session_begin_date\":\"2022-06-08\",\"extra_shopper_ids\":0}, {\"page_views_qty\":1,\"orders_qty\":0,\"renewal_orders_qty\":0,\"receipt_price_amt\":0.00,\"visits_qty\":1,\"new_orders_qty\":0,\"session_duration_seconds\":0,\"session_free_trial_signup_flag\":false,\"session_purchase_flag\":false,\"session_viewed_help_page_flag\":false,\"repeat_visitor_flag\":true,\"renewal_product_purchased_flag\":false,\"session_viewed_sales_page_flag\":true,\"session_mobile_app_flag\":false,\"repeat_shopper_flag\":true,\"session_bounce_flag\":true,\"new_product_purchased_flag\":false,\"browser_operating_system_name\":\"mac os x\",\"site_language_code\":\"en\",\"ip_country_code\":\"IN\",\"site_country_code\":\"IN\",\"session_type_name\":\"\",\"browser_name\":\"chrome\",\"referring_domain_name\":\"N/A\",\"session_begin_date\":\"2022-06-13\",\"extra_shopper_ids\":0}, {\"page_views_qty\":2,\"orders_qty\":0,\"renewal_orders_qty\":0,\"receipt_price_amt\":0.00,\"visits_qty\":1,\"new_orders_qty\":0,\"session_duration_seconds\":18,\"session_free_trial_signup_flag\":false,\"session_purchase_flag\":false,\"session_viewed_help_page_flag\":false,\"repeat_visitor_flag\":true,\"renewal_product_purchased_flag\":false,\"session_viewed_sales_page_flag\":true,\"session_mobile_app_flag\":false,\"repeat_shopper_flag\":true,\"session_bounce_flag\":false,\"new_product_purchased_flag\":false,\"browser_operating_system_name\":\"mac os x\",\"site_language_code\":\"en\",\"ip_country_code\":\"IN\",\"site_country_code\":\"IN\",\"session_type_name\":\"\",\"browser_name\":\"chrome\",\"referring_domain_name\":\"N/A\",\"session_begin_date\":\"2022-06-14\",\"extra_shopper_ids\":0}, {\"page_views_qty\":4,\"orders_qty\":0,\"renewal_orders_qty\":0,\"receipt_price_amt\":0.00,\"visits_qty\":1,\"new_orders_qty\":0,\"session_duration_seconds\":992,\"session_free_trial_signup_flag\":false,\"session_purchase_flag\":false,\"session_viewed_help_page_flag\":false,\"repeat_visitor_flag\":true,\"renewal_product_purchased_flag\":false,\"session_viewed_sales_page_flag\":true,\"session_mobile_app_flag\":false,\"repeat_shopper_flag\":true,\"session_bounce_flag\":false,\"new_product_purchased_flag\":false,\"browser_operating_system_name\":\"mac os x\",\"site_language_code\":\"en\",\"ip_country_code\":\"IN\",\"site_country_code\":\"IN\",\"session_type_name\":\"\",\"browser_name\":\"chrome\",\"referring_domain_name\":\"N/A\",\"session_begin_date\":\"2022-06-14\",\"extra_shopper_ids\":0}]      |2022-06-15 00:00:00|\n",
      "|105939907 |[{\"page_views_qty\":4,\"orders_qty\":0,\"renewal_orders_qty\":0,\"receipt_price_amt\":0.00,\"visits_qty\":1,\"new_orders_qty\":0,\"session_duration_seconds\":87,\"session_free_trial_signup_flag\":false,\"session_purchase_flag\":false,\"session_viewed_help_page_flag\":false,\"repeat_visitor_flag\":true,\"renewal_product_purchased_flag\":false,\"session_viewed_sales_page_flag\":true,\"session_mobile_app_flag\":false,\"repeat_shopper_flag\":true,\"session_bounce_flag\":false,\"new_product_purchased_flag\":false,\"browser_operating_system_name\":\"mac os x\",\"site_language_code\":\"en\",\"ip_country_code\":\"IN\",\"site_country_code\":\"IN\",\"session_type_name\":\"\",\"browser_name\":\"chrome\",\"referring_domain_name\":\"N/A\",\"session_begin_date\":\"2022-06-06\",\"extra_shopper_ids\":0}, {\"page_views_qty\":8,\"orders_qty\":0,\"renewal_orders_qty\":0,\"receipt_price_amt\":0.00,\"visits_qty\":1,\"new_orders_qty\":0,\"session_duration_seconds\":1255,\"session_free_trial_signup_flag\":false,\"session_purchase_flag\":false,\"session_viewed_help_page_flag\":false,\"repeat_visitor_flag\":true,\"renewal_product_purchased_flag\":false,\"session_viewed_sales_page_flag\":true,\"session_mobile_app_flag\":false,\"repeat_shopper_flag\":true,\"session_bounce_flag\":false,\"new_product_purchased_flag\":false,\"browser_operating_system_name\":\"mac os x\",\"site_language_code\":\"en\",\"ip_country_code\":\"IN\",\"site_country_code\":\"IN\",\"session_type_name\":\"\",\"browser_name\":\"chrome\",\"referring_domain_name\":\"N/A\",\"session_begin_date\":\"2022-06-07\",\"extra_shopper_ids\":0}, {\"page_views_qty\":3,\"orders_qty\":0,\"renewal_orders_qty\":0,\"receipt_price_amt\":0.00,\"visits_qty\":1,\"new_orders_qty\":0,\"session_duration_seconds\":5,\"session_free_trial_signup_flag\":false,\"session_purchase_flag\":false,\"session_viewed_help_page_flag\":false,\"repeat_visitor_flag\":true,\"renewal_product_purchased_flag\":false,\"session_viewed_sales_page_flag\":true,\"session_mobile_app_flag\":false,\"repeat_shopper_flag\":true,\"session_bounce_flag\":false,\"new_product_purchased_flag\":false,\"browser_operating_system_name\":\"mac os x\",\"site_language_code\":\"en\",\"ip_country_code\":\"IN\",\"site_country_code\":\"IN\",\"session_type_name\":\"\",\"browser_name\":\"chrome\",\"referring_domain_name\":\"N/A\",\"session_begin_date\":\"2022-06-07\",\"extra_shopper_ids\":0}, {\"page_views_qty\":1,\"orders_qty\":0,\"renewal_orders_qty\":0,\"receipt_price_amt\":0.00,\"visits_qty\":1,\"new_orders_qty\":0,\"session_duration_seconds\":0,\"session_free_trial_signup_flag\":false,\"session_purchase_flag\":false,\"session_viewed_help_page_flag\":false,\"repeat_visitor_flag\":true,\"renewal_product_purchased_flag\":false,\"session_viewed_sales_page_flag\":true,\"session_mobile_app_flag\":false,\"repeat_shopper_flag\":true,\"session_bounce_flag\":true,\"new_product_purchased_flag\":false,\"browser_operating_system_name\":\"mac os x\",\"site_language_code\":\"en\",\"ip_country_code\":\"IN\",\"site_country_code\":\"IN\",\"session_type_name\":\"\",\"browser_name\":\"chrome\",\"referring_domain_name\":\"N/A\",\"session_begin_date\":\"2022-06-07\",\"extra_shopper_ids\":0}, {\"page_views_qty\":12,\"orders_qty\":1,\"renewal_orders_qty\":1,\"receipt_price_amt\":23.98,\"visits_qty\":1,\"new_orders_qty\":0,\"session_duration_seconds\":204,\"session_free_trial_signup_flag\":false,\"session_purchase_flag\":true,\"session_viewed_help_page_flag\":false,\"repeat_visitor_flag\":false,\"renewal_product_purchased_flag\":true,\"session_viewed_sales_page_flag\":true,\"session_mobile_app_flag\":false,\"repeat_shopper_flag\":true,\"session_bounce_flag\":false,\"new_product_purchased_flag\":false,\"browser_operating_system_name\":\"windows 10\",\"site_language_code\":\"en\",\"ip_country_code\":\"IN\",\"site_country_code\":\"US\",\"session_type_name\":\"\",\"browser_name\":\"chrome\",\"referring_domain_name\":\"godaddy\",\"session_begin_date\":\"2022-06-08\",\"extra_shopper_ids\":0}, {\"page_views_qty\":10,\"orders_qty\":0,\"renewal_orders_qty\":0,\"receipt_price_amt\":0.00,\"visits_qty\":1,\"new_orders_qty\":0,\"session_duration_seconds\":219,\"session_free_trial_signup_flag\":false,\"session_purchase_flag\":false,\"session_viewed_help_page_flag\":false,\"repeat_visitor_flag\":true,\"renewal_product_purchased_flag\":false,\"session_viewed_sales_page_flag\":true,\"session_mobile_app_flag\":false,\"repeat_shopper_flag\":true,\"session_bounce_flag\":false,\"new_product_purchased_flag\":false,\"browser_operating_system_name\":\"mac os x\",\"site_language_code\":\"en\",\"ip_country_code\":\"IN\",\"site_country_code\":\"IN\",\"session_type_name\":\"\",\"browser_name\":\"chrome\",\"referring_domain_name\":\"N/A\",\"session_begin_date\":\"2022-06-08\",\"extra_shopper_ids\":0}, {\"page_views_qty\":1,\"orders_qty\":0,\"renewal_orders_qty\":0,\"receipt_price_amt\":0.00,\"visits_qty\":1,\"new_orders_qty\":0,\"session_duration_seconds\":0,\"session_free_trial_signup_flag\":false,\"session_purchase_flag\":false,\"session_viewed_help_page_flag\":false,\"repeat_visitor_flag\":true,\"renewal_product_purchased_flag\":false,\"session_viewed_sales_page_flag\":true,\"session_mobile_app_flag\":false,\"repeat_shopper_flag\":true,\"session_bounce_flag\":true,\"new_product_purchased_flag\":false,\"browser_operating_system_name\":\"mac os x\",\"site_language_code\":\"en\",\"ip_country_code\":\"IN\",\"site_country_code\":\"IN\",\"session_type_name\":\"\",\"browser_name\":\"chrome\",\"referring_domain_name\":\"N/A\",\"session_begin_date\":\"2022-06-13\",\"extra_shopper_ids\":0}, {\"page_views_qty\":2,\"orders_qty\":0,\"renewal_orders_qty\":0,\"receipt_price_amt\":0.00,\"visits_qty\":1,\"new_orders_qty\":0,\"session_duration_seconds\":18,\"session_free_trial_signup_flag\":false,\"session_purchase_flag\":false,\"session_viewed_help_page_flag\":false,\"repeat_visitor_flag\":true,\"renewal_product_purchased_flag\":false,\"session_viewed_sales_page_flag\":true,\"session_mobile_app_flag\":false,\"repeat_shopper_flag\":true,\"session_bounce_flag\":false,\"new_product_purchased_flag\":false,\"browser_operating_system_name\":\"mac os x\",\"site_language_code\":\"en\",\"ip_country_code\":\"IN\",\"site_country_code\":\"IN\",\"session_type_name\":\"\",\"browser_name\":\"chrome\",\"referring_domain_name\":\"N/A\",\"session_begin_date\":\"2022-06-14\",\"extra_shopper_ids\":0}, {\"page_views_qty\":4,\"orders_qty\":0,\"renewal_orders_qty\":0,\"receipt_price_amt\":0.00,\"visits_qty\":1,\"new_orders_qty\":0,\"session_duration_seconds\":992,\"session_free_trial_signup_flag\":false,\"session_purchase_flag\":false,\"session_viewed_help_page_flag\":false,\"repeat_visitor_flag\":true,\"renewal_product_purchased_flag\":false,\"session_viewed_sales_page_flag\":true,\"session_mobile_app_flag\":false,\"repeat_shopper_flag\":true,\"session_bounce_flag\":false,\"new_product_purchased_flag\":false,\"browser_operating_system_name\":\"mac os x\",\"site_language_code\":\"en\",\"ip_country_code\":\"IN\",\"site_country_code\":\"IN\",\"session_type_name\":\"\",\"browser_name\":\"chrome\",\"referring_domain_name\":\"N/A\",\"session_begin_date\":\"2022-06-14\",\"extra_shopper_ids\":0}, {\"page_views_qty\":2,\"orders_qty\":0,\"renewal_orders_qty\":0,\"receipt_price_amt\":0.00,\"visits_qty\":1,\"new_orders_qty\":0,\"session_duration_seconds\":6,\"session_free_trial_signup_flag\":false,\"session_purchase_flag\":false,\"session_viewed_help_page_flag\":false,\"repeat_visitor_flag\":true,\"renewal_product_purchased_flag\":false,\"session_viewed_sales_page_flag\":true,\"session_mobile_app_flag\":false,\"repeat_shopper_flag\":true,\"session_bounce_flag\":false,\"new_product_purchased_flag\":false,\"browser_operating_system_name\":\"mac os x\",\"site_language_code\":\"en\",\"ip_country_code\":\"IN\",\"site_country_code\":\"IN\",\"session_type_name\":\"\",\"browser_name\":\"chrome\",\"referring_domain_name\":\"N/A\",\"session_begin_date\":\"2022-06-19\",\"extra_shopper_ids\":0}]     |2022-06-20 00:00:00|\n",
      "|105939907 |[{\"page_views_qty\":8,\"orders_qty\":0,\"renewal_orders_qty\":0,\"receipt_price_amt\":0.00,\"visits_qty\":1,\"new_orders_qty\":0,\"session_duration_seconds\":1255,\"session_free_trial_signup_flag\":false,\"session_purchase_flag\":false,\"session_viewed_help_page_flag\":false,\"repeat_visitor_flag\":true,\"renewal_product_purchased_flag\":false,\"session_viewed_sales_page_flag\":true,\"session_mobile_app_flag\":false,\"repeat_shopper_flag\":true,\"session_bounce_flag\":false,\"new_product_purchased_flag\":false,\"browser_operating_system_name\":\"mac os x\",\"site_language_code\":\"en\",\"ip_country_code\":\"IN\",\"site_country_code\":\"IN\",\"session_type_name\":\"\",\"browser_name\":\"chrome\",\"referring_domain_name\":\"N/A\",\"session_begin_date\":\"2022-06-07\",\"extra_shopper_ids\":0}, {\"page_views_qty\":3,\"orders_qty\":0,\"renewal_orders_qty\":0,\"receipt_price_amt\":0.00,\"visits_qty\":1,\"new_orders_qty\":0,\"session_duration_seconds\":5,\"session_free_trial_signup_flag\":false,\"session_purchase_flag\":false,\"session_viewed_help_page_flag\":false,\"repeat_visitor_flag\":true,\"renewal_product_purchased_flag\":false,\"session_viewed_sales_page_flag\":true,\"session_mobile_app_flag\":false,\"repeat_shopper_flag\":true,\"session_bounce_flag\":false,\"new_product_purchased_flag\":false,\"browser_operating_system_name\":\"mac os x\",\"site_language_code\":\"en\",\"ip_country_code\":\"IN\",\"site_country_code\":\"IN\",\"session_type_name\":\"\",\"browser_name\":\"chrome\",\"referring_domain_name\":\"N/A\",\"session_begin_date\":\"2022-06-07\",\"extra_shopper_ids\":0}, {\"page_views_qty\":1,\"orders_qty\":0,\"renewal_orders_qty\":0,\"receipt_price_amt\":0.00,\"visits_qty\":1,\"new_orders_qty\":0,\"session_duration_seconds\":0,\"session_free_trial_signup_flag\":false,\"session_purchase_flag\":false,\"session_viewed_help_page_flag\":false,\"repeat_visitor_flag\":true,\"renewal_product_purchased_flag\":false,\"session_viewed_sales_page_flag\":true,\"session_mobile_app_flag\":false,\"repeat_shopper_flag\":true,\"session_bounce_flag\":true,\"new_product_purchased_flag\":false,\"browser_operating_system_name\":\"mac os x\",\"site_language_code\":\"en\",\"ip_country_code\":\"IN\",\"site_country_code\":\"IN\",\"session_type_name\":\"\",\"browser_name\":\"chrome\",\"referring_domain_name\":\"N/A\",\"session_begin_date\":\"2022-06-07\",\"extra_shopper_ids\":0}, {\"page_views_qty\":12,\"orders_qty\":1,\"renewal_orders_qty\":1,\"receipt_price_amt\":23.98,\"visits_qty\":1,\"new_orders_qty\":0,\"session_duration_seconds\":204,\"session_free_trial_signup_flag\":false,\"session_purchase_flag\":true,\"session_viewed_help_page_flag\":false,\"repeat_visitor_flag\":false,\"renewal_product_purchased_flag\":true,\"session_viewed_sales_page_flag\":true,\"session_mobile_app_flag\":false,\"repeat_shopper_flag\":true,\"session_bounce_flag\":false,\"new_product_purchased_flag\":false,\"browser_operating_system_name\":\"windows 10\",\"site_language_code\":\"en\",\"ip_country_code\":\"IN\",\"site_country_code\":\"US\",\"session_type_name\":\"\",\"browser_name\":\"chrome\",\"referring_domain_name\":\"godaddy\",\"session_begin_date\":\"2022-06-08\",\"extra_shopper_ids\":0}, {\"page_views_qty\":10,\"orders_qty\":0,\"renewal_orders_qty\":0,\"receipt_price_amt\":0.00,\"visits_qty\":1,\"new_orders_qty\":0,\"session_duration_seconds\":219,\"session_free_trial_signup_flag\":false,\"session_purchase_flag\":false,\"session_viewed_help_page_flag\":false,\"repeat_visitor_flag\":true,\"renewal_product_purchased_flag\":false,\"session_viewed_sales_page_flag\":true,\"session_mobile_app_flag\":false,\"repeat_shopper_flag\":true,\"session_bounce_flag\":false,\"new_product_purchased_flag\":false,\"browser_operating_system_name\":\"mac os x\",\"site_language_code\":\"en\",\"ip_country_code\":\"IN\",\"site_country_code\":\"IN\",\"session_type_name\":\"\",\"browser_name\":\"chrome\",\"referring_domain_name\":\"N/A\",\"session_begin_date\":\"2022-06-08\",\"extra_shopper_ids\":0}, {\"page_views_qty\":1,\"orders_qty\":0,\"renewal_orders_qty\":0,\"receipt_price_amt\":0.00,\"visits_qty\":1,\"new_orders_qty\":0,\"session_duration_seconds\":0,\"session_free_trial_signup_flag\":false,\"session_purchase_flag\":false,\"session_viewed_help_page_flag\":false,\"repeat_visitor_flag\":true,\"renewal_product_purchased_flag\":false,\"session_viewed_sales_page_flag\":true,\"session_mobile_app_flag\":false,\"repeat_shopper_flag\":true,\"session_bounce_flag\":true,\"new_product_purchased_flag\":false,\"browser_operating_system_name\":\"mac os x\",\"site_language_code\":\"en\",\"ip_country_code\":\"IN\",\"site_country_code\":\"IN\",\"session_type_name\":\"\",\"browser_name\":\"chrome\",\"referring_domain_name\":\"N/A\",\"session_begin_date\":\"2022-06-13\",\"extra_shopper_ids\":0}, {\"page_views_qty\":2,\"orders_qty\":0,\"renewal_orders_qty\":0,\"receipt_price_amt\":0.00,\"visits_qty\":1,\"new_orders_qty\":0,\"session_duration_seconds\":18,\"session_free_trial_signup_flag\":false,\"session_purchase_flag\":false,\"session_viewed_help_page_flag\":false,\"repeat_visitor_flag\":true,\"renewal_product_purchased_flag\":false,\"session_viewed_sales_page_flag\":true,\"session_mobile_app_flag\":false,\"repeat_shopper_flag\":true,\"session_bounce_flag\":false,\"new_product_purchased_flag\":false,\"browser_operating_system_name\":\"mac os x\",\"site_language_code\":\"en\",\"ip_country_code\":\"IN\",\"site_country_code\":\"IN\",\"session_type_name\":\"\",\"browser_name\":\"chrome\",\"referring_domain_name\":\"N/A\",\"session_begin_date\":\"2022-06-14\",\"extra_shopper_ids\":0}, {\"page_views_qty\":4,\"orders_qty\":0,\"renewal_orders_qty\":0,\"receipt_price_amt\":0.00,\"visits_qty\":1,\"new_orders_qty\":0,\"session_duration_seconds\":992,\"session_free_trial_signup_flag\":false,\"session_purchase_flag\":false,\"session_viewed_help_page_flag\":false,\"repeat_visitor_flag\":true,\"renewal_product_purchased_flag\":false,\"session_viewed_sales_page_flag\":true,\"session_mobile_app_flag\":false,\"repeat_shopper_flag\":true,\"session_bounce_flag\":false,\"new_product_purchased_flag\":false,\"browser_operating_system_name\":\"mac os x\",\"site_language_code\":\"en\",\"ip_country_code\":\"IN\",\"site_country_code\":\"IN\",\"session_type_name\":\"\",\"browser_name\":\"chrome\",\"referring_domain_name\":\"N/A\",\"session_begin_date\":\"2022-06-14\",\"extra_shopper_ids\":0}, {\"page_views_qty\":2,\"orders_qty\":0,\"renewal_orders_qty\":0,\"receipt_price_amt\":0.00,\"visits_qty\":1,\"new_orders_qty\":0,\"session_duration_seconds\":6,\"session_free_trial_signup_flag\":false,\"session_purchase_flag\":false,\"session_viewed_help_page_flag\":false,\"repeat_visitor_flag\":true,\"renewal_product_purchased_flag\":false,\"session_viewed_sales_page_flag\":true,\"session_mobile_app_flag\":false,\"repeat_shopper_flag\":true,\"session_bounce_flag\":false,\"new_product_purchased_flag\":false,\"browser_operating_system_name\":\"mac os x\",\"site_language_code\":\"en\",\"ip_country_code\":\"IN\",\"site_country_code\":\"IN\",\"session_type_name\":\"\",\"browser_name\":\"chrome\",\"referring_domain_name\":\"N/A\",\"session_begin_date\":\"2022-06-19\",\"extra_shopper_ids\":0}, {\"page_views_qty\":5,\"orders_qty\":0,\"renewal_orders_qty\":0,\"receipt_price_amt\":0.00,\"visits_qty\":1,\"new_orders_qty\":0,\"session_duration_seconds\":131,\"session_free_trial_signup_flag\":false,\"session_purchase_flag\":false,\"session_viewed_help_page_flag\":false,\"repeat_visitor_flag\":true,\"renewal_product_purchased_flag\":false,\"session_viewed_sales_page_flag\":true,\"session_mobile_app_flag\":false,\"repeat_shopper_flag\":true,\"session_bounce_flag\":false,\"new_product_purchased_flag\":false,\"browser_operating_system_name\":\"mac os x\",\"site_language_code\":\"en\",\"ip_country_code\":\"IN\",\"site_country_code\":\"IN\",\"session_type_name\":\"\",\"browser_name\":\"chrome\",\"referring_domain_name\":\"N/A\",\"session_begin_date\":\"2022-06-22\",\"extra_shopper_ids\":0}]    |2022-06-23 00:00:00|\n",
      "|105939907 |[{\"page_views_qty\":3,\"orders_qty\":0,\"renewal_orders_qty\":0,\"receipt_price_amt\":0.00,\"visits_qty\":1,\"new_orders_qty\":0,\"session_duration_seconds\":5,\"session_free_trial_signup_flag\":false,\"session_purchase_flag\":false,\"session_viewed_help_page_flag\":false,\"repeat_visitor_flag\":true,\"renewal_product_purchased_flag\":false,\"session_viewed_sales_page_flag\":true,\"session_mobile_app_flag\":false,\"repeat_shopper_flag\":true,\"session_bounce_flag\":false,\"new_product_purchased_flag\":false,\"browser_operating_system_name\":\"mac os x\",\"site_language_code\":\"en\",\"ip_country_code\":\"IN\",\"site_country_code\":\"IN\",\"session_type_name\":\"\",\"browser_name\":\"chrome\",\"referring_domain_name\":\"N/A\",\"session_begin_date\":\"2022-06-07\",\"extra_shopper_ids\":0}, {\"page_views_qty\":1,\"orders_qty\":0,\"renewal_orders_qty\":0,\"receipt_price_amt\":0.00,\"visits_qty\":1,\"new_orders_qty\":0,\"session_duration_seconds\":0,\"session_free_trial_signup_flag\":false,\"session_purchase_flag\":false,\"session_viewed_help_page_flag\":false,\"repeat_visitor_flag\":true,\"renewal_product_purchased_flag\":false,\"session_viewed_sales_page_flag\":true,\"session_mobile_app_flag\":false,\"repeat_shopper_flag\":true,\"session_bounce_flag\":true,\"new_product_purchased_flag\":false,\"browser_operating_system_name\":\"mac os x\",\"site_language_code\":\"en\",\"ip_country_code\":\"IN\",\"site_country_code\":\"IN\",\"session_type_name\":\"\",\"browser_name\":\"chrome\",\"referring_domain_name\":\"N/A\",\"session_begin_date\":\"2022-06-07\",\"extra_shopper_ids\":0}, {\"page_views_qty\":12,\"orders_qty\":1,\"renewal_orders_qty\":1,\"receipt_price_amt\":23.98,\"visits_qty\":1,\"new_orders_qty\":0,\"session_duration_seconds\":204,\"session_free_trial_signup_flag\":false,\"session_purchase_flag\":true,\"session_viewed_help_page_flag\":false,\"repeat_visitor_flag\":false,\"renewal_product_purchased_flag\":true,\"session_viewed_sales_page_flag\":true,\"session_mobile_app_flag\":false,\"repeat_shopper_flag\":true,\"session_bounce_flag\":false,\"new_product_purchased_flag\":false,\"browser_operating_system_name\":\"windows 10\",\"site_language_code\":\"en\",\"ip_country_code\":\"IN\",\"site_country_code\":\"US\",\"session_type_name\":\"\",\"browser_name\":\"chrome\",\"referring_domain_name\":\"godaddy\",\"session_begin_date\":\"2022-06-08\",\"extra_shopper_ids\":0}, {\"page_views_qty\":10,\"orders_qty\":0,\"renewal_orders_qty\":0,\"receipt_price_amt\":0.00,\"visits_qty\":1,\"new_orders_qty\":0,\"session_duration_seconds\":219,\"session_free_trial_signup_flag\":false,\"session_purchase_flag\":false,\"session_viewed_help_page_flag\":false,\"repeat_visitor_flag\":true,\"renewal_product_purchased_flag\":false,\"session_viewed_sales_page_flag\":true,\"session_mobile_app_flag\":false,\"repeat_shopper_flag\":true,\"session_bounce_flag\":false,\"new_product_purchased_flag\":false,\"browser_operating_system_name\":\"mac os x\",\"site_language_code\":\"en\",\"ip_country_code\":\"IN\",\"site_country_code\":\"IN\",\"session_type_name\":\"\",\"browser_name\":\"chrome\",\"referring_domain_name\":\"N/A\",\"session_begin_date\":\"2022-06-08\",\"extra_shopper_ids\":0}, {\"page_views_qty\":1,\"orders_qty\":0,\"renewal_orders_qty\":0,\"receipt_price_amt\":0.00,\"visits_qty\":1,\"new_orders_qty\":0,\"session_duration_seconds\":0,\"session_free_trial_signup_flag\":false,\"session_purchase_flag\":false,\"session_viewed_help_page_flag\":false,\"repeat_visitor_flag\":true,\"renewal_product_purchased_flag\":false,\"session_viewed_sales_page_flag\":true,\"session_mobile_app_flag\":false,\"repeat_shopper_flag\":true,\"session_bounce_flag\":true,\"new_product_purchased_flag\":false,\"browser_operating_system_name\":\"mac os x\",\"site_language_code\":\"en\",\"ip_country_code\":\"IN\",\"site_country_code\":\"IN\",\"session_type_name\":\"\",\"browser_name\":\"chrome\",\"referring_domain_name\":\"N/A\",\"session_begin_date\":\"2022-06-13\",\"extra_shopper_ids\":0}, {\"page_views_qty\":2,\"orders_qty\":0,\"renewal_orders_qty\":0,\"receipt_price_amt\":0.00,\"visits_qty\":1,\"new_orders_qty\":0,\"session_duration_seconds\":18,\"session_free_trial_signup_flag\":false,\"session_purchase_flag\":false,\"session_viewed_help_page_flag\":false,\"repeat_visitor_flag\":true,\"renewal_product_purchased_flag\":false,\"session_viewed_sales_page_flag\":true,\"session_mobile_app_flag\":false,\"repeat_shopper_flag\":true,\"session_bounce_flag\":false,\"new_product_purchased_flag\":false,\"browser_operating_system_name\":\"mac os x\",\"site_language_code\":\"en\",\"ip_country_code\":\"IN\",\"site_country_code\":\"IN\",\"session_type_name\":\"\",\"browser_name\":\"chrome\",\"referring_domain_name\":\"N/A\",\"session_begin_date\":\"2022-06-14\",\"extra_shopper_ids\":0}, {\"page_views_qty\":4,\"orders_qty\":0,\"renewal_orders_qty\":0,\"receipt_price_amt\":0.00,\"visits_qty\":1,\"new_orders_qty\":0,\"session_duration_seconds\":992,\"session_free_trial_signup_flag\":false,\"session_purchase_flag\":false,\"session_viewed_help_page_flag\":false,\"repeat_visitor_flag\":true,\"renewal_product_purchased_flag\":false,\"session_viewed_sales_page_flag\":true,\"session_mobile_app_flag\":false,\"repeat_shopper_flag\":true,\"session_bounce_flag\":false,\"new_product_purchased_flag\":false,\"browser_operating_system_name\":\"mac os x\",\"site_language_code\":\"en\",\"ip_country_code\":\"IN\",\"site_country_code\":\"IN\",\"session_type_name\":\"\",\"browser_name\":\"chrome\",\"referring_domain_name\":\"N/A\",\"session_begin_date\":\"2022-06-14\",\"extra_shopper_ids\":0}, {\"page_views_qty\":2,\"orders_qty\":0,\"renewal_orders_qty\":0,\"receipt_price_amt\":0.00,\"visits_qty\":1,\"new_orders_qty\":0,\"session_duration_seconds\":6,\"session_free_trial_signup_flag\":false,\"session_purchase_flag\":false,\"session_viewed_help_page_flag\":false,\"repeat_visitor_flag\":true,\"renewal_product_purchased_flag\":false,\"session_viewed_sales_page_flag\":true,\"session_mobile_app_flag\":false,\"repeat_shopper_flag\":true,\"session_bounce_flag\":false,\"new_product_purchased_flag\":false,\"browser_operating_system_name\":\"mac os x\",\"site_language_code\":\"en\",\"ip_country_code\":\"IN\",\"site_country_code\":\"IN\",\"session_type_name\":\"\",\"browser_name\":\"chrome\",\"referring_domain_name\":\"N/A\",\"session_begin_date\":\"2022-06-19\",\"extra_shopper_ids\":0}, {\"page_views_qty\":5,\"orders_qty\":0,\"renewal_orders_qty\":0,\"receipt_price_amt\":0.00,\"visits_qty\":1,\"new_orders_qty\":0,\"session_duration_seconds\":131,\"session_free_trial_signup_flag\":false,\"session_purchase_flag\":false,\"session_viewed_help_page_flag\":false,\"repeat_visitor_flag\":true,\"renewal_product_purchased_flag\":false,\"session_viewed_sales_page_flag\":true,\"session_mobile_app_flag\":false,\"repeat_shopper_flag\":true,\"session_bounce_flag\":false,\"new_product_purchased_flag\":false,\"browser_operating_system_name\":\"mac os x\",\"site_language_code\":\"en\",\"ip_country_code\":\"IN\",\"site_country_code\":\"IN\",\"session_type_name\":\"\",\"browser_name\":\"chrome\",\"referring_domain_name\":\"N/A\",\"session_begin_date\":\"2022-06-22\",\"extra_shopper_ids\":0}, {\"page_views_qty\":2,\"orders_qty\":0,\"renewal_orders_qty\":0,\"receipt_price_amt\":0.00,\"visits_qty\":1,\"new_orders_qty\":0,\"session_duration_seconds\":65,\"session_free_trial_signup_flag\":false,\"session_purchase_flag\":false,\"session_viewed_help_page_flag\":false,\"repeat_visitor_flag\":true,\"renewal_product_purchased_flag\":false,\"session_viewed_sales_page_flag\":true,\"session_mobile_app_flag\":false,\"repeat_shopper_flag\":true,\"session_bounce_flag\":false,\"new_product_purchased_flag\":false,\"browser_operating_system_name\":\"mac os x\",\"site_language_code\":\"en\",\"ip_country_code\":\"IN\",\"site_country_code\":\"IN\",\"session_type_name\":\"\",\"browser_name\":\"chrome\",\"referring_domain_name\":\"google\",\"session_begin_date\":\"2022-06-25\",\"extra_shopper_ids\":0}]   |2022-06-26 00:00:00|\n",
      "|105939907 |[{\"page_views_qty\":1,\"orders_qty\":0,\"renewal_orders_qty\":0,\"receipt_price_amt\":0.00,\"visits_qty\":1,\"new_orders_qty\":0,\"session_duration_seconds\":0,\"session_free_trial_signup_flag\":false,\"session_purchase_flag\":false,\"session_viewed_help_page_flag\":false,\"repeat_visitor_flag\":true,\"renewal_product_purchased_flag\":false,\"session_viewed_sales_page_flag\":true,\"session_mobile_app_flag\":false,\"repeat_shopper_flag\":true,\"session_bounce_flag\":true,\"new_product_purchased_flag\":false,\"browser_operating_system_name\":\"mac os x\",\"site_language_code\":\"en\",\"ip_country_code\":\"IN\",\"site_country_code\":\"IN\",\"session_type_name\":\"\",\"browser_name\":\"chrome\",\"referring_domain_name\":\"N/A\",\"session_begin_date\":\"2022-06-07\",\"extra_shopper_ids\":0}, {\"page_views_qty\":12,\"orders_qty\":1,\"renewal_orders_qty\":1,\"receipt_price_amt\":23.98,\"visits_qty\":1,\"new_orders_qty\":0,\"session_duration_seconds\":204,\"session_free_trial_signup_flag\":false,\"session_purchase_flag\":true,\"session_viewed_help_page_flag\":false,\"repeat_visitor_flag\":false,\"renewal_product_purchased_flag\":true,\"session_viewed_sales_page_flag\":true,\"session_mobile_app_flag\":false,\"repeat_shopper_flag\":true,\"session_bounce_flag\":false,\"new_product_purchased_flag\":false,\"browser_operating_system_name\":\"windows 10\",\"site_language_code\":\"en\",\"ip_country_code\":\"IN\",\"site_country_code\":\"US\",\"session_type_name\":\"\",\"browser_name\":\"chrome\",\"referring_domain_name\":\"godaddy\",\"session_begin_date\":\"2022-06-08\",\"extra_shopper_ids\":0}, {\"page_views_qty\":10,\"orders_qty\":0,\"renewal_orders_qty\":0,\"receipt_price_amt\":0.00,\"visits_qty\":1,\"new_orders_qty\":0,\"session_duration_seconds\":219,\"session_free_trial_signup_flag\":false,\"session_purchase_flag\":false,\"session_viewed_help_page_flag\":false,\"repeat_visitor_flag\":true,\"renewal_product_purchased_flag\":false,\"session_viewed_sales_page_flag\":true,\"session_mobile_app_flag\":false,\"repeat_shopper_flag\":true,\"session_bounce_flag\":false,\"new_product_purchased_flag\":false,\"browser_operating_system_name\":\"mac os x\",\"site_language_code\":\"en\",\"ip_country_code\":\"IN\",\"site_country_code\":\"IN\",\"session_type_name\":\"\",\"browser_name\":\"chrome\",\"referring_domain_name\":\"N/A\",\"session_begin_date\":\"2022-06-08\",\"extra_shopper_ids\":0}, {\"page_views_qty\":1,\"orders_qty\":0,\"renewal_orders_qty\":0,\"receipt_price_amt\":0.00,\"visits_qty\":1,\"new_orders_qty\":0,\"session_duration_seconds\":0,\"session_free_trial_signup_flag\":false,\"session_purchase_flag\":false,\"session_viewed_help_page_flag\":false,\"repeat_visitor_flag\":true,\"renewal_product_purchased_flag\":false,\"session_viewed_sales_page_flag\":true,\"session_mobile_app_flag\":false,\"repeat_shopper_flag\":true,\"session_bounce_flag\":true,\"new_product_purchased_flag\":false,\"browser_operating_system_name\":\"mac os x\",\"site_language_code\":\"en\",\"ip_country_code\":\"IN\",\"site_country_code\":\"IN\",\"session_type_name\":\"\",\"browser_name\":\"chrome\",\"referring_domain_name\":\"N/A\",\"session_begin_date\":\"2022-06-13\",\"extra_shopper_ids\":0}, {\"page_views_qty\":2,\"orders_qty\":0,\"renewal_orders_qty\":0,\"receipt_price_amt\":0.00,\"visits_qty\":1,\"new_orders_qty\":0,\"session_duration_seconds\":18,\"session_free_trial_signup_flag\":false,\"session_purchase_flag\":false,\"session_viewed_help_page_flag\":false,\"repeat_visitor_flag\":true,\"renewal_product_purchased_flag\":false,\"session_viewed_sales_page_flag\":true,\"session_mobile_app_flag\":false,\"repeat_shopper_flag\":true,\"session_bounce_flag\":false,\"new_product_purchased_flag\":false,\"browser_operating_system_name\":\"mac os x\",\"site_language_code\":\"en\",\"ip_country_code\":\"IN\",\"site_country_code\":\"IN\",\"session_type_name\":\"\",\"browser_name\":\"chrome\",\"referring_domain_name\":\"N/A\",\"session_begin_date\":\"2022-06-14\",\"extra_shopper_ids\":0}, {\"page_views_qty\":4,\"orders_qty\":0,\"renewal_orders_qty\":0,\"receipt_price_amt\":0.00,\"visits_qty\":1,\"new_orders_qty\":0,\"session_duration_seconds\":992,\"session_free_trial_signup_flag\":false,\"session_purchase_flag\":false,\"session_viewed_help_page_flag\":false,\"repeat_visitor_flag\":true,\"renewal_product_purchased_flag\":false,\"session_viewed_sales_page_flag\":true,\"session_mobile_app_flag\":false,\"repeat_shopper_flag\":true,\"session_bounce_flag\":false,\"new_product_purchased_flag\":false,\"browser_operating_system_name\":\"mac os x\",\"site_language_code\":\"en\",\"ip_country_code\":\"IN\",\"site_country_code\":\"IN\",\"session_type_name\":\"\",\"browser_name\":\"chrome\",\"referring_domain_name\":\"N/A\",\"session_begin_date\":\"2022-06-14\",\"extra_shopper_ids\":0}, {\"page_views_qty\":2,\"orders_qty\":0,\"renewal_orders_qty\":0,\"receipt_price_amt\":0.00,\"visits_qty\":1,\"new_orders_qty\":0,\"session_duration_seconds\":6,\"session_free_trial_signup_flag\":false,\"session_purchase_flag\":false,\"session_viewed_help_page_flag\":false,\"repeat_visitor_flag\":true,\"renewal_product_purchased_flag\":false,\"session_viewed_sales_page_flag\":true,\"session_mobile_app_flag\":false,\"repeat_shopper_flag\":true,\"session_bounce_flag\":false,\"new_product_purchased_flag\":false,\"browser_operating_system_name\":\"mac os x\",\"site_language_code\":\"en\",\"ip_country_code\":\"IN\",\"site_country_code\":\"IN\",\"session_type_name\":\"\",\"browser_name\":\"chrome\",\"referring_domain_name\":\"N/A\",\"session_begin_date\":\"2022-06-19\",\"extra_shopper_ids\":0}, {\"page_views_qty\":5,\"orders_qty\":0,\"renewal_orders_qty\":0,\"receipt_price_amt\":0.00,\"visits_qty\":1,\"new_orders_qty\":0,\"session_duration_seconds\":131,\"session_free_trial_signup_flag\":false,\"session_purchase_flag\":false,\"session_viewed_help_page_flag\":false,\"repeat_visitor_flag\":true,\"renewal_product_purchased_flag\":false,\"session_viewed_sales_page_flag\":true,\"session_mobile_app_flag\":false,\"repeat_shopper_flag\":true,\"session_bounce_flag\":false,\"new_product_purchased_flag\":false,\"browser_operating_system_name\":\"mac os x\",\"site_language_code\":\"en\",\"ip_country_code\":\"IN\",\"site_country_code\":\"IN\",\"session_type_name\":\"\",\"browser_name\":\"chrome\",\"referring_domain_name\":\"N/A\",\"session_begin_date\":\"2022-06-22\",\"extra_shopper_ids\":0}, {\"page_views_qty\":2,\"orders_qty\":0,\"renewal_orders_qty\":0,\"receipt_price_amt\":0.00,\"visits_qty\":1,\"new_orders_qty\":0,\"session_duration_seconds\":65,\"session_free_trial_signup_flag\":false,\"session_purchase_flag\":false,\"session_viewed_help_page_flag\":false,\"repeat_visitor_flag\":true,\"renewal_product_purchased_flag\":false,\"session_viewed_sales_page_flag\":true,\"session_mobile_app_flag\":false,\"repeat_shopper_flag\":true,\"session_bounce_flag\":false,\"new_product_purchased_flag\":false,\"browser_operating_system_name\":\"mac os x\",\"site_language_code\":\"en\",\"ip_country_code\":\"IN\",\"site_country_code\":\"IN\",\"session_type_name\":\"\",\"browser_name\":\"chrome\",\"referring_domain_name\":\"google\",\"session_begin_date\":\"2022-06-25\",\"extra_shopper_ids\":0}, {\"page_views_qty\":4,\"orders_qty\":0,\"renewal_orders_qty\":0,\"receipt_price_amt\":0.00,\"visits_qty\":1,\"new_orders_qty\":0,\"session_duration_seconds\":591,\"session_free_trial_signup_flag\":false,\"session_purchase_flag\":false,\"session_viewed_help_page_flag\":false,\"repeat_visitor_flag\":true,\"renewal_product_purchased_flag\":false,\"session_viewed_sales_page_flag\":true,\"session_mobile_app_flag\":false,\"repeat_shopper_flag\":true,\"session_bounce_flag\":false,\"new_product_purchased_flag\":false,\"browser_operating_system_name\":\"mac os x\",\"site_language_code\":\"en\",\"ip_country_code\":\"IN\",\"site_country_code\":\"IN\",\"session_type_name\":\"\",\"browser_name\":\"chrome\",\"referring_domain_name\":\"N/A\",\"session_begin_date\":\"2022-06-26\",\"extra_shopper_ids\":0}] |2022-06-27 00:00:00|\n",
      "|105939907 |[{\"page_views_qty\":12,\"orders_qty\":1,\"renewal_orders_qty\":1,\"receipt_price_amt\":23.98,\"visits_qty\":1,\"new_orders_qty\":0,\"session_duration_seconds\":204,\"session_free_trial_signup_flag\":false,\"session_purchase_flag\":true,\"session_viewed_help_page_flag\":false,\"repeat_visitor_flag\":false,\"renewal_product_purchased_flag\":true,\"session_viewed_sales_page_flag\":true,\"session_mobile_app_flag\":false,\"repeat_shopper_flag\":true,\"session_bounce_flag\":false,\"new_product_purchased_flag\":false,\"browser_operating_system_name\":\"windows 10\",\"site_language_code\":\"en\",\"ip_country_code\":\"IN\",\"site_country_code\":\"US\",\"session_type_name\":\"\",\"browser_name\":\"chrome\",\"referring_domain_name\":\"godaddy\",\"session_begin_date\":\"2022-06-08\",\"extra_shopper_ids\":0}, {\"page_views_qty\":10,\"orders_qty\":0,\"renewal_orders_qty\":0,\"receipt_price_amt\":0.00,\"visits_qty\":1,\"new_orders_qty\":0,\"session_duration_seconds\":219,\"session_free_trial_signup_flag\":false,\"session_purchase_flag\":false,\"session_viewed_help_page_flag\":false,\"repeat_visitor_flag\":true,\"renewal_product_purchased_flag\":false,\"session_viewed_sales_page_flag\":true,\"session_mobile_app_flag\":false,\"repeat_shopper_flag\":true,\"session_bounce_flag\":false,\"new_product_purchased_flag\":false,\"browser_operating_system_name\":\"mac os x\",\"site_language_code\":\"en\",\"ip_country_code\":\"IN\",\"site_country_code\":\"IN\",\"session_type_name\":\"\",\"browser_name\":\"chrome\",\"referring_domain_name\":\"N/A\",\"session_begin_date\":\"2022-06-08\",\"extra_shopper_ids\":0}, {\"page_views_qty\":1,\"orders_qty\":0,\"renewal_orders_qty\":0,\"receipt_price_amt\":0.00,\"visits_qty\":1,\"new_orders_qty\":0,\"session_duration_seconds\":0,\"session_free_trial_signup_flag\":false,\"session_purchase_flag\":false,\"session_viewed_help_page_flag\":false,\"repeat_visitor_flag\":true,\"renewal_product_purchased_flag\":false,\"session_viewed_sales_page_flag\":true,\"session_mobile_app_flag\":false,\"repeat_shopper_flag\":true,\"session_bounce_flag\":true,\"new_product_purchased_flag\":false,\"browser_operating_system_name\":\"mac os x\",\"site_language_code\":\"en\",\"ip_country_code\":\"IN\",\"site_country_code\":\"IN\",\"session_type_name\":\"\",\"browser_name\":\"chrome\",\"referring_domain_name\":\"N/A\",\"session_begin_date\":\"2022-06-13\",\"extra_shopper_ids\":0}, {\"page_views_qty\":2,\"orders_qty\":0,\"renewal_orders_qty\":0,\"receipt_price_amt\":0.00,\"visits_qty\":1,\"new_orders_qty\":0,\"session_duration_seconds\":18,\"session_free_trial_signup_flag\":false,\"session_purchase_flag\":false,\"session_viewed_help_page_flag\":false,\"repeat_visitor_flag\":true,\"renewal_product_purchased_flag\":false,\"session_viewed_sales_page_flag\":true,\"session_mobile_app_flag\":false,\"repeat_shopper_flag\":true,\"session_bounce_flag\":false,\"new_product_purchased_flag\":false,\"browser_operating_system_name\":\"mac os x\",\"site_language_code\":\"en\",\"ip_country_code\":\"IN\",\"site_country_code\":\"IN\",\"session_type_name\":\"\",\"browser_name\":\"chrome\",\"referring_domain_name\":\"N/A\",\"session_begin_date\":\"2022-06-14\",\"extra_shopper_ids\":0}, {\"page_views_qty\":4,\"orders_qty\":0,\"renewal_orders_qty\":0,\"receipt_price_amt\":0.00,\"visits_qty\":1,\"new_orders_qty\":0,\"session_duration_seconds\":992,\"session_free_trial_signup_flag\":false,\"session_purchase_flag\":false,\"session_viewed_help_page_flag\":false,\"repeat_visitor_flag\":true,\"renewal_product_purchased_flag\":false,\"session_viewed_sales_page_flag\":true,\"session_mobile_app_flag\":false,\"repeat_shopper_flag\":true,\"session_bounce_flag\":false,\"new_product_purchased_flag\":false,\"browser_operating_system_name\":\"mac os x\",\"site_language_code\":\"en\",\"ip_country_code\":\"IN\",\"site_country_code\":\"IN\",\"session_type_name\":\"\",\"browser_name\":\"chrome\",\"referring_domain_name\":\"N/A\",\"session_begin_date\":\"2022-06-14\",\"extra_shopper_ids\":0}, {\"page_views_qty\":2,\"orders_qty\":0,\"renewal_orders_qty\":0,\"receipt_price_amt\":0.00,\"visits_qty\":1,\"new_orders_qty\":0,\"session_duration_seconds\":6,\"session_free_trial_signup_flag\":false,\"session_purchase_flag\":false,\"session_viewed_help_page_flag\":false,\"repeat_visitor_flag\":true,\"renewal_product_purchased_flag\":false,\"session_viewed_sales_page_flag\":true,\"session_mobile_app_flag\":false,\"repeat_shopper_flag\":true,\"session_bounce_flag\":false,\"new_product_purchased_flag\":false,\"browser_operating_system_name\":\"mac os x\",\"site_language_code\":\"en\",\"ip_country_code\":\"IN\",\"site_country_code\":\"IN\",\"session_type_name\":\"\",\"browser_name\":\"chrome\",\"referring_domain_name\":\"N/A\",\"session_begin_date\":\"2022-06-19\",\"extra_shopper_ids\":0}, {\"page_views_qty\":5,\"orders_qty\":0,\"renewal_orders_qty\":0,\"receipt_price_amt\":0.00,\"visits_qty\":1,\"new_orders_qty\":0,\"session_duration_seconds\":131,\"session_free_trial_signup_flag\":false,\"session_purchase_flag\":false,\"session_viewed_help_page_flag\":false,\"repeat_visitor_flag\":true,\"renewal_product_purchased_flag\":false,\"session_viewed_sales_page_flag\":true,\"session_mobile_app_flag\":false,\"repeat_shopper_flag\":true,\"session_bounce_flag\":false,\"new_product_purchased_flag\":false,\"browser_operating_system_name\":\"mac os x\",\"site_language_code\":\"en\",\"ip_country_code\":\"IN\",\"site_country_code\":\"IN\",\"session_type_name\":\"\",\"browser_name\":\"chrome\",\"referring_domain_name\":\"N/A\",\"session_begin_date\":\"2022-06-22\",\"extra_shopper_ids\":0}, {\"page_views_qty\":2,\"orders_qty\":0,\"renewal_orders_qty\":0,\"receipt_price_amt\":0.00,\"visits_qty\":1,\"new_orders_qty\":0,\"session_duration_seconds\":65,\"session_free_trial_signup_flag\":false,\"session_purchase_flag\":false,\"session_viewed_help_page_flag\":false,\"repeat_visitor_flag\":true,\"renewal_product_purchased_flag\":false,\"session_viewed_sales_page_flag\":true,\"session_mobile_app_flag\":false,\"repeat_shopper_flag\":true,\"session_bounce_flag\":false,\"new_product_purchased_flag\":false,\"browser_operating_system_name\":\"mac os x\",\"site_language_code\":\"en\",\"ip_country_code\":\"IN\",\"site_country_code\":\"IN\",\"session_type_name\":\"\",\"browser_name\":\"chrome\",\"referring_domain_name\":\"google\",\"session_begin_date\":\"2022-06-25\",\"extra_shopper_ids\":0}, {\"page_views_qty\":4,\"orders_qty\":0,\"renewal_orders_qty\":0,\"receipt_price_amt\":0.00,\"visits_qty\":1,\"new_orders_qty\":0,\"session_duration_seconds\":591,\"session_free_trial_signup_flag\":false,\"session_purchase_flag\":false,\"session_viewed_help_page_flag\":false,\"repeat_visitor_flag\":true,\"renewal_product_purchased_flag\":false,\"session_viewed_sales_page_flag\":true,\"session_mobile_app_flag\":false,\"repeat_shopper_flag\":true,\"session_bounce_flag\":false,\"new_product_purchased_flag\":false,\"browser_operating_system_name\":\"mac os x\",\"site_language_code\":\"en\",\"ip_country_code\":\"IN\",\"site_country_code\":\"IN\",\"session_type_name\":\"\",\"browser_name\":\"chrome\",\"referring_domain_name\":\"N/A\",\"session_begin_date\":\"2022-06-26\",\"extra_shopper_ids\":0}, {\"page_views_qty\":2,\"orders_qty\":0,\"renewal_orders_qty\":0,\"receipt_price_amt\":0.00,\"visits_qty\":1,\"new_orders_qty\":0,\"session_duration_seconds\":2,\"session_free_trial_signup_flag\":false,\"session_purchase_flag\":false,\"session_viewed_help_page_flag\":false,\"repeat_visitor_flag\":true,\"renewal_product_purchased_flag\":false,\"session_viewed_sales_page_flag\":true,\"session_mobile_app_flag\":false,\"repeat_shopper_flag\":true,\"session_bounce_flag\":false,\"new_product_purchased_flag\":false,\"browser_operating_system_name\":\"mac os x\",\"site_language_code\":\"en\",\"ip_country_code\":\"IN\",\"site_country_code\":\"IN\",\"session_type_name\":\"\",\"browser_name\":\"chrome\",\"referring_domain_name\":\"N/A\",\"session_begin_date\":\"2022-06-27\",\"extra_shopper_ids\":0}]|2022-06-28 00:00:00|\n",
      "|105939907 |[{\"page_views_qty\":10,\"orders_qty\":0,\"renewal_orders_qty\":0,\"receipt_price_amt\":0.00,\"visits_qty\":1,\"new_orders_qty\":0,\"session_duration_seconds\":219,\"session_free_trial_signup_flag\":false,\"session_purchase_flag\":false,\"session_viewed_help_page_flag\":false,\"repeat_visitor_flag\":true,\"renewal_product_purchased_flag\":false,\"session_viewed_sales_page_flag\":true,\"session_mobile_app_flag\":false,\"repeat_shopper_flag\":true,\"session_bounce_flag\":false,\"new_product_purchased_flag\":false,\"browser_operating_system_name\":\"mac os x\",\"site_language_code\":\"en\",\"ip_country_code\":\"IN\",\"site_country_code\":\"IN\",\"session_type_name\":\"\",\"browser_name\":\"chrome\",\"referring_domain_name\":\"N/A\",\"session_begin_date\":\"2022-06-08\",\"extra_shopper_ids\":0}, {\"page_views_qty\":1,\"orders_qty\":0,\"renewal_orders_qty\":0,\"receipt_price_amt\":0.00,\"visits_qty\":1,\"new_orders_qty\":0,\"session_duration_seconds\":0,\"session_free_trial_signup_flag\":false,\"session_purchase_flag\":false,\"session_viewed_help_page_flag\":false,\"repeat_visitor_flag\":true,\"renewal_product_purchased_flag\":false,\"session_viewed_sales_page_flag\":true,\"session_mobile_app_flag\":false,\"repeat_shopper_flag\":true,\"session_bounce_flag\":true,\"new_product_purchased_flag\":false,\"browser_operating_system_name\":\"mac os x\",\"site_language_code\":\"en\",\"ip_country_code\":\"IN\",\"site_country_code\":\"IN\",\"session_type_name\":\"\",\"browser_name\":\"chrome\",\"referring_domain_name\":\"N/A\",\"session_begin_date\":\"2022-06-13\",\"extra_shopper_ids\":0}, {\"page_views_qty\":2,\"orders_qty\":0,\"renewal_orders_qty\":0,\"receipt_price_amt\":0.00,\"visits_qty\":1,\"new_orders_qty\":0,\"session_duration_seconds\":18,\"session_free_trial_signup_flag\":false,\"session_purchase_flag\":false,\"session_viewed_help_page_flag\":false,\"repeat_visitor_flag\":true,\"renewal_product_purchased_flag\":false,\"session_viewed_sales_page_flag\":true,\"session_mobile_app_flag\":false,\"repeat_shopper_flag\":true,\"session_bounce_flag\":false,\"new_product_purchased_flag\":false,\"browser_operating_system_name\":\"mac os x\",\"site_language_code\":\"en\",\"ip_country_code\":\"IN\",\"site_country_code\":\"IN\",\"session_type_name\":\"\",\"browser_name\":\"chrome\",\"referring_domain_name\":\"N/A\",\"session_begin_date\":\"2022-06-14\",\"extra_shopper_ids\":0}, {\"page_views_qty\":4,\"orders_qty\":0,\"renewal_orders_qty\":0,\"receipt_price_amt\":0.00,\"visits_qty\":1,\"new_orders_qty\":0,\"session_duration_seconds\":992,\"session_free_trial_signup_flag\":false,\"session_purchase_flag\":false,\"session_viewed_help_page_flag\":false,\"repeat_visitor_flag\":true,\"renewal_product_purchased_flag\":false,\"session_viewed_sales_page_flag\":true,\"session_mobile_app_flag\":false,\"repeat_shopper_flag\":true,\"session_bounce_flag\":false,\"new_product_purchased_flag\":false,\"browser_operating_system_name\":\"mac os x\",\"site_language_code\":\"en\",\"ip_country_code\":\"IN\",\"site_country_code\":\"IN\",\"session_type_name\":\"\",\"browser_name\":\"chrome\",\"referring_domain_name\":\"N/A\",\"session_begin_date\":\"2022-06-14\",\"extra_shopper_ids\":0}, {\"page_views_qty\":2,\"orders_qty\":0,\"renewal_orders_qty\":0,\"receipt_price_amt\":0.00,\"visits_qty\":1,\"new_orders_qty\":0,\"session_duration_seconds\":6,\"session_free_trial_signup_flag\":false,\"session_purchase_flag\":false,\"session_viewed_help_page_flag\":false,\"repeat_visitor_flag\":true,\"renewal_product_purchased_flag\":false,\"session_viewed_sales_page_flag\":true,\"session_mobile_app_flag\":false,\"repeat_shopper_flag\":true,\"session_bounce_flag\":false,\"new_product_purchased_flag\":false,\"browser_operating_system_name\":\"mac os x\",\"site_language_code\":\"en\",\"ip_country_code\":\"IN\",\"site_country_code\":\"IN\",\"session_type_name\":\"\",\"browser_name\":\"chrome\",\"referring_domain_name\":\"N/A\",\"session_begin_date\":\"2022-06-19\",\"extra_shopper_ids\":0}, {\"page_views_qty\":5,\"orders_qty\":0,\"renewal_orders_qty\":0,\"receipt_price_amt\":0.00,\"visits_qty\":1,\"new_orders_qty\":0,\"session_duration_seconds\":131,\"session_free_trial_signup_flag\":false,\"session_purchase_flag\":false,\"session_viewed_help_page_flag\":false,\"repeat_visitor_flag\":true,\"renewal_product_purchased_flag\":false,\"session_viewed_sales_page_flag\":true,\"session_mobile_app_flag\":false,\"repeat_shopper_flag\":true,\"session_bounce_flag\":false,\"new_product_purchased_flag\":false,\"browser_operating_system_name\":\"mac os x\",\"site_language_code\":\"en\",\"ip_country_code\":\"IN\",\"site_country_code\":\"IN\",\"session_type_name\":\"\",\"browser_name\":\"chrome\",\"referring_domain_name\":\"N/A\",\"session_begin_date\":\"2022-06-22\",\"extra_shopper_ids\":0}, {\"page_views_qty\":2,\"orders_qty\":0,\"renewal_orders_qty\":0,\"receipt_price_amt\":0.00,\"visits_qty\":1,\"new_orders_qty\":0,\"session_duration_seconds\":65,\"session_free_trial_signup_flag\":false,\"session_purchase_flag\":false,\"session_viewed_help_page_flag\":false,\"repeat_visitor_flag\":true,\"renewal_product_purchased_flag\":false,\"session_viewed_sales_page_flag\":true,\"session_mobile_app_flag\":false,\"repeat_shopper_flag\":true,\"session_bounce_flag\":false,\"new_product_purchased_flag\":false,\"browser_operating_system_name\":\"mac os x\",\"site_language_code\":\"en\",\"ip_country_code\":\"IN\",\"site_country_code\":\"IN\",\"session_type_name\":\"\",\"browser_name\":\"chrome\",\"referring_domain_name\":\"google\",\"session_begin_date\":\"2022-06-25\",\"extra_shopper_ids\":0}, {\"page_views_qty\":4,\"orders_qty\":0,\"renewal_orders_qty\":0,\"receipt_price_amt\":0.00,\"visits_qty\":1,\"new_orders_qty\":0,\"session_duration_seconds\":591,\"session_free_trial_signup_flag\":false,\"session_purchase_flag\":false,\"session_viewed_help_page_flag\":false,\"repeat_visitor_flag\":true,\"renewal_product_purchased_flag\":false,\"session_viewed_sales_page_flag\":true,\"session_mobile_app_flag\":false,\"repeat_shopper_flag\":true,\"session_bounce_flag\":false,\"new_product_purchased_flag\":false,\"browser_operating_system_name\":\"mac os x\",\"site_language_code\":\"en\",\"ip_country_code\":\"IN\",\"site_country_code\":\"IN\",\"session_type_name\":\"\",\"browser_name\":\"chrome\",\"referring_domain_name\":\"N/A\",\"session_begin_date\":\"2022-06-26\",\"extra_shopper_ids\":0}, {\"page_views_qty\":2,\"orders_qty\":0,\"renewal_orders_qty\":0,\"receipt_price_amt\":0.00,\"visits_qty\":1,\"new_orders_qty\":0,\"session_duration_seconds\":2,\"session_free_trial_signup_flag\":false,\"session_purchase_flag\":false,\"session_viewed_help_page_flag\":false,\"repeat_visitor_flag\":true,\"renewal_product_purchased_flag\":false,\"session_viewed_sales_page_flag\":true,\"session_mobile_app_flag\":false,\"repeat_shopper_flag\":true,\"session_bounce_flag\":false,\"new_product_purchased_flag\":false,\"browser_operating_system_name\":\"mac os x\",\"site_language_code\":\"en\",\"ip_country_code\":\"IN\",\"site_country_code\":\"IN\",\"session_type_name\":\"\",\"browser_name\":\"chrome\",\"referring_domain_name\":\"N/A\",\"session_begin_date\":\"2022-06-27\",\"extra_shopper_ids\":0}, {\"page_views_qty\":2,\"orders_qty\":0,\"renewal_orders_qty\":0,\"receipt_price_amt\":0.00,\"visits_qty\":1,\"new_orders_qty\":0,\"session_duration_seconds\":4,\"session_free_trial_signup_flag\":false,\"session_purchase_flag\":false,\"session_viewed_help_page_flag\":false,\"repeat_visitor_flag\":true,\"renewal_product_purchased_flag\":false,\"session_viewed_sales_page_flag\":true,\"session_mobile_app_flag\":false,\"repeat_shopper_flag\":true,\"session_bounce_flag\":false,\"new_product_purchased_flag\":false,\"browser_operating_system_name\":\"mac os x\",\"site_language_code\":\"en\",\"ip_country_code\":\"IN\",\"site_country_code\":\"IN\",\"session_type_name\":\"\",\"browser_name\":\"chrome\",\"referring_domain_name\":\"N/A\",\"session_begin_date\":\"2022-06-30\",\"extra_shopper_ids\":0}]         |2022-07-01 00:00:00|\n",
      "|106127980 |[{\"page_views_qty\":277,\"orders_qty\":0,\"renewal_orders_qty\":0,\"receipt_price_amt\":0.00,\"visits_qty\":1,\"new_orders_qty\":0,\"session_duration_seconds\":73716,\"session_free_trial_signup_flag\":false,\"session_purchase_flag\":false,\"session_viewed_help_page_flag\":false,\"repeat_visitor_flag\":false,\"renewal_product_purchased_flag\":false,\"session_viewed_sales_page_flag\":false,\"session_mobile_app_flag\":false,\"repeat_shopper_flag\":true,\"session_bounce_flag\":false,\"new_product_purchased_flag\":false,\"browser_operating_system_name\":\"linux\",\"site_language_code\":\"es\",\"ip_country_code\":\"US\",\"site_country_code\":\"MX\",\"session_type_name\":\"\",\"browser_name\":\"chrome\",\"referring_domain_name\":\"N/A\",\"session_begin_date\":\"2022-06-22\",\"extra_shopper_ids\":222}]                                                                                                                                                                                                                                                                                                                                                                                                                                                                                                                                                                                                                                                                                                                                                                                                                                                                                                                                                                                                                                                                                                                                                                                                                                                                                                                                                                                                                                                                                                                                                                                                                                                                                                                                                                                                                                                                                                                                                                                                                                                                                                                                                                                                                                                                                                                                                                                                                                                                                                                                                                                                                                                                                                                                                                                                                                                                                                                                                                                                                                                                                                                                                                                                                                                                                                                                                                                                                                                                                                                                                                                                                                                                                                                                                                                                                                                                                                                                                                                                                                                                                                                                                                                                                                                                                                                                                                                                                                                                                                                                                                                                                                                                                                                                                                                                                                                                                                                                                                                                                                                                                                                                                                                                                                                                                                                                                                                                                                                                                                                                                                                                                                                                                                                                                                                                                                                                                                                                                                                                                                                                                                                                                                                                                                                                                                                                                                                                                                                                                                                                                                                                                                                                                                                                                                                                                                                                  |2022-06-23 00:00:00|\n",
      "|106164106 |[{\"page_views_qty\":1,\"orders_qty\":0,\"renewal_orders_qty\":0,\"receipt_price_amt\":0.00,\"visits_qty\":1,\"new_orders_qty\":0,\"session_duration_seconds\":0,\"session_free_trial_signup_flag\":false,\"session_purchase_flag\":false,\"session_viewed_help_page_flag\":false,\"repeat_visitor_flag\":false,\"renewal_product_purchased_flag\":false,\"session_viewed_sales_page_flag\":false,\"session_mobile_app_flag\":false,\"repeat_shopper_flag\":true,\"session_bounce_flag\":true,\"new_product_purchased_flag\":false,\"browser_operating_system_name\":\"windows 10\",\"site_language_code\":\"en\",\"ip_country_code\":\"US\",\"site_country_code\":\"IN\",\"session_type_name\":\"\",\"browser_name\":\"chrome\",\"referring_domain_name\":\"godaddy\",\"session_begin_date\":\"2022-06-02\",\"extra_shopper_ids\":0}]                                                                                                                                                                                                                                                                                                                                                                                                                                                                                                                                                                                                                                                                                                                                                                                                                                                                                                                                                                                                                                                                                                                                                                                                                                                                                                                                                                                                                                                                                                                                                                                                                                                                                                                                                                                                                                                                                                                                                                                                                                                                                                                                                                                                                                                                                                                                                                                                                                                                                                                                                                                                                                                                                                                                                                                                                                                                                                                                                                                                                                                                                                                                                                                                                                                                                                                                                                                                                                                                                                                                                                                                                                                                                                                                                                                                                                                                                                                                                                                                                                                                                                                                                                                                                                                                                                                                                                                                                                                                                                                                                                                                                                                                                                                                                                                                                                                                                                                                                                                                                                                                                                                                                                                                                                                                                                                                                                                                                                                                                                                                                                                                                                                                                                                                                                                                                                                                                                                                                                                                                                                                                                                                                                                                                                                                                                                                                                                                                                                                                                                                                                                                                                                                                                                                                                                                                                                                  |2022-06-03 00:00:00|\n",
      "|106164106 |[{\"page_views_qty\":1,\"orders_qty\":0,\"renewal_orders_qty\":0,\"receipt_price_amt\":0.00,\"visits_qty\":1,\"new_orders_qty\":0,\"session_duration_seconds\":0,\"session_free_trial_signup_flag\":false,\"session_purchase_flag\":false,\"session_viewed_help_page_flag\":false,\"repeat_visitor_flag\":false,\"renewal_product_purchased_flag\":false,\"session_viewed_sales_page_flag\":false,\"session_mobile_app_flag\":false,\"repeat_shopper_flag\":true,\"session_bounce_flag\":true,\"new_product_purchased_flag\":false,\"browser_operating_system_name\":\"windows 10\",\"site_language_code\":\"en\",\"ip_country_code\":\"US\",\"site_country_code\":\"IN\",\"session_type_name\":\"\",\"browser_name\":\"chrome\",\"referring_domain_name\":\"godaddy\",\"session_begin_date\":\"2022-06-02\",\"extra_shopper_ids\":0}, {\"page_views_qty\":33,\"orders_qty\":0,\"renewal_orders_qty\":0,\"receipt_price_amt\":0.00,\"visits_qty\":1,\"new_orders_qty\":0,\"session_duration_seconds\":1506,\"session_free_trial_signup_flag\":false,\"session_purchase_flag\":false,\"session_viewed_help_page_flag\":false,\"repeat_visitor_flag\":false,\"renewal_product_purchased_flag\":false,\"session_viewed_sales_page_flag\":true,\"session_mobile_app_flag\":false,\"repeat_shopper_flag\":true,\"session_bounce_flag\":false,\"new_product_purchased_flag\":false,\"browser_operating_system_name\":\"windows 10\",\"site_language_code\":\"en\",\"ip_country_code\":\"IN\",\"site_country_code\":\"IN\",\"session_type_name\":\"\",\"browser_name\":\"chrome\",\"referring_domain_name\":\"N/A\",\"session_begin_date\":\"2022-06-14\",\"extra_shopper_ids\":1}]                                                                                                                                                                                                                                                                                                                                                                                                                                                                                                                                                                                                                                                                                                                                                                                                                                                                                                                                                                                                                                                                                                                                                                                                                                                                                                                                                                                                                                                                                                                                                                                                                                                                                                                                                                                                                                                                                                                                                                                                                                                                                                                                                                                                                                                                                                                                                                                                                                                                                                                                                                                                                                                                                                                                                                                                                                                                                                                                                                                                                                                                                                                                                                                                                                                                                                                                                                                                                                                                                                                                                                                                                                                                                                                                                                                                                                                                                                                                                                                                                                                                                                                                                                                                                                                                                                                                                                                                                                                                                                                                                                                                                                                                                                                                                                                                                                                                                                                                                                                                                                                                                                                                                                                                                                                                                                                                                                                                                                                                                                                                                                                                                                                                                                                                                                                                                                                                                                                                                                                                                                                                                                |2022-06-15 00:00:00|\n",
      "+----------+------------------------------------------------------------------------------------------------------------------------------------------------------------------------------------------------------------------------------------------------------------------------------------------------------------------------------------------------------------------------------------------------------------------------------------------------------------------------------------------------------------------------------------------------------------------------------------------------------------------------------------------------------------------------------------------------------------------------------------------------------------------------------------------------------------------------------------------------------------------------------------------------------------------------------------------------------------------------------------------------------------------------------------------------------------------------------------------------------------------------------------------------------------------------------------------------------------------------------------------------------------------------------------------------------------------------------------------------------------------------------------------------------------------------------------------------------------------------------------------------------------------------------------------------------------------------------------------------------------------------------------------------------------------------------------------------------------------------------------------------------------------------------------------------------------------------------------------------------------------------------------------------------------------------------------------------------------------------------------------------------------------------------------------------------------------------------------------------------------------------------------------------------------------------------------------------------------------------------------------------------------------------------------------------------------------------------------------------------------------------------------------------------------------------------------------------------------------------------------------------------------------------------------------------------------------------------------------------------------------------------------------------------------------------------------------------------------------------------------------------------------------------------------------------------------------------------------------------------------------------------------------------------------------------------------------------------------------------------------------------------------------------------------------------------------------------------------------------------------------------------------------------------------------------------------------------------------------------------------------------------------------------------------------------------------------------------------------------------------------------------------------------------------------------------------------------------------------------------------------------------------------------------------------------------------------------------------------------------------------------------------------------------------------------------------------------------------------------------------------------------------------------------------------------------------------------------------------------------------------------------------------------------------------------------------------------------------------------------------------------------------------------------------------------------------------------------------------------------------------------------------------------------------------------------------------------------------------------------------------------------------------------------------------------------------------------------------------------------------------------------------------------------------------------------------------------------------------------------------------------------------------------------------------------------------------------------------------------------------------------------------------------------------------------------------------------------------------------------------------------------------------------------------------------------------------------------------------------------------------------------------------------------------------------------------------------------------------------------------------------------------------------------------------------------------------------------------------------------------------------------------------------------------------------------------------------------------------------------------------------------------------------------------------------------------------------------------------------------------------------------------------------------------------------------------------------------------------------------------------------------------------------------------------------------------------------------------------------------------------------------------------------------------------------------------------------------------------------------------------------------------------------------------------------------------------------------------------------------------------------------------------------------------------------------------------------------------------------------------------------------------------------------------------------------------------------------------------------------------------------------------------------------------------------------------------------------------------------------------------------------------------------------------------------------------------------------------------------------------------------------------------------------------------------------------------------------------------------------------------------------------------------------------------------------------------------------------------------------------------------------------------------------------------------------------------------------------------------------------------------------------------------------------------------------------------------------------------------------------------------------------------------------------------------------------------------------------------------------------------------------------------------------------------------------------------------------------------------------------------------------------------------------------------------------------------------------------------------------------------------------------------------------------------------------------------------------------------------------------------------------------------------------------------------------------------------------------------------------------------------------------------------------------------------------------------------------------------------------------------------------------+-------------------+\n",
      "only showing top 20 rows"
     ]
    }
   ],
   "source": [
    "from datetime import datetime\n",
    "df = fv.get_historical_features(start_time=datetime(2022, 1, 1), end_time=datetime.now(), from_source=True).to_spark()\n",
    "df.show(truncate=False)"
   ]
  },
  {
   "cell_type": "code",
   "execution_count": 54,
   "id": "9c8256a9",
   "metadata": {
    "scrolled": true
   },
   "outputs": [
    {
     "data": {
      "application/vnd.jupyter.widget-view+json": {
       "model_id": "",
       "version_major": 2,
       "version_minor": 0
      },
      "text/plain": [
       "FloatProgress(value=0.0, bar_style='info', description='Progress:', layout=Layout(height='25px', width='50%'),…"
      ]
     },
     "metadata": {},
     "output_type": "display_data"
    },
    {
     "name": "stdout",
     "output_type": "stream",
     "text": [
      "  shopper_id                       session_json_lastn10_365d_1d window_end_ts\n",
      "0  104784417  [{\"page_views_qty\":75,\"orders_qty\":0,\"renewal_...    2022-05-02\n",
      "1  104821592  [{\"page_views_qty\":4,\"orders_qty\":0,\"renewal_o...    2022-06-21\n",
      "2  105939907  [{\"page_views_qty\":5,\"orders_qty\":0,\"renewal_o...    2022-05-02\n",
      "3  105939907  [{\"page_views_qty\":5,\"orders_qty\":0,\"renewal_o...    2022-05-25\n",
      "4  105939907  [{\"page_views_qty\":5,\"orders_qty\":0,\"renewal_o...    2022-06-02\n",
      "5  105939907  [{\"page_views_qty\":5,\"orders_qty\":0,\"renewal_o...    2022-06-05\n",
      "6  105939907  [{\"page_views_qty\":5,\"orders_qty\":0,\"renewal_o...    2022-06-07\n",
      "7  105939907  [{\"page_views_qty\":5,\"orders_qty\":0,\"renewal_o...    2022-06-08\n",
      "8  105939907  [{\"page_views_qty\":7,\"orders_qty\":0,\"renewal_o...    2022-06-09\n",
      "9  105939907  [{\"page_views_qty\":2,\"orders_qty\":0,\"renewal_o...    2022-06-14"
     ]
    }
   ],
   "source": [
    "import pandas as pd\n",
    "d = df.limit(10).toPandas()\n",
    "d"
   ]
  },
  {
   "cell_type": "code",
   "execution_count": 1,
   "id": "42c544fa",
   "metadata": {},
   "outputs": [
    {
     "name": "stdout",
     "output_type": "stream",
     "text": [
      "Starting Spark application\n"
     ]
    },
    {
     "data": {
      "text/html": [
       "<table>\n",
       "<tr><th>ID</th><th>YARN Application ID</th><th>Kind</th><th>State</th><th>Spark UI</th><th>Driver log</th><th>User</th><th>Current session?</th></tr><tr><td>14</td><td>application_1662251179712_0016</td><td>pyspark</td><td>idle</td><td><a target=\"_blank\" href=\"http://ip-192-168-9-150.us-west-2.compute.internal:20888/proxy/application_1662251179712_0016/\">Link</a></td><td><a target=\"_blank\" href=\"http://ip-192-168-9-83.us-west-2.compute.internal:8042/node/containerlogs/container_1662251179712_0016_01_000001/livy\">Link</a></td><td>None</td><td>✔</td></tr></table>"
      ],
      "text/plain": [
       "<IPython.core.display.HTML object>"
      ]
     },
     "metadata": {},
     "output_type": "display_data"
    },
    {
     "data": {
      "application/vnd.jupyter.widget-view+json": {
       "model_id": "",
       "version_major": 2,
       "version_minor": 0
      },
      "text/plain": [
       "FloatProgress(value=0.0, bar_style='info', description='Progress:', layout=Layout(height='25px', width='50%'),…"
      ]
     },
     "metadata": {},
     "output_type": "display_data"
    },
    {
     "name": "stdout",
     "output_type": "stream",
     "text": [
      "SparkSession available as 'spark'.\n"
     ]
    },
    {
     "data": {
      "application/vnd.jupyter.widget-view+json": {
       "model_id": "",
       "version_major": 2,
       "version_minor": 0
      },
      "text/plain": [
       "FloatProgress(value=0.0, bar_style='info', description='Progress:', layout=Layout(height='25px', width='50%'),…"
      ]
     },
     "metadata": {},
     "output_type": "display_data"
    },
    {
     "name": "stdout",
     "output_type": "stream",
     "text": [
      "+----+\n",
      "| sum|\n",
      "+----+\n",
      "|5.00|\n",
      "+----+"
     ]
    }
   ],
   "source": [
    "dfx = spark.sql(\"select cast('5.00' as decimal(10, 2)) as sum\")\n",
    "dfx.show()"
   ]
  },
  {
   "cell_type": "code",
   "execution_count": 28,
   "id": "03fcaa23",
   "metadata": {},
   "outputs": [
    {
     "data": {
      "application/vnd.jupyter.widget-view+json": {
       "model_id": "",
       "version_major": 2,
       "version_minor": 0
      },
      "text/plain": [
       "FloatProgress(value=0.0, bar_style='info', description='Progress:', layout=Layout(height='25px', width='50%'),…"
      ]
     },
     "metadata": {},
     "output_type": "display_data"
    },
    {
     "name": "stdout",
     "output_type": "stream",
     "text": [
      "  shopper_id  ... row_number\n",
      "0  104784417  ...          0\n",
      "1  104821592  ...          1\n",
      "2  105939907  ...          2\n",
      "3  105939907  ...          3\n",
      "4  105939907  ...          4\n",
      "5  105939907  ...          5\n",
      "6  105939907  ...          6\n",
      "7  105939907  ...          7\n",
      "8  105939907  ...          8\n",
      "9  105939907  ...          9\n",
      "\n",
      "[10 rows x 4 columns]"
     ]
    }
   ],
   "source": [
    "d['row_number'] = d.index\n",
    "d"
   ]
  },
  {
   "cell_type": "code",
   "execution_count": 33,
   "id": "871eddf3",
   "metadata": {},
   "outputs": [
    {
     "data": {
      "application/vnd.jupyter.widget-view+json": {
       "model_id": "",
       "version_major": 2,
       "version_minor": 0
      },
      "text/plain": [
       "FloatProgress(value=0.0, bar_style='info', description='Progress:', layout=Layout(height='25px', width='50%'),…"
      ]
     },
     "metadata": {},
     "output_type": "display_data"
    },
    {
     "name": "stdout",
     "output_type": "stream",
     "text": [
      "   shopper_id window_end_ts  ...  session_begin_date  extra_shopper_ids\n",
      "0   104784417    2022-05-02  ...          2022-05-01                 68\n",
      "1   104821592    2022-06-21  ...          2022-06-20                  1\n",
      "2   105939907    2022-05-02  ...          2022-05-01                  0\n",
      "3   105939907    2022-05-02  ...          2022-05-01                  0\n",
      "4   105939907    2022-05-25  ...          2022-05-01                  0\n",
      "5   105939907    2022-05-25  ...          2022-05-01                  0\n",
      "6   105939907    2022-05-25  ...          2022-05-24                  0\n",
      "7   105939907    2022-05-25  ...          2022-05-24                  0\n",
      "8   105939907    2022-06-02  ...          2022-05-01                  0\n",
      "9   105939907    2022-06-02  ...          2022-05-01                  0\n",
      "10  105939907    2022-06-02  ...          2022-05-24                  0\n",
      "11  105939907    2022-06-02  ...          2022-05-24                  0\n",
      "12  105939907    2022-06-02  ...          2022-06-01                  0\n",
      "13  105939907    2022-06-05  ...          2022-05-01                  0\n",
      "14  105939907    2022-06-05  ...          2022-05-01                  0\n",
      "15  105939907    2022-06-05  ...          2022-05-24                  0\n",
      "16  105939907    2022-06-05  ...          2022-05-24                  0\n",
      "17  105939907    2022-06-05  ...          2022-06-01                  0\n",
      "18  105939907    2022-06-05  ...          2022-06-04                  0\n",
      "19  105939907    2022-06-07  ...          2022-05-01                  0\n",
      "20  105939907    2022-06-07  ...          2022-05-01                  0\n",
      "21  105939907    2022-06-07  ...          2022-05-24                  0\n",
      "22  105939907    2022-06-07  ...          2022-05-24                  0\n",
      "23  105939907    2022-06-07  ...          2022-06-01                  0\n",
      "24  105939907    2022-06-07  ...          2022-06-04                  0\n",
      "25  105939907    2022-06-07  ...          2022-06-06                  0\n",
      "26  105939907    2022-06-08  ...          2022-05-01                  0\n",
      "27  105939907    2022-06-08  ...          2022-05-01                  0\n",
      "28  105939907    2022-06-08  ...          2022-05-24                  0\n",
      "29  105939907    2022-06-08  ...          2022-05-24                  0\n",
      "30  105939907    2022-06-08  ...          2022-06-01                  0\n",
      "31  105939907    2022-06-08  ...          2022-06-04                  0\n",
      "32  105939907    2022-06-08  ...          2022-06-06                  0\n",
      "33  105939907    2022-06-08  ...          2022-06-07                  0\n",
      "34  105939907    2022-06-08  ...          2022-06-07                  0\n",
      "35  105939907    2022-06-08  ...          2022-06-07                  0\n",
      "36  105939907    2022-06-09  ...          2022-05-24                  0\n",
      "37  105939907    2022-06-09  ...          2022-05-24                  0\n",
      "38  105939907    2022-06-09  ...          2022-06-01                  0\n",
      "39  105939907    2022-06-09  ...          2022-06-04                  0\n",
      "40  105939907    2022-06-09  ...          2022-06-06                  0\n",
      "41  105939907    2022-06-09  ...          2022-06-07                  0\n",
      "42  105939907    2022-06-09  ...          2022-06-07                  0\n",
      "43  105939907    2022-06-09  ...          2022-06-07                  0\n",
      "44  105939907    2022-06-09  ...          2022-06-08                  0\n",
      "45  105939907    2022-06-09  ...          2022-06-08                  0\n",
      "46  105939907    2022-06-14  ...          2022-05-24                  0\n",
      "47  105939907    2022-06-14  ...          2022-06-01                  0\n",
      "48  105939907    2022-06-14  ...          2022-06-04                  0\n",
      "49  105939907    2022-06-14  ...          2022-06-06                  0\n",
      "50  105939907    2022-06-14  ...          2022-06-07                  0\n",
      "51  105939907    2022-06-14  ...          2022-06-07                  0\n",
      "52  105939907    2022-06-14  ...          2022-06-07                  0\n",
      "53  105939907    2022-06-14  ...          2022-06-08                  0\n",
      "54  105939907    2022-06-14  ...          2022-06-08                  0\n",
      "55  105939907    2022-06-14  ...          2022-06-13                  0\n",
      "\n",
      "[56 rows x 29 columns]"
     ]
    }
   ],
   "source": [
    "import json\n",
    "d1 = d.explode(\"session_json_lastn10_365d_1d\", ignore_index=True)\n",
    "# d1\n",
    "d2 = d1[[\"shopper_id\", \"window_end_ts\", \"row_number\"]]\n",
    "# d2\n",
    "j = d1[\"session_json_lastn10_365d_1d\"].apply(json.loads).tolist()\n",
    "# j\n",
    "d3 = pd.json_normalize(j)\n",
    "# d3\n",
    "d4 = pd.merge(d2, d3, left_index=True, right_index=True, sort=False)\n",
    "d4"
   ]
  },
  {
   "cell_type": "code",
   "execution_count": 34,
   "id": "70aca89f",
   "metadata": {},
   "outputs": [
    {
     "data": {
      "application/vnd.jupyter.widget-view+json": {
       "model_id": "",
       "version_major": 2,
       "version_minor": 0
      },
      "text/plain": [
       "FloatProgress(value=0.0, bar_style='info', description='Progress:', layout=Layout(height='25px', width='50%'),…"
      ]
     },
     "metadata": {},
     "output_type": "display_data"
    },
    {
     "name": "stdout",
     "output_type": "stream",
     "text": [
      "  shopper_id  ...                                 session_begin_date\n",
      "0  104784417  ...                                       [2022-05-01]\n",
      "1  104821592  ...                                       [2022-06-20]\n",
      "2  105939907  ...                           [2022-05-01, 2022-05-01]\n",
      "3  105939907  ...   [2022-05-01, 2022-05-01, 2022-05-24, 2022-05-24]\n",
      "4  105939907  ...  [2022-05-01, 2022-05-01, 2022-05-24, 2022-05-2...\n",
      "5  105939907  ...  [2022-05-01, 2022-05-01, 2022-05-24, 2022-05-2...\n",
      "6  105939907  ...  [2022-05-01, 2022-05-01, 2022-05-24, 2022-05-2...\n",
      "7  105939907  ...  [2022-05-01, 2022-05-01, 2022-05-24, 2022-05-2...\n",
      "8  105939907  ...  [2022-05-24, 2022-05-24, 2022-06-01, 2022-06-0...\n",
      "9  105939907  ...  [2022-05-24, 2022-06-01, 2022-06-04, 2022-06-0...\n",
      "\n",
      "[10 rows x 4 columns]"
     ]
    }
   ],
   "source": [
    "d5 = d4.groupby(['shopper_id', 'window_end_ts', 'row_number']).agg({'page_views_qty':list, 'session_begin_date':list}).reset_index()\n",
    "# d5\n",
    "# d5.columns\n",
    "d6 = d5.drop(columns=[\"row_number\"])\n",
    "d6"
   ]
  },
  {
   "cell_type": "code",
   "execution_count": 89,
   "id": "9afe77a7",
   "metadata": {},
   "outputs": [
    {
     "data": {
      "application/vnd.jupyter.widget-view+json": {
       "model_id": "",
       "version_major": 2,
       "version_minor": 0
      },
      "text/plain": [
       "FloatProgress(value=0.0, bar_style='info', description='Progress:', layout=Layout(height='25px', width='50%'),…"
      ]
     },
     "metadata": {},
     "output_type": "display_data"
    },
    {
     "name": "stdout",
     "output_type": "stream",
     "text": [
      "+----------+----------------------------------------------------------------------------------------------------------------------------------------------------------------------------------------------------------------------------------------------------------------------------------------------------------------------------------------------------------------------------------------------------------------------------------------------------------------------------------------------------------------------------------------------------------------------------------------------------------------------------------------------------------------------------------------------------------------------------------------------------------------------------------------------------------------------------------------------------------------------------------------------------------------------------------------------------------------------------------------------------------------------------------------------------------------------------------------------------------------------------------------------------------------------------------------------------------------------------------------------------------------------------------------------------------------------------------------------------------------------------------------------------------------------------------------------------------------------------------------------------------------------------------------------------------------------------------------------------------------------------------------------------------------------------------------------------------------------------------------------------------------------------------------------------------------------------------------------------------------------------------------------------------------------------------------------------------------------------------------------------------------------------------------------------------------------------------------------------------------------------------------------------------------------------------------------------------------------------------------------------------------------------------------------------------------------------------------------------------------------------------------------------------------------------------------------------------------------------------------------------------------------------------------------------------------------------------------------------------------------------------------------------------------------------------------------------------------------------------------------------------------------------------------+-------------------+------+\n",
      "|shopper_id|session_json_lastn10_365d_1d                                                                                                                                                                                                                                                                                                                                                                                                                                                                                                                                                                                                                                                                                                                                                                                                                                                                                                                                                                                                                                                                                                                                                                                                                                                                                                                                                                                                                                                                                                                                                                                                                                                                                                                                                                                                                                                                                                                                                                                                                                                                                                                                                                                                                                                                                                                                                                                                                                                                                                                                                                                                                                                                                                                                                            |window_end_ts      |row_id|\n",
      "+----------+----------------------------------------------------------------------------------------------------------------------------------------------------------------------------------------------------------------------------------------------------------------------------------------------------------------------------------------------------------------------------------------------------------------------------------------------------------------------------------------------------------------------------------------------------------------------------------------------------------------------------------------------------------------------------------------------------------------------------------------------------------------------------------------------------------------------------------------------------------------------------------------------------------------------------------------------------------------------------------------------------------------------------------------------------------------------------------------------------------------------------------------------------------------------------------------------------------------------------------------------------------------------------------------------------------------------------------------------------------------------------------------------------------------------------------------------------------------------------------------------------------------------------------------------------------------------------------------------------------------------------------------------------------------------------------------------------------------------------------------------------------------------------------------------------------------------------------------------------------------------------------------------------------------------------------------------------------------------------------------------------------------------------------------------------------------------------------------------------------------------------------------------------------------------------------------------------------------------------------------------------------------------------------------------------------------------------------------------------------------------------------------------------------------------------------------------------------------------------------------------------------------------------------------------------------------------------------------------------------------------------------------------------------------------------------------------------------------------------------------------------------------------------------------+-------------------+------+\n",
      "|105939907 |[{\"page_views_qty\":5,\"orders_qty\":0,\"renewal_orders_qty\":0,\"receipt_price_amt\":0.00,\"visits_qty\":1,\"new_orders_qty\":0,\"session_duration_seconds\":42,\"session_purchase_flag\":false,\"session_viewed_help_page_flag\":false,\"repeat_visitor_flag\":true,\"renewal_product_purchased_flag\":false,\"session_viewed_sales_page_flag\":true,\"session_mobile_app_flag\":false,\"repeat_shopper_flag\":true,\"session_bounce_flag\":false,\"new_product_purchased_flag\":false,\"browser_operating_system_name\":\"mac os x\",\"site_language_code\":\"en\",\"ip_country_code\":\"IN\",\"site_country_code\":\"IN\",\"browser_name\":\"chrome\",\"referring_domain_name\":\"N/A\",\"session_begin_date\":\"2022-05-01\",\"extra_shopper_ids\":0}, {\"page_views_qty\":8,\"orders_qty\":1,\"renewal_orders_qty\":1,\"receipt_price_amt\":435.84,\"visits_qty\":1,\"new_orders_qty\":0,\"session_duration_seconds\":235,\"session_purchase_flag\":true,\"session_viewed_help_page_flag\":false,\"repeat_visitor_flag\":true,\"renewal_product_purchased_flag\":true,\"session_viewed_sales_page_flag\":true,\"session_mobile_app_flag\":false,\"repeat_shopper_flag\":true,\"session_bounce_flag\":false,\"new_product_purchased_flag\":false,\"browser_operating_system_name\":\"mac os x\",\"site_language_code\":\"en\",\"ip_country_code\":\"IN\",\"site_country_code\":\"IN\",\"browser_name\":\"chrome\",\"referring_domain_name\":\"N/A\",\"session_begin_date\":\"2022-05-01\",\"extra_shopper_ids\":0}, {\"page_views_qty\":7,\"orders_qty\":0,\"renewal_orders_qty\":0,\"receipt_price_amt\":0.00,\"visits_qty\":1,\"new_orders_qty\":0,\"session_duration_seconds\":84,\"session_purchase_flag\":false,\"session_viewed_help_page_flag\":false,\"repeat_visitor_flag\":true,\"renewal_product_purchased_flag\":false,\"session_viewed_sales_page_flag\":true,\"session_mobile_app_flag\":false,\"repeat_shopper_flag\":true,\"session_bounce_flag\":false,\"new_product_purchased_flag\":false,\"browser_operating_system_name\":\"mac os x\",\"site_language_code\":\"en\",\"ip_country_code\":\"IN\",\"site_country_code\":\"IN\",\"browser_name\":\"chrome\",\"referring_domain_name\":\"N/A\",\"session_begin_date\":\"2022-05-24\",\"extra_shopper_ids\":0}, {\"page_views_qty\":2,\"orders_qty\":0,\"renewal_orders_qty\":0,\"receipt_price_amt\":0.00,\"visits_qty\":1,\"new_orders_qty\":0,\"session_duration_seconds\":9,\"session_purchase_flag\":false,\"session_viewed_help_page_flag\":false,\"repeat_visitor_flag\":true,\"renewal_product_purchased_flag\":false,\"session_viewed_sales_page_flag\":true,\"session_mobile_app_flag\":false,\"repeat_shopper_flag\":true,\"session_bounce_flag\":false,\"new_product_purchased_flag\":false,\"browser_operating_system_name\":\"mac os x\",\"site_language_code\":\"en\",\"ip_country_code\":\"IN\",\"site_country_code\":\"IN\",\"browser_name\":\"chrome\",\"referring_domain_name\":\"N/A\",\"session_begin_date\":\"2022-05-24\",\"extra_shopper_ids\":0}]|2022-05-25 00:00:00|3     |\n",
      "+----------+----------------------------------------------------------------------------------------------------------------------------------------------------------------------------------------------------------------------------------------------------------------------------------------------------------------------------------------------------------------------------------------------------------------------------------------------------------------------------------------------------------------------------------------------------------------------------------------------------------------------------------------------------------------------------------------------------------------------------------------------------------------------------------------------------------------------------------------------------------------------------------------------------------------------------------------------------------------------------------------------------------------------------------------------------------------------------------------------------------------------------------------------------------------------------------------------------------------------------------------------------------------------------------------------------------------------------------------------------------------------------------------------------------------------------------------------------------------------------------------------------------------------------------------------------------------------------------------------------------------------------------------------------------------------------------------------------------------------------------------------------------------------------------------------------------------------------------------------------------------------------------------------------------------------------------------------------------------------------------------------------------------------------------------------------------------------------------------------------------------------------------------------------------------------------------------------------------------------------------------------------------------------------------------------------------------------------------------------------------------------------------------------------------------------------------------------------------------------------------------------------------------------------------------------------------------------------------------------------------------------------------------------------------------------------------------------------------------------------------------------------------------------------------------+-------------------+------+"
     ]
    }
   ],
   "source": [
    "df3 = df2.filter((df2.shopper_id == 105939907) & (df2.window_end_ts == '2022-05-25'))\n",
    "df3.show(truncate=False)"
   ]
  },
  {
   "cell_type": "code",
   "execution_count": 49,
   "id": "4f885be0",
   "metadata": {},
   "outputs": [
    {
     "data": {
      "application/vnd.jupyter.widget-view+json": {
       "model_id": "",
       "version_major": 2,
       "version_minor": 0
      },
      "text/plain": [
       "FloatProgress(value=0.0, bar_style='info', description='Progress:', layout=Layout(height='25px', width='50%'),…"
      ]
     },
     "metadata": {},
     "output_type": "display_data"
    },
    {
     "name": "stdout",
     "output_type": "stream",
     "text": [
      "{'school_name': 'ABC primary school', 'class': 'Year 1', 'students': [{'id': 'A001', 'name': 'Tom', 'math': 60, 'physics': 66, 'chemistry': 61}, {'id': 'A002', 'name': 'James', 'math': 89, 'physics': 76, 'chemistry': 51}, {'id': 'A003', 'name': 'Jenny', 'math': 79, 'physics': 90, 'chemistry': 78}]}"
     ]
    }
   ],
   "source": [
    "import json\n",
    "\n",
    "input_json = json.loads(\"\"\"\n",
    "{\n",
    "    \"school_name\": \"ABC primary school\",\n",
    "    \"class\": \"Year 1\",\n",
    "    \"students\": [\n",
    "    {\n",
    "        \"id\": \"A001\",\n",
    "        \"name\": \"Tom\",\n",
    "        \"math\": 60,\n",
    "        \"physics\": 66,\n",
    "        \"chemistry\": 61\n",
    "    },\n",
    "    {\n",
    "        \"id\": \"A002\",\n",
    "        \"name\": \"James\",\n",
    "        \"math\": 89,\n",
    "        \"physics\": 76,\n",
    "        \"chemistry\": 51\n",
    "    },\n",
    "    {\n",
    "        \"id\": \"A003\",\n",
    "        \"name\": \"Jenny\",\n",
    "        \"math\": 79,\n",
    "        \"physics\": 90,\n",
    "        \"chemistry\": 78\n",
    "    }]\n",
    "}\n",
    "\"\"\")\n",
    "input_json"
   ]
  },
  {
   "cell_type": "code",
   "execution_count": 51,
   "id": "8cfc5508",
   "metadata": {},
   "outputs": [
    {
     "data": {
      "application/vnd.jupyter.widget-view+json": {
       "model_id": "",
       "version_major": 2,
       "version_minor": 0
      },
      "text/plain": [
       "FloatProgress(value=0.0, bar_style='info', description='Progress:', layout=Layout(height='25px', width='50%'),…"
      ]
     },
     "metadata": {},
     "output_type": "display_data"
    },
    {
     "name": "stdout",
     "output_type": "stream",
     "text": [
      "     id   name  math  physics  chemistry\n",
      "0  A001    Tom    60       66         61\n",
      "1  A002  James    89       76         51\n",
      "2  A003  Jenny    79       90         78"
     ]
    }
   ],
   "source": [
    "df_nested_list = pd.json_normalize(input_json, record_path =['students'])\n",
    "df_nested_list"
   ]
  },
  {
   "cell_type": "code",
   "execution_count": 55,
   "id": "9266f8bb",
   "metadata": {},
   "outputs": [
    {
     "data": {
      "application/vnd.jupyter.widget-view+json": {
       "model_id": "",
       "version_major": 2,
       "version_minor": 0
      },
      "text/plain": [
       "FloatProgress(value=0.0, bar_style='info', description='Progress:', layout=Layout(height='25px', width='50%'),…"
      ]
     },
     "metadata": {},
     "output_type": "display_data"
    },
    {
     "name": "stdout",
     "output_type": "stream",
     "text": [
      "+----------------------+-------------------------------------------------------+\n",
      "| Name                 | customer_recent_traffic_last_10                       |\n",
      "+----------------------+-------------------------------------------------------+\n",
      "| Workspace            | jfarr                                                 |\n",
      "+----------------------+-------------------------------------------------------+\n",
      "| Description          | Customer traffic features for the last 10 sessions    |\n",
      "|                      | within 365 days.                                      |\n",
      "+----------------------+-------------------------------------------------------+\n",
      "| Created At           | 2022-09-07 18:53:38 UTC                               |\n",
      "+----------------------+-------------------------------------------------------+\n",
      "| Owner                | gdml-all@godaddy.com                                  |\n",
      "+----------------------+-------------------------------------------------------+\n",
      "| Last Modified By     | jfarr1@godaddy.com                                    |\n",
      "+----------------------+-------------------------------------------------------+\n",
      "| Family               |                                                       |\n",
      "+----------------------+-------------------------------------------------------+\n",
      "| Source Filename      | venv/lib/python3.8/site-packages/tecton/cli/common.py |\n",
      "+----------------------+-------------------------------------------------------+\n",
      "| Tags                 | {'family': 'traffic', 'release': 'production'}        |\n",
      "+----------------------+-------------------------------------------------------+\n",
      "| Type                 | OnDemandFeatureView                                   |\n",
      "+----------------------+-------------------------------------------------------+\n",
      "| URL                  | https://gd-gdml-stage.tecton.ai/app/repo/jfarr/featur |\n",
      "|                      | es/customer_recent_traffic_last_10                    |\n",
      "+----------------------+-------------------------------------------------------+\n",
      "| Entities             |                                                       |\n",
      "+----------------------+-------------------------------------------------------+\n",
      "|                      | shopper_id, window_end_ts, page_views_qty,            |\n",
      "|                      | orders_qty, renewal_orders_qty, receipt_price_amt,    |\n",
      "|                      | visits_qty, new_orders_qty, session_duration_seconds, |\n",
      "|                      | session_free_trial_signup_flag,                       |\n",
      "|                      | session_purchase_flag, session_viewed_help_page_flag, |\n",
      "|                      | repeat_visitor_flag, renewal_product_purchased_flag,  |\n",
      "| Features             | session_viewed_sales_page_flag,                       |\n",
      "|                      | session_mobile_app_flag, repeat_shopper_flag,         |\n",
      "|                      | session_bounce_flag, new_product_purchased_flag,      |\n",
      "|                      | browser_operating_system_name, site_language_code,    |\n",
      "|                      | ip_country_code, site_country_code,                   |\n",
      "|                      | session_type_name, browser_name,                      |\n",
      "|                      | referring_domain_name, session_begin_date,            |\n",
      "|                      | extra_shopper_ids                                     |\n",
      "+----------------------+-------------------------------------------------------+\n",
      "| Transformation       | customer_recent_traffic_last_10                       |\n",
      "+----------------------+-------------------------------------------------------+\n",
      "| Join Keys            | shopper_id                                            |\n",
      "+----------------------+-------------------------------------------------------+\n",
      "| Request Context Keys | N/A                                                   |\n",
      "+----------------------+-------------------------------------------------------+"
     ]
    }
   ],
   "source": [
    "import tecton\n",
    "from datetime import datetime\n",
    "\n",
    "ws = tecton.get_workspace('jfarr')\n",
    "fv2 = ws.get_feature_view('customer_recent_traffic_last_10')\n",
    "fv2.summary()"
   ]
  },
  {
   "cell_type": "code",
   "execution_count": 56,
   "id": "ae834e41",
   "metadata": {},
   "outputs": [
    {
     "data": {
      "application/vnd.jupyter.widget-view+json": {
       "model_id": "",
       "version_major": 2,
       "version_minor": 0
      },
      "text/plain": [
       "FloatProgress(value=0.0, bar_style='info', description='Progress:', layout=Layout(height='25px', width='50%'),…"
      ]
     },
     "metadata": {},
     "output_type": "display_data"
    },
    {
     "name": "stdout",
     "output_type": "stream",
     "text": [
      "+----------+-------------------+--------------------------------+------------------------------+------------------------------+-----------------------------------------------------+------------------------------+------------------------------+---------------------------------------+----------------------------------------------------------------------+---------------------------------------------------------------------+----------------------------------------------------------------------+-------------------------------------------------------------+---------------------------------------------------------------------+------------------------------------------------------------+----------------------------------------------------------------------+------------------------------------------------------------+--------------------------------------------------------------------+----------------------------------------------------------------------+------------------------------------------------------------------------------------------------------+----------------------------------------+----------------------------------------+----------------------------------------+--------------------+--------------------------------------------------------------------------------+------------------------------------------------------+------------------------------------------------------------------------------------------------------------------------+------------------------------+\n",
      "|shopper_id|window_end_ts      |page_views_qty                  |orders_qty                    |renewal_orders_qty            |receipt_price_amt                                    |visits_qty                    |new_orders_qty                |session_duration_seconds               |session_free_trial_signup_flag                                        |session_purchase_flag                                                |session_viewed_help_page_flag                                         |repeat_visitor_flag                                          |renewal_product_purchased_flag                                       |session_viewed_sales_page_flag                              |session_mobile_app_flag                                               |repeat_shopper_flag                                         |session_bounce_flag                                                 |new_product_purchased_flag                                            |browser_operating_system_name                                                                         |site_language_code                      |ip_country_code                         |site_country_code                       |session_type_name   |browser_name                                                                    |referring_domain_name                                 |session_begin_date                                                                                                      |extra_shopper_ids             |\n",
      "+----------+-------------------+--------------------------------+------------------------------+------------------------------+-----------------------------------------------------+------------------------------+------------------------------+---------------------------------------+----------------------------------------------------------------------+---------------------------------------------------------------------+----------------------------------------------------------------------+-------------------------------------------------------------+---------------------------------------------------------------------+------------------------------------------------------------+----------------------------------------------------------------------+------------------------------------------------------------+--------------------------------------------------------------------+----------------------------------------------------------------------+------------------------------------------------------------------------------------------------------+----------------------------------------+----------------------------------------+----------------------------------------+--------------------+--------------------------------------------------------------------------------+------------------------------------------------------+------------------------------------------------------------------------------------------------------------------------+------------------------------+\n",
      "|104784417 |2022-05-02 00:00:00|[75]                            |[0]                           |[0]                           |[0.0]                                                |[1]                           |[0]                           |[43222]                                |[false]                                                               |[false]                                                              |[false]                                                               |[false]                                                      |[false]                                                              |[false]                                                     |[false]                                                               |[true]                                                      |[false]                                                             |[false]                                                               |[linux]                                                                                               |[en]                                    |[US]                                    |[IN]                                    |[]                  |[chrome]                                                                        |[N/A]                                                 |[2022-05-01]                                                                                                            |[68]                          |\n",
      "|104821592 |2022-06-21 00:00:00|[4]                             |[0]                           |[0]                           |[0.0]                                                |[1]                           |[0]                           |[186]                                  |[false]                                                               |[false]                                                              |[false]                                                               |[false]                                                      |[false]                                                              |[false]                                                     |[false]                                                               |[true]                                                      |[false]                                                             |[false]                                                               |[windows 10]                                                                                          |[en]                                    |[NL]                                    |[GB]                                    |[]                  |[chrome]                                                                        |[N/A]                                                 |[2022-06-20]                                                                                                            |[1]                           |\n",
      "|105939907 |2022-05-02 00:00:00|[5, 8]                          |[0, 1]                        |[0, 1]                        |[0.0, 435.84]                                        |[1, 1]                        |[0, 0]                        |[42, 235]                              |[false, false]                                                        |[false, true]                                                        |[false, false]                                                        |[true, true]                                                 |[false, true]                                                        |[true, true]                                                |[false, false]                                                        |[true, true]                                                |[false, false]                                                      |[false, false]                                                        |[mac os x, mac os x]                                                                                  |[en, en]                                |[IN, IN]                                |[IN, IN]                                |[, ]                |[chrome, chrome]                                                                |[N/A, N/A]                                            |[2022-05-01, 2022-05-01]                                                                                                |[0, 0]                        |\n",
      "|105939907 |2022-05-25 00:00:00|[5, 8, 7, 2]                    |[0, 1, 0, 0]                  |[0, 1, 0, 0]                  |[0.0, 435.84, 0.0, 0.0]                              |[1, 1, 1, 1]                  |[0, 0, 0, 0]                  |[42, 235, 84, 9]                       |[false, false, false, false]                                          |[false, true, false, false]                                          |[false, false, false, false]                                          |[true, true, true, true]                                     |[false, true, false, false]                                          |[true, true, true, true]                                    |[false, false, false, false]                                          |[true, true, true, true]                                    |[false, false, false, false]                                        |[false, false, false, false]                                          |[mac os x, mac os x, mac os x, mac os x]                                                              |[en, en, en, en]                        |[IN, IN, IN, IN]                        |[IN, IN, IN, IN]                        |[, , , ]            |[chrome, chrome, chrome, chrome]                                                |[N/A, N/A, N/A, N/A]                                  |[2022-05-01, 2022-05-01, 2022-05-24, 2022-05-24]                                                                        |[0, 0, 0, 0]                  |\n",
      "|105939907 |2022-06-02 00:00:00|[5, 8, 7, 2, 2]                 |[0, 1, 0, 0, 0]               |[0, 1, 0, 0, 0]               |[0.0, 435.84, 0.0, 0.0, 0.0]                         |[1, 1, 1, 1, 1]               |[0, 0, 0, 0, 0]               |[42, 235, 84, 9, 4]                    |[false, false, false, false, false]                                   |[false, true, false, false, false]                                   |[false, false, false, false, false]                                   |[true, true, true, true, true]                               |[false, true, false, false, false]                                   |[true, true, true, true, true]                              |[false, false, false, false, false]                                   |[true, true, true, true, true]                              |[false, false, false, false, false]                                 |[false, false, false, false, false]                                   |[mac os x, mac os x, mac os x, mac os x, mac os x]                                                    |[en, en, en, en, en]                    |[IN, IN, IN, IN, IN]                    |[IN, IN, IN, IN, IN]                    |[, , , , ]          |[chrome, chrome, chrome, chrome, chrome]                                        |[N/A, N/A, N/A, N/A, N/A]                             |[2022-05-01, 2022-05-01, 2022-05-24, 2022-05-24, 2022-06-01]                                                            |[0, 0, 0, 0, 0]               |\n",
      "|105939907 |2022-06-05 00:00:00|[5, 8, 7, 2, 2, 1]              |[0, 1, 0, 0, 0, 0]            |[0, 1, 0, 0, 0, 0]            |[0.0, 435.84, 0.0, 0.0, 0.0, 0.0]                    |[1, 1, 1, 1, 1, 1]            |[0, 0, 0, 0, 0, 0]            |[42, 235, 84, 9, 4, 0]                 |[false, false, false, false, false, false]                            |[false, true, false, false, false, false]                            |[false, false, false, false, false, false]                            |[true, true, true, true, true, true]                         |[false, true, false, false, false, false]                            |[true, true, true, true, true, true]                        |[false, false, false, false, false, false]                            |[true, true, true, true, true, true]                        |[false, false, false, false, false, true]                           |[false, false, false, false, false, false]                            |[mac os x, mac os x, mac os x, mac os x, mac os x, mac os x]                                          |[en, en, en, en, en, en]                |[IN, IN, IN, IN, IN, IN]                |[IN, IN, IN, IN, IN, IN]                |[, , , , , ]        |[chrome, chrome, chrome, chrome, chrome, chrome]                                |[N/A, N/A, N/A, N/A, N/A, N/A]                        |[2022-05-01, 2022-05-01, 2022-05-24, 2022-05-24, 2022-06-01, 2022-06-04]                                                |[0, 0, 0, 0, 0, 0]            |\n",
      "|105939907 |2022-06-07 00:00:00|[5, 8, 7, 2, 2, 1, 4]           |[0, 1, 0, 0, 0, 0, 0]         |[0, 1, 0, 0, 0, 0, 0]         |[0.0, 435.84, 0.0, 0.0, 0.0, 0.0, 0.0]               |[1, 1, 1, 1, 1, 1, 1]         |[0, 0, 0, 0, 0, 0, 0]         |[42, 235, 84, 9, 4, 0, 87]             |[false, false, false, false, false, false, false]                     |[false, true, false, false, false, false, false]                     |[false, false, false, false, false, false, false]                     |[true, true, true, true, true, true, true]                   |[false, true, false, false, false, false, false]                     |[true, true, true, true, true, true, true]                  |[false, false, false, false, false, false, false]                     |[true, true, true, true, true, true, true]                  |[false, false, false, false, false, true, false]                    |[false, false, false, false, false, false, false]                     |[mac os x, mac os x, mac os x, mac os x, mac os x, mac os x, mac os x]                                |[en, en, en, en, en, en, en]            |[IN, IN, IN, IN, IN, IN, IN]            |[IN, IN, IN, IN, IN, IN, IN]            |[, , , , , , ]      |[chrome, chrome, chrome, chrome, chrome, chrome, chrome]                        |[N/A, N/A, N/A, N/A, N/A, N/A, N/A]                   |[2022-05-01, 2022-05-01, 2022-05-24, 2022-05-24, 2022-06-01, 2022-06-04, 2022-06-06]                                    |[0, 0, 0, 0, 0, 0, 0]         |\n",
      "|105939907 |2022-06-08 00:00:00|[5, 8, 7, 2, 2, 1, 4, 8, 3, 1]  |[0, 1, 0, 0, 0, 0, 0, 0, 0, 0]|[0, 1, 0, 0, 0, 0, 0, 0, 0, 0]|[0.0, 435.84, 0.0, 0.0, 0.0, 0.0, 0.0, 0.0, 0.0, 0.0]|[1, 1, 1, 1, 1, 1, 1, 1, 1, 1]|[0, 0, 0, 0, 0, 0, 0, 0, 0, 0]|[42, 235, 84, 9, 4, 0, 87, 1255, 5, 0] |[false, false, false, false, false, false, false, false, false, false]|[false, true, false, false, false, false, false, false, false, false]|[false, false, false, false, false, false, false, false, false, false]|[true, true, true, true, true, true, true, true, true, true] |[false, true, false, false, false, false, false, false, false, false]|[true, true, true, true, true, true, true, true, true, true]|[false, false, false, false, false, false, false, false, false, false]|[true, true, true, true, true, true, true, true, true, true]|[false, false, false, false, false, true, false, false, false, true]|[false, false, false, false, false, false, false, false, false, false]|[mac os x, mac os x, mac os x, mac os x, mac os x, mac os x, mac os x, mac os x, mac os x, mac os x]  |[en, en, en, en, en, en, en, en, en, en]|[IN, IN, IN, IN, IN, IN, IN, IN, IN, IN]|[IN, IN, IN, IN, IN, IN, IN, IN, IN, IN]|[, , , , , , , , , ]|[chrome, chrome, chrome, chrome, chrome, chrome, chrome, chrome, chrome, chrome]|[N/A, N/A, N/A, N/A, N/A, N/A, N/A, N/A, N/A, N/A]    |[2022-05-01, 2022-05-01, 2022-05-24, 2022-05-24, 2022-06-01, 2022-06-04, 2022-06-06, 2022-06-07, 2022-06-07, 2022-06-07]|[0, 0, 0, 0, 0, 0, 0, 0, 0, 0]|\n",
      "|105939907 |2022-06-09 00:00:00|[7, 2, 2, 1, 4, 8, 3, 1, 12, 10]|[0, 0, 0, 0, 0, 0, 0, 0, 1, 0]|[0, 0, 0, 0, 0, 0, 0, 0, 1, 0]|[0.0, 0.0, 0.0, 0.0, 0.0, 0.0, 0.0, 0.0, 23.98, 0.0] |[1, 1, 1, 1, 1, 1, 1, 1, 1, 1]|[0, 0, 0, 0, 0, 0, 0, 0, 0, 0]|[84, 9, 4, 0, 87, 1255, 5, 0, 204, 219]|[false, false, false, false, false, false, false, false, false, false]|[false, false, false, false, false, false, false, false, true, false]|[false, false, false, false, false, false, false, false, false, false]|[true, true, true, true, true, true, true, true, false, true]|[false, false, false, false, false, false, false, false, true, false]|[true, true, true, true, true, true, true, true, true, true]|[false, false, false, false, false, false, false, false, false, false]|[true, true, true, true, true, true, true, true, true, true]|[false, false, false, true, false, false, false, true, false, false]|[false, false, false, false, false, false, false, false, false, false]|[mac os x, mac os x, mac os x, mac os x, mac os x, mac os x, mac os x, mac os x, windows 10, mac os x]|[en, en, en, en, en, en, en, en, en, en]|[IN, IN, IN, IN, IN, IN, IN, IN, IN, IN]|[IN, IN, IN, IN, IN, IN, IN, IN, US, IN]|[, , , , , , , , , ]|[chrome, chrome, chrome, chrome, chrome, chrome, chrome, chrome, chrome, chrome]|[N/A, N/A, N/A, N/A, N/A, N/A, N/A, N/A, godaddy, N/A]|[2022-05-24, 2022-05-24, 2022-06-01, 2022-06-04, 2022-06-06, 2022-06-07, 2022-06-07, 2022-06-07, 2022-06-08, 2022-06-08]|[0, 0, 0, 0, 0, 0, 0, 0, 0, 0]|\n",
      "|105939907 |2022-06-14 00:00:00|[2, 2, 1, 4, 8, 3, 1, 12, 10, 1]|[0, 0, 0, 0, 0, 0, 0, 1, 0, 0]|[0, 0, 0, 0, 0, 0, 0, 1, 0, 0]|[0.0, 0.0, 0.0, 0.0, 0.0, 0.0, 0.0, 23.98, 0.0, 0.0] |[1, 1, 1, 1, 1, 1, 1, 1, 1, 1]|[0, 0, 0, 0, 0, 0, 0, 0, 0, 0]|[9, 4, 0, 87, 1255, 5, 0, 204, 219, 0] |[false, false, false, false, false, false, false, false, false, false]|[false, false, false, false, false, false, false, true, false, false]|[false, false, false, false, false, false, false, false, false, false]|[true, true, true, true, true, true, true, false, true, true]|[false, false, false, false, false, false, false, true, false, false]|[true, true, true, true, true, true, true, true, true, true]|[false, false, false, false, false, false, false, false, false, false]|[true, true, true, true, true, true, true, true, true, true]|[false, false, true, false, false, false, true, false, false, true] |[false, false, false, false, false, false, false, false, false, false]|[mac os x, mac os x, mac os x, mac os x, mac os x, mac os x, mac os x, windows 10, mac os x, mac os x]|[en, en, en, en, en, en, en, en, en, en]|[IN, IN, IN, IN, IN, IN, IN, IN, IN, IN]|[IN, IN, IN, IN, IN, IN, IN, US, IN, IN]|[, , , , , , , , , ]|[chrome, chrome, chrome, chrome, chrome, chrome, chrome, chrome, chrome, chrome]|[N/A, N/A, N/A, N/A, N/A, N/A, N/A, godaddy, N/A, N/A]|[2022-05-24, 2022-06-01, 2022-06-04, 2022-06-06, 2022-06-07, 2022-06-07, 2022-06-07, 2022-06-08, 2022-06-08, 2022-06-13]|[0, 0, 0, 0, 0, 0, 0, 0, 0, 0]|\n",
      "+----------+-------------------+--------------------------------+------------------------------+------------------------------+-----------------------------------------------------+------------------------------+------------------------------+---------------------------------------+----------------------------------------------------------------------+---------------------------------------------------------------------+----------------------------------------------------------------------+-------------------------------------------------------------+---------------------------------------------------------------------+------------------------------------------------------------+----------------------------------------------------------------------+------------------------------------------------------------+--------------------------------------------------------------------+----------------------------------------------------------------------+------------------------------------------------------------------------------------------------------+----------------------------------------+----------------------------------------+----------------------------------------+--------------------+--------------------------------------------------------------------------------+------------------------------------------------------+------------------------------------------------------------------------------------------------------------------------+------------------------------+"
     ]
    }
   ],
   "source": [
    "from datetime import datetime\n",
    "df2 = fv2.run(df=d).to_spark()\n",
    "# df = fv2.run(start_time=datetime(2022, 1, 1), end_time=datetime(2022, 9, 6)).to_spark()\n",
    "# df = fv.run(start_time=datetime(2022, 1, 1), end_time=datetime.now(), aggregation_level=\"partial\").to_spark()\n",
    "df2.show(truncate=False)"
   ]
  },
  {
   "cell_type": "code",
   "execution_count": null,
   "id": "07b6997f",
   "metadata": {},
   "outputs": [],
   "source": []
  },
  {
   "cell_type": "code",
   "execution_count": 24,
   "id": "8043c4c0",
   "metadata": {},
   "outputs": [
    {
     "data": {
      "application/vnd.jupyter.widget-view+json": {
       "model_id": "",
       "version_major": 2,
       "version_minor": 0
      },
      "text/plain": [
       "FloatProgress(value=0.0, bar_style='info', description='Progress:', layout=Layout(height='25px', width='50%'),…"
      ]
     },
     "metadata": {},
     "output_type": "display_data"
    },
    {
     "name": "stdout",
     "output_type": "stream",
     "text": [
      "+----------+---------------------+-------------------+-------------------+----------+\n",
      "|shopper_id|session_json_lastn_1d|    tile_start_time|      tile_end_time|      part|\n",
      "+----------+---------------------+-------------------+-------------------+----------+\n",
      "| 106863275| [{\"session_begin_...|2022-01-13 22:53:16|2022-01-14 22:53:16|2022-01-13|\n",
      "| 134754471| [{\"session_begin_...|2022-01-13 22:53:16|2022-01-14 22:53:16|2022-01-13|\n",
      "|   2916820| [{\"session_begin_...|2022-01-13 22:53:16|2022-01-14 22:53:16|2022-01-13|\n",
      "|  39506968| [{\"session_begin_...|2022-01-13 22:53:16|2022-01-14 22:53:16|2022-01-13|\n",
      "| 454437857| [{\"session_begin_...|2022-01-13 22:53:16|2022-01-14 22:53:16|2022-01-13|\n",
      "|  45688521| [{\"session_begin_...|2022-01-13 22:53:16|2022-01-14 22:53:16|2022-01-13|\n",
      "|   4755526| [{\"session_begin_...|2022-01-13 22:53:16|2022-01-14 22:53:16|2022-01-13|\n",
      "|  66989596| [{\"session_begin_...|2022-01-13 22:53:16|2022-01-14 22:53:16|2022-01-13|\n",
      "|  70752373| [{\"session_begin_...|2022-01-13 22:53:16|2022-01-14 22:53:16|2022-01-13|\n",
      "|  97962284| [{\"session_begin_...|2022-01-13 22:53:16|2022-01-14 22:53:16|2022-01-13|\n",
      "| 134770678| [{\"session_begin_...|2022-02-16 22:53:16|2022-02-17 22:53:16|2022-02-16|\n",
      "| 158419034| [{\"session_begin_...|2022-02-16 22:53:16|2022-02-17 22:53:16|2022-02-16|\n",
      "|  17325612| [{\"session_begin_...|2022-02-16 22:53:16|2022-02-17 22:53:16|2022-02-16|\n",
      "|  18969784| [{\"session_begin_...|2022-02-16 22:53:16|2022-02-17 22:53:16|2022-02-16|\n",
      "| 216813127| [{\"session_begin_...|2022-02-16 22:53:16|2022-02-17 22:53:16|2022-02-16|\n",
      "|  30079545| [{\"session_begin_...|2022-02-16 22:53:16|2022-02-17 22:53:16|2022-02-16|\n",
      "|  31992696| [{\"session_begin_...|2022-02-16 22:53:16|2022-02-17 22:53:16|2022-02-16|\n",
      "| 364559904| [{\"session_begin_...|2022-02-16 22:53:16|2022-02-17 22:53:16|2022-02-16|\n",
      "|  56451995| [{\"session_begin_...|2022-02-16 22:53:16|2022-02-17 22:53:16|2022-02-16|\n",
      "|  89383840| [{\"session_begin_...|2022-02-16 22:53:16|2022-02-17 22:53:16|2022-02-16|\n",
      "+----------+---------------------+-------------------+-------------------+----------+\n",
      "only showing top 20 rows"
     ]
    }
   ],
   "source": [
    "from pyspark.sql.functions import col\n",
    "\n",
    "df2 = df.withColumn(\"part\", col(\"tile_start_time\").cast(\"date\"))\n",
    "df2.show()"
   ]
  },
  {
   "cell_type": "code",
   "execution_count": 2,
   "id": "d519ed9d",
   "metadata": {},
   "outputs": [
    {
     "data": {
      "application/vnd.jupyter.widget-view+json": {
       "model_id": "",
       "version_major": 2,
       "version_minor": 0
      },
      "text/plain": [
       "FloatProgress(value=0.0, bar_style='info', description='Progress:', layout=Layout(height='25px', width='50%'),…"
      ]
     },
     "metadata": {},
     "output_type": "display_data"
    },
    {
     "name": "stdout",
     "output_type": "stream",
     "text": [
      "+------------------+-----------------------------------------------------------+\n",
      "| Name             | traffic_with_json_session                                 |\n",
      "+------------------+-----------------------------------------------------------+\n",
      "| Workspace        | jfarr                                                     |\n",
      "+------------------+-----------------------------------------------------------+\n",
      "| Description      |                                                           |\n",
      "+------------------+-----------------------------------------------------------+\n",
      "| Created At       | 2022-09-06 21:44:59 UTC                                   |\n",
      "+------------------+-----------------------------------------------------------+\n",
      "| Owner            |                                                           |\n",
      "+------------------+-----------------------------------------------------------+\n",
      "| Last Modified By | jfarr1@godaddy.com                                        |\n",
      "+------------------+-----------------------------------------------------------+\n",
      "| Family           |                                                           |\n",
      "+------------------+-----------------------------------------------------------+\n",
      "| Source Filename  | venv/lib/python3.8/site-packages/tecton/cli/common.py     |\n",
      "+------------------+-----------------------------------------------------------+\n",
      "| Tags             | {}                                                        |\n",
      "+------------------+-----------------------------------------------------------+\n",
      "| Type             | PySpark                                                   |\n",
      "+------------------+-----------------------------------------------------------+\n",
      "|                  | passthrough_fields=['session_begin_ts', 'session_end_ts', |\n",
      "|                  | 'page_views_qty', 'orders_qty', 'renewal_orders_qty',     |\n",
      "|                  | 'receipt_price_amt', 'visits_qty', 'new_orders_qty']      |\n",
      "|                  | def traffic_with_json_session(df):                        |\n",
      "|                  |     \"\"\"                                                   |\n",
      "|                  |     Enrich a uds_traffic_session dataframe with a column  |\n",
      "|                  | session_json that contains the session info as a JSON     |\n",
      "|                  | string.                                                   |\n",
      "|                  |     \"\"\"                                                   |\n",
      "| Transformer      |     from pyspark.sql.functions import col, create_map,    |\n",
      "|                  | lit, to_json                                              |\n",
      "|                  |     from pyspark.sql.types import StringType              |\n",
      "|                  |                                                           |\n",
      "|                  |     spec = [(lit(name), col(name).cast(StringType())) for |\n",
      "|                  | name in passthrough_fields]                               |\n",
      "|                  |     spec = [item for pair in spec for item in pair]  #    |\n",
      "|                  | flatten                                                   |\n",
      "|                  |     return df.withColumn(\"session_json\",                  |\n",
      "|                  | to_json(create_map(*spec)))                               |\n",
      "|                  |                                                           |\n",
      "+------------------+-----------------------------------------------------------+"
     ]
    }
   ],
   "source": [
    "f = ws.get_transformation(\"traffic_with_json_session\")\n",
    "f.summary()"
   ]
  },
  {
   "cell_type": "code",
   "execution_count": 32,
   "id": "dc4f80e8",
   "metadata": {},
   "outputs": [
    {
     "data": {
      "application/vnd.jupyter.widget-view+json": {
       "model_id": "",
       "version_major": 2,
       "version_minor": 0
      },
      "text/plain": [
       "FloatProgress(value=0.0, bar_style='info', description='Progress:', layout=Layout(height='25px', width='50%'),…"
      ]
     },
     "metadata": {},
     "output_type": "display_data"
    },
    {
     "name": "stdout",
     "output_type": "stream",
     "text": [
      "['__annotations__', '__class__', '__delattr__', '__dict__', '__dir__', '__doc__', '__eq__', '__format__', '__ge__', '__getattribute__', '__gt__', '__hash__', '__init__', '__init_subclass__', '__le__', '__lt__', '__module__', '__ne__', '__new__', '__reduce__', '__reduce_ex__', '__repr__', '__setattr__', '__sizeof__', '__str__', '__subclasshook__', '__weakref__', '_fco_container', '_fco_metadata', '_fco_type_name_plural_capitalized', '_fco_type_name_plural_snake_case', '_fco_type_name_singular_capitalized', '_fco_type_name_singular_snake_case', '_from_proto', '_on_demand_run', '_pyspark_run', '_sql_run', '_transformation_proto', 'created_at', 'defined_in', 'description', 'family', 'name', 'owner', 'run', 'summary', 'tags', 'transformer', 'workspace']"
     ]
    }
   ],
   "source": [
    "dir(f)"
   ]
  },
  {
   "cell_type": "code",
   "execution_count": 33,
   "id": "be257583",
   "metadata": {},
   "outputs": [
    {
     "data": {
      "application/vnd.jupyter.widget-view+json": {
       "model_id": "",
       "version_major": 2,
       "version_minor": 0
      },
      "text/plain": [
       "FloatProgress(value=0.0, bar_style='info', description='Progress:', layout=Layout(height='25px', width='50%'),…"
      ]
     },
     "metadata": {},
     "output_type": "display_data"
    },
    {
     "name": "stdout",
     "output_type": "stream",
     "text": [
      "'Run the transformation against inputs.\\n\\n        :param inputs: positional arguments to the transformation function. For PySpark and SQL transformations,\\n                       these are either ``pandas.DataFrame`` or ``pyspark.sql.DataFrame`` objects.\\n                       For on-demand transformations, these are ``pandas.Dataframe`` objects.\\n        :param context: An optional materialization context object.\\n        '"
     ]
    }
   ],
   "source": [
    "f.run.__doc__"
   ]
  },
  {
   "cell_type": "code",
   "execution_count": 8,
   "id": "1d341194",
   "metadata": {},
   "outputs": [
    {
     "data": {
      "application/vnd.jupyter.widget-view+json": {
       "model_id": "",
       "version_major": 2,
       "version_minor": 0
      },
      "text/plain": [
       "FloatProgress(value=0.0, bar_style='info', description='Progress:', layout=Layout(height='25px', width='50%'),…"
      ]
     },
     "metadata": {},
     "output_type": "display_data"
    },
    {
     "name": "stdout",
     "output_type": "stream",
     "text": [
      "+--------------------+--------------------+------------------+---------------------------+--------------------+----------------+--------------------+-----------------+-------------------+------------------------------+-----------------------------+-----------------------+------------------------+------------------------------+---------------------+--------------------------+------------------------------+-------------------+-------------------+------------------+----------------+----------------+------------------+-----------------+-----------------+--------------------------------+--------------------+-------------------+--------------------+----------------+------------------+---------------+----------------+--------------------+-------------------------+---------------+------------------------+--------------------+-----------+--------------------+------------------------+---------------------+------------------+--------------------+----------------------+---------------------------+-------------------------+-----------------------+------------------------+-----------------------------+----------------------+---------------------------+------------------------+---------------------+--------------------+--------------------+------------------------+---------------------+------------------+--------------------+--------------------+--------------------------+----------------------+-----------------------------------+-----------------------------------+---------------+--------------+---------------+----------------+-------------+---------------+---------------+------------------------------+--------------------+-------------------+------------------+----------+----------+--------------------+--------------+--------+-------+--------------------+------------+----------------------+----------------------------+-----------------------------+----------------+----------------------+-----------------------+-----------------------+-----------------------+------------------------+------------------------+--------------+------------------------+----------+-------------------+-------------------+-----------------------+---------------------------+----------------+----------------+----------+--------------+------------------+-----------------+--------------+-------+-----------------------------+---------------------+-------------------------+----------------------------+--------------------------+-----------------------------------+--------------------------+------------------------+---------------------------------+----------------------+--------------------+-----------------------------+---------------------------+-------------------------+----------------------------------+-----------------------------+---------------------------+------------------------------------+------------------------------+----------------------------+-------------------------------------+----------------+--------------+-----------------------+---------------------+-------------------+----------------------------+--------------+------------+---------------------+--------------------------+------------------------+---------------------------------+------------------------+----------------------+-------------------------------+-----------------+--------------------+-------------------+---------------+------------+----------+--------------------+\n",
      "|          visit_guid|        visitor_guid|session_begin_date|relative_session_begin_date|    session_begin_ts|session_end_date|      session_end_ts|session_type_name|session_bounce_flag|session_viewed_sales_page_flag|session_viewed_help_page_flag|session_mobile_app_flag|session_add_to_cart_flag|session_free_trial_signup_flag|session_purchase_flag|new_product_purchased_flag|renewal_product_purchased_flag|repeat_shopper_flag|repeat_visitor_flag|site_language_text|site_market_text|site_market_code|site_language_code|site_country_code|site_country_name|site_domestic_international_name|   site_region1_name|  site_region2_name|site_sub_region_name|private_label_id|reseller_type_name|isc_source_code|isc_channel_name|isc_sub_channel_name|isc_acquisition_tier_name|isc_vendor_name|isc_conversion_tier_name|  referring_url_text|referred_by| referring_host_name|referring_subdomain_name|referring_domain_name|referring_tld_name| referring_page_name|referring_query_string|referred_by_directnav_count|referred_by_godaddy_count|referred_by_other_count|referred_by_search_count|referred_by_socialmedia_count|landing_page_host_name|landing_page_subdomain_name|landing_page_domain_name|landing_page_tld_name|   landing_page_name| exit_page_host_name|exit_page_subdomain_name|exit_page_domain_name|exit_page_tld_name|      exit_page_name|          host_names|fully_qualified_page_names|ip_maxmind_region_name|ip_country_subdivision_level_1_name|ip_country_subdivision_level_2_name|   ip_city_name|ip_postal_code|ip_latitude_num|ip_longitude_num|ip_metro_code|ip_country_code|ip_country_name|ip_domestic_international_name|    ip_region_1_name|   ip_region_2_name|ip_sub_region_name|utm_source|utm_medium|        utm_campaign|   utm_content|utm_term|utm_tgt|     user_agent_text|browser_name|browser_name_major_num|browser_name_major_minor_num|browser_operating_system_name|device_type_name|device_breakpoint_name|browser_breakpoint_name|device_resolution_x_num|device_resolution_y_num|browser_resolution_x_num|browser_resolution_y_num|page_views_qty|session_duration_seconds|visits_qty|bouncing_visits_qty|ordering_visits_qty|new_purchase_visits_qty|renewal_purchase_visits_qty|new_shoppers_qty|cart_creates_qty|orders_qty|new_orders_qty|renewal_orders_qty|receipt_price_amt|margin_gcr_amt|gcr_amt|new_shopper_receipt_price_amt|new_receipt_price_amt|renewal_receipt_price_amt|dedicated_hosting_orders_qty|dedicated_hosting_unit_qty|dedicated_hosting_receipt_price_amt|virtual_hosting_orders_qty|virtual_hosting_unit_qty|virtual_hosting_receipt_price_amt|web_hosting_orders_qty|web_hosting_unit_qty|web_hosting_receipt_price_amt|domains_by_proxy_orders_qty|domains_by_proxy_unit_qty|domains_by_proxy_receipt_price_amt|domain_marketplace_orders_qty|domain_marketplace_unit_qty|domain_marketplace_receipt_price_amt|domain_registration_orders_qty|domain_registration_unit_qty|domain_registration_receipt_price_amt|email_orders_qty|email_unit_qty|email_receipt_price_amt|office_365_orders_qty|office_365_unit_qty|office_365_receipt_price_amt|ssl_orders_qty|ssl_unit_qty|ssl_receipt_price_amt|website_builder_orders_qty|website_builder_unit_qty|website_builder_receipt_price_amt|other_product_orders_qty|other_product_unit_qty|other_product_receipt_price_amt|chats_engaged_qty|         shopper_ids|exclude_reason_desc|native_app_name|session_date|shopper_id|        session_json|\n",
      "+--------------------+--------------------+------------------+---------------------------+--------------------+----------------+--------------------+-----------------+-------------------+------------------------------+-----------------------------+-----------------------+------------------------+------------------------------+---------------------+--------------------------+------------------------------+-------------------+-------------------+------------------+----------------+----------------+------------------+-----------------+-----------------+--------------------------------+--------------------+-------------------+--------------------+----------------+------------------+---------------+----------------+--------------------+-------------------------+---------------+------------------------+--------------------+-----------+--------------------+------------------------+---------------------+------------------+--------------------+----------------------+---------------------------+-------------------------+-----------------------+------------------------+-----------------------------+----------------------+---------------------------+------------------------+---------------------+--------------------+--------------------+------------------------+---------------------+------------------+--------------------+--------------------+--------------------------+----------------------+-----------------------------------+-----------------------------------+---------------+--------------+---------------+----------------+-------------+---------------+---------------+------------------------------+--------------------+-------------------+------------------+----------+----------+--------------------+--------------+--------+-------+--------------------+------------+----------------------+----------------------------+-----------------------------+----------------+----------------------+-----------------------+-----------------------+-----------------------+------------------------+------------------------+--------------+------------------------+----------+-------------------+-------------------+-----------------------+---------------------------+----------------+----------------+----------+--------------+------------------+-----------------+--------------+-------+-----------------------------+---------------------+-------------------------+----------------------------+--------------------------+-----------------------------------+--------------------------+------------------------+---------------------------------+----------------------+--------------------+-----------------------------+---------------------------+-------------------------+----------------------------------+-----------------------------+---------------------------+------------------------------------+------------------------------+----------------------------+-------------------------------------+----------------+--------------+-----------------------+---------------------+-------------------+----------------------------+--------------+------------+---------------------+--------------------------+------------------------+---------------------------------+------------------------+----------------------+-------------------------------+-----------------+--------------------+-------------------+---------------+------------+----------+--------------------+\n",
      "|218db2fc-6fea-51b...|84858b2c-19f3-48d...|        2022-06-04|                 2021-06-05|2022-06-04 10:43:...|      2022-06-04|2022-06-04 11:08:...|             null|              false|                          true|                        false|                  false|                   false|                          null|                false|                     false|                         false|               true|               true|              null|           zh-sg|           zh-sg|                zh|               SG|        Singapore|                   International| International - RoW|Rest of World (RoW)|          APAC-Tier2|               1|          Go Daddy|            N/A|        Branding|             Unknown|                 Top-Tier|            N/A|         High-Converting|https://sso.godad...|    godaddy|     sso.godaddy.com|                     sso|              godaddy|               com|                   /|  realm=idp&app=auc...|                          0|                        7|                      0|                       0|                            0|  sg.auctions.godad...|                sg.auctions|                 godaddy|                  com|                /zh/|sg.auctions.godad...|             sg.auctions|              godaddy|               com|/zh/trpMyAccount....|[sg.auctions.goda...|      [sg.auctions.goda...|                  Asia|                                 --|                                 --|             --|            --|        34.7732|         113.722|           --|             CN|          China|                 International|International - C...|              China|             China|      null|      null|                null|          null|    null|   null|Mozilla/5.0 (Wind...|      chrome|             chrome 86|                 chrome 86.0|                    windows 7|        computer|               Desktop|                Desktop|                   1920|                   1080|                    1920|                     931|             7|                    1522|         1|                  0|                  0|                      0|                          0|            null|               0|         0|             0|                 0|             0.00|          0.00|   0.00|                         0.00|                 0.00|                     0.00|                           0|                         0|                               0.00|                         0|                       0|                             0.00|                     0|                   0|                         0.00|                          0|                        0|                              0.00|                            0|                          0|                                0.00|                             0|                           0|                                 0.00|               0|             0|                   0.00|                    0|                  0|                        0.00|             0|           0|                 0.00|                         0|                       0|                             0.00|                       0|                     0|                           0.00|                0|          [65730306]|               null|           null|  2022-06-04|  65730306|{\"session_begin_t...|\n",
      "|c34da829-4fdb-48e...|9a27a1f5-4913-478...|        2022-04-24|                 2021-04-25|2022-04-24 11:23:...|      2022-04-24|2022-04-24 11:24:...|             null|              false|                          true|                        false|                  false|                   false|                          null|                false|                     false|                         false|               true|               true|              null|           en-ca|           en-ca|                en|               CA|           Canada|                   International|International - T...|             Canada|              Canada|               1|          Go Daddy|            N/A|        Branding|             Unknown|                 Top-Tier|            N/A|         High-Converting|                    |  directnav|                 N/A|                     N/A|                  N/A|               N/A|                 N/A|                   N/A|                          3|                        0|                      0|                       0|                            0|   account.godaddy.com|                    account|                 godaddy|                  com|           /products|     myh.godaddy.com|                     myh|              godaddy|               com|                   /|[account.godaddy....|      [account.godaddy....|         North America|                   British Columbia|                                 --|        Burnaby|           V3N|        49.2286|       -122.9317|           --|             CA|         Canada|                 International|International - T...|             Canada|            Canada|      null|      null|                null|          null|    null|   null|Mozilla/5.0 (Wind...|      chrome|            chrome 100|                chrome 100.0|                   windows 10|        computer|               Desktop|                Desktop|                   2560|                   1440|                    2560|                    1329|             3|                      43|         1|                  0|                  0|                      0|                          0|            null|               0|         0|             0|                 0|             0.00|          0.00|   0.00|                         0.00|                 0.00|                     0.00|                           0|                         0|                               0.00|                         0|                       0|                             0.00|                     0|                   0|                         0.00|                          0|                        0|                              0.00|                            0|                          0|                                0.00|                             0|                           0|                                 0.00|               0|             0|                   0.00|                    0|                  0|                        0.00|             0|           0|                 0.00|                         0|                       0|                             0.00|                       0|                     0|                           0.00|                0|         [188160304]|               null|           null|  2022-04-24| 188160304|{\"session_begin_t...|\n",
      "|3ef7ecb2-b341-43b...|9990a848-f4d5-49d...|        2022-04-24|                 2021-04-25|2022-04-24 15:04:...|      2022-04-24|2022-04-24 15:44:...|             null|              false|                          true|                        false|                  false|                   false|                          null|                false|                     false|                         false|               true|               true|              null|           en-us|           en-us|                en|               US|    United States|                        Domestic|       United States|      United States|       United States|               1|          Go Daddy|     GOFXB2001A|          Search|              Search|                 Top-Tier|           BING|         High-Converting|                    |  directnav|                 N/A|                     N/A|                  N/A|               N/A|                 N/A|                   N/A|                         46|                        5|                      0|                       0|                            0|       www.godaddy.com|                        www|                 godaddy|                  com|   /offers/brand/new|payments.godaddy.com|                payments|              godaddy|               com|                   /|[account.godaddy....|      [account.godaddy....|         North America|                              Texas|                                 --|     Midlothian|         76065|          32.48|        -96.9905|          623|             US|  United States|                      Domestic|       United States|      United States|     United States|      bing|       cpc|en-us_corp-core_s...|Go Daddy Group| godaddy|   null|Mozilla/5.0 (Wind...|      chrome|             chrome 97|                 chrome 97.0|                   windows 10|        computer|               Desktop|                Desktop|                   1366|                    768|                    1366|                     657|            51|                    2370|         1|                  0|                  0|                      0|                          0|            null|               0|         0|             0|                 0|             0.00|          0.00|   0.00|                         0.00|                 0.00|                     0.00|                           0|                         0|                               0.00|                         0|                       0|                             0.00|                     0|                   0|                         0.00|                          0|                        0|                              0.00|                            0|                          0|                                0.00|                             0|                           0|                                 0.00|               0|             0|                   0.00|                    0|                  0|                        0.00|             0|           0|                 0.00|                         0|                       0|                             0.00|                       0|                     0|                           0.00|                0|         [153184643]|               null|           null|  2022-04-24| 153184643|{\"session_begin_t...|\n",
      "|e10e5dc0-8b12-50b...|84858b2c-19f3-48d...|        2022-04-24|                 2021-04-25|2022-04-24 12:56:...|      2022-04-24|2022-04-24 12:56:...|             null|               true|                          true|                        false|                  false|                   false|                          null|                false|                     false|                         false|               true|               true|              null|           zh-sg|           zh-sg|                zh|               SG|        Singapore|                   International| International - RoW|Rest of World (RoW)|          APAC-Tier2|               1|          Go Daddy|            N/A|        Branding|             Unknown|                 Top-Tier|            N/A|         High-Converting|https://sg.auctio...|    godaddy|sg.auctions.godad...|             sg.auctions|              godaddy|               com|/zh/trpMyAccount....|    ci=22372&s=2&sc=Wa|                          0|                        1|                      0|                       0|                            0|        sg.godaddy.com|                         sg|                 godaddy|                  com|/zh/domain-auctio...|      sg.godaddy.com|                      sg|              godaddy|               com|/zh/domain-auctio...|    [sg.godaddy.com]|      [sg.godaddy.com/z...|                  Asia|                                 --|                                 --|             --|            --|        34.7732|         113.722|           --|             CN|          China|                 International|International - C...|              China|             China|      null|      null|                null|          null|    null|   null|Mozilla/5.0 (Wind...|      chrome|             chrome 86|                 chrome 86.0|                    windows 7|        computer|               Desktop|                Desktop|                   1920|                   1080|                    1920|                     960|             1|                       0|         1|                  1|                  0|                      0|                          0|            null|               0|         0|             0|                 0|             0.00|          0.00|   0.00|                         0.00|                 0.00|                     0.00|                           0|                         0|                               0.00|                         0|                       0|                             0.00|                     0|                   0|                         0.00|                          0|                        0|                              0.00|                            0|                          0|                                0.00|                             0|                           0|                                 0.00|               0|             0|                   0.00|                    0|                  0|                        0.00|             0|           0|                 0.00|                         0|                       0|                             0.00|                       0|                     0|                           0.00|                0|          [65730306]|               null|           null|  2022-04-24|  65730306|{\"session_begin_t...|\n",
      "|98f2c2e3-2f3e-425...|0cd5fc6a-da78-4c2...|        2022-04-24|                 2021-04-25|2022-04-24 01:30:...|      2022-04-24|2022-04-24 01:31:...|             null|              false|                          true|                        false|                  false|                   false|                          null|                false|                     false|                         false|               true|               true|              null|           en-sg|           en-sg|                en|               SG|        Singapore|                   International| International - RoW|Rest of World (RoW)|          APAC-Tier2|               1|          Go Daddy|            N/A|        Branding|             Unknown|                 Top-Tier|            N/A|         High-Converting|                    |  directnav|                 N/A|                     N/A|                  N/A|               N/A|                 N/A|                   N/A|                          4|                        1|                      0|                       0|                            0|       www.godaddy.com|                        www|                 godaddy|                  com|              /en-sg|     myh.godaddy.com|                     myh|              godaddy|               com|                   /|[account.godaddy....|      [account.godaddy....|                  Asia|                            Jakarta|                                 --|        Jakarta|            --|        -6.1741|        106.8296|           --|             ID|      Indonesia|                 International| International - RoW|Rest of World (RoW)|        APAC-Tier2|      null|      null|                null|          null|    null|   null|Mozilla/5.0 (Wind...|      chrome|            chrome 100|                chrome 100.0|                   windows 10|        computer|               Desktop|                Desktop|                   1280|                    800|                    1280|                     657|             5|                      37|         1|                  0|                  0|                      0|                          0|            null|               0|         0|             0|                 0|             0.00|          0.00|   0.00|                         0.00|                 0.00|                     0.00|                           0|                         0|                               0.00|                         0|                       0|                             0.00|                     0|                   0|                         0.00|                          0|                        0|                              0.00|                            0|                          0|                                0.00|                             0|                           0|                                 0.00|               0|             0|                   0.00|                    0|                  0|                        0.00|             0|           0|                 0.00|                         0|                       0|                             0.00|                       0|                     0|                           0.00|                0|         [451999735]|               null|           null|  2022-04-24| 451999735|{\"session_begin_t...|\n",
      "|e987d6ee-41d2-588...|fdd8c2f3-13f4-495...|        2022-04-24|                 2021-04-25|2022-04-24 04:50:...|      2022-04-24|2022-04-24 04:50:...|             null|              false|                          true|                        false|                  false|                   false|                          null|                false|                     false|                         false|               true|               true|              null|           zh-sg|           zh-sg|                zh|               SG|        Singapore|                   International| International - RoW|Rest of World (RoW)|          APAC-Tier2|               1|          Go Daddy|            N/A|        Branding|             Unknown|                 Top-Tier|            N/A|         High-Converting|                    |  directnav|                 N/A|                     N/A|                  N/A|               N/A|                 N/A|                   N/A|                          1|                        4|                      0|                       0|                            0|  sg.auctions.godad...|                sg.auctions|                 godaddy|                  com|                /zh/|sg.auctions.godad...|             sg.auctions|              godaddy|               com|/zh/trpMyAccount....|[sg.auctions.goda...|      [sg.auctions.goda...|                  Asia|                              Hunan|                                 --|        Banshan|            --|        25.2239|        112.1703|           --|             CN|          China|                 International|International - C...|              China|             China|      null|      null|                null|          null|    null|   null|Mozilla/5.0 (Wind...|      chrome|             chrome 86|                 chrome 86.0|                   windows 10|        computer|               Desktop|                Desktop|                   1920|                   1080|                    1920|                     915|             5|                      19|         1|                  0|                  0|                      0|                          0|            null|               0|         0|             0|                 0|             0.00|          0.00|   0.00|                         0.00|                 0.00|                     0.00|                           0|                         0|                               0.00|                         0|                       0|                             0.00|                     0|                   0|                         0.00|                          0|                        0|                              0.00|                            0|                          0|                                0.00|                             0|                           0|                                 0.00|               0|             0|                   0.00|                    0|                  0|                        0.00|             0|           0|                 0.00|                         0|                       0|                             0.00|                       0|                     0|                           0.00|                0|          [65730306]|               null|           null|  2022-04-24|  65730306|{\"session_begin_t...|\n",
      "|f65891b1-b73c-5fa...|68d8fbae-5fa6-57e...|        2022-06-04|                 2021-06-05|2022-06-04 05:23:...|      2022-06-04|2022-06-04 05:23:...|             null|              false|                          true|                        false|                  false|                   false|                          null|                false|                     false|                         false|               true|               true|              null|           en-gb|           en-gb|                en|               GB|   United Kingdom|                   International|International - T...|     United Kingdom|      United Kingdom|               1|          Go Daddy|            N/A|        Branding|             Unknown|                 Top-Tier|            N/A|         High-Converting|                    |  directnav|                 N/A|                     N/A|                  N/A|               N/A|                 N/A|                   N/A|                          2|                        0|                      0|                       0|                            0|   account.godaddy.com|                    account|                 godaddy|                  com|           /products|      uk.godaddy.com|                      uk|              godaddy|               com|  /domainsearch/find|[account.godaddy....|      [account.godaddy....|                Europe|                            Vrancea|                                 --|        Focşani|        620090|           45.7|         27.1833|           --|             RO|        Romania|                 International| International - RoW|Rest of World (RoW)|       East Europe|      null|      null|                null|          null|    null|   null|Mozilla/5.0 (Wind...|     firefox|           firefox 100|               firefox 100.0|                   windows 10|        computer|               Desktop|                Desktop|                   1280|                    720|                    1280|                     595|             2|                       9|         1|                  0|                  0|                      0|                          0|            null|               0|         0|             0|                 0|             0.00|          0.00|   0.00|                         0.00|                 0.00|                     0.00|                           0|                         0|                               0.00|                         0|                       0|                             0.00|                     0|                   0|                         0.00|                          0|                        0|                              0.00|                            0|                          0|                                0.00|                             0|                           0|                                 0.00|               0|             0|                   0.00|                    0|                  0|                        0.00|             0|           0|                 0.00|                         0|                       0|                             0.00|                       0|                     0|                           0.00|                0|         [178415540]|               null|           null|  2022-06-04| 178415540|{\"session_begin_t...|\n",
      "|6ea6aeab-0bb4-4b5...|6ea6aeab-0bb4-4b5...|        2022-06-04|                 2021-06-05|2022-06-04 22:02:...|      2022-06-04|2022-06-04 22:05:...|             null|              false|                          true|                        false|                  false|                   false|                          null|                false|                     false|                         false|               true|              false|              null|           zh-tw|           zh-tw|                zh|               TW|           Taiwan|                   International| International - RoW|Rest of World (RoW)|          APAC-Tier2|               1|          Go Daddy|            N/A|        Branding|             Unknown|                 Top-Tier|            N/A|         High-Converting|                    |  directnav|                 N/A|                     N/A|                  N/A|               N/A|                 N/A|                   N/A|                          3|                        5|                      0|                       0|                            0|        tw.godaddy.com|                         tw|                 godaddy|                  com|                   /| account.godaddy.com|                 account|              godaddy|               com|      /subscriptions|[account.godaddy....|      [account.godaddy....|                  Asia|                         New Taipei|                                 --|     New Taipei|            --|        25.0478|        121.5318|           --|             TW|         Taiwan|                 International| International - RoW|Rest of World (RoW)|        APAC-Tier2|      null|      null|                null|          null|    null|   null|Mozilla/5.0 (Wind...|      chrome|            chrome 102|                chrome 102.0|                   windows 10|        computer|               Desktop|                Desktop|                   1920|                   1080|                    1920|                     937|             8|                     209|         1|                  0|                  0|                      0|                          0|            null|               0|         0|             0|                 0|             0.00|          0.00|   0.00|                         0.00|                 0.00|                     0.00|                           0|                         0|                               0.00|                         0|                       0|                             0.00|                     0|                   0|                         0.00|                          0|                        0|                              0.00|                            0|                          0|                                0.00|                             0|                           0|                                 0.00|               0|             0|                   0.00|                    0|                  0|                        0.00|             0|           0|                 0.00|                         0|                       0|                             0.00|                       0|                     0|                           0.00|                0|         [441374010]|               null|           null|  2022-06-04| 441374010|{\"session_begin_t...|\n",
      "|216bc682-97ec-5f5...|216bc682-97ec-5f5...|        2022-04-24|                 2021-04-25|2022-04-24 04:40:...|      2022-04-24|2022-04-24 04:47:...|             null|              false|                          true|                        false|                  false|                   false|                          null|                false|                     false|                         false|               true|              false|              null|           en-in|           en-in|                en|               IN|            India|                   International|International - T...|              India|               India|               1|          Go Daddy|            N/A|        Branding|             Unknown|                 Top-Tier|            N/A|         High-Converting|                    |  directnav|                 N/A|                     N/A|                  N/A|               N/A|                 N/A|                   N/A|                          2|                        3|                      0|                       0|                            0|   crm.int.godaddy.com|                    crm.int|                 godaddy|                  com|     /customer-home/| crm.int.godaddy.com|                 crm.int|              godaddy|               com|/customer-search/...|[account.godaddy....|      [account.godaddy....|         North America|                                 --|                                 --|             --|            --|         37.751|         -97.822|           --|             US|  United States|                      Domestic|       United States|      United States|     United States|      null|      null|                null|          null|    null|   null|Mozilla/5.0 (Wind...|      chrome|            chrome 100|                chrome 100.0|                   windows 10|        computer|               Desktop|                Desktop|                   1600|                    900|                    1574|                     771|             5|                     378|         1|                  0|                  0|                      0|                          0|            null|               0|         0|             0|                 0|             0.00|          0.00|   0.00|                         0.00|                 0.00|                     0.00|                           0|                         0|                               0.00|                         0|                       0|                             0.00|                     0|                   0|                         0.00|                          0|                        0|                              0.00|                            0|                          0|                                0.00|                             0|                           0|                                 0.00|               0|             0|                   0.00|                    0|                  0|                        0.00|             0|           0|                 0.00|                         0|                       0|                             0.00|                       0|                     0|                           0.00|                0|[184685416, 47484...|      Suspected Bot|           null|  2022-04-24| 184685416|{\"session_begin_t...|\n",
      "|216bc682-97ec-5f5...|216bc682-97ec-5f5...|        2022-04-24|                 2021-04-25|2022-04-24 04:40:...|      2022-04-24|2022-04-24 04:47:...|             null|              false|                          true|                        false|                  false|                   false|                          null|                false|                     false|                         false|               true|              false|              null|           en-in|           en-in|                en|               IN|            India|                   International|International - T...|              India|               India|               1|          Go Daddy|            N/A|        Branding|             Unknown|                 Top-Tier|            N/A|         High-Converting|                    |  directnav|                 N/A|                     N/A|                  N/A|               N/A|                 N/A|                   N/A|                          2|                        3|                      0|                       0|                            0|   crm.int.godaddy.com|                    crm.int|                 godaddy|                  com|     /customer-home/| crm.int.godaddy.com|                 crm.int|              godaddy|               com|/customer-search/...|[account.godaddy....|      [account.godaddy....|         North America|                                 --|                                 --|             --|            --|         37.751|         -97.822|           --|             US|  United States|                      Domestic|       United States|      United States|     United States|      null|      null|                null|          null|    null|   null|Mozilla/5.0 (Wind...|      chrome|            chrome 100|                chrome 100.0|                   windows 10|        computer|               Desktop|                Desktop|                   1600|                    900|                    1574|                     771|             5|                     378|         1|                  0|                  0|                      0|                          0|            null|               0|         0|             0|                 0|             0.00|          0.00|   0.00|                         0.00|                 0.00|                     0.00|                           0|                         0|                               0.00|                         0|                       0|                             0.00|                     0|                   0|                         0.00|                          0|                        0|                              0.00|                            0|                          0|                                0.00|                             0|                           0|                                 0.00|               0|             0|                   0.00|                    0|                  0|                        0.00|             0|           0|                 0.00|                         0|                       0|                             0.00|                       0|                     0|                           0.00|                0|[184685416, 47484...|      Suspected Bot|           null|  2022-04-24| 474844357|{\"session_begin_t...|\n",
      "|16ecaa65-6854-4d9...|9368dd1a-decb-4ad...|        2022-04-24|                 2021-04-25|2022-04-24 21:49:...|      2022-04-24|2022-04-24 21:49:...|             null|              false|                          true|                        false|                  false|                   false|                          null|                false|                     false|                         false|               true|               true|              null|           en-ca|           en-ca|                en|               CA|           Canada|                   International|International - T...|             Canada|              Canada|               1|          Go Daddy|            N/A|        Branding|             Unknown|                 Top-Tier|            N/A|         High-Converting|                    |  directnav|                 N/A|                     N/A|                  N/A|               N/A|                 N/A|                   N/A|                          1|                        1|                      0|                       0|                            0|       www.godaddy.com|                        www|                 godaddy|                  com|/en-ca/partners/d...|      ca.godaddy.com|                      ca|              godaddy|               com|  /domainsearch/find|[ca.godaddy.com, ...|      [ca.godaddy.com/d...|         North America|                             Nevada|                                 --|      Las Vegas|         89131|        36.2973|       -115.2418|          839|             US|  United States|                      Domestic|       United States|      United States|     United States|      null|      null|                null|          null|    null|   null|Mozilla/5.0 (Wind...|      chrome|            chrome 100|                chrome 100.0|                   windows 10|        computer|               Desktop|                Desktop|                   1280|                    720|                    1280|                     577|             2|                       7|         1|                  0|                  0|                      0|                          0|            null|               0|         0|             0|                 0|             0.00|          0.00|   0.00|                         0.00|                 0.00|                     0.00|                           0|                         0|                               0.00|                         0|                       0|                             0.00|                     0|                   0|                         0.00|                          0|                        0|                              0.00|                            0|                          0|                                0.00|                             0|                           0|                                 0.00|               0|             0|                   0.00|                    0|                  0|                        0.00|             0|           0|                 0.00|                         0|                       0|                             0.00|                       0|                     0|                           0.00|                0|         [239596833]|               null|           null|  2022-04-24| 239596833|{\"session_begin_t...|\n",
      "|f9434075-ced2-475...|eb50cc36-ccb2-412...|        2022-04-24|                 2021-04-25|2022-04-24 01:08:...|      2022-04-24|2022-04-24 01:09:...|             null|              false|                          true|                        false|                  false|                   false|                          null|                false|                     false|                         false|               true|               true|              null|           zh-sg|           zh-sg|                zh|               SG|        Singapore|                   International| International - RoW|Rest of World (RoW)|          APAC-Tier2|               1|          Go Daddy|            N/A|        Branding|             Unknown|                 Top-Tier|            N/A|         High-Converting|                    |  directnav|                 N/A|                     N/A|                  N/A|               N/A|                 N/A|                   N/A|                          3|                        1|                      0|                       0|                            0|       sso.godaddy.com|                        sso|                 godaddy|                  com|                   /|sg.auctions.godad...|             sg.auctions|              godaddy|               com|/zh/trpMyAccount....|[sg.auctions.goda...|      [sg.auctions.goda...|                  Asia|                              Hunan|                                 --|        Banshan|            --|        25.2239|        112.1703|           --|             CN|          China|                 International|International - C...|              China|             China|      null|      null|                null|          null|    null|   null|Mozilla/5.0 (Wind...|      chrome|             chrome 97|                 chrome 97.0|                   windows 10|        computer|               Desktop|                Desktop|                   1920|                   1080|                    1920|                     969|             4|                      12|         1|                  0|                  0|                      0|                          0|            null|               0|         0|             0|                 0|             0.00|          0.00|   0.00|                         0.00|                 0.00|                     0.00|                           0|                         0|                               0.00|                         0|                       0|                             0.00|                     0|                   0|                         0.00|                          0|                        0|                              0.00|                            0|                          0|                                0.00|                             0|                           0|                                 0.00|               0|             0|                   0.00|                    0|                  0|                        0.00|             0|           0|                 0.00|                         0|                       0|                             0.00|                       0|                     0|                           0.00|                0|          [65730306]|               null|           null|  2022-04-24|  65730306|{\"session_begin_t...|\n",
      "|b973115b-a0bd-4e7...|a1b628e6-da34-4ac...|        2022-05-24|                 2021-05-25|2022-05-24 18:45:...|      2022-05-24|2022-05-24 18:45:...|             null|               true|                         false|                        false|                  false|                   false|                          null|                false|                     false|                         false|               true|               true|              null|           en-us|           en-us|                en|               US|    United States|                        Domestic|       United States|      United States|       United States|               1|          Go Daddy|            N/A|        Branding|             Unknown|                 Top-Tier|            N/A|         High-Converting|                    |  directnav|                 N/A|                     N/A|                  N/A|               N/A|                 N/A|                   N/A|                          1|                        0|                      0|                       0|                            0|  store.commerce.go...|             store.commerce|                 godaddy|                  com|/3fe65f59-b8cf-4e...|store.commerce.go...|          store.commerce|              godaddy|               com|/3fe65f59-b8cf-4e...|[store.commerce.g...|      [store.commerce.g...|         North America|                              Texas|                                 --|College Station|         77845|        30.5478|        -96.2715|          625|             US|  United States|                      Domestic|       United States|      United States|     United States|      null|      null|                null|          null|    null|   null|Mozilla/5.0 (Wind...|      chrome|            chrome 101|                chrome 101.0|                   windows 10|        computer|               Desktop|                Desktop|                   1366|                    768|                    1366|                     657|             1|                       0|         1|                  1|                  0|                      0|                          0|            null|               0|         0|             0|                 0|             0.00|          0.00|   0.00|                         0.00|                 0.00|                     0.00|                           0|                         0|                               0.00|                         0|                       0|                             0.00|                     0|                   0|                         0.00|                          0|                        0|                              0.00|                            0|                          0|                                0.00|                             0|                           0|                                 0.00|               0|             0|                   0.00|                    0|                  0|                        0.00|             0|           0|                 0.00|                         0|                       0|                             0.00|                       0|                     0|                           0.00|                0|         [191595199]|               null|           null|  2022-05-24| 191595199|{\"session_begin_t...|\n",
      "|06edccff-0d9b-49b...|76bfb4da-0db9-487...|        2022-04-24|                 2021-04-25|2022-04-24 01:41:...|      2022-04-24|2022-04-24 01:59:...|             null|              false|                          true|                        false|                  false|                   false|                          null|                 true|                      true|                         false|               true|               true|              null|           en-us|           en-us|                en|               US|    United States|                        Domestic|       United States|      United States|       United States|               1|          Go Daddy|            N/A|        Branding|             Unknown|                 Top-Tier|            N/A|         High-Converting|                    |  directnav|                 N/A|                     N/A|                  N/A|               N/A|                 N/A|                   N/A|                          8|                       12|                      0|                       0|                            0|   account.godaddy.com|                    account|                 godaddy|                  com|           /products|    cart.godaddy.com|                    cart|              godaddy|               com|        /go/checkout|[account.godaddy....|      [account.godaddy....|         North America|                     North Carolina|                                 --|      Asheville|         28803|        35.5397|        -82.5151|          567|             US|  United States|                      Domestic|       United States|      United States|     United States|      null|      null|                null|          null|    null|   null|Mozilla/5.0 (Maci...|      chrome|            chrome 100|                chrome 100.0|                     mac os x|        computer|               Desktop|                Desktop|                   1440|                    900|                    1440|                     765|            20|                    1090|         1|                  0|                  1|                      1|                          0|               0|               0|         1|             1|                 0|            30.18|         21.61|  30.18|                         0.00|                30.18|                     0.00|                           0|                         0|                               0.00|                         0|                       0|                             0.00|                     0|                   0|                         0.00|                          0|                        0|                              0.00|                            0|                          0|                                0.00|                             1|                           1|                                12.17|               0|             0|                   0.00|                    1|                  1|                        0.00|             0|           0|                 0.00|                         1|                       2|                             8.02|                       1|                     1|                           9.99|                0|         [415067388]|               null|           null|  2022-04-24| 415067388|{\"session_begin_t...|\n",
      "|59f9a063-3873-498...|6a2e3fd3-ccc6-470...|        2022-06-04|                 2021-06-05|2022-06-04 03:20:...|      2022-06-04|2022-06-04 03:29:...|             null|              false|                          true|                        false|                  false|                   false|                          null|                false|                     false|                         false|               true|               true|              null|           en-gb|           en-gb|                en|               GB|   United Kingdom|                   International|International - T...|     United Kingdom|      United Kingdom|               1|          Go Daddy|            N/A|        Branding|             Unknown|                 Top-Tier|            N/A|         High-Converting|                    |  directnav|                 N/A|                     N/A|                  N/A|               N/A|                 N/A|                   N/A|                          3|                        1|                      0|                       0|                            0|        uk.godaddy.com|                         uk|                 godaddy|                  com|  /domainsearch/find| account.godaddy.com|                 account|              godaddy|               com|           /products|[account.godaddy....|      [account.godaddy....|                Europe|                            England|                           Trafford|           Sale|           M33|        53.4236|         -2.3113|           --|             GB| United Kingdom|                 International|International - T...|     United Kingdom|    United Kingdom|      null|      null|                null|          null|    null|   null|Mozilla/5.0 (Wind...|      chrome|            chrome 102|                chrome 102.0|                   windows 10|        computer|               Desktop|                Desktop|                   1366|                    768|                    1350|                     640|             4|                     511|         1|                  0|                  0|                      0|                          0|            null|               0|         0|             0|                 0|             0.00|          0.00|   0.00|                         0.00|                 0.00|                     0.00|                           0|                         0|                               0.00|                         0|                       0|                             0.00|                     0|                   0|                         0.00|                          0|                        0|                              0.00|                            0|                          0|                                0.00|                             0|                           0|                                 0.00|               0|             0|                   0.00|                    0|                  0|                        0.00|             0|           0|                 0.00|                         0|                       0|                             0.00|                       0|                     0|                           0.00|                0|         [474648450]|               null|           null|  2022-06-04| 474648450|{\"session_begin_t...|\n",
      "|f3ab8f04-0327-5af...|f3ab8f04-0327-5af...|        2022-04-24|                 2021-04-25|2022-04-24 13:51:...|      2022-04-24|2022-04-24 13:51:...|             null|               true|                         false|                        false|                  false|                   false|                          null|                false|                     false|                         false|               true|              false|              null|           en-us|           en-us|                en|               US|    United States|                        Domestic|       United States|      United States|       United States|               1|          Go Daddy|            N/A|        Branding|             Unknown|                 Top-Tier|            N/A|         High-Converting|                    |  directnav|                 N/A|                     N/A|                  N/A|               N/A|                 N/A|                   N/A|                          1|                        0|                      0|                       0|                            0|   crm.int.godaddy.com|                    crm.int|                 godaddy|                  com|     /customer-home/| crm.int.godaddy.com|                 crm.int|              godaddy|               com|     /customer-home/|[crm.int.godaddy....|      [crm.int.godaddy....|         North America|                            Arizona|                                 --|           Mesa|         85204|        33.3981|        -111.785|          753|             US|  United States|                      Domestic|       United States|      United States|     United States|      null|      null|                null|          null|    null|   null|Mozilla/5.0 (Wind...|     firefox|            firefox 91|                firefox 91.0|                   windows 10|        computer|               Desktop|                Desktop|                   1920|                   1080|                    1920|                     955|             1|                       0|         1|                  1|                  0|                      0|                          0|            null|               0|         0|             0|                 0|             0.00|          0.00|   0.00|                         0.00|                 0.00|                     0.00|                           0|                         0|                               0.00|                         0|                       0|                             0.00|                     0|                   0|                         0.00|                          0|                        0|                              0.00|                            0|                          0|                                0.00|                             0|                           0|                                 0.00|               0|             0|                   0.00|                    0|                  0|                        0.00|             0|           0|                 0.00|                         0|                       0|                             0.00|                       0|                     0|                           0.00|                0|          [79032101]|      Suspected Bot|           null|  2022-04-24|  79032101|{\"session_begin_t...|\n",
      "|5561c03a-c945-53c...|5561c03a-c945-53c...|        2022-04-24|                 2021-04-25|2022-04-24 23:01:...|      2022-04-24|2022-04-24 23:15:...|             null|              false|                          true|                        false|                  false|                   false|                          null|                false|                     false|                         false|               true|              false|              null|           en-in|           en-in|                en|               IN|            India|                   International|International - T...|              India|               India|               1|          Go Daddy|            N/A|        Branding|             Unknown|                 Top-Tier|            N/A|         High-Converting|https://crm.int.g...|    godaddy| crm.int.godaddy.com|                 crm.int|              godaddy|               com|/customer-search/...|  date=165086650470...|                          2|                       12|                      0|                       0|                            0|   crm.int.godaddy.com|                    crm.int|                 godaddy|                  com|     /customer-home/|    cart.godaddy.com|                    cart|              godaddy|               com|        /go/checkout|[cart.godaddy.com...|      [cart.godaddy.com...|         North America|                                 --|                                 --|             --|            --|         37.751|         -97.822|           --|             US|  United States|                      Domestic|       United States|      United States|     United States|      null|      null|                null|          null|    null|   null|Mozilla/5.0 (Wind...|      chrome|             chrome 97|                 chrome 97.0|                   windows 10|        computer|               Desktop|                Desktop|                   1366|                    768|                    1366|                     657|            14|                     831|         1|                  0|                  0|                      0|                          0|            null|               0|         0|             0|                 0|             0.00|          0.00|   0.00|                         0.00|                 0.00|                     0.00|                           0|                         0|                               0.00|                         0|                       0|                             0.00|                     0|                   0|                         0.00|                          0|                        0|                              0.00|                            0|                          0|                                0.00|                             0|                           0|                                 0.00|               0|             0|                   0.00|                    0|                  0|                        0.00|             0|           0|                 0.00|                         0|                       0|                             0.00|                       0|                     0|                           0.00|                0|         [459065124]|      Suspected Bot|           null|  2022-04-24| 459065124|{\"session_begin_t...|\n",
      "|be13fb28-de0c-43c...|d5752be8-57e2-4d8...|        2022-04-24|                 2021-04-25|2022-04-24 21:00:...|      2022-04-24|2022-04-24 21:17:...|             null|              false|                          true|                        false|                  false|                   false|                          null|                false|                     false|                         false|               true|               true|              null|           id-id|           id-id|                id|               ID|        Indonesia|                   International| International - RoW|Rest of World (RoW)|          APAC-Tier2|               1|          Go Daddy|            N/A|        Branding|             Unknown|                 Top-Tier|            N/A|         High-Converting|                    |  directnav|                 N/A|                     N/A|                  N/A|               N/A|                 N/A|                   N/A|                          1|                        3|                      0|                       0|                            0|  id.auctions.godad...|                id.auctions|                 godaddy|                  com|                   /|      id.godaddy.com|                      id|              godaddy|               com|/domain-auctions/...|[id.auctions.goda...|      [id.auctions.goda...|                  Asia|                          West Java|                                 --|         Bekasi|            --|        -6.2352|        106.9922|           --|             ID|      Indonesia|                 International| International - RoW|Rest of World (RoW)|        APAC-Tier2|      null|      null|                null|          null|    null|   null|Mozilla/5.0 (Wind...|      chrome|            chrome 100|                chrome 100.0|                   windows 10|        computer|               Desktop|                Desktop|                   1280|                    720|                    1280|                     577|             4|                    1046|         1|                  0|                  0|                      0|                          0|            null|               0|         0|             0|                 0|             0.00|          0.00|   0.00|                         0.00|                 0.00|                     0.00|                           0|                         0|                               0.00|                         0|                       0|                             0.00|                     0|                   0|                         0.00|                          0|                        0|                              0.00|                            0|                          0|                                0.00|                             0|                           0|                                 0.00|               0|             0|                   0.00|                    0|                  0|                        0.00|             0|           0|                 0.00|                         0|                       0|                             0.00|                       0|                     0|                           0.00|                0|         [451999735]|               null|           null|  2022-04-24| 451999735|{\"session_begin_t...|\n",
      "|5f8cd28c-58a7-5f1...|5f8cd28c-58a7-5f1...|        2022-04-24|                 2021-04-25|2022-04-24 20:10:...|      2022-04-24|2022-04-24 20:10:...|             null|               true|                         false|                        false|                  false|                   false|                          null|                false|                     false|                         false|               true|              false|              null|           en-us|           en-us|                en|               US|    United States|                        Domestic|       United States|      United States|       United States|               1|          Go Daddy|            N/A|        Branding|             Unknown|                 Top-Tier|            N/A|         High-Converting|https://crm.int.g...|    godaddy| crm.int.godaddy.com|                 crm.int|              godaddy|               com|/customer-search/...|    shopperId=30079545|                          0|                        1|                      0|                       0|                            0|   crm.int.godaddy.com|                    crm.int|                 godaddy|                  com|     /customer-home/| crm.int.godaddy.com|                 crm.int|              godaddy|               com|     /customer-home/|[crm.int.godaddy....|      [crm.int.godaddy....|         North America|                                 --|                                 --|             --|            --|         37.751|         -97.822|           --|             US|  United States|                      Domestic|       United States|      United States|     United States|      null|      null|                null|          null|    null|   null|Mozilla/5.0 (Wind...|      chrome|            chrome 100|                chrome 100.0|                   windows 10|        computer|               Desktop|                Desktop|                   1366|                    768|                    1366|                     625|             1|                       0|         1|                  1|                  0|                      0|                          0|            null|               0|         0|             0|                 0|             0.00|          0.00|   0.00|                         0.00|                 0.00|                     0.00|                           0|                         0|                               0.00|                         0|                       0|                             0.00|                     0|                   0|                         0.00|                          0|                        0|                              0.00|                            0|                          0|                                0.00|                             0|                           0|                                 0.00|               0|             0|                   0.00|                    0|                  0|                        0.00|             0|           0|                 0.00|                         0|                       0|                             0.00|                       0|                     0|                           0.00|                0|          [30079545]|      Suspected Bot|           null|  2022-04-24|  30079545|{\"session_begin_t...|\n",
      "|5f8cd28c-58a7-5f1...|5f8cd28c-58a7-5f1...|        2022-04-24|                 2021-04-25|2022-04-24 20:10:...|      2022-04-24|2022-04-24 20:10:...|             null|               true|                         false|                        false|                  false|                   false|                          null|                false|                     false|                         false|               true|              false|              null|           en-us|           en-us|                en|               US|    United States|                        Domestic|       United States|      United States|       United States|               1|          Go Daddy|            N/A|        Branding|             Unknown|                 Top-Tier|            N/A|         High-Converting|https://crm.int.g...|    godaddy| crm.int.godaddy.com|                 crm.int|              godaddy|               com|/customer-search/...|    shopperId=30079545|                          0|                        1|                      0|                       0|                            0|   crm.int.godaddy.com|                    crm.int|                 godaddy|                  com|     /customer-home/| crm.int.godaddy.com|                 crm.int|              godaddy|               com|     /customer-home/|[crm.int.godaddy....|      [crm.int.godaddy....|         North America|                                 --|                                 --|             --|            --|         37.751|         -97.822|           --|             US|  United States|                      Domestic|       United States|      United States|     United States|      null|      null|                null|          null|    null|   null|Mozilla/5.0 (Wind...|      chrome|            chrome 100|                chrome 100.0|                   windows 10|        computer|               Desktop|                Desktop|                   1366|                    768|                    1366|                     625|             1|                       0|         1|                  1|                  0|                      0|                          0|            null|               0|         0|             0|                 0|             0.00|          0.00|   0.00|                         0.00|                 0.00|                     0.00|                           0|                         0|                               0.00|                         0|                       0|                             0.00|                     0|                   0|                         0.00|                          0|                        0|                              0.00|                            0|                          0|                                0.00|                             0|                           0|                                 0.00|               0|             0|                   0.00|                    0|                  0|                        0.00|             0|           0|                 0.00|                         0|                       0|                             0.00|                       0|                     0|                           0.00|                0|          [30079545]|      Suspected Bot|           null|  2022-04-24|  30079545|{\"session_begin_t...|\n",
      "+--------------------+--------------------+------------------+---------------------------+--------------------+----------------+--------------------+-----------------+-------------------+------------------------------+-----------------------------+-----------------------+------------------------+------------------------------+---------------------+--------------------------+------------------------------+-------------------+-------------------+------------------+----------------+----------------+------------------+-----------------+-----------------+--------------------------------+--------------------+-------------------+--------------------+----------------+------------------+---------------+----------------+--------------------+-------------------------+---------------+------------------------+--------------------+-----------+--------------------+------------------------+---------------------+------------------+--------------------+----------------------+---------------------------+-------------------------+-----------------------+------------------------+-----------------------------+----------------------+---------------------------+------------------------+---------------------+--------------------+--------------------+------------------------+---------------------+------------------+--------------------+--------------------+--------------------------+----------------------+-----------------------------------+-----------------------------------+---------------+--------------+---------------+----------------+-------------+---------------+---------------+------------------------------+--------------------+-------------------+------------------+----------+----------+--------------------+--------------+--------+-------+--------------------+------------+----------------------+----------------------------+-----------------------------+----------------+----------------------+-----------------------+-----------------------+-----------------------+------------------------+------------------------+--------------+------------------------+----------+-------------------+-------------------+-----------------------+---------------------------+----------------+----------------+----------+--------------+------------------+-----------------+--------------+-------+-----------------------------+---------------------+-------------------------+----------------------------+--------------------------+-----------------------------------+--------------------------+------------------------+---------------------------------+----------------------+--------------------+-----------------------------+---------------------------+-------------------------+----------------------------------+-----------------------------+---------------------------+------------------------------------+------------------------------+----------------------------+-------------------------------------+----------------+--------------+-----------------------+---------------------+-------------------+----------------------------+--------------+------------+---------------------+--------------------------+------------------------+---------------------------------+------------------------+----------------------+-------------------------------+-----------------+--------------------+-------------------+---------------+------------+----------+--------------------+\n",
      "only showing top 20 rows"
     ]
    }
   ],
   "source": [
    "df2 = f.run(df).to_spark()\n",
    "df2.show()"
   ]
  },
  {
   "cell_type": "code",
   "execution_count": 9,
   "id": "c3dd582c",
   "metadata": {},
   "outputs": [
    {
     "data": {
      "application/vnd.jupyter.widget-view+json": {
       "model_id": "",
       "version_major": 2,
       "version_minor": 0
      },
      "text/plain": [
       "FloatProgress(value=0.0, bar_style='info', description='Progress:', layout=Layout(height='25px', width='50%'),…"
      ]
     },
     "metadata": {},
     "output_type": "display_data"
    },
    {
     "name": "stdout",
     "output_type": "stream",
     "text": [
      "+----------+--------------------+--------------------+\n",
      "|shopper_id|       window_end_ts|        session_json|\n",
      "+----------+--------------------+--------------------+\n",
      "|  65730306|2022-06-04 11:08:...|{\"session_begin_t...|\n",
      "| 188160304|2022-04-24 11:24:...|{\"session_begin_t...|\n",
      "| 153184643|2022-04-24 15:44:...|{\"session_begin_t...|\n",
      "|  65730306|2022-04-24 12:56:...|{\"session_begin_t...|\n",
      "| 451999735|2022-04-24 01:31:...|{\"session_begin_t...|\n",
      "|  65730306|2022-04-24 04:50:...|{\"session_begin_t...|\n",
      "| 178415540|2022-06-04 05:23:...|{\"session_begin_t...|\n",
      "| 441374010|2022-06-04 22:05:...|{\"session_begin_t...|\n",
      "| 184685416|2022-04-24 04:47:...|{\"session_begin_t...|\n",
      "| 474844357|2022-04-24 04:47:...|{\"session_begin_t...|\n",
      "| 239596833|2022-04-24 21:49:...|{\"session_begin_t...|\n",
      "|  65730306|2022-04-24 01:09:...|{\"session_begin_t...|\n",
      "| 191595199|2022-05-24 18:45:...|{\"session_begin_t...|\n",
      "| 415067388|2022-04-24 01:59:...|{\"session_begin_t...|\n",
      "| 474648450|2022-06-04 03:29:...|{\"session_begin_t...|\n",
      "|  79032101|2022-04-24 13:51:...|{\"session_begin_t...|\n",
      "| 459065124|2022-04-24 23:15:...|{\"session_begin_t...|\n",
      "| 451999735|2022-04-24 21:17:...|{\"session_begin_t...|\n",
      "|  30079545|2022-04-24 20:10:...|{\"session_begin_t...|\n",
      "|  30079545|2022-04-24 20:10:...|{\"session_begin_t...|\n",
      "+----------+--------------------+--------------------+\n",
      "only showing top 20 rows"
     ]
    }
   ],
   "source": [
    "f2 = ws.get_transformation(\"select_recent_traffic_features\")\n",
    "df3 = f2.run(df2).to_spark()\n",
    "df3.show()"
   ]
  },
  {
   "cell_type": "code",
   "execution_count": 1,
   "id": "b3ccc2bd",
   "metadata": {},
   "outputs": [
    {
     "name": "stdout",
     "output_type": "stream",
     "text": [
      "Starting Spark application\n"
     ]
    },
    {
     "data": {
      "text/html": [
       "<table>\n",
       "<tr><th>ID</th><th>YARN Application ID</th><th>Kind</th><th>State</th><th>Spark UI</th><th>Driver log</th><th>User</th><th>Current session?</th></tr><tr><td>7</td><td>application_1659831882954_0009</td><td>pyspark</td><td>idle</td><td><a target=\"_blank\" href=\"http://ip-192-168-9-183.us-west-2.compute.internal:20888/proxy/application_1659831882954_0009/\">Link</a></td><td><a target=\"_blank\" href=\"http://ip-192-168-9-127.us-west-2.compute.internal:8042/node/containerlogs/container_1659831882954_0009_01_000001/livy\">Link</a></td><td>None</td><td>✔</td></tr></table>"
      ],
      "text/plain": [
       "<IPython.core.display.HTML object>"
      ]
     },
     "metadata": {},
     "output_type": "display_data"
    },
    {
     "data": {
      "application/vnd.jupyter.widget-view+json": {
       "model_id": "",
       "version_major": 2,
       "version_minor": 0
      },
      "text/plain": [
       "FloatProgress(value=0.0, bar_style='info', description='Progress:', layout=Layout(height='25px', width='50%'),…"
      ]
     },
     "metadata": {},
     "output_type": "display_data"
    },
    {
     "name": "stdout",
     "output_type": "stream",
     "text": [
      "SparkSession available as 'spark'.\n"
     ]
    },
    {
     "data": {
      "application/vnd.jupyter.widget-view+json": {
       "model_id": "",
       "version_major": 2,
       "version_minor": 0
      },
      "text/plain": [
       "FloatProgress(value=0.0, bar_style='info', description='Progress:', layout=Layout(height='25px', width='50%'),…"
      ]
     },
     "metadata": {},
     "output_type": "display_data"
    },
    {
     "name": "stdout",
     "output_type": "stream",
     "text": [
      "+---------+----------+--------------------+------+-------------------+-------------------+--------------------+\n",
      "|       id|shopper_id|          domainname|status|previousregistrarid|         updatedate|          modifytime|\n",
      "+---------+----------+--------------------+------+-------------------+-------------------+--------------------+\n",
      "|251676855|  54662096|     carettadorm.net|    58|               null|2021-10-01 01:25:24|2022-08-07 23:59:...|\n",
      "| 86220132|  37971614|       CODEDUMP.INFO|     3|               null|2021-11-17 23:42:24|2022-08-07 23:59:...|\n",
      "|350054350| 222127346|      midietitian.in|     4|               null|2021-06-26 08:17:03|2022-08-07 23:59:...|\n",
      "|375818286| 498491248|          wcl188.xyz|     1|               null|               null|2022-08-07 23:59:...|\n",
      "|375818275| 498491248|          wcl068.xyz|     1|               null|               null|2022-08-07 23:59:...|\n",
      "|375818285| 498491248|          wcl178.xyz|     1|               null|               null|2022-08-07 23:59:...|\n",
      "|375818261| 402471167|onlylouisvilleres...|     0|               null|2022-08-08 01:59:29|2022-08-07 23:59:...|\n",
      "|375818260| 402471167|onlylouisvillechi...|     0|               null|2022-08-08 01:59:30|2022-08-07 23:59:...|\n",
      "|351847450| 102704532|imperial-security...|    83|               null|2021-07-26 05:53:09|2022-08-07 23:59:...|\n",
      "|375818274| 498491248|          wcl138.xyz|     1|               null|               null|2022-08-07 23:59:...|\n",
      "|375818281| 498491248|          lwh138.xyz|     1|               null|               null|2022-08-07 23:59:...|\n",
      "|375818278| 498491248|          wcl148.xyz|     1|               null|               null|2022-08-07 23:59:...|\n",
      "|375818280| 498491248|          lwh068.xyz|     1|               null|               null|2022-08-07 23:59:...|\n",
      "|375818271| 224725250|          vazago.net|     1|               null|               null|2022-08-07 23:59:...|\n",
      "|375818273| 498491248|          wcl118.xyz|     1|               null|               null|2022-08-07 23:59:...|\n",
      "|375818279| 498491248|          wcl688.xyz|     1|               null|               null|2022-08-07 23:59:...|\n",
      "|375818283| 498491248|          lwh128.xyz|     1|               null|               null|2022-08-07 23:59:...|\n",
      "|375818284| 498491248|          lwh668.xyz|     1|               null|               null|2022-08-07 23:59:...|\n",
      "|375818282| 498491248|          lwh188.xyz|     1|               null|               null|2022-08-07 23:59:...|\n",
      "|375818270| 363674003|      haigether.club|     1|               null|               null|2022-08-07 23:59:...|\n",
      "+---------+----------+--------------------+------+-------------------+-------------------+--------------------+\n",
      "only showing top 20 rows"
     ]
    }
   ],
   "source": [
    "df = spark.sql(\"\"\"\n",
    "select \n",
    "  id,\n",
    "  shopper_id, \n",
    "  domainname, \n",
    "  status, \n",
    "  previousregistrarid,\n",
    "  updatedate,\n",
    "  modifytime\n",
    "from tecton_dev.domaininfo_snap\n",
    "\"\"\")\n",
    "df.show()"
   ]
  },
  {
   "cell_type": "code",
   "execution_count": 2,
   "id": "5d6e13f8",
   "metadata": {},
   "outputs": [
    {
     "data": {
      "application/vnd.jupyter.widget-view+json": {
       "model_id": "",
       "version_major": 2,
       "version_minor": 0
      },
      "text/plain": [
       "FloatProgress(value=0.0, bar_style='info', description='Progress:', layout=Layout(height='25px', width='50%'),…"
      ]
     },
     "metadata": {},
     "output_type": "display_data"
    },
    {
     "name": "stdout",
     "output_type": "stream",
     "text": [
      "+----------+-----------+\n",
      "|shopper_id|max(status)|\n",
      "+----------+-----------+\n",
      "| 280945054|          0|\n",
      "| 349538039|          0|\n",
      "| 272998478|          0|\n",
      "| 480577213|          0|\n",
      "| 527263904|          0|\n",
      "|  37971614|          3|\n",
      "| 163443605|          0|\n",
      "| 528451620|          0|\n",
      "| 231608122|          0|\n",
      "|  23839928|          0|\n",
      "| 410809803|         38|\n",
      "| 216576431|          0|\n",
      "| 134754471|         77|\n",
      "|  82485417|         12|\n",
      "| 349138645|          0|\n",
      "| 148852211|         19|\n",
      "| 192276829|          0|\n",
      "| 528456332|          0|\n",
      "| 102704532|         83|\n",
      "| 271688961|          0|\n",
      "+----------+-----------+\n",
      "only showing top 20 rows"
     ]
    }
   ],
   "source": [
    "df2 = df.groupBy(\"shopper_id\").agg({\"status\": \"max\"})\n",
    "df2.show()"
   ]
  },
  {
   "cell_type": "code",
   "execution_count": 33,
   "id": "a3e0b276",
   "metadata": {},
   "outputs": [
    {
     "data": {
      "application/vnd.jupyter.widget-view+json": {
       "model_id": "",
       "version_major": 2,
       "version_minor": 0
      },
      "text/plain": [
       "FloatProgress(value=0.0, bar_style='info', description='Progress:', layout=Layout(height='25px', width='50%'),…"
      ]
     },
     "metadata": {},
     "output_type": "display_data"
    },
    {
     "name": "stdout",
     "output_type": "stream",
     "text": [
      "+----------+--------------------+--------------------+\n",
      "|shopper_id| previousregistrarid|        isactiveflag|\n",
      "+----------+--------------------+--------------------+\n",
      "| 163443605|                  []|                 [1]|\n",
      "| 231608122|                  []|                 [1]|\n",
      "|  23839928|                  []|                 [1]|\n",
      "| 272998478|                  []|                 [1]|\n",
      "| 280945054|                  []|                 [1]|\n",
      "| 349538039|                  []|                 [1]|\n",
      "|  37971614|                  []|                 [1]|\n",
      "| 480577213|                  []|                 [1]|\n",
      "| 527263904|                  []|              [1, 1]|\n",
      "| 528451620|                  []|           [1, 1, 1]|\n",
      "| 410809803|[290634, 290634, ...|[1, 1, 1, 1, 1, 1...|\n",
      "| 102704532|                  []|[1, 1, 1, 1, 1, 1...|\n",
      "| 134754471|                  []|[1, 1, 1, 0, 0, 0...|\n",
      "| 148852211|                  []|                 [0]|\n",
      "| 192276829|                  []|                 [1]|\n",
      "| 216576431|                  []|                 [1]|\n",
      "| 271688961|                  []|              [1, 1]|\n",
      "| 349138645|                  []|                 [1]|\n",
      "|   3564634|                  []|                 [1]|\n",
      "| 528456332|                  []|                 [1]|\n",
      "+----------+--------------------+--------------------+\n",
      "only showing top 20 rows"
     ]
    }
   ],
   "source": [
    "from datetime import datetime\n",
    "from pyspark.sql.functions import col\n",
    "\n",
    "all_domaininfo = spark.sql(\"select * from tecton_dev.domaininfo_snap\")\n",
    "materialized_domaininfo = all_domaininfo.filter(col(\"modifytime\").between(datetime(2022, 1, 1), datetime.now()))\n",
    "# materialized_domaininfo.show()\n",
    "\n",
    "dcc_domainvaluation = spark.sql(\"select * from tecton_dev.dcc_domainvaluation_snap\")\n",
    "# dcc_domainvaluation.show()\n",
    "\n",
    "domaininfo_status = spark.sql(\"select * from tecton_dev.domaininfo_status_snap\")\n",
    "# domaininfo_status.show()\n",
    "\n",
    "shopper_ids = materialized_domaininfo.select(\"shopper_id\").distinct()\n",
    "# shopper_ids.show()\n",
    "\n",
    "domains = all_domaininfo.join(shopper_ids, \"shopper_id\")\n",
    "# domains.show()\n",
    "\n",
    "from pyspark.sql.functions import row_number, when\n",
    "from pyspark.sql.window import Window\n",
    "\n",
    "wide_domains = domains.join(dcc_domainvaluation, \"domainname\", \"left\").join(\n",
    "        domaininfo_status, domains.status == domaininfo_status.domaininfo_statusid, \"left\"\n",
    "    )\n",
    "# wide_domains.show()\n",
    "\n",
    "domaininfo = wide_domains.withColumn(\n",
    "    \"updatedate_nvl\",\n",
    "    when(col(\"updatedate\").isNull(), col(\"modifytime\"))\n",
    "    .when(col(\"updatedate\") < col(\"modifytime\"), col(\"modifytime\"))\n",
    "    .otherwise(col(\"updatedate\")),\n",
    ")\n",
    "window = Window.partitionBy(\"shopper_id\").orderBy(col(\"isactiveflag\").desc(), col(\"updatedate_nvl\").desc())\n",
    "domaininfo = domaininfo.withColumn(\"row_number\", row_number().over(window)).filter(col(\"row_number\") <= 1000)\n",
    "domaininfo = domaininfo.drop(\"row_number\", \"updatedate_nvl\")\n",
    "# domaininfo.show()\n",
    "\n",
    "from pyspark.sql.functions import collect_list, first\n",
    "\n",
    "# # df = domaininfo.groupBy(\"shopper_id\").agg(first(\"isactiveflag\"))\n",
    "# df = domaininfo.groupBy(\"shopper_id\").agg(collect_list(col(\"isactiveflag\")))\n",
    "# df.show()\n",
    "\n",
    "# _threshold_categorical_column_names = [\"previousregistrarid\", \"isactiveflag\"]\n",
    "aggs = [collect_list(col(name).cast(\"long\")).alias(name) for name in _threshold_categorical_column_names]\n",
    "# aggs = [\n",
    "# #     collect_list(col(\"previousregistrarid\")),\n",
    "#     collect_list(col(\"isactiveflag\")),\n",
    "# ]\n",
    "\n",
    "# print(aggs)\n",
    "\n",
    "res = domaininfo.groupBy(\"shopper_id\").agg(*aggs)\n",
    "res.show()"
   ]
  },
  {
   "cell_type": "code",
   "execution_count": 9,
   "id": "97910546",
   "metadata": {},
   "outputs": [
    {
     "data": {
      "application/vnd.jupyter.widget-view+json": {
       "model_id": "",
       "version_major": 2,
       "version_minor": 0
      },
      "text/plain": [
       "FloatProgress(value=0.0, bar_style='info', description='Progress:', layout=Layout(height='25px', width='50%'),…"
      ]
     },
     "metadata": {},
     "output_type": "display_data"
    },
    {
     "name": "stdout",
     "output_type": "stream",
     "text": [
      "+----------+-------------------+--------------------+--------------------+\n",
      "|shopper_id|         updatedate|          modifytime|      updatedate_nvl|\n",
      "+----------+-------------------+--------------------+--------------------+\n",
      "|  54662096|2021-10-01 01:25:24|2022-08-07 23:59:...|2022-08-07 23:59:...|\n",
      "|  37971614|2021-11-17 23:42:24|2022-08-07 23:59:...|2022-08-07 23:59:...|\n",
      "| 222127346|2021-06-26 08:17:03|2022-08-07 23:59:...|2022-08-07 23:59:...|\n",
      "| 498491248|               null|2022-08-07 23:59:...|2022-08-07 23:59:...|\n",
      "| 498491248|               null|2022-08-07 23:59:...|2022-08-07 23:59:...|\n",
      "| 498491248|               null|2022-08-07 23:59:...|2022-08-07 23:59:...|\n",
      "| 402471167|2022-08-08 01:59:29|2022-08-07 23:59:...| 2022-08-08 01:59:29|\n",
      "| 402471167|2022-08-08 01:59:30|2022-08-07 23:59:...| 2022-08-08 01:59:30|\n",
      "| 102704532|2021-07-26 05:53:09|2022-08-07 23:59:...|2022-08-07 23:59:...|\n",
      "| 498491248|               null|2022-08-07 23:59:...|2022-08-07 23:59:...|\n",
      "| 498491248|               null|2022-08-07 23:59:...|2022-08-07 23:59:...|\n",
      "| 498491248|               null|2022-08-07 23:59:...|2022-08-07 23:59:...|\n",
      "| 498491248|               null|2022-08-07 23:59:...|2022-08-07 23:59:...|\n",
      "| 224725250|               null|2022-08-07 23:59:...|2022-08-07 23:59:...|\n",
      "| 498491248|               null|2022-08-07 23:59:...|2022-08-07 23:59:...|\n",
      "| 498491248|               null|2022-08-07 23:59:...|2022-08-07 23:59:...|\n",
      "| 498491248|               null|2022-08-07 23:59:...|2022-08-07 23:59:...|\n",
      "| 498491248|               null|2022-08-07 23:59:...|2022-08-07 23:59:...|\n",
      "| 498491248|               null|2022-08-07 23:59:...|2022-08-07 23:59:...|\n",
      "| 363674003|               null|2022-08-07 23:59:...|2022-08-07 23:59:...|\n",
      "+----------+-------------------+--------------------+--------------------+\n",
      "only showing top 20 rows"
     ]
    }
   ],
   "source": [
    "from pyspark.sql.functions import col, when\n",
    "\n",
    "df2 = df.withColumn(\n",
    "        \"updatedate_nvl\",\n",
    "        when(col(\"updatedate\").isNull(), col(\"modifytime\"))\n",
    "        .when(col(\"updatedate\") < col(\"modifytime\"), col(\"modifytime\"))\n",
    "        .otherwise(col(\"updatedate\")),\n",
    "    ).select(\"shopper_id\", \"updatedate\", \"modifytime\", \"updatedate_nvl\")\n",
    "df2.show()"
   ]
  },
  {
   "cell_type": "code",
   "execution_count": 15,
   "id": "ac607430",
   "metadata": {},
   "outputs": [
    {
     "data": {
      "application/vnd.jupyter.widget-view+json": {
       "model_id": "",
       "version_major": 2,
       "version_minor": 0
      },
      "text/plain": [
       "FloatProgress(value=0.0, bar_style='info', description='Progress:', layout=Layout(height='25px', width='50%'),…"
      ]
     },
     "metadata": {},
     "output_type": "display_data"
    },
    {
     "name": "stdout",
     "output_type": "stream",
     "text": [
      "+----------+\n",
      "|shopper_id|\n",
      "+----------+\n",
      "| 163443605|\n",
      "| 231608122|\n",
      "|  23839928|\n",
      "| 272998478|\n",
      "| 280945054|\n",
      "| 349538039|\n",
      "|  37971614|\n",
      "| 480577213|\n",
      "| 527263904|\n",
      "| 528451620|\n",
      "| 410809803|\n",
      "| 102704532|\n",
      "| 134754471|\n",
      "| 144275996|\n",
      "| 148852211|\n",
      "| 192276829|\n",
      "| 216576431|\n",
      "| 225222776|\n",
      "| 271688961|\n",
      "| 325382160|\n",
      "+----------+\n",
      "only showing top 20 rows"
     ]
    }
   ],
   "source": [
    "from pyspark.sql.window import Window\n",
    "from pyspark.sql.functions import col, row_number\n",
    "\n",
    "window = Window.partitionBy(\"shopper_id\").orderBy(col(\"modifytime\").desc())\n",
    "\n",
    "shopper_ids = df.withColumn(\"row_number\", row_number().over(window)).filter(col(\"row_number\") == 1).select(\"shopper_id\")\n",
    "shopper_ids.show()"
   ]
  },
  {
   "cell_type": "code",
   "execution_count": 3,
   "id": "274c26af",
   "metadata": {},
   "outputs": [
    {
     "data": {
      "application/vnd.jupyter.widget-view+json": {
       "model_id": "",
       "version_major": 2,
       "version_minor": 0
      },
      "text/plain": [
       "FloatProgress(value=0.0, bar_style='info', description='Progress:', layout=Layout(height='25px', width='50%'),…"
      ]
     },
     "metadata": {},
     "output_type": "display_data"
    },
    {
     "name": "stdout",
     "output_type": "stream",
     "text": [
      "+----------+\n",
      "|shopper_id|\n",
      "+----------+\n",
      "| 280945054|\n",
      "| 349538039|\n",
      "| 272998478|\n",
      "| 480577213|\n",
      "| 527263904|\n",
      "|  37971614|\n",
      "| 163443605|\n",
      "| 528451620|\n",
      "| 231608122|\n",
      "|  23839928|\n",
      "| 410809803|\n",
      "| 216576431|\n",
      "| 134754471|\n",
      "|  82485417|\n",
      "| 349138645|\n",
      "| 148852211|\n",
      "| 192276829|\n",
      "| 528456332|\n",
      "| 102704532|\n",
      "| 271688961|\n",
      "+----------+\n",
      "only showing top 20 rows"
     ]
    }
   ],
   "source": [
    "from pyspark.sql.functions import first\n",
    "\n",
    "shopper_ids = df.groupBy(\"shopper_id\").agg(first(\"shopper_id\")).select(\"shopper_id\")\n",
    "shopper_ids.show()"
   ]
  },
  {
   "cell_type": "code",
   "execution_count": 4,
   "id": "7422a685",
   "metadata": {},
   "outputs": [
    {
     "data": {
      "application/vnd.jupyter.widget-view+json": {
       "model_id": "",
       "version_major": 2,
       "version_minor": 0
      },
      "text/plain": [
       "FloatProgress(value=0.0, bar_style='info', description='Progress:', layout=Layout(height='25px', width='50%'),…"
      ]
     },
     "metadata": {},
     "output_type": "display_data"
    },
    {
     "name": "stdout",
     "output_type": "stream",
     "text": [
      "+----------+\n",
      "|shopper_id|\n",
      "+----------+\n",
      "| 280945054|\n",
      "| 349538039|\n",
      "| 272998478|\n",
      "| 480577213|\n",
      "| 527263904|\n",
      "|  37971614|\n",
      "| 163443605|\n",
      "| 528451620|\n",
      "| 231608122|\n",
      "|  23839928|\n",
      "| 410809803|\n",
      "| 216576431|\n",
      "| 134754471|\n",
      "|  82485417|\n",
      "| 349138645|\n",
      "| 148852211|\n",
      "| 192276829|\n",
      "| 528456332|\n",
      "| 102704532|\n",
      "| 271688961|\n",
      "+----------+\n",
      "only showing top 20 rows"
     ]
    }
   ],
   "source": [
    "from pyspark.sql.functions import first\n",
    "\n",
    "shopper_ids = df.select(\"shopper_id\").distinct()\n",
    "shopper_ids.show()"
   ]
  },
  {
   "cell_type": "code",
   "execution_count": 13,
   "id": "54f5bc5d",
   "metadata": {},
   "outputs": [
    {
     "data": {
      "application/vnd.jupyter.widget-view+json": {
       "model_id": "",
       "version_major": 2,
       "version_minor": 0
      },
      "text/plain": [
       "FloatProgress(value=0.0, bar_style='info', description='Progress:', layout=Layout(height='25px', width='50%'),…"
      ]
     },
     "metadata": {},
     "output_type": "display_data"
    },
    {
     "name": "stdout",
     "output_type": "stream",
     "text": [
      "293"
     ]
    }
   ],
   "source": [
    "shopper_ids.count()"
   ]
  },
  {
   "cell_type": "code",
   "execution_count": 5,
   "id": "033e1c38",
   "metadata": {},
   "outputs": [
    {
     "data": {
      "application/vnd.jupyter.widget-view+json": {
       "model_id": "",
       "version_major": 2,
       "version_minor": 0
      },
      "text/plain": [
       "FloatProgress(value=0.0, bar_style='info', description='Progress:', layout=Layout(height='25px', width='50%'),…"
      ]
     },
     "metadata": {},
     "output_type": "display_data"
    },
    {
     "name": "stdout",
     "output_type": "stream",
     "text": [
      "+---------+----------+--------------------+------+-------------------+--------------------+----------+\n",
      "|       id|shopper_id|          domainname|status|previousregistrarid|          modifytime|row_number|\n",
      "+---------+----------+--------------------+------+-------------------+--------------------+----------+\n",
      "|273702225| 163443605|   basundhara.org.in|     0|               null|2022-08-07 23:57:...|         1|\n",
      "|348298769| 231608122|     lotusinplay.com|     0|               null|2022-08-07 23:59:...|         1|\n",
      "|375818207|  23839928|   elderowlpress.com|     0|               null|2022-08-07 23:58:...|         1|\n",
      "|375817691| 272998478|   sternenloscher.de|     0|               null|2022-08-07 23:54:...|         1|\n",
      "|375818098| 280945054|       meetnplan.com|     0|               null|2022-08-07 23:55:...|         1|\n",
      "|375818144| 349538039| studiokoltchine.com|     0|               null|2022-08-07 23:56:...|         1|\n",
      "| 86220132|  37971614|       CODEDUMP.INFO|     3|               null|2022-08-07 23:59:...|         1|\n",
      "|375818224| 480577213| subhadipsamanta.com|     0|               null|2022-08-07 23:58:...|         1|\n",
      "|375818265| 527263904|geointelligence.c...|     0|               null|2022-08-07 23:59:...|         1|\n",
      "|375818264| 527263904|locationsintellig...|     0|               null|2022-08-07 23:59:...|         2|\n",
      "|375818101| 528451620|           thezjy.at|     0|               null|2022-08-07 23:56:...|         1|\n",
      "|375818099| 528451620|            zlj.info|     0|               null|2022-08-07 23:56:...|         2|\n",
      "|375818100| 528451620|           thegfw.at|     0|               null|2022-08-07 23:56:...|         3|\n",
      "|365722173| 410809803|          565f42.com|    38|             290634|2022-08-07 23:58:...|         1|\n",
      "|365722283| 410809803|           i0a66.com|     0|             290634|2022-08-07 23:57:...|         2|\n",
      "|359063653| 410809803|           jjaap.com|     0|             243932|2022-08-07 23:57:...|         3|\n",
      "|359063620| 410809803|        i9v1l73m.com|     0|             243932|2022-08-07 23:57:...|         4|\n",
      "|359063676| 410809803|        kxz7oa64.com|     0|             243932|2022-08-07 23:57:...|         5|\n",
      "|359863780| 410809803|          i36lbr.com|     0|             243932|2022-08-07 23:57:...|         6|\n",
      "|365722304| 410809803|           llajp.com|     0|             290634|2022-08-07 23:57:...|         7|\n",
      "+---------+----------+--------------------+------+-------------------+--------------------+----------+\n",
      "only showing top 20 rows"
     ]
    }
   ],
   "source": [
    "from pyspark.sql.window import Window\n",
    "from pyspark.sql.functions import col, row_number\n",
    "\n",
    "window = Window.partitionBy(\"shopper_id\").orderBy(col(\"modifytime\").desc())\n",
    "\n",
    "domains = df.withColumn(\"row_number\", row_number().over(window)).filter(col(\"row_number\") <= 100)\n",
    "domains.show()"
   ]
  },
  {
   "cell_type": "code",
   "execution_count": 6,
   "id": "fe40fd4e",
   "metadata": {},
   "outputs": [
    {
     "data": {
      "application/vnd.jupyter.widget-view+json": {
       "model_id": "",
       "version_major": 2,
       "version_minor": 0
      },
      "text/plain": [
       "FloatProgress(value=0.0, bar_style='info', description='Progress:', layout=Layout(height='25px', width='50%'),…"
      ]
     },
     "metadata": {},
     "output_type": "display_data"
    },
    {
     "name": "stdout",
     "output_type": "stream",
     "text": [
      "+----------+--------------------+--------------------+--------------------+\n",
      "|shopper_id|       window_end_ts|previousregistrarids|            statuses|\n",
      "+----------+--------------------+--------------------+--------------------+\n",
      "| 163443605|2022-08-07 23:57:...|                  []|                 [0]|\n",
      "| 231608122|2022-08-07 23:59:...|                  []|                 [0]|\n",
      "|  23839928|2022-08-07 23:58:...|                  []|                 [0]|\n",
      "| 272998478|2022-08-07 23:54:...|                  []|                 [0]|\n",
      "| 280945054|2022-08-07 23:55:...|                  []|                 [0]|\n",
      "| 349538039|2022-08-07 23:56:...|                  []|                 [0]|\n",
      "|  37971614|2022-08-07 23:59:...|                  []|                 [3]|\n",
      "| 480577213|2022-08-07 23:58:...|                  []|                 [0]|\n",
      "| 527263904|2022-08-07 23:59:...|                  []|              [0, 0]|\n",
      "| 528451620|2022-08-07 23:56:...|                  []|           [0, 0, 0]|\n",
      "| 410809803|2022-08-07 23:58:...|[290634, 290634, ...|[38, 0, 0, 0, 0, ...|\n",
      "| 102704532|2022-08-07 23:59:...|                  []|[83, 9, 9, 83, 9,...|\n",
      "| 134754471|2022-08-07 23:58:...|                  []|[77, 77, 77, 76, ...|\n",
      "| 144275996|2022-08-07 23:59:...|                  []|                 [9]|\n",
      "| 148852211|2022-08-07 23:57:...|                  []|                [19]|\n",
      "| 192276829|2022-08-07 23:57:...|                  []|                 [0]|\n",
      "| 216576431|2022-08-07 23:58:...|                  []|                 [0]|\n",
      "| 225222776|2022-08-07 23:55:...|                  []|               [219]|\n",
      "| 271688961|2022-08-07 23:58:...|                  []|              [0, 0]|\n",
      "| 325382160|2022-08-07 23:58:...|                  []|                 [0]|\n",
      "+----------+--------------------+--------------------+--------------------+\n",
      "only showing top 20 rows"
     ]
    }
   ],
   "source": [
    "import pyspark.sql.functions as F\n",
    "from pyspark.sql.functions import collect_list\n",
    "\n",
    "res = (shopper_ids.join(domains, \"shopper_id\")\n",
    "       .groupBy(\"shopper_id\")\n",
    "       .agg(\n",
    "           F.max(\"modifytime\").alias(\"window_end_ts\"),\n",
    "           collect_list(col(\"previousregistrarid\").cast(\"long\")).alias(\"previousregistrarids\"),\n",
    "           collect_list(col(\"status\").cast(\"long\")).alias(\"statuses\")))\n",
    "res.show()"
   ]
  },
  {
   "cell_type": "code",
   "execution_count": 11,
   "id": "8db33328",
   "metadata": {},
   "outputs": [
    {
     "data": {
      "application/vnd.jupyter.widget-view+json": {
       "model_id": "",
       "version_major": 2,
       "version_minor": 0
      },
      "text/plain": [
       "FloatProgress(value=0.0, bar_style='info', description='Progress:', layout=Layout(height='25px', width='50%'),…"
      ]
     },
     "metadata": {},
     "output_type": "display_data"
    },
    {
     "name": "stdout",
     "output_type": "stream",
     "text": [
      "+----------+----------------------------------------------------------------------------------------------------------------------------------------------------------------------------------------------------------------------------------------------------------------------------------------------------------------------------------------------------------------------------------------------------------------+-------------------------------------------------------------------------------------------------------------------------------------------------------+\n",
      "|shopper_id|previousregistrarids                                                                                                                                                                                                                                                                                                                                                                                            |statuses                                                                                                                                               |\n",
      "+----------+----------------------------------------------------------------------------------------------------------------------------------------------------------------------------------------------------------------------------------------------------------------------------------------------------------------------------------------------------------------------------------------------------------------+-------------------------------------------------------------------------------------------------------------------------------------------------------+\n",
      "|280945054 |[]                                                                                                                                                                                                                                                                                                                                                                                                              |[0]                                                                                                                                                    |\n",
      "|349538039 |[]                                                                                                                                                                                                                                                                                                                                                                                                              |[0]                                                                                                                                                    |\n",
      "|272998478 |[]                                                                                                                                                                                                                                                                                                                                                                                                              |[0]                                                                                                                                                    |\n",
      "|480577213 |[]                                                                                                                                                                                                                                                                                                                                                                                                              |[0]                                                                                                                                                    |\n",
      "|527263904 |[]                                                                                                                                                                                                                                                                                                                                                                                                              |[0, 0]                                                                                                                                                 |\n",
      "|37971614  |[]                                                                                                                                                                                                                                                                                                                                                                                                              |[3]                                                                                                                                                    |\n",
      "|163443605 |[]                                                                                                                                                                                                                                                                                                                                                                                                              |[0]                                                                                                                                                    |\n",
      "|528451620 |[]                                                                                                                                                                                                                                                                                                                                                                                                              |[0, 0, 0]                                                                                                                                              |\n",
      "|231608122 |[]                                                                                                                                                                                                                                                                                                                                                                                                              |[0]                                                                                                                                                    |\n",
      "|23839928  |[]                                                                                                                                                                                                                                                                                                                                                                                                              |[0]                                                                                                                                                    |\n",
      "|410809803 |[290634, 243932, 243932, 243932, 243932, 290634, 243932, 243932, 284229, 243932, 243932, 290634, 290634, 290634, 290634, 290634, 290634, 243932, 290634, 290634, 290634, 243932, 243932, 290634, 290634, 243932, 243932, 290634, 290634, 243932, 290634, 243932, 290634, 290634, 290634, 290634, 243932, 290634, 243932, 290634, 243932, 290634, 290634, 243932, 243932, 284229, 243932, 290634, 290634, 290634]|[0, 0, 0, 0, 0, 0, 0, 0, 0, 0, 0, 0, 0, 0, 0, 0, 0, 0, 0, 0, 0, 0, 0, 0, 0, 0, 0, 0, 0, 0, 0, 0, 0, 0, 0, 0, 0, 0, 0, 0, 0, 0, 0, 0, 0, 0, 0, 0, 0, 38]|\n",
      "|216576431 |[]                                                                                                                                                                                                                                                                                                                                                                                                              |[0]                                                                                                                                                    |\n",
      "|134754471 |[]                                                                                                                                                                                                                                                                                                                                                                                                              |[76, 76, 76, 76, 76, 76, 76, 76, 76, 77, 77, 77]                                                                                                       |\n",
      "|82485417  |[]                                                                                                                                                                                                                                                                                                                                                                                                              |[12, 12]                                                                                                                                               |\n",
      "|148852211 |[]                                                                                                                                                                                                                                                                                                                                                                                                              |[19]                                                                                                                                                   |\n",
      "|349138645 |[]                                                                                                                                                                                                                                                                                                                                                                                                              |[0]                                                                                                                                                    |\n",
      "|192276829 |[]                                                                                                                                                                                                                                                                                                                                                                                                              |[0]                                                                                                                                                    |\n",
      "|528456332 |[]                                                                                                                                                                                                                                                                                                                                                                                                              |[0]                                                                                                                                                    |\n",
      "|102704532 |[]                                                                                                                                                                                                                                                                                                                                                                                                              |[9, 9, 9, 9, 9, 9, 83, 9, 9, 83, 9, 9, 83]                                                                                                             |\n",
      "|271688961 |[]                                                                                                                                                                                                                                                                                                                                                                                                              |[0, 0]                                                                                                                                                 |\n",
      "+----------+----------------------------------------------------------------------------------------------------------------------------------------------------------------------------------------------------------------------------------------------------------------------------------------------------------------------------------------------------------------------------------------------------------------+-------------------------------------------------------------------------------------------------------------------------------------------------------+\n",
      "only showing top 20 rows"
     ]
    }
   ],
   "source": [
    "from pyspark.sql.functions import collect_list\n",
    "\n",
    "df = spark.sql(\"select * from tecton_dev.domaininfo_snap\")\n",
    "df = df.groupBy(\"shopper_id\").agg(collect_list(\"previousregistrarid\").alias(\"previousregistrarids\"), collect_list(\"status\").alias(\"statuses\"))\n",
    "df.show(truncate=False)"
   ]
  },
  {
   "cell_type": "code",
   "execution_count": 1,
   "id": "e02f8ee2",
   "metadata": {},
   "outputs": [
    {
     "name": "stdout",
     "output_type": "stream",
     "text": [
      "Starting Spark application\n"
     ]
    },
    {
     "data": {
      "text/html": [
       "<table>\n",
       "<tr><th>ID</th><th>YARN Application ID</th><th>Kind</th><th>State</th><th>Spark UI</th><th>Driver log</th><th>User</th><th>Current session?</th></tr><tr><td>6</td><td>application_1660436778279_0008</td><td>pyspark</td><td>idle</td><td><a target=\"_blank\" href=\"http://ip-192-168-10-186.us-west-2.compute.internal:20888/proxy/application_1660436778279_0008/\">Link</a></td><td><a target=\"_blank\" href=\"http://ip-192-168-9-154.us-west-2.compute.internal:8042/node/containerlogs/container_1660436778279_0008_01_000001/livy\">Link</a></td><td>None</td><td>✔</td></tr></table>"
      ],
      "text/plain": [
       "<IPython.core.display.HTML object>"
      ]
     },
     "metadata": {},
     "output_type": "display_data"
    },
    {
     "data": {
      "application/vnd.jupyter.widget-view+json": {
       "model_id": "",
       "version_major": 2,
       "version_minor": 0
      },
      "text/plain": [
       "FloatProgress(value=0.0, bar_style='info', description='Progress:', layout=Layout(height='25px', width='50%'),…"
      ]
     },
     "metadata": {},
     "output_type": "display_data"
    },
    {
     "name": "stdout",
     "output_type": "stream",
     "text": [
      "SparkSession available as 'spark'.\n"
     ]
    },
    {
     "data": {
      "application/vnd.jupyter.widget-view+json": {
       "model_id": "",
       "version_major": 2,
       "version_minor": 0
      },
      "text/plain": [
       "FloatProgress(value=0.0, bar_style='info', description='Progress:', layout=Layout(height='25px', width='50%'),…"
      ]
     },
     "metadata": {},
     "output_type": "display_data"
    },
    {
     "name": "stdout",
     "output_type": "stream",
     "text": [
      "293"
     ]
    }
   ],
   "source": [
    "import tecton\n",
    "from datetime import date, datetime, timedelta\n",
    "\n",
    "ws = tecton.get_workspace('jfarr')\n",
    "fv = ws.get_feature_view('customer_domains_non_aggregated')\n",
    "\n",
    "df = fv.run(start_time=datetime(2022, 8, 7), end_time=datetime(2022, 8, 8)).to_spark()\n",
    "df.count()"
   ]
  },
  {
   "cell_type": "code",
   "execution_count": 2,
   "id": "3db4cdfa",
   "metadata": {},
   "outputs": [
    {
     "data": {
      "application/vnd.jupyter.widget-view+json": {
       "model_id": "",
       "version_major": 2,
       "version_minor": 0
      },
      "text/plain": [
       "FloatProgress(value=0.0, bar_style='info', description='Progress:', layout=Layout(height='25px', width='50%'),…"
      ]
     },
     "metadata": {},
     "output_type": "display_data"
    },
    {
     "name": "stdout",
     "output_type": "stream",
     "text": [
      "+----------+--------------------------+----------------------------------------------------------------------------------------------------------------------------------------------------------------------------------------------------------------------------------------------------------------------------------------------------------------------------------------------------------------------------------------------------------------+------------------------------------------------------------------------------------------------------------------------------------------------------+\n",
      "|shopper_id|window_end_ts             |previousregistrarid                                                                                                                                                                                                                                                                                                                                                                                             |isactiveflag                                                                                                                                          |\n",
      "+----------+--------------------------+----------------------------------------------------------------------------------------------------------------------------------------------------------------------------------------------------------------------------------------------------------------------------------------------------------------------------------------------------------------------------------------------------------------+------------------------------------------------------------------------------------------------------------------------------------------------------+\n",
      "|410809803 |2022-08-07 23:59:59.999999|[290634, 243932, 284229, 243932, 243932, 290634, 243932, 243932, 243932, 243932, 290634, 290634, 290634, 243932, 290634, 290634, 290634, 290634, 290634, 290634, 243932, 290634, 290634, 243932, 284229, 243932, 243932, 290634, 290634, 243932, 290634, 243932, 290634, 243932, 290634, 290634, 290634, 290634, 243932, 290634, 243932, 290634, 290634, 243932, 243932, 290634, 290634, 243932, 243932, 290634]|[1, 1, 1, 1, 1, 1, 1, 1, 1, 1, 1, 1, 1, 1, 1, 1, 1, 1, 1, 1, 1, 1, 1, 1, 1, 1, 1, 1, 1, 1, 1, 1, 1, 1, 1, 1, 1, 1, 1, 1, 1, 1, 1, 1, 1, 1, 1, 1, 1, 1]|\n",
      "+----------+--------------------------+----------------------------------------------------------------------------------------------------------------------------------------------------------------------------------------------------------------------------------------------------------------------------------------------------------------------------------------------------------------------------------------------------------------+------------------------------------------------------------------------------------------------------------------------------------------------------+"
     ]
    }
   ],
   "source": [
    "df2 = df.filter(df.shopper_id == \"410809803\")\n",
    "df2.show(truncate=False)"
   ]
  },
  {
   "cell_type": "code",
   "execution_count": 4,
   "id": "fd9e2329",
   "metadata": {},
   "outputs": [
    {
     "data": {
      "application/vnd.jupyter.widget-view+json": {
       "model_id": "",
       "version_major": 2,
       "version_minor": 0
      },
      "text/plain": [
       "FloatProgress(value=0.0, bar_style='info', description='Progress:', layout=Layout(height='25px', width='50%'),…"
      ]
     },
     "metadata": {},
     "output_type": "display_data"
    },
    {
     "name": "stdout",
     "output_type": "stream",
     "text": [
      "== Physical Plan ==\n",
      "AdaptiveSparkPlan (24)\n",
      "+- Project (23)\n",
      "   +- ObjectHashAggregate (22)\n",
      "      +- ObjectHashAggregate (21)\n",
      "         +- Project (20)\n",
      "            +- Filter (19)\n",
      "               +- Window (18)\n",
      "                  +- Sort (17)\n",
      "                     +- Project (16)\n",
      "                        +- BroadcastHashJoin LeftOuter BuildRight (15)\n",
      "                           :- Project (11)\n",
      "                           :  +- BroadcastHashJoin Inner BuildLeft (10)\n",
      "                           :     :- BroadcastExchange (3)\n",
      "                           :     :  +- Filter (2)\n",
      "                           :     :     +- Scan parquet tecton_dev.domaininfo_snap (1)\n",
      "                           :     +- HashAggregate (9)\n",
      "                           :        +- Exchange (8)\n",
      "                           :           +- HashAggregate (7)\n",
      "                           :              +- Project (6)\n",
      "                           :                 +- Filter (5)\n",
      "                           :                    +- Scan parquet tecton_dev.domaininfo (4)\n",
      "                           +- BroadcastExchange (14)\n",
      "                              +- Filter (13)\n",
      "                                 +- Scan parquet tecton_dev.domaininfo_status_snap (12)\n",
      "\n",
      "\n",
      "(1) Scan parquet tecton_dev.domaininfo_snap\n",
      "Output [5]: [updatedate#13, status#14, modifytime#16, shopper_id#39, previousregistrarid#40]\n",
      "Batched: true\n",
      "Location: InMemoryFileIndex [s3://gd-gdmltecton-stage-athena-queries/GD-AWS-USA-GD-gdmltecton-Ops/domaininfo_snap]\n",
      "PushedFilters: [IsNotNull(shopper_id)]\n",
      "ReadSchema: struct<updatedate:timestamp,status:int,modifytime:timestamp,shopper_id:string,previousregistrarid:int>\n",
      "\n",
      "(2) Filter\n",
      "Input [5]: [updatedate#13, status#14, modifytime#16, shopper_id#39, previousregistrarid#40]\n",
      "Condition : isnotnull(shopper_id#39)\n",
      "\n",
      "(3) BroadcastExchange\n",
      "Input [5]: [updatedate#13, status#14, modifytime#16, shopper_id#39, previousregistrarid#40]\n",
      "Arguments: HashedRelationBroadcastMode(List(input[3, string, false]),false), [id=#1135]\n",
      "\n",
      "(4) Scan parquet tecton_dev.domaininfo\n",
      "Output [3]: [tx_source_time#290, shopper_id#324, tx_date#380]\n",
      "Batched: true\n",
      "Location: InMemoryFileIndex [s3://gd-gdmltecton-stage-athena-queries/GD-AWS-USA-GD-gdmltecton-Ops/domaininfo]\n",
      "PushedFilters: [IsNotNull(tx_source_time), Or(EqualTo(tx_date,2022-08-07),EqualTo(tx_date,2022-08-08)), GreaterThanOrEqual(tx_source_time,2022-08-07 00:00:00.0), LessThan(tx_source_time,2022-08-08 00:00:00.0), IsNotNull(shopper_id)]\n",
      "ReadSchema: struct<tx_source_time:timestamp,shopper_id:string,tx_date:string>\n",
      "\n",
      "(5) Filter\n",
      "Input [3]: [tx_source_time#290, shopper_id#324, tx_date#380]\n",
      "Condition : ((((isnotnull(tx_source_time#290) AND ((tx_date#380 = 2022-08-07) OR (tx_date#380 = 2022-08-08))) AND (tx_source_time#290 >= 1659830400000000)) AND (tx_source_time#290 < 1659916800000000)) AND isnotnull(shopper_id#324))\n",
      "\n",
      "(6) Project\n",
      "Output [1]: [shopper_id#324]\n",
      "Input [3]: [tx_source_time#290, shopper_id#324, tx_date#380]\n",
      "\n",
      "(7) HashAggregate\n",
      "Input [1]: [shopper_id#324]\n",
      "Keys [1]: [shopper_id#324]\n",
      "Functions: []\n",
      "Aggregate Attributes: []\n",
      "Results [1]: [shopper_id#324]\n",
      "\n",
      "(8) Exchange\n",
      "Input [1]: [shopper_id#324]\n",
      "Arguments: hashpartitioning(shopper_id#324, 1000), ENSURE_REQUIREMENTS, [id=#1132]\n",
      "\n",
      "(9) HashAggregate\n",
      "Input [1]: [shopper_id#324]\n",
      "Keys [1]: [shopper_id#324]\n",
      "Functions: []\n",
      "Aggregate Attributes: []\n",
      "Results [1]: [shopper_id#324]\n",
      "\n",
      "(10) BroadcastHashJoin\n",
      "Left keys [1]: [shopper_id#39]\n",
      "Right keys [1]: [shopper_id#324]\n",
      "Join condition: None\n",
      "\n",
      "(11) Project\n",
      "Output [5]: [shopper_id#39, updatedate#13, status#14, modifytime#16, previousregistrarid#40]\n",
      "Input [6]: [updatedate#13, status#14, modifytime#16, shopper_id#39, previousregistrarid#40, shopper_id#324]\n",
      "\n",
      "(12) Scan parquet tecton_dev.domaininfo_status_snap\n",
      "Output [2]: [domaininfo_statusid#675, isactiveflag#679]\n",
      "Batched: true\n",
      "Location: InMemoryFileIndex [s3://gd-gdmltecton-stage-athena-queries/GD-AWS-USA-GD-gdmltecton-Ops/domaininfo_status_snap]\n",
      "PushedFilters: [IsNotNull(domaininfo_statusid)]\n",
      "ReadSchema: struct<domaininfo_statusid:int,isactiveflag:boolean>\n",
      "\n",
      "(13) Filter\n",
      "Input [2]: [domaininfo_statusid#675, isactiveflag#679]\n",
      "Condition : isnotnull(domaininfo_statusid#675)\n",
      "\n",
      "(14) BroadcastExchange\n",
      "Input [2]: [domaininfo_statusid#675, isactiveflag#679]\n",
      "Arguments: HashedRelationBroadcastMode(List(cast(input[0, int, false] as bigint)),false), [id=#1139]\n",
      "\n",
      "(15) BroadcastHashJoin\n",
      "Left keys [1]: [status#14]\n",
      "Right keys [1]: [domaininfo_statusid#675]\n",
      "Join condition: None\n",
      "\n",
      "(16) Project\n",
      "Output [4]: [shopper_id#39, previousregistrarid#40, isactiveflag#679, CASE WHEN isnull(updatedate#13) THEN modifytime#16 WHEN (updatedate#13 < modifytime#16) THEN modifytime#16 ELSE updatedate#13 END AS updatedate_nvl#1084]\n",
      "Input [7]: [shopper_id#39, updatedate#13, status#14, modifytime#16, previousregistrarid#40, domaininfo_statusid#675, isactiveflag#679]\n",
      "\n",
      "(17) Sort\n",
      "Input [4]: [shopper_id#39, previousregistrarid#40, isactiveflag#679, updatedate_nvl#1084]\n",
      "Arguments: [shopper_id#39 ASC NULLS FIRST, isactiveflag#679 DESC NULLS LAST, updatedate_nvl#1084 DESC NULLS LAST], false, 0\n",
      "\n",
      "(18) Window\n",
      "Input [4]: [shopper_id#39, previousregistrarid#40, isactiveflag#679, updatedate_nvl#1084]\n",
      "Arguments: [row_number() windowspecdefinition(shopper_id#39, isactiveflag#679 DESC NULLS LAST, updatedate_nvl#1084 DESC NULLS LAST, specifiedwindowframe(RowFrame, unboundedpreceding$(), currentrow$())) AS row_number#1227], [shopper_id#39], [isactiveflag#679 DESC NULLS LAST, updatedate_nvl#1084 DESC NULLS LAST]\n",
      "\n",
      "(19) Filter\n",
      "Input [5]: [shopper_id#39, previousregistrarid#40, isactiveflag#679, updatedate_nvl#1084, row_number#1227]\n",
      "Condition : (isnotnull(row_number#1227) AND (row_number#1227 <= 1000))\n",
      "\n",
      "(20) Project\n",
      "Output [3]: [shopper_id#39, previousregistrarid#40, isactiveflag#679]\n",
      "Input [5]: [shopper_id#39, previousregistrarid#40, isactiveflag#679, updatedate_nvl#1084, row_number#1227]\n",
      "\n",
      "(21) ObjectHashAggregate\n",
      "Input [3]: [shopper_id#39, previousregistrarid#40, isactiveflag#679]\n",
      "Keys [1]: [shopper_id#39]\n",
      "Functions [2]: [partial_collect_list(cast(previousregistrarid#40 as bigint), 0, 0), partial_collect_list(cast(isactiveflag#679 as bigint), 0, 0)]\n",
      "Aggregate Attributes [2]: [buf#1687, buf#1688]\n",
      "Results [3]: [shopper_id#39, buf#1689, buf#1690]\n",
      "\n",
      "(22) ObjectHashAggregate\n",
      "Input [3]: [shopper_id#39, buf#1689, buf#1690]\n",
      "Keys [1]: [shopper_id#39]\n",
      "Functions [2]: [collect_list(cast(previousregistrarid#40 as bigint), 0, 0), collect_list(cast(isactiveflag#679 as bigint), 0, 0)]\n",
      "Aggregate Attributes [2]: [collect_list(cast(previousregistrarid#40 as bigint), 0, 0)#1650, collect_list(cast(isactiveflag#679 as bigint), 0, 0)#1652]\n",
      "Results [3]: [shopper_id#39, collect_list(cast(previousregistrarid#40 as bigint), 0, 0)#1650 AS previousregistrarid#1651, collect_list(cast(isactiveflag#679 as bigint), 0, 0)#1652 AS isactiveflag#1653]\n",
      "\n",
      "(23) Project\n",
      "Output [4]: [shopper_id#39, 1659916799999999 AS window_end_ts#1657, previousregistrarid#1651, isactiveflag#1653]\n",
      "Input [3]: [shopper_id#39, previousregistrarid#1651, isactiveflag#1653]\n",
      "\n",
      "(24) AdaptiveSparkPlan\n",
      "Output [4]: [shopper_id#39, window_end_ts#1657, previousregistrarid#1651, isactiveflag#1653]\n",
      "Arguments: isFinalPlan=false"
     ]
    }
   ],
   "source": [
    "df.explain(mode=\"formatted\")"
   ]
  },
  {
   "cell_type": "code",
   "execution_count": 8,
   "id": "6caa5861",
   "metadata": {},
   "outputs": [
    {
     "data": {
      "application/vnd.jupyter.widget-view+json": {
       "model_id": "",
       "version_major": 2,
       "version_minor": 0
      },
      "text/plain": [
       "FloatProgress(value=0.0, bar_style='info', description='Progress:', layout=Layout(height='25px', width='50%'),…"
      ]
     },
     "metadata": {},
     "output_type": "display_data"
    },
    {
     "name": "stdout",
     "output_type": "stream",
     "text": [
      "+----------+--------------------------+------------------------------------------------------------------------------------------------------------------------------------------------------+\n",
      "|shopper_id|window_end_ts             |isactiveflag                                                                                                                                          |\n",
      "+----------+--------------------------+------------------------------------------------------------------------------------------------------------------------------------------------------+\n",
      "|410809803 |2022-08-16 23:59:59.999999|[1, 1, 1, 1, 1, 1, 1, 1, 1, 1, 1, 1, 1, 1, 1, 1, 1, 1, 1, 1, 1, 1, 1, 1, 1, 1, 1, 1, 1, 1, 1, 1, 1, 1, 1, 1, 1, 1, 1, 1, 1, 1, 1, 1, 1, 1, 1, 1, 1, 1]|\n",
      "+----------+--------------------------+------------------------------------------------------------------------------------------------------------------------------------------------------+"
     ]
    }
   ],
   "source": [
    "import pandas\n",
    "import tecton\n",
    "from datetime import datetime\n",
    "\n",
    "ws = tecton.get_workspace('jfarr')\n",
    "fv = ws.get_feature_view('customer_domains_non_aggregated')\n",
    "\n",
    "df = fv.run(start_time=datetime(2022, 1, 1), end_time=datetime(2022, 8, 17)).to_spark()\n",
    "df = df.filter(df.shopper_id == \"410809803\").select(\"shopper_id\", \"window_end_ts\", \"isactiveflag\")\n",
    "df.show(truncate=False)"
   ]
  },
  {
   "cell_type": "code",
   "execution_count": 3,
   "id": "edf3ea2e",
   "metadata": {},
   "outputs": [
    {
     "data": {
      "application/vnd.jupyter.widget-view+json": {
       "model_id": "",
       "version_major": 2,
       "version_minor": 0
      },
      "text/plain": [
       "FloatProgress(value=0.0, bar_style='info', description='Progress:', layout=Layout(height='25px', width='50%'),…"
      ]
     },
     "metadata": {},
     "output_type": "display_data"
    },
    {
     "name": "stderr",
     "output_type": "stream",
     "text": [
      "An error was encountered:\n",
      "Cannot provide parameters start_time, end_time, entities if the spine parameter is provided\n",
      "Traceback (most recent call last):\n",
      "  File \"/usr/local/lib/python3.7/site-packages/tecton/_internals/sdk_decorators.py\", line 64, in _sdk_public_method_wrapper\n",
      "    func, args, kwargs, arg_names, analytics is not None, not already_in_wrapper, typecheck=True\n",
      "  File \"/usr/local/lib/python3.7/site-packages/tecton/_internals/sdk_decorators.py\", line 163, in _invoke_and_transform_errors\n",
      "    raise exception_to_throw from original_exception\n",
      "  File \"/usr/local/lib/python3.7/site-packages/tecton/_internals/sdk_decorators.py\", line 113, in _invoke_and_transform_errors\n",
      "    return_value = func(*args, **kwargs)\n",
      "  File \"/usr/local/lib/python3.7/site-packages/typeguard/__init__.py\", line 1033, in wrapper\n",
      "    retval = func(*args, **kwargs)\n",
      "  File \"/usr/local/lib/python3.7/site-packages/tecton/interactive/feature_view.py\", line 232, in get_historical_features\n",
      "    spine, timestamp_key, start_time, end_time, entities, from_source, save, save_as\n",
      "  File \"/usr/local/lib/python3.7/site-packages/tecton/interactive/feature_definition.py\", line 232, in _get_historical_features\n",
      "    [\"start_time\", \"end_time\", \"entities\"], \"the spine parameter is provided\"\n",
      "tecton.tecton_errors.TectonValidationError: Cannot provide parameters start_time, end_time, entities if the spine parameter is provided\n",
      "\n"
     ]
    }
   ],
   "source": [
    "import pandas\n",
    "import tecton\n",
    "from datetime import datetime\n",
    "\n",
    "ws = tecton.get_workspace('jfarr')\n",
    "fv = ws.get_feature_view('customer_domains_non_aggregated')\n",
    "\n",
    "spine = pandas.DataFrame({'shopper_id': ['410809803'], 'window_end_ts': datetime(2022, 8, 17)})\n",
    "\n",
    "fv.get_historical_features(spine, from_source=True).to_spark().show(truncate=False)"
   ]
  },
  {
   "cell_type": "code",
   "execution_count": 7,
   "id": "5c706218",
   "metadata": {},
   "outputs": [
    {
     "data": {
      "application/vnd.jupyter.widget-view+json": {
       "model_id": "",
       "version_major": 2,
       "version_minor": 0
      },
      "text/plain": [
       "FloatProgress(value=0.0, bar_style='info', description='Progress:', layout=Layout(height='25px', width='50%'),…"
      ]
     },
     "metadata": {},
     "output_type": "display_data"
    },
    {
     "name": "stdout",
     "output_type": "stream",
     "text": [
      "+----------+-------------+-------------------+------------+\n",
      "|shopper_id|window_end_ts|previousregistrarid|isactiveflag|\n",
      "+----------+-------------+-------------------+------------+\n",
      "+----------+-------------+-------------------+------------+"
     ]
    }
   ],
   "source": [
    "import tecton\n",
    "from datetime import datetime\n",
    "\n",
    "ws = tecton.get_workspace('jfarr')\n",
    "fv = ws.get_feature_view('customer_domains_non_aggregated')\n",
    "\n",
    "fv.run().to_spark().show(truncate=False)"
   ]
  },
  {
   "cell_type": "code",
   "execution_count": 9,
   "id": "fe655ca6",
   "metadata": {},
   "outputs": [
    {
     "data": {
      "application/vnd.jupyter.widget-view+json": {
       "model_id": "",
       "version_major": 2,
       "version_minor": 0
      },
      "text/plain": [
       "FloatProgress(value=0.0, bar_style='info', description='Progress:', layout=Layout(height='25px', width='50%'),…"
      ]
     },
     "metadata": {},
     "output_type": "display_data"
    },
    {
     "name": "stderr",
     "output_type": "stream",
     "text": [
      "An error was encountered:\n",
      "Feature definition 'customer_domains_non_aggregated' doesn't have any materialized data. Materialization jobs may not have updated the offline feature store yet. Please monitor using materialization_status() or use from_source=True to compute from source data.\n",
      "Traceback (most recent call last):\n",
      "  File \"/usr/local/lib/python3.7/site-packages/tecton/_internals/sdk_decorators.py\", line 64, in _sdk_public_method_wrapper\n",
      "    func, args, kwargs, arg_names, analytics is not None, not already_in_wrapper, typecheck=True\n",
      "  File \"/usr/local/lib/python3.7/site-packages/tecton/_internals/sdk_decorators.py\", line 163, in _invoke_and_transform_errors\n",
      "    raise exception_to_throw from original_exception\n",
      "  File \"/usr/local/lib/python3.7/site-packages/tecton/_internals/sdk_decorators.py\", line 113, in _invoke_and_transform_errors\n",
      "    return_value = func(*args, **kwargs)\n",
      "  File \"/usr/local/lib/python3.7/site-packages/typeguard/__init__.py\", line 1033, in wrapper\n",
      "    retval = func(*args, **kwargs)\n",
      "  File \"/usr/local/lib/python3.7/site-packages/tecton/interactive/feature_view.py\", line 232, in get_historical_features\n",
      "    spine, timestamp_key, start_time, end_time, entities, from_source, save, save_as\n",
      "  File \"/usr/local/lib/python3.7/site-packages/tecton/interactive/feature_definition.py\", line 241, in _get_historical_features\n",
      "    df = self._point_in_time_join(spine, timestamp_key, from_source)\n",
      "  File \"/usr/local/lib/python3.7/site-packages/tecton/interactive/feature_definition.py\", line 209, in _point_in_time_join\n",
      "    spark, spine, feature_set_config, timestamp_key=timestamp_key, from_source=from_source\n",
      "  File \"/usr/local/lib/python3.7/site-packages/tecton/_internals/data_frame_helper.py\", line 426, in get_features_for_spine\n",
      "    spine_time_limits=spine_time_limits,\n",
      "  File \"/usr/local/lib/python3.7/site-packages/tecton/_internals/data_frame_helper.py\", line 79, in build\n",
      "    namespace=self.namespace,\n",
      "  File \"/usr/local/lib/python3.7/site-packages/tecton/_internals/data_frame_helper.py\", line 576, in _get_feature_dataframe_with_limits\n",
      "    raise errors.FV_NO_MATERIALIZED_DATA(fd.name)\n",
      "tecton.tecton_errors.TectonValidationError: Feature definition 'customer_domains_non_aggregated' doesn't have any materialized data. Materialization jobs may not have updated the offline feature store yet. Please monitor using materialization_status() or use from_source=True to compute from source data.\n",
      "\n"
     ]
    }
   ],
   "source": [
    "import pandas\n",
    "import tecton\n",
    "from datetime import datetime\n",
    "\n",
    "ws = tecton.get_workspace('tecton_integration_testing')\n",
    "fv = ws.get_feature_view('customer_domains_non_aggregated')\n",
    "\n",
    "spine = pandas.DataFrame({'shopper_id': ['410809803'], 'window_end_ts': datetime(2022, 8, 16)})\n",
    "\n",
    "fv.get_historical_features(spine).to_spark().show(truncate=False)"
   ]
  },
  {
   "cell_type": "code",
   "execution_count": 15,
   "id": "e08d14c2",
   "metadata": {},
   "outputs": [
    {
     "data": {
      "application/vnd.jupyter.widget-view+json": {
       "model_id": "",
       "version_major": 2,
       "version_minor": 0
      },
      "text/plain": [
       "FloatProgress(value=0.0, bar_style='info', description='Progress:', layout=Layout(height='25px', width='50%'),…"
      ]
     },
     "metadata": {},
     "output_type": "display_data"
    },
    {
     "name": "stdout",
     "output_type": "stream",
     "text": [
      "+----------+----------------------------------------------------------------------------------------------------------------------------------------------------------------------------------------------------------------------------------------------------------------------------------------------------------------------------------------------------------------------------------------------------------------+-------------------------------------------------------------------------------------------------------------------------------------------------------+-------------------+\n",
      "|shopper_id|previousregistrarids                                                                                                                                                                                                                                                                                                                                                                                            |statuses                                                                                                                                               |window_end_ts      |\n",
      "+----------+----------------------------------------------------------------------------------------------------------------------------------------------------------------------------------------------------------------------------------------------------------------------------------------------------------------------------------------------------------------------------------------------------------------+-------------------------------------------------------------------------------------------------------------------------------------------------------+-------------------+\n",
      "|163443605 |[]                                                                                                                                                                                                                                                                                                                                                                                                              |[0]                                                                                                                                                    |2022-08-09 00:00:00|\n",
      "|231608122 |[]                                                                                                                                                                                                                                                                                                                                                                                                              |[0]                                                                                                                                                    |2022-08-09 00:00:00|\n",
      "|23839928  |[]                                                                                                                                                                                                                                                                                                                                                                                                              |[0]                                                                                                                                                    |2022-08-09 00:00:00|\n",
      "|272998478 |[]                                                                                                                                                                                                                                                                                                                                                                                                              |[0]                                                                                                                                                    |2022-08-09 00:00:00|\n",
      "|280945054 |[]                                                                                                                                                                                                                                                                                                                                                                                                              |[0]                                                                                                                                                    |2022-08-09 00:00:00|\n",
      "|349538039 |[]                                                                                                                                                                                                                                                                                                                                                                                                              |[0]                                                                                                                                                    |2022-08-09 00:00:00|\n",
      "|37971614  |[]                                                                                                                                                                                                                                                                                                                                                                                                              |[3]                                                                                                                                                    |2022-08-09 00:00:00|\n",
      "|480577213 |[]                                                                                                                                                                                                                                                                                                                                                                                                              |[0]                                                                                                                                                    |2022-08-09 00:00:00|\n",
      "|527263904 |[]                                                                                                                                                                                                                                                                                                                                                                                                              |[0, 0]                                                                                                                                                 |2022-08-09 00:00:00|\n",
      "|528451620 |[]                                                                                                                                                                                                                                                                                                                                                                                                              |[0, 0, 0]                                                                                                                                              |2022-08-09 00:00:00|\n",
      "|410809803 |[290634, 290634, 243932, 243932, 243932, 243932, 290634, 243932, 243932, 284229, 243932, 243932, 290634, 290634, 290634, 290634, 290634, 290634, 243932, 290634, 290634, 290634, 243932, 243932, 290634, 290634, 243932, 243932, 290634, 290634, 243932, 290634, 243932, 290634, 290634, 290634, 290634, 243932, 290634, 243932, 290634, 243932, 290634, 290634, 243932, 243932, 284229, 243932, 290634, 290634]|[38, 0, 0, 0, 0, 0, 0, 0, 0, 0, 0, 0, 0, 0, 0, 0, 0, 0, 0, 0, 0, 0, 0, 0, 0, 0, 0, 0, 0, 0, 0, 0, 0, 0, 0, 0, 0, 0, 0, 0, 0, 0, 0, 0, 0, 0, 0, 0, 0, 0]|2022-08-09 00:00:00|\n",
      "|102704532 |[]                                                                                                                                                                                                                                                                                                                                                                                                              |[83, 9, 9, 83, 9, 9, 83, 9, 9, 9, 9, 9, 9]                                                                                                             |2022-08-09 00:00:00|\n",
      "|134754471 |[]                                                                                                                                                                                                                                                                                                                                                                                                              |[77, 77, 77, 76, 76, 76, 76, 76, 76, 76, 76, 76]                                                                                                       |2022-08-09 00:00:00|\n",
      "|144275996 |[]                                                                                                                                                                                                                                                                                                                                                                                                              |[9]                                                                                                                                                    |2022-08-09 00:00:00|\n",
      "|148852211 |[]                                                                                                                                                                                                                                                                                                                                                                                                              |[19]                                                                                                                                                   |2022-08-09 00:00:00|\n",
      "|192276829 |[]                                                                                                                                                                                                                                                                                                                                                                                                              |[0]                                                                                                                                                    |2022-08-09 00:00:00|\n",
      "|216576431 |[]                                                                                                                                                                                                                                                                                                                                                                                                              |[0]                                                                                                                                                    |2022-08-09 00:00:00|\n",
      "|225222776 |[]                                                                                                                                                                                                                                                                                                                                                                                                              |[219]                                                                                                                                                  |2022-08-09 00:00:00|\n",
      "|271688961 |[]                                                                                                                                                                                                                                                                                                                                                                                                              |[0, 0]                                                                                                                                                 |2022-08-09 00:00:00|\n",
      "|325382160 |[]                                                                                                                                                                                                                                                                                                                                                                                                              |[0]                                                                                                                                                    |2022-08-09 00:00:00|\n",
      "+----------+----------------------------------------------------------------------------------------------------------------------------------------------------------------------------------------------------------------------------------------------------------------------------------------------------------------------------------------------------------------------------------------------------------------+-------------------------------------------------------------------------------------------------------------------------------------------------------+-------------------+\n",
      "only showing top 20 rows"
     ]
    }
   ],
   "source": [
    "import tecton\n",
    "from datetime import datetime\n",
    "\n",
    "ws = tecton.get_workspace('jfarr')\n",
    "fv = ws.get_feature_view('customer_domain_sequence_categorical')\n",
    "\n",
    "fv.get_historical_features(from_source=True).to_spark().show(truncate=False)"
   ]
  },
  {
   "cell_type": "code",
   "execution_count": 3,
   "id": "11e6999c",
   "metadata": {},
   "outputs": [
    {
     "data": {
      "application/vnd.jupyter.widget-view+json": {
       "model_id": "",
       "version_major": 2,
       "version_minor": 0
      },
      "text/plain": [
       "FloatProgress(value=0.0, bar_style='info', description='Progress:', layout=Layout(height='25px', width='50%'),…"
      ]
     },
     "metadata": {},
     "output_type": "display_data"
    },
    {
     "name": "stdout",
     "output_type": "stream",
     "text": [
      "+----------+--------------------+--------------------+\n",
      "|shopper_id|       window_end_ts|         domain_info|\n",
      "+----------+--------------------+--------------------+\n",
      "|  54662096|2022-08-07 23:59:...|{\"id\":251676855,\"...|\n",
      "|  37971614|2022-08-07 23:59:...|{\"id\":86220132,\"s...|\n",
      "| 222127346|2022-08-07 23:59:...|{\"id\":350054350,\"...|\n",
      "| 498491248|2022-08-07 23:59:...|{\"id\":375818286,\"...|\n",
      "| 498491248|2022-08-07 23:59:...|{\"id\":375818275,\"...|\n",
      "| 498491248|2022-08-07 23:59:...|{\"id\":375818285,\"...|\n",
      "| 402471167|2022-08-07 23:59:...|{\"id\":375818261,\"...|\n",
      "| 402471167|2022-08-07 23:59:...|{\"id\":375818260,\"...|\n",
      "| 102704532|2022-08-07 23:59:...|{\"id\":351847450,\"...|\n",
      "| 498491248|2022-08-07 23:59:...|{\"id\":375818274,\"...|\n",
      "| 498491248|2022-08-07 23:59:...|{\"id\":375818281,\"...|\n",
      "| 498491248|2022-08-07 23:59:...|{\"id\":375818278,\"...|\n",
      "| 498491248|2022-08-07 23:59:...|{\"id\":375818280,\"...|\n",
      "| 224725250|2022-08-07 23:59:...|{\"id\":375818271,\"...|\n",
      "| 498491248|2022-08-07 23:59:...|{\"id\":375818273,\"...|\n",
      "| 498491248|2022-08-07 23:59:...|{\"id\":375818279,\"...|\n",
      "| 498491248|2022-08-07 23:59:...|{\"id\":375818283,\"...|\n",
      "| 498491248|2022-08-07 23:59:...|{\"id\":375818284,\"...|\n",
      "| 498491248|2022-08-07 23:59:...|{\"id\":375818282,\"...|\n",
      "| 363674003|2022-08-07 23:59:...|{\"id\":375818270,\"...|\n",
      "+----------+--------------------+--------------------+\n",
      "only showing top 20 rows"
     ]
    }
   ],
   "source": [
    "df = spark.sql(\"\"\"\n",
    "SELECT\n",
    "      shopper_id,\n",
    "      modifytime AS window_end_ts,\n",
    "      to_json(struct(id, previousregistrarid, status)) domain_info\n",
    "    FROM tecton_dev.domaininfo_snap\n",
    "\"\"\")\n",
    "df.show()"
   ]
  },
  {
   "cell_type": "code",
   "execution_count": null,
   "id": "870692c2",
   "metadata": {},
   "outputs": [
    {
     "name": "stdout",
     "output_type": "stream",
     "text": [
      "Starting Spark application\n"
     ]
    },
    {
     "data": {
      "text/html": [
       "<table>\n",
       "<tr><th>ID</th><th>YARN Application ID</th><th>Kind</th><th>State</th><th>Spark UI</th><th>Driver log</th><th>User</th><th>Current session?</th></tr><tr><td>18</td><td>application_1654791728796_0020</td><td>pyspark</td><td>idle</td><td><a target=\"_blank\" href=\"http://ip-192-168-11-120.us-west-2.compute.internal:20888/proxy/application_1654791728796_0020/\">Link</a></td><td><a target=\"_blank\" href=\"http://ip-192-168-10-34.us-west-2.compute.internal:8042/node/containerlogs/container_1654791728796_0020_01_000001/livy\">Link</a></td><td>None</td><td>✔</td></tr></table>"
      ],
      "text/plain": [
       "<IPython.core.display.HTML object>"
      ]
     },
     "metadata": {},
     "output_type": "display_data"
    },
    {
     "data": {
      "application/vnd.jupyter.widget-view+json": {
       "model_id": "",
       "version_major": 2,
       "version_minor": 0
      },
      "text/plain": [
       "FloatProgress(value=0.0, bar_style='info', description='Progress:', layout=Layout(height='25px', width='50%'),…"
      ]
     },
     "metadata": {},
     "output_type": "display_data"
    },
    {
     "name": "stdout",
     "output_type": "stream",
     "text": [
      "SparkSession available as 'spark'.\n"
     ]
    },
    {
     "data": {
      "application/vnd.jupyter.widget-view+json": {
       "model_id": "efc4dce58a2742b5a2467cf5f0b0b2f7",
       "version_major": 2,
       "version_minor": 0
      },
      "text/plain": [
       "FloatProgress(value=0.0, bar_style='info', description='Progress:', layout=Layout(height='25px', width='50%'),…"
      ]
     },
     "metadata": {},
     "output_type": "display_data"
    },
    {
     "name": "stderr",
     "output_type": "stream",
     "text": [
      "An error was encountered:\n",
      "Invalid status code '400' from http://tecton-notebook-emr-master.cluster.internal:8998/sessions/18/statements/1 with error payload: {\"msg\":\"requirement failed: Session isn't active.\"}\n"
     ]
    }
   ],
   "source": [
    "#%%time\n",
    "import tecton\n",
    "import pandas as pd\n",
    "import pyspark.sql.functions as F\n",
    "\n",
    "dataset_location = \"s3://gd-gdmltecton-stage-feature-data/wdd-model/wdd_us_labeled_20211105/full.parquet/dataset_00000_no_orders.parquet/\"\n",
    "wdd_df = spark.read.parquet(dataset_location)\n",
    "spine = (wdd_df\n",
    "         .select('shopper_id')\n",
    "         .withColumn('bill_modified_mst_ts', F.lit(pd.Timestamp('2022-05-21 12:00Z')))\n",
    "        )\n",
    "spine.cache().limit(10).show()\n",
    "fs = tecton.get_workspace('prod').get_feature_service('order_summary')\n",
    "output_df = fs.get_historical_features(spine).to_spark()\n",
    "output_df.printSchema()\n",
    "output_df.cache().limit(10).show()"
   ]
  },
  {
   "cell_type": "code",
   "execution_count": 1,
   "id": "ea486f82",
   "metadata": {
    "scrolled": true
   },
   "outputs": [
    {
     "name": "stdout",
     "output_type": "stream",
     "text": [
      "Starting Spark application\n"
     ]
    },
    {
     "data": {
      "text/html": [
       "<table>\n",
       "<tr><th>ID</th><th>YARN Application ID</th><th>Kind</th><th>State</th><th>Spark UI</th><th>Driver log</th><th>User</th><th>Current session?</th></tr><tr><td>39</td><td>application_1654791728796_0041</td><td>pyspark</td><td>idle</td><td><a target=\"_blank\" href=\"http://ip-192-168-11-120.us-west-2.compute.internal:20888/proxy/application_1654791728796_0041/\">Link</a></td><td><a target=\"_blank\" href=\"http://ip-192-168-11-102.us-west-2.compute.internal:8042/node/containerlogs/container_1654791728796_0041_01_000001/livy\">Link</a></td><td>None</td><td>✔</td></tr></table>"
      ],
      "text/plain": [
       "<IPython.core.display.HTML object>"
      ]
     },
     "metadata": {},
     "output_type": "display_data"
    },
    {
     "data": {
      "application/vnd.jupyter.widget-view+json": {
       "model_id": "",
       "version_major": 2,
       "version_minor": 0
      },
      "text/plain": [
       "FloatProgress(value=0.0, bar_style='info', description='Progress:', layout=Layout(height='25px', width='50%'),…"
      ]
     },
     "metadata": {},
     "output_type": "display_data"
    },
    {
     "name": "stdout",
     "output_type": "stream",
     "text": [
      "SparkSession available as 'spark'.\n"
     ]
    },
    {
     "data": {
      "application/vnd.jupyter.widget-view+json": {
       "model_id": "",
       "version_major": 2,
       "version_minor": 0
      },
      "text/plain": [
       "FloatProgress(value=0.0, bar_style='info', description='Progress:', layout=Layout(height='25px', width='50%'),…"
      ]
     },
     "metadata": {},
     "output_type": "display_data"
    }
   ],
   "source": [
    "import tecton\n",
    "from datetime import date, datetime, timedelta\n",
    "\n",
    "ws = tecton.get_workspace('tecton_integration_testing')\n",
    "fv = ws.get_feature_view('last_order')\n",
    "df = fv.get_historical_features(start_time=datetime(2022, 5, 1), end_time=datetime(2022, 5, 2)).to_spark()"
   ]
  },
  {
   "cell_type": "code",
   "execution_count": 2,
   "id": "0d8c358b",
   "metadata": {},
   "outputs": [
    {
     "data": {
      "application/vnd.jupyter.widget-view+json": {
       "model_id": "",
       "version_major": 2,
       "version_minor": 0
      },
      "text/plain": [
       "FloatProgress(value=0.0, bar_style='info', description='Progress:', layout=Layout(height='25px', width='50%'),…"
      ]
     },
     "metadata": {},
     "output_type": "display_data"
    },
    {
     "name": "stdout",
     "output_type": "stream",
     "text": [
      "886"
     ]
    }
   ],
   "source": [
    "df.count()"
   ]
  },
  {
   "cell_type": "code",
   "execution_count": 3,
   "id": "190ac8e8",
   "metadata": {
    "scrolled": true
   },
   "outputs": [
    {
     "data": {
      "application/vnd.jupyter.widget-view+json": {
       "model_id": "",
       "version_major": 2,
       "version_minor": 0
      },
      "text/plain": [
       "FloatProgress(value=0.0, bar_style='info', description='Progress:', layout=Layout(height='25px', width='50%'),…"
      ]
     },
     "metadata": {},
     "output_type": "display_data"
    },
    {
     "name": "stdout",
     "output_type": "stream",
     "text": [
      "+----------+-----------------------+----------------------------+-------------+-------------------------+----------------------+-----------------+--------------------+--------------------+\n",
      "|shopper_id|crm_portfolio_type_name|c3_call_center_location_name|reseller_name|primary_payment_type_name|point_of_purchase_name|bill_sub_geo_code|  purchase_path_name|bill_modified_mst_ts|\n",
      "+----------+-----------------------+----------------------------+-------------+-------------------------+----------------------+-----------------+--------------------+--------------------+\n",
      "| 154082776|                   null|                         Web|  GoDaddy.com|              credit card|                   Web|               DL|          My Account| 2022-05-01 09:33:30|\n",
      "| 313725266|                   null|                         Web|  GoDaddy.com|              credit card|                   Web|         ÜMRANİYE|Domain Purchase Path| 2022-05-01 12:16:31|\n",
      "| 464833795|                   null|                         Web|  GoDaddy.com|                     null|                   Web|               MA|             Unknown| 2022-05-01 18:50:32|\n",
      "|  18720759|                   null|                         Web|  GoDaddy.com|              credit card|                   Web|               GA|          My Account| 2022-05-01 16:09:24|\n",
      "| 217597067|                   null|        India - Teleperfo...|  GoDaddy.com|                     null|                    C3|            ESSEX|             Unknown| 2022-05-01 10:11:24|\n",
      "| 383620163|                   null|                   Barcelona|  GoDaddy.com|              credit card|                    C3|      WEST SUSSEX|          My Account| 2022-05-01 09:01:04|\n",
      "| 467662066|                   null|                         Web|  GoDaddy.com|              credit card|                   Web|          NAIROBI|     Domains - DCC 6| 2022-05-01 00:46:31|\n",
      "|  47493587|                   null|                         Web|  GoDaddy.com|              credit card|                   Web|               TX|Domain Purchase Path| 2022-05-01 07:53:35|\n",
      "|  52215415|                   null|                         Web|  GoDaddy.com|              credit card|                   Web|               FL|     Domains - DCC 6| 2022-05-01 08:53:39|\n",
      "| 135885181|   Premier Services ...|             India - Genpact|  GoDaddy.com|             bank payment|                   Web|               PB|Domain Purchase Path| 2022-05-01 22:55:03|\n",
      "|  14941693|   Platinum Tier Loy...|                         Web|  GoDaddy.com|              credit card|                   Web|               FL|                Cart| 2022-05-01 02:33:53|\n",
      "| 476988523|                   null|                         Web|  GoDaddy.com|              credit card|                   Web|             서울|   DNA Purchase Path| 2022-05-01 03:21:48|\n",
      "|    723065|                   null|                         Web|  GoDaddy.com|              credit card|                   Web|               AZ|Domain Purchase Path| 2022-05-01 00:00:35|\n",
      "| 119085127|                   null|                         Web|  GoDaddy.com|              credit card|                   Web|               TX|             Unknown| 2022-05-01 15:51:41|\n",
      "| 185103765|                   null|                         Web|  GoDaddy.com|                   paypal|                   Web|            SOFIA|Domain Purchase Path| 2022-05-01 01:04:09|\n",
      "| 273881289|                   null|                Manila - SGS|  GoDaddy.com|                     null|                    C3|               TX|             Unknown| 2022-05-01 13:24:17|\n",
      "| 329651213|                   null|                         Web|  GoDaddy.com|                   paypal|                   Web|               VA| Single Landing Page| 2022-05-01 00:23:11|\n",
      "|  61020537|                   null|             India - Genpact|  GoDaddy.com|             bank payment|                   Web|               MH|          My Account| 2022-05-01 19:10:41|\n",
      "|  93557103|                   null|                         Web|  GoDaddy.com|              credit card|                   Web|               AL|Domain Purchase Path| 2022-05-01 20:00:46|\n",
      "| 106195663|                   null|                         Web|  GoDaddy.com|              credit card|                   Web|               CO|Domain Purchase Path| 2022-05-01 00:10:59|\n",
      "+----------+-----------------------+----------------------------+-------------+-------------------------+----------------------+-----------------+--------------------+--------------------+\n",
      "only showing top 20 rows"
     ]
    }
   ],
   "source": [
    "df.show()"
   ]
  },
  {
   "cell_type": "code",
   "execution_count": 4,
   "id": "276a7182",
   "metadata": {},
   "outputs": [
    {
     "data": {
      "application/vnd.jupyter.widget-view+json": {
       "model_id": "",
       "version_major": 2,
       "version_minor": 0
      },
      "text/plain": [
       "FloatProgress(value=0.0, bar_style='info', description='Progress:', layout=Layout(height='25px', width='50%'),…"
      ]
     },
     "metadata": {},
     "output_type": "display_data"
    }
   ],
   "source": [
    "df2 = df.filter(df.shopper_id == '86293255')"
   ]
  },
  {
   "cell_type": "code",
   "execution_count": 5,
   "id": "f12aeca5",
   "metadata": {},
   "outputs": [
    {
     "data": {
      "application/vnd.jupyter.widget-view+json": {
       "model_id": "",
       "version_major": 2,
       "version_minor": 0
      },
      "text/plain": [
       "FloatProgress(value=0.0, bar_style='info', description='Progress:', layout=Layout(height='25px', width='50%'),…"
      ]
     },
     "metadata": {},
     "output_type": "display_data"
    },
    {
     "name": "stdout",
     "output_type": "stream",
     "text": [
      "+----------+-----------------------+----------------------------+-------------+-------------------------+----------------------+-----------------+------------------+--------------------+\n",
      "|shopper_id|crm_portfolio_type_name|c3_call_center_location_name|reseller_name|primary_payment_type_name|point_of_purchase_name|bill_sub_geo_code|purchase_path_name|bill_modified_mst_ts|\n",
      "+----------+-----------------------+----------------------------+-------------+-------------------------+----------------------+-----------------+------------------+--------------------+\n",
      "|  86293255|   Premier Services ...|                       Tempe|  GoDaddy.com|                     null|                    C3|                -|           Unknown| 2022-05-01 08:58:57|\n",
      "+----------+-----------------------+----------------------------+-------------+-------------------------+----------------------+-----------------+------------------+--------------------+"
     ]
    }
   ],
   "source": [
    "df2.show()"
   ]
  },
  {
   "cell_type": "code",
   "execution_count": 10,
   "id": "fcb53700",
   "metadata": {},
   "outputs": [
    {
     "data": {
      "application/vnd.jupyter.widget-view+json": {
       "model_id": "",
       "version_major": 2,
       "version_minor": 0
      },
      "text/plain": [
       "FloatProgress(value=0.0, bar_style='info', description='Progress:', layout=Layout(height='25px', width='50%'),…"
      ]
     },
     "metadata": {},
     "output_type": "display_data"
    },
    {
     "name": "stdout",
     "output_type": "stream",
     "text": [
      "+----------+---------------------------+------------------------------+---------------------------+--------------------+\n",
      "|shopper_id|website_builder_order_count|website_builder_total_quantity|website_builder_total_spent|       window_end_ts|\n",
      "+----------+---------------------------+------------------------------+---------------------------+--------------------+\n",
      "|    915766|                          1|                             1|                      14.95|2022-03-22 23:59:...|\n",
      "|    337695|                          1|                             1|                      29.95|2022-03-22 23:59:...|\n",
      "|    851980|                          1|                             1|                      14.95|2022-03-22 23:59:...|\n",
      "|    114266|                          3|                             3|                      149.9|2022-03-22 23:59:...|\n",
      "|    358711|                          1|                             1|                      49.95|2022-03-22 23:59:...|\n",
      "|   2259571|                          1|                             1|                       4.95|2022-03-22 23:59:...|\n",
      "|    445563|                          1|                             1|                      14.95|2022-03-22 23:59:...|\n",
      "|    939869|                          1|                             1|                      14.95|2022-03-22 23:59:...|\n",
      "|   1065103|                          1|                             1|                       4.95|2022-03-22 23:59:...|\n",
      "|   2843227|                          1|                             1|                      11.95|2022-03-22 23:59:...|\n",
      "|   2430048|                          1|                             1|                       8.95|2022-03-22 23:59:...|\n",
      "|   3874122|                          1|                            12|                      85.92|2022-03-22 23:59:...|\n",
      "|   4118073|                          1|                             1|                       4.95|2022-03-22 23:59:...|\n",
      "|   4006615|                          1|                             1|                       4.95|2022-03-22 23:59:...|\n",
      "|   2360894|                          1|                             1|                       8.95|2022-03-22 23:59:...|\n",
      "|    142991|                          1|                             1|                        0.0|2022-03-22 23:59:...|\n",
      "|    143637|                          1|                             1|                        0.0|2022-03-22 23:59:...|\n",
      "|    148876|                          1|                             1|                        0.0|2022-03-22 23:59:...|\n",
      "|   1686409|                          1|                             1|                     199.95|2022-03-22 23:59:...|\n",
      "|    132086|                          1|                             1|                        0.0|2022-03-22 23:59:...|\n",
      "+----------+---------------------------+------------------------------+---------------------------+--------------------+\n",
      "only showing top 20 rows"
     ]
    }
   ],
   "source": [
    "import tecton\n",
    "from datetime import date, datetime, timedelta\n",
    "\n",
    "fv = tecton.get_feature_view('website_builder_orders_lifetime')\n",
    "start_time=datetime(2020, 5, 1)\n",
    "end_time=datetime(2022, 5, 23)\n",
    "df=fv.get_historical_features(start_time=start_time, end_time=end_time).to_spark()\n",
    "df.show()"
   ]
  },
  {
   "cell_type": "code",
   "execution_count": 5,
   "id": "ce2e5612",
   "metadata": {},
   "outputs": [
    {
     "data": {
      "application/vnd.jupyter.widget-view+json": {
       "model_id": "",
       "version_major": 2,
       "version_minor": 0
      },
      "text/plain": [
       "FloatProgress(value=0.0, bar_style='info', description='Progress:', layout=Layout(height='25px', width='50%'),…"
      ]
     },
     "metadata": {},
     "output_type": "display_data"
    },
    {
     "name": "stdout",
     "output_type": "stream",
     "text": [
      "+----------+--------------------------------------------+--------------------------------------+-------------------+\n",
      "|shopper_id|website_builder_receipt_price_amt_sum_90d_1d|website_builder_receipt_qty_sum_90d_1d|      window_end_ts|\n",
      "+----------+--------------------------------------------+--------------------------------------+-------------------+\n",
      "| 100001164|                                         0.0|                                     1|2022-05-16 00:00:00|\n",
      "|  10002539|                                      191.88|                                     1|2022-05-02 00:00:00|\n",
      "| 100031407|                                         0.0|                                     1|2022-04-11 00:00:00|\n",
      "| 100031407|                                         0.0|                                     2|2022-05-11 00:00:00|\n",
      "| 100038789|                                         0.0|                                     1|2022-05-11 00:00:00|\n",
      "|  10003896|                                       20.99|                                     1|2022-04-18 00:00:00|\n",
      "|  10003896|                                       20.99|                                     2|2022-05-13 00:00:00|\n",
      "|  10003896|                                       41.98|                                     3|2022-05-18 00:00:00|\n",
      "|  10003896|                                       41.98|                                     4|2022-05-20 00:00:00|\n",
      "| 100043340|                                         0.0|                                     1|2022-04-28 00:00:00|\n",
      "| 100069306|                                         0.0|                                     2|2022-04-15 00:00:00|\n",
      "| 100069306|                                         0.0|                                     3|2022-05-07 00:00:00|\n",
      "|  10007916|                                         0.0|                                     1|2022-05-04 00:00:00|\n",
      "|  10007916|                                         0.0|                                     2|2022-05-11 00:00:00|\n",
      "| 100097341|                                       20.99|                                     1|2022-04-11 00:00:00|\n",
      "| 100097341|                                       32.98|                                     2|2022-04-29 00:00:00|\n",
      "| 100097341|                                       53.97|                                     3|2022-05-16 00:00:00|\n",
      "| 100126982|                                         0.0|                                     1|2022-04-18 00:00:00|\n",
      "| 100126982|                                         0.0|                                     2|2022-04-25 00:00:00|\n",
      "| 100166172|                                      143.88|                                     1|2022-04-14 00:00:00|\n",
      "+----------+--------------------------------------------+--------------------------------------+-------------------+\n",
      "only showing top 20 rows"
     ]
    }
   ],
   "source": [
    "import tecton\n",
    "from datetime import date, datetime, timedelta\n",
    "\n",
    "fv = tecton.get_feature_view('website_builder_orders')\n",
    "start_time=datetime(2020, 5, 1)\n",
    "end_time=datetime(2022, 5, 23)\n",
    "df=fv.get_historical_features(start_time=start_time, end_time=end_time).to_spark()\n",
    "df.show()"
   ]
  },
  {
   "cell_type": "code",
   "execution_count": 24,
   "id": "d1fd7e1f",
   "metadata": {
    "scrolled": true
   },
   "outputs": [
    {
     "data": {
      "application/vnd.jupyter.widget-view+json": {
       "model_id": "",
       "version_major": 2,
       "version_minor": 0
      },
      "text/plain": [
       "FloatProgress(value=0.0, bar_style='info', description='Progress:', layout=Layout(height='25px', width='50%'),…"
      ]
     },
     "metadata": {},
     "output_type": "display_data"
    },
    {
     "name": "stdout",
     "output_type": "stream",
     "text": [
      "+----------+-----------------------+----------------------------+-----------------+-------------------------+----------------------+-----------------+--------------------+--------------------+\n",
      "|shopper_id|crm_portfolio_type_name|c3_call_center_location_name|    reseller_name|primary_payment_type_name|point_of_purchase_name|bill_sub_geo_code|  purchase_path_name|       window_end_ts|\n",
      "+----------+-----------------------+----------------------------+-----------------+-------------------------+----------------------+-----------------+--------------------+--------------------+\n",
      "|  10000841|                   null|               Billing Agent|      GoDaddy.com|              credit card|         Billing Agent|               NY|             Unknown|2022-05-12 23:59:...|\n",
      "| 100024931|                   null|               Billing Agent|      GoDaddy.com|                   paypal|         Billing Agent|               WA|             Unknown|2022-05-12 23:59:...|\n",
      "| 100095557|                   null|               Billing Agent|      GoDaddy.com|                   paypal|         Billing Agent|               BC|             Unknown|2022-05-12 23:59:...|\n",
      "| 100123631|                   null|                         Web|      GoDaddy.com|                   paypal|                   Web|           LONDON|Domain Purchase Path|2022-05-12 23:59:...|\n",
      "| 100325747|                   null|               Billing Agent|      GoDaddy.com|              credit card|         Billing Agent|               ID|             Unknown|2022-05-12 23:59:...|\n",
      "| 100662839|                   null|                         Web|      GoDaddy.com|                     null|                   Web|             null|Dynamic Landing Page|2022-05-12 23:59:...|\n",
      "|  10111736|                   null|               Billing Agent|      GoDaddy.com|                      ach|         Billing Agent|               NV|             Unknown|2022-05-12 23:59:...|\n",
      "|  10116261|                   null|               Billing Agent|      GoDaddy.com|              credit card|         Billing Agent|               SC|             Unknown|2022-05-12 23:59:...|\n",
      "|  10120421|                   null|               Billing Agent|      GoDaddy.com|              credit card|         Billing Agent|               CA|             Unknown|2022-05-12 23:59:...|\n",
      "| 101815814|                   null|               Billing Agent|      GoDaddy.com|              credit card|         Billing Agent|               NY|             Unknown|2022-05-12 23:59:...|\n",
      "| 102077230|                   null|               Billing Agent|      GoDaddy.com|                   paypal|         Billing Agent|              QLD|             Unknown|2022-05-12 23:59:...|\n",
      "|  10233016|                   null|               Billing Agent|Habatchii Domains|              credit card|         Billing Agent|               WI|             Unknown|2022-05-12 23:59:...|\n",
      "| 102454566|                   null|               Billing Agent|      GoDaddy.com|              credit card|         Billing Agent|              TAS|             Unknown|2022-05-12 23:59:...|\n",
      "| 103014690|                   null|                         Web|      GoDaddy.com|              credit card|                   Web|               CA|Domain Purchase Path|2022-05-12 23:59:...|\n",
      "| 103669583|                   null|               Billing Agent|      GoDaddy.com|              credit card|         Billing Agent|               FL|             Unknown|2022-05-12 23:59:...|\n",
      "| 103723875|                   null|                         Web|      GoDaddy.com|              credit card|                   Web|               LA|          My Account|2022-05-12 23:59:...|\n",
      "| 103917658|                   null|               Billing Agent|      GoDaddy.com|              credit card|         Billing Agent|               CA|             Unknown|2022-05-12 23:59:...|\n",
      "| 104000086|                   null|               Billing Agent|      GoDaddy.com|              credit card|         Billing Agent|               VA|             Unknown|2022-05-12 23:59:...|\n",
      "| 104052452|                   null|               Billing Agent|      GoDaddy.com|              credit card|         Billing Agent|      STANN CREEK|             Unknown|2022-05-12 23:59:...|\n",
      "| 104178064|                   null|               Billing Agent|      GoDaddy.com|              credit card|         Billing Agent|               CA|             Unknown|2022-05-12 23:59:...|\n",
      "+----------+-----------------------+----------------------------+-----------------+-------------------------+----------------------+-----------------+--------------------+--------------------+\n",
      "only showing top 20 rows"
     ]
    }
   ],
   "source": [
    "import tecton\n",
    "from datetime import date, datetime, timedelta\n",
    "\n",
    "# Retrieve the 'last_order' Feature View\n",
    "ws = tecton.get_workspace('prod')\n",
    "fv = ws.get_feature_view('last_order')\n",
    "\n",
    "# Get a range of feature data from offline store\n",
    "start_time=datetime(2022, 5, 1)\n",
    "end_time=datetime(2022, 5, 23)\n",
    "df=fv.get_historical_features(start_time=start_time, end_time=end_time).to_spark()\n",
    "df.show()"
   ]
  },
  {
   "cell_type": "code",
   "execution_count": 25,
   "id": "a0dde520",
   "metadata": {},
   "outputs": [
    {
     "data": {
      "application/vnd.jupyter.widget-view+json": {
       "model_id": "",
       "version_major": 2,
       "version_minor": 0
      },
      "text/plain": [
       "FloatProgress(value=0.0, bar_style='info', description='Progress:', layout=Layout(height='25px', width='50%'),…"
      ]
     },
     "metadata": {},
     "output_type": "display_data"
    },
    {
     "name": "stdout",
     "output_type": "stream",
     "text": [
      "+----------+-----------------------+----------------------------+-------------+-------------------------+----------------------+-----------------+------------------+--------------------+\n",
      "|shopper_id|crm_portfolio_type_name|c3_call_center_location_name|reseller_name|primary_payment_type_name|point_of_purchase_name|bill_sub_geo_code|purchase_path_name|       window_end_ts|\n",
      "+----------+-----------------------+----------------------------+-------------+-------------------------+----------------------+-----------------+------------------+--------------------+\n",
      "|  10000841|                   null|               Billing Agent|  GoDaddy.com|              credit card|         Billing Agent|               NY|           Unknown|2022-05-13 23:59:...|\n",
      "|  10000841|                   null|               Billing Agent|  GoDaddy.com|              credit card|         Billing Agent|               NY|           Unknown|2022-05-12 23:59:...|\n",
      "|  10000841|                   null|               Billing Agent|  GoDaddy.com|              credit card|         Billing Agent|               NY|           Unknown|2022-05-09 23:59:...|\n",
      "|  10000841|                   null|               Billing Agent|  GoDaddy.com|              credit card|         Billing Agent|               NY|           Unknown|2022-05-08 23:59:...|\n",
      "|  10000841|                   null|               Billing Agent|  GoDaddy.com|              credit card|         Billing Agent|               NY|           Unknown|2022-05-14 23:59:...|\n",
      "+----------+-----------------------+----------------------------+-------------+-------------------------+----------------------+-----------------+------------------+--------------------+"
     ]
    }
   ],
   "source": [
    "df2 = df.filter(df.shopper_id == '10000841')\n",
    "df2.show()"
   ]
  },
  {
   "cell_type": "code",
   "execution_count": 3,
   "id": "dcd4cd82",
   "metadata": {},
   "outputs": [
    {
     "data": {
      "application/vnd.jupyter.widget-view+json": {
       "model_id": "",
       "version_major": 2,
       "version_minor": 0
      },
      "text/plain": [
       "FloatProgress(value=0.0, bar_style='info', description='Progress:', layout=Layout(height='25px', width='50%'),…"
      ]
     },
     "metadata": {},
     "output_type": "display_data"
    },
    {
     "name": "stdout",
     "output_type": "stream",
     "text": [
      "+--------------------+\n",
      "|  max(window_end_ts)|\n",
      "+--------------------+\n",
      "|2022-06-29 23:59:...|\n",
      "+--------------------+"
     ]
    }
   ],
   "source": [
    "import pyspark.sql.functions as F\n",
    "df2 = df.select(F.max(\"window_end_ts\"))\n",
    "df2.show()"
   ]
  },
  {
   "cell_type": "code",
   "execution_count": 8,
   "id": "ff0ed448",
   "metadata": {},
   "outputs": [
    {
     "data": {
      "application/vnd.jupyter.widget-view+json": {
       "model_id": "",
       "version_major": 2,
       "version_minor": 0
      },
      "text/plain": [
       "FloatProgress(value=0.0, bar_style='info', description='Progress:', layout=Layout(height='25px', width='50%'),…"
      ]
     },
     "metadata": {},
     "output_type": "display_data"
    },
    {
     "name": "stdout",
     "output_type": "stream",
     "text": [
      "+--------------------+\n",
      "|  min(window_end_ts)|\n",
      "+--------------------+\n",
      "|2022-03-19 23:59:...|\n",
      "+--------------------+"
     ]
    }
   ],
   "source": [
    "import pyspark.sql.functions as F\n",
    "df2 = df.select(F.min(\"window_end_ts\"))\n",
    "df2.show()"
   ]
  },
  {
   "cell_type": "code",
   "execution_count": 7,
   "id": "a290b98b",
   "metadata": {},
   "outputs": [
    {
     "data": {
      "application/vnd.jupyter.widget-view+json": {
       "model_id": "",
       "version_major": 2,
       "version_minor": 0
      },
      "text/plain": [
       "FloatProgress(value=0.0, bar_style='info', description='Progress:', layout=Layout(height='25px', width='50%'),…"
      ]
     },
     "metadata": {},
     "output_type": "display_data"
    },
    {
     "name": "stdout",
     "output_type": "stream",
     "text": [
      "+----------+-----------------------+----------------------------+-------------+-------------------------+----------------------+-----------------+--------------------+--------------------+\n",
      "|shopper_id|crm_portfolio_type_name|c3_call_center_location_name|reseller_name|primary_payment_type_name|point_of_purchase_name|bill_sub_geo_code|  purchase_path_name|       window_end_ts|\n",
      "+----------+-----------------------+----------------------------+-------------+-------------------------+----------------------+-----------------+--------------------+--------------------+\n",
      "|       08k|                   null|                       Tempe|  GoDaddy.com|              credit card|                    C3|               AZ|             Unknown|2022-06-23 23:59:...|\n",
      "| 100327360|                   null|               Billing Agent|  GoDaddy.com|              credit card|         Billing Agent|          BRISTOL|             Unknown|2022-06-23 23:59:...|\n",
      "|  10068757|                   null|               Billing Agent|  GoDaddy.com|                   paypal|         Billing Agent|               NC|             Unknown|2022-06-23 23:59:...|\n",
      "| 100921636|                   null|                         Web|  GoDaddy.com|              credit card|                   Web|               ON| Single Landing Page|2022-06-23 23:59:...|\n",
      "|  10097590|                   null|               Billing Agent|  GoDaddy.com|                   paypal|         Billing Agent|               CA|             Unknown|2022-06-23 23:59:...|\n",
      "|  10119974|                   null|               Billing Agent|  GoDaddy.com|              credit card|         Billing Agent|               29|             Unknown|2022-06-23 23:59:...|\n",
      "|  10130948|                   null|               Billing Agent|  GoDaddy.com|              credit card|         Billing Agent|          LARNACA|             Unknown|2022-06-23 23:59:...|\n",
      "|  10160984|                   null|               Billing Agent|  GoDaddy.com|              credit card|         Billing Agent|               KY|             Unknown|2022-06-23 23:59:...|\n",
      "| 101699446|                   null|               Billing Agent|  GoDaddy.com|                      ach|         Billing Agent|               WA|             Unknown|2022-06-23 23:59:...|\n",
      "| 102390876|                   null|               Billing Agent|  GoDaddy.com|              credit card|         Billing Agent|               28|             Unknown|2022-06-23 23:59:...|\n",
      "| 102458951|                   null|                         Web|  GoDaddy.com|                     null|                   Web|             null|     Domains - DCC 6|2022-06-23 23:59:...|\n",
      "|  10246497|                   null|               Billing Agent|  GoDaddy.com|              credit card|         Billing Agent|               NC|             Unknown|2022-06-23 23:59:...|\n",
      "|  10288547|                   null|               Billing Agent|  GoDaddy.com|              credit card|         Billing Agent|               CA|             Unknown|2022-06-23 23:59:...|\n",
      "| 102925448|                   null|               Billing Agent|  GoDaddy.com|              credit card|         Billing Agent|               MI|             Unknown|2022-06-23 23:59:...|\n",
      "|  10342604|                   null|               Billing Agent|  GoDaddy.com|                   paypal|         Billing Agent|               IN|             Unknown|2022-06-23 23:59:...|\n",
      "| 103427983|                   null|                         Web|  GoDaddy.com|              credit card|                   Web|               UP|Domain Purchase Path|2022-06-23 23:59:...|\n",
      "| 103521120|                   null|                         Web|  GoDaddy.com|              credit card|                   Web|           LONDON|          My Account|2022-06-23 23:59:...|\n",
      "| 103967452|                   null|               Billing Agent|  GoDaddy.com|              credit card|         Billing Agent|               MI|             Unknown|2022-06-23 23:59:...|\n",
      "| 105024376|                   null|               Billing Agent|  GoDaddy.com|              credit card|         Billing Agent|               QC|             Unknown|2022-06-23 23:59:...|\n",
      "| 105496529|                   null|               Billing Agent|  GoDaddy.com|              credit card|         Billing Agent|               CA|             Unknown|2022-06-23 23:59:...|\n",
      "+----------+-----------------------+----------------------------+-------------+-------------------------+----------------------+-----------------+--------------------+--------------------+\n",
      "only showing top 20 rows"
     ]
    }
   ],
   "source": [
    "import tecton\n",
    "from datetime import date, datetime, timedelta\n",
    "\n",
    "# Retrieve the 'last_order' Feature View\n",
    "ws = tecton.get_workspace('prod')\n",
    "fv = ws.get_feature_view('last_order')\n",
    "\n",
    "# Get a range of feature data from offline store\n",
    "start_time=datetime(2022, 6, 23)\n",
    "end_time=datetime(2022, 6, 24)\n",
    "df=fv.get_historical_features(start_time=start_time, end_time=end_time).to_spark()\n",
    "df.show()"
   ]
  },
  {
   "cell_type": "code",
   "execution_count": 5,
   "id": "1497bcab",
   "metadata": {
    "scrolled": true
   },
   "outputs": [
    {
     "data": {
      "application/vnd.jupyter.widget-view+json": {
       "model_id": "",
       "version_major": 2,
       "version_minor": 0
      },
      "text/plain": [
       "FloatProgress(value=0.0, bar_style='info', description='Progress:', layout=Layout(height='25px', width='50%'),…"
      ]
     },
     "metadata": {},
     "output_type": "display_data"
    },
    {
     "name": "stdout",
     "output_type": "stream",
     "text": [
      "+----------+-----------------------+----------------------------+-------------+-------------------------+----------------------+-----------------+--------------------+--------------------+\n",
      "|shopper_id|crm_portfolio_type_name|c3_call_center_location_name|reseller_name|primary_payment_type_name|point_of_purchase_name|bill_sub_geo_code|  purchase_path_name|       window_end_ts|\n",
      "+----------+-----------------------+----------------------------+-------------+-------------------------+----------------------+-----------------+--------------------+--------------------+\n",
      "| 100004673|                   null|               Billing Agent|  GoDaddy.com|              credit card|         Billing Agent|               VA|             Unknown|2022-04-23 23:59:...|\n",
      "|  10000823|                   null|               Billing Agent|  GoDaddy.com|              credit card|         Billing Agent|               SC|             Unknown|2022-04-23 23:59:...|\n",
      "|  10000841|                   null|                         Web|  GoDaddy.com|              credit card|                   Web|               NY|          My Account|2022-04-23 23:59:...|\n",
      "| 100035815|                   null|               Billing Agent|  GoDaddy.com|              credit card|         Billing Agent|               OH|             Unknown|2022-04-23 23:59:...|\n",
      "| 100095557|                   null|               Billing Agent|  GoDaddy.com|                   paypal|         Billing Agent|               BC|             Unknown|2022-04-23 23:59:...|\n",
      "| 100123631|                   null|               Billing Agent|  GoDaddy.com|                   paypal|         Billing Agent|           LONDON|             Unknown|2022-04-23 23:59:...|\n",
      "| 100126690|                   null|               Billing Agent|  GoDaddy.com|              credit card|         Billing Agent|          MERÅKER|             Unknown|2022-04-23 23:59:...|\n",
      "| 100171034|                   null|               Billing Agent|  GoDaddy.com|              credit card|         Billing Agent|               CA|             Unknown|2022-04-23 23:59:...|\n",
      "| 100171592|                   null|                         Web|  GoDaddy.com|                   paypal|                   Web|               CA|          My Account|2022-04-23 23:59:...|\n",
      "| 100217260|                   null|                       Tempe|  GoDaddy.com|              credit card|                    C3|               AB| Productivity - O365|2022-04-23 23:59:...|\n",
      "| 100238025|                   null|                         Web|  GoDaddy.com|                     null|                   Web|             null|             Unknown|2022-04-23 23:59:...|\n",
      "| 100257398|                   null|               Billing Agent|  GoDaddy.com|                   paypal|         Billing Agent|               TX|             Unknown|2022-04-23 23:59:...|\n",
      "| 100259320|                   null|                         Web|  GoDaddy.com|                     null|                   Web|             null|             Unknown|2022-04-23 23:59:...|\n",
      "| 100300052|                   null|                         Web|  GoDaddy.com|              credit card|                   Web|               MH|Domain Purchase Path|2022-04-23 23:59:...|\n",
      "| 100321309|                   null|                         Web|  GoDaddy.com|              credit card|                   Web|          ANTALYA|          My Account|2022-04-23 23:59:...|\n",
      "| 100379465|                   null|               Billing Agent|  GoDaddy.com|              credit card|         Billing Agent|        BERKSHIRE|             Unknown|2022-04-23 23:59:...|\n",
      "| 100387880|                   null|                         Web|  GoDaddy.com|              credit card|                   Web|               FL|          My Account|2022-04-23 23:59:...|\n",
      "| 100393214|                   null|               Billing Agent|  GoDaddy.com|              credit card|         Billing Agent|               PA|             Unknown|2022-04-23 23:59:...|\n",
      "| 100411044|                   null|               Billing Agent|  GoDaddy.com|              credit card|         Billing Agent|               MI|             Unknown|2022-04-23 23:59:...|\n",
      "|  10041928|                   null|               Billing Agent|  GoDaddy.com|              credit card|         Billing Agent|               NJ|             Unknown|2022-04-23 23:59:...|\n",
      "+----------+-----------------------+----------------------------+-------------+-------------------------+----------------------+-----------------+--------------------+--------------------+\n",
      "only showing top 20 rows"
     ]
    }
   ],
   "source": [
    "import tecton\n",
    "from datetime import date, datetime, timedelta\n",
    "\n",
    "# Retrieve the 'last_order' Feature View\n",
    "ws = tecton.get_workspace('prod')\n",
    "fv = ws.get_feature_view('last_order')\n",
    "\n",
    "# Get a range of feature data from offline store\n",
    "today = datetime.now()\n",
    "#yesterday = today - timedelta(days=2)\n",
    "df=fv.get_historical_features(start_time=datetime(2020, 5, 1), end_time=today).to_spark()\n",
    "df.show()"
   ]
  },
  {
   "cell_type": "code",
   "execution_count": 6,
   "id": "5e7e781a",
   "metadata": {},
   "outputs": [
    {
     "data": {
      "application/vnd.jupyter.widget-view+json": {
       "model_id": "",
       "version_major": 2,
       "version_minor": 0
      },
      "text/plain": [
       "FloatProgress(value=0.0, bar_style='info', description='Progress:', layout=Layout(height='25px', width='50%'),…"
      ]
     },
     "metadata": {},
     "output_type": "display_data"
    },
    {
     "name": "stdout",
     "output_type": "stream",
     "text": [
      "+----------+-----------------------+----------------------------+-------------+-------------------------+----------------------+-----------------+------------------+--------------------+\n",
      "|shopper_id|crm_portfolio_type_name|c3_call_center_location_name|reseller_name|primary_payment_type_name|point_of_purchase_name|bill_sub_geo_code|purchase_path_name|       window_end_ts|\n",
      "+----------+-----------------------+----------------------------+-------------+-------------------------+----------------------+-----------------+------------------+--------------------+\n",
      "| 100298699|                   null|               Billing Agent|  GoDaddy.com|              credit card|         Billing Agent|               CA|           Unknown|2022-01-18 23:59:...|\n",
      "| 100298699|                   null|               Billing Agent|  GoDaddy.com|              credit card|         Billing Agent|               CA|           Unknown|2022-03-16 23:59:...|\n",
      "| 100298699|                   null|                       Tempe|  GoDaddy.com|                     null|                    C3|               CA|           Unknown|2022-05-31 23:59:...|\n",
      "| 100298699|                   null|               Billing Agent|  GoDaddy.com|              credit card|         Billing Agent|               CA|           Unknown|2022-04-04 23:59:...|\n",
      "+----------+-----------------------+----------------------------+-------------+-------------------------+----------------------+-----------------+------------------+--------------------+"
     ]
    }
   ],
   "source": [
    "df2 = df.filter(df.shopper_id == '100298699')\n",
    "df2.show()"
   ]
  },
  {
   "cell_type": "markdown",
   "id": "dbec4d19",
   "metadata": {},
   "source": [
    "## Test last_order query"
   ]
  },
  {
   "cell_type": "code",
   "execution_count": 17,
   "id": "4d3583b2",
   "metadata": {},
   "outputs": [
    {
     "data": {
      "application/vnd.jupyter.widget-view+json": {
       "model_id": "",
       "version_major": 2,
       "version_minor": 0
      },
      "text/plain": [
       "FloatProgress(value=0.0, bar_style='info', description='Progress:', layout=Layout(height='25px', width='50%'),…"
      ]
     },
     "metadata": {},
     "output_type": "display_data"
    },
    {
     "name": "stdout",
     "output_type": "stream",
     "text": [
      "+----------+--------------------+--------------------+-----------------------+----------------------------+-------------+-------------------------+----------------------+-----------------+------------------+----------+\n",
      "|shopper_id|       window_end_ts|bill_modified_mst_ts|crm_portfolio_type_name|c3_call_center_location_name|reseller_name|primary_payment_type_name|point_of_purchase_name|bill_sub_geo_code|purchase_path_name|   bill_id|\n",
      "+----------+--------------------+--------------------+-----------------------+----------------------------+-------------+-------------------------+----------------------+-----------------+------------------+----------+\n",
      "| 292787210|2022-06-29 23:59:...| 2022-05-24 06:40:40|                   null|                         Web|  GoDaddy.com|             bank payment|                   Web|               MH|        My Account|2109454345|\n",
      "+----------+--------------------+--------------------+-----------------------+----------------------------+-------------+-------------------------+----------------------+-----------------+------------------+----------+"
     ]
    }
   ],
   "source": [
    "df=spark.sql(\"\"\"SELECT merged_shopper_id AS shopper_id,\n",
    "          TO_TIMESTAMP('2022-06-30') - INTERVAL 1 MICROSECOND as window_end_ts,\n",
    "          r.bill_modified_mst_ts AS bill_modified_mst_ts,\n",
    "          r.crm_portfolio_type_name AS crm_portfolio_type_name,\n",
    "          r.c3_call_center_location_name AS c3_call_center_location_name,\n",
    "          r.reseller_name AS reseller_name,\n",
    "          r.primary_payment_type_name AS primary_payment_type_name,\n",
    "          r.point_of_purchase_name AS point_of_purchase_name,\n",
    "          r.bill_sub_geo_code AS bill_sub_geo_code,\n",
    "          r.purchase_path_name AS purchase_path_name,\n",
    "          r.bill_id AS bill_id\n",
    "        FROM (\n",
    "          SELECT merged_shopper_id,\n",
    "          max_by(struct(\n",
    "                  bill_modified_mst_ts,\n",
    "                  crm_portfolio_type_name,\n",
    "                  c3_call_center_location_name,\n",
    "                  reseller_name,\n",
    "                  primary_payment_type_name,\n",
    "                  point_of_purchase_name,\n",
    "                  bill_sub_geo_code,\n",
    "                  purchase_path_name,\n",
    "                  bill_id),\n",
    "              bill_modified_mst_ts) AS r\n",
    "          FROM tecton_dev.ads_bill_line\n",
    "          WHERE merged_shopper_id = '292787210' \n",
    "          GROUP BY merged_shopper_id\n",
    "         )\"\"\")\n",
    "df.show()"
   ]
  },
  {
   "cell_type": "markdown",
   "id": "96aaa4f6",
   "metadata": {},
   "source": [
    "## Test partition filtering"
   ]
  },
  {
   "cell_type": "code",
   "execution_count": 39,
   "id": "5ab59320",
   "metadata": {},
   "outputs": [
    {
     "data": {
      "application/vnd.jupyter.widget-view+json": {
       "model_id": "",
       "version_major": 2,
       "version_minor": 0
      },
      "text/plain": [
       "FloatProgress(value=0.0, bar_style='info', description='Progress:', layout=Layout(height='25px', width='50%'),…"
      ]
     },
     "metadata": {},
     "output_type": "display_data"
    },
    {
     "name": "stdout",
     "output_type": "stream",
     "text": [
      "start_partition: 2022-04\n",
      "end_partition: 2022-06\n",
      "count: 2004\n",
      "+-----------------+-----------------------------+\n",
      "|merged_shopper_id|partition_bill_mst_year_month|\n",
      "+-----------------+-----------------------------+\n",
      "|         46395562|                      2022-05|\n",
      "|        450380883|                      2022-05|\n",
      "|        119388513|                      2022-05|\n",
      "|        253339860|                      2022-05|\n",
      "|        337886807|                      2022-05|\n",
      "|        210233520|                      2022-05|\n",
      "|        158419034|                      2022-05|\n",
      "|         91892140|                      2022-05|\n",
      "|        464833795|                      2022-05|\n",
      "|         43093716|                      2022-05|\n",
      "|         48354128|                      2022-05|\n",
      "|        180244267|                      2022-05|\n",
      "|        450380883|                      2022-05|\n",
      "|        115383033|                      2022-05|\n",
      "|        140401760|                      2022-05|\n",
      "|         40351231|                      2022-05|\n",
      "|        101526015|                      2022-05|\n",
      "|         52151532|                      2022-05|\n",
      "|          3167124|                      2022-05|\n",
      "|         93557103|                      2022-05|\n",
      "+-----------------+-----------------------------+\n",
      "only showing top 20 rows"
     ]
    }
   ],
   "source": [
    "from datetime import datetime, timedelta\n",
    "from pyspark.sql.functions import col\n",
    "\n",
    "df = spark.sql(\"select * from tecton_dev.ads_bill_line\")\n",
    "start_time = datetime(2022, 4, 12)\n",
    "end_time = datetime(2022, 6, 12)\n",
    "start_partition = start_time.strftime(\"%Y-%m\")\n",
    "end_partition = end_time.strftime(\"%Y-%m\")\n",
    "print(f\"start_partition: {start_partition}\")\n",
    "print(f\"end_partition: {end_partition}\")\n",
    "df = df.filter(df.partition_bill_mst_year_month.between(start_partition, end_partition))\n",
    "df = df.select(\"merged_shopper_id\", \"partition_bill_mst_year_month\")\n",
    "print(f\"count: {df.count()}\")\n",
    "df.show()"
   ]
  },
  {
   "cell_type": "markdown",
   "id": "6e6ed173",
   "metadata": {},
   "source": [
    "## Get orders for test shopper"
   ]
  },
  {
   "cell_type": "code",
   "execution_count": 15,
   "id": "687cc4b7",
   "metadata": {
    "scrolled": true
   },
   "outputs": [
    {
     "data": {
      "application/vnd.jupyter.widget-view+json": {
       "model_id": "",
       "version_major": 2,
       "version_minor": 0
      },
      "text/plain": [
       "FloatProgress(value=0.0, bar_style='info', description='Progress:', layout=Layout(height='25px', width='50%'),…"
      ]
     },
     "metadata": {},
     "output_type": "display_data"
    },
    {
     "name": "stdout",
     "output_type": "stream",
     "text": [
      "+-----------------+----------+-----------------------+------------------------+--------+---------------------+\n",
      "|merged_shopper_id|bill_id   |bill_modified_mst_ts   |product_pnl_line_name   |unit_qty|receipt_price_usd_amt|\n",
      "+-----------------+----------+-----------------------+------------------------+--------+---------------------+\n",
      "|292787210        |2109454345|2022-05-24 06:40:40    |Virtual Hosting         |1       |102.54               |\n",
      "|292787210        |2109454345|2022-05-24 06:40:40    |Virtual Hosting         |1       |11.60                |\n",
      "|292787210        |2097138481|2022-04-24 20:58:05    |Virtual Hosting         |1       |104.13               |\n",
      "|292787210        |2097138481|2022-04-24 20:58:05    |Virtual Hosting         |1       |11.78                |\n",
      "|292787210        |2064633178|2022-03-16 23:32:57    |Virtual Hosting         |1       |11.78                |\n",
      "|292787210        |2064633178|2022-03-16 23:32:57    |Virtual Hosting         |1       |104.13               |\n",
      "|292787210        |2064633523|2022-03-16 23:31:41.947|Web Pro                 |1       |0.00                 |\n",
      "|292787210        |2040808028|2022-02-17 06:49:11    |Domain Name Registration|1       |40.17                |\n",
      "|292787210        |2040808028|2022-02-17 06:49:11    |Virtual Hosting         |1       |105.72               |\n",
      "|292787210        |2040808028|2022-02-17 06:49:11    |Domain Name Registration|1       |13.46                |\n",
      "|292787210        |2040808028|2022-02-17 06:49:11    |Virtual Hosting         |1       |11.96                |\n",
      "|292787210        |2014841241|2022-01-14 01:31:21    |Domain Name Registration|1       |13.67                |\n",
      "|292787210        |1986348716|2022-01-14 01:27:31    |Virtual Hosting         |1       |12.14                |\n",
      "|292787210        |1986348716|2022-01-14 01:27:31    |Virtual Hosting         |1       |107.31               |\n",
      "+-----------------+----------+-----------------------+------------------------+--------+---------------------+"
     ]
    }
   ],
   "source": [
    "orders = spark.sql(\"\"\"\n",
    "select\n",
    "  merged_shopper_id,\n",
    "  bill_id,\n",
    "  bill_modified_mst_ts,\n",
    "  product_pnl_line_name,\n",
    "  unit_qty,\n",
    "  receipt_price_usd_amt\n",
    "from tecton_dev.ads_bill_line \n",
    "where merged_shopper_id = '292787210'\n",
    "order by bill_modified_mst_ts desc\n",
    "\"\"\")\n",
    "orders.show(truncate=False)"
   ]
  },
  {
   "cell_type": "markdown",
   "id": "f150c644",
   "metadata": {},
   "source": [
    "## Test customer_orders_lifetime"
   ]
  },
  {
   "cell_type": "markdown",
   "id": "28e4a127",
   "metadata": {},
   "source": [
    "### run"
   ]
  },
  {
   "cell_type": "code",
   "execution_count": 2,
   "id": "969b059c",
   "metadata": {
    "scrolled": true
   },
   "outputs": [
    {
     "data": {
      "application/vnd.jupyter.widget-view+json": {
       "model_id": "",
       "version_major": 2,
       "version_minor": 0
      },
      "text/plain": [
       "FloatProgress(value=0.0, bar_style='info', description='Progress:', layout=Layout(height='25px', width='50%'),…"
      ]
     },
     "metadata": {},
     "output_type": "display_data"
    },
    {
     "name": "stdout",
     "output_type": "stream",
     "text": [
      "1758"
     ]
    }
   ],
   "source": [
    "import tecton\n",
    "from datetime import date, datetime, timedelta\n",
    "\n",
    "ws = tecton.get_workspace('jfarr')\n",
    "fv = ws.get_feature_view('customer_orders_lifetime')\n",
    "\n",
    "df = fv.run(start_time=datetime(2022, 1, 1), end_time=datetime.now()).to_spark()\n",
    "df.count()"
   ]
  },
  {
   "cell_type": "code",
   "execution_count": 3,
   "id": "a012112d",
   "metadata": {},
   "outputs": [
    {
     "data": {
      "application/vnd.jupyter.widget-view+json": {
       "model_id": "",
       "version_major": 2,
       "version_minor": 0
      },
      "text/plain": [
       "FloatProgress(value=0.0, bar_style='info', description='Progress:', layout=Layout(height='25px', width='50%'),…"
      ]
     },
     "metadata": {},
     "output_type": "display_data"
    },
    {
     "name": "stdout",
     "output_type": "stream",
     "text": [
      "+----------+-------------------------+------------------------------------+---------------------------+----------------------+\n",
      "|shopper_id|window_end_ts            |domain_name_registration_order_count|virtual_hosting_order_count|non_top_20_order_count|\n",
      "+----------+-------------------------+------------------------------------+---------------------------+----------------------+\n",
      "|292787210 |2022-07-18 15:24:22.60006|3                                   |10                         |1                     |\n",
      "+----------+-------------------------+------------------------------------+---------------------------+----------------------+"
     ]
    }
   ],
   "source": [
    "df2 = df.filter(df.shopper_id == '292787210')\n",
    "df2 = df2.select(\"shopper_id\", \"window_end_ts\", \"domain_name_registration_order_count\", \"virtual_hosting_order_count\", \"non_top_20_order_count\")\n",
    "df2.show(truncate=False)"
   ]
  },
  {
   "cell_type": "markdown",
   "id": "6c827447",
   "metadata": {},
   "source": [
    "### get_historical_features\n",
    "\n",
    "Because `customer_orders_lifetime` has incremental backfills we cannot call `get_historical_features(from_source=True)`, we can only call `get_historical_features` in a materialized workspace like `tecton_integration_testing`. "
   ]
  },
  {
   "cell_type": "code",
   "execution_count": 9,
   "id": "e3b81082",
   "metadata": {},
   "outputs": [
    {
     "data": {
      "application/vnd.jupyter.widget-view+json": {
       "model_id": "",
       "version_major": 2,
       "version_minor": 0
      },
      "text/plain": [
       "FloatProgress(value=0.0, bar_style='info', description='Progress:', layout=Layout(height='25px', width='50%'),…"
      ]
     },
     "metadata": {},
     "output_type": "display_data"
    },
    {
     "name": "stdout",
     "output_type": "stream",
     "text": [
      "1"
     ]
    }
   ],
   "source": [
    "import pandas\n",
    "import tecton\n",
    "from datetime import datetime\n",
    "\n",
    "ws = tecton.get_workspace('tecton_integration_testing')\n",
    "fv = ws.get_feature_view('customer_orders_lifetime')\n",
    "\n",
    "spine = pandas.DataFrame({'shopper_id': ['292787210'], 'window_end_ts': datetime(2022, 7, 17)})\n",
    "\n",
    "df = fv.get_historical_features(spine).to_spark()\n",
    "df.count()"
   ]
  },
  {
   "cell_type": "code",
   "execution_count": 10,
   "id": "35293576",
   "metadata": {
    "scrolled": true
   },
   "outputs": [
    {
     "data": {
      "application/vnd.jupyter.widget-view+json": {
       "model_id": "",
       "version_major": 2,
       "version_minor": 0
      },
      "text/plain": [
       "FloatProgress(value=0.0, bar_style='info', description='Progress:', layout=Layout(height='25px', width='50%'),…"
      ]
     },
     "metadata": {},
     "output_type": "display_data"
    },
    {
     "name": "stdout",
     "output_type": "stream",
     "text": [
      "+----------+-------------------+--------------------------------------------------------------+-----------------------------------------------------+------------------------------------------------+\n",
      "|shopper_id|      window_end_ts|customer_orders_lifetime__domain_name_registration_order_count|customer_orders_lifetime__virtual_hosting_order_count|customer_orders_lifetime__non_top_20_order_count|\n",
      "+----------+-------------------+--------------------------------------------------------------+-----------------------------------------------------+------------------------------------------------+\n",
      "| 292787210|2022-07-17 00:00:00|                                                             3|                                                   10|                                               1|\n",
      "+----------+-------------------+--------------------------------------------------------------+-----------------------------------------------------+------------------------------------------------+"
     ]
    }
   ],
   "source": [
    "df2 = df.select(\"shopper_id\", \"window_end_ts\", \"customer_orders_lifetime__domain_name_registration_order_count\", \"customer_orders_lifetime__virtual_hosting_order_count\", \"customer_orders_lifetime__non_top_20_order_count\")\n",
    "df2.show()"
   ]
  },
  {
   "cell_type": "markdown",
   "id": "d1433928",
   "metadata": {},
   "source": [
    "## Test customer_orders_90d"
   ]
  },
  {
   "cell_type": "markdown",
   "id": "2cfcf7f6",
   "metadata": {},
   "source": [
    "### run"
   ]
  },
  {
   "cell_type": "code",
   "execution_count": 13,
   "id": "6b7ae122",
   "metadata": {},
   "outputs": [
    {
     "data": {
      "application/vnd.jupyter.widget-view+json": {
       "model_id": "",
       "version_major": 2,
       "version_minor": 0
      },
      "text/plain": [
       "FloatProgress(value=0.0, bar_style='info', description='Progress:', layout=Layout(height='25px', width='50%'),…"
      ]
     },
     "metadata": {},
     "output_type": "display_data"
    },
    {
     "name": "stdout",
     "output_type": "stream",
     "text": [
      "1791"
     ]
    }
   ],
   "source": [
    "import tecton\n",
    "from datetime import date, datetime, timedelta\n",
    "\n",
    "ws = tecton.get_workspace('jfarr')\n",
    "fv = ws.get_feature_view('customer_orders_90d')\n",
    "\n",
    "df = fv.run(start_time=datetime(2022, 1, 1), end_time=datetime.now()).to_spark()\n",
    "df.count()"
   ]
  },
  {
   "cell_type": "code",
   "execution_count": 14,
   "id": "974a2881",
   "metadata": {},
   "outputs": [
    {
     "data": {
      "application/vnd.jupyter.widget-view+json": {
       "model_id": "",
       "version_major": 2,
       "version_minor": 0
      },
      "text/plain": [
       "FloatProgress(value=0.0, bar_style='info', description='Progress:', layout=Layout(height='25px', width='50%'),…"
      ]
     },
     "metadata": {},
     "output_type": "display_data"
    },
    {
     "name": "stdout",
     "output_type": "stream",
     "text": [
      "+----------+-------------------+---------------------------------------+---------------------------------------+------------------------------+------------------------------+-------------------------+-------------------------+\n",
      "|shopper_id|      window_end_ts|domain_name_registration_amt_sum_90d_1d|domain_name_registration_qty_sum_90d_1d|virtual_hosting_amt_sum_90d_1d|virtual_hosting_qty_sum_90d_1d|non_top_20_amt_sum_90d_1d|non_top_20_qty_sum_90d_1d|\n",
      "+----------+-------------------+---------------------------------------+---------------------------------------+------------------------------+------------------------------+-------------------------+-------------------------+\n",
      "| 292787210|2022-01-14 15:57:50|                                  13.67|                                      1|                        119.45|                             2|                     null|                     null|\n",
      "| 292787210|2022-02-17 15:57:50|                                   67.3|                                      3|                        237.13|                             4|                     null|                     null|\n",
      "| 292787210|2022-03-17 15:57:50|                                   67.3|                                      3|            353.03999999999996|                             6|                      0.0|                        1|\n",
      "| 292787210|2022-04-25 15:57:50|                                  53.63|                                      2|                         349.5|                             6|                      0.0|                        1|\n",
      "| 292787210|2022-05-24 15:57:50|                                   null|                                   null|                        345.96|                             6|                      0.0|                        1|\n",
      "+----------+-------------------+---------------------------------------+---------------------------------------+------------------------------+------------------------------+-------------------------+-------------------------+"
     ]
    }
   ],
   "source": [
    "df2 = df.filter(df.shopper_id == '292787210')\n",
    "df2 = df2.select(\n",
    "    \"shopper_id\", \"window_end_ts\", \n",
    "    \"domain_name_registration_amt_sum_90d_1d\", \"domain_name_registration_qty_sum_90d_1d\",\n",
    "    \"virtual_hosting_amt_sum_90d_1d\", \"virtual_hosting_qty_sum_90d_1d\",\n",
    "    \"non_top_20_amt_sum_90d_1d\", \"non_top_20_qty_sum_90d_1d\"\n",
    ")\n",
    "df2.show()"
   ]
  },
  {
   "cell_type": "markdown",
   "id": "c3a7fdaa",
   "metadata": {},
   "source": [
    "### get_historical_features"
   ]
  },
  {
   "cell_type": "code",
   "execution_count": 11,
   "id": "be1fe2db",
   "metadata": {},
   "outputs": [
    {
     "data": {
      "application/vnd.jupyter.widget-view+json": {
       "model_id": "",
       "version_major": 2,
       "version_minor": 0
      },
      "text/plain": [
       "FloatProgress(value=0.0, bar_style='info', description='Progress:', layout=Layout(height='25px', width='50%'),…"
      ]
     },
     "metadata": {},
     "output_type": "display_data"
    },
    {
     "name": "stdout",
     "output_type": "stream",
     "text": [
      "1"
     ]
    }
   ],
   "source": [
    "import pandas\n",
    "import tecton\n",
    "from datetime import datetime\n",
    "\n",
    "ws = tecton.get_workspace('jfarr')\n",
    "fv = ws.get_feature_view('customer_orders_90d')\n",
    "\n",
    "spine = pandas.DataFrame({'shopper_id': ['292787210'], 'window_end_ts': datetime(2022, 3, 1)})\n",
    "\n",
    "df = fv.get_historical_features(spine, from_source=True).to_spark()\n",
    "df.count()"
   ]
  },
  {
   "cell_type": "code",
   "execution_count": 12,
   "id": "526b8565",
   "metadata": {
    "scrolled": true
   },
   "outputs": [
    {
     "data": {
      "application/vnd.jupyter.widget-view+json": {
       "model_id": "",
       "version_major": 2,
       "version_minor": 0
      },
      "text/plain": [
       "FloatProgress(value=0.0, bar_style='info', description='Progress:', layout=Layout(height='25px', width='50%'),…"
      ]
     },
     "metadata": {},
     "output_type": "display_data"
    },
    {
     "name": "stdout",
     "output_type": "stream",
     "text": [
      "+----------+-------------------+------------------------------------------------------------+---------------------------------------------------+----------------------------------------------+\n",
      "|shopper_id|      window_end_ts|customer_orders_90d__domain_name_registration_qty_sum_90d_1d|customer_orders_90d__virtual_hosting_qty_sum_90d_1d|customer_orders_90d__non_top_20_qty_sum_90d_1d|\n",
      "+----------+-------------------+------------------------------------------------------------+---------------------------------------------------+----------------------------------------------+\n",
      "| 292787210|2022-03-01 00:00:00|                                                           3|                                                  4|                                          null|\n",
      "+----------+-------------------+------------------------------------------------------------+---------------------------------------------------+----------------------------------------------+"
     ]
    }
   ],
   "source": [
    "df2 = df.select(\"shopper_id\", \"window_end_ts\", \"customer_orders_90d__domain_name_registration_qty_sum_90d_1d\", \"customer_orders_90d__virtual_hosting_qty_sum_90d_1d\", \"customer_orders_90d__non_top_20_qty_sum_90d_1d\")\n",
    "df2.show(truncate=False)"
   ]
  },
  {
   "cell_type": "markdown",
   "id": "78c29ba3",
   "metadata": {},
   "source": [
    "## Test customer_last_order_90d"
   ]
  },
  {
   "cell_type": "markdown",
   "id": "711e430d",
   "metadata": {},
   "source": [
    "### run"
   ]
  },
  {
   "cell_type": "code",
   "execution_count": 1,
   "id": "f77c8bad",
   "metadata": {},
   "outputs": [
    {
     "name": "stdout",
     "output_type": "stream",
     "text": [
      "Starting Spark application\n"
     ]
    },
    {
     "data": {
      "text/html": [
       "<table>\n",
       "<tr><th>ID</th><th>YARN Application ID</th><th>Kind</th><th>State</th><th>Spark UI</th><th>Driver log</th><th>User</th><th>Current session?</th></tr><tr><td>20</td><td>application_1657752492227_0022</td><td>pyspark</td><td>idle</td><td><a target=\"_blank\" href=\"http://ip-192-168-10-45.us-west-2.compute.internal:20888/proxy/application_1657752492227_0022/\">Link</a></td><td><a target=\"_blank\" href=\"http://ip-192-168-8-63.us-west-2.compute.internal:8042/node/containerlogs/container_1657752492227_0022_01_000001/livy\">Link</a></td><td>None</td><td>✔</td></tr></table>"
      ],
      "text/plain": [
       "<IPython.core.display.HTML object>"
      ]
     },
     "metadata": {},
     "output_type": "display_data"
    },
    {
     "data": {
      "application/vnd.jupyter.widget-view+json": {
       "model_id": "",
       "version_major": 2,
       "version_minor": 0
      },
      "text/plain": [
       "FloatProgress(value=0.0, bar_style='info', description='Progress:', layout=Layout(height='25px', width='50%'),…"
      ]
     },
     "metadata": {},
     "output_type": "display_data"
    },
    {
     "name": "stdout",
     "output_type": "stream",
     "text": [
      "SparkSession available as 'spark'.\n"
     ]
    },
    {
     "data": {
      "application/vnd.jupyter.widget-view+json": {
       "model_id": "",
       "version_major": 2,
       "version_minor": 0
      },
      "text/plain": [
       "FloatProgress(value=0.0, bar_style='info', description='Progress:', layout=Layout(height='25px', width='50%'),…"
      ]
     },
     "metadata": {},
     "output_type": "display_data"
    },
    {
     "name": "stdout",
     "output_type": "stream",
     "text": [
      "1792"
     ]
    }
   ],
   "source": [
    "import tecton\n",
    "from datetime import date, datetime, timedelta\n",
    "\n",
    "ws = tecton.get_workspace('jfarr')\n",
    "fv = ws.get_feature_view('customer_last_order_90d')\n",
    "\n",
    "df = fv.run(start_time=datetime(2022, 1, 1), end_time=datetime.now()).to_spark()\n",
    "df.count()"
   ]
  },
  {
   "cell_type": "code",
   "execution_count": 2,
   "id": "e576d724",
   "metadata": {},
   "outputs": [
    {
     "data": {
      "application/vnd.jupyter.widget-view+json": {
       "model_id": "",
       "version_major": 2,
       "version_minor": 0
      },
      "text/plain": [
       "FloatProgress(value=0.0, bar_style='info', description='Progress:', layout=Layout(height='25px', width='50%'),…"
      ]
     },
     "metadata": {},
     "output_type": "display_data"
    },
    {
     "name": "stdout",
     "output_type": "stream",
     "text": [
      "+----------+-------------------+-----------------------+----------------------------+-------------+-------------------------+----------------------+-----------------+------------------+\n",
      "|shopper_id|      window_end_ts|crm_portfolio_type_name|c3_call_center_location_name|reseller_name|primary_payment_type_name|point_of_purchase_name|bill_sub_geo_code|purchase_path_name|\n",
      "+----------+-------------------+-----------------------+----------------------------+-------------+-------------------------+----------------------+-----------------+------------------+\n",
      "| 292787210|2022-01-14 01:31:21|                   null|                         Web|  GoDaddy.com|                 ccavenue|                   Web|               MH|        My Account|\n",
      "| 292787210|2022-02-17 06:49:11|                   null|                         Web|  GoDaddy.com|                 ccavenue|                   Web|               MH|        My Account|\n",
      "| 292787210|2022-04-24 20:58:05|                   null|                         Web|  GoDaddy.com|             bank payment|                   Web|               MH|        My Account|\n",
      "| 292787210|2022-05-24 06:40:40|                   null|                         Web|  GoDaddy.com|             bank payment|                   Web|               MH|        My Account|\n",
      "| 292787210|2022-03-16 23:32:57|                   null|                         Web|  GoDaddy.com|             bank payment|                   Web|               MH|        My Account|\n",
      "+----------+-------------------+-----------------------+----------------------------+-------------+-------------------------+----------------------+-----------------+------------------+"
     ]
    }
   ],
   "source": [
    "df2 = df.filter(df.shopper_id == '292787210')\n",
    "df2.show()"
   ]
  },
  {
   "cell_type": "markdown",
   "id": "5c18be95",
   "metadata": {},
   "source": [
    "### get_historical_features"
   ]
  },
  {
   "cell_type": "code",
   "execution_count": 3,
   "id": "efb6dc49",
   "metadata": {},
   "outputs": [
    {
     "data": {
      "application/vnd.jupyter.widget-view+json": {
       "model_id": "",
       "version_major": 2,
       "version_minor": 0
      },
      "text/plain": [
       "FloatProgress(value=0.0, bar_style='info', description='Progress:', layout=Layout(height='25px', width='50%'),…"
      ]
     },
     "metadata": {},
     "output_type": "display_data"
    },
    {
     "name": "stdout",
     "output_type": "stream",
     "text": [
      "1"
     ]
    }
   ],
   "source": [
    "import pandas\n",
    "import tecton\n",
    "from datetime import datetime\n",
    "\n",
    "ws = tecton.get_workspace('jfarr')\n",
    "fv = ws.get_feature_view('customer_last_order_90d')\n",
    "\n",
    "spine = pandas.DataFrame({'shopper_id': ['292787210'], 'window_end_ts': datetime(2022, 3, 16, 23, 32, 57)})\n",
    "#spine = pandas.DataFrame({'shopper_id': ['292787210'], 'window_end_ts': datetime.now()})\n",
    "\n",
    "df = fv.get_historical_features(spine, from_source=True).to_spark()\n",
    "df.count()"
   ]
  },
  {
   "cell_type": "code",
   "execution_count": 1,
   "id": "bc73ee9a",
   "metadata": {},
   "outputs": [
    {
     "name": "stdout",
     "output_type": "stream",
     "text": [
      "Starting Spark application\n"
     ]
    },
    {
     "data": {
      "text/html": [
       "<table>\n",
       "<tr><th>ID</th><th>YARN Application ID</th><th>Kind</th><th>State</th><th>Spark UI</th><th>Driver log</th><th>User</th><th>Current session?</th></tr><tr><td>1</td><td>application_1658414496281_0003</td><td>pyspark</td><td>idle</td><td><a target=\"_blank\" href=\"http://ip-192-168-9-9.us-west-2.compute.internal:20888/proxy/application_1658414496281_0003/\">Link</a></td><td><a target=\"_blank\" href=\"http://ip-192-168-10-251.us-west-2.compute.internal:8042/node/containerlogs/container_1658414496281_0003_01_000001/livy\">Link</a></td><td>None</td><td>✔</td></tr></table>"
      ],
      "text/plain": [
       "<IPython.core.display.HTML object>"
      ]
     },
     "metadata": {},
     "output_type": "display_data"
    },
    {
     "data": {
      "application/vnd.jupyter.widget-view+json": {
       "model_id": "",
       "version_major": 2,
       "version_minor": 0
      },
      "text/plain": [
       "FloatProgress(value=0.0, bar_style='info', description='Progress:', layout=Layout(height='25px', width='50%'),…"
      ]
     },
     "metadata": {},
     "output_type": "display_data"
    },
    {
     "name": "stdout",
     "output_type": "stream",
     "text": [
      "SparkSession available as 'spark'.\n"
     ]
    },
    {
     "data": {
      "application/vnd.jupyter.widget-view+json": {
       "model_id": "",
       "version_major": 2,
       "version_minor": 0
      },
      "text/plain": [
       "FloatProgress(value=0.0, bar_style='info', description='Progress:', layout=Layout(height='25px', width='50%'),…"
      ]
     },
     "metadata": {},
     "output_type": "display_data"
    },
    {
     "name": "stdout",
     "output_type": "stream",
     "text": [
      "1"
     ]
    }
   ],
   "source": [
    "import pandas\n",
    "import tecton\n",
    "from datetime import datetime\n",
    "\n",
    "ws = tecton.get_workspace('prod')\n",
    "fv = ws.get_feature_view('customer_last_order_90d')\n",
    "\n",
    "spine = pandas.DataFrame({'shopper_id': ['292787210'], 'window_end_ts': datetime.now()})\n",
    "\n",
    "df = fv.get_historical_features(spine, from_source=True).to_spark()\n",
    "df.count()"
   ]
  },
  {
   "cell_type": "code",
   "execution_count": 4,
   "id": "d2d72616",
   "metadata": {},
   "outputs": [
    {
     "data": {
      "application/vnd.jupyter.widget-view+json": {
       "model_id": "",
       "version_major": 2,
       "version_minor": 0
      },
      "text/plain": [
       "FloatProgress(value=0.0, bar_style='info', description='Progress:', layout=Layout(height='25px', width='50%'),…"
      ]
     },
     "metadata": {},
     "output_type": "display_data"
    },
    {
     "name": "stdout",
     "output_type": "stream",
     "text": [
      "+----------+-------------------+------------------------------------------------+-----------------------------------------------------+--------------------------------------+--------------------------------------------------+-----------------------------------------------+------------------------------------------+-------------------------------------------+\n",
      "|shopper_id|window_end_ts      |customer_last_order_90d__crm_portfolio_type_name|customer_last_order_90d__c3_call_center_location_name|customer_last_order_90d__reseller_name|customer_last_order_90d__primary_payment_type_name|customer_last_order_90d__point_of_purchase_name|customer_last_order_90d__bill_sub_geo_code|customer_last_order_90d__purchase_path_name|\n",
      "+----------+-------------------+------------------------------------------------+-----------------------------------------------------+--------------------------------------+--------------------------------------------------+-----------------------------------------------+------------------------------------------+-------------------------------------------+\n",
      "|292787210 |2022-03-16 23:32:57|null                                            |Web                                                  |GoDaddy.com                           |bank payment                                      |Web                                            |MH                                        |My Account                                 |\n",
      "+----------+-------------------+------------------------------------------------+-----------------------------------------------------+--------------------------------------+--------------------------------------------------+-----------------------------------------------+------------------------------------------+-------------------------------------------+"
     ]
    }
   ],
   "source": [
    "df.show(truncate=False)"
   ]
  },
  {
   "cell_type": "markdown",
   "id": "fae297fc",
   "metadata": {},
   "source": [
    "## Test feature service"
   ]
  },
  {
   "cell_type": "code",
   "execution_count": 28,
   "id": "edcace52",
   "metadata": {},
   "outputs": [
    {
     "data": {
      "application/vnd.jupyter.widget-view+json": {
       "model_id": "",
       "version_major": 2,
       "version_minor": 0
      },
      "text/plain": [
       "FloatProgress(value=0.0, bar_style='info', description='Progress:', layout=Layout(height='25px', width='50%'),…"
      ]
     },
     "metadata": {},
     "output_type": "display_data"
    },
    {
     "name": "stdout",
     "output_type": "stream",
     "text": [
      "1"
     ]
    }
   ],
   "source": [
    "import tecton\n",
    "import pandas\n",
    "from datetime import datetime\n",
    "\n",
    "ws = tecton.get_workspace('tecton_integration_testing')\n",
    "fs = ws.get_feature_service(\"shopper_ml_service\")\n",
    "spine=pandas.DataFrame({'shopper_id': [\"292787210\"], 'date': [datetime.now()]})\n",
    "df = fs.get_historical_features(spine).to_spark()\n",
    "df.count()"
   ]
  },
  {
   "cell_type": "code",
   "execution_count": 26,
   "id": "a4a3df83",
   "metadata": {},
   "outputs": [
    {
     "data": {
      "application/vnd.jupyter.widget-view+json": {
       "model_id": "",
       "version_major": 2,
       "version_minor": 0
      },
      "text/plain": [
       "FloatProgress(value=0.0, bar_style='info', description='Progress:', layout=Layout(height='25px', width='50%'),…"
      ]
     },
     "metadata": {},
     "output_type": "display_data"
    },
    {
     "name": "stdout",
     "output_type": "stream",
     "text": [
      "+------------------------------------------------------------+---------------------------------------------------+----------------------------------------------+--------------------------------------------------------------+-----------------------------------------------------+------------------------------------------------+\n",
      "|customer_orders_90d__domain_name_registration_qty_sum_90d_1d|customer_orders_90d__virtual_hosting_qty_sum_90d_1d|customer_orders_90d__non_top_20_qty_sum_90d_1d|customer_orders_lifetime__domain_name_registration_order_count|customer_orders_lifetime__virtual_hosting_order_count|customer_orders_lifetime__non_top_20_order_count|\n",
      "+------------------------------------------------------------+---------------------------------------------------+----------------------------------------------+--------------------------------------------------------------+-----------------------------------------------------+------------------------------------------------+\n",
      "|null                                                        |4                                                  |null                                          |3                                                             |10                                                   |1                                               |\n",
      "+------------------------------------------------------------+---------------------------------------------------+----------------------------------------------+--------------------------------------------------------------+-----------------------------------------------------+------------------------------------------------+"
     ]
    }
   ],
   "source": [
    "df2 = df.select(\"customer_orders_90d__domain_name_registration_qty_sum_90d_1d\", \"customer_orders_90d__virtual_hosting_qty_sum_90d_1d\", \"customer_orders_90d__non_top_20_qty_sum_90d_1d\", \"customer_orders_lifetime__domain_name_registration_order_count\", \"customer_orders_lifetime__virtual_hosting_order_count\", \"customer_orders_lifetime__non_top_20_order_count\")\n",
    "df2.show(truncate=False)"
   ]
  },
  {
   "cell_type": "code",
   "execution_count": null,
   "id": "2f904d8d",
   "metadata": {},
   "outputs": [],
   "source": []
  },
  {
   "cell_type": "markdown",
   "id": "30882e8d",
   "metadata": {},
   "source": [
    "## Get orders for test shopper"
   ]
  },
  {
   "cell_type": "code",
   "execution_count": 7,
   "id": "d2e75696",
   "metadata": {},
   "outputs": [
    {
     "data": {
      "application/vnd.jupyter.widget-view+json": {
       "model_id": "",
       "version_major": 2,
       "version_minor": 0
      },
      "text/plain": [
       "FloatProgress(value=0.0, bar_style='info', description='Progress:', layout=Layout(height='25px', width='50%'),…"
      ]
     },
     "metadata": {},
     "output_type": "display_data"
    },
    {
     "name": "stdout",
     "output_type": "stream",
     "text": [
      "+---------------+-------------------+-----+----------------------------+---------------------------+\n",
      "|subscription_id|product_family_name|pf_id|subscription_modify_mst_date|original_list_price_usd_amt|\n",
      "+---------------+-------------------+-----+----------------------------+---------------------------+\n",
      "|569541126:2    |domain             |56401|2022-05-01                  |0.31                       |\n",
      "+---------------+-------------------+-----+----------------------------+---------------------------+"
     ]
    }
   ],
   "source": [
    "orders = spark.sql(\"\"\"\n",
    "SELECT\n",
    "  e.subscription_id,\n",
    "  e.product_family_name,\n",
    "  pf_id,\n",
    "  subscription_modify_mst_date,\n",
    "  original_list_price_usd_amt\n",
    "FROM tecton_dev.dim_subscription s\n",
    "INNER JOIN tecton_dev.dim_entitlement e\n",
    "ON (\n",
    "  e.subscription_id = s.subscription_id\n",
    ")\n",
    "WHERE s.shopper_id = '390385471'\n",
    "\"\"\")\n",
    "orders.show(truncate=False)"
   ]
  },
  {
   "cell_type": "markdown",
   "id": "7c6b909f",
   "metadata": {},
   "source": [
    "## Test customer_products_90d"
   ]
  },
  {
   "cell_type": "markdown",
   "id": "b2692198",
   "metadata": {},
   "source": [
    "### run"
   ]
  },
  {
   "cell_type": "code",
   "execution_count": 1,
   "id": "29df00f6",
   "metadata": {},
   "outputs": [
    {
     "name": "stdout",
     "output_type": "stream",
     "text": [
      "Starting Spark application\n"
     ]
    },
    {
     "data": {
      "text/html": [
       "<table>\n",
       "<tr><th>ID</th><th>YARN Application ID</th><th>Kind</th><th>State</th><th>Spark UI</th><th>Driver log</th><th>User</th><th>Current session?</th></tr><tr><td>0</td><td>application_1658859819194_0002</td><td>pyspark</td><td>idle</td><td><a target=\"_blank\" href=\"http://ip-192-168-11-116.us-west-2.compute.internal:20888/proxy/application_1658859819194_0002/\">Link</a></td><td><a target=\"_blank\" href=\"http://ip-192-168-8-174.us-west-2.compute.internal:8042/node/containerlogs/container_1658859819194_0002_01_000001/livy\">Link</a></td><td>None</td><td>✔</td></tr></table>"
      ],
      "text/plain": [
       "<IPython.core.display.HTML object>"
      ]
     },
     "metadata": {},
     "output_type": "display_data"
    },
    {
     "data": {
      "application/vnd.jupyter.widget-view+json": {
       "model_id": "",
       "version_major": 2,
       "version_minor": 0
      },
      "text/plain": [
       "FloatProgress(value=0.0, bar_style='info', description='Progress:', layout=Layout(height='25px', width='50%'),…"
      ]
     },
     "metadata": {},
     "output_type": "display_data"
    },
    {
     "name": "stdout",
     "output_type": "stream",
     "text": [
      "SparkSession available as 'spark'.\n"
     ]
    },
    {
     "data": {
      "application/vnd.jupyter.widget-view+json": {
       "model_id": "",
       "version_major": 2,
       "version_minor": 0
      },
      "text/plain": [
       "FloatProgress(value=0.0, bar_style='info', description='Progress:', layout=Layout(height='25px', width='50%'),…"
      ]
     },
     "metadata": {},
     "output_type": "display_data"
    },
    {
     "name": "stdout",
     "output_type": "stream",
     "text": [
      "509"
     ]
    }
   ],
   "source": [
    "import tecton\n",
    "from datetime import date, datetime, timedelta\n",
    "\n",
    "ws = tecton.get_workspace('jfarr')\n",
    "fv = ws.get_feature_view('customer_products_90d_ts')\n",
    "\n",
    "df = fv.run(start_time=datetime(2022, 1, 1), end_time=datetime.now()).to_spark()\n",
    "df.count()"
   ]
  },
  {
   "cell_type": "code",
   "execution_count": 2,
   "id": "136edc1e",
   "metadata": {
    "scrolled": true
   },
   "outputs": [
    {
     "data": {
      "application/vnd.jupyter.widget-view+json": {
       "model_id": "",
       "version_major": 2,
       "version_minor": 0
      },
      "text/plain": [
       "FloatProgress(value=0.0, bar_style='info', description='Progress:', layout=Layout(height='25px', width='50%'),…"
      ]
     },
     "metadata": {},
     "output_type": "display_data"
    },
    {
     "name": "stdout",
     "output_type": "stream",
     "text": [
      "+----------+-------------------+-----------------------------------------+-----------------------------------------+------------------------------------------+-----------------------------+-----------------------------+------------------------------+---------------------------------+---------------------------------+----------------------------------+-----------------------------------+-----------------------------------+------------------------------------+-----------------------------+-----------------------------+------------------------------+------------------------------+------------------------------+-------------------------------+---------------------------------------+---------------------------------------+----------------------------------------+---------------------------+---------------------------+----------------------------+-------------------------------+-------------------------------+--------------------------------+---------------------------------+---------------------------------+----------------------------------+---------------------------+---------------------------+----------------------------+----------------------------+----------------------------+-----------------------------+-------------------------------------------+-------------------------------------------+--------------------------------------------+-------------------------------+-------------------------------+--------------------------------+-----------------------------------+-----------------------------------+------------------------------------+-------------------------------------+-------------------------------------+--------------------------------------+-------------------------------+-------------------------------+--------------------------------+--------------------------------+--------------------------------+---------------------------------+--------------------------------------------------+--------------------------------------------------+---------------------------------------------------+--------------------------------------+--------------------------------------+---------------------------------------+------------------------------------------+------------------------------------------+-------------------------------------------+--------------------------------------------+--------------------------------------------+---------------------------------------------+--------------------------------------+--------------------------------------+---------------------------------------+---------------------------------------+---------------------------------------+----------------------------------------+------------------------------------------------+------------------------------------------------+-------------------------------------------------+------------------------------------+------------------------------------+-------------------------------------+----------------------------------------+----------------------------------------+-----------------------------------------+------------------------------------------+------------------------------------------+-------------------------------------------+------------------------------------+------------------------------------+-------------------------------------+-------------------------------------+-------------------------------------+--------------------------------------+--------------------------------------------+--------------------------------------------+---------------------------------------------+--------------------------------+--------------------------------+---------------------------------+------------------------------------+------------------------------------+-------------------------------------+--------------------------------------+--------------------------------------+---------------------------------------+--------------------------------+--------------------------------+---------------------------------+---------------------------------+---------------------------------+----------------------------------+-------------------------------------------+-------------------------------------------+--------------------------------------------+-------------------------------+-------------------------------+--------------------------------+-----------------------------------+-----------------------------------+------------------------------------+-------------------------------------+-------------------------------------+--------------------------------------+-------------------------------+-------------------------------+--------------------------------+--------------------------------+--------------------------------+---------------------------------+------------------------------------------------+------------------------------------------------+-------------------------------------------------+------------------------------------+------------------------------------+-------------------------------------+----------------------------------------+----------------------------------------+-----------------------------------------+------------------------------------------+------------------------------------------+-------------------------------------------+------------------------------------+------------------------------------+-------------------------------------+-------------------------------------+-------------------------------------+--------------------------------------+-------------------------------------------------+-------------------------------------------------+--------------------------------------------------+-------------------------------------+-------------------------------------+--------------------------------------+-----------------------------------------+-----------------------------------------+------------------------------------------+-------------------------------------------+-------------------------------------------+--------------------------------------------+-------------------------------------+-------------------------------------+--------------------------------------+--------------------------------------+--------------------------------------+---------------------------------------+\n",
      "|shopper_id|      window_end_ts|active_original_list_price_amt_min_90d_1d|active_original_list_price_amt_max_90d_1d|active_original_list_price_amt_mean_90d_1d|active_create_date_min_90d_1d|active_create_date_max_90d_1d|active_create_date_mean_90d_1d|active_expiration_date_min_90d_1d|active_expiration_date_max_90d_1d|active_expiration_date_mean_90d_1d|active_last_renewal_date_min_90d_1d|active_last_renewal_date_max_90d_1d|active_last_renewal_date_mean_90d_1d|active_cancel_date_min_90d_1d|active_cancel_date_max_90d_1d|active_cancel_date_mean_90d_1d|active_billing_date_min_90d_1d|active_billing_date_max_90d_1d|active_billing_date_mean_90d_1d|free_original_list_price_amt_min_90d_1d|free_original_list_price_amt_max_90d_1d|free_original_list_price_amt_mean_90d_1d|free_create_date_min_90d_1d|free_create_date_max_90d_1d|free_create_date_mean_90d_1d|free_expiration_date_min_90d_1d|free_expiration_date_max_90d_1d|free_expiration_date_mean_90d_1d|free_last_renewal_date_min_90d_1d|free_last_renewal_date_max_90d_1d|free_last_renewal_date_mean_90d_1d|free_cancel_date_min_90d_1d|free_cancel_date_max_90d_1d|free_cancel_date_mean_90d_1d|free_billing_date_min_90d_1d|free_billing_date_max_90d_1d|free_billing_date_mean_90d_1d|canceled_original_list_price_amt_min_90d_1d|canceled_original_list_price_amt_max_90d_1d|canceled_original_list_price_amt_mean_90d_1d|canceled_create_date_min_90d_1d|canceled_create_date_max_90d_1d|canceled_create_date_mean_90d_1d|canceled_expiration_date_min_90d_1d|canceled_expiration_date_max_90d_1d|canceled_expiration_date_mean_90d_1d|canceled_last_renewal_date_min_90d_1d|canceled_last_renewal_date_max_90d_1d|canceled_last_renewal_date_mean_90d_1d|canceled_cancel_date_min_90d_1d|canceled_cancel_date_max_90d_1d|canceled_cancel_date_mean_90d_1d|canceled_billing_date_min_90d_1d|canceled_billing_date_max_90d_1d|canceled_billing_date_mean_90d_1d|website_builder_original_list_price_amt_min_90d_1d|website_builder_original_list_price_amt_max_90d_1d|website_builder_original_list_price_amt_mean_90d_1d|website_builder_create_date_min_90d_1d|website_builder_create_date_max_90d_1d|website_builder_create_date_mean_90d_1d|website_builder_expiration_date_min_90d_1d|website_builder_expiration_date_max_90d_1d|website_builder_expiration_date_mean_90d_1d|website_builder_last_renewal_date_min_90d_1d|website_builder_last_renewal_date_max_90d_1d|website_builder_last_renewal_date_mean_90d_1d|website_builder_cancel_date_min_90d_1d|website_builder_cancel_date_max_90d_1d|website_builder_cancel_date_mean_90d_1d|website_builder_billing_date_min_90d_1d|website_builder_billing_date_max_90d_1d|website_builder_billing_date_mean_90d_1d|other_product_original_list_price_amt_min_90d_1d|other_product_original_list_price_amt_max_90d_1d|other_product_original_list_price_amt_mean_90d_1d|other_product_create_date_min_90d_1d|other_product_create_date_max_90d_1d|other_product_create_date_mean_90d_1d|other_product_expiration_date_min_90d_1d|other_product_expiration_date_max_90d_1d|other_product_expiration_date_mean_90d_1d|other_product_last_renewal_date_min_90d_1d|other_product_last_renewal_date_max_90d_1d|other_product_last_renewal_date_mean_90d_1d|other_product_cancel_date_min_90d_1d|other_product_cancel_date_max_90d_1d|other_product_cancel_date_mean_90d_1d|other_product_billing_date_min_90d_1d|other_product_billing_date_max_90d_1d|other_product_billing_date_mean_90d_1d|workspace_original_list_price_amt_min_90d_1d|workspace_original_list_price_amt_max_90d_1d|workspace_original_list_price_amt_mean_90d_1d|workspace_create_date_min_90d_1d|workspace_create_date_max_90d_1d|workspace_create_date_mean_90d_1d|workspace_expiration_date_min_90d_1d|workspace_expiration_date_max_90d_1d|workspace_expiration_date_mean_90d_1d|workspace_last_renewal_date_min_90d_1d|workspace_last_renewal_date_max_90d_1d|workspace_last_renewal_date_mean_90d_1d|workspace_cancel_date_min_90d_1d|workspace_cancel_date_max_90d_1d|workspace_cancel_date_mean_90d_1d|workspace_billing_date_min_90d_1d|workspace_billing_date_max_90d_1d|workspace_billing_date_mean_90d_1d|presence_original_list_price_amt_min_90d_1d|presence_original_list_price_amt_max_90d_1d|presence_original_list_price_amt_mean_90d_1d|presence_create_date_min_90d_1d|presence_create_date_max_90d_1d|presence_create_date_mean_90d_1d|presence_expiration_date_min_90d_1d|presence_expiration_date_max_90d_1d|presence_expiration_date_mean_90d_1d|presence_last_renewal_date_min_90d_1d|presence_last_renewal_date_max_90d_1d|presence_last_renewal_date_mean_90d_1d|presence_cancel_date_min_90d_1d|presence_cancel_date_max_90d_1d|presence_cancel_date_mean_90d_1d|presence_billing_date_min_90d_1d|presence_billing_date_max_90d_1d|presence_billing_date_mean_90d_1d|site_building_original_list_price_amt_min_90d_1d|site_building_original_list_price_amt_max_90d_1d|site_building_original_list_price_amt_mean_90d_1d|site_building_create_date_min_90d_1d|site_building_create_date_max_90d_1d|site_building_create_date_mean_90d_1d|site_building_expiration_date_min_90d_1d|site_building_expiration_date_max_90d_1d|site_building_expiration_date_mean_90d_1d|site_building_last_renewal_date_min_90d_1d|site_building_last_renewal_date_max_90d_1d|site_building_last_renewal_date_mean_90d_1d|site_building_cancel_date_min_90d_1d|site_building_cancel_date_max_90d_1d|site_building_cancel_date_mean_90d_1d|site_building_billing_date_min_90d_1d|site_building_billing_date_max_90d_1d|site_building_billing_date_mean_90d_1d|other_category_original_list_price_amt_min_90d_1d|other_category_original_list_price_amt_max_90d_1d|other_category_original_list_price_amt_mean_90d_1d|other_category_create_date_min_90d_1d|other_category_create_date_max_90d_1d|other_category_create_date_mean_90d_1d|other_category_expiration_date_min_90d_1d|other_category_expiration_date_max_90d_1d|other_category_expiration_date_mean_90d_1d|other_category_last_renewal_date_min_90d_1d|other_category_last_renewal_date_max_90d_1d|other_category_last_renewal_date_mean_90d_1d|other_category_cancel_date_min_90d_1d|other_category_cancel_date_max_90d_1d|other_category_cancel_date_mean_90d_1d|other_category_billing_date_min_90d_1d|other_category_billing_date_max_90d_1d|other_category_billing_date_mean_90d_1d|\n",
      "+----------+-------------------+-----------------------------------------+-----------------------------------------+------------------------------------------+-----------------------------+-----------------------------+------------------------------+---------------------------------+---------------------------------+----------------------------------+-----------------------------------+-----------------------------------+------------------------------------+-----------------------------+-----------------------------+------------------------------+------------------------------+------------------------------+-------------------------------+---------------------------------------+---------------------------------------+----------------------------------------+---------------------------+---------------------------+----------------------------+-------------------------------+-------------------------------+--------------------------------+---------------------------------+---------------------------------+----------------------------------+---------------------------+---------------------------+----------------------------+----------------------------+----------------------------+-----------------------------+-------------------------------------------+-------------------------------------------+--------------------------------------------+-------------------------------+-------------------------------+--------------------------------+-----------------------------------+-----------------------------------+------------------------------------+-------------------------------------+-------------------------------------+--------------------------------------+-------------------------------+-------------------------------+--------------------------------+--------------------------------+--------------------------------+---------------------------------+--------------------------------------------------+--------------------------------------------------+---------------------------------------------------+--------------------------------------+--------------------------------------+---------------------------------------+------------------------------------------+------------------------------------------+-------------------------------------------+--------------------------------------------+--------------------------------------------+---------------------------------------------+--------------------------------------+--------------------------------------+---------------------------------------+---------------------------------------+---------------------------------------+----------------------------------------+------------------------------------------------+------------------------------------------------+-------------------------------------------------+------------------------------------+------------------------------------+-------------------------------------+----------------------------------------+----------------------------------------+-----------------------------------------+------------------------------------------+------------------------------------------+-------------------------------------------+------------------------------------+------------------------------------+-------------------------------------+-------------------------------------+-------------------------------------+--------------------------------------+--------------------------------------------+--------------------------------------------+---------------------------------------------+--------------------------------+--------------------------------+---------------------------------+------------------------------------+------------------------------------+-------------------------------------+--------------------------------------+--------------------------------------+---------------------------------------+--------------------------------+--------------------------------+---------------------------------+---------------------------------+---------------------------------+----------------------------------+-------------------------------------------+-------------------------------------------+--------------------------------------------+-------------------------------+-------------------------------+--------------------------------+-----------------------------------+-----------------------------------+------------------------------------+-------------------------------------+-------------------------------------+--------------------------------------+-------------------------------+-------------------------------+--------------------------------+--------------------------------+--------------------------------+---------------------------------+------------------------------------------------+------------------------------------------------+-------------------------------------------------+------------------------------------+------------------------------------+-------------------------------------+----------------------------------------+----------------------------------------+-----------------------------------------+------------------------------------------+------------------------------------------+-------------------------------------------+------------------------------------+------------------------------------+-------------------------------------+-------------------------------------+-------------------------------------+--------------------------------------+-------------------------------------------------+-------------------------------------------------+--------------------------------------------------+-------------------------------------+-------------------------------------+--------------------------------------+-----------------------------------------+-----------------------------------------+------------------------------------------+-------------------------------------------+-------------------------------------------+--------------------------------------------+-------------------------------------+-------------------------------------+--------------------------------------+--------------------------------------+--------------------------------------+---------------------------------------+\n",
      "| 390385471|2022-05-01 19:49:00|                                     null|                                     null|                                      null|                         null|                         null|                          null|                             null|                             null|                              null|                               null|                               null|                                null|                         null|                         null|                          null|                          null|                          null|                           null|                                   null|                                   null|                                    null|                       null|                       null|                        null|                           null|                           null|                            null|                             null|                             null|                              null|                       null|                       null|                        null|                        null|                        null|                         null|                                       null|                                       null|                                        null|                           null|                           null|                            null|                               null|                               null|                                null|                                 null|                                 null|                                  null|                           null|                           null|                            null|                            null|                            null|                             null|                                              null|                                              null|                                               null|                                  null|                                  null|                                   null|                                      null|                                      null|                                       null|                                        null|                                        null|                                         null|                                  null|                                  null|                                   null|                                   null|                                   null|                                    null|                                            0.31|                                            0.31|                                             0.31|                         1.6513632E9|                         1.6513632E9|                          1.6513632E9|                             1.6828992E9|                             1.6828992E9|                              1.6828992E9|                               1.6863552E9|                               1.6863552E9|                                1.6863552E9|                                null|                                null|                                 null|                          1.6829856E9|                          1.6829856E9|                           1.6829856E9|                                        null|                                        null|                                         null|                            null|                            null|                             null|                                null|                                null|                                 null|                                  null|                                  null|                                   null|                            null|                            null|                             null|                             null|                             null|                              null|                                       null|                                       null|                                        null|                           null|                           null|                            null|                               null|                               null|                                null|                                 null|                                 null|                                  null|                           null|                           null|                            null|                            null|                            null|                             null|                                            null|                                            null|                                             null|                                null|                                null|                                 null|                                    null|                                    null|                                     null|                                      null|                                      null|                                       null|                                null|                                null|                                 null|                                 null|                                 null|                                  null|                                             0.31|                                             0.31|                                              0.31|                          1.6513632E9|                          1.6513632E9|                           1.6513632E9|                              1.6828992E9|                              1.6828992E9|                               1.6828992E9|                                1.6863552E9|                                1.6863552E9|                                 1.6863552E9|                                 null|                                 null|                                  null|                           1.6829856E9|                           1.6829856E9|                            1.6829856E9|\n",
      "+----------+-------------------+-----------------------------------------+-----------------------------------------+------------------------------------------+-----------------------------+-----------------------------+------------------------------+---------------------------------+---------------------------------+----------------------------------+-----------------------------------+-----------------------------------+------------------------------------+-----------------------------+-----------------------------+------------------------------+------------------------------+------------------------------+-------------------------------+---------------------------------------+---------------------------------------+----------------------------------------+---------------------------+---------------------------+----------------------------+-------------------------------+-------------------------------+--------------------------------+---------------------------------+---------------------------------+----------------------------------+---------------------------+---------------------------+----------------------------+----------------------------+----------------------------+-----------------------------+-------------------------------------------+-------------------------------------------+--------------------------------------------+-------------------------------+-------------------------------+--------------------------------+-----------------------------------+-----------------------------------+------------------------------------+-------------------------------------+-------------------------------------+--------------------------------------+-------------------------------+-------------------------------+--------------------------------+--------------------------------+--------------------------------+---------------------------------+--------------------------------------------------+--------------------------------------------------+---------------------------------------------------+--------------------------------------+--------------------------------------+---------------------------------------+------------------------------------------+------------------------------------------+-------------------------------------------+--------------------------------------------+--------------------------------------------+---------------------------------------------+--------------------------------------+--------------------------------------+---------------------------------------+---------------------------------------+---------------------------------------+----------------------------------------+------------------------------------------------+------------------------------------------------+-------------------------------------------------+------------------------------------+------------------------------------+-------------------------------------+----------------------------------------+----------------------------------------+-----------------------------------------+------------------------------------------+------------------------------------------+-------------------------------------------+------------------------------------+------------------------------------+-------------------------------------+-------------------------------------+-------------------------------------+--------------------------------------+--------------------------------------------+--------------------------------------------+---------------------------------------------+--------------------------------+--------------------------------+---------------------------------+------------------------------------+------------------------------------+-------------------------------------+--------------------------------------+--------------------------------------+---------------------------------------+--------------------------------+--------------------------------+---------------------------------+---------------------------------+---------------------------------+----------------------------------+-------------------------------------------+-------------------------------------------+--------------------------------------------+-------------------------------+-------------------------------+--------------------------------+-----------------------------------+-----------------------------------+------------------------------------+-------------------------------------+-------------------------------------+--------------------------------------+-------------------------------+-------------------------------+--------------------------------+--------------------------------+--------------------------------+---------------------------------+------------------------------------------------+------------------------------------------------+-------------------------------------------------+------------------------------------+------------------------------------+-------------------------------------+----------------------------------------+----------------------------------------+-----------------------------------------+------------------------------------------+------------------------------------------+-------------------------------------------+------------------------------------+------------------------------------+-------------------------------------+-------------------------------------+-------------------------------------+--------------------------------------+-------------------------------------------------+-------------------------------------------------+--------------------------------------------------+-------------------------------------+-------------------------------------+--------------------------------------+-----------------------------------------+-----------------------------------------+------------------------------------------+-------------------------------------------+-------------------------------------------+--------------------------------------------+-------------------------------------+-------------------------------------+--------------------------------------+--------------------------------------+--------------------------------------+---------------------------------------+"
     ]
    }
   ],
   "source": [
    "df2 = df.filter(df.shopper_id == '390385471')\n",
    "df2.show()"
   ]
  },
  {
   "cell_type": "markdown",
   "id": "f9b8dbd1",
   "metadata": {},
   "source": [
    "### get_historical_features"
   ]
  },
  {
   "cell_type": "code",
   "execution_count": 3,
   "id": "a93a5fd3",
   "metadata": {},
   "outputs": [
    {
     "data": {
      "application/vnd.jupyter.widget-view+json": {
       "model_id": "",
       "version_major": 2,
       "version_minor": 0
      },
      "text/plain": [
       "FloatProgress(value=0.0, bar_style='info', description='Progress:', layout=Layout(height='25px', width='50%'),…"
      ]
     },
     "metadata": {},
     "output_type": "display_data"
    },
    {
     "name": "stderr",
     "output_type": "stream",
     "text": [
      "Interrupted by user\n"
     ]
    }
   ],
   "source": [
    "import pandas\n",
    "import tecton\n",
    "from datetime import datetime\n",
    "\n",
    "ws = tecton.get_workspace('jfarr')\n",
    "fv = ws.get_feature_view('customer_products_90d_ts')\n",
    "\n",
    "spine = pandas.DataFrame({'shopper_id': ['390385471'], 'window_end_ts': datetime(2022, 6, 1)})\n",
    "\n",
    "df = fv.get_historical_features(spine, from_source=True).to_spark()\n",
    "df.count()"
   ]
  },
  {
   "cell_type": "code",
   "execution_count": 4,
   "id": "da3e7ba2",
   "metadata": {},
   "outputs": [
    {
     "data": {
      "application/vnd.jupyter.widget-view+json": {
       "model_id": "",
       "version_major": 2,
       "version_minor": 0
      },
      "text/plain": [
       "FloatProgress(value=0.0, bar_style='info', description='Progress:', layout=Layout(height='25px', width='50%'),…"
      ]
     },
     "metadata": {},
     "output_type": "display_data"
    },
    {
     "name": "stdout",
     "output_type": "stream",
     "text": [
      "1"
     ]
    }
   ],
   "source": [
    "import pandas\n",
    "import tecton\n",
    "from datetime import datetime\n",
    "\n",
    "ws = tecton.get_workspace('prod')\n",
    "fv = ws.get_feature_view('customer_products_90d_ts')\n",
    "\n",
    "spine = pandas.DataFrame({'shopper_id': ['390385471'], 'window_end_ts': datetime(2022, 6, 1)})\n",
    "\n",
    "df = fv.get_historical_features(spine).to_spark()\n",
    "df.count()"
   ]
  },
  {
   "cell_type": "code",
   "execution_count": 5,
   "id": "2e456a09",
   "metadata": {},
   "outputs": [
    {
     "data": {
      "application/vnd.jupyter.widget-view+json": {
       "model_id": "",
       "version_major": 2,
       "version_minor": 0
      },
      "text/plain": [
       "FloatProgress(value=0.0, bar_style='info', description='Progress:', layout=Layout(height='25px', width='50%'),…"
      ]
     },
     "metadata": {},
     "output_type": "display_data"
    },
    {
     "name": "stdout",
     "output_type": "stream",
     "text": [
      "+----------+-------------------+-------------------------------------------------------------------+-------------------------------------------------------------------+--------------------------------------------------------------------+-------------------------------------------------------+-------------------------------------------------------+--------------------------------------------------------+-----------------------------------------------------------+-----------------------------------------------------------+------------------------------------------------------------+-------------------------------------------------------------+-------------------------------------------------------------+--------------------------------------------------------------+-------------------------------------------------------+-------------------------------------------------------+--------------------------------------------------------+--------------------------------------------------------+--------------------------------------------------------+---------------------------------------------------------+-----------------------------------------------------------------+-----------------------------------------------------------------+------------------------------------------------------------------+-----------------------------------------------------+-----------------------------------------------------+------------------------------------------------------+---------------------------------------------------------+---------------------------------------------------------+----------------------------------------------------------+-----------------------------------------------------------+-----------------------------------------------------------+------------------------------------------------------------+-----------------------------------------------------+-----------------------------------------------------+------------------------------------------------------+------------------------------------------------------+------------------------------------------------------+-------------------------------------------------------+---------------------------------------------------------------------+---------------------------------------------------------------------+----------------------------------------------------------------------+---------------------------------------------------------+---------------------------------------------------------+----------------------------------------------------------+-------------------------------------------------------------+-------------------------------------------------------------+--------------------------------------------------------------+---------------------------------------------------------------+---------------------------------------------------------------+----------------------------------------------------------------+---------------------------------------------------------+---------------------------------------------------------+----------------------------------------------------------+----------------------------------------------------------+----------------------------------------------------------+-----------------------------------------------------------+----------------------------------------------------------------------------+----------------------------------------------------------------------------+-----------------------------------------------------------------------------+----------------------------------------------------------------+----------------------------------------------------------------+-----------------------------------------------------------------+--------------------------------------------------------------------+--------------------------------------------------------------------+---------------------------------------------------------------------+----------------------------------------------------------------------+----------------------------------------------------------------------+-----------------------------------------------------------------------+----------------------------------------------------------------+----------------------------------------------------------------+-----------------------------------------------------------------+-----------------------------------------------------------------+-----------------------------------------------------------------+------------------------------------------------------------------+--------------------------------------------------------------------------+--------------------------------------------------------------------------+---------------------------------------------------------------------------+--------------------------------------------------------------+--------------------------------------------------------------+---------------------------------------------------------------+------------------------------------------------------------------+------------------------------------------------------------------+-------------------------------------------------------------------+--------------------------------------------------------------------+--------------------------------------------------------------------+---------------------------------------------------------------------+--------------------------------------------------------------+--------------------------------------------------------------+---------------------------------------------------------------+---------------------------------------------------------------+---------------------------------------------------------------+----------------------------------------------------------------+----------------------------------------------------------------------+----------------------------------------------------------------------+-----------------------------------------------------------------------+----------------------------------------------------------+----------------------------------------------------------+-----------------------------------------------------------+--------------------------------------------------------------+--------------------------------------------------------------+---------------------------------------------------------------+----------------------------------------------------------------+----------------------------------------------------------------+-----------------------------------------------------------------+----------------------------------------------------------+----------------------------------------------------------+-----------------------------------------------------------+-----------------------------------------------------------+-----------------------------------------------------------+------------------------------------------------------------+---------------------------------------------------------------------+---------------------------------------------------------------------+----------------------------------------------------------------------+---------------------------------------------------------+---------------------------------------------------------+----------------------------------------------------------+-------------------------------------------------------------+-------------------------------------------------------------+--------------------------------------------------------------+---------------------------------------------------------------+---------------------------------------------------------------+----------------------------------------------------------------+---------------------------------------------------------+---------------------------------------------------------+----------------------------------------------------------+----------------------------------------------------------+----------------------------------------------------------+-----------------------------------------------------------+--------------------------------------------------------------------------+--------------------------------------------------------------------------+---------------------------------------------------------------------------+--------------------------------------------------------------+--------------------------------------------------------------+---------------------------------------------------------------+------------------------------------------------------------------+------------------------------------------------------------------+-------------------------------------------------------------------+--------------------------------------------------------------------+--------------------------------------------------------------------+---------------------------------------------------------------------+--------------------------------------------------------------+--------------------------------------------------------------+---------------------------------------------------------------+---------------------------------------------------------------+---------------------------------------------------------------+----------------------------------------------------------------+---------------------------------------------------------------------------+---------------------------------------------------------------------------+----------------------------------------------------------------------------+---------------------------------------------------------------+---------------------------------------------------------------+----------------------------------------------------------------+-------------------------------------------------------------------+-------------------------------------------------------------------+--------------------------------------------------------------------+---------------------------------------------------------------------+---------------------------------------------------------------------+----------------------------------------------------------------------+---------------------------------------------------------------+---------------------------------------------------------------+----------------------------------------------------------------+----------------------------------------------------------------+----------------------------------------------------------------+-----------------------------------------------------------------+\n",
      "|shopper_id|window_end_ts      |customer_products_90d_ts__active_original_list_price_amt_min_90d_1d|customer_products_90d_ts__active_original_list_price_amt_max_90d_1d|customer_products_90d_ts__active_original_list_price_amt_mean_90d_1d|customer_products_90d_ts__active_create_date_min_90d_1d|customer_products_90d_ts__active_create_date_max_90d_1d|customer_products_90d_ts__active_create_date_mean_90d_1d|customer_products_90d_ts__active_expiration_date_min_90d_1d|customer_products_90d_ts__active_expiration_date_max_90d_1d|customer_products_90d_ts__active_expiration_date_mean_90d_1d|customer_products_90d_ts__active_last_renewal_date_min_90d_1d|customer_products_90d_ts__active_last_renewal_date_max_90d_1d|customer_products_90d_ts__active_last_renewal_date_mean_90d_1d|customer_products_90d_ts__active_cancel_date_min_90d_1d|customer_products_90d_ts__active_cancel_date_max_90d_1d|customer_products_90d_ts__active_cancel_date_mean_90d_1d|customer_products_90d_ts__active_billing_date_min_90d_1d|customer_products_90d_ts__active_billing_date_max_90d_1d|customer_products_90d_ts__active_billing_date_mean_90d_1d|customer_products_90d_ts__free_original_list_price_amt_min_90d_1d|customer_products_90d_ts__free_original_list_price_amt_max_90d_1d|customer_products_90d_ts__free_original_list_price_amt_mean_90d_1d|customer_products_90d_ts__free_create_date_min_90d_1d|customer_products_90d_ts__free_create_date_max_90d_1d|customer_products_90d_ts__free_create_date_mean_90d_1d|customer_products_90d_ts__free_expiration_date_min_90d_1d|customer_products_90d_ts__free_expiration_date_max_90d_1d|customer_products_90d_ts__free_expiration_date_mean_90d_1d|customer_products_90d_ts__free_last_renewal_date_min_90d_1d|customer_products_90d_ts__free_last_renewal_date_max_90d_1d|customer_products_90d_ts__free_last_renewal_date_mean_90d_1d|customer_products_90d_ts__free_cancel_date_min_90d_1d|customer_products_90d_ts__free_cancel_date_max_90d_1d|customer_products_90d_ts__free_cancel_date_mean_90d_1d|customer_products_90d_ts__free_billing_date_min_90d_1d|customer_products_90d_ts__free_billing_date_max_90d_1d|customer_products_90d_ts__free_billing_date_mean_90d_1d|customer_products_90d_ts__canceled_original_list_price_amt_min_90d_1d|customer_products_90d_ts__canceled_original_list_price_amt_max_90d_1d|customer_products_90d_ts__canceled_original_list_price_amt_mean_90d_1d|customer_products_90d_ts__canceled_create_date_min_90d_1d|customer_products_90d_ts__canceled_create_date_max_90d_1d|customer_products_90d_ts__canceled_create_date_mean_90d_1d|customer_products_90d_ts__canceled_expiration_date_min_90d_1d|customer_products_90d_ts__canceled_expiration_date_max_90d_1d|customer_products_90d_ts__canceled_expiration_date_mean_90d_1d|customer_products_90d_ts__canceled_last_renewal_date_min_90d_1d|customer_products_90d_ts__canceled_last_renewal_date_max_90d_1d|customer_products_90d_ts__canceled_last_renewal_date_mean_90d_1d|customer_products_90d_ts__canceled_cancel_date_min_90d_1d|customer_products_90d_ts__canceled_cancel_date_max_90d_1d|customer_products_90d_ts__canceled_cancel_date_mean_90d_1d|customer_products_90d_ts__canceled_billing_date_min_90d_1d|customer_products_90d_ts__canceled_billing_date_max_90d_1d|customer_products_90d_ts__canceled_billing_date_mean_90d_1d|customer_products_90d_ts__website_builder_original_list_price_amt_min_90d_1d|customer_products_90d_ts__website_builder_original_list_price_amt_max_90d_1d|customer_products_90d_ts__website_builder_original_list_price_amt_mean_90d_1d|customer_products_90d_ts__website_builder_create_date_min_90d_1d|customer_products_90d_ts__website_builder_create_date_max_90d_1d|customer_products_90d_ts__website_builder_create_date_mean_90d_1d|customer_products_90d_ts__website_builder_expiration_date_min_90d_1d|customer_products_90d_ts__website_builder_expiration_date_max_90d_1d|customer_products_90d_ts__website_builder_expiration_date_mean_90d_1d|customer_products_90d_ts__website_builder_last_renewal_date_min_90d_1d|customer_products_90d_ts__website_builder_last_renewal_date_max_90d_1d|customer_products_90d_ts__website_builder_last_renewal_date_mean_90d_1d|customer_products_90d_ts__website_builder_cancel_date_min_90d_1d|customer_products_90d_ts__website_builder_cancel_date_max_90d_1d|customer_products_90d_ts__website_builder_cancel_date_mean_90d_1d|customer_products_90d_ts__website_builder_billing_date_min_90d_1d|customer_products_90d_ts__website_builder_billing_date_max_90d_1d|customer_products_90d_ts__website_builder_billing_date_mean_90d_1d|customer_products_90d_ts__other_product_original_list_price_amt_min_90d_1d|customer_products_90d_ts__other_product_original_list_price_amt_max_90d_1d|customer_products_90d_ts__other_product_original_list_price_amt_mean_90d_1d|customer_products_90d_ts__other_product_create_date_min_90d_1d|customer_products_90d_ts__other_product_create_date_max_90d_1d|customer_products_90d_ts__other_product_create_date_mean_90d_1d|customer_products_90d_ts__other_product_expiration_date_min_90d_1d|customer_products_90d_ts__other_product_expiration_date_max_90d_1d|customer_products_90d_ts__other_product_expiration_date_mean_90d_1d|customer_products_90d_ts__other_product_last_renewal_date_min_90d_1d|customer_products_90d_ts__other_product_last_renewal_date_max_90d_1d|customer_products_90d_ts__other_product_last_renewal_date_mean_90d_1d|customer_products_90d_ts__other_product_cancel_date_min_90d_1d|customer_products_90d_ts__other_product_cancel_date_max_90d_1d|customer_products_90d_ts__other_product_cancel_date_mean_90d_1d|customer_products_90d_ts__other_product_billing_date_min_90d_1d|customer_products_90d_ts__other_product_billing_date_max_90d_1d|customer_products_90d_ts__other_product_billing_date_mean_90d_1d|customer_products_90d_ts__workspace_original_list_price_amt_min_90d_1d|customer_products_90d_ts__workspace_original_list_price_amt_max_90d_1d|customer_products_90d_ts__workspace_original_list_price_amt_mean_90d_1d|customer_products_90d_ts__workspace_create_date_min_90d_1d|customer_products_90d_ts__workspace_create_date_max_90d_1d|customer_products_90d_ts__workspace_create_date_mean_90d_1d|customer_products_90d_ts__workspace_expiration_date_min_90d_1d|customer_products_90d_ts__workspace_expiration_date_max_90d_1d|customer_products_90d_ts__workspace_expiration_date_mean_90d_1d|customer_products_90d_ts__workspace_last_renewal_date_min_90d_1d|customer_products_90d_ts__workspace_last_renewal_date_max_90d_1d|customer_products_90d_ts__workspace_last_renewal_date_mean_90d_1d|customer_products_90d_ts__workspace_cancel_date_min_90d_1d|customer_products_90d_ts__workspace_cancel_date_max_90d_1d|customer_products_90d_ts__workspace_cancel_date_mean_90d_1d|customer_products_90d_ts__workspace_billing_date_min_90d_1d|customer_products_90d_ts__workspace_billing_date_max_90d_1d|customer_products_90d_ts__workspace_billing_date_mean_90d_1d|customer_products_90d_ts__presence_original_list_price_amt_min_90d_1d|customer_products_90d_ts__presence_original_list_price_amt_max_90d_1d|customer_products_90d_ts__presence_original_list_price_amt_mean_90d_1d|customer_products_90d_ts__presence_create_date_min_90d_1d|customer_products_90d_ts__presence_create_date_max_90d_1d|customer_products_90d_ts__presence_create_date_mean_90d_1d|customer_products_90d_ts__presence_expiration_date_min_90d_1d|customer_products_90d_ts__presence_expiration_date_max_90d_1d|customer_products_90d_ts__presence_expiration_date_mean_90d_1d|customer_products_90d_ts__presence_last_renewal_date_min_90d_1d|customer_products_90d_ts__presence_last_renewal_date_max_90d_1d|customer_products_90d_ts__presence_last_renewal_date_mean_90d_1d|customer_products_90d_ts__presence_cancel_date_min_90d_1d|customer_products_90d_ts__presence_cancel_date_max_90d_1d|customer_products_90d_ts__presence_cancel_date_mean_90d_1d|customer_products_90d_ts__presence_billing_date_min_90d_1d|customer_products_90d_ts__presence_billing_date_max_90d_1d|customer_products_90d_ts__presence_billing_date_mean_90d_1d|customer_products_90d_ts__site_building_original_list_price_amt_min_90d_1d|customer_products_90d_ts__site_building_original_list_price_amt_max_90d_1d|customer_products_90d_ts__site_building_original_list_price_amt_mean_90d_1d|customer_products_90d_ts__site_building_create_date_min_90d_1d|customer_products_90d_ts__site_building_create_date_max_90d_1d|customer_products_90d_ts__site_building_create_date_mean_90d_1d|customer_products_90d_ts__site_building_expiration_date_min_90d_1d|customer_products_90d_ts__site_building_expiration_date_max_90d_1d|customer_products_90d_ts__site_building_expiration_date_mean_90d_1d|customer_products_90d_ts__site_building_last_renewal_date_min_90d_1d|customer_products_90d_ts__site_building_last_renewal_date_max_90d_1d|customer_products_90d_ts__site_building_last_renewal_date_mean_90d_1d|customer_products_90d_ts__site_building_cancel_date_min_90d_1d|customer_products_90d_ts__site_building_cancel_date_max_90d_1d|customer_products_90d_ts__site_building_cancel_date_mean_90d_1d|customer_products_90d_ts__site_building_billing_date_min_90d_1d|customer_products_90d_ts__site_building_billing_date_max_90d_1d|customer_products_90d_ts__site_building_billing_date_mean_90d_1d|customer_products_90d_ts__other_category_original_list_price_amt_min_90d_1d|customer_products_90d_ts__other_category_original_list_price_amt_max_90d_1d|customer_products_90d_ts__other_category_original_list_price_amt_mean_90d_1d|customer_products_90d_ts__other_category_create_date_min_90d_1d|customer_products_90d_ts__other_category_create_date_max_90d_1d|customer_products_90d_ts__other_category_create_date_mean_90d_1d|customer_products_90d_ts__other_category_expiration_date_min_90d_1d|customer_products_90d_ts__other_category_expiration_date_max_90d_1d|customer_products_90d_ts__other_category_expiration_date_mean_90d_1d|customer_products_90d_ts__other_category_last_renewal_date_min_90d_1d|customer_products_90d_ts__other_category_last_renewal_date_max_90d_1d|customer_products_90d_ts__other_category_last_renewal_date_mean_90d_1d|customer_products_90d_ts__other_category_cancel_date_min_90d_1d|customer_products_90d_ts__other_category_cancel_date_max_90d_1d|customer_products_90d_ts__other_category_cancel_date_mean_90d_1d|customer_products_90d_ts__other_category_billing_date_min_90d_1d|customer_products_90d_ts__other_category_billing_date_max_90d_1d|customer_products_90d_ts__other_category_billing_date_mean_90d_1d|\n",
      "+----------+-------------------+-------------------------------------------------------------------+-------------------------------------------------------------------+--------------------------------------------------------------------+-------------------------------------------------------+-------------------------------------------------------+--------------------------------------------------------+-----------------------------------------------------------+-----------------------------------------------------------+------------------------------------------------------------+-------------------------------------------------------------+-------------------------------------------------------------+--------------------------------------------------------------+-------------------------------------------------------+-------------------------------------------------------+--------------------------------------------------------+--------------------------------------------------------+--------------------------------------------------------+---------------------------------------------------------+-----------------------------------------------------------------+-----------------------------------------------------------------+------------------------------------------------------------------+-----------------------------------------------------+-----------------------------------------------------+------------------------------------------------------+---------------------------------------------------------+---------------------------------------------------------+----------------------------------------------------------+-----------------------------------------------------------+-----------------------------------------------------------+------------------------------------------------------------+-----------------------------------------------------+-----------------------------------------------------+------------------------------------------------------+------------------------------------------------------+------------------------------------------------------+-------------------------------------------------------+---------------------------------------------------------------------+---------------------------------------------------------------------+----------------------------------------------------------------------+---------------------------------------------------------+---------------------------------------------------------+----------------------------------------------------------+-------------------------------------------------------------+-------------------------------------------------------------+--------------------------------------------------------------+---------------------------------------------------------------+---------------------------------------------------------------+----------------------------------------------------------------+---------------------------------------------------------+---------------------------------------------------------+----------------------------------------------------------+----------------------------------------------------------+----------------------------------------------------------+-----------------------------------------------------------+----------------------------------------------------------------------------+----------------------------------------------------------------------------+-----------------------------------------------------------------------------+----------------------------------------------------------------+----------------------------------------------------------------+-----------------------------------------------------------------+--------------------------------------------------------------------+--------------------------------------------------------------------+---------------------------------------------------------------------+----------------------------------------------------------------------+----------------------------------------------------------------------+-----------------------------------------------------------------------+----------------------------------------------------------------+----------------------------------------------------------------+-----------------------------------------------------------------+-----------------------------------------------------------------+-----------------------------------------------------------------+------------------------------------------------------------------+--------------------------------------------------------------------------+--------------------------------------------------------------------------+---------------------------------------------------------------------------+--------------------------------------------------------------+--------------------------------------------------------------+---------------------------------------------------------------+------------------------------------------------------------------+------------------------------------------------------------------+-------------------------------------------------------------------+--------------------------------------------------------------------+--------------------------------------------------------------------+---------------------------------------------------------------------+--------------------------------------------------------------+--------------------------------------------------------------+---------------------------------------------------------------+---------------------------------------------------------------+---------------------------------------------------------------+----------------------------------------------------------------+----------------------------------------------------------------------+----------------------------------------------------------------------+-----------------------------------------------------------------------+----------------------------------------------------------+----------------------------------------------------------+-----------------------------------------------------------+--------------------------------------------------------------+--------------------------------------------------------------+---------------------------------------------------------------+----------------------------------------------------------------+----------------------------------------------------------------+-----------------------------------------------------------------+----------------------------------------------------------+----------------------------------------------------------+-----------------------------------------------------------+-----------------------------------------------------------+-----------------------------------------------------------+------------------------------------------------------------+---------------------------------------------------------------------+---------------------------------------------------------------------+----------------------------------------------------------------------+---------------------------------------------------------+---------------------------------------------------------+----------------------------------------------------------+-------------------------------------------------------------+-------------------------------------------------------------+--------------------------------------------------------------+---------------------------------------------------------------+---------------------------------------------------------------+----------------------------------------------------------------+---------------------------------------------------------+---------------------------------------------------------+----------------------------------------------------------+----------------------------------------------------------+----------------------------------------------------------+-----------------------------------------------------------+--------------------------------------------------------------------------+--------------------------------------------------------------------------+---------------------------------------------------------------------------+--------------------------------------------------------------+--------------------------------------------------------------+---------------------------------------------------------------+------------------------------------------------------------------+------------------------------------------------------------------+-------------------------------------------------------------------+--------------------------------------------------------------------+--------------------------------------------------------------------+---------------------------------------------------------------------+--------------------------------------------------------------+--------------------------------------------------------------+---------------------------------------------------------------+---------------------------------------------------------------+---------------------------------------------------------------+----------------------------------------------------------------+---------------------------------------------------------------------------+---------------------------------------------------------------------------+----------------------------------------------------------------------------+---------------------------------------------------------------+---------------------------------------------------------------+----------------------------------------------------------------+-------------------------------------------------------------------+-------------------------------------------------------------------+--------------------------------------------------------------------+---------------------------------------------------------------------+---------------------------------------------------------------------+----------------------------------------------------------------------+---------------------------------------------------------------+---------------------------------------------------------------+----------------------------------------------------------------+----------------------------------------------------------------+----------------------------------------------------------------+-----------------------------------------------------------------+\n",
      "|390385471 |2022-06-01 00:00:00|null                                                               |null                                                               |null                                                                |null                                                   |null                                                   |null                                                    |null                                                       |null                                                       |null                                                        |null                                                         |null                                                         |null                                                          |null                                                   |null                                                   |null                                                    |null                                                    |null                                                    |null                                                     |null                                                             |null                                                             |null                                                              |null                                                 |null                                                 |null                                                  |null                                                     |null                                                     |null                                                      |null                                                       |null                                                       |null                                                        |null                                                 |null                                                 |null                                                  |null                                                  |null                                                  |null                                                   |null                                                                 |null                                                                 |null                                                                  |null                                                     |null                                                     |null                                                      |null                                                         |null                                                         |null                                                          |null                                                           |null                                                           |null                                                            |null                                                     |null                                                     |null                                                      |null                                                      |null                                                      |null                                                       |null                                                                        |null                                                                        |null                                                                         |null                                                            |null                                                            |null                                                             |null                                                                |null                                                                |null                                                                 |null                                                                  |null                                                                  |null                                                                   |null                                                            |null                                                            |null                                                             |null                                                             |null                                                             |null                                                              |0.31                                                                      |0.31                                                                      |0.31                                                                       |1.6513632E9                                                   |1.6513632E9                                                   |1.6513632E9                                                    |1.6828992E9                                                       |1.6828992E9                                                       |1.6828992E9                                                        |1.6863552E9                                                         |1.6863552E9                                                         |1.6863552E9                                                          |null                                                          |null                                                          |null                                                           |1.6829856E9                                                    |1.6829856E9                                                    |1.6829856E9                                                     |null                                                                  |null                                                                  |null                                                                   |null                                                      |null                                                      |null                                                       |null                                                          |null                                                          |null                                                           |null                                                            |null                                                            |null                                                             |null                                                      |null                                                      |null                                                       |null                                                       |null                                                       |null                                                        |null                                                                 |null                                                                 |null                                                                  |null                                                     |null                                                     |null                                                      |null                                                         |null                                                         |null                                                          |null                                                           |null                                                           |null                                                            |null                                                     |null                                                     |null                                                      |null                                                      |null                                                      |null                                                       |null                                                                      |null                                                                      |null                                                                       |null                                                          |null                                                          |null                                                           |null                                                              |null                                                              |null                                                               |null                                                                |null                                                                |null                                                                 |null                                                          |null                                                          |null                                                           |null                                                           |null                                                           |null                                                            |0.31                                                                       |0.31                                                                       |0.31                                                                        |1.6513632E9                                                    |1.6513632E9                                                    |1.6513632E9                                                     |1.6828992E9                                                        |1.6828992E9                                                        |1.6828992E9                                                         |1.6863552E9                                                          |1.6863552E9                                                          |1.6863552E9                                                           |null                                                           |null                                                           |null                                                            |1.6829856E9                                                     |1.6829856E9                                                     |1.6829856E9                                                      |\n",
      "+----------+-------------------+-------------------------------------------------------------------+-------------------------------------------------------------------+--------------------------------------------------------------------+-------------------------------------------------------+-------------------------------------------------------+--------------------------------------------------------+-----------------------------------------------------------+-----------------------------------------------------------+------------------------------------------------------------+-------------------------------------------------------------+-------------------------------------------------------------+--------------------------------------------------------------+-------------------------------------------------------+-------------------------------------------------------+--------------------------------------------------------+--------------------------------------------------------+--------------------------------------------------------+---------------------------------------------------------+-----------------------------------------------------------------+-----------------------------------------------------------------+------------------------------------------------------------------+-----------------------------------------------------+-----------------------------------------------------+------------------------------------------------------+---------------------------------------------------------+---------------------------------------------------------+----------------------------------------------------------+-----------------------------------------------------------+-----------------------------------------------------------+------------------------------------------------------------+-----------------------------------------------------+-----------------------------------------------------+------------------------------------------------------+------------------------------------------------------+------------------------------------------------------+-------------------------------------------------------+---------------------------------------------------------------------+---------------------------------------------------------------------+----------------------------------------------------------------------+---------------------------------------------------------+---------------------------------------------------------+----------------------------------------------------------+-------------------------------------------------------------+-------------------------------------------------------------+--------------------------------------------------------------+---------------------------------------------------------------+---------------------------------------------------------------+----------------------------------------------------------------+---------------------------------------------------------+---------------------------------------------------------+----------------------------------------------------------+----------------------------------------------------------+----------------------------------------------------------+-----------------------------------------------------------+----------------------------------------------------------------------------+----------------------------------------------------------------------------+-----------------------------------------------------------------------------+----------------------------------------------------------------+----------------------------------------------------------------+-----------------------------------------------------------------+--------------------------------------------------------------------+--------------------------------------------------------------------+---------------------------------------------------------------------+----------------------------------------------------------------------+----------------------------------------------------------------------+-----------------------------------------------------------------------+----------------------------------------------------------------+----------------------------------------------------------------+-----------------------------------------------------------------+-----------------------------------------------------------------+-----------------------------------------------------------------+------------------------------------------------------------------+--------------------------------------------------------------------------+--------------------------------------------------------------------------+---------------------------------------------------------------------------+--------------------------------------------------------------+--------------------------------------------------------------+---------------------------------------------------------------+------------------------------------------------------------------+------------------------------------------------------------------+-------------------------------------------------------------------+--------------------------------------------------------------------+--------------------------------------------------------------------+---------------------------------------------------------------------+--------------------------------------------------------------+--------------------------------------------------------------+---------------------------------------------------------------+---------------------------------------------------------------+---------------------------------------------------------------+----------------------------------------------------------------+----------------------------------------------------------------------+----------------------------------------------------------------------+-----------------------------------------------------------------------+----------------------------------------------------------+----------------------------------------------------------+-----------------------------------------------------------+--------------------------------------------------------------+--------------------------------------------------------------+---------------------------------------------------------------+----------------------------------------------------------------+----------------------------------------------------------------+-----------------------------------------------------------------+----------------------------------------------------------+----------------------------------------------------------+-----------------------------------------------------------+-----------------------------------------------------------+-----------------------------------------------------------+------------------------------------------------------------+---------------------------------------------------------------------+---------------------------------------------------------------------+----------------------------------------------------------------------+---------------------------------------------------------+---------------------------------------------------------+----------------------------------------------------------+-------------------------------------------------------------+-------------------------------------------------------------+--------------------------------------------------------------+---------------------------------------------------------------+---------------------------------------------------------------+----------------------------------------------------------------+---------------------------------------------------------+---------------------------------------------------------+----------------------------------------------------------+----------------------------------------------------------+----------------------------------------------------------+-----------------------------------------------------------+--------------------------------------------------------------------------+--------------------------------------------------------------------------+---------------------------------------------------------------------------+--------------------------------------------------------------+--------------------------------------------------------------+---------------------------------------------------------------+------------------------------------------------------------------+------------------------------------------------------------------+-------------------------------------------------------------------+--------------------------------------------------------------------+--------------------------------------------------------------------+---------------------------------------------------------------------+--------------------------------------------------------------+--------------------------------------------------------------+---------------------------------------------------------------+---------------------------------------------------------------+---------------------------------------------------------------+----------------------------------------------------------------+---------------------------------------------------------------------------+---------------------------------------------------------------------------+----------------------------------------------------------------------------+---------------------------------------------------------------+---------------------------------------------------------------+----------------------------------------------------------------+-------------------------------------------------------------------+-------------------------------------------------------------------+--------------------------------------------------------------------+---------------------------------------------------------------------+---------------------------------------------------------------------+----------------------------------------------------------------------+---------------------------------------------------------------+---------------------------------------------------------------+----------------------------------------------------------------+----------------------------------------------------------------+----------------------------------------------------------------+-----------------------------------------------------------------+"
     ]
    }
   ],
   "source": [
    "df.show(truncate=False)"
   ]
  },
  {
   "cell_type": "code",
   "execution_count": 2,
   "id": "90715943",
   "metadata": {},
   "outputs": [
    {
     "data": {
      "application/vnd.jupyter.widget-view+json": {
       "model_id": "",
       "version_major": 2,
       "version_minor": 0
      },
      "text/plain": [
       "FloatProgress(value=0.0, bar_style='info', description='Progress:', layout=Layout(height='25px', width='50%'),…"
      ]
     },
     "metadata": {},
     "output_type": "display_data"
    },
    {
     "name": "stdout",
     "output_type": "stream",
     "text": [
      "+------------------+---------------+---------+--------------------+--------------------+--------------------+-----------------+-------+------------+-------------+---------------+------------------+------------+------------+--------------------+------+---------------+------------+------------+-------------+---------------------+-------------------------------+-----------------+-------------------+-------+--------------------+--------------------+--------------------+----------+----------+-----------+------------------+----------------+---------+-------------------+--------------------+------------+---------------+-----------+------------+-------------+----------------+\n",
      "|tx_source_database|tx_source_table|tx_action|       tx_write_time|        tx_source_id|      tx_source_time|      product_key|  pf_id|productclass|productfamily|productcategory|productsubcategory|productgroup| productline|         productname|period|numberofperiods| new_renewal|bulk_notbulk|unitsasorders|gdshop_product_typeid|gdshop_product_type_description|ki_productgroupid|ki_productgroupname|dept_id|           dept_name|          createdate|          updatedate|deletedate|isdomestic|bundlegroup|datacenterregionid|isprimaryproduct|pnl_group|       pnl_category|            pnl_line| pnl_subline|pnl_new_renewal|pnl_version|businessunit| businessline|businesslinetier|\n",
      "+------------------+---------------+---------+--------------------+--------------------+--------------------+-----------------+-------+------------+-------------+---------------+------------------+------------+------------+--------------------+------+---------------+------------+------------+-------------+---------------------+-------------------------------+-----------------+-------------------+-------+--------------------+--------------------+--------------------+----------+----------+-----------+------------------+----------------+---------+-------------------+--------------------+------------+---------------+-----------+------------+-------------+----------------+\n",
      "|         dmstaging|    dim_product|   INSERT|2022-07-14 10:45:...|[00 00 A8 3A 00 0...|2022-07-14 10:45:...|10000000001128973|1454191|     Domains| Domain Names|  Registrations|          NewGTLDs| ENTERPRISES| ENTERPRISES|.ENTERPRISES Tier...|  year|              7|New Purchase|    Not Bulk|        false|                  2.0|            Domain Registration|              199|      Registrations|      8|Domain Names - Go...|2022-07-14 10:45:...|2022-07-14 10:45:...|      null|         1|       null|                 1|               1|  Domains|Domain Registration|Domain Name Regis...| ENTERPRISES|   New Purchase|  New gTLDs|     Domains|Registrations|     ENTERPRISES|\n",
      "|         dmstaging|    dim_product|   INSERT|2022-07-14 10:45:...|[00 00 A8 3A 00 0...|2022-07-14 10:45:...|10000000001129230|1455523|     Domains| Domain Names|  Registrations|          NewGTLDs|    EXCHANGE|    EXCHANGE|.EXCHANGE Tier 31...|  year|              3|New Purchase|    Not Bulk|        false|                  2.0|            Domain Registration|              199|      Registrations|      8|Domain Names - Go...|2022-07-14 10:45:...|2022-07-14 10:45:...|      null|         1|       null|                 1|               1|  Domains|Domain Registration|Domain Name Regis...|    EXCHANGE|   New Purchase|  New gTLDs|     Domains|Registrations|        EXCHANGE|\n",
      "|         dmstaging|    dim_product|   INSERT|2022-07-14 10:45:...|[00 00 A8 3A 00 0...|2022-07-14 10:45:...|10000000001129456|1456627|     Domains| Domain Names|  Registrations|          NewGTLDs|       GIFTS|       GIFTS|.GIFTS Tier 31 Do...|  year|              5|New Purchase|    Not Bulk|        false|                  2.0|            Domain Registration|              199|      Registrations|      8|Domain Names - Go...|2022-07-14 10:45:...|2022-07-14 10:45:...|      null|         1|       null|                 1|               1|  Domains|Domain Registration|Domain Name Regis...|       GIFTS|   New Purchase|  New gTLDs|     Domains|Registrations|           GIFTS|\n",
      "|         dmstaging|    dim_product|   INSERT|2022-07-14 10:45:...|[00 00 A8 3A 00 0...|2022-07-14 10:45:...|10000000001129572|1457823|     Domains| Domain Names|      Transfers|          NewGTLDs|  INDUSTRIES|  INDUSTRIES|.INDUSTRIES Tier ...|  year|              9|New Purchase|    Not Bulk|        false|                 20.0|                  Bulk Transfer|              199|      Registrations|     88|Bulk Domain Regis...|2022-07-14 10:45:...|2022-07-14 10:45:...|      null|         1|       null|                 1|               1|  Domains|Domain Registration|Domain Name Transfer|  INDUSTRIES|   New Purchase|  New gTLDs|     Domains|    Transfers|      INDUSTRIES|\n",
      "|         dmstaging|    dim_product|   INSERT|2022-07-14 10:45:...|[00 00 A8 3A 00 0...|2022-07-14 10:45:...|10000000001129576|1457827|     Domains| Domain Names|  Registrations|          NewGTLDs|  INDUSTRIES|  INDUSTRIES|.INDUSTRIES Tier ...|  year|              2|New Purchase|        Bulk|        false|                  4.0|             Bulk Registrations|              199|      Registrations|     88|Bulk Domain Regis...|2022-07-14 10:45:...|2022-07-14 10:45:...|      null|         1|       null|                 1|               1|  Domains|Domain Registration|Domain Name Regis...|  INDUSTRIES|   New Purchase|  New gTLDs|     Domains|Registrations|      INDUSTRIES|\n",
      "|         dmstaging|    dim_product|   INSERT|2022-07-14 10:45:...|[00 00 A8 3A 00 0...|2022-07-14 10:45:...|10000000001129723|1447226|     Domains| Domain Names|  Registrations|          NewGTLDs|  ASSOCIATES|  ASSOCIATES|.ASSOCIATES Tier ...|  year|              8|New Purchase|    Not Bulk|        false|                  2.0|            Domain Registration|              199|      Registrations|      8|Domain Names - Go...|2022-07-14 10:45:...|2022-07-14 10:45:...|      null|         1|       null|                 1|               1|  Domains|Domain Registration|Domain Name Regis...|  ASSOCIATES|   New Purchase|  New gTLDs|     Domains|Registrations|      ASSOCIATES|\n",
      "|         dmstaging|    dim_product|   INSERT|2022-07-14 10:45:...|[00 00 A8 3A 00 0...|2022-07-14 10:45:...|10000000001129948|1449399|     Domains| Domain Names|  Registrations|          NewGTLDs|        CASH|        CASH|.CASH Tier 31 Dom...|  year|              9|New Purchase|    Not Bulk|        false|                  2.0|            Domain Registration|              199|      Registrations|      8|Domain Names - Go...|2022-07-14 10:45:...|2022-07-14 10:45:...|      null|         1|       null|                 1|               1|  Domains|Domain Registration|Domain Name Regis...|        CASH|   New Purchase|  New gTLDs|     Domains|Registrations|            CASH|\n",
      "|         dmstaging|    dim_product|   INSERT|2022-07-14 10:45:...|[00 00 A8 3A 00 0...|2022-07-14 10:45:...|10000000001130013|1449464|     Domains| Domain Names|  Registrations|          NewGTLDs|        CARE|        CARE|.CARE Tier 31 Dom...|  year|              4|New Purchase|    Not Bulk|        false|                  2.0|            Domain Registration|              199|      Registrations|      8|Domain Names - Go...|2022-07-14 10:45:...|2022-07-14 10:45:...|      null|         1|       null|                 1|               1|  Domains|Domain Registration|Domain Name Regis...|        CARE|   New Purchase|  New gTLDs|     Domains|Registrations|            CARE|\n",
      "|         dmstaging|    dim_product|   INSERT|2022-07-14 10:45:...|[00 00 A8 3A 00 0...|2022-07-14 10:45:...|10000000001130281|1451888|     Domains| Domain Names|      Transfers|          NewGTLDs|CONSTRUCTION|CONSTRUCTION|.CONSTRUCTION Tie...|  year|              2|New Purchase|    Not Bulk|        false|                 19.0|                Domain Transfer|              199|      Registrations|      8|Domain Names - Go...|2022-07-14 10:45:...|2022-07-14 10:45:...|      null|         1|       null|                 1|               1|  Domains|Domain Registration|Domain Name Transfer|CONSTRUCTION|   New Purchase|  New gTLDs|     Domains|    Transfers|    CONSTRUCTION|\n",
      "|         dmstaging|    dim_product|   INSERT|2022-07-14 10:45:...|[00 00 A8 3A 00 0...|2022-07-14 10:45:...|10000000001130358|1454293|     Domains| Domain Names|  Registrations|          NewGTLDs| ENTERPRISES| ENTERPRISES|.ENTERPRISES Tier...|  year|              9|New Purchase|    Not Bulk|        false|                  2.0|            Domain Registration|              199|      Registrations|      8|Domain Names - Go...|2022-07-14 10:45:...|2022-07-14 10:45:...|      null|         1|       null|                 1|               1|  Domains|Domain Registration|Domain Name Regis...| ENTERPRISES|   New Purchase|  New gTLDs|     Domains|Registrations|     ENTERPRISES|\n",
      "+------------------+---------------+---------+--------------------+--------------------+--------------------+-----------------+-------+------------+-------------+---------------+------------------+------------+------------+--------------------+------+---------------+------------+------------+-------------+---------------------+-------------------------------+-----------------+-------------------+-------+--------------------+--------------------+--------------------+----------+----------+-----------+------------------+----------------+---------+-------------------+--------------------+------------+---------------+-----------+------------+-------------+----------------+"
     ]
    }
   ],
   "source": [
    "spark.sql(\"select * from bigreporting.dim_product_snap limit 10\").show()"
   ]
  },
  {
   "cell_type": "code",
   "execution_count": 1,
   "id": "33b27866",
   "metadata": {
    "scrolled": true
   },
   "outputs": [
    {
     "name": "stdout",
     "output_type": "stream",
     "text": [
      "Starting Spark application\n"
     ]
    },
    {
     "data": {
      "text/html": [
       "<table>\n",
       "<tr><th>ID</th><th>YARN Application ID</th><th>Kind</th><th>State</th><th>Spark UI</th><th>Driver log</th><th>User</th><th>Current session?</th></tr><tr><td>2</td><td>application_1658414496281_0004</td><td>pyspark</td><td>idle</td><td><a target=\"_blank\" href=\"http://ip-192-168-9-9.us-west-2.compute.internal:20888/proxy/application_1658414496281_0004/\">Link</a></td><td><a target=\"_blank\" href=\"http://ip-192-168-9-80.us-west-2.compute.internal:8042/node/containerlogs/container_1658414496281_0004_01_000001/livy\">Link</a></td><td>None</td><td>✔</td></tr></table>"
      ],
      "text/plain": [
       "<IPython.core.display.HTML object>"
      ]
     },
     "metadata": {},
     "output_type": "display_data"
    },
    {
     "data": {
      "application/vnd.jupyter.widget-view+json": {
       "model_id": "",
       "version_major": 2,
       "version_minor": 0
      },
      "text/plain": [
       "FloatProgress(value=0.0, bar_style='info', description='Progress:', layout=Layout(height='25px', width='50%'),…"
      ]
     },
     "metadata": {},
     "output_type": "display_data"
    },
    {
     "name": "stdout",
     "output_type": "stream",
     "text": [
      "SparkSession available as 'spark'.\n"
     ]
    },
    {
     "data": {
      "application/vnd.jupyter.widget-view+json": {
       "model_id": "",
       "version_major": 2,
       "version_minor": 0
      },
      "text/plain": [
       "FloatProgress(value=0.0, bar_style='info', description='Progress:', layout=Layout(height='25px', width='50%'),…"
      ]
     },
     "metadata": {},
     "output_type": "display_data"
    },
    {
     "name": "stdout",
     "output_type": "stream",
     "text": [
      "+--------------+---------------+-----------+---------------+--------------------+-------------------+------+-----------------------+--------------------------------+-------------------------+---------------------------+-------------------------+---------------------------+--------------------------------+------------------+----------------------+-----------------------+---------+-----------+----------+--------------------------------+--------------------+----------------------+-------------------+------------------+--------------------+--------------------+---------------------+------------------+--------------------+---------+--------------------+--------------------+--------------------+----------+-------------------+------------------------------+-------------------------------+\n",
      "|entitlement_id|subscription_id|resource_id|product_type_id|   product_type_desc|product_family_name| pf_id|entitlement_common_name|entitlement_external_resource_id|entitlement_create_mst_ts|entitlement_create_mst_date|entitlement_modify_mst_ts|entitlement_modify_mst_date|entitlement_obsolete_resource_id|parent_resource_id|parent_product_type_id|free_product_package_id|domain_id|domain_name|base_pf_id|base_original_list_price_usd_amt|entitlement_addon_id|entitlement_addon_flag|exclude_reason_desc|source_system_name|   source_table_name|entitlement_mst_year|entitlement_mst_month|tx_source_database|     tx_source_table|tx_action|       tx_write_time|        tx_source_id|      tx_source_time|   tx_date|   etl_build_mst_ts|partition_entitlement_mst_year|partition_entitlement_mst_month|\n",
      "+--------------+---------------+-----------+---------------+--------------------+-------------------+------+-----------------------+--------------------------------+-------------------------+---------------------------+-------------------------+---------------------------+--------------------------------+------------------+----------------------+-----------------------+---------+-----------+----------+--------------------------------+--------------------+----------------------+-------------------+------------------+--------------------+--------------------+---------------------+------------------+--------------------+---------+--------------------+--------------------+--------------------+----------+-------------------+------------------------------+-------------------------------+\n",
      "|  13137483:154|   13137483:154|   13137483|            154|Expiration protec...|             bundle|125699|                   null|                            null|     2017-03-27 16:34:...|                 2017-03-27|     2020-09-17 15:45:...|                 2020-09-17|                            null|              null|                  null|                   null|     null|       null|      null|                            null|                null|                 false|               null|     legacy e-comm|gdshop_bundle_bil...|                2017|                    3|           godaddy|gdshop_bundle_bil...|   UPDATE|2020-09-17 15:50:...|[00 00 5B 85 00 0...|2020-09-17 15:45:...|2020-09-17|2022-07-22 16:18:59|                          2017|                             03|\n",
      "|  13032166:154|   13032166:154|   13032166|            154|Expiration protec...|             bundle|125699|                   null|                            null|     2017-03-07 11:04:...|                 2017-03-07|     2020-03-07 03:00:...|                 2020-03-07|                            null|              null|                  null|                   null|     null|       null|      null|                            null|                null|                 false|               null|     legacy e-comm|gdshop_bundle_bil...|                2017|                    3|           godaddy|gdshop_bundle_bil...|   UPDATE|2020-03-07 03:01:...|[00 00 4D 35 00 0...|2020-03-07 03:00:...|1990-01-01|2022-07-22 16:18:59|                          2017|                             03|\n",
      "|   13014829:65|    13014829:65|   13014829|             65|      Bundle Product|             bundle|761009|                   null|                            null|     2017-03-03 14:32:...|                 2017-03-03|     2021-03-23 11:06:...|                 2021-03-23|                            null|              null|                  null|                   null|     null|       null|      null|                            null|                null|                 false|               null|     legacy e-comm|gdshop_bundle_bil...|                2017|                    3|           godaddy|gdshop_bundle_bil...|   UPDATE|2021-03-23 11:11:...|[00 00 66 08 00 A...|2021-03-23 11:06:...|2021-03-23|2022-07-22 16:18:59|                          2017|                             03|\n",
      "|   13119593:65|    13119593:65|   13119593|             65|      Bundle Product|             bundle|761009|                   null|                            null|     2017-03-23 20:53:...|                 2017-03-23|     2022-04-12 15:14:...|                 2022-04-12|                            null|              null|                  null|                   null|     null|       null|      null|                            null|                null|                 false|               null|     legacy e-comm|gdshop_bundle_bil...|                2017|                    3|           godaddy|gdshop_bundle_bil...|   UPDATE|2022-04-12 15:14:...|[00 00 7D 12 00 0...|2022-04-12 15:14:...|2022-04-12|2022-07-22 16:18:59|                          2017|                             03|\n",
      "|    14510228:9|     14510228:9|   14510228|              9|             Masking|            masking|   916|                   null|                            null|     2017-03-15 08:51:...|                 2017-03-15|     2017-06-12 09:34:...|                 2017-06-12|                            null|              null|                     2|                   null|     null|       null|      null|                            null|                null|                 false|               null|     legacy e-comm| gdshop_mask_billing|                2017|                    3|           godaddy| gdshop_mask_billing|   UPDATE|2017-06-12 09:39:...|[00 00 14 B0 00 0...|2017-06-12 09:34:...|1990-01-01|2022-07-22 16:18:59|                          2017|                             03|\n",
      "|    14509927:9|     14509927:9|   14509927|              9|             Masking|            masking|   916|                   null|                            null|     2017-03-15 06:51:...|                 2017-03-15|     2018-01-25 19:11:...|                 2018-01-25|                            null|              null|                     2|                   null|     null|       null|      null|                            null|                null|                 false|               null|     legacy e-comm| gdshop_mask_billing|                2017|                    3|           godaddy| gdshop_mask_billing|   UPDATE|2018-01-25 19:15:...|[00 00 20 38 00 0...|2018-01-25 19:11:...|1990-01-01|2022-07-22 16:18:59|                          2017|                             03|\n",
      "|    14507384:9|     14507384:9|   14507384|              9|             Masking|            masking|   916|                   null|                            null|     2017-03-14 09:14:...|                 2017-03-14|     2017-03-14 09:14:...|                 2017-03-14|                            null|              null|                     2|                   null|     null|       null|      null|                            null|                null|                 false|               null|     legacy e-comm| gdshop_mask_billing|                2017|                    3|           godaddy| gdshop_mask_billing|   INSERT|2017-03-14 09:20:...|[00 00 10 05 00 0...|2017-03-14 09:14:...|1990-01-01|2022-07-22 16:18:59|                          2017|                             03|\n",
      "|  13138528:154|   13138528:154|   13138528|            154|Expiration protec...|             bundle|125699|                   null|                            null|     2017-03-27 19:26:...|                 2017-03-27|     2020-09-17 15:36:...|                 2020-09-17|                            null|              null|                  null|                   null|     null|       null|      null|                            null|                null|                 false|               null|     legacy e-comm|gdshop_bundle_bil...|                2017|                    3|           godaddy|gdshop_bundle_bil...|   UPDATE|2020-09-17 15:39:...|[00 00 5B 84 00 0...|2020-09-17 15:36:...|2020-09-17|2022-07-22 16:18:59|                          2017|                             03|\n",
      "|  13010778:154|   13010778:154|   13010778|            154|Expiration protec...|             bundle|125699|                   null|                            null|     2017-03-02 22:48:...|                 2017-03-02|     2020-09-10 09:36:...|                 2020-09-10|                            null|              null|                  null|                   null|     null|       null|      null|                            null|                null|                 false|               null|     legacy e-comm|gdshop_bundle_bil...|                2017|                    3|           godaddy|gdshop_bundle_bil...|   UPDATE|2020-09-10 09:40:...|[00 00 5A EB 00 0...|2020-09-10 09:36:...|2020-09-10|2022-07-22 16:18:59|                          2017|                             03|\n",
      "|    14505742:9|     14505742:9|   14505742|              9|             Masking|            masking|   916|                   null|                            null|     2017-03-13 16:38:...|                 2017-03-13|     2018-04-21 13:58:...|                 2018-04-21|                            null|              null|                     2|                   null|     null|       null|      null|                            null|                null|                 false|               null|     legacy e-comm| gdshop_mask_billing|                2017|                    3|           godaddy| gdshop_mask_billing|   UPDATE|2018-04-21 14:03:...|[00 00 24 7D 00 0...|2018-04-21 13:58:...|1990-01-01|2022-07-22 16:18:59|                          2017|                             03|\n",
      "+--------------+---------------+-----------+---------------+--------------------+-------------------+------+-----------------------+--------------------------------+-------------------------+---------------------------+-------------------------+---------------------------+--------------------------------+------------------+----------------------+-----------------------+---------+-----------+----------+--------------------------------+--------------------+----------------------+-------------------+------------------+--------------------+--------------------+---------------------+------------------+--------------------+---------+--------------------+--------------------+--------------------+----------+-------------------+------------------------------+-------------------------------+"
     ]
    }
   ],
   "source": [
    "spark.sql(\"select * from enterprise.dim_entitlement limit 10\").show()"
   ]
  },
  {
   "cell_type": "code",
   "execution_count": 2,
   "id": "07dea965",
   "metadata": {},
   "outputs": [
    {
     "data": {
      "application/vnd.jupyter.widget-view+json": {
       "model_id": "",
       "version_major": 2,
       "version_minor": 0
      },
      "text/plain": [
       "FloatProgress(value=0.0, bar_style='info', description='Progress:', layout=Layout(height='25px', width='50%'),…"
      ]
     },
     "metadata": {},
     "output_type": "display_data"
    },
    {
     "name": "stdout",
     "output_type": "stream",
     "text": [
      "+---------------+-----------+---------------+-------------------+-------------------+----------+----------------+--------------------+--------------------------+----------------+----------------------+----------------------+------------------------+----------------------------+--------------------------------+----------------------------------+----------------------------+------------------------------+--------------------------------+----------------------------------+--------------------------------+----------------------------------+-----------------+-------------------------+---------------------------+-------------------+--------------------------+----------------------------+---------------------------+-----------------------------------------+-------------------------------------------+----------------+-------------------------+--------------------------+----------------------------+--------------------------+----------------------------+-------------------+------------------+--------------------+---------------------+----------------------+------------------+--------------------+---------+--------------------+--------------------+--------------------+----------+-------------------+-------------------------------+--------------------------------+\n",
      "|subscription_id|resource_id|product_type_id|  product_type_desc|product_family_name|shopper_id|private_label_id|         customer_id|shopper_payment_profile_id|original_bill_id|original_bill_line_num|subscription_status_id|subscription_status_name|subscription_sub_status_name|subscription_attempt_sequence_id|subscription_attempt_sequence_name|subscription_bill_due_mst_ts|subscription_bill_due_mst_date|last_subscription_renewal_mst_ts|last_subscription_renewal_mst_date|subscription_paid_through_mst_ts|subscription_paid_through_mst_date|auto_renewal_flag|renewal_price_locked_flag|original_list_price_usd_amt|offer_collection_id|subscription_cancel_mst_ts|subscription_cancel_mst_date|subscription_cancel_by_name|previous_subscription_paid_through_mst_ts|previous_subscription_paid_through_mst_date|locked_price_amt|transaction_currency_code|subscription_create_mst_ts|subscription_create_mst_date|subscription_modify_mst_ts|subscription_modify_mst_date|exclude_reason_desc|source_system_name|   source_table_name|subscription_mst_year|subscription_mst_month|tx_source_database|     tx_source_table|tx_action|       tx_write_time|        tx_source_id|      tx_source_time|   tx_date|   etl_build_mst_ts|partition_subscription_mst_year|partition_subscription_mst_month|\n",
      "+---------------+-----------+---------------+-------------------+-------------------+----------+----------------+--------------------+--------------------------+----------------+----------------------+----------------------+------------------------+----------------------------+--------------------------------+----------------------------------+----------------------------+------------------------------+--------------------------------+----------------------------------+--------------------------------+----------------------------------+-----------------+-------------------------+---------------------------+-------------------+--------------------------+----------------------------+---------------------------+-----------------------------------------+-------------------------------------------+----------------+-------------------------+--------------------------+----------------------------+--------------------------+----------------------------+-------------------+------------------+--------------------+---------------------+----------------------+------------------+--------------------+---------+--------------------+--------------------+--------------------+----------+-------------------+-------------------------------+--------------------------------+\n",
      "|    569518886:4|  569518886|              4| Bulk Registrations|             domain|   5908574|               1|6d6f04a7-2dd9-475...|                  51998883|      2102422101|                     0|                     4|                canceled|                    canceled|                               0|                            Active|                        null|                          null|                            null|                              null|                            null|                              null|             true|                    false|                       0.08|               null|      2022-05-03 15:23:...|                  2022-05-03|               TransferAway|                                     null|                                       null|            0.06|                      GBP|      2022-05-01 04:10:...|                  2022-05-01|      2022-05-03 15:23:...|                  2022-05-03|               null|     legacy e-comm|gdshop_billingdomain|                 2022|                     5|    godaddybilling|gdshop_billingdomain|   UPDATE|2022-05-03 15:23:...|[00 00 84 CF 00 0...|2022-05-03 15:23:...|2022-05-03|2022-07-21 08:35:35|                           2022|                              05|\n",
      "|    569518780:2|  569518780|              2|Domain Registration|             domain| 480517316|               1|2deb9189-7173-41d...|                      null|      2103280203|                     0|                     1|                  active|                      active|                               0|                            Active|         2023-05-02 11:09:20|                    2023-05-02|             2023-06-10 11:09:20|                        2023-06-10|             2023-05-01 11:09:20|                        2023-05-01|            false|                    false|                       0.09|               null|                      null|                        null|                       null|                                     null|                                       null|            6.99|                      INR|      2022-05-01 04:09:...|                  2022-05-01|      2022-05-01 04:09:...|                  2022-05-01|               null|     legacy e-comm|gdshop_billingdomain|                 2022|                     5|    godaddybilling|gdshop_billingdomain|   UPDATE|2022-05-01 04:09:...|[00 00 84 9E 00 0...|2022-05-01 04:09:...|2022-05-01|2022-07-21 08:35:35|                           2022|                              05|\n",
      "|    569518208:2|  569518208|              2|Domain Registration|             domain| 190976451|               1|703f0174-44dd-4b7...|                 114066974|      2102400791|                     0|                     1|                  active|                      active|                               0|                            Active|         2024-05-02 05:59:27|                    2024-05-02|             2024-06-10 05:59:27|                        2024-06-10|             2024-05-01 05:59:27|                        2024-05-01|             true|                    false|                       0.39|               null|                      null|                        null|                       null|                                     null|                                       null|            0.39|                      USD|      2022-05-01 03:59:...|                  2022-05-01|      2022-05-01 03:59:...|                  2022-05-01|               null|     legacy e-comm|gdshop_billingdomain|                 2022|                     5|    godaddybilling|gdshop_billingdomain|   UPDATE|2022-05-01 03:59:...|[00 00 84 9E 00 0...|2022-05-01 03:59:...|2022-05-01|2022-07-21 08:35:35|                           2022|                              05|\n",
      "|    569516450:2|  569516450|              2|Domain Registration|             domain| 479540428|               1|fd98995c-6081-4e7...|                 114066421|      2103255376|                     0|                     4|                canceled|                    canceled|                               0|                            Active|                        null|                          null|             2023-06-10 05:14:14|                        2023-06-10|             2023-05-01 05:14:14|                        2023-05-01|             true|                    false|                       0.21|               null|      2022-05-01 04:44:...|                  2022-05-01|             Cust-479540428|                                     null|                                       null|            0.19|                      EUR|      2022-05-01 03:14:...|                  2022-05-01|      2022-05-01 04:44:...|                  2022-05-01|               null|     legacy e-comm|gdshop_billingdomain|                 2022|                     5|    godaddybilling|gdshop_billingdomain|   UPDATE|2022-05-01 04:44:...|[00 00 84 9E 00 0...|2022-05-01 04:44:...|2022-05-01|2022-07-21 08:35:35|                           2022|                              05|\n",
      "|    569516323:4|  569516323|              4| Bulk Registrations|             domain| 322181148|               1|1a390240-fc72-4ad...|                 113898955|      2103256351|                    11|                     1|                  active|                      active|                               0|                            Active|         2023-05-02 05:16:50|                    2023-05-02|             2023-06-10 05:16:50|                        2023-06-10|             2023-05-01 05:16:50|                        2023-05-01|             true|                    false|                       0.18|               null|                      null|                        null|                       null|                                     null|                                       null|            1.25|                      CNY|      2022-05-01 03:10:...|                  2022-05-01|      2022-05-25 05:08:...|                  2022-05-25|               null|     legacy e-comm|gdshop_billingdomain|                 2022|                     5|    godaddybilling|gdshop_billingdomain|   UPDATE|2022-05-25 05:08:...|[00 00 86 CD 00 0...|2022-05-25 05:08:...|2022-05-25|2022-07-21 08:35:35|                           2022|                              05|\n",
      "|  569515564:536|  569515564|            536|Website Builder wsb|                wsb| 177952950|               1|7b954de4-bc5c-4e8...|                        -1|      2103255578|                     0|                    14|            Trial Period|                        null|                               0|                            Active|         2022-08-05 00:00:00|                    2022-08-05|             2022-08-25 00:00:00|                        2022-08-25|             2022-08-05 00:00:00|                        2022-08-05|             true|                    false|                       0.00|               null|                      null|                        null|                       null|                      2022-07-05 00:00:00|                                 2022-07-05|            0.00|                      AUD|      2022-05-01 02:52:...|                  2022-05-01|      2022-07-05 16:15:...|                  2022-07-05|               null|     legacy e-comm|gdshop_billingacc...|                 2022|                     5|    godaddybilling|gdshop_billingacc...|   UPDATE|2022-07-05 16:15:...|[00 00 8A 9F 00 0...|2022-07-05 16:15:...|2022-07-05|2022-07-21 08:35:35|                           2022|                              05|\n",
      "|    569514586:2|  569514586|              2|Domain Registration|             domain| 479261988|               1|4ed93578-622f-4d5...|                 114066099|      2103253053|                     2|                     1|                  active|                      active|                               0|                            Active|         2023-05-02 04:27:50|                    2023-05-02|             2023-06-10 04:27:50|                        2023-06-10|             2023-05-01 04:27:50|                        2023-05-01|             true|                    false|                       0.20|               null|                      null|                        null|                       null|                                     null|                                       null|            0.29|                      AUD|      2022-05-01 02:27:...|                  2022-05-01|      2022-05-01 02:28:...|                  2022-05-01|               null|     legacy e-comm|gdshop_billingdomain|                 2022|                     5|    godaddybilling|gdshop_billingdomain|   UPDATE|2022-05-01 02:28:...|[00 00 84 9D 00 0...|2022-05-01 02:28:...|2022-05-01|2022-07-21 08:35:35|                           2022|                              05|\n",
      "|    569514120:2|  569514120|              2|Domain Registration|             domain| 479092446|               1|832006fc-082e-45b...|                 114066040|      2103252193|                     0|                     1|                  active|                      active|                               0|                            Active|         2023-05-02 04:19:50|                    2023-05-02|             2023-06-10 04:19:50|                        2023-06-10|             2023-05-01 04:19:50|                        2023-05-01|            false|                    false|                       0.17|               null|                      null|                        null|                       null|                                     null|                                       null|            8.99|                      PHP|      2022-05-01 02:19:...|                  2022-05-01|      2022-06-11 19:23:...|                  2022-06-11|               null|     legacy e-comm|gdshop_billingdomain|                 2022|                     5|    godaddybilling|gdshop_billingdomain|   UPDATE|2022-06-11 19:23:...|[00 00 88 7B 00 0...|2022-06-11 19:23:...|2022-06-11|2022-07-21 08:35:35|                           2022|                              05|\n",
      "|  569513417:536|  569513417|            536|Website Builder wsb|                wsb|  27000247|               1|997b6f32-b9c1-427...|                  69623928|      2103246522|                     3|                    14|            Trial Period|                        null|                               0|                            Active|         2022-08-08 00:00:00|                    2022-08-08|             2022-08-28 00:00:00|                        2022-08-28|             2022-08-08 00:00:00|                        2022-08-08|             true|                    false|                       0.00|               null|                      null|                        null|                       null|                      2022-07-08 00:00:00|                                 2022-07-08|            0.00|                      USD|      2022-05-01 02:06:...|                  2022-05-01|      2022-07-08 10:36:...|                  2022-07-08|               null|     legacy e-comm|gdshop_billingacc...|                 2022|                     5|    godaddybilling|gdshop_billingacc...|   UPDATE|2022-07-08 10:36:...|[00 00 8A DC 00 0...|2022-07-08 10:36:...|2022-07-08|2022-07-21 08:35:35|                           2022|                              05|\n",
      "|    569512489:2|  569512489|              2|Domain Registration|             domain| 257170899|               1|fa4f1ae2-b4b0-48c...|                 114065657|      2103249768|                     0|                     1|                  active|                      active|                               0|                            Active|         2024-05-02 09:52:22|                    2024-05-02|             2024-05-16 09:52:22|                        2024-05-16|             2024-05-01 09:52:22|                        2024-05-01|             true|                    false|                       0.30|               null|                      null|                        null|                       null|                                     null|                                       null|            0.23|                      GBP|      2022-05-01 01:43:...|                  2022-05-01|      2022-05-01 01:52:...|                  2022-05-01|               null|     legacy e-comm|gdshop_billingdomain|                 2022|                     5|    godaddybilling|gdshop_billingdomain|   UPDATE|2022-05-01 01:52:...|[00 00 84 98 00 0...|2022-05-01 01:52:...|2022-05-01|2022-07-21 08:35:35|                           2022|                              05|\n",
      "+---------------+-----------+---------------+-------------------+-------------------+----------+----------------+--------------------+--------------------------+----------------+----------------------+----------------------+------------------------+----------------------------+--------------------------------+----------------------------------+----------------------------+------------------------------+--------------------------------+----------------------------------+--------------------------------+----------------------------------+-----------------+-------------------------+---------------------------+-------------------+--------------------------+----------------------------+---------------------------+-----------------------------------------+-------------------------------------------+----------------+-------------------------+--------------------------+----------------------------+--------------------------+----------------------------+-------------------+------------------+--------------------+---------------------+----------------------+------------------+--------------------+---------+--------------------+--------------------+--------------------+----------+-------------------+-------------------------------+--------------------------------+"
     ]
    }
   ],
   "source": [
    "spark.sql(\"select * from enterprise.dim_subscription limit 10\").show()"
   ]
  },
  {
   "cell_type": "code",
   "execution_count": null,
   "id": "8f79c256",
   "metadata": {},
   "outputs": [],
   "source": []
  }
 ],
 "metadata": {
  "kernelspec": {
   "display_name": "Sparkmagic (PySpark)",
   "language": "python",
   "name": "pysparkkernel"
  },
  "language_info": {
   "codemirror_mode": {
    "name": "python",
    "version": 3
   },
   "file_extension": ".py",
   "mimetype": "text/x-python",
   "name": "pyspark",
   "pygments_lexer": "python3"
  }
 },
 "nbformat": 4,
 "nbformat_minor": 5
}
