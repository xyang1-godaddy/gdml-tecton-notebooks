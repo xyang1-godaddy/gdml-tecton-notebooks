{
 "cells": [
  {
   "cell_type": "code",
   "execution_count": 3,
   "id": "db7151f9",
   "metadata": {},
   "outputs": [
    {
     "name": "stdout",
     "output_type": "stream",
     "text": [
      "Starting Spark application\n"
     ]
    },
    {
     "data": {
      "text/html": [
       "<table>\n",
       "<tr><th>ID</th><th>YARN Application ID</th><th>Kind</th><th>State</th><th>Spark UI</th><th>Driver log</th><th>User</th><th>Current session?</th></tr><tr><td>2</td><td>application_1661646412795_0004</td><td>pyspark</td><td>idle</td><td><a target=\"_blank\" href=\"http://ip-192-168-9-165.us-west-2.compute.internal:20888/proxy/application_1661646412795_0004/\">Link</a></td><td><a target=\"_blank\" href=\"http://ip-192-168-11-183.us-west-2.compute.internal:8042/node/containerlogs/container_1661646412795_0004_01_000001/livy\">Link</a></td><td>None</td><td>✔</td></tr></table>"
      ],
      "text/plain": [
       "<IPython.core.display.HTML object>"
      ]
     },
     "metadata": {},
     "output_type": "display_data"
    },
    {
     "data": {
      "application/vnd.jupyter.widget-view+json": {
       "model_id": "",
       "version_major": 2,
       "version_minor": 0
      },
      "text/plain": [
       "FloatProgress(value=0.0, bar_style='info', description='Progress:', layout=Layout(height='25px', width='50%'),…"
      ]
     },
     "metadata": {},
     "output_type": "display_data"
    },
    {
     "name": "stdout",
     "output_type": "stream",
     "text": [
      "SparkSession available as 'spark'.\n"
     ]
    },
    {
     "data": {
      "text/html": [
       "Current session configs: <tt>{'conf': {'spark.pyspark.python': 'python3', 'spark.pyspark.virtualenv.enabled': 'true', 'spark.pyspark.virtualenv.type': 'native', 'spark.pyspark.virtualenv.bin.path': '/usr/bin/virtualenv', 'spark.sql.catalogImplementation': 'hive'}, 'kind': 'pyspark'}</tt><br>"
      ],
      "text/plain": [
       "<IPython.core.display.HTML object>"
      ]
     },
     "metadata": {},
     "output_type": "display_data"
    },
    {
     "data": {
      "text/html": [
       "<table>\n",
       "<tr><th>ID</th><th>YARN Application ID</th><th>Kind</th><th>State</th><th>Spark UI</th><th>Driver log</th><th>User</th><th>Current session?</th></tr><tr><td>2</td><td>application_1661646412795_0004</td><td>pyspark</td><td>idle</td><td><a target=\"_blank\" href=\"http://ip-192-168-9-165.us-west-2.compute.internal:20888/proxy/application_1661646412795_0004/\">Link</a></td><td><a target=\"_blank\" href=\"http://ip-192-168-11-183.us-west-2.compute.internal:8042/node/containerlogs/container_1661646412795_0004_01_000001/livy\">Link</a></td><td>None</td><td>✔</td></tr></table>"
      ],
      "text/plain": [
       "<IPython.core.display.HTML object>"
      ]
     },
     "metadata": {},
     "output_type": "display_data"
    }
   ],
   "source": [
    "%%configure -f\n",
    "{ \"conf\":{\n",
    "          \"spark.pyspark.python\": \"python3\",\n",
    "          \"spark.pyspark.virtualenv.enabled\": \"true\",\n",
    "          \"spark.pyspark.virtualenv.type\":\"native\",\n",
    "          \"spark.pyspark.virtualenv.bin.path\":\"/usr/bin/virtualenv\",\n",
    "          \"spark.sql.catalogImplementation\":\"hive\"\n",
    "         }\n",
    "}"
   ]
  },
  {
   "cell_type": "code",
   "execution_count": 4,
   "id": "7beafc69",
   "metadata": {},
   "outputs": [
    {
     "data": {
      "application/vnd.jupyter.widget-view+json": {
       "model_id": "",
       "version_major": 2,
       "version_minor": 0
      },
      "text/plain": [
       "FloatProgress(value=0.0, bar_style='info', description='Progress:', layout=Layout(height='25px', width='50%'),…"
      ]
     },
     "metadata": {},
     "output_type": "display_data"
    }
   ],
   "source": [
    "# required to enable explain plan\n",
    "from py4j.java_gateway import java_import\n",
    "java_import(spark._sc._jvm, \"org.apache.spark.sql.api.python.*\")"
   ]
  },
  {
   "cell_type": "code",
   "execution_count": 41,
   "id": "03e51d24",
   "metadata": {},
   "outputs": [
    {
     "data": {
      "application/vnd.jupyter.widget-view+json": {
       "model_id": "",
       "version_major": 2,
       "version_minor": 0
      },
      "text/plain": [
       "FloatProgress(value=0.0, bar_style='info', description='Progress:', layout=Layout(height='25px', width='50%'),…"
      ]
     },
     "metadata": {},
     "output_type": "display_data"
    }
   ],
   "source": [
    "domaininfo = spark.sql(\"\"\"select * from tecton_dev.domaininfo_snap\"\"\")\n",
    "domaininfo_status = spark.sql(\"\"\"select * from tecton_dev.domaininfo_status_snap\"\"\")"
   ]
  },
  {
   "cell_type": "code",
   "execution_count": 42,
   "id": "d4cb2848",
   "metadata": {},
   "outputs": [
    {
     "data": {
      "application/vnd.jupyter.widget-view+json": {
       "model_id": "",
       "version_major": 2,
       "version_minor": 0
      },
      "text/plain": [
       "FloatProgress(value=0.0, bar_style='info', description='Progress:', layout=Layout(height='25px', width='50%'),…"
      ]
     },
     "metadata": {},
     "output_type": "display_data"
    }
   ],
   "source": [
    "from pyspark.sql.functions import datediff, lower, regexp_extract"
   ]
  },
  {
   "cell_type": "code",
   "execution_count": 43,
   "id": "bfb1528a",
   "metadata": {},
   "outputs": [
    {
     "data": {
      "application/vnd.jupyter.widget-view+json": {
       "model_id": "",
       "version_major": 2,
       "version_minor": 0
      },
      "text/plain": [
       "FloatProgress(value=0.0, bar_style='info', description='Progress:', layout=Layout(height='25px', width='50%'),…"
      ]
     },
     "metadata": {},
     "output_type": "display_data"
    }
   ],
   "source": [
    "domaininfo = domaininfo.withColumn(\"tld\", lower(regexp_extract(\"domainname\", r\"[.].*$\", 0)))"
   ]
  },
  {
   "cell_type": "code",
   "execution_count": 44,
   "id": "36649b08",
   "metadata": {},
   "outputs": [
    {
     "data": {
      "application/vnd.jupyter.widget-view+json": {
       "model_id": "",
       "version_major": 2,
       "version_minor": 0
      },
      "text/plain": [
       "FloatProgress(value=0.0, bar_style='info', description='Progress:', layout=Layout(height='25px', width='50%'),…"
      ]
     },
     "metadata": {},
     "output_type": "display_data"
    }
   ],
   "source": [
    "domaininfo = domaininfo.withColumn(\"sld\", lower(regexp_extract(\"domainname\", r\"[.].*$\", 0)))"
   ]
  },
  {
   "cell_type": "code",
   "execution_count": 45,
   "id": "fe7eb7c3",
   "metadata": {},
   "outputs": [
    {
     "data": {
      "application/vnd.jupyter.widget-view+json": {
       "model_id": "",
       "version_major": 2,
       "version_minor": 0
      },
      "text/plain": [
       "FloatProgress(value=0.0, bar_style='info', description='Progress:', layout=Layout(height='25px', width='50%'),…"
      ]
     },
     "metadata": {},
     "output_type": "display_data"
    }
   ],
   "source": [
    "domaininfo = domaininfo.withColumn(\"create_to_update_year\", datediff(\"updatedate\", \"createdate\") / 365)"
   ]
  },
  {
   "cell_type": "code",
   "execution_count": 46,
   "id": "e47bf727",
   "metadata": {},
   "outputs": [
    {
     "data": {
      "application/vnd.jupyter.widget-view+json": {
       "model_id": "",
       "version_major": 2,
       "version_minor": 0
      },
      "text/plain": [
       "FloatProgress(value=0.0, bar_style='info', description='Progress:', layout=Layout(height='25px', width='50%'),…"
      ]
     },
     "metadata": {},
     "output_type": "display_data"
    }
   ],
   "source": [
    "domaininfo = domaininfo.withColumn(\"create_to_expire_year\", datediff(\"expirationdate\", \"createdate\") / 365)"
   ]
  },
  {
   "cell_type": "code",
   "execution_count": 47,
   "id": "3675f24a",
   "metadata": {},
   "outputs": [
    {
     "data": {
      "application/vnd.jupyter.widget-view+json": {
       "model_id": "",
       "version_major": 2,
       "version_minor": 0
      },
      "text/plain": [
       "FloatProgress(value=0.0, bar_style='info', description='Progress:', layout=Layout(height='25px', width='50%'),…"
      ]
     },
     "metadata": {},
     "output_type": "display_data"
    }
   ],
   "source": [
    "widen_domains = domaininfo.join(domaininfo_status, domaininfo.status == domaininfo_status.domaininfo_statusid, \"left\")"
   ]
  },
  {
   "cell_type": "code",
   "execution_count": 48,
   "id": "9305811e",
   "metadata": {},
   "outputs": [
    {
     "data": {
      "application/vnd.jupyter.widget-view+json": {
       "model_id": "",
       "version_major": 2,
       "version_minor": 0
      },
      "text/plain": [
       "FloatProgress(value=0.0, bar_style='info', description='Progress:', layout=Layout(height='25px', width='50%'),…"
      ]
     },
     "metadata": {},
     "output_type": "display_data"
    }
   ],
   "source": [
    "from pyspark.sql.functions import col, row_number, when"
   ]
  },
  {
   "cell_type": "code",
   "execution_count": 49,
   "id": "0912da0b",
   "metadata": {},
   "outputs": [
    {
     "data": {
      "application/vnd.jupyter.widget-view+json": {
       "model_id": "",
       "version_major": 2,
       "version_minor": 0
      },
      "text/plain": [
       "FloatProgress(value=0.0, bar_style='info', description='Progress:', layout=Layout(height='25px', width='50%'),…"
      ]
     },
     "metadata": {},
     "output_type": "display_data"
    }
   ],
   "source": [
    "from pyspark.sql.window import Window"
   ]
  },
  {
   "cell_type": "code",
   "execution_count": 51,
   "id": "ecd2fbcd",
   "metadata": {},
   "outputs": [
    {
     "data": {
      "application/vnd.jupyter.widget-view+json": {
       "model_id": "",
       "version_major": 2,
       "version_minor": 0
      },
      "text/plain": [
       "FloatProgress(value=0.0, bar_style='info', description='Progress:', layout=Layout(height='25px', width='50%'),…"
      ]
     },
     "metadata": {},
     "output_type": "display_data"
    }
   ],
   "source": [
    "domaininfo = widen_domains.withColumn(\n",
    "        \"updatedate_nvl\",\n",
    "        when(col(\"updatedate\").isNull(), col(\"modifytime\"))\n",
    "        .when(col(\"updatedate\") < col(\"modifytime\"), col(\"modifytime\"))\n",
    "        .otherwise(col(\"updatedate\")),\n",
    "    )"
   ]
  },
  {
   "cell_type": "code",
   "execution_count": 53,
   "id": "0343b7f6",
   "metadata": {},
   "outputs": [
    {
     "data": {
      "application/vnd.jupyter.widget-view+json": {
       "model_id": "",
       "version_major": 2,
       "version_minor": 0
      },
      "text/plain": [
       "FloatProgress(value=0.0, bar_style='info', description='Progress:', layout=Layout(height='25px', width='50%'),…"
      ]
     },
     "metadata": {},
     "output_type": "display_data"
    }
   ],
   "source": [
    "window = Window.partitionBy(\"shopper_id\").orderBy(col(\"isactiveflag\").desc(), col(\"updatedate_nvl\").desc())"
   ]
  },
  {
   "cell_type": "code",
   "execution_count": 54,
   "id": "09159f5e",
   "metadata": {},
   "outputs": [
    {
     "data": {
      "application/vnd.jupyter.widget-view+json": {
       "model_id": "",
       "version_major": 2,
       "version_minor": 0
      },
      "text/plain": [
       "FloatProgress(value=0.0, bar_style='info', description='Progress:', layout=Layout(height='25px', width='50%'),…"
      ]
     },
     "metadata": {},
     "output_type": "display_data"
    }
   ],
   "source": [
    "domaininfo = domaininfo.withColumn(\"row_number\", row_number().over(window)).filter(col(\"row_number\") <= 1000)"
   ]
  },
  {
   "cell_type": "code",
   "execution_count": 56,
   "id": "e8aa786c",
   "metadata": {},
   "outputs": [
    {
     "data": {
      "application/vnd.jupyter.widget-view+json": {
       "model_id": "",
       "version_major": 2,
       "version_minor": 0
      },
      "text/plain": [
       "FloatProgress(value=0.0, bar_style='info', description='Progress:', layout=Layout(height='25px', width='50%'),…"
      ]
     },
     "metadata": {},
     "output_type": "display_data"
    }
   ],
   "source": [
    "latest_domains = domaininfo.drop(\"row_number\", \"updatedate_nvl\")"
   ]
  },
  {
   "cell_type": "code",
   "execution_count": 60,
   "id": "0d356d9f",
   "metadata": {},
   "outputs": [
    {
     "data": {
      "application/vnd.jupyter.widget-view+json": {
       "model_id": "",
       "version_major": 2,
       "version_minor": 0
      },
      "text/plain": [
       "FloatProgress(value=0.0, bar_style='info', description='Progress:', layout=Layout(height='25px', width='50%'),…"
      ]
     },
     "metadata": {},
     "output_type": "display_data"
    }
   ],
   "source": [
    "domains = latest_domains"
   ]
  },
  {
   "cell_type": "code",
   "execution_count": 61,
   "id": "91829a2a",
   "metadata": {},
   "outputs": [
    {
     "data": {
      "application/vnd.jupyter.widget-view+json": {
       "model_id": "",
       "version_major": 2,
       "version_minor": 0
      },
      "text/plain": [
       "FloatProgress(value=0.0, bar_style='info', description='Progress:', layout=Layout(height='25px', width='50%'),…"
      ]
     },
     "metadata": {},
     "output_type": "display_data"
    }
   ],
   "source": [
    "from pyspark.sql.functions import sum, col, countDistinct, count, lit, when"
   ]
  },
  {
   "cell_type": "code",
   "execution_count": 80,
   "id": "67a72ff0",
   "metadata": {},
   "outputs": [
    {
     "data": {
      "application/vnd.jupyter.widget-view+json": {
       "model_id": "",
       "version_major": 2,
       "version_minor": 0
      },
      "text/plain": [
       "FloatProgress(value=0.0, bar_style='info', description='Progress:', layout=Layout(height='25px', width='50%'),…"
      ]
     },
     "metadata": {},
     "output_type": "display_data"
    }
   ],
   "source": [
    "domains = domains.fillna(0, [\"create_to_update_year\", \"create_to_expire_year\"])"
   ]
  },
  {
   "cell_type": "code",
   "execution_count": 98,
   "id": "8788a688",
   "metadata": {},
   "outputs": [
    {
     "data": {
      "application/vnd.jupyter.widget-view+json": {
       "model_id": "",
       "version_major": 2,
       "version_minor": 0
      },
      "text/plain": [
       "FloatProgress(value=0.0, bar_style='info', description='Progress:', layout=Layout(height='25px', width='50%'),…"
      ]
     },
     "metadata": {},
     "output_type": "display_data"
    }
   ],
   "source": [
    "domains = domains.withColumn(\"domain_register_over_year_active\",\n",
    "                                 when((((col(\"create_to_update_year\") > 1) | (col(\"create_to_expire_year\") > 1))\n",
    "                                       & col(\"isactiveflag\")), 1).otherwise(0))"
   ]
  },
  {
   "cell_type": "code",
   "execution_count": 99,
   "id": "58f76b67",
   "metadata": {},
   "outputs": [
    {
     "data": {
      "application/vnd.jupyter.widget-view+json": {
       "model_id": "",
       "version_major": 2,
       "version_minor": 0
      },
      "text/plain": [
       "FloatProgress(value=0.0, bar_style='info', description='Progress:', layout=Layout(height='25px', width='50%'),…"
      ]
     },
     "metadata": {},
     "output_type": "display_data"
    }
   ],
   "source": [
    "domains = domains.withColumn(\"domain_register_over_year_inactive\",\n",
    "                                 when((((col(\"create_to_update_year\") > 1) | (col(\"create_to_expire_year\") > 1))\n",
    "                                       & ~col(\"isactiveflag\")), 1).otherwise(0)\n",
    "                                 )"
   ]
  },
  {
   "cell_type": "code",
   "execution_count": 116,
   "id": "d59763a0",
   "metadata": {},
   "outputs": [
    {
     "data": {
      "application/vnd.jupyter.widget-view+json": {
       "model_id": "",
       "version_major": 2,
       "version_minor": 0
      },
      "text/plain": [
       "FloatProgress(value=0.0, bar_style='info', description='Progress:', layout=Layout(height='25px', width='50%'),…"
      ]
     },
     "metadata": {},
     "output_type": "display_data"
    }
   ],
   "source": [
    "domains = domains.withColumn(\"domain_register_over_year_all\",\n",
    "                                 col(\"domain_register_over_year_active\") + col(\"domain_register_over_year_inactive\"))"
   ]
  },
  {
   "cell_type": "code",
   "execution_count": 117,
   "id": "80a70de0",
   "metadata": {},
   "outputs": [
    {
     "data": {
      "application/vnd.jupyter.widget-view+json": {
       "model_id": "",
       "version_major": 2,
       "version_minor": 0
      },
      "text/plain": [
       "FloatProgress(value=0.0, bar_style='info', description='Progress:', layout=Layout(height='25px', width='50%'),…"
      ]
     },
     "metadata": {},
     "output_type": "display_data"
    }
   ],
   "source": [
    "active_domains = domains.filter(col(\"isactiveflag\"))"
   ]
  },
  {
   "cell_type": "code",
   "execution_count": 123,
   "id": "aad0ffe0",
   "metadata": {},
   "outputs": [
    {
     "data": {
      "application/vnd.jupyter.widget-view+json": {
       "model_id": "",
       "version_major": 2,
       "version_minor": 0
      },
      "text/plain": [
       "FloatProgress(value=0.0, bar_style='info', description='Progress:', layout=Layout(height='25px', width='50%'),…"
      ]
     },
     "metadata": {},
     "output_type": "display_data"
    },
    {
     "name": "stdout",
     "output_type": "stream",
     "text": [
      "True"
     ]
    }
   ],
   "source": [
    "\"order_feq\" in active_domains.columns"
   ]
  },
  {
   "cell_type": "code",
   "execution_count": 127,
   "id": "b6e46486",
   "metadata": {},
   "outputs": [
    {
     "data": {
      "application/vnd.jupyter.widget-view+json": {
       "model_id": "",
       "version_major": 2,
       "version_minor": 0
      },
      "text/plain": [
       "FloatProgress(value=0.0, bar_style='info', description='Progress:', layout=Layout(height='25px', width='50%'),…"
      ]
     },
     "metadata": {},
     "output_type": "display_data"
    },
    {
     "name": "stdout",
     "output_type": "stream",
     "text": [
      "['shopper_id', 'order_id', 'tx_source_database', 'tx_source_table', 'tx_action', 'tx_write_time', 'tx_source_id', 'tx_source_time', 'id', 'privatelabelid', 'ownerid', 'domainname', 'registrationperiod', 'createdate', 'expirationdate', 'updatedate', 'status', 'renewperiod', 'modifytime', 'errordesc', 'row_id', 'agreedtocontract', 'isoingo', 'registryid', 'authinfo', 'tldid', 'sendemail', 'xfrawaydate', 'processctrl', 'lastusernote', 'modifiedby', 'internalregistrarid', 'selectedforrenewalcall', 'autorenewflag', 'repossessedforsale', 'repossessedpriceperyear', 'repossessedcategoryid', 'isproxied', 'islocked', 'gdshop_receipt_item_detailid', 'previousregistrarid', 'ccemailaddress', 'eppjobid', 'lasttransferstatusdate', 'lasttransferstatusupdatebyid', 'domxfrattempts', 'curadminemail', 'domxfrkey', 'processdate', 'processuser', 'transfersendemail', 'event_id', 'lasttransferemaildate', 'processguid', 'fraud', 'isinternaltransfer', 'parent_bundle_id', 'parent_bundle_product_typeid', 'gdshop_free_product_packageid', 'isregistrarhold', 'islimited', 'gaining_registrar_id', 'canceleddate', 'syncexpirationdate', 'lastsyncdate', 'isauroraenabled', 'renewaldeadline', 'issuperlocked', 'dnsimportkey', 'billingresourceid', 'billingstatus', 'expireddomainmonitorid', 'expiredrestoredeadline', 'recordcreatedate', 'hasdccpendingevent', 'requestbatchdetailid', 'isexpirationprotected', 'istransferprotected', 'isapollo', 'intldomainname', 'languageid', 'deletedate', 'requestedip', 'requestedby', 'xfrawaydateupdatereason', 'modifiedbyip', 'issmartdomain', 'invalidwhois', 'priorstatusauditid', 'priorautorenewflagauditid', 'extendedautorenewyears', 'lastaudittime', 'lastauditresult', 'priorautorenewflagauditid_bigint', 'computed_priorautorenewflagauditid', 'tld', 'sld', 'create_to_update_year', 'create_to_expire_year', 'tx_source_database', 'tx_source_table', 'tx_action', 'tx_write_time', 'tx_source_id', 'tx_source_time', 'domaininfo_statusid', 'description', 'domaininfo_statusgroupid', 'dnsupdateflag', 'isactiveflag', 'isactionflag', 'isbillingactiveflag', 'iswhoisactive', 'isagentsvcaction', 'isxfrsvcaction', 'isduplicateactivedomain', 'isdccactivedomain', 'isdcctransfer', 'iseclipseactivedomain', 'isterminal', 'isdccredemption', 'isdccpendingactive', 'isrenewable', 'display', 'longdescription', 'actiontotakedisplay', 'isdnsmanageable', 'isprivacyallowed', 'iscancellable', 'ispremiumdomainerror', 'isagentsvcredemable_', 'cancelledtransferset27', 'allowsoftcancel', 'allowbillingpark', 'renewablewithoutredemption', 'isreceiptlesstransaction', 'isduplicatetransferdomain', 'isregistryactive', 'modifiedby', 'modifiedbyip', 'isdbpauditstatus', 'isdccpreregistration', 'isbillingconfirmed', 'dccpreregbitmask', 'domain_register_over_year_active', 'domain_register_over_year_inactive', 'domain_register_over_year_all', 'order_feq']"
     ]
    }
   ],
   "source": [
    "active_domains.columns"
   ]
  },
  {
   "cell_type": "code",
   "execution_count": 142,
   "id": "4b2e6673",
   "metadata": {},
   "outputs": [
    {
     "data": {
      "application/vnd.jupyter.widget-view+json": {
       "model_id": "",
       "version_major": 2,
       "version_minor": 0
      },
      "text/plain": [
       "FloatProgress(value=0.0, bar_style='info', description='Progress:', layout=Layout(height='25px', width='50%'),…"
      ]
     },
     "metadata": {},
     "output_type": "display_data"
    }
   ],
   "source": [
    "non_duplicate_orders = active_domains.groupBy([\"shopper_id\", \"order_id\"])\\\n",
    "        .agg(sum(lit(1)).alias(\"order_freq\"))\\\n",
    "        .select(\"shopper_id\", \"order_id\", \"order_freq\")"
   ]
  },
  {
   "cell_type": "code",
   "execution_count": 143,
   "id": "552a642c",
   "metadata": {},
   "outputs": [
    {
     "data": {
      "application/vnd.jupyter.widget-view+json": {
       "model_id": "",
       "version_major": 2,
       "version_minor": 0
      },
      "text/plain": [
       "FloatProgress(value=0.0, bar_style='info', description='Progress:', layout=Layout(height='25px', width='50%'),…"
      ]
     },
     "metadata": {},
     "output_type": "display_data"
    },
    {
     "name": "stdout",
     "output_type": "stream",
     "text": [
      "+----------+----------+----------+\n",
      "|shopper_id|  order_id|order_freq|\n",
      "+----------+----------+----------+\n",
      "| 163443605|1346991122|         1|\n",
      "| 231608122|1877142280|         1|\n",
      "|  23839928|2283334812|         1|\n",
      "| 272998478|2283333323|         1|\n",
      "| 280945054|2283334222|         1|\n",
      "| 349538039|2283335176|         1|\n",
      "|  37971614| 260465942|         1|\n",
      "| 480577213|2270982562|         1|\n",
      "| 527263904|2277082040|         2|\n",
      "| 528451620|2283335036|         3|\n",
      "| 410809803|2049539313|        27|\n",
      "| 410809803|1973591455|         9|\n",
      "| 410809803|1982235290|        13|\n",
      "| 410809803|1974860483|         1|\n",
      "| 102704532|1908037473|         1|\n",
      "| 102704532|1900185690|         1|\n",
      "| 102704532|1901848300|         1|\n",
      "| 102704532|1930755800|         1|\n",
      "| 102704532|1929297708|         1|\n",
      "| 102704532|1910221031|         1|\n",
      "+----------+----------+----------+\n",
      "only showing top 20 rows"
     ]
    }
   ],
   "source": [
    "non_duplicate_orders.show()"
   ]
  },
  {
   "cell_type": "code",
   "execution_count": 144,
   "id": "2e4be1a7",
   "metadata": {},
   "outputs": [
    {
     "data": {
      "application/vnd.jupyter.widget-view+json": {
       "model_id": "",
       "version_major": 2,
       "version_minor": 0
      },
      "text/plain": [
       "FloatProgress(value=0.0, bar_style='info', description='Progress:', layout=Layout(height='25px', width='50%'),…"
      ]
     },
     "metadata": {},
     "output_type": "display_data"
    }
   ],
   "source": [
    "active_domains = active_domains.join(non_duplicate_orders, [\"shopper_id\", \"order_id\"], \"left\")"
   ]
  },
  {
   "cell_type": "code",
   "execution_count": 145,
   "id": "46f47a08",
   "metadata": {},
   "outputs": [
    {
     "data": {
      "application/vnd.jupyter.widget-view+json": {
       "model_id": "",
       "version_major": 2,
       "version_minor": 0
      },
      "text/plain": [
       "FloatProgress(value=0.0, bar_style='info', description='Progress:', layout=Layout(height='25px', width='50%'),…"
      ]
     },
     "metadata": {},
     "output_type": "display_data"
    },
    {
     "name": "stdout",
     "output_type": "stream",
     "text": [
      "+----------+----------+----------+\n",
      "|shopper_id|  order_id|order_freq|\n",
      "+----------+----------+----------+\n",
      "| 527263904|2277082040|         2|\n",
      "| 527263904|2277082040|         2|\n",
      "| 480577213|2270982562|         1|\n",
      "| 272998478|2283333323|         1|\n",
      "| 163443605|1346991122|         1|\n",
      "| 231608122|1877142280|         1|\n",
      "| 280945054|2283334222|         1|\n",
      "| 349538039|2283335176|         1|\n",
      "| 528451620|2283335036|         3|\n",
      "| 528451620|2283335036|         3|\n",
      "| 528451620|2283335036|         3|\n",
      "|  37971614| 260465942|         1|\n",
      "|  23839928|2283334812|         1|\n",
      "| 410809803|1982235290|        13|\n",
      "| 410809803|1982235290|        13|\n",
      "| 410809803|1982235290|        13|\n",
      "| 410809803|1982235290|        13|\n",
      "| 410809803|1982235290|        13|\n",
      "| 410809803|1982235290|        13|\n",
      "| 410809803|1982235290|        13|\n",
      "+----------+----------+----------+\n",
      "only showing top 20 rows"
     ]
    }
   ],
   "source": [
    "active_domains.select([\n",
    "    \"shopper_id\", \"order_id\", \"order_freq\"\n",
    "]).show()"
   ]
  },
  {
   "cell_type": "code",
   "execution_count": 148,
   "id": "06de6d8f",
   "metadata": {},
   "outputs": [
    {
     "data": {
      "application/vnd.jupyter.widget-view+json": {
       "model_id": "",
       "version_major": 2,
       "version_minor": 0
      },
      "text/plain": [
       "FloatProgress(value=0.0, bar_style='info', description='Progress:', layout=Layout(height='25px', width='50%'),…"
      ]
     },
     "metadata": {},
     "output_type": "display_data"
    }
   ],
   "source": [
    "active_domains = active_domains.withColumn(\"1_domain_order\", when(col(\"order_freq\") == 1, 1).otherwise(0))"
   ]
  },
  {
   "cell_type": "code",
   "execution_count": 154,
   "id": "5347e638",
   "metadata": {},
   "outputs": [
    {
     "data": {
      "application/vnd.jupyter.widget-view+json": {
       "model_id": "",
       "version_major": 2,
       "version_minor": 0
      },
      "text/plain": [
       "FloatProgress(value=0.0, bar_style='info', description='Progress:', layout=Layout(height='25px', width='50%'),…"
      ]
     },
     "metadata": {},
     "output_type": "display_data"
    }
   ],
   "source": [
    "grouped_active_domains = active_domains.groupBy(\"shopper_id\").agg(\n",
    "        sum(\"order_freq\").alias(\"orders_count\"),\n",
    "        countDistinct(\"tld\").alias(\"active_tlds\"),\n",
    "        countDistinct(\"sld\").alias(\"active_slds\"),\n",
    "        count(lit(1)).alias(\"active_domains\"),\n",
    "        sum(col(\"1_domain_order\")).alias(\"1_domain_order\")\n",
    "    )"
   ]
  },
  {
   "cell_type": "code",
   "execution_count": 155,
   "id": "b05dfa4e",
   "metadata": {},
   "outputs": [
    {
     "data": {
      "application/vnd.jupyter.widget-view+json": {
       "model_id": "",
       "version_major": 2,
       "version_minor": 0
      },
      "text/plain": [
       "FloatProgress(value=0.0, bar_style='info', description='Progress:', layout=Layout(height='25px', width='50%'),…"
      ]
     },
     "metadata": {},
     "output_type": "display_data"
    }
   ],
   "source": [
    "grouped_active_domains = grouped_active_domains.withColumn(\"multipurchase_count\",\n",
    "                                                               col(\"active_domains\") - col(\"orders_count\"))"
   ]
  },
  {
   "cell_type": "code",
   "execution_count": 156,
   "id": "a5507008",
   "metadata": {},
   "outputs": [
    {
     "data": {
      "application/vnd.jupyter.widget-view+json": {
       "model_id": "",
       "version_major": 2,
       "version_minor": 0
      },
      "text/plain": [
       "FloatProgress(value=0.0, bar_style='info', description='Progress:', layout=Layout(height='25px', width='50%'),…"
      ]
     },
     "metadata": {},
     "output_type": "display_data"
    }
   ],
   "source": [
    "grouped_active_domains = grouped_active_domains.withColumn(\"tld_count\", col(\"active_tlds\"))"
   ]
  },
  {
   "cell_type": "code",
   "execution_count": 157,
   "id": "33d0f181",
   "metadata": {},
   "outputs": [
    {
     "data": {
      "application/vnd.jupyter.widget-view+json": {
       "model_id": "",
       "version_major": 2,
       "version_minor": 0
      },
      "text/plain": [
       "FloatProgress(value=0.0, bar_style='info', description='Progress:', layout=Layout(height='25px', width='50%'),…"
      ]
     },
     "metadata": {},
     "output_type": "display_data"
    }
   ],
   "source": [
    "grouped_active_domains = grouped_active_domains.withColumn(\"duplicate_slds\",\n",
    "                                                               col(\"active_domains\") - col(\"active_slds\"))"
   ]
  },
  {
   "cell_type": "code",
   "execution_count": 158,
   "id": "84115602",
   "metadata": {},
   "outputs": [
    {
     "data": {
      "application/vnd.jupyter.widget-view+json": {
       "model_id": "",
       "version_major": 2,
       "version_minor": 0
      },
      "text/plain": [
       "FloatProgress(value=0.0, bar_style='info', description='Progress:', layout=Layout(height='25px', width='50%'),…"
      ]
     },
     "metadata": {},
     "output_type": "display_data"
    }
   ],
   "source": [
    "grouped_active_domains = grouped_active_domains.withColumn(\"diff_tld_prop\",\n",
    "                                                               col(\"active_tlds\") / col(\"active_domains\"))"
   ]
  },
  {
   "cell_type": "code",
   "execution_count": 159,
   "id": "68fa190d",
   "metadata": {},
   "outputs": [
    {
     "data": {
      "application/vnd.jupyter.widget-view+json": {
       "model_id": "",
       "version_major": 2,
       "version_minor": 0
      },
      "text/plain": [
       "FloatProgress(value=0.0, bar_style='info', description='Progress:', layout=Layout(height='25px', width='50%'),…"
      ]
     },
     "metadata": {},
     "output_type": "display_data"
    }
   ],
   "source": [
    "grouped_active_domains = grouped_active_domains.withColumn(\"duplicate_slds_prop\",\n",
    "                                                               col(\"active_slds\") / col(\"active_domains\"))"
   ]
  },
  {
   "cell_type": "code",
   "execution_count": 160,
   "id": "78770ba9",
   "metadata": {},
   "outputs": [
    {
     "data": {
      "application/vnd.jupyter.widget-view+json": {
       "model_id": "",
       "version_major": 2,
       "version_minor": 0
      },
      "text/plain": [
       "FloatProgress(value=0.0, bar_style='info', description='Progress:', layout=Layout(height='25px', width='50%'),…"
      ]
     },
     "metadata": {},
     "output_type": "display_data"
    }
   ],
   "source": [
    "grouped_active_domains = grouped_active_domains.withColumn(\"average_domain_per_order\",\n",
    "                                                               when(col(\"orders_count\") > 0,\n",
    "                                                                    col(\"active_domains\")/col(\"orders_count\"))\n",
    "                                                               .otherwise(0))"
   ]
  },
  {
   "cell_type": "code",
   "execution_count": 161,
   "id": "f5a5e956",
   "metadata": {},
   "outputs": [
    {
     "data": {
      "application/vnd.jupyter.widget-view+json": {
       "model_id": "",
       "version_major": 2,
       "version_minor": 0
      },
      "text/plain": [
       "FloatProgress(value=0.0, bar_style='info', description='Progress:', layout=Layout(height='25px', width='50%'),…"
      ]
     },
     "metadata": {},
     "output_type": "display_data"
    }
   ],
   "source": [
    "grouped_active_domains = grouped_active_domains.withColumn(\"duplicate_slds_prop\",\n",
    "                                                               col(\"active_slds\") / col(\"active_domains\"))"
   ]
  },
  {
   "cell_type": "code",
   "execution_count": 162,
   "id": "360cba73",
   "metadata": {},
   "outputs": [
    {
     "data": {
      "application/vnd.jupyter.widget-view+json": {
       "model_id": "",
       "version_major": 2,
       "version_minor": 0
      },
      "text/plain": [
       "FloatProgress(value=0.0, bar_style='info', description='Progress:', layout=Layout(height='25px', width='50%'),…"
      ]
     },
     "metadata": {},
     "output_type": "display_data"
    }
   ],
   "source": [
    "grouped_domains = domains.groupBy(\"shopper_id\").agg(\n",
    "        sum(\"domain_register_over_year_active\").alias(\"domain_register_over_year_active\"),\n",
    "        sum(\"domain_register_over_year_inactive\").alias(\"domain_register_over_year_inactive\"),\n",
    "        sum(\"domain_register_over_year_all\").alias(\"domain_register_over_year_all\")\n",
    "    )"
   ]
  },
  {
   "cell_type": "code",
   "execution_count": 163,
   "id": "ea2c3610",
   "metadata": {},
   "outputs": [
    {
     "data": {
      "application/vnd.jupyter.widget-view+json": {
       "model_id": "",
       "version_major": 2,
       "version_minor": 0
      },
      "text/plain": [
       "FloatProgress(value=0.0, bar_style='info', description='Progress:', layout=Layout(height='25px', width='50%'),…"
      ]
     },
     "metadata": {},
     "output_type": "display_data"
    }
   ],
   "source": [
    "merged_domains = grouped_domains\\\n",
    "        .join(grouped_active_domains, \"shopper_id\", \"left\")\\\n",
    "        .select(\"shopper_id\", \"multipurchase_count\", \"tld_count\", \"duplicate_slds\", \"diff_tld_prop\",\n",
    "                \"duplicate_slds_prop\", \"average_domain_per_order\")\\\n",
    "        .fillna(0)"
   ]
  },
  {
   "cell_type": "code",
   "execution_count": 172,
   "id": "2dc8e8ea",
   "metadata": {},
   "outputs": [
    {
     "data": {
      "application/vnd.jupyter.widget-view+json": {
       "model_id": "",
       "version_major": 2,
       "version_minor": 0
      },
      "text/plain": [
       "FloatProgress(value=0.0, bar_style='info', description='Progress:', layout=Layout(height='25px', width='50%'),…"
      ]
     },
     "metadata": {},
     "output_type": "display_data"
    }
   ],
   "source": [
    "_threshold_categorical_column_names = [\n",
    "    f\"{status_name}_{feature_name}\" for status_name, feature_name, _ in _threshold_categorical_features\n",
    "]\n",
    "\n",
    "_scaled_numeric_column_names = [\n",
    "    f\"{status_name}_{feature_name}\" for status_name, feature_name, _ in _scaled_numeric_features\n",
    "]"
   ]
  },
  {
   "cell_type": "code",
   "execution_count": 173,
   "id": "220724b7",
   "metadata": {},
   "outputs": [
    {
     "data": {
      "application/vnd.jupyter.widget-view+json": {
       "model_id": "",
       "version_major": 2,
       "version_minor": 0
      },
      "text/plain": [
       "FloatProgress(value=0.0, bar_style='info', description='Progress:', layout=Layout(height='25px', width='50%'),…"
      ]
     },
     "metadata": {},
     "output_type": "display_data"
    }
   ],
   "source": [
    "cols = [\n",
    "    \"shopper_id\", \"domain_register_over_year_active\", \"domain_register_over_year_inactive\",\n",
    "    \"domain_register_over_year_all\", \"domain_register_over_year_all\", \"orders_count\", \"tld_count\",\n",
    "    \"active_slds\", \"active_domains\", \"1_domain_order\", \"multipurchase_count\", \"duplicate_slds\", \"diff_tld_prop\",\n",
    "    \"duplicate_slds_prop\", \"average_domain_per_order\", \"duplicate_slds_prop\"\n",
    "]"
   ]
  },
  {
   "cell_type": "code",
   "execution_count": 175,
   "id": "b4ea2619",
   "metadata": {},
   "outputs": [
    {
     "data": {
      "application/vnd.jupyter.widget-view+json": {
       "model_id": "",
       "version_major": 2,
       "version_minor": 0
      },
      "text/plain": [
       "FloatProgress(value=0.0, bar_style='info', description='Progress:', layout=Layout(height='25px', width='50%'),…"
      ]
     },
     "metadata": {},
     "output_type": "display_data"
    },
    {
     "name": "stdout",
     "output_type": "stream",
     "text": [
      "+----------+-------------------+---------+--------------+------------------+-------------------+------------------------+\n",
      "|shopper_id|multipurchase_count|tld_count|duplicate_slds|     diff_tld_prop|duplicate_slds_prop|average_domain_per_order|\n",
      "+----------+-------------------+---------+--------------+------------------+-------------------+------------------------+\n",
      "| 163443605|                  0|        1|             0|               1.0|                1.0|                     1.0|\n",
      "| 231608122|                  0|        1|             0|               1.0|                1.0|                     1.0|\n",
      "|  23839928|                  0|        1|             0|               1.0|                1.0|                     1.0|\n",
      "| 272998478|                  0|        1|             0|               1.0|                1.0|                     1.0|\n",
      "| 280945054|                  0|        1|             0|               1.0|                1.0|                     1.0|\n",
      "| 349538039|                  0|        1|             0|               1.0|                1.0|                     1.0|\n",
      "|  37971614|                  0|        1|             0|               1.0|                1.0|                     1.0|\n",
      "| 480577213|                  0|        1|             0|               1.0|                1.0|                     1.0|\n",
      "| 527263904|                 -2|        1|             1|               0.5|                0.5|                     0.5|\n",
      "| 528451620|                 -6|        2|             1|0.6666666666666666| 0.6666666666666666|      0.3333333333333333|\n",
      "| 134754471|                  0|        2|             1|0.6666666666666666| 0.6666666666666666|                     1.0|\n",
      "| 148852211|                  0|        0|             0|               0.0|                0.0|                     0.0|\n",
      "| 192276829|                  0|        1|             0|               1.0|                1.0|                     1.0|\n",
      "| 216576431|                  0|        1|             0|               1.0|                1.0|                     1.0|\n",
      "| 349138645|                  0|        1|             0|               1.0|                1.0|                     1.0|\n",
      "| 410809803|               -930|        1|            49|              0.02|               0.02|     0.05102040816326531|\n",
      "| 528456332|                  0|        1|             0|               1.0|                1.0|                     1.0|\n",
      "|  82485417|                  0|        0|             0|               0.0|                0.0|                     0.0|\n",
      "| 102704532|                  0|        4|             9|0.3076923076923077| 0.3076923076923077|                     1.0|\n",
      "| 144275996|                  0|        1|             0|               1.0|                1.0|                     1.0|\n",
      "+----------+-------------------+---------+--------------+------------------+-------------------+------------------------+\n",
      "only showing top 20 rows"
     ]
    }
   ],
   "source": [
    "merged_domains.show()"
   ]
  },
  {
   "cell_type": "code",
   "execution_count": 177,
   "id": "646d59a0",
   "metadata": {},
   "outputs": [
    {
     "data": {
      "application/vnd.jupyter.widget-view+json": {
       "model_id": "",
       "version_major": 2,
       "version_minor": 0
      },
      "text/plain": [
       "FloatProgress(value=0.0, bar_style='info', description='Progress:', layout=Layout(height='25px', width='50%'),…"
      ]
     },
     "metadata": {},
     "output_type": "display_data"
    }
   ],
   "source": [
    "from datetime import datetime\n",
    "mock_domaininfo_txlog_columns = [\n",
    "    \"shopper_id\",\n",
    "    \"tx_source_time\",\n",
    "    \"tx_date\",\n",
    "]\n",
    "\n",
    "mock_domaininfo_txlog_data = [\n",
    "    [\"mock_shopper_id\", datetime(2022, 8, 1), datetime(2022, 8, 1)],\n",
    "    [\"before_materialization_time\", datetime(2022, 1, 1), datetime(2022, 1, 2)],\n",
    "    [\"after_materialization_time\", datetime(2022, 12, 1), datetime(2022, 12, 1)],\n",
    "]\n",
    "\n",
    "mock_domaininfo_status_columns = [\"domaininfo_statusid\", \"isactiveflag\"]\n",
    "mock_domaininfo_status_data = [\n",
    "    [1, True],\n",
    "    [2, False],\n",
    "]"
   ]
  },
  {
   "cell_type": "code",
   "execution_count": 192,
   "id": "ed9c5b7d",
   "metadata": {},
   "outputs": [
    {
     "data": {
      "application/vnd.jupyter.widget-view+json": {
       "model_id": "",
       "version_major": 2,
       "version_minor": 0
      },
      "text/plain": [
       "FloatProgress(value=0.0, bar_style='info', description='Progress:', layout=Layout(height='25px', width='50%'),…"
      ]
     },
     "metadata": {},
     "output_type": "display_data"
    }
   ],
   "source": [
    "mock_domaininfo_columns = [\n",
    "    \"shopper_id\",\n",
    "    \"status\",\n",
    "    \"previousregistrarid\",\n",
    "    \"domainname\",\n",
    "    \"gaining_registrar_id\",\n",
    "    \"modifytime\",\n",
    "    \"updatedate\",\n",
    "    \"createdate\",\n",
    "    \"expirationdate\",\n",
    "    \"deletedate\",\n",
    "    \"canceleddate\",\n",
    "    \"autorenewflag\",\n",
    "    \"billingstatus\",\n",
    "    \"islocked\",\n",
    "    \"isproxied\",\n",
    "    \"isinternaltransfer\",\n",
    "    \"islimited\",\n",
    "    \"isregistrarhold\",\n",
    "    \"issuperlocked\",\n",
    "    \"lasttransferstatusdate\",\n",
    "    \"istransferprotected\",\n",
    "    \"isexpirationprotected\",\n",
    "    \"issmartdomain\",\n",
    "    \"invalidwhois\",\n",
    "    \"order_id\"\n",
    "]\n",
    "mock_domaininfo_data = [\n",
    "    [\n",
    "        \"before_materialization_time\",\n",
    "        1,\n",
    "        1,\n",
    "        \"abcd.mock\",\n",
    "        1,\n",
    "        datetime(2022, 1, 1),\n",
    "        datetime(2022, 1, 2),\n",
    "        None,\n",
    "        None,\n",
    "        None,\n",
    "        None,\n",
    "        None,\n",
    "        None,\n",
    "        None,\n",
    "        None,\n",
    "        None,\n",
    "        None,\n",
    "        None,\n",
    "        None,\n",
    "        datetime(2022, 1, 1),  # lasttransferstatusdate\n",
    "        None,\n",
    "        None,\n",
    "        None,\n",
    "        None,\n",
    "        111\n",
    "    ],\n",
    "    [\n",
    "        \"mock_shopper_id\",\n",
    "        1,\n",
    "        1,\n",
    "        \"abcd.com\",\n",
    "        1,\n",
    "        datetime(2022, 8, 1),\n",
    "        datetime(2022, 8, 2),\n",
    "        datetime(2022, 1, 1),\n",
    "        datetime(2023, 1, 1),\n",
    "        None,\n",
    "        None,\n",
    "        1,\n",
    "        1,\n",
    "        1,\n",
    "        1,\n",
    "        1,\n",
    "        1,\n",
    "        1,\n",
    "        1,\n",
    "        datetime(2022, 1, 1),  # lasttransferstatusdate\n",
    "        False,\n",
    "        False,\n",
    "        False,\n",
    "        False,\n",
    "        222\n",
    "    ],\n",
    "    [\n",
    "        \"mock_shopper_id\",\n",
    "        2,\n",
    "        -1,\n",
    "        \"abcd.info\",\n",
    "        None,\n",
    "        datetime(2022, 8, 2),\n",
    "        datetime(2022, 8, 1),\n",
    "        datetime(2022, 8, 1),\n",
    "        datetime(2022, 8, 1),\n",
    "        datetime(2022, 8, 1),\n",
    "        datetime(2022, 8, 1),\n",
    "        None,\n",
    "        None,\n",
    "        None,\n",
    "        None,\n",
    "        None,\n",
    "        None,\n",
    "        None,\n",
    "        None,\n",
    "        datetime(2022, 1, 1),  # lasttransferstatusdate\n",
    "        False,\n",
    "        False,\n",
    "        False,\n",
    "        False,\n",
    "        111\n",
    "    ],\n",
    "    [\n",
    "        \"after_materialization_time\",\n",
    "        2,\n",
    "        None,\n",
    "        \"wxyz.mock\",\n",
    "        None,\n",
    "        datetime(2022, 12, 1),\n",
    "        None,\n",
    "        None,\n",
    "        None,\n",
    "        None,\n",
    "        None,\n",
    "        None,\n",
    "        None,\n",
    "        None,\n",
    "        None,\n",
    "        None,\n",
    "        None,\n",
    "        None,\n",
    "        None,\n",
    "        datetime(2022, 1, 1),  # lasttransferstatusdate\n",
    "        None,\n",
    "        None,\n",
    "        None,\n",
    "        None,\n",
    "        111\n",
    "    ],\n",
    "]"
   ]
  },
  {
   "cell_type": "code",
   "execution_count": 193,
   "id": "9b52f4de",
   "metadata": {},
   "outputs": [
    {
     "data": {
      "application/vnd.jupyter.widget-view+json": {
       "model_id": "",
       "version_major": 2,
       "version_minor": 0
      },
      "text/plain": [
       "FloatProgress(value=0.0, bar_style='info', description='Progress:', layout=Layout(height='25px', width='50%'),…"
      ]
     },
     "metadata": {},
     "output_type": "display_data"
    }
   ],
   "source": [
    "import pandas as pd"
   ]
  },
  {
   "cell_type": "code",
   "execution_count": 194,
   "id": "ea7f6dfa",
   "metadata": {},
   "outputs": [
    {
     "data": {
      "application/vnd.jupyter.widget-view+json": {
       "model_id": "",
       "version_major": 2,
       "version_minor": 0
      },
      "text/plain": [
       "FloatProgress(value=0.0, bar_style='info', description='Progress:', layout=Layout(height='25px', width='50%'),…"
      ]
     },
     "metadata": {},
     "output_type": "display_data"
    }
   ],
   "source": [
    "df_status = pd.DataFrame(data=mock_domaininfo_status_data, columns=mock_domaininfo_status_columns)\n",
    "df_tx_log = pd.DataFrame(data=mock_domaininfo_txlog_data, columns=mock_domaininfo_txlog_columns)\n",
    "df_info = pd.DataFrame(data=mock_domaininfo_data, columns=mock_domaininfo_columns)"
   ]
  },
  {
   "cell_type": "code",
   "execution_count": 195,
   "id": "2f526f92",
   "metadata": {},
   "outputs": [
    {
     "data": {
      "application/vnd.jupyter.widget-view+json": {
       "model_id": "",
       "version_major": 2,
       "version_minor": 0
      },
      "text/plain": [
       "FloatProgress(value=0.0, bar_style='info', description='Progress:', layout=Layout(height='25px', width='50%'),…"
      ]
     },
     "metadata": {},
     "output_type": "display_data"
    },
    {
     "name": "stdout",
     "output_type": "stream",
     "text": [
      "   domaininfo_statusid  isactiveflag\n",
      "0                    1          True\n",
      "1                    2         False"
     ]
    }
   ],
   "source": [
    "df_status.head()"
   ]
  },
  {
   "cell_type": "code",
   "execution_count": 196,
   "id": "d9b48378",
   "metadata": {},
   "outputs": [
    {
     "data": {
      "application/vnd.jupyter.widget-view+json": {
       "model_id": "",
       "version_major": 2,
       "version_minor": 0
      },
      "text/plain": [
       "FloatProgress(value=0.0, bar_style='info', description='Progress:', layout=Layout(height='25px', width='50%'),…"
      ]
     },
     "metadata": {},
     "output_type": "display_data"
    },
    {
     "name": "stdout",
     "output_type": "stream",
     "text": [
      "                    shopper_id tx_source_time    tx_date\n",
      "0              mock_shopper_id     2022-08-01 2022-08-01\n",
      "1  before_materialization_time     2022-01-01 2022-01-02\n",
      "2   after_materialization_time     2022-12-01 2022-12-01"
     ]
    }
   ],
   "source": [
    "df_tx_log.head()"
   ]
  },
  {
   "cell_type": "code",
   "execution_count": 197,
   "id": "76b71545",
   "metadata": {},
   "outputs": [
    {
     "data": {
      "application/vnd.jupyter.widget-view+json": {
       "model_id": "",
       "version_major": 2,
       "version_minor": 0
      },
      "text/plain": [
       "FloatProgress(value=0.0, bar_style='info', description='Progress:', layout=Layout(height='25px', width='50%'),…"
      ]
     },
     "metadata": {},
     "output_type": "display_data"
    },
    {
     "name": "stdout",
     "output_type": "stream",
     "text": [
      "                    shopper_id  status  ...  invalidwhois order_id\n",
      "0  before_materialization_time       1  ...          None      111\n",
      "1              mock_shopper_id       1  ...         False      222\n",
      "2              mock_shopper_id       2  ...         False      111\n",
      "3   after_materialization_time       2  ...          None      111\n",
      "\n",
      "[4 rows x 25 columns]"
     ]
    }
   ],
   "source": [
    "df_info.head()"
   ]
  },
  {
   "cell_type": "code",
   "execution_count": 198,
   "id": "15236f53",
   "metadata": {},
   "outputs": [
    {
     "data": {
      "application/vnd.jupyter.widget-view+json": {
       "model_id": "",
       "version_major": 2,
       "version_minor": 0
      },
      "text/plain": [
       "FloatProgress(value=0.0, bar_style='info', description='Progress:', layout=Layout(height='25px', width='50%'),…"
      ]
     },
     "metadata": {},
     "output_type": "display_data"
    }
   ],
   "source": [
    "required_cols = [\n",
    "    \"shopper_id\", \"domainname\", \"updatedate\", \"expirationdate\", \"createdate\", \"order_id\", \n",
    "]"
   ]
  },
  {
   "cell_type": "code",
   "execution_count": 199,
   "id": "5eb77620",
   "metadata": {},
   "outputs": [
    {
     "data": {
      "application/vnd.jupyter.widget-view+json": {
       "model_id": "",
       "version_major": 2,
       "version_minor": 0
      },
      "text/plain": [
       "FloatProgress(value=0.0, bar_style='info', description='Progress:', layout=Layout(height='25px', width='50%'),…"
      ]
     },
     "metadata": {},
     "output_type": "display_data"
    }
   ],
   "source": [
    "trimmed_df = df_info[required_cols]"
   ]
  },
  {
   "cell_type": "code",
   "execution_count": 200,
   "id": "2cc45d05",
   "metadata": {},
   "outputs": [
    {
     "data": {
      "application/vnd.jupyter.widget-view+json": {
       "model_id": "",
       "version_major": 2,
       "version_minor": 0
      },
      "text/plain": [
       "FloatProgress(value=0.0, bar_style='info', description='Progress:', layout=Layout(height='25px', width='50%'),…"
      ]
     },
     "metadata": {},
     "output_type": "display_data"
    },
    {
     "name": "stdout",
     "output_type": "stream",
     "text": [
      "                    shopper_id domainname  ... createdate order_id\n",
      "0  before_materialization_time  abcd.mock  ...        NaT      111\n",
      "1              mock_shopper_id   abcd.com  ... 2022-01-01      222\n",
      "2              mock_shopper_id  abcd.info  ... 2022-08-01      111\n",
      "3   after_materialization_time  wxyz.mock  ...        NaT      111\n",
      "\n",
      "[4 rows x 6 columns]"
     ]
    }
   ],
   "source": [
    "trimmed_df"
   ]
  },
  {
   "cell_type": "code",
   "execution_count": null,
   "id": "3fe70d94",
   "metadata": {},
   "outputs": [],
   "source": []
  }
 ],
 "metadata": {
  "kernelspec": {
   "display_name": "Sparkmagic (PySpark)",
   "language": "python",
   "name": "pysparkkernel"
  },
  "language_info": {
   "codemirror_mode": {
    "name": "python",
    "version": 3
   },
   "file_extension": ".py",
   "mimetype": "text/x-python",
   "name": "pyspark",
   "pygments_lexer": "python3"
  }
 },
 "nbformat": 4,
 "nbformat_minor": 5
}
