{
 "cells": [
  {
   "cell_type": "code",
   "execution_count": 1,
   "id": "31b0591f-d6a6-429a-b834-b0adcd42d858",
   "metadata": {
    "execution": {
     "iopub.execute_input": "2022-06-11T00:15:56.112975Z",
     "iopub.status.busy": "2022-06-11T00:15:56.112641Z",
     "iopub.status.idle": "2022-06-11T00:15:56.172991Z",
     "shell.execute_reply": "2022-06-11T00:15:56.172379Z",
     "shell.execute_reply.started": "2022-06-11T00:15:56.112928Z"
    },
    "scrolled": false,
    "tags": []
   },
   "outputs": [
    {
     "name": "stdout",
     "output_type": "stream",
     "text": [
      "Starting Spark application\n"
     ]
    },
    {
     "data": {
      "text/html": [
       "<table>\n",
       "<tr><th>ID</th><th>YARN Application ID</th><th>Kind</th><th>State</th><th>Spark UI</th><th>Driver log</th><th>User</th><th>Current session?</th></tr><tr><td>17</td><td>application_1654791728796_0019</td><td>pyspark</td><td>idle</td><td><a target=\"_blank\" href=\"http://ip-192-168-11-120.us-west-2.compute.internal:20888/proxy/application_1654791728796_0019/\">Link</a></td><td><a target=\"_blank\" href=\"http://ip-192-168-9-139.us-west-2.compute.internal:8042/node/containerlogs/container_1654791728796_0019_01_000001/livy\">Link</a></td><td>None</td><td>✔</td></tr></table>"
      ],
      "text/plain": [
       "<IPython.core.display.HTML object>"
      ]
     },
     "metadata": {},
     "output_type": "display_data"
    },
    {
     "data": {
      "application/vnd.jupyter.widget-view+json": {
       "model_id": "",
       "version_major": 2,
       "version_minor": 0
      },
      "text/plain": [
       "FloatProgress(value=0.0, bar_style='info', description='Progress:', layout=Layout(height='25px', width='50%'),…"
      ]
     },
     "metadata": {},
     "output_type": "display_data"
    },
    {
     "name": "stdout",
     "output_type": "stream",
     "text": [
      "SparkSession available as 'spark'.\n"
     ]
    },
    {
     "data": {
      "application/vnd.jupyter.widget-view+json": {
       "model_id": "",
       "version_major": 2,
       "version_minor": 0
      },
      "text/plain": [
       "FloatProgress(value=0.0, bar_style='info', description='Progress:', layout=Layout(height='25px', width='50%'),…"
      ]
     },
     "metadata": {},
     "output_type": "display_data"
    }
   ],
   "source": [
    "import tecton\n",
    "import pandas as pd"
   ]
  },
  {
   "cell_type": "code",
   "execution_count": 15,
   "id": "e055b829-ffcf-4783-94c3-8cba2d63267e",
   "metadata": {},
   "outputs": [
    {
     "data": {
      "application/vnd.jupyter.widget-view+json": {
       "model_id": "",
       "version_major": 2,
       "version_minor": 0
      },
      "text/plain": [
       "FloatProgress(value=0.0, bar_style='info', description='Progress:', layout=Layout(height='25px', width='50%'),…"
      ]
     },
     "metadata": {},
     "output_type": "display_data"
    }
   ],
   "source": [
    "# dataset_location = \"s3://gd-gdmltecton-stage-feature-data/wdd-model/wdd_us_labeled_20211105/full.parquet/dataset_00000_no_orders.parquet/\"\n",
    "# wdd_df = spark.read.parquet(dataset_location)\n",
    "\n",
    "# wdd_df_new = wdd_df.toPandas()\n",
    "\n",
    "# wdd_df_new[\"bill_modified_mst_ts\"] = pd.Timestamp('2022-05-21 12:00Z')\n",
    "\n",
    "# spine = pd.DataFrame()\n",
    "# spine[\"shopper_id\"] = wdd_df_new[\"shopper_id\"]\n",
    "# spine[\"bill_modified_mst_ts\"] = wdd_df_new[\"bill_modified_mst_ts\"]\n",
    "\n",
    "\n",
    "# my_workspace = tecton.get_workspace(\"prod\")\n",
    "# my_fs = my_workspace.get_feature_service(\"wdd_service\")\n",
    "\n",
    "# temp_df = my_fs.get_historical_features(spine).to_spark()"
   ]
  },
  {
   "cell_type": "code",
   "execution_count": 2,
   "id": "3ca77270-9026-42e1-ad42-a7b029efc4f7",
   "metadata": {
    "execution": {
     "iopub.execute_input": "2022-06-11T00:14:19.910383Z",
     "iopub.status.busy": "2022-06-11T00:14:19.910030Z",
     "iopub.status.idle": "2022-06-11T00:14:29.284040Z",
     "shell.execute_reply": "2022-06-11T00:14:29.283385Z",
     "shell.execute_reply.started": "2022-06-11T00:14:19.910343Z"
    }
   },
   "outputs": [
    {
     "data": {
      "application/vnd.jupyter.widget-view+json": {
       "model_id": "",
       "version_major": 2,
       "version_minor": 0
      },
      "text/plain": [
       "FloatProgress(value=0.0, bar_style='info', description='Progress:', layout=Layout(height='25px', width='50%'),…"
      ]
     },
     "metadata": {},
     "output_type": "display_data"
    }
   ],
   "source": [
    "dataset_location = \"s3://gd-gdmltecton-stage-feature-data/wdd-model/wdd_us_labeled_20211105/full.parquet/dataset_00000_no_orders.parquet/\"\n",
    "wdd_df = spark.read.parquet(dataset_location)"
   ]
  },
  {
   "cell_type": "code",
   "execution_count": 3,
   "id": "fb2f5bbb-5f69-4e7c-a36d-74c580b949f0",
   "metadata": {
    "execution": {
     "iopub.execute_input": "2022-06-11T00:14:35.063015Z",
     "iopub.status.busy": "2022-06-11T00:14:35.062783Z",
     "iopub.status.idle": "2022-06-11T00:14:35.118090Z",
     "shell.execute_reply": "2022-06-11T00:14:35.117510Z",
     "shell.execute_reply.started": "2022-06-11T00:14:35.062991Z"
    },
    "scrolled": true
   },
   "outputs": [
    {
     "data": {
      "application/vnd.jupyter.widget-view+json": {
       "model_id": "",
       "version_major": 2,
       "version_minor": 0
      },
      "text/plain": [
       "FloatProgress(value=0.0, bar_style='info', description='Progress:', layout=Layout(height='25px', width='50%'),…"
      ]
     },
     "metadata": {},
     "output_type": "display_data"
    }
   ],
   "source": [
    "import pyspark.sql.functions as F"
   ]
  },
  {
   "cell_type": "code",
   "execution_count": 4,
   "id": "1303fcc3-a136-4c8d-8bef-a6ef3cdfdda2",
   "metadata": {
    "execution": {
     "iopub.execute_input": "2022-06-11T00:17:47.666534Z",
     "iopub.status.busy": "2022-06-11T00:17:47.666187Z",
     "iopub.status.idle": "2022-06-11T00:17:47.938954Z",
     "shell.execute_reply": "2022-06-11T00:17:47.938370Z",
     "shell.execute_reply.started": "2022-06-11T00:17:47.666504Z"
    },
    "tags": []
   },
   "outputs": [
    {
     "data": {
      "application/vnd.jupyter.widget-view+json": {
       "model_id": "",
       "version_major": 2,
       "version_minor": 0
      },
      "text/plain": [
       "FloatProgress(value=0.0, bar_style='info', description='Progress:', layout=Layout(height='25px', width='50%'),…"
      ]
     },
     "metadata": {},
     "output_type": "display_data"
    }
   ],
   "source": [
    "spine = (wdd_df\n",
    "         .select('shopper_id')\n",
    "         .withColumn('bill_modified_mst_ts', F.lit(pd.Timestamp('2022-05-21 12:00Z')))\n",
    "        )"
   ]
  },
  {
   "cell_type": "code",
   "execution_count": 5,
   "id": "a6fb4367-a469-4221-a3c3-08d0db0f98e8",
   "metadata": {
    "execution": {
     "iopub.execute_input": "2022-06-11T00:18:12.829787Z",
     "iopub.status.busy": "2022-06-11T00:18:12.829533Z",
     "iopub.status.idle": "2022-06-11T00:18:13.595187Z",
     "shell.execute_reply": "2022-06-11T00:18:13.594553Z",
     "shell.execute_reply.started": "2022-06-11T00:18:12.829753Z"
    },
    "tags": []
   },
   "outputs": [
    {
     "data": {
      "application/vnd.jupyter.widget-view+json": {
       "model_id": "",
       "version_major": 2,
       "version_minor": 0
      },
      "text/plain": [
       "FloatProgress(value=0.0, bar_style='info', description='Progress:', layout=Layout(height='25px', width='50%'),…"
      ]
     },
     "metadata": {},
     "output_type": "display_data"
    },
    {
     "name": "stdout",
     "output_type": "stream",
     "text": [
      "+----------+--------------------+\n",
      "|shopper_id|bill_modified_mst_ts|\n",
      "+----------+--------------------+\n",
      "|  10000543| 2022-05-21 12:00:00|\n",
      "| 100013078| 2022-05-21 12:00:00|\n",
      "|  10001816| 2022-05-21 12:00:00|\n",
      "| 100027849| 2022-05-21 12:00:00|\n",
      "| 100031509| 2022-05-21 12:00:00|\n",
      "| 100031972| 2022-05-21 12:00:00|\n",
      "| 100032819| 2022-05-21 12:00:00|\n",
      "| 100036978| 2022-05-21 12:00:00|\n",
      "| 100047907| 2022-05-21 12:00:00|\n",
      "| 100051835| 2022-05-21 12:00:00|\n",
      "+----------+--------------------+"
     ]
    }
   ],
   "source": [
    "spine.cache().limit(10).show()"
   ]
  },
  {
   "cell_type": "code",
   "execution_count": 6,
   "id": "c77e86f9-85a0-4146-818a-0c58544dd4d0",
   "metadata": {
    "execution": {
     "iopub.execute_input": "2022-06-11T00:18:56.872832Z",
     "iopub.status.busy": "2022-06-11T00:18:56.872486Z",
     "iopub.status.idle": "2022-06-11T00:18:59.171188Z",
     "shell.execute_reply": "2022-06-11T00:18:59.170320Z",
     "shell.execute_reply.started": "2022-06-11T00:18:56.872793Z"
    }
   },
   "outputs": [
    {
     "data": {
      "application/vnd.jupyter.widget-view+json": {
       "model_id": "",
       "version_major": 2,
       "version_minor": 0
      },
      "text/plain": [
       "FloatProgress(value=0.0, bar_style='info', description='Progress:', layout=Layout(height='25px', width='50%'),…"
      ]
     },
     "metadata": {},
     "output_type": "display_data"
    }
   ],
   "source": [
    "fs = tecton.get_workspace('prod').get_feature_service('shopper_ml_service')"
   ]
  },
  {
   "cell_type": "code",
   "execution_count": 7,
   "id": "75d8c7fe",
   "metadata": {
    "execution": {
     "iopub.execute_input": "2022-06-11T00:18:56.872832Z",
     "iopub.status.busy": "2022-06-11T00:18:56.872486Z",
     "iopub.status.idle": "2022-06-11T00:18:59.171188Z",
     "shell.execute_reply": "2022-06-11T00:18:59.170320Z",
     "shell.execute_reply.started": "2022-06-11T00:18:56.872793Z"
    },
    "scrolled": true
   },
   "outputs": [
    {
     "data": {
      "application/vnd.jupyter.widget-view+json": {
       "model_id": "",
       "version_major": 2,
       "version_minor": 0
      },
      "text/plain": [
       "FloatProgress(value=0.0, bar_style='info', description='Progress:', layout=Layout(height='25px', width='50%'),…"
      ]
     },
     "metadata": {},
     "output_type": "display_data"
    }
   ],
   "source": [
    "fs = tecton.get_workspace('prod').get_feature_service('order_summary')"
   ]
  },
  {
   "cell_type": "code",
   "execution_count": 8,
   "id": "91183de1-4ebb-446f-a24c-f1b8b8b9d02e",
   "metadata": {
    "execution": {
     "iopub.execute_input": "2022-06-11T00:19:13.724158Z",
     "iopub.status.busy": "2022-06-11T00:19:13.723894Z",
     "iopub.status.idle": "2022-06-11T00:19:27.044592Z",
     "shell.execute_reply": "2022-06-11T00:19:27.043896Z",
     "shell.execute_reply.started": "2022-06-11T00:19:13.724133Z"
    }
   },
   "outputs": [
    {
     "data": {
      "application/vnd.jupyter.widget-view+json": {
       "model_id": "",
       "version_major": 2,
       "version_minor": 0
      },
      "text/plain": [
       "FloatProgress(value=0.0, bar_style='info', description='Progress:', layout=Layout(height='25px', width='50%'),…"
      ]
     },
     "metadata": {},
     "output_type": "display_data"
    }
   ],
   "source": [
    "output_df = fs.get_historical_features(spine).to_spark()"
   ]
  },
  {
   "cell_type": "code",
   "execution_count": 9,
   "id": "0511ed3c-e37a-42c8-8ddd-f434b8a788b4",
   "metadata": {
    "execution": {
     "iopub.execute_input": "2022-06-11T00:19:27.046084Z",
     "iopub.status.busy": "2022-06-11T00:19:27.045822Z",
     "iopub.status.idle": "2022-06-11T00:19:27.111591Z",
     "shell.execute_reply": "2022-06-11T00:19:27.110937Z",
     "shell.execute_reply.started": "2022-06-11T00:19:27.046050Z"
    }
   },
   "outputs": [
    {
     "data": {
      "application/vnd.jupyter.widget-view+json": {
       "model_id": "",
       "version_major": 2,
       "version_minor": 0
      },
      "text/plain": [
       "FloatProgress(value=0.0, bar_style='info', description='Progress:', layout=Layout(height='25px', width='50%'),…"
      ]
     },
     "metadata": {},
     "output_type": "display_data"
    },
    {
     "name": "stdout",
     "output_type": "stream",
     "text": [
      "root\n",
      " |-- shopper_id: string (nullable = true)\n",
      " |-- bill_modified_mst_ts: timestamp (nullable = false)\n",
      " |-- total_orders.num_products_sum_90d_1d: long (nullable = true)\n",
      " |-- total_orders.total_spent_sum_90d_1d: double (nullable = true)\n",
      " |-- total_orders.total_gcr_sum_90d_1d: double (nullable = true)\n",
      " |-- total_orders.total_fair_market_value_sum_90d_1d: double (nullable = true)\n",
      " |-- total_orders.diff_fmv_receipt_sum_90d_1d: double (nullable = true)\n",
      " |-- last_order.crm_portfolio_type_name: string (nullable = true)\n",
      " |-- last_order.c3_call_center_location_name: string (nullable = true)\n",
      " |-- last_order.reseller_name: string (nullable = true)\n",
      " |-- last_order.primary_payment_type_name: string (nullable = true)\n",
      " |-- last_order.point_of_purchase_name: string (nullable = true)\n",
      " |-- last_order.bill_sub_geo_code: string (nullable = true)\n",
      " |-- last_order.purchase_path_name: string (nullable = true)"
     ]
    }
   ],
   "source": [
    "output_df.printSchema()"
   ]
  },
  {
   "cell_type": "code",
   "execution_count": 10,
   "id": "5048bb07-96de-49c2-9039-6b7872c9d2f2",
   "metadata": {
    "execution": {
     "iopub.execute_input": "2022-06-11T00:20:00.623509Z",
     "iopub.status.busy": "2022-06-11T00:20:00.623170Z",
     "iopub.status.idle": "2022-06-11T00:20:32.057100Z",
     "shell.execute_reply": "2022-06-11T00:20:32.056394Z",
     "shell.execute_reply.started": "2022-06-11T00:20:00.623467Z"
    }
   },
   "outputs": [
    {
     "data": {
      "application/vnd.jupyter.widget-view+json": {
       "model_id": "6deffe67e4e2413c83c1058ed2b72208",
       "version_major": 2,
       "version_minor": 0
      },
      "text/plain": [
       "FloatProgress(value=0.0, bar_style='info', description='Progress:', layout=Layout(height='25px', width='50%'),…"
      ]
     },
     "metadata": {},
     "output_type": "display_data"
    },
    {
     "name": "stderr",
     "output_type": "stream",
     "text": [
      "Interrupted by user\n"
     ]
    }
   ],
   "source": [
    "output_df.cache().limit(10).show()"
   ]
  },
  {
   "cell_type": "code",
   "execution_count": null,
   "id": "640884d5",
   "metadata": {},
   "outputs": [],
   "source": [
    "spine.write.mode('overwrite')output)"
   ]
  },
  {
   "cell_type": "code",
   "execution_count": null,
   "id": "1fa9c60d-920d-4889-a006-87c3c65ae5a8",
   "metadata": {
    "execution": {
     "iopub.execute_input": "2022-06-11T00:22:32.763642Z",
     "iopub.status.busy": "2022-06-11T00:22:32.763325Z",
     "iopub.status.idle": "2022-06-11T00:22:36.067891Z",
     "shell.execute_reply": "2022-06-11T00:22:36.067164Z",
     "shell.execute_reply.started": "2022-06-11T00:22:32.763609Z"
    }
   },
   "outputs": [],
   "source": [
    "output_df.write.parquet('s3://gd-gdmltecton-stage-feature-data/wdd-model/tecton-jack/output_df-2022-0610-1721/')"
   ]
  },
  {
   "cell_type": "code",
   "execution_count": null,
   "id": "d522f2e8-5d36-4072-9e77-63d156bd5d59",
   "metadata": {},
   "outputs": [],
   "source": [
    "output_df.count()"
   ]
  }
 ],
 "metadata": {
  "kernelspec": {
   "display_name": "Sparkmagic (PySpark)",
   "language": "python",
   "name": "pysparkkernel"
  },
  "language_info": {
   "codemirror_mode": {
    "name": "python",
    "version": 3
   },
   "file_extension": ".py",
   "mimetype": "text/x-python",
   "name": "pyspark",
   "pygments_lexer": "python3"
  }
 },
 "nbformat": 4,
 "nbformat_minor": 5
}
