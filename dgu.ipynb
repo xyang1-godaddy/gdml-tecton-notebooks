{
 "cells": [
  {
   "cell_type": "code",
   "execution_count": 13,
   "id": "e27288bc",
   "metadata": {},
   "outputs": [
    {
     "data": {
      "application/vnd.jupyter.widget-view+json": {
       "model_id": "",
       "version_major": 2,
       "version_minor": 0
      },
      "text/plain": [
       "FloatProgress(value=0.0, bar_style='info', description='Progress:', layout=Layout(height='25px', width='50%'),…"
      ]
     },
     "metadata": {},
     "output_type": "display_data"
    }
   ],
   "source": [
    "import tecton\n",
    "import pandas as pd\n",
    "from datetime import date, datetime, timedelta\n",
    "\n",
    "\n",
    "ws = tecton.get_workspace('prod')\n",
    "ds = ws.get_data_source('dim_entitlement_history_batch')"
   ]
  },
  {
   "cell_type": "code",
   "execution_count": 14,
   "id": "fd949d5c",
   "metadata": {},
   "outputs": [
    {
     "data": {
      "application/vnd.jupyter.widget-view+json": {
       "model_id": "",
       "version_major": 2,
       "version_minor": 0
      },
      "text/plain": [
       "FloatProgress(value=0.0, bar_style='info', description='Progress:', layout=Layout(height='25px', width='50%'),…"
      ]
     },
     "metadata": {},
     "output_type": "display_data"
    }
   ],
   "source": [
    "start_time = datetime(2022, 1, 1)\n",
    "end_time = datetime(2022, 1, 2)\n",
    "df = ds.get_dataframe(start_time, end_time).to_spark()"
   ]
  },
  {
   "cell_type": "code",
   "execution_count": 15,
   "id": "e9dcb5cf",
   "metadata": {},
   "outputs": [
    {
     "data": {
      "application/vnd.jupyter.widget-view+json": {
       "model_id": "",
       "version_major": 2,
       "version_minor": 0
      },
      "text/plain": [
       "FloatProgress(value=0.0, bar_style='info', description='Progress:', layout=Layout(height='25px', width='50%'),…"
      ]
     },
     "metadata": {},
     "output_type": "display_data"
    },
    {
     "name": "stdout",
     "output_type": "stream",
     "text": [
      "0"
     ]
    }
   ],
   "source": [
    "df.count()"
   ]
  },
  {
   "cell_type": "code",
   "execution_count": 16,
   "id": "0d1bfe60",
   "metadata": {},
   "outputs": [
    {
     "data": {
      "application/vnd.jupyter.widget-view+json": {
       "model_id": "",
       "version_major": 2,
       "version_minor": 0
      },
      "text/plain": [
       "FloatProgress(value=0.0, bar_style='info', description='Progress:', layout=Layout(height='25px', width='50%'),…"
      ]
     },
     "metadata": {},
     "output_type": "display_data"
    }
   ],
   "source": [
    "start_time = datetime(2022, 8, 1)\n",
    "end_time = datetime(2022, 8, 2)\n",
    "df = ds.get_dataframe(start_time, end_time).to_spark()"
   ]
  },
  {
   "cell_type": "code",
   "execution_count": 17,
   "id": "24000acd",
   "metadata": {},
   "outputs": [
    {
     "data": {
      "application/vnd.jupyter.widget-view+json": {
       "model_id": "",
       "version_major": 2,
       "version_minor": 0
      },
      "text/plain": [
       "FloatProgress(value=0.0, bar_style='info', description='Progress:', layout=Layout(height='25px', width='50%'),…"
      ]
     },
     "metadata": {},
     "output_type": "display_data"
    },
    {
     "name": "stdout",
     "output_type": "stream",
     "text": [
      "753535"
     ]
    }
   ],
   "source": [
    "df.count()"
   ]
  },
  {
   "cell_type": "code",
   "execution_count": 18,
   "id": "b8cd23b9",
   "metadata": {},
   "outputs": [
    {
     "data": {
      "application/vnd.jupyter.widget-view+json": {
       "model_id": "",
       "version_major": 2,
       "version_minor": 0
      },
      "text/plain": [
       "FloatProgress(value=0.0, bar_style='info', description='Progress:', layout=Layout(height='25px', width='50%'),…"
      ]
     },
     "metadata": {},
     "output_type": "display_data"
    }
   ],
   "source": [
    "from py4j.java_gateway import java_import\n",
    "java_import(spark._sc._jvm, \"org.apache.spark.sql.api.python.*\")"
   ]
  },
  {
   "cell_type": "code",
   "execution_count": 19,
   "id": "6590773b",
   "metadata": {},
   "outputs": [
    {
     "data": {
      "application/vnd.jupyter.widget-view+json": {
       "model_id": "",
       "version_major": 2,
       "version_minor": 0
      },
      "text/plain": [
       "FloatProgress(value=0.0, bar_style='info', description='Progress:', layout=Layout(height='25px', width='50%'),…"
      ]
     },
     "metadata": {},
     "output_type": "display_data"
    },
    {
     "name": "stdout",
     "output_type": "stream",
     "text": [
      "== Physical Plan ==\n",
      "* Filter (3)\n",
      "+- * ColumnarToRow (2)\n",
      "   +- Scan orc enterprise.dim_entitlement_history (1)\n",
      "\n",
      "\n",
      "(1) Scan orc enterprise.dim_entitlement_history\n",
      "Output [36]: [entitlement_id#792, subscription_id#793, resource_id#794L, product_type_id#795, product_type_desc#796, product_family_name#797, pf_id#798, entitlement_common_name#799, entitlement_external_resource_id#800, entitlement_create_mst_ts#801, entitlement_create_mst_date#802, entitlement_modify_mst_ts#803, entitlement_modify_mst_date#804, entitlement_obsolete_resource_id#805L, parent_resource_id#806, parent_product_type_id#807, free_product_package_id#808, domain_id#809L, domain_name#810, base_pf_id#811, base_original_list_price_usd_amt#812, entitlement_addon_id#813L, entitlement_addon_flag#814, exclude_reason_desc#815, source_system_name#816, source_table_name#817, entitlement_mst_year#818, entitlement_mst_month#819, tx_source_database#820, tx_source_table#821, tx_action#822, tx_write_time#823, tx_source_id#824, tx_source_time#825, etl_build_mst_ts#827, partition_history_mst_date#828]\n",
      "Batched: true\n",
      "Location: InMemoryFileIndex [s3://gd-ckpetlbatch-prod-eds/enterprise/dim_entitlement_history/partition_history_mst_date=2022-08-02, ... 1 entries]\n",
      "PartitionFilters: [((partition_history_mst_date#828 = 2022-08-01) OR (partition_history_mst_date#828 = 2022-08-02))]\n",
      "PushedFilters: [IsNotNull(entitlement_modify_mst_ts), GreaterThanOrEqual(entitlement_modify_mst_ts,2022-08-01 00:00:00.0), LessThan(entitlement_modify_mst_ts,2022-08-02 00:00:00.0)]\n",
      "ReadSchema: struct<entitlement_id:string,subscription_id:string,resource_id:bigint,product_type_id:int,product_type_desc:string,product_family_name:string,pf_id:int,entitlement_common_name:string,entitlement_external_resource_id:string,entitlement_create_mst_ts:timestamp,entitlement_create_mst_date:date,entitlement_modify_mst_ts:timestamp,entitlement_modify_mst_date:date,entitlement_obsolete_resource_id:bigint,parent_resource_id:int,parent_product_type_id:int,free_product_package_id:int,domain_id:bigint,domain_name:string,base_pf_id:int,base_original_list_price_usd_amt:decimal(18,2),entitlement_addon_id:bigint,entitlement_addon_flag:boolean,exclude_reason_desc:string,source_system_name:string,source_table_name:string,entitlement_mst_year:int,entitlement_mst_month:int,tx_source_database:string,tx_source_table:string,tx_action:string,tx_write_time:timestamp,tx_source_id:binary,tx_source_time:timestamp,etl_build_mst_ts:timestamp>\n",
      "\n",
      "(2) ColumnarToRow [codegen id : 1]\n",
      "Input [36]: [entitlement_id#792, subscription_id#793, resource_id#794L, product_type_id#795, product_type_desc#796, product_family_name#797, pf_id#798, entitlement_common_name#799, entitlement_external_resource_id#800, entitlement_create_mst_ts#801, entitlement_create_mst_date#802, entitlement_modify_mst_ts#803, entitlement_modify_mst_date#804, entitlement_obsolete_resource_id#805L, parent_resource_id#806, parent_product_type_id#807, free_product_package_id#808, domain_id#809L, domain_name#810, base_pf_id#811, base_original_list_price_usd_amt#812, entitlement_addon_id#813L, entitlement_addon_flag#814, exclude_reason_desc#815, source_system_name#816, source_table_name#817, entitlement_mst_year#818, entitlement_mst_month#819, tx_source_database#820, tx_source_table#821, tx_action#822, tx_write_time#823, tx_source_id#824, tx_source_time#825, etl_build_mst_ts#827, partition_history_mst_date#828]\n",
      "\n",
      "(3) Filter [codegen id : 1]\n",
      "Input [36]: [entitlement_id#792, subscription_id#793, resource_id#794L, product_type_id#795, product_type_desc#796, product_family_name#797, pf_id#798, entitlement_common_name#799, entitlement_external_resource_id#800, entitlement_create_mst_ts#801, entitlement_create_mst_date#802, entitlement_modify_mst_ts#803, entitlement_modify_mst_date#804, entitlement_obsolete_resource_id#805L, parent_resource_id#806, parent_product_type_id#807, free_product_package_id#808, domain_id#809L, domain_name#810, base_pf_id#811, base_original_list_price_usd_amt#812, entitlement_addon_id#813L, entitlement_addon_flag#814, exclude_reason_desc#815, source_system_name#816, source_table_name#817, entitlement_mst_year#818, entitlement_mst_month#819, tx_source_database#820, tx_source_table#821, tx_action#822, tx_write_time#823, tx_source_id#824, tx_source_time#825, etl_build_mst_ts#827, partition_history_mst_date#828]\n",
      "Condition : ((isnotnull(entitlement_modify_mst_ts#803) AND (entitlement_modify_mst_ts#803 >= 1659312000000000)) AND (entitlement_modify_mst_ts#803 < 1659398400000000))"
     ]
    }
   ],
   "source": [
    "df.explain(mode=\"formatted\")"
   ]
  },
  {
   "cell_type": "code",
   "execution_count": 25,
   "id": "f0b6d6d8",
   "metadata": {},
   "outputs": [
    {
     "data": {
      "application/vnd.jupyter.widget-view+json": {
       "model_id": "",
       "version_major": 2,
       "version_minor": 0
      },
      "text/plain": [
       "FloatProgress(value=0.0, bar_style='info', description='Progress:', layout=Layout(height='25px', width='50%'),…"
      ]
     },
     "metadata": {},
     "output_type": "display_data"
    }
   ],
   "source": [
    "import boto3\n",
    "\n",
    "s3 = boto3.resource('s3')\n",
    "bucket = s3.Bucket('gd-ckpetlbatch-prod-eds')"
   ]
  },
  {
   "cell_type": "code",
   "execution_count": 26,
   "id": "ab870ceb",
   "metadata": {},
   "outputs": [
    {
     "data": {
      "application/vnd.jupyter.widget-view+json": {
       "model_id": "",
       "version_major": 2,
       "version_minor": 0
      },
      "text/plain": [
       "FloatProgress(value=0.0, bar_style='info', description='Progress:', layout=Layout(height='25px', width='50%'),…"
      ]
     },
     "metadata": {},
     "output_type": "display_data"
    },
    {
     "name": "stdout",
     "output_type": "stream",
     "text": [
      "s3.Bucket(name='gd-ckpetlbatch-prod-eds')"
     ]
    }
   ],
   "source": [
    "bucket"
   ]
  },
  {
   "cell_type": "code",
   "execution_count": 27,
   "id": "a6769a12",
   "metadata": {},
   "outputs": [
    {
     "data": {
      "application/vnd.jupyter.widget-view+json": {
       "model_id": "d28c2fa433e048838832eb16e85dcda8",
       "version_major": 2,
       "version_minor": 0
      },
      "text/plain": [
       "FloatProgress(value=0.0, bar_style='info', description='Progress:', layout=Layout(height='25px', width='50%'),…"
      ]
     },
     "metadata": {},
     "output_type": "display_data"
    },
    {
     "ename": "SparkStatementCancellationFailedException",
     "evalue": "Interrupted by user but Livy failed to cancel the Spark statement. The Livy session might have become unusable.",
     "output_type": "error",
     "traceback": [
      "\u001b[0;31m---------------------------------------------------------------------------\u001b[0m",
      "\u001b[0;31mKeyboardInterrupt\u001b[0m                         Traceback (most recent call last)",
      "\u001b[0;32m~/anaconda3/envs/JupyterSystemEnv/lib/python3.7/site-packages/sparkmagic/livyclientlib/command.py\u001b[0m in \u001b[0;36mexecute\u001b[0;34m(self, session)\u001b[0m\n\u001b[1;32m     57\u001b[0m             \u001b[0mstatement_id\u001b[0m \u001b[0;34m=\u001b[0m \u001b[0mresponse\u001b[0m\u001b[0;34m[\u001b[0m\u001b[0;34m\"id\"\u001b[0m\u001b[0;34m]\u001b[0m\u001b[0;34m\u001b[0m\u001b[0;34m\u001b[0m\u001b[0m\n\u001b[0;32m---> 58\u001b[0;31m             \u001b[0moutput\u001b[0m \u001b[0;34m=\u001b[0m \u001b[0mself\u001b[0m\u001b[0;34m.\u001b[0m\u001b[0m_get_statement_output\u001b[0m\u001b[0;34m(\u001b[0m\u001b[0msession\u001b[0m\u001b[0;34m,\u001b[0m \u001b[0mstatement_id\u001b[0m\u001b[0;34m)\u001b[0m\u001b[0;34m\u001b[0m\u001b[0;34m\u001b[0m\u001b[0m\n\u001b[0m\u001b[1;32m     59\u001b[0m         \u001b[0;32mexcept\u001b[0m \u001b[0mKeyboardInterrupt\u001b[0m \u001b[0;32mas\u001b[0m \u001b[0me\u001b[0m\u001b[0;34m:\u001b[0m\u001b[0;34m\u001b[0m\u001b[0;34m\u001b[0m\u001b[0m\n",
      "\u001b[0;32m~/anaconda3/envs/JupyterSystemEnv/lib/python3.7/site-packages/sparkmagic/livyclientlib/command.py\u001b[0m in \u001b[0;36m_get_statement_output\u001b[0;34m(self, session, statement_id)\u001b[0m\n\u001b[1;32m    130\u001b[0m                 \u001b[0mprogress\u001b[0m\u001b[0;34m.\u001b[0m\u001b[0mvalue\u001b[0m \u001b[0;34m=\u001b[0m \u001b[0mstatement\u001b[0m\u001b[0;34m.\u001b[0m\u001b[0mget\u001b[0m\u001b[0;34m(\u001b[0m\u001b[0;34m\"progress\"\u001b[0m\u001b[0;34m,\u001b[0m \u001b[0;36m0.0\u001b[0m\u001b[0;34m)\u001b[0m\u001b[0;34m\u001b[0m\u001b[0;34m\u001b[0m\u001b[0m\n\u001b[0;32m--> 131\u001b[0;31m                 \u001b[0msession\u001b[0m\u001b[0;34m.\u001b[0m\u001b[0msleep\u001b[0m\u001b[0;34m(\u001b[0m\u001b[0mretries\u001b[0m\u001b[0;34m)\u001b[0m\u001b[0;34m\u001b[0m\u001b[0;34m\u001b[0m\u001b[0m\n\u001b[0m\u001b[1;32m    132\u001b[0m                 \u001b[0mretries\u001b[0m \u001b[0;34m+=\u001b[0m \u001b[0;36m1\u001b[0m\u001b[0;34m\u001b[0m\u001b[0;34m\u001b[0m\u001b[0m\n",
      "\u001b[0;32m~/anaconda3/envs/JupyterSystemEnv/lib/python3.7/site-packages/sparkmagic/livyclientlib/livysession.py\u001b[0m in \u001b[0;36msleep\u001b[0;34m(self, retries)\u001b[0m\n\u001b[1;32m    360\u001b[0m     \u001b[0;32mdef\u001b[0m \u001b[0msleep\u001b[0m\u001b[0;34m(\u001b[0m\u001b[0mself\u001b[0m\u001b[0;34m,\u001b[0m \u001b[0mretries\u001b[0m\u001b[0;34m)\u001b[0m\u001b[0;34m:\u001b[0m\u001b[0;34m\u001b[0m\u001b[0;34m\u001b[0m\u001b[0m\n\u001b[0;32m--> 361\u001b[0;31m         \u001b[0msleep\u001b[0m\u001b[0;34m(\u001b[0m\u001b[0mself\u001b[0m\u001b[0;34m.\u001b[0m\u001b[0m_policy\u001b[0m\u001b[0;34m.\u001b[0m\u001b[0mseconds_to_sleep\u001b[0m\u001b[0;34m(\u001b[0m\u001b[0mretries\u001b[0m\u001b[0;34m)\u001b[0m\u001b[0;34m)\u001b[0m\u001b[0;34m\u001b[0m\u001b[0;34m\u001b[0m\u001b[0m\n\u001b[0m\u001b[1;32m    362\u001b[0m \u001b[0;34m\u001b[0m\u001b[0m\n",
      "\u001b[0;31mKeyboardInterrupt\u001b[0m: ",
      "\nDuring handling of the above exception, another exception occurred:\n",
      "\u001b[0;31mLivyClientTimeoutException\u001b[0m                Traceback (most recent call last)",
      "\u001b[0;32m~/anaconda3/envs/JupyterSystemEnv/lib/python3.7/site-packages/sparkmagic/livyclientlib/command.py\u001b[0m in \u001b[0;36mexecute\u001b[0;34m(self, session)\u001b[0m\n\u001b[1;32m     74\u001b[0m                     )\n\u001b[0;32m---> 75\u001b[0;31m                     \u001b[0msession\u001b[0m\u001b[0;34m.\u001b[0m\u001b[0mwait_for_idle\u001b[0m\u001b[0;34m(\u001b[0m\u001b[0;34m)\u001b[0m\u001b[0;34m\u001b[0m\u001b[0;34m\u001b[0m\u001b[0m\n\u001b[0m\u001b[1;32m     76\u001b[0m             \u001b[0;32mexcept\u001b[0m\u001b[0;34m:\u001b[0m\u001b[0;34m\u001b[0m\u001b[0;34m\u001b[0m\u001b[0m\n",
      "\u001b[0;32m~/anaconda3/envs/JupyterSystemEnv/lib/python3.7/site-packages/sparkmagic/livyclientlib/livysession.py\u001b[0m in \u001b[0;36mwait_for_idle\u001b[0;34m(self, seconds_to_wait)\u001b[0m\n\u001b[1;32m    334\u001b[0m                 \u001b[0mself\u001b[0m\u001b[0;34m.\u001b[0m\u001b[0mlogger\u001b[0m\u001b[0;34m.\u001b[0m\u001b[0merror\u001b[0m\u001b[0;34m(\u001b[0m\u001b[0merror\u001b[0m\u001b[0;34m)\u001b[0m\u001b[0;34m\u001b[0m\u001b[0;34m\u001b[0m\u001b[0m\n\u001b[0;32m--> 335\u001b[0;31m                 \u001b[0;32mraise\u001b[0m \u001b[0mLivyClientTimeoutException\u001b[0m\u001b[0;34m(\u001b[0m\u001b[0merror\u001b[0m\u001b[0;34m)\u001b[0m\u001b[0;34m\u001b[0m\u001b[0;34m\u001b[0m\u001b[0m\n\u001b[0m\u001b[1;32m    336\u001b[0m \u001b[0;34m\u001b[0m\u001b[0m\n",
      "\u001b[0;31mLivyClientTimeoutException\u001b[0m: Session 4 did not reach idle status in time. Current status is busy.",
      "\nDuring handling of the above exception, another exception occurred:\n",
      "\u001b[0;31mSparkStatementCancellationFailedException\u001b[0m Traceback (most recent call last)",
      "\u001b[0;32m<ipython-input-27-6f2ec7bdc429>\u001b[0m in \u001b[0;36m<module>\u001b[0;34m\u001b[0m\n\u001b[0;32m----> 1\u001b[0;31m \u001b[0mget_ipython\u001b[0m\u001b[0;34m(\u001b[0m\u001b[0;34m)\u001b[0m\u001b[0;34m.\u001b[0m\u001b[0mrun_cell_magic\u001b[0m\u001b[0;34m(\u001b[0m\u001b[0;34m'spark'\u001b[0m\u001b[0;34m,\u001b[0m \u001b[0;34m''\u001b[0m\u001b[0;34m,\u001b[0m \u001b[0;34m'for my_bucket_object in bucket.objects.all():\\n    print(my_bucket_object.key)\\n'\u001b[0m\u001b[0;34m)\u001b[0m\u001b[0;34m\u001b[0m\u001b[0;34m\u001b[0m\u001b[0m\n\u001b[0m",
      "\u001b[0;32m~/anaconda3/envs/JupyterSystemEnv/lib/python3.7/site-packages/IPython/core/interactiveshell.py\u001b[0m in \u001b[0;36mrun_cell_magic\u001b[0;34m(self, magic_name, line, cell)\u001b[0m\n\u001b[1;32m   2470\u001b[0m             \u001b[0;32mwith\u001b[0m \u001b[0mself\u001b[0m\u001b[0;34m.\u001b[0m\u001b[0mbuiltin_trap\u001b[0m\u001b[0;34m:\u001b[0m\u001b[0;34m\u001b[0m\u001b[0;34m\u001b[0m\u001b[0m\n\u001b[1;32m   2471\u001b[0m                 \u001b[0margs\u001b[0m \u001b[0;34m=\u001b[0m \u001b[0;34m(\u001b[0m\u001b[0mmagic_arg_s\u001b[0m\u001b[0;34m,\u001b[0m \u001b[0mcell\u001b[0m\u001b[0;34m)\u001b[0m\u001b[0;34m\u001b[0m\u001b[0;34m\u001b[0m\u001b[0m\n\u001b[0;32m-> 2472\u001b[0;31m                 \u001b[0mresult\u001b[0m \u001b[0;34m=\u001b[0m \u001b[0mfn\u001b[0m\u001b[0;34m(\u001b[0m\u001b[0;34m*\u001b[0m\u001b[0margs\u001b[0m\u001b[0;34m,\u001b[0m \u001b[0;34m**\u001b[0m\u001b[0mkwargs\u001b[0m\u001b[0;34m)\u001b[0m\u001b[0;34m\u001b[0m\u001b[0;34m\u001b[0m\u001b[0m\n\u001b[0m\u001b[1;32m   2473\u001b[0m             \u001b[0;32mreturn\u001b[0m \u001b[0mresult\u001b[0m\u001b[0;34m\u001b[0m\u001b[0;34m\u001b[0m\u001b[0m\n\u001b[1;32m   2474\u001b[0m \u001b[0;34m\u001b[0m\u001b[0m\n",
      "\u001b[0;32m~/anaconda3/envs/JupyterSystemEnv/lib/python3.7/site-packages/decorator.py\u001b[0m in \u001b[0;36mfun\u001b[0;34m(*args, **kw)\u001b[0m\n\u001b[1;32m    230\u001b[0m             \u001b[0;32mif\u001b[0m \u001b[0;32mnot\u001b[0m \u001b[0mkwsyntax\u001b[0m\u001b[0;34m:\u001b[0m\u001b[0;34m\u001b[0m\u001b[0;34m\u001b[0m\u001b[0m\n\u001b[1;32m    231\u001b[0m                 \u001b[0margs\u001b[0m\u001b[0;34m,\u001b[0m \u001b[0mkw\u001b[0m \u001b[0;34m=\u001b[0m \u001b[0mfix\u001b[0m\u001b[0;34m(\u001b[0m\u001b[0margs\u001b[0m\u001b[0;34m,\u001b[0m \u001b[0mkw\u001b[0m\u001b[0;34m,\u001b[0m \u001b[0msig\u001b[0m\u001b[0;34m)\u001b[0m\u001b[0;34m\u001b[0m\u001b[0;34m\u001b[0m\u001b[0m\n\u001b[0;32m--> 232\u001b[0;31m             \u001b[0;32mreturn\u001b[0m \u001b[0mcaller\u001b[0m\u001b[0;34m(\u001b[0m\u001b[0mfunc\u001b[0m\u001b[0;34m,\u001b[0m \u001b[0;34m*\u001b[0m\u001b[0;34m(\u001b[0m\u001b[0mextras\u001b[0m \u001b[0;34m+\u001b[0m \u001b[0margs\u001b[0m\u001b[0;34m)\u001b[0m\u001b[0;34m,\u001b[0m \u001b[0;34m**\u001b[0m\u001b[0mkw\u001b[0m\u001b[0;34m)\u001b[0m\u001b[0;34m\u001b[0m\u001b[0;34m\u001b[0m\u001b[0m\n\u001b[0m\u001b[1;32m    233\u001b[0m     \u001b[0mfun\u001b[0m\u001b[0;34m.\u001b[0m\u001b[0m__name__\u001b[0m \u001b[0;34m=\u001b[0m \u001b[0mfunc\u001b[0m\u001b[0;34m.\u001b[0m\u001b[0m__name__\u001b[0m\u001b[0;34m\u001b[0m\u001b[0;34m\u001b[0m\u001b[0m\n\u001b[1;32m    234\u001b[0m     \u001b[0mfun\u001b[0m\u001b[0;34m.\u001b[0m\u001b[0m__doc__\u001b[0m \u001b[0;34m=\u001b[0m \u001b[0mfunc\u001b[0m\u001b[0;34m.\u001b[0m\u001b[0m__doc__\u001b[0m\u001b[0;34m\u001b[0m\u001b[0;34m\u001b[0m\u001b[0m\n",
      "\u001b[0;32m~/anaconda3/envs/JupyterSystemEnv/lib/python3.7/site-packages/IPython/core/magic.py\u001b[0m in \u001b[0;36m<lambda>\u001b[0;34m(f, *a, **k)\u001b[0m\n\u001b[1;32m    185\u001b[0m     \u001b[0;31m# but it's overkill for just that one bit of state.\u001b[0m\u001b[0;34m\u001b[0m\u001b[0;34m\u001b[0m\u001b[0;34m\u001b[0m\u001b[0m\n\u001b[1;32m    186\u001b[0m     \u001b[0;32mdef\u001b[0m \u001b[0mmagic_deco\u001b[0m\u001b[0;34m(\u001b[0m\u001b[0marg\u001b[0m\u001b[0;34m)\u001b[0m\u001b[0;34m:\u001b[0m\u001b[0;34m\u001b[0m\u001b[0;34m\u001b[0m\u001b[0m\n\u001b[0;32m--> 187\u001b[0;31m         \u001b[0mcall\u001b[0m \u001b[0;34m=\u001b[0m \u001b[0;32mlambda\u001b[0m \u001b[0mf\u001b[0m\u001b[0;34m,\u001b[0m \u001b[0;34m*\u001b[0m\u001b[0ma\u001b[0m\u001b[0;34m,\u001b[0m \u001b[0;34m**\u001b[0m\u001b[0mk\u001b[0m\u001b[0;34m:\u001b[0m \u001b[0mf\u001b[0m\u001b[0;34m(\u001b[0m\u001b[0;34m*\u001b[0m\u001b[0ma\u001b[0m\u001b[0;34m,\u001b[0m \u001b[0;34m**\u001b[0m\u001b[0mk\u001b[0m\u001b[0;34m)\u001b[0m\u001b[0;34m\u001b[0m\u001b[0;34m\u001b[0m\u001b[0m\n\u001b[0m\u001b[1;32m    188\u001b[0m \u001b[0;34m\u001b[0m\u001b[0m\n\u001b[1;32m    189\u001b[0m         \u001b[0;32mif\u001b[0m \u001b[0mcallable\u001b[0m\u001b[0;34m(\u001b[0m\u001b[0marg\u001b[0m\u001b[0;34m)\u001b[0m\u001b[0;34m:\u001b[0m\u001b[0;34m\u001b[0m\u001b[0;34m\u001b[0m\u001b[0m\n",
      "\u001b[0;32m~/anaconda3/envs/JupyterSystemEnv/lib/python3.7/site-packages/sparkmagic/livyclientlib/exceptions.py\u001b[0m in \u001b[0;36mwrapped\u001b[0;34m(self, *args, **kwargs)\u001b[0m\n\u001b[1;32m    163\u001b[0m     \u001b[0;32mdef\u001b[0m \u001b[0mwrapped\u001b[0m\u001b[0;34m(\u001b[0m\u001b[0mself\u001b[0m\u001b[0;34m,\u001b[0m \u001b[0;34m*\u001b[0m\u001b[0margs\u001b[0m\u001b[0;34m,\u001b[0m \u001b[0;34m**\u001b[0m\u001b[0mkwargs\u001b[0m\u001b[0;34m)\u001b[0m\u001b[0;34m:\u001b[0m\u001b[0;34m\u001b[0m\u001b[0;34m\u001b[0m\u001b[0m\n\u001b[1;32m    164\u001b[0m         \u001b[0;32mtry\u001b[0m\u001b[0;34m:\u001b[0m\u001b[0;34m\u001b[0m\u001b[0;34m\u001b[0m\u001b[0m\n\u001b[0;32m--> 165\u001b[0;31m             \u001b[0mout\u001b[0m \u001b[0;34m=\u001b[0m \u001b[0mf\u001b[0m\u001b[0;34m(\u001b[0m\u001b[0mself\u001b[0m\u001b[0;34m,\u001b[0m \u001b[0;34m*\u001b[0m\u001b[0margs\u001b[0m\u001b[0;34m,\u001b[0m \u001b[0;34m**\u001b[0m\u001b[0mkwargs\u001b[0m\u001b[0;34m)\u001b[0m\u001b[0;34m\u001b[0m\u001b[0;34m\u001b[0m\u001b[0m\n\u001b[0m\u001b[1;32m    166\u001b[0m         \u001b[0;32mexcept\u001b[0m \u001b[0mException\u001b[0m \u001b[0;32mas\u001b[0m \u001b[0merr\u001b[0m\u001b[0;34m:\u001b[0m\u001b[0;34m\u001b[0m\u001b[0;34m\u001b[0m\u001b[0m\n\u001b[1;32m    167\u001b[0m             \u001b[0;32mif\u001b[0m \u001b[0mconf\u001b[0m\u001b[0;34m.\u001b[0m\u001b[0mall_errors_are_fatal\u001b[0m\u001b[0;34m(\u001b[0m\u001b[0;34m)\u001b[0m\u001b[0;34m:\u001b[0m\u001b[0;34m\u001b[0m\u001b[0;34m\u001b[0m\u001b[0m\n",
      "\u001b[0;32m~/anaconda3/envs/JupyterSystemEnv/lib/python3.7/site-packages/sparkmagic/livyclientlib/exceptions.py\u001b[0m in \u001b[0;36mwrapped\u001b[0;34m(self, *args, **kwargs)\u001b[0m\n\u001b[1;32m    124\u001b[0m     \u001b[0;32mdef\u001b[0m \u001b[0mwrapped\u001b[0m\u001b[0;34m(\u001b[0m\u001b[0mself\u001b[0m\u001b[0;34m,\u001b[0m \u001b[0;34m*\u001b[0m\u001b[0margs\u001b[0m\u001b[0;34m,\u001b[0m \u001b[0;34m**\u001b[0m\u001b[0mkwargs\u001b[0m\u001b[0;34m)\u001b[0m\u001b[0;34m:\u001b[0m\u001b[0;34m\u001b[0m\u001b[0;34m\u001b[0m\u001b[0m\n\u001b[1;32m    125\u001b[0m         \u001b[0;32mtry\u001b[0m\u001b[0;34m:\u001b[0m\u001b[0;34m\u001b[0m\u001b[0;34m\u001b[0m\u001b[0m\n\u001b[0;32m--> 126\u001b[0;31m             \u001b[0mout\u001b[0m \u001b[0;34m=\u001b[0m \u001b[0mf\u001b[0m\u001b[0;34m(\u001b[0m\u001b[0mself\u001b[0m\u001b[0;34m,\u001b[0m \u001b[0;34m*\u001b[0m\u001b[0margs\u001b[0m\u001b[0;34m,\u001b[0m \u001b[0;34m**\u001b[0m\u001b[0mkwargs\u001b[0m\u001b[0;34m)\u001b[0m\u001b[0;34m\u001b[0m\u001b[0;34m\u001b[0m\u001b[0m\n\u001b[0m\u001b[1;32m    127\u001b[0m         \u001b[0;32mexcept\u001b[0m \u001b[0mexceptions_to_handle\u001b[0m \u001b[0;32mas\u001b[0m \u001b[0merr\u001b[0m\u001b[0;34m:\u001b[0m\u001b[0;34m\u001b[0m\u001b[0;34m\u001b[0m\u001b[0m\n\u001b[1;32m    128\u001b[0m             \u001b[0;32mif\u001b[0m \u001b[0mconf\u001b[0m\u001b[0;34m.\u001b[0m\u001b[0mall_errors_are_fatal\u001b[0m\u001b[0;34m(\u001b[0m\u001b[0;34m)\u001b[0m\u001b[0;34m:\u001b[0m\u001b[0;34m\u001b[0m\u001b[0;34m\u001b[0m\u001b[0m\n",
      "\u001b[0;32m~/anaconda3/envs/JupyterSystemEnv/lib/python3.7/site-packages/sparkmagic/kernels/kernelmagics.py\u001b[0m in \u001b[0;36mspark\u001b[0;34m(self, line, cell, local_ns)\u001b[0m\n\u001b[1;32m    377\u001b[0m             \u001b[0margs\u001b[0m\u001b[0;34m.\u001b[0m\u001b[0msamplefraction\u001b[0m\u001b[0;34m,\u001b[0m\u001b[0;34m\u001b[0m\u001b[0;34m\u001b[0m\u001b[0m\n\u001b[1;32m    378\u001b[0m             \u001b[0;32mNone\u001b[0m\u001b[0;34m,\u001b[0m\u001b[0;34m\u001b[0m\u001b[0;34m\u001b[0m\u001b[0m\n\u001b[0;32m--> 379\u001b[0;31m             \u001b[0mcoerce\u001b[0m\u001b[0;34m,\u001b[0m\u001b[0;34m\u001b[0m\u001b[0;34m\u001b[0m\u001b[0m\n\u001b[0m\u001b[1;32m    380\u001b[0m         )\n\u001b[1;32m    381\u001b[0m \u001b[0;34m\u001b[0m\u001b[0m\n",
      "\u001b[0;32m~/anaconda3/envs/JupyterSystemEnv/lib/python3.7/site-packages/sparkmagic/magics/sparkmagicsbase.py\u001b[0m in \u001b[0;36mexecute_spark\u001b[0;34m(self, cell, output_var, samplemethod, maxrows, samplefraction, session_name, coerce, output_handler)\u001b[0m\n\u001b[1;32m    126\u001b[0m \u001b[0;34m\u001b[0m\u001b[0m\n\u001b[1;32m    127\u001b[0m         (success, out, mimetype) = self.spark_controller.run_command(\n\u001b[0;32m--> 128\u001b[0;31m             \u001b[0mCommand\u001b[0m\u001b[0;34m(\u001b[0m\u001b[0mcell\u001b[0m\u001b[0;34m)\u001b[0m\u001b[0;34m,\u001b[0m \u001b[0msession_name\u001b[0m\u001b[0;34m\u001b[0m\u001b[0;34m\u001b[0m\u001b[0m\n\u001b[0m\u001b[1;32m    129\u001b[0m         )\n\u001b[1;32m    130\u001b[0m         \u001b[0;32mif\u001b[0m \u001b[0;32mnot\u001b[0m \u001b[0msuccess\u001b[0m\u001b[0;34m:\u001b[0m\u001b[0;34m\u001b[0m\u001b[0;34m\u001b[0m\u001b[0m\n",
      "\u001b[0;32m~/anaconda3/envs/JupyterSystemEnv/lib/python3.7/site-packages/sparkmagic/livyclientlib/sparkcontroller.py\u001b[0m in \u001b[0;36mrun_command\u001b[0;34m(self, command, client_name)\u001b[0m\n\u001b[1;32m     37\u001b[0m     \u001b[0;32mdef\u001b[0m \u001b[0mrun_command\u001b[0m\u001b[0;34m(\u001b[0m\u001b[0mself\u001b[0m\u001b[0;34m,\u001b[0m \u001b[0mcommand\u001b[0m\u001b[0;34m,\u001b[0m \u001b[0mclient_name\u001b[0m\u001b[0;34m=\u001b[0m\u001b[0;32mNone\u001b[0m\u001b[0;34m)\u001b[0m\u001b[0;34m:\u001b[0m\u001b[0;34m\u001b[0m\u001b[0;34m\u001b[0m\u001b[0m\n\u001b[1;32m     38\u001b[0m         \u001b[0msession_to_use\u001b[0m \u001b[0;34m=\u001b[0m \u001b[0mself\u001b[0m\u001b[0;34m.\u001b[0m\u001b[0mget_session_by_name_or_default\u001b[0m\u001b[0;34m(\u001b[0m\u001b[0mclient_name\u001b[0m\u001b[0;34m)\u001b[0m\u001b[0;34m\u001b[0m\u001b[0;34m\u001b[0m\u001b[0m\n\u001b[0;32m---> 39\u001b[0;31m         \u001b[0;32mreturn\u001b[0m \u001b[0mcommand\u001b[0m\u001b[0;34m.\u001b[0m\u001b[0mexecute\u001b[0m\u001b[0;34m(\u001b[0m\u001b[0msession_to_use\u001b[0m\u001b[0;34m)\u001b[0m\u001b[0;34m\u001b[0m\u001b[0;34m\u001b[0m\u001b[0m\n\u001b[0m\u001b[1;32m     40\u001b[0m \u001b[0;34m\u001b[0m\u001b[0m\n\u001b[1;32m     41\u001b[0m     \u001b[0;32mdef\u001b[0m \u001b[0mrun_sqlquery\u001b[0m\u001b[0;34m(\u001b[0m\u001b[0mself\u001b[0m\u001b[0;34m,\u001b[0m \u001b[0msqlquery\u001b[0m\u001b[0;34m,\u001b[0m \u001b[0mclient_name\u001b[0m\u001b[0;34m=\u001b[0m\u001b[0;32mNone\u001b[0m\u001b[0;34m)\u001b[0m\u001b[0;34m:\u001b[0m\u001b[0;34m\u001b[0m\u001b[0;34m\u001b[0m\u001b[0m\n",
      "\u001b[0;32m~/anaconda3/envs/JupyterSystemEnv/lib/python3.7/site-packages/sparkmagic/livyclientlib/command.py\u001b[0m in \u001b[0;36mexecute\u001b[0;34m(self, session)\u001b[0m\n\u001b[1;32m     76\u001b[0m             \u001b[0;32mexcept\u001b[0m\u001b[0;34m:\u001b[0m\u001b[0;34m\u001b[0m\u001b[0;34m\u001b[0m\u001b[0m\n\u001b[1;32m     77\u001b[0m                 raise SparkStatementCancellationFailedException(\n\u001b[0;32m---> 78\u001b[0;31m                     \u001b[0mCOMMAND_CANCELLATION_FAILED_MSG\u001b[0m\u001b[0;34m\u001b[0m\u001b[0;34m\u001b[0m\u001b[0m\n\u001b[0m\u001b[1;32m     79\u001b[0m                 )\n\u001b[1;32m     80\u001b[0m             \u001b[0;32melse\u001b[0m\u001b[0;34m:\u001b[0m\u001b[0;34m\u001b[0m\u001b[0;34m\u001b[0m\u001b[0m\n",
      "\u001b[0;31mSparkStatementCancellationFailedException\u001b[0m: Interrupted by user but Livy failed to cancel the Spark statement. The Livy session might have become unusable."
     ]
    }
   ],
   "source": [
    "for my_bucket_object in bucket.objects.all():\n",
    "    print(my_bucket_object.key)"
   ]
  },
  {
   "cell_type": "code",
   "execution_count": null,
   "id": "aa5ea1ae",
   "metadata": {},
   "outputs": [],
   "source": []
  },
  {
   "cell_type": "code",
   "execution_count": null,
   "id": "85173826",
   "metadata": {},
   "outputs": [],
   "source": []
  },
  {
   "cell_type": "code",
   "execution_count": null,
   "id": "64a1a11a",
   "metadata": {},
   "outputs": [],
   "source": []
  },
  {
   "cell_type": "code",
   "execution_count": null,
   "id": "886b310e",
   "metadata": {},
   "outputs": [],
   "source": []
  },
  {
   "cell_type": "code",
   "execution_count": null,
   "id": "7f1a5111",
   "metadata": {},
   "outputs": [],
   "source": []
  },
  {
   "cell_type": "code",
   "execution_count": null,
   "id": "c9152dc3",
   "metadata": {},
   "outputs": [],
   "source": []
  },
  {
   "cell_type": "code",
   "execution_count": null,
   "id": "8f81b5c1",
   "metadata": {},
   "outputs": [],
   "source": []
  },
  {
   "cell_type": "code",
   "execution_count": null,
   "id": "4943ad1a",
   "metadata": {},
   "outputs": [],
   "source": []
  },
  {
   "cell_type": "code",
   "execution_count": 1,
   "id": "06b12d18",
   "metadata": {
    "scrolled": true
   },
   "outputs": [
    {
     "name": "stdout",
     "output_type": "stream",
     "text": [
      "Starting Spark application\n"
     ]
    },
    {
     "data": {
      "text/html": [
       "<table>\n",
       "<tr><th>ID</th><th>YARN Application ID</th><th>Kind</th><th>State</th><th>Spark UI</th><th>Driver log</th><th>User</th><th>Current session?</th></tr><tr><td>80</td><td>application_1663460692616_0082</td><td>pyspark</td><td>idle</td><td><a target=\"_blank\" href=\"http://ip-192-168-9-89.us-west-2.compute.internal:20888/proxy/application_1663460692616_0082/\">Link</a></td><td><a target=\"_blank\" href=\"http://ip-192-168-8-31.us-west-2.compute.internal:8042/node/containerlogs/container_1663460692616_0082_01_000001/livy\">Link</a></td><td>None</td><td>✔</td></tr></table>"
      ],
      "text/plain": [
       "<IPython.core.display.HTML object>"
      ]
     },
     "metadata": {},
     "output_type": "display_data"
    },
    {
     "data": {
      "application/vnd.jupyter.widget-view+json": {
       "model_id": "",
       "version_major": 2,
       "version_minor": 0
      },
      "text/plain": [
       "FloatProgress(value=0.0, bar_style='info', description='Progress:', layout=Layout(height='25px', width='50%'),…"
      ]
     },
     "metadata": {},
     "output_type": "display_data"
    },
    {
     "name": "stdout",
     "output_type": "stream",
     "text": [
      "SparkSession available as 'spark'.\n"
     ]
    },
    {
     "data": {
      "application/vnd.jupyter.widget-view+json": {
       "model_id": "",
       "version_major": 2,
       "version_minor": 0
      },
      "text/plain": [
       "FloatProgress(value=0.0, bar_style='info', description='Progress:', layout=Layout(height='25px', width='50%'),…"
      ]
     },
     "metadata": {},
     "output_type": "display_data"
    }
   ],
   "source": [
    "import tecton\n",
    "import pandas as pd\n",
    "from datetime import date, datetime, timedelta\n",
    "\n",
    "\n",
    "ws = tecton.get_workspace('tecton_integration_testing')\n",
    "fv = ws.get_feature_view('customer_top_pages_top_hosts_last_10_json')"
   ]
  },
  {
   "cell_type": "code",
   "execution_count": 4,
   "id": "ea08e16d",
   "metadata": {},
   "outputs": [
    {
     "data": {
      "application/vnd.jupyter.widget-view+json": {
       "model_id": "",
       "version_major": 2,
       "version_minor": 0
      },
      "text/plain": [
       "FloatProgress(value=0.0, bar_style='info', description='Progress:', layout=Layout(height='25px', width='50%'),…"
      ]
     },
     "metadata": {},
     "output_type": "display_data"
    }
   ],
   "source": [
    "start_time = datetime(2022, 6, 1)\n",
    "end_time = datetime(2022, 6, 30)\n",
    "df = fv.get_historical_features(start_time=start_time, end_time=end_time).to_spark().limit(10)"
   ]
  },
  {
   "cell_type": "code",
   "execution_count": 5,
   "id": "a902b124",
   "metadata": {},
   "outputs": [
    {
     "data": {
      "application/vnd.jupyter.widget-view+json": {
       "model_id": "",
       "version_major": 2,
       "version_minor": 0
      },
      "text/plain": [
       "FloatProgress(value=0.0, bar_style='info', description='Progress:', layout=Layout(height='25px', width='50%'),…"
      ]
     },
     "metadata": {},
     "output_type": "display_data"
    },
    {
     "name": "stdout",
     "output_type": "stream",
     "text": [
      "+----------+-----------------------------------------------------------------------------------------------------------------------------------------------------------------------------------------------------------------------------------------------------------------------------------------------------------------------------------------------------------------------------------------------------------------------------------------------------------------------------------------------------------------------------------------------------------------------------------------------------------------------------------------------------------------------------------------------------------------------------------------------------------------------------------------------------------------------------------------------------------------------------------------------------------------------------------------------------------------------------------------------------------------------------------------------------------------------------------------------------------------------------------------------------------------------------------------------------------------------------------------------------------------------------------------------------------------------------------------------------------------------------------------------------------------------------------------------------------------------------------------------------------------------------------------------------------------------+----------------------------------------------------------------------------------------------------------------------------------------------------------------------------------------------------------------------------+--------------------------+\n",
      "|shopper_id|top_pages_json                                                                                                                                                                                                                                                                                                                                                                                                                                                                                                                                                                                                                                                                                                                                                                                                                                                                                                                                                                                                                                                                                                                                                                                                                                                                                                                                                                                                                                                                                                                                                         |top_hosts_json                                                                                                                                                                                                              |window_end_ts             |\n",
      "+----------+-----------------------------------------------------------------------------------------------------------------------------------------------------------------------------------------------------------------------------------------------------------------------------------------------------------------------------------------------------------------------------------------------------------------------------------------------------------------------------------------------------------------------------------------------------------------------------------------------------------------------------------------------------------------------------------------------------------------------------------------------------------------------------------------------------------------------------------------------------------------------------------------------------------------------------------------------------------------------------------------------------------------------------------------------------------------------------------------------------------------------------------------------------------------------------------------------------------------------------------------------------------------------------------------------------------------------------------------------------------------------------------------------------------------------------------------------------------------------------------------------------------------------------------------------------------------------+----------------------------------------------------------------------------------------------------------------------------------------------------------------------------------------------------------------------------+--------------------------+\n",
      "|115454205 |[{\"page_name\":\"websitebuilder.godaddy.com/builder/edit/desktop/00000000-0000-0000-0000-000000210703\",\"count\":1},{\"page_name\":\"websitebuilder.godaddy.com/builder/edit/desktop/00000000-0000-0000-0000-000003632844\",\"count\":1},{\"page_name\":\"websitebuilder.godaddy.com/builder/edit/desktop/50ee97f4-c5b4-4965-83cd-5fab9763ecfe\",\"count\":1},{\"page_name\":\"websitebuilder.godaddy.com/builder/edit/desktop/ed1b9980-d80b-4709-8d8e-75eb56d83a92\",\"count\":1},{\"page_name\":\"websites.godaddy.com/de-DE/editor/1e644752-edbb-4acc-b33d-60a3d4ea74d7/a252d0a8-4d7e-48f9-bebe-ce2f0bfabba8/fullpage/desktop\",\"count\":1},{\"page_name\":\"websites.godaddy.com/de-DE/editor/eb7c5369-cdc3-4148-8ada-803898ae8b82/f2fd5e3c-9bb7-4c00-837b-68475e3418bc/fullpage/desktop\",\"count\":1},{\"page_name\":\"websites.godaddy.com/en-AE/editor/17dcf784-f0b0-4fb2-842d-25e709f4af00/bda6bd5d-bda9-46aa-93bb-94edda6be867/fullpage/desktop\",\"count\":1},{\"page_name\":\"websites.godaddy.com/en-AE/editor/b12fdc37-f438-4d32-8f5c-989fcdfc71c4/cdc1dcb1-2412-470a-9a33-a91a202684f6/fullpage/desktop\",\"count\":1},{\"page_name\":\"websites.godaddy.com/en-AE/editor/bda9c84a-ea97-4795-a276-7d910e3f3fca/bb701493-85e2-41b8-9d75-27f249b8232d/fullpage/desktop\",\"count\":1},{\"page_name\":\"websites.godaddy.com/en-AE/editor/d1d29ae1-c118-45b9-9b53-867bdca0f176/db92f1e0-4a95-4a25-82e1-a794b66f2902/fullpage/desktop\",\"count\":1}]                                                                                                                                                                |[{\"host_name\":\"websitebuilder.godaddy.com\",\"count\":1},{\"host_name\":\"websites.godaddy.com\",\"count\":1}]                                                                                                                       |2022-06-10 23:59:59.999999|\n",
      "|130161408 |[{\"page_name\":\"websitebuilder.godaddy.com/builder/edit/desktop/75420d7b-2d0d-450e-b499-cb251c90b52a\",\"count\":1},{\"page_name\":\"websites.godaddy.com/de-CH/editor/8f648daf-0b80-4f21-aa83-f65ef6deb93d/609350ef-ba41-4dcb-990b-5aa795375add/fullpage/desktop\",\"count\":1},{\"page_name\":\"websites.godaddy.com/en-AE/editor/31201749-42f7-46c9-a054-1ed7b2bb3f32/a252d0a8-4d7e-48f9-bebe-ce2f0bfabba8/fullpage/desktop\",\"count\":1},{\"page_name\":\"websites.godaddy.com/en-AE/editor/6f3127ef-df8a-4301-8acd-c4cba053d006/89d190f0-f7f7-4412-9f15-3ce5326af885/fullpage/desktop\",\"count\":1},{\"page_name\":\"websites.godaddy.com/en-AU/editor/0ba1725e-0fd9-49e0-a552-cdecfdec073c/7e6e6dde-fb70-4e79-9c6d-fbfe80683d64/fullpage/desktop\",\"count\":1},{\"page_name\":\"websites.godaddy.com/en-AU/editor/1c7ac6de-1771-4fbb-a113-774a8b017585/02fe1a78-5aba-4423-afe9-fec02cb6fd25/fullpage/desktop\",\"count\":1},{\"page_name\":\"websites.godaddy.com/en-AU/editor/1cddedf7-85c0-4cbd-9180-bb5c71f4349e/73d03c02-c294-48dc-b2eb-08161cea474e/fullpage/desktop\",\"count\":1},{\"page_name\":\"websites.godaddy.com/en-AU/editor/1cddedf7-85c0-4cbd-9180-bb5c71f4349e/813913d5-3178-4ab1-b628-24802345b614/fullpage/desktop\",\"count\":1},{\"page_name\":\"websites.godaddy.com/en-AU/editor/2290268a-8ed7-4ba6-addf-bc44fc59ef60/909e27c3-c9d9-4808-8748-0b3286e8ea3d/fullpage/desktop\",\"count\":1},{\"page_name\":\"websites.godaddy.com/en-AU/editor/2806c027-d1c5-41d5-879b-81b8dd1fb2f2/09f1b4ad-4837-44fa-a5f4-d717915439f1/fullpage/desktop\",\"count\":1}]                                        |[{\"host_name\":\"websitebuilder.godaddy.com\",\"count\":1},{\"host_name\":\"websites.godaddy.com\",\"count\":1}]                                                                                                                       |2022-06-10 23:59:59.999999|\n",
      "|200716819 |[{\"page_name\":\"www.godaddy.com/tr-tr\",\"count\":2},{\"page_name\":\"tr.auctions.godaddy.com/\",\"count\":1},{\"page_name\":\"tr.godaddy.com/blog/\",\"count\":1},{\"page_name\":\"tr.godaddy.com/domainsearch/find\",\"count\":1},{\"page_name\":\"www.godaddy.com/tr-tr/hosting\",\"count\":1},{\"page_name\":\"www.godaddy.com/tr-tr/hosting/web-hosting\",\"count\":1},{\"page_name\":\"www.godaddy.com/tr-tr/hosting/web-hosting-plus\",\"count\":1},{\"page_name\":\"www.godaddy.com/tr-tr/hosting/web-hosting-plus-plans\",\"count\":1}]                                                                                                                                                                                                                                                                                                                                                                                                                                                                                                                                                                                                                                                                                                                                                                                                                                                                                                                                                                                                                                                                     |[{\"host_name\":\"www.godaddy.com\",\"count\":2},{\"host_name\":\"tr.auctions.godaddy.com\",\"count\":1},{\"host_name\":\"tr.godaddy.com\",\"count\":1}]                                                                                      |2022-06-10 23:59:59.999999|\n",
      "|202298504 |[{\"page_name\":\"sso.godaddy.com/v1/login\",\"count\":1},{\"page_name\":\"websitebuilder.godaddy.com/builder/edit/desktop/00000000-0000-0000-0000-000000054270\",\"count\":1},{\"page_name\":\"websitebuilder.godaddy.com/builder/edit/desktop/1adbdfb0-5caf-4ca9-812c-55b42ae8529c\",\"count\":1},{\"page_name\":\"websites.godaddy.com/de-DE/editor/2375374d-3875-4424-bd32-3104c162968a/f2fd5e3c-9bb7-4c00-837b-68475e3418bc/fullpage/desktop\",\"count\":1},{\"page_name\":\"websites.godaddy.com/de-DE/editor/35482387-0310-4c64-af12-b67bfaf9e053/a252d0a8-4d7e-48f9-bebe-ce2f0bfabba8/fullpage/desktop\",\"count\":1},{\"page_name\":\"websites.godaddy.com/en-AE/editor/8d7a64b9-49a5-4704-93f1-d07aab5cb082/12c24e2d-be79-43c8-bd2c-78987686c64b/fullpage/desktop\",\"count\":1},{\"page_name\":\"websites.godaddy.com/en-AE/editor/92161bcb-bfa5-4681-912a-9bfa9f4d4484/af7f3220-7afd-41a5-bcb0-14f6362e9b45/fullpage/desktop\",\"count\":1},{\"page_name\":\"websites.godaddy.com/en-AE/editor/c653a1c8-88ce-4227-b37f-895723520461/48802cd8-77d8-4df4-9b62-e21e67867f36/fullpage/desktop\",\"count\":1},{\"page_name\":\"websites.godaddy.com/en-AU/editor/1505c77a-f924-49ce-94a0-3f08c0b0f2cd/05688f47-65ce-4529-8721-4b1f486e6a18/fullpage/desktop\",\"count\":1},{\"page_name\":\"websites.godaddy.com/en-AU/editor/552971b7-d53e-471d-a24d-3eb515686457/810d79a5-abdf-4a3f-bbdc-b35d9c46e56d/fullpage/desktop\",\"count\":1}]                                                                                                                                                                                    |[{\"host_name\":\"sso.godaddy.com\",\"count\":1},{\"host_name\":\"websitebuilder.godaddy.com\",\"count\":1},{\"host_name\":\"websites.godaddy.com\",\"count\":1}]                                                                             |2022-06-10 23:59:59.999999|\n",
      "|227920792 |[{\"page_name\":\"account.godaddy.com/products\",\"count\":2},{\"page_name\":\"sso.godaddy.com/\",\"count\":1},{\"page_name\":\"www.godaddy.com/\",\"count\":1},{\"page_name\":\"dcc.godaddy.com/control/sjbarrondesign.com/dns\",\"count\":1},{\"page_name\":\"dcc.godaddy.com/control/sjbarrondesign.com/settings\",\"count\":1},{\"page_name\":\"dcc.godaddy.com/domains\",\"count\":1},{\"page_name\":\"websites.godaddy.com/en-US/setup\",\"count\":1}]                                                                                                                                                                                                                                                                                                                                                                                                                                                                                                                                                                                                                                                                                                                                                                                                                                                                                                                                                                                                                                                                                                                                                     |[{\"host_name\":\"account.godaddy.com\",\"count\":2},{\"host_name\":\"sso.godaddy.com\",\"count\":1},{\"host_name\":\"www.godaddy.com\",\"count\":1},{\"host_name\":\"dcc.godaddy.com\",\"count\":1},{\"host_name\":\"websites.godaddy.com\",\"count\":1}]|2022-06-10 23:59:59.999999|\n",
      "|2780117   |[{\"page_name\":\"crm.int.godaddy.com/billing/\",\"count\":5},{\"page_name\":\"crm.int.godaddy.com/customer-home/\",\"count\":5},{\"page_name\":\"crm.int.godaddy.com/customer-search/results\",\"count\":5},{\"page_name\":\"crm.int.godaddy.com/customer-search/results/\",\"count\":5},{\"page_name\":\"crm.int.godaddy.com/orders/results\",\"count\":5}]                                                                                                                                                                                                                                                                                                                                                                                                                                                                                                                                                                                                                                                                                                                                                                                                                                                                                                                                                                                                                                                                                                                                                                                                                                        |[{\"host_name\":\"crm.int.godaddy.com\",\"count\":5}]                                                                                                                                                                             |2022-06-10 23:59:59.999999|\n",
      "|341497932 |[{\"page_name\":\"websites.godaddy.com/en-AE/editor/d1d29ae1-c118-45b9-9b53-867bdca0f176/db92f1e0-4a95-4a25-82e1-a794b66f2902/fullpage/desktop\",\"count\":2},{\"page_name\":\"websites.godaddy.com/en-CA/editor/27865798-0ae1-48f3-954b-1d8e2446ef7d/c461cdac-b289-4179-96c8-8e5615b2ea2b/fullpage/desktop\",\"count\":2},{\"page_name\":\"websites.godaddy.com/en-CA/editor/bed13d49-ddb4-4113-8144-39fe53630efe/c0844dd4-becf-421c-bdf5-aa0311594920/fullpage/desktop\",\"count\":2},{\"page_name\":\"websites.godaddy.com/en-CA/editor/f6d8e0a9-05c6-414e-b0a8-6eab16b69ef8/e417d6c4-d9d5-40d0-be72-bb92f14c4de8/fullpage/desktop\",\"count\":2},{\"page_name\":\"websites.godaddy.com/en-IN/editor/55b32e0a-7691-4e30-8748-987d5910cdec/1a038cb3-966b-4c09-9318-308b5b7e3df1/fullpage/desktop\",\"count\":2},{\"page_name\":\"websites.godaddy.com/en-NZ/editor/4a677bf1-d615-49c7-8a2e-1d5cad8ac999/e389d88f-37ac-4edf-8504-e7cda6f26b54/fullpage/desktop\",\"count\":2},{\"page_name\":\"websites.godaddy.com/en-US/editor/07aa8be8-d0f7-4fc0-8dc5-4a66ce35d191/57c6587b-b57b-47b4-96ca-a191bb60da4b/fullpage/desktop\",\"count\":2},{\"page_name\":\"websites.godaddy.com/en-US/editor/102036c1-c0f8-4841-8d07-ec67cf68809b/de14210d-32c8-469b-8572-a96527e36789/fullpage/desktop\",\"count\":2},{\"page_name\":\"websites.godaddy.com/en-US/editor/160e3ebe-0809-46ef-a720-29aef64d5bd8/622f6e68-5dcc-4c43-bc1f-00dd98ce5729/fullpage/desktop\",\"count\":2},{\"page_name\":\"websites.godaddy.com/en-US/editor/23c28754-3a18-4838-a60e-9eb38a8a31cd/ee8b9f8f-9fc6-43a8-8f5a-f2c993fee5a2/fullpage/desktop\",\"count\":2}]|[{\"host_name\":\"websitebuilder.godaddy.com\",\"count\":2},{\"host_name\":\"websites.godaddy.com\",\"count\":2}]                                                                                                                       |2022-06-10 23:59:59.999999|\n",
      "|349673542 |[{\"page_name\":\"websites.godaddy.com/en-AE/editor/05ea7c4d-b52c-403d-a5bd-62581dd8469d/565db5d5-c1bf-49bb-8011-6b72d545a6ac/fullpage/desktop\",\"count\":1},{\"page_name\":\"websites.godaddy.com/en-AE/editor/567fab76-bdb5-4b7d-9cb4-394b89462a87/887fcf2e-b307-47e3-8fa7-866c5e0db27a/fullpage/desktop\",\"count\":1},{\"page_name\":\"websites.godaddy.com/en-AE/editor/5f3fb13d-5654-4bfc-b95e-176879adb3e3/4eebe54e-fc28-46e4-99c1-acbc8ecc0c6b/fullpage/desktop\",\"count\":1},{\"page_name\":\"websites.godaddy.com/en-AE/editor/ba2b3844-c7a0-45ab-81a2-0f2c7a33a038/e33555ad-4860-49cc-a1d8-900d08d6fa34/fullpage/desktop\",\"count\":1},{\"page_name\":\"websites.godaddy.com/en-AU/editor/1c0ee8a0-29fc-4f85-b0b1-6b27ad515e43/93641977-7908-4d06-8b17-81d6c90ad67b/fullpage/desktop\",\"count\":1},{\"page_name\":\"websites.godaddy.com/en-AU/editor/29bde123-ada1-4342-a8b2-79d95e70ae4c/4e9ec81c-ee2c-41e0-aa18-04ba855da5c5/fullpage/desktop\",\"count\":1},{\"page_name\":\"websites.godaddy.com/en-AU/editor/3018d5a7-1a32-4550-a5da-bbec0d3c7794/0931035d-ad1c-4ca5-922b-de07d0094e6d/fullpage/desktop\",\"count\":1},{\"page_name\":\"websites.godaddy.com/en-AU/editor/548d2c33-90bd-4f10-bdfa-058051d29586/9e3fea0f-8f70-426b-9638-2aa220c3610d/fullpage/desktop\",\"count\":1},{\"page_name\":\"websites.godaddy.com/en-AU/editor/81170f3a-6cce-43dd-9aa1-461e3b8619e8/a4d8cd84-48cb-4614-9c54-8e687981c8ed/fullpage/desktop\",\"count\":1},{\"page_name\":\"websites.godaddy.com/en-AU/editor/d59dec33-29e1-4d3c-9b2d-65d2d679adee/7a9792d8-12fc-4b85-a7da-c92d360a5737/fullpage/desktop\",\"count\":1}]|[{\"host_name\":\"websites.godaddy.com\",\"count\":1}]                                                                                                                                                                            |2022-06-10 23:59:59.999999|\n",
      "|36115121  |[{\"page_name\":\"websitebuilder.godaddy.com/builder/edit/desktop/00000000-0000-0000-0000-000000073859\",\"count\":2},{\"page_name\":\"websites.godaddy.com/en-US/editor/5a41934d-aa8c-45b7-bded-d32b1e854e52/c5f8ceda-483b-4c16-b78d-c35fe7805f78/fullpage/desktop\",\"count\":2},{\"page_name\":\"websites.godaddy.com/en-US/editor/91bfd15f-00ea-4a49-a756-3b4e1417aeeb/1d48d43b-0ab2-435d-8db6-1de30bd23d46/fullpage/desktop\",\"count\":2},{\"page_name\":\"websitebuilder.godaddy.com/builder/edit/desktop/00000000-0000-0000-0000-000003633245\",\"count\":1},{\"page_name\":\"websitebuilder.godaddy.com/builder/edit/desktop/00000000-0000-0000-0000-000006014720\",\"count\":1},{\"page_name\":\"websites.godaddy.com/en-AE/editor/d1d29ae1-c118-45b9-9b53-867bdca0f176/78c8435a-b8c8-4b93-a70c-51922bbb5dfb/fullpage/desktop\",\"count\":1},{\"page_name\":\"websites.godaddy.com/en-AU/editor/16aa58aa-b4ac-47b9-a02f-3cd0fb4afe01/217a450f-a9d7-429b-9d90-f26f50e3a77e/fullpage/desktop\",\"count\":1},{\"page_name\":\"websites.godaddy.com/en-AU/editor/29bde123-ada1-4342-a8b2-79d95e70ae4c/4e9ec81c-ee2c-41e0-aa18-04ba855da5c5/fullpage/desktop\",\"count\":1},{\"page_name\":\"websites.godaddy.com/en-AU/editor/3018d5a7-1a32-4550-a5da-bbec0d3c7794/0931035d-ad1c-4ca5-922b-de07d0094e6d/fullpage/desktop\",\"count\":1},{\"page_name\":\"websites.godaddy.com/en-AU/editor/548d2c33-90bd-4f10-bdfa-058051d29586/81e28d86-5d3d-4fbc-9957-653430efde1b/fullpage/desktop\",\"count\":1}]                                                                                                                        |[{\"host_name\":\"websitebuilder.godaddy.com\",\"count\":2},{\"host_name\":\"websites.godaddy.com\",\"count\":2}]                                                                                                                       |2022-06-10 23:59:59.999999|\n",
      "|380988003 |[{\"page_name\":\"sso.godaddy.com/v1/login\",\"count\":1},{\"page_name\":\"websitebuilder.godaddy.com/builder/edit/desktop/00000000-0000-0000-0000-000000054270\",\"count\":1},{\"page_name\":\"websitebuilder.godaddy.com/builder/edit/desktop/1adbdfb0-5caf-4ca9-812c-55b42ae8529c\",\"count\":1},{\"page_name\":\"websites.godaddy.com/de-DE/editor/2375374d-3875-4424-bd32-3104c162968a/f2fd5e3c-9bb7-4c00-837b-68475e3418bc/fullpage/desktop\",\"count\":1},{\"page_name\":\"websites.godaddy.com/de-DE/editor/35482387-0310-4c64-af12-b67bfaf9e053/a252d0a8-4d7e-48f9-bebe-ce2f0bfabba8/fullpage/desktop\",\"count\":1},{\"page_name\":\"websites.godaddy.com/en-AE/editor/8d7a64b9-49a5-4704-93f1-d07aab5cb082/12c24e2d-be79-43c8-bd2c-78987686c64b/fullpage/desktop\",\"count\":1},{\"page_name\":\"websites.godaddy.com/en-AE/editor/92161bcb-bfa5-4681-912a-9bfa9f4d4484/af7f3220-7afd-41a5-bcb0-14f6362e9b45/fullpage/desktop\",\"count\":1},{\"page_name\":\"websites.godaddy.com/en-AE/editor/c653a1c8-88ce-4227-b37f-895723520461/48802cd8-77d8-4df4-9b62-e21e67867f36/fullpage/desktop\",\"count\":1},{\"page_name\":\"websites.godaddy.com/en-AU/editor/1505c77a-f924-49ce-94a0-3f08c0b0f2cd/05688f47-65ce-4529-8721-4b1f486e6a18/fullpage/desktop\",\"count\":1},{\"page_name\":\"websites.godaddy.com/en-AU/editor/552971b7-d53e-471d-a24d-3eb515686457/810d79a5-abdf-4a3f-bbdc-b35d9c46e56d/fullpage/desktop\",\"count\":1}]                                                                                                                                                                                    |[{\"host_name\":\"sso.godaddy.com\",\"count\":1},{\"host_name\":\"websitebuilder.godaddy.com\",\"count\":1},{\"host_name\":\"websites.godaddy.com\",\"count\":1}]                                                                             |2022-06-10 23:59:59.999999|\n",
      "+----------+-----------------------------------------------------------------------------------------------------------------------------------------------------------------------------------------------------------------------------------------------------------------------------------------------------------------------------------------------------------------------------------------------------------------------------------------------------------------------------------------------------------------------------------------------------------------------------------------------------------------------------------------------------------------------------------------------------------------------------------------------------------------------------------------------------------------------------------------------------------------------------------------------------------------------------------------------------------------------------------------------------------------------------------------------------------------------------------------------------------------------------------------------------------------------------------------------------------------------------------------------------------------------------------------------------------------------------------------------------------------------------------------------------------------------------------------------------------------------------------------------------------------------------------------------------------------------+----------------------------------------------------------------------------------------------------------------------------------------------------------------------------------------------------------------------------+--------------------------+"
     ]
    }
   ],
   "source": [
    "df.show(truncate=False)"
   ]
  },
  {
   "cell_type": "code",
   "execution_count": null,
   "id": "1daff587",
   "metadata": {},
   "outputs": [],
   "source": []
  },
  {
   "cell_type": "code",
   "execution_count": null,
   "id": "d1104654",
   "metadata": {},
   "outputs": [],
   "source": []
  },
  {
   "cell_type": "code",
   "execution_count": 5,
   "id": "413bdd5d",
   "metadata": {
    "scrolled": true
   },
   "outputs": [
    {
     "data": {
      "application/vnd.jupyter.widget-view+json": {
       "model_id": "",
       "version_major": 2,
       "version_minor": 0
      },
      "text/plain": [
       "FloatProgress(value=0.0, bar_style='info', description='Progress:', layout=Layout(height='25px', width='50%'),…"
      ]
     },
     "metadata": {},
     "output_type": "display_data"
    }
   ],
   "source": [
    "import tecton\n",
    "import pandas as pd\n",
    "from datetime import date, datetime, timedelta\n",
    "\n",
    "\n",
    "ws = tecton.get_workspace('dgu')\n",
    "fv = ws.get_feature_view('customer_top_pages_top_hosts_last_10')\n",
    "spine_df = pd.DataFrame([{\"shopper_id\": 105939907, \"ts\": datetime.now()}])\n",
    "df = fv.get_historical_features(spine=spine_df, from_source=True).to_spark()"
   ]
  },
  {
   "cell_type": "code",
   "execution_count": null,
   "id": "77debfa9",
   "metadata": {
    "scrolled": false
   },
   "outputs": [
    {
     "data": {
      "application/vnd.jupyter.widget-view+json": {
       "model_id": "",
       "version_major": 2,
       "version_minor": 0
      },
      "text/plain": [
       "FloatProgress(value=0.0, bar_style='info', description='Progress:', layout=Layout(height='25px', width='50%'),…"
      ]
     },
     "metadata": {},
     "output_type": "display_data"
    }
   ],
   "source": [
    "df.limit(10).show(truncate=False)"
   ]
  },
  {
   "cell_type": "code",
   "execution_count": null,
   "id": "e38aa14c",
   "metadata": {},
   "outputs": [],
   "source": []
  },
  {
   "cell_type": "code",
   "execution_count": null,
   "id": "82689e89",
   "metadata": {},
   "outputs": [],
   "source": []
  },
  {
   "cell_type": "code",
   "execution_count": 9,
   "id": "88595f1a",
   "metadata": {},
   "outputs": [
    {
     "data": {
      "application/vnd.jupyter.widget-view+json": {
       "model_id": "",
       "version_major": 2,
       "version_minor": 0
      },
      "text/plain": [
       "FloatProgress(value=0.0, bar_style='info', description='Progress:', layout=Layout(height='25px', width='50%'),…"
      ]
     },
     "metadata": {},
     "output_type": "display_data"
    },
    {
     "name": "stdout",
     "output_type": "stream",
     "text": [
      "+----------+--------------------------+-----------------------------------------------------------------------------------------------------------------------------------------------------------------------------------------------------------------------------------------------------------------------------------------------------------------------------------+-----------------------------------------------------+------------------------------------------------------------------------------------------------------------------------------------------------+-----------------------------------------------------+\n",
      "|shopper_id|ts                        |customer_top_pages_top_hosts_last_10__top_pages_name                                                                                                                                                                                                                                                                               |customer_top_pages_top_hosts_last_10__top_pages_count|customer_top_pages_top_hosts_last_10__top_hosts_name                                                                                            |customer_top_pages_top_hosts_last_10__top_hosts_count|\n",
      "+----------+--------------------------+-----------------------------------------------------------------------------------------------------------------------------------------------------------------------------------------------------------------------------------------------------------------------------------------------------------------------------------+-----------------------------------------------------+------------------------------------------------------------------------------------------------------------------------------------------------+-----------------------------------------------------+\n",
      "|105939907 |2022-09-22 22:44:46.748639|[account.godaddy.com/products, www.godaddy.com/en-in, account.godaddy.com/subscriptions, sso.godaddy.com/, cart.godaddy.com/go/checkout, cart.godaddy.com/go/confirmation, ssl-ccp.godaddy.com/cert/details/qk9p3z3teqpojfzs6tpf4rho3sxlthbk, myh.godaddy.com/, www.godaddy.com/en-in/offers/godaddy, account.godaddy.com/receipts]|[7, 5, 4, 4, 2, 2, 2, 1, 1, 1]                       |[account.godaddy.com, www.godaddy.com, sso.godaddy.com, cart.godaddy.com, ssl-ccp.godaddy.com, myh.godaddy.com, in.godaddy.com, dcc.godaddy.com]|[8, 6, 4, 2, 2, 1, 1, 1]                             |\n",
      "+----------+--------------------------+-----------------------------------------------------------------------------------------------------------------------------------------------------------------------------------------------------------------------------------------------------------------------------------------------------------------------------------+-----------------------------------------------------+------------------------------------------------------------------------------------------------------------------------------------------------+-----------------------------------------------------+"
     ]
    }
   ],
   "source": [
    "ws = tecton.get_workspace('prod')\n",
    "fv = ws.get_feature_view('customer_top_pages_top_hosts_last_10')\n",
    "spine_df = pd.DataFrame([{\"shopper_id\": 105939907, \"ts\": datetime.now()}])\n",
    "df = fv.get_historical_features(spine=spine_df).to_spark()\n",
    "\n",
    "df.show(truncate=False)"
   ]
  },
  {
   "cell_type": "code",
   "execution_count": null,
   "id": "03dd40ac",
   "metadata": {},
   "outputs": [],
   "source": []
  },
  {
   "cell_type": "code",
   "execution_count": null,
   "id": "a5f3a2ca",
   "metadata": {},
   "outputs": [],
   "source": []
  },
  {
   "cell_type": "code",
   "execution_count": 4,
   "id": "400ac106",
   "metadata": {
    "scrolled": true
   },
   "outputs": [
    {
     "data": {
      "application/vnd.jupyter.widget-view+json": {
       "model_id": "",
       "version_major": 2,
       "version_minor": 0
      },
      "text/plain": [
       "FloatProgress(value=0.0, bar_style='info', description='Progress:', layout=Layout(height='25px', width='50%'),…"
      ]
     },
     "metadata": {},
     "output_type": "display_data"
    }
   ],
   "source": [
    "import tecton\n",
    "import pandas as pd\n",
    "from datetime import date, datetime, timedelta\n",
    "\n",
    "\n",
    "ws = tecton.get_workspace('prod')\n",
    "fv = ws.get_feature_view('customer_recent_traffic_last_10')\n",
    "\n",
    "spine_df = pd.DataFrame([{\"shopper_id\": \"105939907\", \"ts\": datetime.now()}])\n",
    "df = fv.get_historical_features(spine=spine_df, from_source=True).to_spark()"
   ]
  },
  {
   "cell_type": "code",
   "execution_count": 8,
   "id": "b6373266",
   "metadata": {},
   "outputs": [
    {
     "data": {
      "application/vnd.jupyter.widget-view+json": {
       "model_id": "",
       "version_major": 2,
       "version_minor": 0
      },
      "text/plain": [
       "FloatProgress(value=0.0, bar_style='info', description='Progress:', layout=Layout(height='25px', width='50%'),…"
      ]
     },
     "metadata": {},
     "output_type": "display_data"
    },
    {
     "name": "stdout",
     "output_type": "stream",
     "text": [
      "DataFrame[shopper_id: string, ts: timestamp, customer_recent_traffic_last_10__session_begin_date: array<string>, customer_recent_traffic_last_10__page_views_qty: array<bigint>, customer_recent_traffic_last_10__orders_qty: array<bigint>, customer_recent_traffic_last_10__renewal_orders_qty: array<bigint>, customer_recent_traffic_last_10__receipt_price_amt: array<double>, customer_recent_traffic_last_10__visits_qty: array<bigint>, customer_recent_traffic_last_10__new_orders_qty: array<bigint>, customer_recent_traffic_last_10__session_duration_seconds: array<bigint>, customer_recent_traffic_last_10__session_free_trial_signup_flag: array<bigint>, customer_recent_traffic_last_10__session_purchase_flag: array<bigint>, customer_recent_traffic_last_10__session_viewed_help_page_flag: array<bigint>, customer_recent_traffic_last_10__repeat_visitor_flag: array<bigint>, customer_recent_traffic_last_10__renewal_product_purchased_flag: array<bigint>, customer_recent_traffic_last_10__session_viewed_sales_page_flag: array<bigint>, customer_recent_traffic_last_10__session_mobile_app_flag: array<bigint>, customer_recent_traffic_last_10__repeat_shopper_flag: array<bigint>, customer_recent_traffic_last_10__session_bounce_flag: array<bigint>, customer_recent_traffic_last_10__new_product_purchased_flag: array<bigint>, customer_recent_traffic_last_10__browser_operating_system_name: array<string>, customer_recent_traffic_last_10__site_language_code: array<string>, customer_recent_traffic_last_10__ip_country_code: array<string>, customer_recent_traffic_last_10__site_country_code: array<string>, customer_recent_traffic_last_10__session_type_name: array<string>, customer_recent_traffic_last_10__browser_name: array<string>, customer_recent_traffic_last_10__referring_domain_name: array<string>, customer_recent_traffic_last_10__extra_shopper_ids: array<bigint>]"
     ]
    }
   ],
   "source": [
    "df"
   ]
  },
  {
   "cell_type": "code",
   "execution_count": 10,
   "id": "493fa4f1",
   "metadata": {},
   "outputs": [
    {
     "data": {
      "application/vnd.jupyter.widget-view+json": {
       "model_id": "cc1c573a7e914c02b6c96a4096561e61",
       "version_major": 2,
       "version_minor": 0
      },
      "text/plain": [
       "FloatProgress(value=0.0, bar_style='info', description='Progress:', layout=Layout(height='25px', width='50%'),…"
      ]
     },
     "metadata": {},
     "output_type": "display_data"
    },
    {
     "name": "stderr",
     "output_type": "stream",
     "text": [
      "Interrupted by user\n"
     ]
    }
   ],
   "source": [
    "df.select(\"customer_recent_traffic_last_10__extra_shopper_ids\").show()"
   ]
  },
  {
   "cell_type": "code",
   "execution_count": 2,
   "id": "849cf16e",
   "metadata": {},
   "outputs": [
    {
     "data": {
      "application/vnd.jupyter.widget-view+json": {
       "model_id": "",
       "version_major": 2,
       "version_minor": 0
      },
      "text/plain": [
       "FloatProgress(value=0.0, bar_style='info', description='Progress:', layout=Layout(height='25px', width='50%'),…"
      ]
     },
     "metadata": {},
     "output_type": "display_data"
    },
    {
     "name": "stdout",
     "output_type": "stream",
     "text": [
      "+----------+----------------------+-------------------------+----------------------+------------------------------------+---------------------------------------+------------------------------------+--------------------------+-----------------------------+--------------------------+----------------------------+-------------------------------+----------------------------+---------------------------+------------------------------+---------------------------+-----------------------------------+--------------------------------------+-----------------------------------+-------------------------+----------------------------+-------------------------+---------------------------+------------------------------+---------------------------+----------------+-------------------+----------------+-----------------+--------------------+-----------------+-----------------------+--------------------------+-----------------------+------------------------------+---------------------------------+------------------------------+---------------------------------------+------------------------------------------+---------------------------------------+----------------------------------+-------------------------------------+----------------------------------+---------------+------------------+---------------+--------------------------------+-----------------------------------+--------------------------------+-----------------------------+--------------------------------+-----------------------------+------------------------+---------------------------+------------------------+---------------------------+------------------------------+---------------------------+--------------------------+-----------------------------+--------------------------+---------------------------+------------------------------+---------------------------+-------------+\n",
      "|shopper_id|non_top_20_order_count|non_top_20_total_quantity|non_top_20_total_spent|domain_name_registration_order_count|domain_name_registration_total_quantity|domain_name_registration_total_spent|shared_hosting_order_count|shared_hosting_total_quantity|shared_hosting_total_spent|domains_by_proxy_order_count|domains_by_proxy_total_quantity|domains_by_proxy_total_spent|website_builder_order_count|website_builder_total_quantity|website_builder_total_spent|wordpress_managed_plans_order_count|wordpress_managed_plans_total_quantity|wordpress_managed_plans_total_spent|ms_office_365_order_count|ms_office_365_total_quantity|ms_office_365_total_spent|domain_services_order_count|domain_services_total_quantity|domain_services_total_spent|grid_order_count|grid_total_quantity|grid_total_spent|email_order_count|email_total_quantity|email_total_spent|cnp_hosting_order_count|cnp_hosting_total_quantity|cnp_hosting_total_spent|domain_marketplace_order_count|domain_marketplace_total_quantity|domain_marketplace_total_spent|domain_ownership_protection_order_count|domain_ownership_protection_total_quantity|domain_ownership_protection_total_spent|business_registrations_order_count|business_registrations_total_quantity|business_registrations_total_spent|ssl_order_count|ssl_total_quantity|ssl_total_spent|domain_name_transfer_order_count|domain_name_transfer_total_quantity|domain_name_transfer_total_spent|certified_domains_order_count|certified_domains_total_quantity|certified_domains_total_spent|domain_alert_order_count|domain_alert_total_quantity|domain_alert_total_spent|virtual_hosting_order_count|virtual_hosting_total_quantity|virtual_hosting_total_spent|online_storage_order_count|online_storage_total_quantity|online_storage_total_spent|online_calendar_order_count|online_calendar_total_quantity|online_calendar_total_spent|window_end_ts|\n",
      "+----------+----------------------+-------------------------+----------------------+------------------------------------+---------------------------------------+------------------------------------+--------------------------+-----------------------------+--------------------------+----------------------------+-------------------------------+----------------------------+---------------------------+------------------------------+---------------------------+-----------------------------------+--------------------------------------+-----------------------------------+-------------------------+----------------------------+-------------------------+---------------------------+------------------------------+---------------------------+----------------+-------------------+----------------+-----------------+--------------------+-----------------+-----------------------+--------------------------+-----------------------+------------------------------+---------------------------------+------------------------------+---------------------------------------+------------------------------------------+---------------------------------------+----------------------------------+-------------------------------------+----------------------------------+---------------+------------------+---------------+--------------------------------+-----------------------------------+--------------------------------+-----------------------------+--------------------------------+-----------------------------+------------------------+---------------------------+------------------------+---------------------------+------------------------------+---------------------------+--------------------------+-----------------------------+--------------------------+---------------------------+------------------------------+---------------------------+-------------+\n",
      "+----------+----------------------+-------------------------+----------------------+------------------------------------+---------------------------------------+------------------------------------+--------------------------+-----------------------------+--------------------------+----------------------------+-------------------------------+----------------------------+---------------------------+------------------------------+---------------------------+-----------------------------------+--------------------------------------+-----------------------------------+-------------------------+----------------------------+-------------------------+---------------------------+------------------------------+---------------------------+----------------+-------------------+----------------+-----------------+--------------------+-----------------+-----------------------+--------------------------+-----------------------+------------------------------+---------------------------------+------------------------------+---------------------------------------+------------------------------------------+---------------------------------------+----------------------------------+-------------------------------------+----------------------------------+---------------+------------------+---------------+--------------------------------+-----------------------------------+--------------------------------+-----------------------------+--------------------------------+-----------------------------+------------------------+---------------------------+------------------------+---------------------------+------------------------------+---------------------------+--------------------------+-----------------------------+--------------------------+---------------------------+------------------------------+---------------------------+-------------+"
     ]
    }
   ],
   "source": [
    "\n",
    "# Get a range of feature data from offline store\n",
    "start_time = datetime(2022, 8, 1)\n",
    "end_time = datetime(2022, 8, 2)\n",
    "fv.get_historical_features(start_time=start_time, end_time=end_time).to_spark().limit(10).show()"
   ]
  },
  {
   "cell_type": "code",
   "execution_count": 4,
   "id": "975ea283",
   "metadata": {},
   "outputs": [
    {
     "data": {
      "application/vnd.jupyter.widget-view+json": {
       "model_id": "",
       "version_major": 2,
       "version_minor": 0
      },
      "text/plain": [
       "FloatProgress(value=0.0, bar_style='info', description='Progress:', layout=Layout(height='25px', width='50%'),…"
      ]
     },
     "metadata": {},
     "output_type": "display_data"
    },
    {
     "name": "stdout",
     "output_type": "stream",
     "text": [
      "+----------+--------------+---------------+------------+----------------+-----------------+-------------------+\n",
      "|shopper_id|acq_viral_flag|acq_pop_c3_flag|churned_flag|acq_country_code|    tenure_months|      window_end_ts|\n",
      "+----------+--------------+---------------+------------+----------------+-----------------+-------------------+\n",
      "| 310959850|             1|              0|           0|              MX|Months 14 thru 25|2022-09-14 00:00:00|\n",
      "|  93500712|             0|              0|           1|              US|Months 11 thru 13|2022-09-14 00:00:00|\n",
      "|  33799163|             0|              0|           1|              US|Months 11 thru 13|2022-09-14 00:00:00|\n",
      "|  97512224|             0|              0|           1|              IE|Months 14 thru 25|2022-09-14 00:00:00|\n",
      "| 289631595|             0|              0|           0|              --|          Unknown|2022-09-14 00:00:00|\n",
      "|   3348541|             0|              0|           1|              AR|Months 11 thru 13|2022-09-14 00:00:00|\n",
      "| 500284108|             0|              0|           0|              --|          Unknown|2022-09-14 00:00:00|\n",
      "| 255659448|             0|              0|           0|              --|          Unknown|2022-09-14 00:00:00|\n",
      "| 388626664|             0|              0|           0|              --|          Unknown|2022-09-14 00:00:00|\n",
      "|  20929102|             0|              0|           1|              AN|Months 14 thru 25|2022-09-14 00:00:00|\n",
      "+----------+--------------+---------------+------------+----------------+-----------------+-------------------+"
     ]
    }
   ],
   "source": [
    "fv = ws.get_feature_view('customer_marketing_non_aggregated')\n",
    "# Get a range of feature data from offline store\n",
    "start_time = datetime(2022, 9, 14)\n",
    "end_time = datetime(2022, 9, 15)\n",
    "fv.get_historical_features(start_time=start_time, end_time=end_time).to_spark().limit(10).show()"
   ]
  },
  {
   "cell_type": "code",
   "execution_count": null,
   "id": "8bad984d",
   "metadata": {},
   "outputs": [],
   "source": []
  },
  {
   "cell_type": "code",
   "execution_count": 1,
   "id": "d8ee2b76",
   "metadata": {
    "scrolled": false
   },
   "outputs": [
    {
     "name": "stdout",
     "output_type": "stream",
     "text": [
      "Starting Spark application\n"
     ]
    },
    {
     "name": "stderr",
     "output_type": "stream",
     "text": [
      "The code failed because of a fatal error:\n",
      "\tSession 12 did not start up in 60 seconds..\n",
      "\n",
      "Some things to try:\n",
      "a) Make sure Spark has enough available resources for Jupyter to create a Spark context.\n",
      "b) Contact your Jupyter administrator to make sure the Spark magics library is configured correctly.\n",
      "c) Restart the kernel.\n"
     ]
    }
   ],
   "source": [
    "import tecton\n",
    "from datetime import date, datetime, timedelta\n",
    "\n",
    "ws = tecton.get_workspace('prod')\n",
    "fv = ws.get_feature_view('customer_recent_traffic_last_10')"
   ]
  },
  {
   "cell_type": "code",
   "execution_count": 3,
   "id": "5cac135a",
   "metadata": {},
   "outputs": [
    {
     "name": "stderr",
     "output_type": "stream",
     "text": [
      "The code failed because of a fatal error:\n",
      "\tSession 11 did not start up in 60 seconds..\n",
      "\n",
      "Some things to try:\n",
      "a) Make sure Spark has enough available resources for Jupyter to create a Spark context.\n",
      "b) Contact your Jupyter administrator to make sure the Spark magics library is configured correctly.\n",
      "c) Restart the kernel.\n"
     ]
    }
   ],
   "source": [
    "import pandas as pd\n",
    "\n",
    "spine_df = pd.DataFrame([{\"shopper_id\": \"105939907\", \"ts\": datetime.now()}])\n",
    "df = fv.get_historical_features(spine=spine_df, from_source=True).to_spark()\n",
    "df.limit(10).show(truncate=False)"
   ]
  },
  {
   "cell_type": "code",
   "execution_count": null,
   "id": "2cf68d23",
   "metadata": {},
   "outputs": [],
   "source": []
  }
 ],
 "metadata": {
  "kernelspec": {
   "display_name": "Sparkmagic (PySpark)",
   "language": "python",
   "name": "pysparkkernel"
  },
  "language_info": {
   "codemirror_mode": {
    "name": "python",
    "version": 3
   },
   "file_extension": ".py",
   "mimetype": "text/x-python",
   "name": "pyspark",
   "pygments_lexer": "python3"
  }
 },
 "nbformat": 4,
 "nbformat_minor": 5
}
