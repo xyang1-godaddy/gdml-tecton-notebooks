{
 "cells": [
  {
   "cell_type": "code",
   "execution_count": 6,
   "id": "02975e15",
   "metadata": {
    "scrolled": false
   },
   "outputs": [
    {
     "name": "stdout",
     "output_type": "stream",
     "text": [
      "Starting Spark application\n"
     ]
    },
    {
     "data": {
      "text/html": [
       "<table>\n",
       "<tr><th>ID</th><th>YARN Application ID</th><th>Kind</th><th>State</th><th>Spark UI</th><th>Driver log</th><th>User</th><th>Current session?</th></tr><tr><td>81</td><td>application_1663460692616_0083</td><td>pyspark</td><td>idle</td><td><a target=\"_blank\" href=\"http://ip-192-168-9-89.us-west-2.compute.internal:20888/proxy/application_1663460692616_0083/\">Link</a></td><td><a target=\"_blank\" href=\"http://ip-192-168-8-99.us-west-2.compute.internal:8042/node/containerlogs/container_1663460692616_0083_01_000001/livy\">Link</a></td><td>None</td><td>✔</td></tr></table>"
      ],
      "text/plain": [
       "<IPython.core.display.HTML object>"
      ]
     },
     "metadata": {},
     "output_type": "display_data"
    },
    {
     "data": {
      "application/vnd.jupyter.widget-view+json": {
       "model_id": "",
       "version_major": 2,
       "version_minor": 0
      },
      "text/plain": [
       "FloatProgress(value=0.0, bar_style='info', description='Progress:', layout=Layout(height='25px', width='50%'),…"
      ]
     },
     "metadata": {},
     "output_type": "display_data"
    },
    {
     "name": "stdout",
     "output_type": "stream",
     "text": [
      "SparkSession available as 'spark'.\n"
     ]
    },
    {
     "data": {
      "text/html": [
       "Current session configs: <tt>{'conf': {'spark.pyspark.python': 'python3.7', 'spark.pyspark.virtualenv.enabled': 'true', 'spark.pyspark.virtualenv.type': 'native', 'spark.pyspark.virtualenv.bin.path': '/usr/bin/virtualenv', 'spark.jars': 's3://tecton.ai.public/pip-repository/itorgation/tecton/0.2.10/tecton-udfs-spark-3.jar,s3://tecton.ai.public/jars/delta-core_2.12-1.0.1.jar'}, 'kind': 'pyspark'}</tt><br>"
      ],
      "text/plain": [
       "<IPython.core.display.HTML object>"
      ]
     },
     "metadata": {},
     "output_type": "display_data"
    },
    {
     "data": {
      "text/html": [
       "<table>\n",
       "<tr><th>ID</th><th>YARN Application ID</th><th>Kind</th><th>State</th><th>Spark UI</th><th>Driver log</th><th>User</th><th>Current session?</th></tr><tr><td>81</td><td>application_1663460692616_0083</td><td>pyspark</td><td>idle</td><td><a target=\"_blank\" href=\"http://ip-192-168-9-89.us-west-2.compute.internal:20888/proxy/application_1663460692616_0083/\">Link</a></td><td><a target=\"_blank\" href=\"http://ip-192-168-8-99.us-west-2.compute.internal:8042/node/containerlogs/container_1663460692616_0083_01_000001/livy\">Link</a></td><td>None</td><td>✔</td></tr></table>"
      ],
      "text/plain": [
       "<IPython.core.display.HTML object>"
      ]
     },
     "metadata": {},
     "output_type": "display_data"
    }
   ],
   "source": [
    "%%configure -f\n",
    "{\n",
    "  \"conf\":{\n",
    "    \"spark.pyspark.python\":\"python3.7\",\n",
    "    \"spark.pyspark.virtualenv.enabled\":\"true\",\n",
    "    \"spark.pyspark.virtualenv.type\":\"native\",\n",
    "    \"spark.pyspark.virtualenv.bin.path\":\"/usr/bin/virtualenv\",\n",
    "    \"spark.jars\":\"s3://tecton.ai.public/pip-repository/itorgation/tecton/0.2.10/tecton-udfs-spark-3.jar,s3://tecton.ai.public/jars/delta-core_2.12-1.0.1.jar\"\n",
    "  }\n",
    "}"
   ]
  },
  {
   "cell_type": "code",
   "execution_count": 1,
   "id": "06b12d18",
   "metadata": {
    "scrolled": true
   },
   "outputs": [
    {
     "name": "stdout",
     "output_type": "stream",
     "text": [
      "Starting Spark application\n"
     ]
    },
    {
     "data": {
      "text/html": [
       "<table>\n",
       "<tr><th>ID</th><th>YARN Application ID</th><th>Kind</th><th>State</th><th>Spark UI</th><th>Driver log</th><th>User</th><th>Current session?</th></tr><tr><td>80</td><td>application_1663460692616_0082</td><td>pyspark</td><td>idle</td><td><a target=\"_blank\" href=\"http://ip-192-168-9-89.us-west-2.compute.internal:20888/proxy/application_1663460692616_0082/\">Link</a></td><td><a target=\"_blank\" href=\"http://ip-192-168-8-31.us-west-2.compute.internal:8042/node/containerlogs/container_1663460692616_0082_01_000001/livy\">Link</a></td><td>None</td><td>✔</td></tr></table>"
      ],
      "text/plain": [
       "<IPython.core.display.HTML object>"
      ]
     },
     "metadata": {},
     "output_type": "display_data"
    },
    {
     "data": {
      "application/vnd.jupyter.widget-view+json": {
       "model_id": "",
       "version_major": 2,
       "version_minor": 0
      },
      "text/plain": [
       "FloatProgress(value=0.0, bar_style='info', description='Progress:', layout=Layout(height='25px', width='50%'),…"
      ]
     },
     "metadata": {},
     "output_type": "display_data"
    },
    {
     "name": "stdout",
     "output_type": "stream",
     "text": [
      "SparkSession available as 'spark'.\n"
     ]
    },
    {
     "data": {
      "application/vnd.jupyter.widget-view+json": {
       "model_id": "",
       "version_major": 2,
       "version_minor": 0
      },
      "text/plain": [
       "FloatProgress(value=0.0, bar_style='info', description='Progress:', layout=Layout(height='25px', width='50%'),…"
      ]
     },
     "metadata": {},
     "output_type": "display_data"
    }
   ],
   "source": [
    "import tecton\n",
    "import pandas as pd\n",
    "from datetime import date, datetime, timedelta\n",
    "\n",
    "\n",
    "ws = tecton.get_workspace('tecton_integration_testing')\n",
    "fv = ws.get_feature_view('customer_top_pages_top_hosts_last_10_json')"
   ]
  },
  {
   "cell_type": "code",
   "execution_count": 4,
   "id": "ea08e16d",
   "metadata": {},
   "outputs": [
    {
     "data": {
      "application/vnd.jupyter.widget-view+json": {
       "model_id": "",
       "version_major": 2,
       "version_minor": 0
      },
      "text/plain": [
       "FloatProgress(value=0.0, bar_style='info', description='Progress:', layout=Layout(height='25px', width='50%'),…"
      ]
     },
     "metadata": {},
     "output_type": "display_data"
    }
   ],
   "source": [
    "start_time = datetime(2022, 6, 1)\n",
    "end_time = datetime(2022, 6, 30)\n",
    "df = fv.get_historical_features(start_time=start_time, end_time=end_time).to_spark().limit(10)"
   ]
  },
  {
   "cell_type": "code",
   "execution_count": 5,
   "id": "a902b124",
   "metadata": {},
   "outputs": [
    {
     "data": {
      "application/vnd.jupyter.widget-view+json": {
       "model_id": "",
       "version_major": 2,
       "version_minor": 0
      },
      "text/plain": [
       "FloatProgress(value=0.0, bar_style='info', description='Progress:', layout=Layout(height='25px', width='50%'),…"
      ]
     },
     "metadata": {},
     "output_type": "display_data"
    },
    {
     "name": "stdout",
     "output_type": "stream",
     "text": [
      "+----------+-----------------------------------------------------------------------------------------------------------------------------------------------------------------------------------------------------------------------------------------------------------------------------------------------------------------------------------------------------------------------------------------------------------------------------------------------------------------------------------------------------------------------------------------------------------------------------------------------------------------------------------------------------------------------------------------------------------------------------------------------------------------------------------------------------------------------------------------------------------------------------------------------------------------------------------------------------------------------------------------------------------------------------------------------------------------------------------------------------------------------------------------------------------------------------------------------------------------------------------------------------------------------------------------------------------------------------------------------------------------------------------------------------------------------------------------------------------------------------------------------------------------------------------------------------------------------+----------------------------------------------------------------------------------------------------------------------------------------------------------------------------------------------------------------------------+--------------------------+\n",
      "|shopper_id|top_pages_json                                                                                                                                                                                                                                                                                                                                                                                                                                                                                                                                                                                                                                                                                                                                                                                                                                                                                                                                                                                                                                                                                                                                                                                                                                                                                                                                                                                                                                                                                                                                                         |top_hosts_json                                                                                                                                                                                                              |window_end_ts             |\n",
      "+----------+-----------------------------------------------------------------------------------------------------------------------------------------------------------------------------------------------------------------------------------------------------------------------------------------------------------------------------------------------------------------------------------------------------------------------------------------------------------------------------------------------------------------------------------------------------------------------------------------------------------------------------------------------------------------------------------------------------------------------------------------------------------------------------------------------------------------------------------------------------------------------------------------------------------------------------------------------------------------------------------------------------------------------------------------------------------------------------------------------------------------------------------------------------------------------------------------------------------------------------------------------------------------------------------------------------------------------------------------------------------------------------------------------------------------------------------------------------------------------------------------------------------------------------------------------------------------------+----------------------------------------------------------------------------------------------------------------------------------------------------------------------------------------------------------------------------+--------------------------+\n",
      "|115454205 |[{\"page_name\":\"websitebuilder.godaddy.com/builder/edit/desktop/00000000-0000-0000-0000-000000210703\",\"count\":1},{\"page_name\":\"websitebuilder.godaddy.com/builder/edit/desktop/00000000-0000-0000-0000-000003632844\",\"count\":1},{\"page_name\":\"websitebuilder.godaddy.com/builder/edit/desktop/50ee97f4-c5b4-4965-83cd-5fab9763ecfe\",\"count\":1},{\"page_name\":\"websitebuilder.godaddy.com/builder/edit/desktop/ed1b9980-d80b-4709-8d8e-75eb56d83a92\",\"count\":1},{\"page_name\":\"websites.godaddy.com/de-DE/editor/1e644752-edbb-4acc-b33d-60a3d4ea74d7/a252d0a8-4d7e-48f9-bebe-ce2f0bfabba8/fullpage/desktop\",\"count\":1},{\"page_name\":\"websites.godaddy.com/de-DE/editor/eb7c5369-cdc3-4148-8ada-803898ae8b82/f2fd5e3c-9bb7-4c00-837b-68475e3418bc/fullpage/desktop\",\"count\":1},{\"page_name\":\"websites.godaddy.com/en-AE/editor/17dcf784-f0b0-4fb2-842d-25e709f4af00/bda6bd5d-bda9-46aa-93bb-94edda6be867/fullpage/desktop\",\"count\":1},{\"page_name\":\"websites.godaddy.com/en-AE/editor/b12fdc37-f438-4d32-8f5c-989fcdfc71c4/cdc1dcb1-2412-470a-9a33-a91a202684f6/fullpage/desktop\",\"count\":1},{\"page_name\":\"websites.godaddy.com/en-AE/editor/bda9c84a-ea97-4795-a276-7d910e3f3fca/bb701493-85e2-41b8-9d75-27f249b8232d/fullpage/desktop\",\"count\":1},{\"page_name\":\"websites.godaddy.com/en-AE/editor/d1d29ae1-c118-45b9-9b53-867bdca0f176/db92f1e0-4a95-4a25-82e1-a794b66f2902/fullpage/desktop\",\"count\":1}]                                                                                                                                                                |[{\"host_name\":\"websitebuilder.godaddy.com\",\"count\":1},{\"host_name\":\"websites.godaddy.com\",\"count\":1}]                                                                                                                       |2022-06-10 23:59:59.999999|\n",
      "|130161408 |[{\"page_name\":\"websitebuilder.godaddy.com/builder/edit/desktop/75420d7b-2d0d-450e-b499-cb251c90b52a\",\"count\":1},{\"page_name\":\"websites.godaddy.com/de-CH/editor/8f648daf-0b80-4f21-aa83-f65ef6deb93d/609350ef-ba41-4dcb-990b-5aa795375add/fullpage/desktop\",\"count\":1},{\"page_name\":\"websites.godaddy.com/en-AE/editor/31201749-42f7-46c9-a054-1ed7b2bb3f32/a252d0a8-4d7e-48f9-bebe-ce2f0bfabba8/fullpage/desktop\",\"count\":1},{\"page_name\":\"websites.godaddy.com/en-AE/editor/6f3127ef-df8a-4301-8acd-c4cba053d006/89d190f0-f7f7-4412-9f15-3ce5326af885/fullpage/desktop\",\"count\":1},{\"page_name\":\"websites.godaddy.com/en-AU/editor/0ba1725e-0fd9-49e0-a552-cdecfdec073c/7e6e6dde-fb70-4e79-9c6d-fbfe80683d64/fullpage/desktop\",\"count\":1},{\"page_name\":\"websites.godaddy.com/en-AU/editor/1c7ac6de-1771-4fbb-a113-774a8b017585/02fe1a78-5aba-4423-afe9-fec02cb6fd25/fullpage/desktop\",\"count\":1},{\"page_name\":\"websites.godaddy.com/en-AU/editor/1cddedf7-85c0-4cbd-9180-bb5c71f4349e/73d03c02-c294-48dc-b2eb-08161cea474e/fullpage/desktop\",\"count\":1},{\"page_name\":\"websites.godaddy.com/en-AU/editor/1cddedf7-85c0-4cbd-9180-bb5c71f4349e/813913d5-3178-4ab1-b628-24802345b614/fullpage/desktop\",\"count\":1},{\"page_name\":\"websites.godaddy.com/en-AU/editor/2290268a-8ed7-4ba6-addf-bc44fc59ef60/909e27c3-c9d9-4808-8748-0b3286e8ea3d/fullpage/desktop\",\"count\":1},{\"page_name\":\"websites.godaddy.com/en-AU/editor/2806c027-d1c5-41d5-879b-81b8dd1fb2f2/09f1b4ad-4837-44fa-a5f4-d717915439f1/fullpage/desktop\",\"count\":1}]                                        |[{\"host_name\":\"websitebuilder.godaddy.com\",\"count\":1},{\"host_name\":\"websites.godaddy.com\",\"count\":1}]                                                                                                                       |2022-06-10 23:59:59.999999|\n",
      "|200716819 |[{\"page_name\":\"www.godaddy.com/tr-tr\",\"count\":2},{\"page_name\":\"tr.auctions.godaddy.com/\",\"count\":1},{\"page_name\":\"tr.godaddy.com/blog/\",\"count\":1},{\"page_name\":\"tr.godaddy.com/domainsearch/find\",\"count\":1},{\"page_name\":\"www.godaddy.com/tr-tr/hosting\",\"count\":1},{\"page_name\":\"www.godaddy.com/tr-tr/hosting/web-hosting\",\"count\":1},{\"page_name\":\"www.godaddy.com/tr-tr/hosting/web-hosting-plus\",\"count\":1},{\"page_name\":\"www.godaddy.com/tr-tr/hosting/web-hosting-plus-plans\",\"count\":1}]                                                                                                                                                                                                                                                                                                                                                                                                                                                                                                                                                                                                                                                                                                                                                                                                                                                                                                                                                                                                                                                                     |[{\"host_name\":\"www.godaddy.com\",\"count\":2},{\"host_name\":\"tr.auctions.godaddy.com\",\"count\":1},{\"host_name\":\"tr.godaddy.com\",\"count\":1}]                                                                                      |2022-06-10 23:59:59.999999|\n",
      "|202298504 |[{\"page_name\":\"sso.godaddy.com/v1/login\",\"count\":1},{\"page_name\":\"websitebuilder.godaddy.com/builder/edit/desktop/00000000-0000-0000-0000-000000054270\",\"count\":1},{\"page_name\":\"websitebuilder.godaddy.com/builder/edit/desktop/1adbdfb0-5caf-4ca9-812c-55b42ae8529c\",\"count\":1},{\"page_name\":\"websites.godaddy.com/de-DE/editor/2375374d-3875-4424-bd32-3104c162968a/f2fd5e3c-9bb7-4c00-837b-68475e3418bc/fullpage/desktop\",\"count\":1},{\"page_name\":\"websites.godaddy.com/de-DE/editor/35482387-0310-4c64-af12-b67bfaf9e053/a252d0a8-4d7e-48f9-bebe-ce2f0bfabba8/fullpage/desktop\",\"count\":1},{\"page_name\":\"websites.godaddy.com/en-AE/editor/8d7a64b9-49a5-4704-93f1-d07aab5cb082/12c24e2d-be79-43c8-bd2c-78987686c64b/fullpage/desktop\",\"count\":1},{\"page_name\":\"websites.godaddy.com/en-AE/editor/92161bcb-bfa5-4681-912a-9bfa9f4d4484/af7f3220-7afd-41a5-bcb0-14f6362e9b45/fullpage/desktop\",\"count\":1},{\"page_name\":\"websites.godaddy.com/en-AE/editor/c653a1c8-88ce-4227-b37f-895723520461/48802cd8-77d8-4df4-9b62-e21e67867f36/fullpage/desktop\",\"count\":1},{\"page_name\":\"websites.godaddy.com/en-AU/editor/1505c77a-f924-49ce-94a0-3f08c0b0f2cd/05688f47-65ce-4529-8721-4b1f486e6a18/fullpage/desktop\",\"count\":1},{\"page_name\":\"websites.godaddy.com/en-AU/editor/552971b7-d53e-471d-a24d-3eb515686457/810d79a5-abdf-4a3f-bbdc-b35d9c46e56d/fullpage/desktop\",\"count\":1}]                                                                                                                                                                                    |[{\"host_name\":\"sso.godaddy.com\",\"count\":1},{\"host_name\":\"websitebuilder.godaddy.com\",\"count\":1},{\"host_name\":\"websites.godaddy.com\",\"count\":1}]                                                                             |2022-06-10 23:59:59.999999|\n",
      "|227920792 |[{\"page_name\":\"account.godaddy.com/products\",\"count\":2},{\"page_name\":\"sso.godaddy.com/\",\"count\":1},{\"page_name\":\"www.godaddy.com/\",\"count\":1},{\"page_name\":\"dcc.godaddy.com/control/sjbarrondesign.com/dns\",\"count\":1},{\"page_name\":\"dcc.godaddy.com/control/sjbarrondesign.com/settings\",\"count\":1},{\"page_name\":\"dcc.godaddy.com/domains\",\"count\":1},{\"page_name\":\"websites.godaddy.com/en-US/setup\",\"count\":1}]                                                                                                                                                                                                                                                                                                                                                                                                                                                                                                                                                                                                                                                                                                                                                                                                                                                                                                                                                                                                                                                                                                                                                     |[{\"host_name\":\"account.godaddy.com\",\"count\":2},{\"host_name\":\"sso.godaddy.com\",\"count\":1},{\"host_name\":\"www.godaddy.com\",\"count\":1},{\"host_name\":\"dcc.godaddy.com\",\"count\":1},{\"host_name\":\"websites.godaddy.com\",\"count\":1}]|2022-06-10 23:59:59.999999|\n",
      "|2780117   |[{\"page_name\":\"crm.int.godaddy.com/billing/\",\"count\":5},{\"page_name\":\"crm.int.godaddy.com/customer-home/\",\"count\":5},{\"page_name\":\"crm.int.godaddy.com/customer-search/results\",\"count\":5},{\"page_name\":\"crm.int.godaddy.com/customer-search/results/\",\"count\":5},{\"page_name\":\"crm.int.godaddy.com/orders/results\",\"count\":5}]                                                                                                                                                                                                                                                                                                                                                                                                                                                                                                                                                                                                                                                                                                                                                                                                                                                                                                                                                                                                                                                                                                                                                                                                                                        |[{\"host_name\":\"crm.int.godaddy.com\",\"count\":5}]                                                                                                                                                                             |2022-06-10 23:59:59.999999|\n",
      "|341497932 |[{\"page_name\":\"websites.godaddy.com/en-AE/editor/d1d29ae1-c118-45b9-9b53-867bdca0f176/db92f1e0-4a95-4a25-82e1-a794b66f2902/fullpage/desktop\",\"count\":2},{\"page_name\":\"websites.godaddy.com/en-CA/editor/27865798-0ae1-48f3-954b-1d8e2446ef7d/c461cdac-b289-4179-96c8-8e5615b2ea2b/fullpage/desktop\",\"count\":2},{\"page_name\":\"websites.godaddy.com/en-CA/editor/bed13d49-ddb4-4113-8144-39fe53630efe/c0844dd4-becf-421c-bdf5-aa0311594920/fullpage/desktop\",\"count\":2},{\"page_name\":\"websites.godaddy.com/en-CA/editor/f6d8e0a9-05c6-414e-b0a8-6eab16b69ef8/e417d6c4-d9d5-40d0-be72-bb92f14c4de8/fullpage/desktop\",\"count\":2},{\"page_name\":\"websites.godaddy.com/en-IN/editor/55b32e0a-7691-4e30-8748-987d5910cdec/1a038cb3-966b-4c09-9318-308b5b7e3df1/fullpage/desktop\",\"count\":2},{\"page_name\":\"websites.godaddy.com/en-NZ/editor/4a677bf1-d615-49c7-8a2e-1d5cad8ac999/e389d88f-37ac-4edf-8504-e7cda6f26b54/fullpage/desktop\",\"count\":2},{\"page_name\":\"websites.godaddy.com/en-US/editor/07aa8be8-d0f7-4fc0-8dc5-4a66ce35d191/57c6587b-b57b-47b4-96ca-a191bb60da4b/fullpage/desktop\",\"count\":2},{\"page_name\":\"websites.godaddy.com/en-US/editor/102036c1-c0f8-4841-8d07-ec67cf68809b/de14210d-32c8-469b-8572-a96527e36789/fullpage/desktop\",\"count\":2},{\"page_name\":\"websites.godaddy.com/en-US/editor/160e3ebe-0809-46ef-a720-29aef64d5bd8/622f6e68-5dcc-4c43-bc1f-00dd98ce5729/fullpage/desktop\",\"count\":2},{\"page_name\":\"websites.godaddy.com/en-US/editor/23c28754-3a18-4838-a60e-9eb38a8a31cd/ee8b9f8f-9fc6-43a8-8f5a-f2c993fee5a2/fullpage/desktop\",\"count\":2}]|[{\"host_name\":\"websitebuilder.godaddy.com\",\"count\":2},{\"host_name\":\"websites.godaddy.com\",\"count\":2}]                                                                                                                       |2022-06-10 23:59:59.999999|\n",
      "|349673542 |[{\"page_name\":\"websites.godaddy.com/en-AE/editor/05ea7c4d-b52c-403d-a5bd-62581dd8469d/565db5d5-c1bf-49bb-8011-6b72d545a6ac/fullpage/desktop\",\"count\":1},{\"page_name\":\"websites.godaddy.com/en-AE/editor/567fab76-bdb5-4b7d-9cb4-394b89462a87/887fcf2e-b307-47e3-8fa7-866c5e0db27a/fullpage/desktop\",\"count\":1},{\"page_name\":\"websites.godaddy.com/en-AE/editor/5f3fb13d-5654-4bfc-b95e-176879adb3e3/4eebe54e-fc28-46e4-99c1-acbc8ecc0c6b/fullpage/desktop\",\"count\":1},{\"page_name\":\"websites.godaddy.com/en-AE/editor/ba2b3844-c7a0-45ab-81a2-0f2c7a33a038/e33555ad-4860-49cc-a1d8-900d08d6fa34/fullpage/desktop\",\"count\":1},{\"page_name\":\"websites.godaddy.com/en-AU/editor/1c0ee8a0-29fc-4f85-b0b1-6b27ad515e43/93641977-7908-4d06-8b17-81d6c90ad67b/fullpage/desktop\",\"count\":1},{\"page_name\":\"websites.godaddy.com/en-AU/editor/29bde123-ada1-4342-a8b2-79d95e70ae4c/4e9ec81c-ee2c-41e0-aa18-04ba855da5c5/fullpage/desktop\",\"count\":1},{\"page_name\":\"websites.godaddy.com/en-AU/editor/3018d5a7-1a32-4550-a5da-bbec0d3c7794/0931035d-ad1c-4ca5-922b-de07d0094e6d/fullpage/desktop\",\"count\":1},{\"page_name\":\"websites.godaddy.com/en-AU/editor/548d2c33-90bd-4f10-bdfa-058051d29586/9e3fea0f-8f70-426b-9638-2aa220c3610d/fullpage/desktop\",\"count\":1},{\"page_name\":\"websites.godaddy.com/en-AU/editor/81170f3a-6cce-43dd-9aa1-461e3b8619e8/a4d8cd84-48cb-4614-9c54-8e687981c8ed/fullpage/desktop\",\"count\":1},{\"page_name\":\"websites.godaddy.com/en-AU/editor/d59dec33-29e1-4d3c-9b2d-65d2d679adee/7a9792d8-12fc-4b85-a7da-c92d360a5737/fullpage/desktop\",\"count\":1}]|[{\"host_name\":\"websites.godaddy.com\",\"count\":1}]                                                                                                                                                                            |2022-06-10 23:59:59.999999|\n",
      "|36115121  |[{\"page_name\":\"websitebuilder.godaddy.com/builder/edit/desktop/00000000-0000-0000-0000-000000073859\",\"count\":2},{\"page_name\":\"websites.godaddy.com/en-US/editor/5a41934d-aa8c-45b7-bded-d32b1e854e52/c5f8ceda-483b-4c16-b78d-c35fe7805f78/fullpage/desktop\",\"count\":2},{\"page_name\":\"websites.godaddy.com/en-US/editor/91bfd15f-00ea-4a49-a756-3b4e1417aeeb/1d48d43b-0ab2-435d-8db6-1de30bd23d46/fullpage/desktop\",\"count\":2},{\"page_name\":\"websitebuilder.godaddy.com/builder/edit/desktop/00000000-0000-0000-0000-000003633245\",\"count\":1},{\"page_name\":\"websitebuilder.godaddy.com/builder/edit/desktop/00000000-0000-0000-0000-000006014720\",\"count\":1},{\"page_name\":\"websites.godaddy.com/en-AE/editor/d1d29ae1-c118-45b9-9b53-867bdca0f176/78c8435a-b8c8-4b93-a70c-51922bbb5dfb/fullpage/desktop\",\"count\":1},{\"page_name\":\"websites.godaddy.com/en-AU/editor/16aa58aa-b4ac-47b9-a02f-3cd0fb4afe01/217a450f-a9d7-429b-9d90-f26f50e3a77e/fullpage/desktop\",\"count\":1},{\"page_name\":\"websites.godaddy.com/en-AU/editor/29bde123-ada1-4342-a8b2-79d95e70ae4c/4e9ec81c-ee2c-41e0-aa18-04ba855da5c5/fullpage/desktop\",\"count\":1},{\"page_name\":\"websites.godaddy.com/en-AU/editor/3018d5a7-1a32-4550-a5da-bbec0d3c7794/0931035d-ad1c-4ca5-922b-de07d0094e6d/fullpage/desktop\",\"count\":1},{\"page_name\":\"websites.godaddy.com/en-AU/editor/548d2c33-90bd-4f10-bdfa-058051d29586/81e28d86-5d3d-4fbc-9957-653430efde1b/fullpage/desktop\",\"count\":1}]                                                                                                                        |[{\"host_name\":\"websitebuilder.godaddy.com\",\"count\":2},{\"host_name\":\"websites.godaddy.com\",\"count\":2}]                                                                                                                       |2022-06-10 23:59:59.999999|\n",
      "|380988003 |[{\"page_name\":\"sso.godaddy.com/v1/login\",\"count\":1},{\"page_name\":\"websitebuilder.godaddy.com/builder/edit/desktop/00000000-0000-0000-0000-000000054270\",\"count\":1},{\"page_name\":\"websitebuilder.godaddy.com/builder/edit/desktop/1adbdfb0-5caf-4ca9-812c-55b42ae8529c\",\"count\":1},{\"page_name\":\"websites.godaddy.com/de-DE/editor/2375374d-3875-4424-bd32-3104c162968a/f2fd5e3c-9bb7-4c00-837b-68475e3418bc/fullpage/desktop\",\"count\":1},{\"page_name\":\"websites.godaddy.com/de-DE/editor/35482387-0310-4c64-af12-b67bfaf9e053/a252d0a8-4d7e-48f9-bebe-ce2f0bfabba8/fullpage/desktop\",\"count\":1},{\"page_name\":\"websites.godaddy.com/en-AE/editor/8d7a64b9-49a5-4704-93f1-d07aab5cb082/12c24e2d-be79-43c8-bd2c-78987686c64b/fullpage/desktop\",\"count\":1},{\"page_name\":\"websites.godaddy.com/en-AE/editor/92161bcb-bfa5-4681-912a-9bfa9f4d4484/af7f3220-7afd-41a5-bcb0-14f6362e9b45/fullpage/desktop\",\"count\":1},{\"page_name\":\"websites.godaddy.com/en-AE/editor/c653a1c8-88ce-4227-b37f-895723520461/48802cd8-77d8-4df4-9b62-e21e67867f36/fullpage/desktop\",\"count\":1},{\"page_name\":\"websites.godaddy.com/en-AU/editor/1505c77a-f924-49ce-94a0-3f08c0b0f2cd/05688f47-65ce-4529-8721-4b1f486e6a18/fullpage/desktop\",\"count\":1},{\"page_name\":\"websites.godaddy.com/en-AU/editor/552971b7-d53e-471d-a24d-3eb515686457/810d79a5-abdf-4a3f-bbdc-b35d9c46e56d/fullpage/desktop\",\"count\":1}]                                                                                                                                                                                    |[{\"host_name\":\"sso.godaddy.com\",\"count\":1},{\"host_name\":\"websitebuilder.godaddy.com\",\"count\":1},{\"host_name\":\"websites.godaddy.com\",\"count\":1}]                                                                             |2022-06-10 23:59:59.999999|\n",
      "+----------+-----------------------------------------------------------------------------------------------------------------------------------------------------------------------------------------------------------------------------------------------------------------------------------------------------------------------------------------------------------------------------------------------------------------------------------------------------------------------------------------------------------------------------------------------------------------------------------------------------------------------------------------------------------------------------------------------------------------------------------------------------------------------------------------------------------------------------------------------------------------------------------------------------------------------------------------------------------------------------------------------------------------------------------------------------------------------------------------------------------------------------------------------------------------------------------------------------------------------------------------------------------------------------------------------------------------------------------------------------------------------------------------------------------------------------------------------------------------------------------------------------------------------------------------------------------------------+----------------------------------------------------------------------------------------------------------------------------------------------------------------------------------------------------------------------------+--------------------------+"
     ]
    }
   ],
   "source": [
    "df.show(truncate=False)"
   ]
  },
  {
   "cell_type": "code",
   "execution_count": null,
   "id": "1daff587",
   "metadata": {},
   "outputs": [],
   "source": []
  },
  {
   "cell_type": "code",
   "execution_count": null,
   "id": "d1104654",
   "metadata": {},
   "outputs": [],
   "source": []
  },
  {
   "cell_type": "code",
   "execution_count": 5,
   "id": "413bdd5d",
   "metadata": {
    "scrolled": true
   },
   "outputs": [
    {
     "data": {
      "application/vnd.jupyter.widget-view+json": {
       "model_id": "",
       "version_major": 2,
       "version_minor": 0
      },
      "text/plain": [
       "FloatProgress(value=0.0, bar_style='info', description='Progress:', layout=Layout(height='25px', width='50%'),…"
      ]
     },
     "metadata": {},
     "output_type": "display_data"
    }
   ],
   "source": [
    "import tecton\n",
    "import pandas as pd\n",
    "from datetime import date, datetime, timedelta\n",
    "\n",
    "\n",
    "ws = tecton.get_workspace('dgu')\n",
    "fv = ws.get_feature_view('customer_top_pages_top_hosts_last_10')\n",
    "spine_df = pd.DataFrame([{\"shopper_id\": 105939907, \"ts\": datetime.now()}])\n",
    "df = fv.get_historical_features(spine=spine_df, from_source=True).to_spark()"
   ]
  },
  {
   "cell_type": "code",
   "execution_count": null,
   "id": "77debfa9",
   "metadata": {
    "scrolled": false
   },
   "outputs": [
    {
     "data": {
      "application/vnd.jupyter.widget-view+json": {
       "model_id": "",
       "version_major": 2,
       "version_minor": 0
      },
      "text/plain": [
       "FloatProgress(value=0.0, bar_style='info', description='Progress:', layout=Layout(height='25px', width='50%'),…"
      ]
     },
     "metadata": {},
     "output_type": "display_data"
    }
   ],
   "source": [
    "df.limit(10).show(truncate=False)"
   ]
  },
  {
   "cell_type": "code",
   "execution_count": null,
   "id": "e38aa14c",
   "metadata": {},
   "outputs": [],
   "source": []
  },
  {
   "cell_type": "code",
   "execution_count": null,
   "id": "82689e89",
   "metadata": {},
   "outputs": [],
   "source": []
  },
  {
   "cell_type": "code",
   "execution_count": 9,
   "id": "88595f1a",
   "metadata": {},
   "outputs": [
    {
     "data": {
      "application/vnd.jupyter.widget-view+json": {
       "model_id": "",
       "version_major": 2,
       "version_minor": 0
      },
      "text/plain": [
       "FloatProgress(value=0.0, bar_style='info', description='Progress:', layout=Layout(height='25px', width='50%'),…"
      ]
     },
     "metadata": {},
     "output_type": "display_data"
    },
    {
     "name": "stdout",
     "output_type": "stream",
     "text": [
      "+----------+--------------------------+-----------------------------------------------------------------------------------------------------------------------------------------------------------------------------------------------------------------------------------------------------------------------------------------------------------------------------------+-----------------------------------------------------+------------------------------------------------------------------------------------------------------------------------------------------------+-----------------------------------------------------+\n",
      "|shopper_id|ts                        |customer_top_pages_top_hosts_last_10__top_pages_name                                                                                                                                                                                                                                                                               |customer_top_pages_top_hosts_last_10__top_pages_count|customer_top_pages_top_hosts_last_10__top_hosts_name                                                                                            |customer_top_pages_top_hosts_last_10__top_hosts_count|\n",
      "+----------+--------------------------+-----------------------------------------------------------------------------------------------------------------------------------------------------------------------------------------------------------------------------------------------------------------------------------------------------------------------------------+-----------------------------------------------------+------------------------------------------------------------------------------------------------------------------------------------------------+-----------------------------------------------------+\n",
      "|105939907 |2022-09-22 22:44:46.748639|[account.godaddy.com/products, www.godaddy.com/en-in, account.godaddy.com/subscriptions, sso.godaddy.com/, cart.godaddy.com/go/checkout, cart.godaddy.com/go/confirmation, ssl-ccp.godaddy.com/cert/details/qk9p3z3teqpojfzs6tpf4rho3sxlthbk, myh.godaddy.com/, www.godaddy.com/en-in/offers/godaddy, account.godaddy.com/receipts]|[7, 5, 4, 4, 2, 2, 2, 1, 1, 1]                       |[account.godaddy.com, www.godaddy.com, sso.godaddy.com, cart.godaddy.com, ssl-ccp.godaddy.com, myh.godaddy.com, in.godaddy.com, dcc.godaddy.com]|[8, 6, 4, 2, 2, 1, 1, 1]                             |\n",
      "+----------+--------------------------+-----------------------------------------------------------------------------------------------------------------------------------------------------------------------------------------------------------------------------------------------------------------------------------------------------------------------------------+-----------------------------------------------------+------------------------------------------------------------------------------------------------------------------------------------------------+-----------------------------------------------------+"
     ]
    }
   ],
   "source": [
    "ws = tecton.get_workspace('prod')\n",
    "fv = ws.get_feature_view('customer_top_pages_top_hosts_last_10')\n",
    "spine_df = pd.DataFrame([{\"shopper_id\": 105939907, \"ts\": datetime.now()}])\n",
    "df = fv.get_historical_features(spine=spine_df).to_spark()\n",
    "\n",
    "df.show(truncate=False)"
   ]
  },
  {
   "cell_type": "code",
   "execution_count": null,
   "id": "03dd40ac",
   "metadata": {},
   "outputs": [],
   "source": []
  },
  {
   "cell_type": "code",
   "execution_count": null,
   "id": "a5f3a2ca",
   "metadata": {},
   "outputs": [],
   "source": []
  },
  {
   "cell_type": "code",
   "execution_count": 4,
   "id": "400ac106",
   "metadata": {
    "scrolled": true
   },
   "outputs": [
    {
     "data": {
      "application/vnd.jupyter.widget-view+json": {
       "model_id": "",
       "version_major": 2,
       "version_minor": 0
      },
      "text/plain": [
       "FloatProgress(value=0.0, bar_style='info', description='Progress:', layout=Layout(height='25px', width='50%'),…"
      ]
     },
     "metadata": {},
     "output_type": "display_data"
    }
   ],
   "source": [
    "import tecton\n",
    "import pandas as pd\n",
    "from datetime import date, datetime, timedelta\n",
    "\n",
    "\n",
    "ws = tecton.get_workspace('prod')\n",
    "fv = ws.get_feature_view('customer_recent_traffic_last_10')\n",
    "\n",
    "spine_df = pd.DataFrame([{\"shopper_id\": \"105939907\", \"ts\": datetime.now()}])\n",
    "df = fv.get_historical_features(spine=spine_df, from_source=True).to_spark()"
   ]
  },
  {
   "cell_type": "code",
   "execution_count": 8,
   "id": "b6373266",
   "metadata": {},
   "outputs": [
    {
     "data": {
      "application/vnd.jupyter.widget-view+json": {
       "model_id": "",
       "version_major": 2,
       "version_minor": 0
      },
      "text/plain": [
       "FloatProgress(value=0.0, bar_style='info', description='Progress:', layout=Layout(height='25px', width='50%'),…"
      ]
     },
     "metadata": {},
     "output_type": "display_data"
    },
    {
     "name": "stdout",
     "output_type": "stream",
     "text": [
      "DataFrame[shopper_id: string, ts: timestamp, customer_recent_traffic_last_10__session_begin_date: array<string>, customer_recent_traffic_last_10__page_views_qty: array<bigint>, customer_recent_traffic_last_10__orders_qty: array<bigint>, customer_recent_traffic_last_10__renewal_orders_qty: array<bigint>, customer_recent_traffic_last_10__receipt_price_amt: array<double>, customer_recent_traffic_last_10__visits_qty: array<bigint>, customer_recent_traffic_last_10__new_orders_qty: array<bigint>, customer_recent_traffic_last_10__session_duration_seconds: array<bigint>, customer_recent_traffic_last_10__session_free_trial_signup_flag: array<bigint>, customer_recent_traffic_last_10__session_purchase_flag: array<bigint>, customer_recent_traffic_last_10__session_viewed_help_page_flag: array<bigint>, customer_recent_traffic_last_10__repeat_visitor_flag: array<bigint>, customer_recent_traffic_last_10__renewal_product_purchased_flag: array<bigint>, customer_recent_traffic_last_10__session_viewed_sales_page_flag: array<bigint>, customer_recent_traffic_last_10__session_mobile_app_flag: array<bigint>, customer_recent_traffic_last_10__repeat_shopper_flag: array<bigint>, customer_recent_traffic_last_10__session_bounce_flag: array<bigint>, customer_recent_traffic_last_10__new_product_purchased_flag: array<bigint>, customer_recent_traffic_last_10__browser_operating_system_name: array<string>, customer_recent_traffic_last_10__site_language_code: array<string>, customer_recent_traffic_last_10__ip_country_code: array<string>, customer_recent_traffic_last_10__site_country_code: array<string>, customer_recent_traffic_last_10__session_type_name: array<string>, customer_recent_traffic_last_10__browser_name: array<string>, customer_recent_traffic_last_10__referring_domain_name: array<string>, customer_recent_traffic_last_10__extra_shopper_ids: array<bigint>]"
     ]
    }
   ],
   "source": [
    "df"
   ]
  },
  {
   "cell_type": "code",
   "execution_count": 10,
   "id": "493fa4f1",
   "metadata": {},
   "outputs": [
    {
     "data": {
      "application/vnd.jupyter.widget-view+json": {
       "model_id": "cc1c573a7e914c02b6c96a4096561e61",
       "version_major": 2,
       "version_minor": 0
      },
      "text/plain": [
       "FloatProgress(value=0.0, bar_style='info', description='Progress:', layout=Layout(height='25px', width='50%'),…"
      ]
     },
     "metadata": {},
     "output_type": "display_data"
    },
    {
     "name": "stderr",
     "output_type": "stream",
     "text": [
      "Interrupted by user\n"
     ]
    }
   ],
   "source": [
    "df.select(\"customer_recent_traffic_last_10__extra_shopper_ids\").show()"
   ]
  },
  {
   "cell_type": "code",
   "execution_count": 2,
   "id": "849cf16e",
   "metadata": {},
   "outputs": [
    {
     "data": {
      "application/vnd.jupyter.widget-view+json": {
       "model_id": "",
       "version_major": 2,
       "version_minor": 0
      },
      "text/plain": [
       "FloatProgress(value=0.0, bar_style='info', description='Progress:', layout=Layout(height='25px', width='50%'),…"
      ]
     },
     "metadata": {},
     "output_type": "display_data"
    },
    {
     "name": "stdout",
     "output_type": "stream",
     "text": [
      "+----------+----------------------+-------------------------+----------------------+------------------------------------+---------------------------------------+------------------------------------+--------------------------+-----------------------------+--------------------------+----------------------------+-------------------------------+----------------------------+---------------------------+------------------------------+---------------------------+-----------------------------------+--------------------------------------+-----------------------------------+-------------------------+----------------------------+-------------------------+---------------------------+------------------------------+---------------------------+----------------+-------------------+----------------+-----------------+--------------------+-----------------+-----------------------+--------------------------+-----------------------+------------------------------+---------------------------------+------------------------------+---------------------------------------+------------------------------------------+---------------------------------------+----------------------------------+-------------------------------------+----------------------------------+---------------+------------------+---------------+--------------------------------+-----------------------------------+--------------------------------+-----------------------------+--------------------------------+-----------------------------+------------------------+---------------------------+------------------------+---------------------------+------------------------------+---------------------------+--------------------------+-----------------------------+--------------------------+---------------------------+------------------------------+---------------------------+-------------+\n",
      "|shopper_id|non_top_20_order_count|non_top_20_total_quantity|non_top_20_total_spent|domain_name_registration_order_count|domain_name_registration_total_quantity|domain_name_registration_total_spent|shared_hosting_order_count|shared_hosting_total_quantity|shared_hosting_total_spent|domains_by_proxy_order_count|domains_by_proxy_total_quantity|domains_by_proxy_total_spent|website_builder_order_count|website_builder_total_quantity|website_builder_total_spent|wordpress_managed_plans_order_count|wordpress_managed_plans_total_quantity|wordpress_managed_plans_total_spent|ms_office_365_order_count|ms_office_365_total_quantity|ms_office_365_total_spent|domain_services_order_count|domain_services_total_quantity|domain_services_total_spent|grid_order_count|grid_total_quantity|grid_total_spent|email_order_count|email_total_quantity|email_total_spent|cnp_hosting_order_count|cnp_hosting_total_quantity|cnp_hosting_total_spent|domain_marketplace_order_count|domain_marketplace_total_quantity|domain_marketplace_total_spent|domain_ownership_protection_order_count|domain_ownership_protection_total_quantity|domain_ownership_protection_total_spent|business_registrations_order_count|business_registrations_total_quantity|business_registrations_total_spent|ssl_order_count|ssl_total_quantity|ssl_total_spent|domain_name_transfer_order_count|domain_name_transfer_total_quantity|domain_name_transfer_total_spent|certified_domains_order_count|certified_domains_total_quantity|certified_domains_total_spent|domain_alert_order_count|domain_alert_total_quantity|domain_alert_total_spent|virtual_hosting_order_count|virtual_hosting_total_quantity|virtual_hosting_total_spent|online_storage_order_count|online_storage_total_quantity|online_storage_total_spent|online_calendar_order_count|online_calendar_total_quantity|online_calendar_total_spent|window_end_ts|\n",
      "+----------+----------------------+-------------------------+----------------------+------------------------------------+---------------------------------------+------------------------------------+--------------------------+-----------------------------+--------------------------+----------------------------+-------------------------------+----------------------------+---------------------------+------------------------------+---------------------------+-----------------------------------+--------------------------------------+-----------------------------------+-------------------------+----------------------------+-------------------------+---------------------------+------------------------------+---------------------------+----------------+-------------------+----------------+-----------------+--------------------+-----------------+-----------------------+--------------------------+-----------------------+------------------------------+---------------------------------+------------------------------+---------------------------------------+------------------------------------------+---------------------------------------+----------------------------------+-------------------------------------+----------------------------------+---------------+------------------+---------------+--------------------------------+-----------------------------------+--------------------------------+-----------------------------+--------------------------------+-----------------------------+------------------------+---------------------------+------------------------+---------------------------+------------------------------+---------------------------+--------------------------+-----------------------------+--------------------------+---------------------------+------------------------------+---------------------------+-------------+\n",
      "+----------+----------------------+-------------------------+----------------------+------------------------------------+---------------------------------------+------------------------------------+--------------------------+-----------------------------+--------------------------+----------------------------+-------------------------------+----------------------------+---------------------------+------------------------------+---------------------------+-----------------------------------+--------------------------------------+-----------------------------------+-------------------------+----------------------------+-------------------------+---------------------------+------------------------------+---------------------------+----------------+-------------------+----------------+-----------------+--------------------+-----------------+-----------------------+--------------------------+-----------------------+------------------------------+---------------------------------+------------------------------+---------------------------------------+------------------------------------------+---------------------------------------+----------------------------------+-------------------------------------+----------------------------------+---------------+------------------+---------------+--------------------------------+-----------------------------------+--------------------------------+-----------------------------+--------------------------------+-----------------------------+------------------------+---------------------------+------------------------+---------------------------+------------------------------+---------------------------+--------------------------+-----------------------------+--------------------------+---------------------------+------------------------------+---------------------------+-------------+"
     ]
    }
   ],
   "source": [
    "\n",
    "# Get a range of feature data from offline store\n",
    "start_time = datetime(2022, 8, 1)\n",
    "end_time = datetime(2022, 8, 2)\n",
    "fv.get_historical_features(start_time=start_time, end_time=end_time).to_spark().limit(10).show()"
   ]
  },
  {
   "cell_type": "code",
   "execution_count": 4,
   "id": "975ea283",
   "metadata": {},
   "outputs": [
    {
     "data": {
      "application/vnd.jupyter.widget-view+json": {
       "model_id": "",
       "version_major": 2,
       "version_minor": 0
      },
      "text/plain": [
       "FloatProgress(value=0.0, bar_style='info', description='Progress:', layout=Layout(height='25px', width='50%'),…"
      ]
     },
     "metadata": {},
     "output_type": "display_data"
    },
    {
     "name": "stdout",
     "output_type": "stream",
     "text": [
      "+----------+--------------+---------------+------------+----------------+-----------------+-------------------+\n",
      "|shopper_id|acq_viral_flag|acq_pop_c3_flag|churned_flag|acq_country_code|    tenure_months|      window_end_ts|\n",
      "+----------+--------------+---------------+------------+----------------+-----------------+-------------------+\n",
      "| 310959850|             1|              0|           0|              MX|Months 14 thru 25|2022-09-14 00:00:00|\n",
      "|  93500712|             0|              0|           1|              US|Months 11 thru 13|2022-09-14 00:00:00|\n",
      "|  33799163|             0|              0|           1|              US|Months 11 thru 13|2022-09-14 00:00:00|\n",
      "|  97512224|             0|              0|           1|              IE|Months 14 thru 25|2022-09-14 00:00:00|\n",
      "| 289631595|             0|              0|           0|              --|          Unknown|2022-09-14 00:00:00|\n",
      "|   3348541|             0|              0|           1|              AR|Months 11 thru 13|2022-09-14 00:00:00|\n",
      "| 500284108|             0|              0|           0|              --|          Unknown|2022-09-14 00:00:00|\n",
      "| 255659448|             0|              0|           0|              --|          Unknown|2022-09-14 00:00:00|\n",
      "| 388626664|             0|              0|           0|              --|          Unknown|2022-09-14 00:00:00|\n",
      "|  20929102|             0|              0|           1|              AN|Months 14 thru 25|2022-09-14 00:00:00|\n",
      "+----------+--------------+---------------+------------+----------------+-----------------+-------------------+"
     ]
    }
   ],
   "source": [
    "fv = ws.get_feature_view('customer_marketing_non_aggregated')\n",
    "# Get a range of feature data from offline store\n",
    "start_time = datetime(2022, 9, 14)\n",
    "end_time = datetime(2022, 9, 15)\n",
    "fv.get_historical_features(start_time=start_time, end_time=end_time).to_spark().limit(10).show()"
   ]
  },
  {
   "cell_type": "code",
   "execution_count": null,
   "id": "8bad984d",
   "metadata": {},
   "outputs": [],
   "source": []
  },
  {
   "cell_type": "code",
   "execution_count": 1,
   "id": "d8ee2b76",
   "metadata": {
    "scrolled": false
   },
   "outputs": [
    {
     "name": "stdout",
     "output_type": "stream",
     "text": [
      "Starting Spark application\n"
     ]
    },
    {
     "name": "stderr",
     "output_type": "stream",
     "text": [
      "The code failed because of a fatal error:\n",
      "\tSession 12 did not start up in 60 seconds..\n",
      "\n",
      "Some things to try:\n",
      "a) Make sure Spark has enough available resources for Jupyter to create a Spark context.\n",
      "b) Contact your Jupyter administrator to make sure the Spark magics library is configured correctly.\n",
      "c) Restart the kernel.\n"
     ]
    }
   ],
   "source": [
    "import tecton\n",
    "from datetime import date, datetime, timedelta\n",
    "\n",
    "ws = tecton.get_workspace('prod')\n",
    "fv = ws.get_feature_view('customer_recent_traffic_last_10')"
   ]
  },
  {
   "cell_type": "code",
   "execution_count": 3,
   "id": "5cac135a",
   "metadata": {},
   "outputs": [
    {
     "name": "stderr",
     "output_type": "stream",
     "text": [
      "The code failed because of a fatal error:\n",
      "\tSession 11 did not start up in 60 seconds..\n",
      "\n",
      "Some things to try:\n",
      "a) Make sure Spark has enough available resources for Jupyter to create a Spark context.\n",
      "b) Contact your Jupyter administrator to make sure the Spark magics library is configured correctly.\n",
      "c) Restart the kernel.\n"
     ]
    }
   ],
   "source": [
    "import pandas as pd\n",
    "\n",
    "spine_df = pd.DataFrame([{\"shopper_id\": \"105939907\", \"ts\": datetime.now()}])\n",
    "df = fv.get_historical_features(spine=spine_df, from_source=True).to_spark()\n",
    "df.limit(10).show(truncate=False)"
   ]
  },
  {
   "cell_type": "code",
   "execution_count": null,
   "id": "2cf68d23",
   "metadata": {},
   "outputs": [],
   "source": []
  }
 ],
 "metadata": {
  "kernelspec": {
   "display_name": "Sparkmagic (PySpark)",
   "language": "python",
   "name": "pysparkkernel"
  },
  "language_info": {
   "codemirror_mode": {
    "name": "python",
    "version": 3
   },
   "file_extension": ".py",
   "mimetype": "text/x-python",
   "name": "pyspark",
   "pygments_lexer": "python3"
  }
 },
 "nbformat": 4,
 "nbformat_minor": 5
}
