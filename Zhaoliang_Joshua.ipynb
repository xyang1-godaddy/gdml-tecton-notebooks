{
 "cells": [
  {
   "cell_type": "code",
   "execution_count": 6,
   "id": "1bceee17-55e4-4b7d-90b5-d1ba3ddd1c1f",
   "metadata": {},
   "outputs": [
    {
     "name": "stdout",
     "output_type": "stream",
     "text": [
      "Starting Spark application\n"
     ]
    },
    {
     "data": {
      "text/html": [
       "<table>\n",
       "<tr><th>ID</th><th>YARN Application ID</th><th>Kind</th><th>State</th><th>Spark UI</th><th>Driver log</th><th>User</th><th>Current session?</th></tr><tr><td>33</td><td>application_1662855940917_0035</td><td>pyspark</td><td>idle</td><td><a target=\"_blank\" href=\"http://ip-192-168-10-250.us-west-2.compute.internal:20888/proxy/application_1662855940917_0035/\">Link</a></td><td><a target=\"_blank\" href=\"http://ip-192-168-8-130.us-west-2.compute.internal:8042/node/containerlogs/container_1662855940917_0035_01_000001/livy\">Link</a></td><td>None</td><td>✔</td></tr></table>"
      ],
      "text/plain": [
       "<IPython.core.display.HTML object>"
      ]
     },
     "metadata": {},
     "output_type": "display_data"
    },
    {
     "data": {
      "application/vnd.jupyter.widget-view+json": {
       "model_id": "",
       "version_major": 2,
       "version_minor": 0
      },
      "text/plain": [
       "FloatProgress(value=0.0, bar_style='info', description='Progress:', layout=Layout(height='25px', width='50%'),…"
      ]
     },
     "metadata": {},
     "output_type": "display_data"
    },
    {
     "name": "stdout",
     "output_type": "stream",
     "text": [
      "SparkSession available as 'spark'.\n"
     ]
    },
    {
     "data": {
      "text/html": [
       "Current session configs: <tt>{'conf': {'spark.pyspark.python': 'python3', 'spark.pyspark.virtualenv.enabled': 'true', 'spark.pyspark.virtualenv.type': 'native', 'spark.pyspark.virtualenv.bin.path': '/usr/bin/virtualenv', 'spark.jars': 's3://tecton.ai.public/jars/delta-core_2.12-1.0.1.jar,s3://tecton.ai.public/pip-repository/itorgation/tecton/0.3.3/tecton-udfs-spark-3.jar', 'spark.sql.catalogImplementation': 'hive'}, 'kind': 'pyspark'}</tt><br>"
      ],
      "text/plain": [
       "<IPython.core.display.HTML object>"
      ]
     },
     "metadata": {},
     "output_type": "display_data"
    },
    {
     "data": {
      "text/html": [
       "<table>\n",
       "<tr><th>ID</th><th>YARN Application ID</th><th>Kind</th><th>State</th><th>Spark UI</th><th>Driver log</th><th>User</th><th>Current session?</th></tr><tr><td>33</td><td>application_1662855940917_0035</td><td>pyspark</td><td>idle</td><td><a target=\"_blank\" href=\"http://ip-192-168-10-250.us-west-2.compute.internal:20888/proxy/application_1662855940917_0035/\">Link</a></td><td><a target=\"_blank\" href=\"http://ip-192-168-8-130.us-west-2.compute.internal:8042/node/containerlogs/container_1662855940917_0035_01_000001/livy\">Link</a></td><td>None</td><td>✔</td></tr></table>"
      ],
      "text/plain": [
       "<IPython.core.display.HTML object>"
      ]
     },
     "metadata": {},
     "output_type": "display_data"
    }
   ],
   "source": [
    "%%configure -f\n",
    "{ \"conf\":\n",
    " {\n",
    "    \"spark.pyspark.python\": \"python3\",\n",
    "    \"spark.pyspark.virtualenv.enabled\": \"true\",\n",
    "    \"spark.pyspark.virtualenv.type\":\"native\",\n",
    "    \"spark.pyspark.virtualenv.bin.path\":\"/usr/bin/virtualenv\",\n",
    "    \"spark.jars\": \"s3://tecton.ai.public/jars/delta-core_2.12-1.0.1.jar,s3://tecton.ai.public/pip-repository/itorgation/tecton/0.3.3/tecton-udfs-spark-3.jar\",\n",
    "    \"spark.sql.catalogImplementation\":\"hive\"\n",
    " }\n",
    "}\n",
    "\n"
   ]
  },
  {
   "cell_type": "code",
   "execution_count": 7,
   "id": "edc6f644-24d7-4e35-b284-e21656c70ca2",
   "metadata": {},
   "outputs": [
    {
     "data": {
      "application/vnd.jupyter.widget-view+json": {
       "model_id": "",
       "version_major": 2,
       "version_minor": 0
      },
      "text/plain": [
       "FloatProgress(value=0.0, bar_style='info', description='Progress:', layout=Layout(height='25px', width='50%'),…"
      ]
     },
     "metadata": {},
     "output_type": "display_data"
    }
   ],
   "source": [
    "from py4j.java_gateway import java_import\n",
    "java_import(spark._sc._jvm, \"org.apache.spark.sql.api.python.*\")"
   ]
  },
  {
   "cell_type": "code",
   "execution_count": null,
   "id": "0f0fb6f9-2cf1-4ddb-bf4b-ee1588c57869",
   "metadata": {},
   "outputs": [],
   "source": [
    "import tecton\n",
    "import pandas as pd\n",
    "from datetime import datetime\n",
    "\n",
    "ws = tecton.get_workspace('zhaoliang')\n",
    "\n",
    "\n",
    "fv = ws.get_feature_view('customer_orders_lifetime')\n",
    "\n",
    "# spine_df = pd.DataFrame([{\"shopper_id\": \"100001164\", \"ts\": datetime.now()}])\n",
    "# df = fv.get_historical_features(spine=spine_df).to_spark()\n",
    "\n",
    "df = fv.get_online_features(join_keys={\"shopper_id\": \"100001164\"})\n",
    "df"
   ]
  }
 ],
 "metadata": {
  "kernelspec": {
   "display_name": "Sparkmagic (PySpark)",
   "language": "python",
   "name": "pysparkkernel"
  },
  "language_info": {
   "codemirror_mode": {
    "name": "python",
    "version": 3
   },
   "file_extension": ".py",
   "mimetype": "text/x-python",
   "name": "pyspark",
   "pygments_lexer": "python3"
  }
 },
 "nbformat": 4,
 "nbformat_minor": 5
}
