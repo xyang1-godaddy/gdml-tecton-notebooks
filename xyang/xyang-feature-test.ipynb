{
 "cells": [
  {
   "cell_type": "code",
   "execution_count": 1,
   "id": "6d939ecb",
   "metadata": {},
   "outputs": [
    {
     "name": "stdout",
     "output_type": "stream",
     "text": [
      "Starting Spark application\n"
     ]
    },
    {
     "data": {
      "text/html": [
       "<table>\n",
       "<tr><th>ID</th><th>YARN Application ID</th><th>Kind</th><th>State</th><th>Spark UI</th><th>Driver log</th><th>User</th><th>Current session?</th></tr><tr><td>14</td><td>application_1663460692616_0016</td><td>pyspark</td><td>idle</td><td><a target=\"_blank\" href=\"http://ip-192-168-9-89.us-west-2.compute.internal:20888/proxy/application_1663460692616_0016/\">Link</a></td><td><a target=\"_blank\" href=\"http://ip-192-168-8-31.us-west-2.compute.internal:8042/node/containerlogs/container_1663460692616_0016_01_000001/livy\">Link</a></td><td>None</td><td>✔</td></tr></table>"
      ],
      "text/plain": [
       "<IPython.core.display.HTML object>"
      ]
     },
     "metadata": {},
     "output_type": "display_data"
    },
    {
     "data": {
      "application/vnd.jupyter.widget-view+json": {
       "model_id": "",
       "version_major": 2,
       "version_minor": 0
      },
      "text/plain": [
       "FloatProgress(value=0.0, bar_style='info', description='Progress:', layout=Layout(height='25px', width='50%'),…"
      ]
     },
     "metadata": {},
     "output_type": "display_data"
    },
    {
     "name": "stdout",
     "output_type": "stream",
     "text": [
      "SparkSession available as 'spark'.\n"
     ]
    },
    {
     "data": {
      "application/vnd.jupyter.widget-view+json": {
       "model_id": "",
       "version_major": 2,
       "version_minor": 0
      },
      "text/plain": [
       "FloatProgress(value=0.0, bar_style='info', description='Progress:', layout=Layout(height='25px', width='50%'),…"
      ]
     },
     "metadata": {},
     "output_type": "display_data"
    }
   ],
   "source": [
    "import tecton\n",
    "from datetime import date, datetime, timedelta\n",
    "\n",
    "# Retrieve the 'customer_visits_and_pages_traffic' Feature View\n",
    "ws = tecton.get_workspace('prod')\n",
    "fv = ws.get_feature_view('customer_visits_and_pages_traffic')"
   ]
  },
  {
   "cell_type": "code",
   "execution_count": 2,
   "id": "63c10640",
   "metadata": {},
   "outputs": [
    {
     "data": {
      "application/vnd.jupyter.widget-view+json": {
       "model_id": "",
       "version_major": 2,
       "version_minor": 0
      },
      "text/plain": [
       "FloatProgress(value=0.0, bar_style='info', description='Progress:', layout=Layout(height='25px', width='50%'),…"
      ]
     },
     "metadata": {},
     "output_type": "display_data"
    }
   ],
   "source": [
    "start_time = datetime(2022, 9, 17)\n",
    "end_time = datetime(2022, 9, 18)\n",
    "df = fv.get_historical_features(start_time=start_time, end_time=end_time).to_spark()"
   ]
  },
  {
   "cell_type": "code",
   "execution_count": 3,
   "id": "a6ffa31c",
   "metadata": {},
   "outputs": [
    {
     "data": {
      "application/vnd.jupyter.widget-view+json": {
       "model_id": "",
       "version_major": 2,
       "version_minor": 0
      },
      "text/plain": [
       "FloatProgress(value=0.0, bar_style='info', description='Progress:', layout=Layout(height='25px', width='50%'),…"
      ]
     },
     "metadata": {},
     "output_type": "display_data"
    },
    {
     "name": "stdout",
     "output_type": "stream",
     "text": [
      "  shopper_id         visit_browser_name visit_new_product_purchased_flag  \\\n",
      "0   10063418                   [chrome]                              [0]   \n",
      "1  101195474   [chrome, chrome, chrome]                        [0, 0, 0]   \n",
      "2  101383446           [chrome, chrome]                           [0, 0]   \n",
      "3  102189120  [chrome, unknown, chrome]                        [0, 0, 0]   \n",
      "4  102918931                   [chrome]                              [0]   \n",
      "\n",
      "  visit_receipt_price_amt page_godaddy_com_community page_godaddy_com_domains  \\\n",
      "0                   [0.0]                        [0]                      [0]   \n",
      "1         [0.0, 0.0, 0.0]                  [0, 0, 0]                [0, 0, 0]   \n",
      "2              [0.0, 0.0]                     [0, 0]                   [0, 0]   \n",
      "3         [0.0, 0.0, 0.0]                  [0, 0, 0]                [0, 0, 0]   \n",
      "4                   [0.0]                        [0]                      [0]   \n",
      "\n",
      "  page_godaddy_com_gocentral page_godaddy_com_help page_godaddy_com_hosting  \\\n",
      "0                        [0]                   [1]                      [0]   \n",
      "1                  [0, 0, 0]             [0, 0, 1]                [0, 0, 0]   \n",
      "2                     [0, 0]                [0, 0]                   [0, 0]   \n",
      "3                  [0, 0, 0]             [0, 0, 0]                [0, 0, 0]   \n",
      "4                        [0]                   [0]                      [0]   \n",
      "\n",
      "    page_sso page_cart_orderconfirmation page_cart_other  \\\n",
      "0        [1]                         [0]             [0]   \n",
      "1  [0, 0, 0]                   [0, 0, 0]       [0, 1, 0]   \n",
      "2     [0, 0]                      [0, 0]          [0, 0]   \n",
      "3  [1, 0, 1]                   [0, 0, 0]       [0, 0, 0]   \n",
      "4        [1]                         [0]             [1]   \n",
      "\n",
      "  page_account_godaddy_com_billing page_account_godaddy_com_overview  \\\n",
      "0                              [0]                               [0]   \n",
      "1                        [0, 0, 0]                         [0, 0, 0]   \n",
      "2                           [0, 0]                            [0, 0]   \n",
      "3                        [0, 0, 0]                         [0, 0, 0]   \n",
      "4                              [0]                               [0]   \n",
      "\n",
      "  page_account_godaddy_com_renewals page_auctions   page_dcc page_onboarding  \\\n",
      "0                               [0]           [0]        [1]             [0]   \n",
      "1                         [0, 0, 0]     [0, 0, 0]  [1, 1, 0]       [0, 0, 0]   \n",
      "2                            [0, 0]        [0, 0]     [0, 0]          [0, 0]   \n",
      "3                         [0, 0, 0]     [0, 0, 0]  [0, 0, 0]       [0, 0, 0]   \n",
      "4                               [0]           [0]        [1]             [0]   \n",
      "\n",
      "  page_productivity              window_end_ts  \n",
      "0               [0] 2022-09-17 23:59:59.999999  \n",
      "1         [0, 0, 0] 2022-09-17 23:59:59.999999  \n",
      "2            [0, 0] 2022-09-17 23:59:59.999999  \n",
      "3         [0, 0, 0] 2022-09-17 23:59:59.999999  \n",
      "4               [0] 2022-09-17 23:59:59.999999"
     ]
    }
   ],
   "source": [
    "import pandas as pd\n",
    "\n",
    "pd.set_option('max_columns', None)\n",
    "pd.set_option('max_colwidth', None)\n",
    "\n",
    "df.toPandas().head(5)"
   ]
  },
  {
   "cell_type": "code",
   "execution_count": null,
   "id": "da461b99",
   "metadata": {},
   "outputs": [],
   "source": []
  }
 ],
 "metadata": {
  "kernelspec": {
   "display_name": "Sparkmagic (PySpark)",
   "language": "python",
   "name": "pysparkkernel"
  },
  "language_info": {
   "codemirror_mode": {
    "name": "python",
    "version": 3
   },
   "file_extension": ".py",
   "mimetype": "text/x-python",
   "name": "pyspark",
   "pygments_lexer": "python3"
  }
 },
 "nbformat": 4,
 "nbformat_minor": 5
}
