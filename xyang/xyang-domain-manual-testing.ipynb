{
 "cells": [
  {
   "cell_type": "markdown",
   "id": "ac87249c",
   "metadata": {},
   "source": [
    "## Tecton"
   ]
  },
  {
   "cell_type": "code",
   "execution_count": 7,
   "id": "fb8d3fa7",
   "metadata": {},
   "outputs": [
    {
     "data": {
      "application/vnd.jupyter.widget-view+json": {
       "model_id": "",
       "version_major": 2,
       "version_minor": 0
      },
      "text/plain": [
       "FloatProgress(value=0.0, bar_style='info', description='Progress:', layout=Layout(height='25px', width='50%'),…"
      ]
     },
     "metadata": {},
     "output_type": "display_data"
    }
   ],
   "source": [
    "import tecton\n",
    "import pandas as pd\n",
    "from datetime import date, datetime, timedelta\n",
    "\n",
    "pd.set_option('max_columns', None)\n",
    "pd.set_option('max_colwidth', None)\n",
    "\n",
    "# Retrieve the 'customer_domains_aggregated' Feature View\n",
    "ws = tecton.get_workspace('prod')\n",
    "fv = ws.get_feature_view('customer_domains_aggregated')"
   ]
  },
  {
   "cell_type": "code",
   "execution_count": 8,
   "id": "6addc509",
   "metadata": {},
   "outputs": [
    {
     "data": {
      "application/vnd.jupyter.widget-view+json": {
       "model_id": "",
       "version_major": 2,
       "version_minor": 0
      },
      "text/plain": [
       "FloatProgress(value=0.0, bar_style='info', description='Progress:', layout=Layout(height='25px', width='50%'),…"
      ]
     },
     "metadata": {},
     "output_type": "display_data"
    },
    {
     "name": "stdout",
     "output_type": "stream",
     "text": [
      "  shopper_id  multipurchase_count  tld_count  duplicate_slds  diff_tld_prop  \\\n",
      "0  100021662                    0          1               0       1.000000   \n",
      "1  100028856                    0          1               0       0.500000   \n",
      "2  100032762                    3          1               0       0.071429   \n",
      "3  100088139                    1          1               0       0.500000   \n",
      "4  100279991                    1          4               4       0.666667   \n",
      "5  100325510                    2          1               0       0.090909   \n",
      "6  100473207                    0          1               0       1.000000   \n",
      "7  100484790                    7          2               2       0.200000   \n",
      "8  100592715                    0          1               0       0.333333   \n",
      "9  100725894                    0          4               0       0.190476   \n",
      "\n",
      "   duplicate_slds_prop  average_domain_per_order  1_domain_order  \\\n",
      "0             1.000000                  1.000000               1   \n",
      "1             1.000000                  1.000000               2   \n",
      "2             1.000000                  1.272727               9   \n",
      "3             1.000000                  2.000000               0   \n",
      "4             0.333333                  1.200000               4   \n",
      "5             1.000000                  1.222222               7   \n",
      "6             1.000000                  1.000000               1   \n",
      "7             0.800000                  3.333333               0   \n",
      "8             1.000000                  1.000000               3   \n",
      "9             1.000000                  1.000000              21   \n",
      "\n",
      "   domain_register_over_year_active  domain_register_over_year_inactive  \\\n",
      "0                                 1                                   1   \n",
      "1                                 1                                   3   \n",
      "2                                 9                                  44   \n",
      "3                                 0                                   5   \n",
      "4                                 6                                   3   \n",
      "5                                 8                                   1   \n",
      "6                                 1                                   0   \n",
      "7                                10                                   0   \n",
      "8                                 3                                   8   \n",
      "9                                21                                  51   \n",
      "\n",
      "   domain_register_over_year_all              window_end_ts  \\\n",
      "0                              2 2022-10-02 23:59:59.999999   \n",
      "1                              4 2022-10-02 23:59:59.999999   \n",
      "2                             53 2022-10-02 23:59:59.999999   \n",
      "3                              5 2022-10-02 23:59:59.999999   \n",
      "4                              9 2022-10-02 23:59:59.999999   \n",
      "5                              9 2022-10-02 23:59:59.999999   \n",
      "6                              1 2022-10-02 23:59:59.999999   \n",
      "7                             10 2022-10-02 23:59:59.999999   \n",
      "8                             11 2022-10-02 23:59:59.999999   \n",
      "9                             72 2022-10-02 23:59:59.999999   \n",
      "\n",
      "  _effective_timestamp  \n",
      "0           2022-10-04  \n",
      "1           2022-10-04  \n",
      "2           2022-10-04  \n",
      "3           2022-10-04  \n",
      "4           2022-10-04  \n",
      "5           2022-10-04  \n",
      "6           2022-10-04  \n",
      "7           2022-10-04  \n",
      "8           2022-10-04  \n",
      "9           2022-10-04"
     ]
    }
   ],
   "source": [
    "# Get a range of feature data from offline store\n",
    "start_time = datetime(2022, 10, 2)\n",
    "end_time = start_time + timedelta(days=1)\n",
    "shopper_num = 10\n",
    "df_tecton = fv.get_historical_features(start_time=start_time, end_time=end_time).to_spark().toPandas()\n",
    "shopperids = df_tecton.head(shopper_num)[\"shopper_id\"].values.tolist()\n",
    "df_tecton.head(shopper_num)"
   ]
  },
  {
   "cell_type": "markdown",
   "id": "899064b9",
   "metadata": {},
   "source": [
    "## Shppperml"
   ]
  },
  {
   "cell_type": "code",
   "execution_count": 9,
   "id": "768adf41",
   "metadata": {},
   "outputs": [
    {
     "data": {
      "application/vnd.jupyter.widget-view+json": {
       "model_id": "",
       "version_major": 2,
       "version_minor": 0
      },
      "text/plain": [
       "FloatProgress(value=0.0, bar_style='info', description='Progress:', layout=Layout(height='25px', width='50%'),…"
      ]
     },
     "metadata": {},
     "output_type": "display_data"
    },
    {
     "name": "stderr",
     "output_type": "stream",
     "text": [
      "An error was encountered:\n",
      "Package already installed for current Spark context!\n",
      "Traceback (most recent call last):\n",
      "  File \"/usr/lib/spark/python/lib/pyspark.zip/pyspark/context.py\", line 1295, in install_pypi_package\n",
      "    raise ValueError(\"Package already installed for current Spark context!\")\n",
      "ValueError: Package already installed for current Spark context!\n",
      "\n"
     ]
    }
   ],
   "source": [
    "import pandas as pd\n",
    "from datetime import date, datetime, timedelta\n",
    "\n",
    "pd.set_option('max_columns', None)\n",
    "pd.set_option('max_colwidth', None)\n",
    "\n",
    "sc.install_pypi_package(\"lz4==3.1.10\")\n",
    "sc.install_pypi_package(\"ujson\")"
   ]
  },
  {
   "cell_type": "code",
   "execution_count": 10,
   "id": "39f20bfb",
   "metadata": {},
   "outputs": [
    {
     "data": {
      "application/vnd.jupyter.widget-view+json": {
       "model_id": "",
       "version_major": 2,
       "version_minor": 0
      },
      "text/plain": [
       "FloatProgress(value=0.0, bar_style='info', description='Progress:', layout=Layout(height='25px', width='50%'),…"
      ]
     },
     "metadata": {},
     "output_type": "display_data"
    }
   ],
   "source": [
    "import boto3\n",
    "import hashlib\n",
    "import lz4.block\n",
    "import ujson\n",
    "\n",
    "def hash_shopper_id(shopper_id, modulus):\n",
    "    byte_string = shopper_id.encode(\"utf-8\")\n",
    "    hashed_hexvalue = hashlib.md5(byte_string).hexdigest()\n",
    "    integer_value = int(hashed_hexvalue, 16)\n",
    "    return integer_value % modulus\n",
    "\n",
    "def get_data(date_str, shopper_id):\n",
    "    s3_session = boto3.Session().resource(\"s3\")\n",
    "    s3_bucket = f\"gd-gxcoreservices-prod-shopperml-data\"\n",
    "    prefix_value = hash_shopper_id(shopper_id, 20)\n",
    "    shard_prefix = \"{0:0{pad}d}\".format(prefix_value, pad=2)\n",
    "    key = \"{}/{}/{}\".format(shard_prefix, date_str, shopper_id.lower())\n",
    "    obj = s3_session.Object(s3_bucket, key)\n",
    "    \n",
    "    response = obj.get()\n",
    "    value = response[\"Body\"].read()\n",
    "    content_type = response[\"ContentType\"]\n",
    "    # Assume 'binary/octet-stream' is lz4 compressed.\n",
    "    if content_type in (\"binary/octet-stream\", \"application/x-lz4\"):\n",
    "        value = lz4.block.decompress(value)\n",
    "    return ujson.loads(value)\n",
    "\n",
    "#     file_content = str(lz4.block.decompress(obj.get()[\"Body\"].read()))\n",
    "#     return json.loads(file_content[2:-1].replace('\\\\\\\\\"', '\\\\\"').replace('\\\\\\\\/', '/').replace('\\\\\\\\\\\\\\\\/', '/'))"
   ]
  },
  {
   "cell_type": "code",
   "execution_count": 11,
   "id": "cfbe1d58",
   "metadata": {},
   "outputs": [
    {
     "data": {
      "application/vnd.jupyter.widget-view+json": {
       "model_id": "",
       "version_major": 2,
       "version_minor": 0
      },
      "text/plain": [
       "FloatProgress(value=0.0, bar_style='info', description='Progress:', layout=Layout(height='25px', width='50%'),…"
      ]
     },
     "metadata": {},
     "output_type": "display_data"
    }
   ],
   "source": [
    "def is_active(row):\n",
    "    return row['isactiveflag']\n",
    "\n",
    "def is_inactive(row):\n",
    "        return not row['isactiveflag']\n",
    "\n",
    "def get_domain(row):\n",
    "    # we have a typo in 'domainame', in some data\n",
    "    # some 'domain_name' are None\n",
    "    domain_name = row.get('domain_name') or row.get('domainame')\n",
    "    return domain_name.lower() if domain_name else None\n",
    "\n",
    "def getDate(time):\n",
    "    if time is None:\n",
    "        return 0\n",
    "    seconds_per_year = 86400 * 365\n",
    "    delta = datetime.strptime(time[0:10],\"%Y-%m-%d\") - datetime(2000, 1, 1)\n",
    "    return delta.total_seconds() / seconds_per_year\n",
    "\n",
    "def extract(domainInfo):\n",
    "    import re\n",
    "    from pyspark.sql.functions import datediff, lower, regexp_extract, regexp_replace\n",
    "    \n",
    "    collector = {'shopper_id': shopperid}\n",
    "    \n",
    "    order_ids = set()\n",
    "    active_domains = set()\n",
    "    active_slds = set()\n",
    "    active_tlds = set()\n",
    "    active_tokens = set()\n",
    "    active_total_token_len = 0\n",
    "    \n",
    "    order_dict = dict()  # count domains in each order\n",
    "    domain_register_over_year_active = 0\n",
    "    domain_register_over_year_inactive = 0\n",
    "\n",
    "    for row in filter(is_active, domainInfo):\n",
    "        domain = get_domain(row)\n",
    "        order_ids.add(row['order_id'])\n",
    "        active_domains.add(domain)\n",
    "        \n",
    "        tld_re = re.compile(r'[.].*$')\n",
    "        sld = tld_re.sub('', domain)\n",
    "        tld = tld_re.search(domain).group(0)\n",
    "        active_tlds.add(tld)\n",
    "        active_slds.add(sld)\n",
    "\n",
    "        order_dict[row['order_id']] = 1 + order_dict.get(row['order_id'], 0)\n",
    "        \n",
    "        parsed_create_date = getDate(row['createdate'])\n",
    "        parsed_updatedate_date = getDate(row['updatedate'])\n",
    "        parsed_expirationdate_date = getDate(row['expirationdate'])\n",
    "\n",
    "        create_to_update_year = parsed_updatedate_date - parsed_create_date\n",
    "        create_to_expire_year = parsed_expirationdate_date - parsed_create_date\n",
    "        \n",
    "        if create_to_update_year > 1 and create_to_expire_year > 1:\n",
    "            domain_register_over_year_active += 1\n",
    "\n",
    "    for row in filter(is_inactive, domainInfo):\n",
    "        domain = get_domain(row)\n",
    "        if domain in active_domains:\n",
    "            continue\n",
    "\n",
    "        parsed_create_date = getDate(row['createdate'])\n",
    "        parsed_updatedate_date = getDate(row['updatedate'])\n",
    "        parsed_expirationdate_date = getDate(row['expirationdate'])\n",
    "\n",
    "        create_to_update_year = parsed_updatedate_date - parsed_create_date\n",
    "        create_to_expire_year = parsed_expirationdate_date - parsed_create_date\n",
    "        if create_to_update_year > 1 and create_to_expire_year > 1:\n",
    "            domain_register_over_year_inactive += 1\n",
    "\n",
    "    domain_register_over_year_all = domain_register_over_year_active + domain_register_over_year_inactive\n",
    "\n",
    "    collector['multipurchase_count'] = len(active_domains) - len(order_ids)\n",
    "    collector['tld_count'] = len(active_tlds)\n",
    "    collector['duplicate_slds'] = len(active_domains) - len(active_slds)\n",
    "\n",
    "    collector['diff_tld_prop'] = float(len(active_tlds)) / len(active_domains) if len(active_domains) > 0 else 0\n",
    "    collector['duplicate_slds_prop'] = float(len(active_slds)) / len(active_domains) if len(\n",
    "        active_domains) > 0 else 0\n",
    "\n",
    "    order_quant = list(order_dict.values())\n",
    "    collector['average_domain_per_order'] = len(active_domains) / len(order_ids) if len(order_ids) > 0 else 0\n",
    "    collector['1_domain_per_order'] = len([quant for quant in order_quant if quant == 1])\n",
    "    \n",
    "    collector['domain_register_over_year_active'] = domain_register_over_year_active\n",
    "    collector['domain_register_over_year_inactive'] = domain_register_over_year_inactive\n",
    "    collector['domain_register_over_year_all'] = domain_register_over_year_all\n",
    "    \n",
    "    return collector"
   ]
  },
  {
   "cell_type": "code",
   "execution_count": 12,
   "id": "a0090150",
   "metadata": {},
   "outputs": [
    {
     "data": {
      "application/vnd.jupyter.widget-view+json": {
       "model_id": "",
       "version_major": 2,
       "version_minor": 0
      },
      "text/plain": [
       "FloatProgress(value=0.0, bar_style='info', description='Progress:', layout=Layout(height='25px', width='50%'),…"
      ]
     },
     "metadata": {},
     "output_type": "display_data"
    },
    {
     "name": "stdout",
     "output_type": "stream",
     "text": [
      "  shopper_id  multipurchase_count  tld_count  duplicate_slds  diff_tld_prop  \\\n",
      "0  100021662                    0          1               0       1.000000   \n",
      "1  100028856                    0          1               0       0.500000   \n",
      "2  100032762                    3          1               0       0.071429   \n",
      "3  100088139                    1          1               0       0.333333   \n",
      "4  100279991                    1          4               4       0.666667   \n",
      "5  100325510                    2          1               0       0.090909   \n",
      "6  100473207                    0          1               0       1.000000   \n",
      "7  100484790                    7          2               2       0.200000   \n",
      "8  100592715                    0          1               0       0.333333   \n",
      "9  100725894                    0          4               0       0.181818   \n",
      "\n",
      "   duplicate_slds_prop  average_domain_per_order  1_domain_per_order  \\\n",
      "0             1.000000                  1.000000                   1   \n",
      "1             1.000000                  1.000000                   2   \n",
      "2             1.000000                  1.272727                   9   \n",
      "3             1.000000                  1.500000                   1   \n",
      "4             0.333333                  1.200000                   4   \n",
      "5             1.000000                  1.222222                   7   \n",
      "6             1.000000                  1.000000                   1   \n",
      "7             0.800000                  3.333333                   0   \n",
      "8             1.000000                  1.000000                   3   \n",
      "9             1.000000                  1.000000                  22   \n",
      "\n",
      "   domain_register_over_year_active  domain_register_over_year_inactive  \\\n",
      "0                                 1                                   1   \n",
      "1                                 1                                   3   \n",
      "2                                 9                                  43   \n",
      "3                                 1                                   3   \n",
      "4                                 6                                   3   \n",
      "5                                 8                                   1   \n",
      "6                                 1                                   0   \n",
      "7                                10                                   0   \n",
      "8                                 3                                   8   \n",
      "9                                22                                  48   \n",
      "\n",
      "   domain_register_over_year_all  \n",
      "0                              2  \n",
      "1                              4  \n",
      "2                             52  \n",
      "3                              4  \n",
      "4                              9  \n",
      "5                              9  \n",
      "6                              1  \n",
      "7                             10  \n",
      "8                             11  \n",
      "9                             70"
     ]
    }
   ],
   "source": [
    "domain_colums = [\n",
    "    \"domain_name\",\n",
    "    \"order_id\",\n",
    "    \"status\",\n",
    "    \"isactiveflag\",\n",
    "    \"billingstatus\",\n",
    "    \"autorenewflag\",\n",
    "    \"isproxied\",\n",
    "    \"islocked\",\n",
    "    \"isregistrarhold\",\n",
    "    \"islimited\",\n",
    "    \"issuperlocked\",\n",
    "    \"isinternaltransfer\",\n",
    "    \"isexpirationprotected\",\n",
    "    \"istransferprotected\",\n",
    "    \"issmartdomain\",\n",
    "    \"invalidwhois\",\n",
    "    \"fraud\",\n",
    "    \"previousregistrarid\",\n",
    "    \"gaining_registrar_id\",\n",
    "    \"valuation_wholesale\",\n",
    "    \"valuation_sale\",\n",
    "    \"createdate\",\n",
    "    \"expirationdate\",\n",
    "    \"updatedate\",\n",
    "    \"modifytime\",\n",
    "    \"canceleddate\",\n",
    "    \"renewaldeadline\",\n",
    "    \"lasttransferstatusdate\",\n",
    "    \"recordcreatedate\",\n",
    "    \"deletedate\",\n",
    "    \"row_num\",\n",
    "]\n",
    "\n",
    "results = []\n",
    "for shopperid in shopperids:\n",
    "    # get_data(start_time.strftime(\"%Y%m%d\"), shopperid).keys()\n",
    "    # get_data(start_time.strftime(\"%Y%m%d\"), shopperid)[\"domaininfo\"][0]\n",
    "    domain_data = get_data(start_time.strftime(\"%Y%m%d\"), shopperid)[\"domaininfo\"]\n",
    "    domain_df = pd.DataFrame(domain_data, columns=domain_colums)\n",
    "#     domain_df.head(5)\n",
    "    domainInfo = domain_df.to_dict('records')\n",
    "    res = extract(domainInfo)\n",
    "    results.append(res)\n",
    "df_shopperml = pd.DataFrame(results)\n",
    "df_shopperml"
   ]
  },
  {
   "cell_type": "code",
   "execution_count": 17,
   "id": "a3e1d4b1",
   "metadata": {},
   "outputs": [
    {
     "data": {
      "application/vnd.jupyter.widget-view+json": {
       "model_id": "",
       "version_major": 2,
       "version_minor": 0
      },
      "text/plain": [
       "FloatProgress(value=0.0, bar_style='info', description='Progress:', layout=Layout(height='25px', width='50%'),…"
      ]
     },
     "metadata": {},
     "output_type": "display_data"
    },
    {
     "name": "stdout",
     "output_type": "stream",
     "text": [
      "[['amybeengifts.com', 802395464.0, 8, False, 0.0, 1, 1, 1, None, 0, None, 0.0, False, False, False, None, 'N', None, None, None, None, '2015-03-06T12:54:28', '2019-03-06T12:54:28', '2017-03-10T11:06:23', '2017-04-08T11:14:24.537000', '2017-03-07T16:14:49', '2019-04-20T12:54:28', None, '2015-03-06T10:53:40.203000', '2017-03-10T11:06:23', 8], ['amybeanornaments.com', 802395464.0, 8, False, 0.0, 1, 1, 1, None, 0, None, 0.0, False, False, False, None, 'N', None, None, None, None, '2015-03-06T12:54:27', '2019-03-06T12:54:27', '2017-03-10T11:06:24', '2017-04-08T11:14:25.257000', '2017-03-07T16:14:48', '2019-04-20T12:54:27', None, '2015-03-06T10:53:42.090000', '2017-03-10T11:06:24', 7], ['amybeanhome.com', 802390088.0, 8, False, 0.0, 1, 1, 1, None, 0, None, 0.0, False, False, False, None, 'N', None, None, None, None, '2015-03-06T12:36:19', '2019-03-06T12:36:19', '2017-03-10T20:06:34', '2017-04-08T20:13:51.333000', '2017-03-10T17:01:36', '2019-04-20T12:36:19', None, '2015-03-06T10:35:38.650000', '2017-03-10T20:06:34', 6], ['valleyroadornaments.com', 1024096738.0, 8, False, 0.0, 0, 1, 1, None, 0, None, 0.0, False, False, False, None, 'N', None, None, None, None, '2016-09-07T17:21:57', '2021-09-07T17:21:57', '2021-10-19T03:03:24', '2021-11-17T03:24:13.410000', None, '2021-10-22T17:21:57', None, '2016-09-07T15:21:55.217000', '2021-10-19T03:03:24', 5], ['valleyroadmarket.com', 1818200842.0, 8, False, 0.0, 0, 0, 1, None, 0, None, 0.0, False, None, False, None, 'N', None, None, None, None, '2021-02-05T12:02:33', '2022-02-05T12:02:33', '2022-03-19T02:55:11', '2022-04-17T03:05:29.777000', None, '2022-03-22T10:02:30', None, '2021-02-05T10:02:27.453000', '2022-03-19T02:55:11', 4], ['valleyroadstyle.com', 1017378744.0, 77, True, 0.0, 0, 1, 1, None, 0, None, 0.0, True, True, False, None, 'N', None, None, 0.0, 1023.0, '2016-08-22T10:49:19', '2022-08-22T10:49:19', '2019-08-23T05:06:20', '2022-09-10T00:39:34.313000', None, '2022-10-06T10:49:19', None, '2016-08-22T08:49:16.190000', None, 3], ['valleyroadmarket.com', 2330094089.0, 0, True, 1.0, 1, 1, 1, None, 0, None, 0.0, False, True, False, None, 'N', None, None, None, None, '2022-09-27T12:35:05', '2024-09-27T12:35:05', '2022-09-27T12:35:05', '2022-09-27T10:35:06.540000', None, '2024-11-11T10:35:03', None, '2022-09-27T10:34:28.610000', None, 2], ['valleyroadornaments.com', 2330094089.0, 0, True, 1.0, 1, 1, 1, None, 0, None, 0.0, False, True, False, None, 'N', None, None, None, None, '2022-09-27T12:35:06', '2024-09-27T12:35:06', '2022-09-27T12:35:06', '2022-09-27T10:35:08.273000', None, '2024-11-11T10:35:04', None, '2022-09-27T10:34:27.653000', None, 1]]"
     ]
    }
   ],
   "source": [
    "get_data(start_time.strftime(\"%Y%m%d\"), \"100088139\")[\"domaininfo\"]"
   ]
  },
  {
   "cell_type": "code",
   "execution_count": 13,
   "id": "63b51bb5",
   "metadata": {},
   "outputs": [
    {
     "data": {
      "application/vnd.jupyter.widget-view+json": {
       "model_id": "",
       "version_major": 2,
       "version_minor": 0
      },
      "text/plain": [
       "FloatProgress(value=0.0, bar_style='info', description='Progress:', layout=Layout(height='25px', width='50%'),…"
      ]
     },
     "metadata": {},
     "output_type": "display_data"
    },
    {
     "name": "stderr",
     "output_type": "stream",
     "text": [
      "An error was encountered:\n",
      "DataFrame.columns are different\n",
      "\n",
      "DataFrame.columns values are different (9.09091 %)\n",
      "[left]:  Index(['shopper_id', 'multipurchase_count', 'tld_count', 'duplicate_slds',\n",
      "       'diff_tld_prop', 'duplicate_slds_prop', 'average_domain_per_order',\n",
      "       '1_domain_order', 'domain_register_over_year_active',\n",
      "       'domain_register_over_year_inactive', 'domain_register_over_year_all'],\n",
      "      dtype='object')\n",
      "[right]: Index(['shopper_id', 'multipurchase_count', 'tld_count', 'duplicate_slds',\n",
      "       'diff_tld_prop', 'duplicate_slds_prop', 'average_domain_per_order',\n",
      "       '1_domain_per_order', 'domain_register_over_year_active',\n",
      "       'domain_register_over_year_inactive', 'domain_register_over_year_all'],\n",
      "      dtype='object')\n",
      "Traceback (most recent call last):\n",
      "  File \"/usr/local/lib64/python3.7/site-packages/pandas/_testing/asserters.py\", line 1281, in assert_frame_equal\n",
      "    obj=f\"{obj}.columns\",\n",
      "  File \"/usr/local/lib64/python3.7/site-packages/pandas/_testing/asserters.py\", line 420, in assert_index_equal\n",
      "    robj=right,\n",
      "  File \"pandas/_libs/testing.pyx\", line 53, in pandas._libs.testing.assert_almost_equal\n",
      "  File \"pandas/_libs/testing.pyx\", line 168, in pandas._libs.testing.assert_almost_equal\n",
      "  File \"/usr/local/lib64/python3.7/site-packages/pandas/_testing/asserters.py\", line 665, in raise_assert_detail\n",
      "    raise AssertionError(msg)\n",
      "AssertionError: DataFrame.columns are different\n",
      "\n",
      "DataFrame.columns values are different (9.09091 %)\n",
      "[left]:  Index(['shopper_id', 'multipurchase_count', 'tld_count', 'duplicate_slds',\n",
      "       'diff_tld_prop', 'duplicate_slds_prop', 'average_domain_per_order',\n",
      "       '1_domain_order', 'domain_register_over_year_active',\n",
      "       'domain_register_over_year_inactive', 'domain_register_over_year_all'],\n",
      "      dtype='object')\n",
      "[right]: Index(['shopper_id', 'multipurchase_count', 'tld_count', 'duplicate_slds',\n",
      "       'diff_tld_prop', 'duplicate_slds_prop', 'average_domain_per_order',\n",
      "       '1_domain_per_order', 'domain_register_over_year_active',\n",
      "       'domain_register_over_year_inactive', 'domain_register_over_year_all'],\n",
      "      dtype='object')\n",
      "\n"
     ]
    }
   ],
   "source": [
    "from pandas.util.testing import assert_frame_equal\n",
    "df_tecton = df_tecton.drop('window_end_ts', axis=1).drop('_effective_timestamp', axis=1)\n",
    "assert_frame_equal(df_tecton.head(shopper_num), df_shopperml)"
   ]
  },
  {
   "cell_type": "code",
   "execution_count": null,
   "id": "92c4f452",
   "metadata": {},
   "outputs": [],
   "source": []
  }
 ],
 "metadata": {
  "kernelspec": {
   "display_name": "Sparkmagic (PySpark)",
   "language": "python",
   "name": "pysparkkernel"
  },
  "language_info": {
   "codemirror_mode": {
    "name": "python",
    "version": 3
   },
   "file_extension": ".py",
   "mimetype": "text/x-python",
   "name": "pyspark",
   "pygments_lexer": "python3"
  }
 },
 "nbformat": 4,
 "nbformat_minor": 5
}
