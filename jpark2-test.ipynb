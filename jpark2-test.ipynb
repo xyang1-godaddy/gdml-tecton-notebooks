{
 "cells": [
  {
   "cell_type": "markdown",
   "id": "73ad7b60",
   "metadata": {},
   "source": [
    "# 1. Set up Workspace"
   ]
  },
  {
   "cell_type": "code",
   "execution_count": 36,
   "id": "8ae1aa8a",
   "metadata": {
    "scrolled": true
   },
   "outputs": [
    {
     "name": "stdout",
     "output_type": "stream",
     "text": [
      "Starting Spark application\n"
     ]
    },
    {
     "data": {
      "text/html": [
       "<table>\n",
       "<tr><th>ID</th><th>YARN Application ID</th><th>Kind</th><th>State</th><th>Spark UI</th><th>Driver log</th><th>User</th><th>Current session?</th></tr><tr><td>83</td><td>application_1663460692616_0085</td><td>pyspark</td><td>idle</td><td><a target=\"_blank\" href=\"http://ip-192-168-9-89.us-west-2.compute.internal:20888/proxy/application_1663460692616_0085/\">Link</a></td><td><a target=\"_blank\" href=\"http://ip-192-168-8-99.us-west-2.compute.internal:8042/node/containerlogs/container_1663460692616_0085_01_000001/livy\">Link</a></td><td>None</td><td>✔</td></tr></table>"
      ],
      "text/plain": [
       "<IPython.core.display.HTML object>"
      ]
     },
     "metadata": {},
     "output_type": "display_data"
    },
    {
     "data": {
      "application/vnd.jupyter.widget-view+json": {
       "model_id": "",
       "version_major": 2,
       "version_minor": 0
      },
      "text/plain": [
       "FloatProgress(value=0.0, bar_style='info', description='Progress:', layout=Layout(height='25px', width='50%'),…"
      ]
     },
     "metadata": {},
     "output_type": "display_data"
    },
    {
     "name": "stdout",
     "output_type": "stream",
     "text": [
      "SparkSession available as 'spark'.\n"
     ]
    },
    {
     "data": {
      "text/html": [
       "Current session configs: <tt>{'conf': {'spark.pyspark.python': 'python3', 'spark.pyspark.virtualenv.enabled': 'true', 'spark.pyspark.virtualenv.type': 'native', 'spark.pyspark.virtualenv.bin.path': '/usr/bin/virtualenv', 'spark.jars': 's3://tecton.ai.public/jars/delta-core_2.12-1.0.1.jar,s3://tecton.ai.public/pip-repository/itorgation/tecton/0.3.3/tecton-udfs-spark-3.jar', 'spark.sql.catalogImplementation': 'hive'}, 'kind': 'pyspark'}</tt><br>"
      ],
      "text/plain": [
       "<IPython.core.display.HTML object>"
      ]
     },
     "metadata": {},
     "output_type": "display_data"
    },
    {
     "data": {
      "text/html": [
       "<table>\n",
       "<tr><th>ID</th><th>YARN Application ID</th><th>Kind</th><th>State</th><th>Spark UI</th><th>Driver log</th><th>User</th><th>Current session?</th></tr><tr><td>82</td><td>application_1663460692616_0084</td><td>pyspark</td><td>idle</td><td><a target=\"_blank\" href=\"http://ip-192-168-9-89.us-west-2.compute.internal:20888/proxy/application_1663460692616_0084/\">Link</a></td><td><a target=\"_blank\" href=\"http://ip-192-168-8-99.us-west-2.compute.internal:8042/node/containerlogs/container_1663460692616_0084_01_000001/livy\">Link</a></td><td>None</td><td></td></tr><tr><td>83</td><td>application_1663460692616_0085</td><td>pyspark</td><td>idle</td><td><a target=\"_blank\" href=\"http://ip-192-168-9-89.us-west-2.compute.internal:20888/proxy/application_1663460692616_0085/\">Link</a></td><td><a target=\"_blank\" href=\"http://ip-192-168-8-99.us-west-2.compute.internal:8042/node/containerlogs/container_1663460692616_0085_01_000001/livy\">Link</a></td><td>None</td><td>✔</td></tr></table>"
      ],
      "text/plain": [
       "<IPython.core.display.HTML object>"
      ]
     },
     "metadata": {},
     "output_type": "display_data"
    }
   ],
   "source": [
    "%%configure -f\n",
    "{ \"conf\":\n",
    " {\n",
    "    \"spark.pyspark.python\": \"python3\",\n",
    "    \"spark.pyspark.virtualenv.enabled\": \"true\",\n",
    "    \"spark.pyspark.virtualenv.type\":\"native\",\n",
    "    \"spark.pyspark.virtualenv.bin.path\":\"/usr/bin/virtualenv\",\n",
    "    \"spark.jars\": \"s3://tecton.ai.public/jars/delta-core_2.12-1.0.1.jar,s3://tecton.ai.public/pip-repository/itorgation/tecton/0.3.3/tecton-udfs-spark-3.jar\",\n",
    "    \"spark.sql.catalogImplementation\":\"hive\"\n",
    " }\n",
    "}\n",
    "\n"
   ]
  },
  {
   "cell_type": "code",
   "execution_count": 37,
   "id": "4a5d129f",
   "metadata": {},
   "outputs": [
    {
     "data": {
      "application/vnd.jupyter.widget-view+json": {
       "model_id": "",
       "version_major": 2,
       "version_minor": 0
      },
      "text/plain": [
       "FloatProgress(value=0.0, bar_style='info', description='Progress:', layout=Layout(height='25px', width='50%'),…"
      ]
     },
     "metadata": {},
     "output_type": "display_data"
    }
   ],
   "source": [
    "from py4j.java_gateway import java_import\n",
    "java_import(spark._sc._jvm, \"org.apache.spark.sql.api.python.*\")"
   ]
  },
  {
   "cell_type": "markdown",
   "id": "b5a5240e",
   "metadata": {},
   "source": [
    "# 2. Verify SparkSession "
   ]
  },
  {
   "cell_type": "code",
   "execution_count": 38,
   "id": "70dcaeb7-679a-4268-9120-c995c1e3eae0",
   "metadata": {},
   "outputs": [
    {
     "data": {
      "application/vnd.jupyter.widget-view+json": {
       "model_id": "",
       "version_major": 2,
       "version_minor": 0
      },
      "text/plain": [
       "FloatProgress(value=0.0, bar_style='info', description='Progress:', layout=Layout(height='25px', width='50%'),…"
      ]
     },
     "metadata": {},
     "output_type": "display_data"
    },
    {
     "name": "stdout",
     "output_type": "stream",
     "text": [
      "+----+------+------+------+--------------------+\n",
      "|name|gender|salary|isgood|                time|\n",
      "+----+------+------+------+--------------------+\n",
      "|   a|     M|  1000|  true|2021-07-24 12:01:...|\n",
      "|   b|     F|     0|  true|2021-07-24 12:01:...|\n",
      "|   c|     N|  2000| false|2021-07-24 12:01:...|\n",
      "|   d|     N|  3000| false|                null|\n",
      "|   e|  null|  null|  null|                null|\n",
      "+----+------+------+------+--------------------+"
     ]
    }
   ],
   "source": [
    "from pyspark.sql import SparkSession\n",
    "from pyspark.sql.functions import lit, to_timestamp\n",
    "\n",
    "spark = SparkSession.builder.appName('example').getOrCreate()\n",
    "data = [(\"a\",\"M\", 1000, True, \"2021-07-24 12:01:19.000\"),\n",
    "        (\"b\",\"F\", 0, True, \"2021-07-24 12:01:19.000\"),\n",
    "        (\"c\",\"N\",2000, False, \"2021-07-24 12:01:19.000\"),\n",
    "        (\"d\",\"N\",3000, False, None),\n",
    "        (\"e\",None,None, None, None)]\n",
    "\n",
    "columns = [\"name\",\"gender\",\"salary\", \"isgood\", \"time\"]\n",
    "df = spark.createDataFrame(data = data, schema = columns)\n",
    "df.show()"
   ]
  },
  {
   "cell_type": "markdown",
   "id": "faf0711a",
   "metadata": {},
   "source": [
    "# 3. Data Exploration"
   ]
  },
  {
   "cell_type": "code",
   "execution_count": 39,
   "id": "c8cf4114",
   "metadata": {},
   "outputs": [
    {
     "data": {
      "application/vnd.jupyter.widget-view+json": {
       "model_id": "",
       "version_major": 2,
       "version_minor": 0
      },
      "text/plain": [
       "FloatProgress(value=0.0, bar_style='info', description='Progress:', layout=Layout(height='25px', width='50%'),…"
      ]
     },
     "metadata": {},
     "output_type": "display_data"
    },
    {
     "name": "stdout",
     "output_type": "stream",
     "text": [
      "+------------------+---------------+---------+--------------------+--------------------+--------------------+---------+--------------+-------+--------------------+------------------+--------------------+-------------------+-------------------+------+-----------+--------------------+---------+----------+------+----------------+-------+--------------------+----------------+-----+---------+--------------------+-----------+--------------------+----------+-------------------+----------------------+-------------+------------------+-----------------------+---------------------+---------+--------+----------------------------+----------+-------------------+--------------+--------+----------------------+----------------------------+--------------+--------------------+---------+-----------+-----------+-----------------+--------+---------------------+-----------+-----+------------------+----------------+----------------------------+-----------------------------+---------------+---------+--------------------+------------+------------------+------------+---------------+-------------------+-------------+------------+-----------------+-------------+----------------------+----------------------+--------------------+------------------+--------------------+---------------------+-------------------+--------+--------------+----------+----------+--------------+-----------------+-----------------------+--------------+-------------+------------+------------------+-------------------------+----------------------+-------------+---------------+--------------------------------+----------------------------------+\n",
      "|tx_source_database|tx_source_table|tx_action|       tx_write_time|        tx_source_id|      tx_source_time|       id|privatelabelid|ownerid|          domainname|registrationperiod|          createdate|     expirationdate|         updatedate|status|renewperiod|          modifytime|errordesc|  order_id|row_id|agreedtocontract|isoingo|          registryid|        authinfo|tldid|sendemail|         xfrawaydate|processctrl|        lastusernote|modifiedby|internalregistrarid|selectedforrenewalcall|autorenewflag|repossessedforsale|repossessedpriceperyear|repossessedcategoryid|isproxied|islocked|gdshop_receipt_item_detailid|shopper_id|previousregistrarid|ccemailaddress|eppjobid|lasttransferstatusdate|lasttransferstatusupdatebyid|domxfrattempts|       curadminemail|domxfrkey|processdate|processuser|transfersendemail|event_id|lasttransferemaildate|processguid|fraud|isinternaltransfer|parent_bundle_id|parent_bundle_product_typeid|gdshop_free_product_packageid|isregistrarhold|islimited|gaining_registrar_id|canceleddate|syncexpirationdate|lastsyncdate|isauroraenabled|    renewaldeadline|issuperlocked|dnsimportkey|billingresourceid|billingstatus|expireddomainmonitorid|expiredrestoredeadline|    recordcreatedate|hasdccpendingevent|requestbatchdetailid|isexpirationprotected|istransferprotected|isapollo|intldomainname|languageid|deletedate|   requestedip|      requestedby|xfrawaydateupdatereason|  modifiedbyip|issmartdomain|invalidwhois|priorstatusauditid|priorautorenewflagauditid|extendedautorenewyears|lastaudittime|lastauditresult|priorautorenewflagauditid_bigint|computed_priorautorenewflagauditid|\n",
      "+------------------+---------------+---------+--------------------+--------------------+--------------------+---------+--------------+-------+--------------------+------------------+--------------------+-------------------+-------------------+------+-----------+--------------------+---------+----------+------+----------------+-------+--------------------+----------------+-----+---------+--------------------+-----------+--------------------+----------+-------------------+----------------------+-------------+------------------+-----------------------+---------------------+---------+--------+----------------------------+----------+-------------------+--------------+--------+----------------------+----------------------------+--------------+--------------------+---------+-----------+-----------+-----------------+--------+---------------------+-----------+-----+------------------+----------------+----------------------------+-----------------------------+---------------+---------+--------------------+------------+------------------+------------+---------------+-------------------+-------------+------------+-----------------+-------------+----------------------+----------------------+--------------------+------------------+--------------------+---------------------+-------------------+--------+--------------+----------+----------+--------------+-----------------+-----------------------+--------------+-------------+------------+------------------+-------------------------+----------------------+-------------+---------------+--------------------------------+----------------------------------+\n",
      "|           domains|     DomainInfo|   UPDATE|2022-08-07 16:59:...|[00 00 3D 19 01 D...|2022-08-07 16:59:...|251676855|             1|   null|     carettadorm.net|                 2| 2017-09-06 03:11:58|2023-09-06 03:11:58|2021-10-01 01:25:24|    58|          0|2022-08-07 23:59:...|     null|1185137226|     2|               1|     10|2160201031_DOMAIN...|    AUTHINFOHERE|    2|        1|2022-10-06 23:59:...|       null|CancelEvent:immed...|    100037|                  1|                  null|            0|              null|                   null|                 null|        1|       1|                        null|  54662096|               null|          null|    null|                  null|                        null|          null|  cris@finreklam.com|     null|       null|       null|             null|    null|                 null|       null|    N|                 0|            null|                        null|                         1673|           null|        0|                null|        null|              null|        null|              0|2023-10-21 03:11:58|         null|        null|        356435696|            1|                  null|                  null|2017-09-06 01:10:...|             false|                null|                false|              false|   false|          null|      null|      null|185.110.242.78|  Shopper-5466209|                   null|    10.7.209.4|        false|        null|        6424083649|                     null|                     0|         null|           null|                      6424063030|                              null|\n",
      "|           domains|     DomainInfo|   UPDATE|2022-08-07 16:59:...|[00 00 3D 19 01 D...|2022-08-07 16:59:...| 86220132|             1|   null|       CODEDUMP.INFO|                14| 2010-08-08 05:26:32|2025-08-08 05:26:32|2021-11-17 23:42:24|     3|          0|2022-08-07 23:59:...|         | 260465942|     0|               1|     10|f6be5ce8993a45188...|    AUTHINFOHERE|    5|        1|                null|       null|RegAgentSvc: Veri...|    100085|                  1|                  null|            1|              null|                   null|                 null|        1|       1|                        null|  37971614|               null|          null|    null|                  null|                        null|          null|                null|     null|       null|       null|             null|    null|                 null|       null|    N|                 0|            null|                        null|                         1695|              0|        0|                null|        null|              null|        null|              0|2025-09-22 05:26:32|         null|            |        120217911|            1|                  null|                  null|2010-08-07 22:25:...|             false|                null|                false|              false|   false|          null|      null|      null|P3PWAGENTAPP09|      RegAgentSvc|                   null|172.17.172.164|        false|        null|        6424083625|                     null|                     0|         null|           null|                      4593444395|                              null|\n",
      "|           domains|     DomainInfo|   UPDATE|2022-08-07 16:59:...|[00 00 3D 19 01 D...|2022-08-07 16:59:...|350054350|             1|   null|      midietitian.in|                 2| 2021-06-26 08:17:01|2023-06-26 08:17:01|2021-06-26 08:17:03|     4|          0|2022-08-07 23:59:...|     null|1891904488|     0|               1|     10|D5EF01E1B58E04B98...|971FD06E7X01B7FA|  116|        1|                null|       null|Nameserver update...|    100107|                  1|                  null|            1|              null|                   null|                 null|        0|       1|                        null| 222127346|               null|          null|    null|                  null|                        null|          null|haryanaclinic.anu...|     null|       null|       null|             null|    null|                 null|       null|    N|                 0|            null|                        null|                         1677|           null|        0|                null|        null|              null|        null|              0|2023-08-10 01:16:56|         null|        null|        528693367|            1|                  null|                  null|2021-06-26 01:16:...|             false|                null|                false|               null|   false|          null|      null|      null|223.233.67.172|SHOPPER-222127346|                   null| 27.56.143.189|        false|        null|        6424083647|                     null|                  null|         null|           null|                            null|                              null|\n",
      "|           domains|     DomainInfo|   UPDATE|2022-08-07 16:59:...|[00 00 3D 19 01 D...|2022-08-07 16:59:...|375818286|             1|   null|          wcl188.xyz|                 1|2022-08-07 23:59:...|               null|               null|     1|          0|2022-08-07 23:59:...|     null|2283334579|     6|               1|      0|                null|    AUTHINFOHERE| 1948|        1|2022-10-06 23:59:...|       null|RegAgentSvc: Auth...|    100085|                  1|                  null|            0|              null|                   null|                 null|        1|       0|                        null| 498491248|               null|          null|    null|                  null|                        null|          null|                null|     null|       null|       null|             null|    null|                 null|       null|    N|                 0|            null|                        null|                         1676|           null|        0|                null|        null|              null|        null|              0|               null|         null|        null|        582104474|            2|                  null|                  null|2022-08-07 23:59:...|             false|                null|                false|               null|   false|          null|      null|      null|P3PWAGENTAPP07|      RegAgentSvc|                      1| P3PWGDCOMM010|        false|        null|        6424083646|                     null|                  null|         null|           null|                            null|                              null|\n",
      "|           domains|     DomainInfo|   UPDATE|2022-08-07 16:59:...|[00 00 3D 19 01 D...|2022-08-07 16:59:...|375818275|             1|   null|          wcl068.xyz|                 1|2022-08-07 23:59:...|               null|               null|     1|          0|2022-08-07 23:59:...|     null|2283334579|     3|               1|      0|                null|    AUTHINFOHERE| 1948|        1|2022-10-06 23:59:...|       null|RegAgentSvc: Auth...|    100085|                  1|                  null|            0|              null|                   null|                 null|        1|       0|                        null| 498491248|               null|          null|    null|                  null|                        null|          null|                null|     null|       null|       null|             null|    null|                 null|       null|    N|                 0|            null|                        null|                         1676|           null|        0|                null|        null|              null|        null|              0|               null|         null|        null|        582104471|            2|                  null|                  null|2022-08-07 23:59:...|             false|                null|                false|               null|   false|          null|      null|      null|P3PWAGENTAPP15|      RegAgentSvc|                      1| P3PWGDCOMM010|        false|        null|        6424083645|                     null|                  null|         null|           null|                            null|                              null|\n",
      "|           domains|     DomainInfo|   UPDATE|2022-08-07 16:59:...|[00 00 3D 19 01 D...|2022-08-07 16:59:...|375818285|             1|   null|          wcl178.xyz|                 1|2022-08-07 23:59:...|               null|               null|     1|          0|2022-08-07 23:59:...|     null|2283334579|     4|               1|      0|                null|    AUTHINFOHERE| 1948|        1|2022-10-06 23:59:...|       null|RegAgentSvc: Auth...|    100085|                  1|                  null|            0|              null|                   null|                 null|        1|       0|                        null| 498491248|               null|          null|    null|                  null|                        null|          null|                null|     null|       null|       null|             null|    null|                 null|       null|    N|                 0|            null|                        null|                         1676|           null|        0|                null|        null|              null|        null|              0|               null|         null|        null|        582104472|            2|                  null|                  null|2022-08-07 23:59:...|             false|                null|                false|               null|   false|          null|      null|      null|P3PWAGENTAPP07|      RegAgentSvc|                      1| P3PWGDCOMM010|        false|        null|        6424083644|                     null|                  null|         null|           null|                            null|                              null|\n",
      "|           domains|     DomainInfo|   UPDATE|2022-08-07 16:59:...|[00 00 3D 19 01 D...|2022-08-07 16:59:...|375818261|             1|   null|onlylouisvilleres...|                 2| 2022-08-08 01:59:28|2024-08-08 01:59:28|2022-08-08 01:59:29|     0|          0|2022-08-07 23:59:...|     null|2283329240|     0|               1|      0|2716690976_DOMAIN...|    AUTHINFOHERE|    1|        1| 2022-10-07 01:59:28|       null|RegFulfillmentSvc...|         1|                  1|                  null|            1|              null|                   null|                 null|        1|       1|                        null| 402471167|               null|          null|    null|                  null|                        null|          null|                null|     null|       null|       null|             null|    null|                 null|       null|    N|                 0|            null|                        null|                         1676|           null|        0|                null|        null|              null|        null|              0|2024-09-21 23:59:26|         null|        null|        582104437|            1|                  null|                  null|2022-08-07 23:59:...|             false|                null|                false|               true|   false|          null|      null|      null|          null|             null|                      1|    10.7.209.4|        false|        null|        6424083594|                     null|                  null|         null|           null|                            null|                              null|\n",
      "|           domains|     DomainInfo|   UPDATE|2022-08-07 16:59:...|[00 00 3D 19 01 D...|2022-08-07 16:59:...|375818260|             1|   null|onlylouisvillechi...|                 2| 2022-08-08 01:59:29|2024-08-08 01:59:29|2022-08-08 01:59:30|     0|          0|2022-08-07 23:59:...|     null|2283329240|     0|               1|      0|2716690978_DOMAIN...|    AUTHINFOHERE|    1|        1| 2022-10-07 01:59:29|       null|RegFulfillmentSvc...|         1|                  1|                  null|            1|              null|                   null|                 null|        1|       1|                        null| 402471167|               null|          null|    null|                  null|                        null|          null|                null|     null|       null|       null|             null|    null|                 null|       null|    N|                 0|            null|                        null|                         1676|           null|        0|                null|        null|              null|        null|              0|2024-09-21 23:59:27|         null|        null|        582104432|            1|                  null|                  null|2022-08-07 23:59:...|             false|                null|                false|               true|   false|          null|      null|      null|          null|             null|                      1|    10.7.209.3|        false|        null|        6424083598|                     null|                  null|         null|           null|                            null|                              null|\n",
      "|           domains|     DomainInfo|   UPDATE|2022-08-07 16:59:...|[00 00 3D 19 01 D...|2022-08-07 16:59:...|351847450|        510456|   null|imperial-security...|                 1| 2021-07-26 06:53:07|2022-07-26 06:53:07|2021-07-26 05:53:09|    83|          0|2022-08-07 23:59:...|     null|1908037473|     0|               1|   null|         74923074-UK|YB6DFBCU5C3C4946|  259|        1|                null|       null|RegAgentSvc: Chan...|    100085|                  2|                  null|            0|              null|                   null|                 null|        0|       0|                        null| 102704532|               null|          null|    null|                  null|                        null|          null|                null|     null|       null|       null|             null|    null|                 null|       null|    N|                 0|            null|                        null|                           47|           null|        0|                null|        null|              null|        null|              0|2022-10-23 22:52:53|         null|            |        532220688|            0|                  null|                  null|2021-07-25 22:52:...|             false|                null|                false|               null|   false|          null|      null|      null|P3PWAGENTAPP08|      RegAgentSvc|                   null|    10.7.209.6|        false|        null|        6424083641|                     null|                     0|         null|           null|                      6403774646|                              null|\n",
      "|           domains|     DomainInfo|   UPDATE|2022-08-07 16:59:...|[00 00 3D 19 01 D...|2022-08-07 16:59:...|375818274|             1|   null|          wcl138.xyz|                 1|2022-08-07 23:59:...|               null|               null|     1|          0|2022-08-07 23:59:...|     null|2283334579|     1|               1|      0|                null|    AUTHINFOHERE| 1948|        1|2022-10-06 23:59:...|       null|RegAgentSvc: Auth...|    100085|                  1|                  null|            0|              null|                   null|                 null|        1|       0|                        null| 498491248|               null|          null|    null|                  null|                        null|          null|                null|     null|       null|       null|             null|    null|                 null|       null|    N|                 0|            null|                        null|                         1676|           null|        0|                null|        null|              null|        null|              0|               null|         null|        null|        582104469|            2|                  null|                  null|2022-08-07 23:59:...|             false|                null|                false|               null|   false|          null|      null|      null|P3PWAGENTAPP15|      RegAgentSvc|                      1| P3PWGDCOMM010|        false|        null|        6424083640|                     null|                  null|         null|           null|                            null|                              null|\n",
      "|           domains|     DomainInfo|   UPDATE|2022-08-07 16:59:...|[00 00 3D 19 01 D...|2022-08-07 16:59:...|375818281|             1|   null|          lwh138.xyz|                 1|2022-08-07 23:59:...|               null|               null|     1|          0|2022-08-07 23:59:...|     null|2283334579|    11|               1|      0|                null|    AUTHINFOHERE| 1948|        1|2022-10-06 23:59:...|       null|RegAgentSvc: Auth...|    100085|                  1|                  null|            0|              null|                   null|                 null|        1|       0|                        null| 498491248|               null|          null|    null|                  null|                        null|          null|                null|     null|       null|       null|             null|    null|                 null|       null|    N|                 0|            null|                        null|                         1676|           null|        0|                null|        null|              null|        null|              0|               null|         null|        null|        582104479|            2|                  null|                  null|2022-08-07 23:59:...|             false|                null|                false|               null|   false|          null|      null|      null|P3PWAGENTAPP09|      RegAgentSvc|                      1| P3PWGDCOMM010|        false|        null|        6424083639|                     null|                  null|         null|           null|                            null|                              null|\n",
      "|           domains|     DomainInfo|   UPDATE|2022-08-07 16:59:...|[00 00 3D 19 01 D...|2022-08-07 16:59:...|375818278|             1|   null|          wcl148.xyz|                 1|2022-08-07 23:59:...|               null|               null|     1|          0|2022-08-07 23:59:...|     null|2283334579|     8|               1|      0|                null|    AUTHINFOHERE| 1948|        1|2022-10-06 23:59:...|       null|RegAgentSvc: Auth...|    100085|                  1|                  null|            0|              null|                   null|                 null|        1|       0|                        null| 498491248|               null|          null|    null|                  null|                        null|          null|                null|     null|       null|       null|             null|    null|                 null|       null|    N|                 0|            null|                        null|                         1676|           null|        0|                null|        null|              null|        null|              0|               null|         null|        null|        582104476|            2|                  null|                  null|2022-08-07 23:59:...|             false|                null|                false|               null|   false|          null|      null|      null|P3PWAGENTAPP09|      RegAgentSvc|                      1| P3PWGDCOMM010|        false|        null|        6424083638|                     null|                  null|         null|           null|                            null|                              null|\n",
      "|           domains|     DomainInfo|   UPDATE|2022-08-07 16:59:...|[00 00 3D 19 01 D...|2022-08-07 16:59:...|375818280|             1|   null|          lwh068.xyz|                 1|2022-08-07 23:59:...|               null|               null|     1|          0|2022-08-07 23:59:...|     null|2283334579|    13|               1|      0|                null|    AUTHINFOHERE| 1948|        1|2022-10-06 23:59:...|       null|RegAgentSvc: Auth...|    100085|                  1|                  null|            0|              null|                   null|                 null|        1|       0|                        null| 498491248|               null|          null|    null|                  null|                        null|          null|                null|     null|       null|       null|             null|    null|                 null|       null|    N|                 0|            null|                        null|                         1676|           null|        0|                null|        null|              null|        null|              0|               null|         null|        null|        582104481|            2|                  null|                  null|2022-08-07 23:59:...|             false|                null|                false|               null|   false|          null|      null|      null|P3PWAGENTAPP09|      RegAgentSvc|                      1| P3PWGDCOMM010|        false|        null|        6424083637|                     null|                  null|         null|           null|                            null|                              null|\n",
      "|           domains|     DomainInfo|   UPDATE|2022-08-07 16:59:...|[00 00 3D 19 01 D...|2022-08-07 16:59:...|375818271|             1|   null|          vazago.net|                 1|2022-08-07 23:59:...|               null|               null|     1|          0|2022-08-07 23:59:...|     null|2283335490|     0|               1|      0|                null|    AUTHINFOHERE|    2|        1|2022-10-06 23:59:...|       null|RegAgentSvc: Auth...|    100085|                  1|                  null|            1|              null|                   null|                 null|        1|       0|                        null| 224725250|               null|          null|    null|                  null|                        null|          null|                null|     null|       null|       null|             null|    null|                 null|       null|    N|                 0|            null|                        null|                         1677|           null|        0|                null|        null|              null|        null|              0|               null|         null|        null|        582104464|            2|                  null|                  null|2022-08-07 23:59:...|             false|                null|                false|               null|   false|          null|      null|      null|P3PWAGENTAPP07|      RegAgentSvc|                      1| P3PWGDCOMM006|        false|        null|        6424083636|                     null|                  null|         null|           null|                            null|                              null|\n",
      "|           domains|     DomainInfo|   UPDATE|2022-08-07 16:59:...|[00 00 3D 19 01 D...|2022-08-07 16:59:...|375818273|             1|   null|          wcl118.xyz|                 1|2022-08-07 23:59:...|               null|               null|     1|          0|2022-08-07 23:59:...|     null|2283334579|     2|               1|      0|                null|    AUTHINFOHERE| 1948|        1|2022-10-06 23:59:...|       null|RegAgentSvc: Auth...|    100085|                  1|                  null|            0|              null|                   null|                 null|        1|       0|                        null| 498491248|               null|          null|    null|                  null|                        null|          null|                null|     null|       null|       null|             null|    null|                 null|       null|    N|                 0|            null|                        null|                         1676|           null|        0|                null|        null|              null|        null|              0|               null|         null|        null|        582104470|            2|                  null|                  null|2022-08-07 23:59:...|             false|                null|                false|               null|   false|          null|      null|      null|P3PWAGENTAPP15|      RegAgentSvc|                      1| P3PWGDCOMM010|        false|        null|        6424083635|                     null|                  null|         null|           null|                            null|                              null|\n",
      "+------------------+---------------+---------+--------------------+--------------------+--------------------+---------+--------------+-------+--------------------+------------------+--------------------+-------------------+-------------------+------+-----------+--------------------+---------+----------+------+----------------+-------+--------------------+----------------+-----+---------+--------------------+-----------+--------------------+----------+-------------------+----------------------+-------------+------------------+-----------------------+---------------------+---------+--------+----------------------------+----------+-------------------+--------------+--------+----------------------+----------------------------+--------------+--------------------+---------+-----------+-----------+-----------------+--------+---------------------+-----------+-----+------------------+----------------+----------------------------+-----------------------------+---------------+---------+--------------------+------------+------------------+------------+---------------+-------------------+-------------+------------+-----------------+-------------+----------------------+----------------------+--------------------+------------------+--------------------+---------------------+-------------------+--------+--------------+----------+----------+--------------+-----------------+-----------------------+--------------+-------------+------------+------------------+-------------------------+----------------------+-------------+---------------+--------------------------------+----------------------------------+"
     ]
    }
   ],
   "source": [
    "df = spark.sql(\"\"\"\n",
    "select * from tecton_dev.domaininfo_snap \n",
    "limit 15\n",
    "\"\"\")\n",
    "df.show()"
   ]
  },
  {
   "cell_type": "code",
   "execution_count": 40,
   "id": "911fd3a7",
   "metadata": {},
   "outputs": [
    {
     "data": {
      "application/vnd.jupyter.widget-view+json": {
       "model_id": "",
       "version_major": 2,
       "version_minor": 0
      },
      "text/plain": [
       "FloatProgress(value=0.0, bar_style='info', description='Progress:', layout=Layout(height='25px', width='50%'),…"
      ]
     },
     "metadata": {},
     "output_type": "display_data"
    },
    {
     "name": "stdout",
     "output_type": "stream",
     "text": [
      "['tx_source_database', 'tx_source_table', 'tx_action', 'tx_write_time', 'tx_source_id', 'tx_source_time', 'id', 'privatelabelid', 'ownerid', 'domainname', 'registrationperiod', 'createdate', 'expirationdate', 'updatedate', 'status', 'renewperiod', 'modifytime', 'errordesc', 'order_id', 'row_id', 'agreedtocontract', 'isoingo', 'registryid', 'authinfo', 'tldid', 'sendemail', 'xfrawaydate', 'processctrl', 'lastusernote', 'modifiedby', 'internalregistrarid', 'selectedforrenewalcall', 'autorenewflag', 'repossessedforsale', 'repossessedpriceperyear', 'repossessedcategoryid', 'isproxied', 'islocked', 'gdshop_receipt_item_detailid', 'shopper_id', 'previousregistrarid', 'ccemailaddress', 'eppjobid', 'lasttransferstatusdate', 'lasttransferstatusupdatebyid', 'domxfrattempts', 'curadminemail', 'domxfrkey', 'processdate', 'processuser', 'transfersendemail', 'event_id', 'lasttransferemaildate', 'processguid', 'fraud', 'isinternaltransfer', 'parent_bundle_id', 'parent_bundle_product_typeid', 'gdshop_free_product_packageid', 'isregistrarhold', 'islimited', 'gaining_registrar_id', 'canceleddate', 'syncexpirationdate', 'lastsyncdate', 'isauroraenabled', 'renewaldeadline', 'issuperlocked', 'dnsimportkey', 'billingresourceid', 'billingstatus', 'expireddomainmonitorid', 'expiredrestoredeadline', 'recordcreatedate', 'hasdccpendingevent', 'requestbatchdetailid', 'isexpirationprotected', 'istransferprotected', 'isapollo', 'intldomainname', 'languageid', 'deletedate', 'requestedip', 'requestedby', 'xfrawaydateupdatereason', 'modifiedbyip', 'issmartdomain', 'invalidwhois', 'priorstatusauditid', 'priorautorenewflagauditid', 'extendedautorenewyears', 'lastaudittime', 'lastauditresult', 'priorautorenewflagauditid_bigint', 'computed_priorautorenewflagauditid']"
     ]
    }
   ],
   "source": [
    "df.columns"
   ]
  },
  {
   "cell_type": "markdown",
   "id": "1c683b39",
   "metadata": {},
   "source": [
    "# 4. Retrieve Data from Tecton"
   ]
  },
  {
   "cell_type": "code",
   "execution_count": 44,
   "id": "5bb222e7",
   "metadata": {},
   "outputs": [
    {
     "data": {
      "application/vnd.jupyter.widget-view+json": {
       "model_id": "",
       "version_major": 2,
       "version_minor": 0
      },
      "text/plain": [
       "FloatProgress(value=0.0, bar_style='info', description='Progress:', layout=Layout(height='25px', width='50%'),…"
      ]
     },
     "metadata": {},
     "output_type": "display_data"
    }
   ],
   "source": [
    "import tecton\n",
    "import pandas as pd\n",
    "from datetime import date, datetime, timedelta\n",
    "\n",
    "\n",
    "ws = tecton.get_workspace('tecton_integration_testing')\n",
    "fv = ws.get_feature_view('customer_top_pages_top_hosts_last_10_json')\n",
    "\n",
    "start_time = datetime(2022, 6, 1)\n",
    "end_time = datetime(2022, 6, 30)\n",
    "df = fv.get_historical_features(start_time=start_time, end_time=end_time).to_spark().limit(10)"
   ]
  },
  {
   "cell_type": "code",
   "execution_count": 45,
   "id": "8c584bf2",
   "metadata": {},
   "outputs": [
    {
     "data": {
      "application/vnd.jupyter.widget-view+json": {
       "model_id": "",
       "version_major": 2,
       "version_minor": 0
      },
      "text/plain": [
       "FloatProgress(value=0.0, bar_style='info', description='Progress:', layout=Layout(height='25px', width='50%'),…"
      ]
     },
     "metadata": {},
     "output_type": "display_data"
    },
    {
     "name": "stdout",
     "output_type": "stream",
     "text": [
      "+----------+-----------------------------------------------------------------------------------------------------------------------------------------------------------------------------------------------------------------------------------------------------------------------------------------------------------------------------------------------------------------------------------------------------------------------------------------------------------------------------------------------------------------------------------------------------------------------------------------------------------------------------------------------------------------------------------------------------------------------------------------------------------------------------------------------------------------------------------------------------------------------------------------------------------------------------------------------------------------------------------------------------------------------------------------------------------------------------------------------------------------------------------------------------------------------------------------------------------------------------------------------------------------------------------------------------------------------------------------------------------------------------------------------------------------------------------------------------------------------------------------------------------------------------------------------------------------------+------------------------------------------------------------------------------------------------------------------------------------------------------------------------------------------------------------------------------------------------------------------------+--------------------------+\n",
      "|shopper_id|top_pages_json                                                                                                                                                                                                                                                                                                                                                                                                                                                                                                                                                                                                                                                                                                                                                                                                                                                                                                                                                                                                                                                                                                                                                                                                                                                                                                                                                                                                                                                                                                                                                         |top_hosts_json                                                                                                                                                                                                                                                          |window_end_ts             |\n",
      "+----------+-----------------------------------------------------------------------------------------------------------------------------------------------------------------------------------------------------------------------------------------------------------------------------------------------------------------------------------------------------------------------------------------------------------------------------------------------------------------------------------------------------------------------------------------------------------------------------------------------------------------------------------------------------------------------------------------------------------------------------------------------------------------------------------------------------------------------------------------------------------------------------------------------------------------------------------------------------------------------------------------------------------------------------------------------------------------------------------------------------------------------------------------------------------------------------------------------------------------------------------------------------------------------------------------------------------------------------------------------------------------------------------------------------------------------------------------------------------------------------------------------------------------------------------------------------------------------+------------------------------------------------------------------------------------------------------------------------------------------------------------------------------------------------------------------------------------------------------------------------+--------------------------+\n",
      "|144758302 |[{\"page_name\":\"websitebuilder.godaddy.com/builder/edit/desktop/00000000-0000-0000-0000-000000394358\",\"count\":1},{\"page_name\":\"websitebuilder.godaddy.com/builder/edit/desktop/511a5b70-2bd8-4a6a-811e-f54f71ef5d1f\",\"count\":1},{\"page_name\":\"websites.godaddy.com/de-DE/editor/1e644752-edbb-4acc-b33d-60a3d4ea74d7/a252d0a8-4d7e-48f9-bebe-ce2f0bfabba8/fullpage/desktop\",\"count\":1},{\"page_name\":\"websites.godaddy.com/de-DE/editor/eb7c5369-cdc3-4148-8ada-803898ae8b82/f2fd5e3c-9bb7-4c00-837b-68475e3418bc/fullpage/desktop\",\"count\":1},{\"page_name\":\"websites.godaddy.com/en-AE/editor/54ee1264-9c76-4b37-9e6d-9e1a5a7fbafc/f02112a9-070f-472f-ad3b-732500b1a0bb/fullpage/desktop\",\"count\":1},{\"page_name\":\"websites.godaddy.com/en-AE/editor/d1d29ae1-c118-45b9-9b53-867bdca0f176/db92f1e0-4a95-4a25-82e1-a794b66f2902/fullpage/desktop\",\"count\":1},{\"page_name\":\"websites.godaddy.com/en-AU/editor/2714b4dc-878f-4670-92c5-93b59fa31ab3/34a4e80e-031b-4dba-8a9c-1ab7324224b1/fullpage/desktop\",\"count\":1},{\"page_name\":\"websites.godaddy.com/en-AU/editor/642a5cd0-56d5-4eae-a0d8-625041e95923/7a3df8e4-0d16-47d1-b692-1bddb5e4f9c2/fullpage/desktop\",\"count\":1},{\"page_name\":\"websites.godaddy.com/en-AU/editor/b609d474-47d0-4874-aec1-a03c9365e077/8cc55350-a149-40e7-b5fe-671e004d3246/fullpage/desktop\",\"count\":1},{\"page_name\":\"websites.godaddy.com/en-AU/editor/d59dec33-29e1-4d3c-9b2d-65d2d679adee/74b86123-1605-429c-88ad-a5267a751f1f/fullpage/desktop\",\"count\":1}]                                                                                |[{\"host_name\":\"websitebuilder.godaddy.com\",\"count\":1},{\"host_name\":\"websites.godaddy.com\",\"count\":1}]                                                                                                                                                                   |2022-06-10 23:59:59.999999|\n",
      "|15314233  |[{\"page_name\":\"websites.godaddy.com/en-AE/editor/d1d29ae1-c118-45b9-9b53-867bdca0f176/db92f1e0-4a95-4a25-82e1-a794b66f2902/fullpage/desktop\",\"count\":2},{\"page_name\":\"websites.godaddy.com/en-CA/editor/27865798-0ae1-48f3-954b-1d8e2446ef7d/c461cdac-b289-4179-96c8-8e5615b2ea2b/fullpage/desktop\",\"count\":2},{\"page_name\":\"websites.godaddy.com/en-CA/editor/bed13d49-ddb4-4113-8144-39fe53630efe/c0844dd4-becf-421c-bdf5-aa0311594920/fullpage/desktop\",\"count\":2},{\"page_name\":\"websites.godaddy.com/en-CA/editor/f6d8e0a9-05c6-414e-b0a8-6eab16b69ef8/e417d6c4-d9d5-40d0-be72-bb92f14c4de8/fullpage/desktop\",\"count\":2},{\"page_name\":\"websites.godaddy.com/en-IN/editor/55b32e0a-7691-4e30-8748-987d5910cdec/1a038cb3-966b-4c09-9318-308b5b7e3df1/fullpage/desktop\",\"count\":2},{\"page_name\":\"websites.godaddy.com/en-NZ/editor/4a677bf1-d615-49c7-8a2e-1d5cad8ac999/e389d88f-37ac-4edf-8504-e7cda6f26b54/fullpage/desktop\",\"count\":2},{\"page_name\":\"websites.godaddy.com/en-US/editor/07aa8be8-d0f7-4fc0-8dc5-4a66ce35d191/57c6587b-b57b-47b4-96ca-a191bb60da4b/fullpage/desktop\",\"count\":2},{\"page_name\":\"websites.godaddy.com/en-US/editor/102036c1-c0f8-4841-8d07-ec67cf68809b/de14210d-32c8-469b-8572-a96527e36789/fullpage/desktop\",\"count\":2},{\"page_name\":\"websites.godaddy.com/en-US/editor/160e3ebe-0809-46ef-a720-29aef64d5bd8/622f6e68-5dcc-4c43-bc1f-00dd98ce5729/fullpage/desktop\",\"count\":2},{\"page_name\":\"websites.godaddy.com/en-US/editor/23c28754-3a18-4838-a60e-9eb38a8a31cd/ee8b9f8f-9fc6-43a8-8f5a-f2c993fee5a2/fullpage/desktop\",\"count\":2}]|[{\"host_name\":\"websitebuilder.godaddy.com\",\"count\":2},{\"host_name\":\"websites.godaddy.com\",\"count\":2}]                                                                                                                                                                   |2022-06-10 23:59:59.999999|\n",
      "|19004847  |[{\"page_name\":\"websitebuilder.godaddy.com/builder/edit/desktop/00000000-0000-0000-0000-000006014720\",\"count\":2},{\"page_name\":\"websites.godaddy.com/en-CA/editor/f6d8e0a9-05c6-414e-b0a8-6eab16b69ef8/e417d6c4-d9d5-40d0-be72-bb92f14c4de8/fullpage/desktop\",\"count\":2},{\"page_name\":\"websites.godaddy.com/en-GB/editor/56fc8545-6986-4718-9184-cc6d2a2b6cd1/82636420-506b-4f69-bbd7-dd74736cb549/fullpage/desktop\",\"count\":2},{\"page_name\":\"websites.godaddy.com/en-GB/editor/a3405236-667d-4cd4-a5ef-19849233558d/cd41c52e-4678-4cd3-b17c-54b5107eb906/fullpage/desktop\",\"count\":2},{\"page_name\":\"websites.godaddy.com/en-IN/editor/55b32e0a-7691-4e30-8748-987d5910cdec/1a038cb3-966b-4c09-9318-308b5b7e3df1/fullpage/desktop\",\"count\":2},{\"page_name\":\"websites.godaddy.com/en-US/editor/0109fb10-6237-45a9-aa15-bcd59c30402a/723cb93f-de14-44ce-8acf-dffd678854c8/fullpage/desktop\",\"count\":2},{\"page_name\":\"websites.godaddy.com/en-US/editor/1a7cc409-aac2-4231-92e0-0f95f5cc9042/2dbc3c68-54c1-4511-8f4b-14af5ec7c5f0/fullpage/desktop\",\"count\":2},{\"page_name\":\"websites.godaddy.com/en-US/editor/3081ec32-ca0a-4506-a8d8-9a910a00cc19/76bcf2b5-5db6-4e27-9e45-b90183f43cdf/fullpage/desktop\",\"count\":2},{\"page_name\":\"websites.godaddy.com/en-US/editor/3d6988c7-971a-4540-9261-a960c88380b4/19f2fd78-79d8-4092-8812-b3e9b1ff7c38/fullpage/desktop\",\"count\":2},{\"page_name\":\"websites.godaddy.com/en-US/editor/3ffeb412-2ca7-4e5e-8ab1-8a6e75cc915e/1bf33d2f-72b2-4c43-895d-1b80ee65fe2d/fullpage/desktop\",\"count\":2}]                                        |[{\"host_name\":\"websitebuilder.godaddy.com\",\"count\":2},{\"host_name\":\"websites.godaddy.com\",\"count\":2}]                                                                                                                                                                   |2022-06-10 23:59:59.999999|\n",
      "|199833038 |[{\"page_name\":\"websites.godaddy.com/en-AE/editor/913b4798-067b-4ebc-8884-b8aa98fc43ea/f073e03b-c5c0-4d07-bb97-b5bf070691a4/fullpage/desktop\",\"count\":1},{\"page_name\":\"websites.godaddy.com/en-AE/editor/df6d2a90-8d24-4dfe-b761-6683d640bf72/de6373bb-c53a-4b62-b8ff-b8d5c1ebf022/fullpage/desktop\",\"count\":1},{\"page_name\":\"websites.godaddy.com/en-AU/editor/1c13bb6c-650c-4fbf-a349-153900179d61/a9774f23-1a45-4568-9fab-66fa66ba50f4/fullpage/desktop\",\"count\":1},{\"page_name\":\"websites.godaddy.com/en-AU/editor/1c13bb6c-650c-4fbf-a349-153900179d61/b0e4c2a5-0f91-46bd-8ca1-9b086e53b912/fullpage/desktop\",\"count\":1},{\"page_name\":\"websites.godaddy.com/en-AU/editor/a3368e5a-f85c-430c-8fe3-8a0155be34ab/f979c295-953e-4d00-979a-ac7fd4d14acb/fullpage/desktop\",\"count\":1},{\"page_name\":\"websites.godaddy.com/en-AU/editor/e099f73b-439a-46fa-9808-a4afab1b79a7/cf3e1a13-bee4-44c1-a62e-3153bb5d15bf/fullpage/desktop\",\"count\":1},{\"page_name\":\"websites.godaddy.com/en-AU/editor/e1fe6b89-94dc-4ea3-af11-d5f8906215b3/2dbc3c68-54c1-4511-8f4b-14af5ec7c5f0/fullpage/desktop\",\"count\":1},{\"page_name\":\"websites.godaddy.com/en-CA/editor/00549823-42cc-4638-aab7-32580cc33c03/8c2592d1-090d-4798-ac26-d413467db7eb/fullpage/desktop\",\"count\":1},{\"page_name\":\"websites.godaddy.com/en-CA/editor/1e38a35e-08ff-4455-be9d-3f35f476023e/db3dab3e-112f-4038-9b1f-b9e75176dcdb/fullpage/desktop\",\"count\":1},{\"page_name\":\"websites.godaddy.com/en-CA/editor/2cdb3b51-5a16-439c-96b1-200d373693d3/2c694744-fed1-45b2-b4e5-b5976b0091c6/fullpage/desktop\",\"count\":1}]|[{\"host_name\":\"websites.godaddy.com\",\"count\":1}]                                                                                                                                                                                                                        |2022-06-10 23:59:59.999999|\n",
      "|263055295 |[{\"page_name\":\"websitebuilder.godaddy.com/builder/edit/desktop/00000000-0000-0000-0000-000000073859\",\"count\":1},{\"page_name\":\"websitebuilder.godaddy.com/builder/edit/desktop/00000000-0000-0000-0000-000000090980\",\"count\":1},{\"page_name\":\"websitebuilder.godaddy.com/builder/edit/desktop/00000000-0000-0000-0000-000000121801\",\"count\":1},{\"page_name\":\"websitebuilder.godaddy.com/builder/edit/desktop/00000000-0000-0000-0000-000000210703\",\"count\":1},{\"page_name\":\"websitebuilder.godaddy.com/builder/edit/desktop/00000000-0000-0000-0000-000000394358\",\"count\":1},{\"page_name\":\"websites.godaddy.com/de-DE/editor/1e644752-edbb-4acc-b33d-60a3d4ea74d7/a252d0a8-4d7e-48f9-bebe-ce2f0bfabba8/fullpage/desktop\",\"count\":1},{\"page_name\":\"websites.godaddy.com/en-AE/editor/0b952453-efae-49f1-ad6d-6f7cf69ef399/1c987d01-dc91-48ff-a2bb-d54266712595/fullpage/desktop\",\"count\":1},{\"page_name\":\"websites.godaddy.com/en-AE/editor/0d38f2fa-d7e0-471a-bf60-09700b5ad39c/87149808-2cd7-430c-bef6-80b90f5b2b23/fullpage/desktop\",\"count\":1},{\"page_name\":\"websites.godaddy.com/en-AE/editor/d1d29ae1-c118-45b9-9b53-867bdca0f176/0ab38ae6-bc18-4f6b-888b-0ed950db15fe/fullpage/desktop\",\"count\":1},{\"page_name\":\"websites.godaddy.com/en-AU/editor/018a2bc0-c64b-4344-8714-b276d8ab90fa/81e28d86-5d3d-4fbc-9957-653430efde1b/fullpage/desktop\",\"count\":1}]                                                                                                                                                                                                        |[{\"host_name\":\"websitebuilder.godaddy.com\",\"count\":1},{\"host_name\":\"websites.godaddy.com\",\"count\":1}]                                                                                                                                                                   |2022-06-10 23:59:59.999999|\n",
      "|2976669   |[{\"page_name\":\"account.godaddy.com/products\",\"count\":1},{\"page_name\":\"crm.int.godaddy.com/customer-home/\",\"count\":1},{\"page_name\":\"crm.int.godaddy.com/customer-search/results\",\"count\":1},{\"page_name\":\"myh.godaddy.com/\",\"count\":1},{\"page_name\":\"www.godaddy.com/help/find-my-support-pin-5804\",\"count\":1}]                                                                                                                                                                                                                                                                                                                                                                                                                                                                                                                                                                                                                                                                                                                                                                                                                                                                                                                                                                                                                                                                                                                                                                                                                                                         |[{\"host_name\":\"account.godaddy.com\",\"count\":1},{\"host_name\":\"crm.int.godaddy.com\",\"count\":1},{\"host_name\":\"myh.godaddy.com\",\"count\":1},{\"host_name\":\"www.godaddy.com\",\"count\":1}]                                                                                       |2022-06-10 23:59:59.999999|\n",
      "|31859084  |[{\"page_name\":\"account.godaddy.com/receipts\",\"count\":1},{\"page_name\":\"account.godaddy.com/subscriptions\",\"count\":1},{\"page_name\":\"cart.godaddy.com/go/checkout\",\"count\":1},{\"page_name\":\"cart.godaddy.com/go/confirmation\",\"count\":1},{\"page_name\":\"dashboard.godaddy.com/venture\",\"count\":1},{\"page_name\":\"dcc.godaddy.com/control/mikeweiss.info/settings\",\"count\":1},{\"page_name\":\"sso.godaddy.com/\",\"count\":1},{\"page_name\":\"www.godaddy.com/\",\"count\":1}]                                                                                                                                                                                                                                                                                                                                                                                                                                                                                                                                                                                                                                                                                                                                                                                                                                                                                                                                                                                                                                                                                                         |[{\"host_name\":\"account.godaddy.com\",\"count\":1},{\"host_name\":\"cart.godaddy.com\",\"count\":1},{\"host_name\":\"dashboard.godaddy.com\",\"count\":1},{\"host_name\":\"dcc.godaddy.com\",\"count\":1},{\"host_name\":\"sso.godaddy.com\",\"count\":1},{\"host_name\":\"www.godaddy.com\",\"count\":1}]|2022-06-10 23:59:59.999999|\n",
      "|44420579  |[{\"page_name\":\"account.godaddy.com/products\",\"count\":6},{\"page_name\":\"account.godaddy.com/subscriptions\",\"count\":6},{\"page_name\":\"sso.godaddy.com/\",\"count\":5},{\"page_name\":\"sso.godaddy.com/account/checkup\",\"count\":3},{\"page_name\":\"sso.godaddy.com/v1/login/levelup\",\"count\":3},{\"page_name\":\"www.godaddy.com/en-in\",\"count\":3},{\"count\":3},{\"page_name\":\"cart.godaddy.com/go/confirmation\",\"count\":2},{\"page_name\":\"cart.godaddy.com/go/checkout\",\"count\":2},{\"page_name\":\"parked-content.godaddy.com/park/qTIlozqjnTMaLaclMKSloayzYaOvrt==\",\"count\":1}]                                                                                                                                                                                                                                                                                                                                                                                                                                                                                                                                                                                                                                                                                                                                                                                                                                                                                                                                                                                                          |[{\"host_name\":\"account.godaddy.com\",\"count\":7},{\"host_name\":\"sso.godaddy.com\",\"count\":5},{\"host_name\":\"www.godaddy.com\",\"count\":4},{\"host_name\":\"cart.godaddy.com\",\"count\":3},{\"count\":3},{\"host_name\":\"parked-content.godaddy.com\",\"count\":1}]                         |2022-06-10 23:59:59.999999|\n",
      "|467216189 |[{\"page_name\":\"websitebuilder.godaddy.com/builder/edit/desktop/00000000-0000-0000-0000-000157654048\",\"count\":2},{\"page_name\":\"websites.godaddy.com/en-AU/editor/95c48ec9-2040-4ed5-81ce-bacda1a00010/7e45fa18-cca1-4c7b-93d0-d3b927952c3c/fullpage/desktop\",\"count\":2},{\"page_name\":\"websites.godaddy.com/en-CA/editor/2a49a206-6281-4107-890f-f9129bbe18d0/af4b7538-e60a-41dc-b241-ae321c57f9d9/fullpage/desktop\",\"count\":2},{\"page_name\":\"websites.godaddy.com/en-CA/editor/5253766e-f533-4c9a-bae9-2fbebbeb9710/2c76baa4-6dbd-4bf6-8599-a2169935f035/fullpage/desktop\",\"count\":2},{\"page_name\":\"websites.godaddy.com/en-CA/editor/9725b735-7dcc-479b-bd17-b0b65ff814f5/8c2592d1-090d-4798-ac26-d413467db7eb/fullpage/desktop\",\"count\":2},{\"page_name\":\"websites.godaddy.com/en-IE/editor/da66840b-6b84-40fc-904e-6fee43485ab2/bef01517-23ad-477e-9f12-83ae7eb19ea4/fullpage/desktop\",\"count\":2},{\"page_name\":\"websites.godaddy.com/en-IN/editor/2f1bc091-54e8-403c-9164-779033f97c18/3b59f410-9e1b-4ced-b271-bfa438b6a147/fullpage/desktop\",\"count\":2},{\"page_name\":\"websites.godaddy.com/en-IN/editor/b8b0325e-00e8-413a-9135-fc8d1695932f/6754f713-f115-4a7d-aafd-e23de7a0f203/fullpage/desktop\",\"count\":2},{\"page_name\":\"websites.godaddy.com/en-SG/editor/4adc88b7-411e-4205-a692-880a7c2bc666/05a7efb2-1ef2-4a79-9b73-26749e2a1c2c/fullpage/desktop\",\"count\":2},{\"page_name\":\"websites.godaddy.com/en-SG/editor/4adc88b7-411e-4205-a692-880a7c2bc666/4d597e25-5e6a-4a16-af45-0a8914b4bcae/fullpage/desktop\",\"count\":2}]                                        |[{\"host_name\":\"websitebuilder.godaddy.com\",\"count\":2},{\"host_name\":\"websites.godaddy.com\",\"count\":2}]                                                                                                                                                                   |2022-06-10 23:59:59.999999|\n",
      "|489661342 |[{\"page_name\":\"sso.godaddy.com/v1/login\",\"count\":1},{\"page_name\":\"websitebuilder.godaddy.com/builder/edit/desktop/00000000-0000-0000-0000-000000054270\",\"count\":1},{\"page_name\":\"websitebuilder.godaddy.com/builder/edit/desktop/1adbdfb0-5caf-4ca9-812c-55b42ae8529c\",\"count\":1},{\"page_name\":\"websites.godaddy.com/de-DE/editor/2375374d-3875-4424-bd32-3104c162968a/f2fd5e3c-9bb7-4c00-837b-68475e3418bc/fullpage/desktop\",\"count\":1},{\"page_name\":\"websites.godaddy.com/de-DE/editor/35482387-0310-4c64-af12-b67bfaf9e053/a252d0a8-4d7e-48f9-bebe-ce2f0bfabba8/fullpage/desktop\",\"count\":1},{\"page_name\":\"websites.godaddy.com/en-AE/editor/8d7a64b9-49a5-4704-93f1-d07aab5cb082/12c24e2d-be79-43c8-bd2c-78987686c64b/fullpage/desktop\",\"count\":1},{\"page_name\":\"websites.godaddy.com/en-AE/editor/92161bcb-bfa5-4681-912a-9bfa9f4d4484/af7f3220-7afd-41a5-bcb0-14f6362e9b45/fullpage/desktop\",\"count\":1},{\"page_name\":\"websites.godaddy.com/en-AE/editor/c653a1c8-88ce-4227-b37f-895723520461/48802cd8-77d8-4df4-9b62-e21e67867f36/fullpage/desktop\",\"count\":1},{\"page_name\":\"websites.godaddy.com/en-AU/editor/1505c77a-f924-49ce-94a0-3f08c0b0f2cd/05688f47-65ce-4529-8721-4b1f486e6a18/fullpage/desktop\",\"count\":1},{\"page_name\":\"websites.godaddy.com/en-AU/editor/552971b7-d53e-471d-a24d-3eb515686457/810d79a5-abdf-4a3f-bbdc-b35d9c46e56d/fullpage/desktop\",\"count\":1}]                                                                                                                                                                                    |[{\"host_name\":\"sso.godaddy.com\",\"count\":1},{\"host_name\":\"websitebuilder.godaddy.com\",\"count\":1},{\"host_name\":\"websites.godaddy.com\",\"count\":1}]                                                                                                                         |2022-06-10 23:59:59.999999|\n",
      "+----------+-----------------------------------------------------------------------------------------------------------------------------------------------------------------------------------------------------------------------------------------------------------------------------------------------------------------------------------------------------------------------------------------------------------------------------------------------------------------------------------------------------------------------------------------------------------------------------------------------------------------------------------------------------------------------------------------------------------------------------------------------------------------------------------------------------------------------------------------------------------------------------------------------------------------------------------------------------------------------------------------------------------------------------------------------------------------------------------------------------------------------------------------------------------------------------------------------------------------------------------------------------------------------------------------------------------------------------------------------------------------------------------------------------------------------------------------------------------------------------------------------------------------------------------------------------------------------+------------------------------------------------------------------------------------------------------------------------------------------------------------------------------------------------------------------------------------------------------------------------+--------------------------+"
     ]
    }
   ],
   "source": [
    "df.show(truncate=False)"
   ]
  },
  {
   "cell_type": "code",
   "execution_count": 48,
   "id": "ce594e95",
   "metadata": {},
   "outputs": [
    {
     "data": {
      "application/vnd.jupyter.widget-view+json": {
       "model_id": "",
       "version_major": 2,
       "version_minor": 0
      },
      "text/plain": [
       "FloatProgress(value=0.0, bar_style='info', description='Progress:', layout=Layout(height='25px', width='50%'),…"
      ]
     },
     "metadata": {},
     "output_type": "display_data"
    }
   ],
   "source": [
    "import tecton\n",
    "import pandas as pd\n",
    "from datetime import date, datetime, timedelta\n",
    "\n",
    "\n",
    "ws = tecton.get_workspace('tecton_integration_testing')\n",
    "fv = ws.get_feature_view('customer_top_pages_top_hosts_last_10')\n",
    "spine_df = pd.DataFrame([{\"shopper_id\": 105939907, \"ts\": datetime.now()}])\n",
    "df = fv.get_historical_features(spine=spine_df).to_spark()"
   ]
  },
  {
   "cell_type": "code",
   "execution_count": 49,
   "id": "d2c8266e",
   "metadata": {},
   "outputs": [
    {
     "data": {
      "application/vnd.jupyter.widget-view+json": {
       "model_id": "",
       "version_major": 2,
       "version_minor": 0
      },
      "text/plain": [
       "FloatProgress(value=0.0, bar_style='info', description='Progress:', layout=Layout(height='25px', width='50%'),…"
      ]
     },
     "metadata": {},
     "output_type": "display_data"
    },
    {
     "name": "stdout",
     "output_type": "stream",
     "text": [
      "+----------+--------------------------+----------------------------------------------------------------------------------------------------------------------------------------------------------------------------------------------------+-----------------------------------------------------+----------------------------------------------------------------------------------------+-----------------------------------------------------+\n",
      "|shopper_id|ts                        |customer_top_pages_top_hosts_last_10__top_pages_name                                                                                                                                                |customer_top_pages_top_hosts_last_10__top_pages_count|customer_top_pages_top_hosts_last_10__top_hosts_name                                    |customer_top_pages_top_hosts_last_10__top_hosts_count|\n",
      "+----------+--------------------------+----------------------------------------------------------------------------------------------------------------------------------------------------------------------------------------------------+-----------------------------------------------------+----------------------------------------------------------------------------------------+-----------------------------------------------------+\n",
      "|105939907 |2022-09-23 16:59:23.697081|[www.godaddy.com/en-in, account.godaddy.com/products, in.godaddy.com/domainsearch/find, dcc.godaddy.com/manage/seedingkerala.in/dns, dcc.godaddy.com/manage/startupmission.in/dns, myh.godaddy.com/]|[8, 5, 3, 1, 1, 1]                                   |[www.godaddy.com, account.godaddy.com, in.godaddy.com, dcc.godaddy.com, myh.godaddy.com]|[8, 5, 3, 1, 1]                                      |\n",
      "+----------+--------------------------+----------------------------------------------------------------------------------------------------------------------------------------------------------------------------------------------------+-----------------------------------------------------+----------------------------------------------------------------------------------------+-----------------------------------------------------+"
     ]
    }
   ],
   "source": [
    "df.limit(10).show(truncate=False)"
   ]
  },
  {
   "cell_type": "code",
   "execution_count": 51,
   "id": "d011e1a1",
   "metadata": {
    "scrolled": true
   },
   "outputs": [
    {
     "data": {
      "application/vnd.jupyter.widget-view+json": {
       "model_id": "",
       "version_major": 2,
       "version_minor": 0
      },
      "text/plain": [
       "FloatProgress(value=0.0, bar_style='info', description='Progress:', layout=Layout(height='25px', width='50%'),…"
      ]
     },
     "metadata": {},
     "output_type": "display_data"
    },
    {
     "name": "stdout",
     "output_type": "stream",
     "text": [
      "+----------+--------------------------+------------------------------------------------------------------------------------------------------------------------+-----------------------------------------------+-------------------------------------------+---------------------------------------------------+------------------------------------------------------+-------------------------------------------+-----------------------------------------------+---------------------------------------------------------+---------------------------------------------------------------+------------------------------------------------------+--------------------------------------------------------------+----------------------------------------------------+---------------------------------------------------------------+---------------------------------------------------------------+--------------------------------------------------------+----------------------------------------------------+----------------------------------------------------+-----------------------------------------------------------+------------------------------------------------------------------------------------------------------+---------------------------------------------------+------------------------------------------------+--------------------------------------------------+--------------------------------------------------+--------------------------------------------------------------------------------+-------------------------------------------------------------+--------------------------------------------------+\n",
      "|shopper_id|ts                        |customer_recent_traffic_last_10__session_begin_date                                                                     |customer_recent_traffic_last_10__page_views_qty|customer_recent_traffic_last_10__orders_qty|customer_recent_traffic_last_10__renewal_orders_qty|customer_recent_traffic_last_10__receipt_price_amt    |customer_recent_traffic_last_10__visits_qty|customer_recent_traffic_last_10__new_orders_qty|customer_recent_traffic_last_10__session_duration_seconds|customer_recent_traffic_last_10__session_free_trial_signup_flag|customer_recent_traffic_last_10__session_purchase_flag|customer_recent_traffic_last_10__session_viewed_help_page_flag|customer_recent_traffic_last_10__repeat_visitor_flag|customer_recent_traffic_last_10__renewal_product_purchased_flag|customer_recent_traffic_last_10__session_viewed_sales_page_flag|customer_recent_traffic_last_10__session_mobile_app_flag|customer_recent_traffic_last_10__repeat_shopper_flag|customer_recent_traffic_last_10__session_bounce_flag|customer_recent_traffic_last_10__new_product_purchased_flag|customer_recent_traffic_last_10__browser_operating_system_name                                        |customer_recent_traffic_last_10__site_language_code|customer_recent_traffic_last_10__ip_country_code|customer_recent_traffic_last_10__site_country_code|customer_recent_traffic_last_10__session_type_name|customer_recent_traffic_last_10__browser_name                                   |customer_recent_traffic_last_10__referring_domain_name       |customer_recent_traffic_last_10__extra_shopper_ids|\n",
      "+----------+--------------------------+------------------------------------------------------------------------------------------------------------------------+-----------------------------------------------+-------------------------------------------+---------------------------------------------------+------------------------------------------------------+-------------------------------------------+-----------------------------------------------+---------------------------------------------------------+---------------------------------------------------------------+------------------------------------------------------+--------------------------------------------------------------+----------------------------------------------------+---------------------------------------------------------------+---------------------------------------------------------------+--------------------------------------------------------+----------------------------------------------------+----------------------------------------------------+-----------------------------------------------------------+------------------------------------------------------------------------------------------------------+---------------------------------------------------+------------------------------------------------+--------------------------------------------------+--------------------------------------------------+--------------------------------------------------------------------------------+-------------------------------------------------------------+--------------------------------------------------+\n",
      "|105939907 |2022-09-23 17:56:43.019644|[2022-08-21, 2022-08-22, 2022-08-22, 2022-08-22, 2022-08-24, 2022-08-29, 2022-09-07, 2022-09-10, 2022-09-13, 2022-09-20]|[9, 4, 5, 2, 3, 3, 11, 2, 2, 2]                |[1, 0, 0, 0, 0, 0, 1, 0, 0, 0]             |[1, 0, 0, 0, 0, 0, 1, 0, 0, 0]                     |[109.97, 0.0, 0.0, 0.0, 0.0, 0.0, 8.74, 0.0, 0.0, 0.0]|[1, 1, 1, 1, 1, 1, 1, 1, 1, 1]             |[0, 0, 0, 0, 0, 0, 0, 0, 0, 0]                 |[210, 19, 65, 7, 63, 28, 560, 9, 822, 4]                 |[0, 0, 0, 0, 0, 0, 0, 0, 0, 0]                                 |[1, 0, 0, 0, 0, 0, 1, 0, 0, 0]                        |[0, 0, 1, 0, 0, 0, 0, 0, 0, 0]                                |[0, 1, 1, 1, 1, 1, 1, 1, 1, 1]                      |[1, 0, 0, 0, 0, 0, 1, 0, 0, 0]                                 |[1, 1, 1, 0, 1, 1, 1, 1, 1, 1]                                 |[0, 0, 0, 0, 0, 0, 0, 0, 0, 0]                          |[1, 1, 1, 1, 1, 1, 1, 1, 1, 1]                      |[0, 0, 0, 0, 0, 0, 0, 0, 0, 0]                      |[0, 0, 0, 0, 0, 0, 0, 0, 0, 0]                             |[windows 10, mac os x, mac os x, mac os x, mac os x, mac os x, mac os x, mac os x, mac os x, mac os x]|[en, en, en, en, en, en, en, en, en, en]           |[IN, IN, IN, IN, IN, IN, IN, IN, IN, IN]        |[IN, IN, IN, IN, IN, IN, IN, IN, IN, IN]          |[, , , , , , , , , ]                              |[chrome, chrome, chrome, chrome, chrome, chrome, chrome, chrome, chrome, chrome]|[google, N/A, N/A, godaddy, N/A, N/A, godaddy, N/A, N/A, N/A]|[0, 0, 0, 0, 0, 0, 0, 0, 0, 0]                    |\n",
      "+----------+--------------------------+------------------------------------------------------------------------------------------------------------------------+-----------------------------------------------+-------------------------------------------+---------------------------------------------------+------------------------------------------------------+-------------------------------------------+-----------------------------------------------+---------------------------------------------------------+---------------------------------------------------------------+------------------------------------------------------+--------------------------------------------------------------+----------------------------------------------------+---------------------------------------------------------------+---------------------------------------------------------------+--------------------------------------------------------+----------------------------------------------------+----------------------------------------------------+-----------------------------------------------------------+------------------------------------------------------------------------------------------------------+---------------------------------------------------+------------------------------------------------+--------------------------------------------------+--------------------------------------------------+--------------------------------------------------------------------------------+-------------------------------------------------------------+--------------------------------------------------+"
     ]
    }
   ],
   "source": [
    "import tecton\n",
    "from datetime import date, datetime, timedelta\n",
    "import pandas as pd\n",
    "\n",
    "ws = tecton.get_workspace('tecton_integration_testing')\n",
    "fv = ws.get_feature_view('customer_recent_traffic_last_10')\n",
    "spine_df = pd.DataFrame([{\"shopper_id\": 105939907, \"ts\": datetime.now()}])\n",
    "df = fv.get_historical_features(spine=spine_df).to_spark()\n",
    "df.limit(10).show(truncate=False)"
   ]
  },
  {
   "cell_type": "code",
   "execution_count": 52,
   "id": "8b1c28f3",
   "metadata": {},
   "outputs": [
    {
     "data": {
      "application/vnd.jupyter.widget-view+json": {
       "model_id": "",
       "version_major": 2,
       "version_minor": 0
      },
      "text/plain": [
       "FloatProgress(value=0.0, bar_style='info', description='Progress:', layout=Layout(height='25px', width='50%'),…"
      ]
     },
     "metadata": {},
     "output_type": "display_data"
    },
    {
     "name": "stdout",
     "output_type": "stream",
     "text": [
      "+----------+--------------------------+------------------------------------------------------------------------------------------------------------------------+-----------------------------------------------+-------------------------------------------+---------------------------------------------------+--------------------------------------------------+-------------------------------------------+-----------------------------------------------+---------------------------------------------------------+---------------------------------------------------------------+------------------------------------------------------+--------------------------------------------------------------+----------------------------------------------------+---------------------------------------------------------------+---------------------------------------------------------------+--------------------------------------------------------+----------------------------------------------------+----------------------------------------------------+-----------------------------------------------------------+----------------------------------------------------------------------------------------------------+---------------------------------------------------+------------------------------------------------+--------------------------------------------------+--------------------------------------------------+--------------------------------------------------------------------------------+------------------------------------------------------+--------------------------------------------------+\n",
      "|shopper_id|ts                        |customer_recent_traffic_last_10__session_begin_date                                                                     |customer_recent_traffic_last_10__page_views_qty|customer_recent_traffic_last_10__orders_qty|customer_recent_traffic_last_10__renewal_orders_qty|customer_recent_traffic_last_10__receipt_price_amt|customer_recent_traffic_last_10__visits_qty|customer_recent_traffic_last_10__new_orders_qty|customer_recent_traffic_last_10__session_duration_seconds|customer_recent_traffic_last_10__session_free_trial_signup_flag|customer_recent_traffic_last_10__session_purchase_flag|customer_recent_traffic_last_10__session_viewed_help_page_flag|customer_recent_traffic_last_10__repeat_visitor_flag|customer_recent_traffic_last_10__renewal_product_purchased_flag|customer_recent_traffic_last_10__session_viewed_sales_page_flag|customer_recent_traffic_last_10__session_mobile_app_flag|customer_recent_traffic_last_10__repeat_shopper_flag|customer_recent_traffic_last_10__session_bounce_flag|customer_recent_traffic_last_10__new_product_purchased_flag|customer_recent_traffic_last_10__browser_operating_system_name                                      |customer_recent_traffic_last_10__site_language_code|customer_recent_traffic_last_10__ip_country_code|customer_recent_traffic_last_10__site_country_code|customer_recent_traffic_last_10__session_type_name|customer_recent_traffic_last_10__browser_name                                   |customer_recent_traffic_last_10__referring_domain_name|customer_recent_traffic_last_10__extra_shopper_ids|\n",
      "+----------+--------------------------+------------------------------------------------------------------------------------------------------------------------+-----------------------------------------------+-------------------------------------------+---------------------------------------------------+--------------------------------------------------+-------------------------------------------+-----------------------------------------------+---------------------------------------------------------+---------------------------------------------------------------+------------------------------------------------------+--------------------------------------------------------------+----------------------------------------------------+---------------------------------------------------------------+---------------------------------------------------------------+--------------------------------------------------------+----------------------------------------------------+----------------------------------------------------+-----------------------------------------------------------+----------------------------------------------------------------------------------------------------+---------------------------------------------------+------------------------------------------------+--------------------------------------------------+--------------------------------------------------+--------------------------------------------------------------------------------+------------------------------------------------------+--------------------------------------------------+\n",
      "|105939907 |2022-09-23 18:08:22.233339|[2022-06-08, 2022-06-13, 2022-06-14, 2022-06-14, 2022-06-19, 2022-06-22, 2022-06-25, 2022-06-26, 2022-06-27, 2022-06-30]|[10, 1, 2, 4, 2, 5, 2, 4, 2, 2]                |[0, 0, 0, 0, 0, 0, 0, 0, 0, 0]             |[0, 0, 0, 0, 0, 0, 0, 0, 0, 0]                     |[0.0, 0.0, 0.0, 0.0, 0.0, 0.0, 0.0, 0.0, 0.0, 0.0]|[1, 1, 1, 1, 1, 1, 1, 1, 1, 1]             |[0, 0, 0, 0, 0, 0, 0, 0, 0, 0]                 |[219, 0, 18, 992, 6, 131, 65, 591, 2, 4]                 |[0, 0, 0, 0, 0, 0, 0, 0, 0, 0]                                 |[0, 0, 0, 0, 0, 0, 0, 0, 0, 0]                        |[0, 0, 0, 0, 0, 0, 0, 0, 0, 0]                                |[1, 1, 1, 1, 1, 1, 1, 1, 1, 1]                      |[0, 0, 0, 0, 0, 0, 0, 0, 0, 0]                                 |[1, 1, 1, 1, 1, 1, 1, 1, 1, 1]                                 |[0, 0, 0, 0, 0, 0, 0, 0, 0, 0]                          |[1, 1, 1, 1, 1, 1, 1, 1, 1, 1]                      |[0, 1, 0, 0, 0, 0, 0, 0, 0, 0]                      |[0, 0, 0, 0, 0, 0, 0, 0, 0, 0]                             |[mac os x, mac os x, mac os x, mac os x, mac os x, mac os x, mac os x, mac os x, mac os x, mac os x]|[en, en, en, en, en, en, en, en, en, en]           |[IN, IN, IN, IN, IN, IN, IN, IN, IN, IN]        |[IN, IN, IN, IN, IN, IN, IN, IN, IN, IN]          |[, , , , , , , , , ]                              |[chrome, chrome, chrome, chrome, chrome, chrome, chrome, chrome, chrome, chrome]|[N/A, N/A, N/A, N/A, N/A, N/A, google, N/A, N/A, N/A] |[0, 0, 0, 0, 0, 0, 0, 0, 0, 0]                    |\n",
      "+----------+--------------------------+------------------------------------------------------------------------------------------------------------------------+-----------------------------------------------+-------------------------------------------+---------------------------------------------------+--------------------------------------------------+-------------------------------------------+-----------------------------------------------+---------------------------------------------------------+---------------------------------------------------------------+------------------------------------------------------+--------------------------------------------------------------+----------------------------------------------------+---------------------------------------------------------------+---------------------------------------------------------------+--------------------------------------------------------+----------------------------------------------------+----------------------------------------------------+-----------------------------------------------------------+----------------------------------------------------------------------------------------------------+---------------------------------------------------+------------------------------------------------+--------------------------------------------------+--------------------------------------------------+--------------------------------------------------------------------------------+------------------------------------------------------+--------------------------------------------------+"
     ]
    }
   ],
   "source": [
    "import tecton\n",
    "from datetime import date, datetime, timedelta\n",
    "import pandas as pd\n",
    "\n",
    "ws = tecton.get_workspace('tecton_integration_testing')\n",
    "fv = ws.get_feature_view('customer_recent_traffic_last_10')\n",
    "spine_df = pd.DataFrame([{\"shopper_id\": 105939907, \"ts\": datetime.now()}])\n",
    "df = fv.get_historical_features(spine=spine_df).to_spark()\n",
    "df.limit(10).show(truncate=False)"
   ]
  },
  {
   "cell_type": "code",
   "execution_count": null,
   "id": "db7086b3",
   "metadata": {},
   "outputs": [],
   "source": []
  },
  {
   "cell_type": "code",
   "execution_count": null,
   "id": "f2ac85c1",
   "metadata": {},
   "outputs": [],
   "source": []
  },
  {
   "cell_type": "code",
   "execution_count": null,
   "id": "6d711e8e",
   "metadata": {},
   "outputs": [],
   "source": []
  },
  {
   "cell_type": "code",
   "execution_count": null,
   "id": "afb27dd5",
   "metadata": {},
   "outputs": [],
   "source": []
  },
  {
   "cell_type": "code",
   "execution_count": 3,
   "id": "34622127",
   "metadata": {},
   "outputs": [
    {
     "name": "stderr",
     "output_type": "stream",
     "text": [
      "The code failed because of a fatal error:\n",
      "\tSession 71 did not start up in 60 seconds..\n",
      "\n",
      "Some things to try:\n",
      "a) Make sure Spark has enough available resources for Jupyter to create a Spark context.\n",
      "b) Contact your Jupyter administrator to make sure the Spark magics library is configured correctly.\n",
      "c) Restart the kernel.\n"
     ]
    }
   ],
   "source": [
    "import tecton \n",
    "from datetime import date, datetime, timedelta\n",
    "import pandas as pd\n",
    "\n",
    "ws = tecton.get_workspace('jpark2')\n",
    "fv = ws.get_feature_view('customer_recent_traffic_last_10')\n",
    "spine_df = pd.DataFrame([{\"shopper_id\": \"105939907\", \"ts\": datetime.now()}])\n",
    "df = fv.get_historical_features(spine=spine_df, from_source=True).to_spark()\n",
    "df.show(truncate=False)"
   ]
  },
  {
   "cell_type": "code",
   "execution_count": 7,
   "id": "4bf3ce40",
   "metadata": {},
   "outputs": [
    {
     "data": {
      "application/vnd.jupyter.widget-view+json": {
       "model_id": "",
       "version_major": 2,
       "version_minor": 0
      },
      "text/plain": [
       "FloatProgress(value=0.0, bar_style='info', description='Progress:', layout=Layout(height='25px', width='50%'),…"
      ]
     },
     "metadata": {},
     "output_type": "display_data"
    },
    {
     "name": "stdout",
     "output_type": "stream",
     "text": [
      "+----+------+------+------+--------------------+\n",
      "|name|gender|salary|isgood|                time|\n",
      "+----+------+------+------+--------------------+\n",
      "|   a|     M|  1000|  true|2021-07-24 12:01:...|\n",
      "|   b|     F|     0|  true|2021-07-24 12:01:...|\n",
      "|   c|     N|  2000| false|2021-07-24 12:01:...|\n",
      "|   d|     N|  3000| false|                null|\n",
      "|   e|  null|  null|  null|                null|\n",
      "+----+------+------+------+--------------------+"
     ]
    }
   ],
   "source": [
    "from pyspark.sql import SparkSession\n",
    "from pyspark.sql.functions import lit, to_timestamp\n",
    "\n",
    "spark = SparkSession.builder.appName('example').getOrCreate()\n",
    "data = [(\"a\",\"M\", 1000, True, \"2021-07-24 12:01:19.000\"),\n",
    "        (\"b\",\"F\", 0, True, \"2021-07-24 12:01:19.000\"),\n",
    "        (\"c\",\"N\",2000, False, \"2021-07-24 12:01:19.000\"),\n",
    "        (\"d\",\"N\",3000, False, None),\n",
    "        (\"e\",None,None, None, None)]\n",
    "\n",
    "columns = [\"name\",\"gender\",\"salary\", \"isgood\", \"time\"]\n",
    "df = spark.createDataFrame(data = data, schema = columns)\n",
    "df.show()"
   ]
  },
  {
   "cell_type": "code",
   "execution_count": null,
   "id": "19b9f427",
   "metadata": {},
   "outputs": [],
   "source": [
    "from pyspark.sql.functions import when, col\n",
    "field = \"gender\"\n",
    "df2 = df.withColumn(\"new\" + column, when(df[field] == 'N' | col(field).isNull(), False).otherwise(True))\n",
    "df2.show()\n",
    "\n",
    "# df2 = df.withColumn(\"new_gender\", when(df.gender == \"M\",\"Male\")\n",
    "#                                  .when(df.gender == \"F\",\"Female\")\n",
    "#                                  .when(df.gender.isNull() ,\"\")\n",
    "#                                  .otherwise(df.gender))"
   ]
  },
  {
   "cell_type": "code",
   "execution_count": 41,
   "id": "0acdbd6a",
   "metadata": {},
   "outputs": [
    {
     "data": {
      "application/vnd.jupyter.widget-view+json": {
       "model_id": "",
       "version_major": 2,
       "version_minor": 0
      },
      "text/plain": [
       "FloatProgress(value=0.0, bar_style='info', description='Progress:', layout=Layout(height='25px', width='50%'),…"
      ]
     },
     "metadata": {},
     "output_type": "display_data"
    },
    {
     "name": "stdout",
     "output_type": "stream",
     "text": [
      "+----+------+------+------+----------+\n",
      "|name|gender|salary|isgood|new_gender|\n",
      "+----+------+------+------+----------+\n",
      "|   a|     M|  1000|  true|         1|\n",
      "|   b|     F|     0|  true|         1|\n",
      "|   c|     N|  2000| false|         0|\n",
      "|   d|     N|  3000| false|         0|\n",
      "|   e|  null|  null|  null|         0|\n",
      "+----+------+------+------+----------+"
     ]
    }
   ],
   "source": [
    "from pyspark.sql.functions import when, col\n",
    "feature_name = \"gender\"\n",
    "df2 = df.withColumn(\"new_\" + column, when(df[feature_name] == 'N', 0).when(df[feature_name].isNull(), 0).otherwise(1))\n",
    "df2.show()\n"
   ]
  },
  {
   "cell_type": "code",
   "execution_count": 43,
   "id": "9cfa4d96",
   "metadata": {},
   "outputs": [
    {
     "data": {
      "application/vnd.jupyter.widget-view+json": {
       "model_id": "",
       "version_major": 2,
       "version_minor": 0
      },
      "text/plain": [
       "FloatProgress(value=0.0, bar_style='info', description='Progress:', layout=Layout(height='25px', width='50%'),…"
      ]
     },
     "metadata": {},
     "output_type": "display_data"
    },
    {
     "name": "stdout",
     "output_type": "stream",
     "text": [
      "+----+------+------+------+----------+\n",
      "|name|gender|salary|isgood|new_salary|\n",
      "+----+------+------+------+----------+\n",
      "|   a|     M|  1000|  true|         1|\n",
      "|   b|     F|     0|  true|         0|\n",
      "|   c|     N|  2000| false|         1|\n",
      "|   d|     N|  3000| false|         1|\n",
      "|   e|  null|  null|  null|         0|\n",
      "+----+------+------+------+----------+"
     ]
    }
   ],
   "source": [
    "from pyspark.sql.functions import when, col\n",
    "feature_name = \"salary\"\n",
    "df2 = df.withColumn(\"new_\" + feature_name, when(df[feature_name] == 0, 0).when(df[feature_name].isNull(), 0).otherwise(1))\n",
    "df2.show()\n"
   ]
  },
  {
   "cell_type": "code",
   "execution_count": 44,
   "id": "f725a528",
   "metadata": {},
   "outputs": [
    {
     "data": {
      "application/vnd.jupyter.widget-view+json": {
       "model_id": "",
       "version_major": 2,
       "version_minor": 0
      },
      "text/plain": [
       "FloatProgress(value=0.0, bar_style='info', description='Progress:', layout=Layout(height='25px', width='50%'),…"
      ]
     },
     "metadata": {},
     "output_type": "display_data"
    },
    {
     "name": "stdout",
     "output_type": "stream",
     "text": [
      "+----+------+------+------+----------+\n",
      "|name|gender|salary|isgood|new_isgood|\n",
      "+----+------+------+------+----------+\n",
      "|   a|     M|  1000|  true|         1|\n",
      "|   b|     F|     0|  true|         1|\n",
      "|   c|     N|  2000| false|         0|\n",
      "|   d|     N|  3000| false|         0|\n",
      "|   e|  null|  null|  null|         0|\n",
      "+----+------+------+------+----------+"
     ]
    }
   ],
   "source": [
    "from pyspark.sql.functions import when, col\n",
    "feature_name = \"isgood\"\n",
    "df2 = df.withColumn(\"new_\" + feature_name, when(df[feature_name].isNull(), 0).otherwise(1))\n",
    "df2.show()"
   ]
  },
  {
   "cell_type": "code",
   "execution_count": 37,
   "id": "b6a589de",
   "metadata": {},
   "outputs": [
    {
     "data": {
      "application/vnd.jupyter.widget-view+json": {
       "model_id": "",
       "version_major": 2,
       "version_minor": 0
      },
      "text/plain": [
       "FloatProgress(value=0.0, bar_style='info', description='Progress:', layout=Layout(height='25px', width='50%'),…"
      ]
     },
     "metadata": {},
     "output_type": "display_data"
    }
   ],
   "source": [
    "from pyspark.sql.types import LongType\n",
    "df2 = df.withColumn(\"cast_isgood\", col(\"isgood\").cast(LongType()))"
   ]
  },
  {
   "cell_type": "code",
   "execution_count": 10,
   "id": "301a52e9",
   "metadata": {
    "scrolled": true
   },
   "outputs": [
    {
     "data": {
      "application/vnd.jupyter.widget-view+json": {
       "model_id": "",
       "version_major": 2,
       "version_minor": 0
      },
      "text/plain": [
       "FloatProgress(value=0.0, bar_style='info', description='Progress:', layout=Layout(height='25px', width='50%'),…"
      ]
     },
     "metadata": {},
     "output_type": "display_data"
    },
    {
     "name": "stdout",
     "output_type": "stream",
     "text": [
      "+----+------+------+------+--------------------+-------------------+\n",
      "|name|gender|salary|isgood|                time|     converted_time|\n",
      "+----+------+------+------+--------------------+-------------------+\n",
      "|   a|     M|  1000|  true|2021-07-24 12:01:...|2021-07-24 12:01:19|\n",
      "|   b|     F|     0|  true|2021-07-24 12:01:...|2021-07-24 12:01:19|\n",
      "|   c|     N|  2000| false|2021-07-24 12:01:...|2021-07-24 12:01:19|\n",
      "|   d|     N|  3000| false|                null|               null|\n",
      "|   e|  null|  null|  null|                null|               null|\n",
      "+----+------+------+------+--------------------+-------------------+"
     ]
    }
   ],
   "source": [
    "df1 = df.withColumn(\"converted_time\", to_timestamp(\"time\"))\n",
    "df1.show()"
   ]
  },
  {
   "cell_type": "code",
   "execution_count": 12,
   "id": "25dd04bf",
   "metadata": {},
   "outputs": [
    {
     "data": {
      "application/vnd.jupyter.widget-view+json": {
       "model_id": "",
       "version_major": 2,
       "version_minor": 0
      },
      "text/plain": [
       "FloatProgress(value=0.0, bar_style='info', description='Progress:', layout=Layout(height='25px', width='50%'),…"
      ]
     },
     "metadata": {},
     "output_type": "display_data"
    },
    {
     "name": "stdout",
     "output_type": "stream",
     "text": [
      "+----+------+------+------+--------------------+-------------------+------------------+\n",
      "|name|gender|salary|isgood|                time|     converted_time|new_converted_time|\n",
      "+----+------+------+------+--------------------+-------------------+------------------+\n",
      "|   a|     M|  1000|  true|2021-07-24 12:01:...|2021-07-24 12:01:19|                 1|\n",
      "|   b|     F|     0|  true|2021-07-24 12:01:...|2021-07-24 12:01:19|                 1|\n",
      "|   c|     N|  2000| false|2021-07-24 12:01:...|2021-07-24 12:01:19|                 1|\n",
      "|   d|     N|  3000| false|                null|               null|                 0|\n",
      "|   e|  null|  null|  null|                null|               null|                 0|\n",
      "+----+------+------+------+--------------------+-------------------+------------------+"
     ]
    }
   ],
   "source": [
    "from pyspark.sql.functions import when, col\n",
    "feature_name = \"converted_time\"\n",
    "df2 = df1.withColumn(\"new_\" + feature_name, when(df1[feature_name].isNull(), 0).otherwise(1))\n",
    "df2.show()"
   ]
  },
  {
   "cell_type": "code",
   "execution_count": 13,
   "id": "95cadd23",
   "metadata": {},
   "outputs": [
    {
     "data": {
      "application/vnd.jupyter.widget-view+json": {
       "model_id": "",
       "version_major": 2,
       "version_minor": 0
      },
      "text/plain": [
       "FloatProgress(value=0.0, bar_style='info', description='Progress:', layout=Layout(height='25px', width='50%'),…"
      ]
     },
     "metadata": {},
     "output_type": "display_data"
    },
    {
     "name": "stdout",
     "output_type": "stream",
     "text": [
      "+----+------+------+------+--------------------+\n",
      "|name|gender|salary|isgood|                time|\n",
      "+----+------+------+------+--------------------+\n",
      "|   a|     M|  1000|  true|2021-07-24 12:01:...|\n",
      "|   b|     F|     0|  true|2021-07-24 12:01:...|\n",
      "|   c|     N|  2000| false|2021-07-24 12:01:...|\n",
      "|   d|     N|  3000| false|                null|\n",
      "|   e|  null|  null|  null|                null|\n",
      "+----+------+------+------+--------------------+"
     ]
    }
   ],
   "source": [
    "df.show()"
   ]
  },
  {
   "cell_type": "code",
   "execution_count": 15,
   "id": "bff90626",
   "metadata": {},
   "outputs": [
    {
     "data": {
      "application/vnd.jupyter.widget-view+json": {
       "model_id": "",
       "version_major": 2,
       "version_minor": 0
      },
      "text/plain": [
       "FloatProgress(value=0.0, bar_style='info', description='Progress:', layout=Layout(height='25px', width='50%'),…"
      ]
     },
     "metadata": {},
     "output_type": "display_data"
    }
   ],
   "source": [
    "# from pyspark.sql.types import LongType\n",
    "df2 = df.withColumn(\"cast_isgood\", col(\"isgood\").cast(\"long\"))"
   ]
  },
  {
   "cell_type": "code",
   "execution_count": 16,
   "id": "f4e428fe",
   "metadata": {},
   "outputs": [
    {
     "data": {
      "application/vnd.jupyter.widget-view+json": {
       "model_id": "",
       "version_major": 2,
       "version_minor": 0
      },
      "text/plain": [
       "FloatProgress(value=0.0, bar_style='info', description='Progress:', layout=Layout(height='25px', width='50%'),…"
      ]
     },
     "metadata": {},
     "output_type": "display_data"
    },
    {
     "name": "stdout",
     "output_type": "stream",
     "text": [
      "+----+------+------+------+--------------------+-----------+\n",
      "|name|gender|salary|isgood|                time|cast_isgood|\n",
      "+----+------+------+------+--------------------+-----------+\n",
      "|   a|     M|  1000|  true|2021-07-24 12:01:...|          1|\n",
      "|   b|     F|     0|  true|2021-07-24 12:01:...|          1|\n",
      "|   c|     N|  2000| false|2021-07-24 12:01:...|          0|\n",
      "|   d|     N|  3000| false|                null|          0|\n",
      "|   e|  null|  null|  null|                null|       null|\n",
      "+----+------+------+------+--------------------+-----------+"
     ]
    }
   ],
   "source": [
    "df2.show()"
   ]
  },
  {
   "cell_type": "code",
   "execution_count": null,
   "id": "ea4209ed",
   "metadata": {},
   "outputs": [],
   "source": []
  },
  {
   "cell_type": "code",
   "execution_count": null,
   "id": "b4b72f1b",
   "metadata": {},
   "outputs": [],
   "source": []
  },
  {
   "cell_type": "code",
   "execution_count": null,
   "id": "d8171f4c",
   "metadata": {},
   "outputs": [],
   "source": []
  },
  {
   "cell_type": "code",
   "execution_count": 3,
   "id": "cec4361a",
   "metadata": {},
   "outputs": [
    {
     "data": {
      "application/vnd.jupyter.widget-view+json": {
       "model_id": "",
       "version_major": 2,
       "version_minor": 0
      },
      "text/plain": [
       "FloatProgress(value=0.0, bar_style='info', description='Progress:', layout=Layout(height='25px', width='50%'),…"
      ]
     },
     "metadata": {},
     "output_type": "display_data"
    }
   ],
   "source": [
    "import tecton\n",
    "from datetime import date, datetime, timedelta\n",
    "\n",
    "ws = tecton.get_workspace('prod')"
   ]
  },
  {
   "cell_type": "code",
   "execution_count": null,
   "id": "21837afb",
   "metadata": {},
   "outputs": [],
   "source": []
  }
 ],
 "metadata": {
  "kernelspec": {
   "display_name": "Sparkmagic (PySpark)",
   "language": "python",
   "name": "pysparkkernel"
  },
  "language_info": {
   "codemirror_mode": {
    "name": "python",
    "version": 3
   },
   "file_extension": ".py",
   "mimetype": "text/x-python",
   "name": "pyspark",
   "pygments_lexer": "python3"
  }
 },
 "nbformat": 4,
 "nbformat_minor": 5
}
