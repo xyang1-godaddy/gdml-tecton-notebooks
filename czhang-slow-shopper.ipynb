{
 "cells": [
  {
   "cell_type": "code",
   "execution_count": 4,
   "id": "f07980c5",
   "metadata": {
    "scrolled": false
   },
   "outputs": [
    {
     "name": "stdout",
     "output_type": "stream",
     "text": [
      "Starting Spark application\n"
     ]
    },
    {
     "data": {
      "text/html": [
       "<table>\n",
       "<tr><th>ID</th><th>YARN Application ID</th><th>Kind</th><th>State</th><th>Spark UI</th><th>Driver log</th><th>User</th><th>Current session?</th></tr><tr><td>1</td><td>application_1665680757566_0003</td><td>pyspark</td><td>idle</td><td><a target=\"_blank\" href=\"http://ip-192-168-10-15.us-west-2.compute.internal:20888/proxy/application_1665680757566_0003/\">Link</a></td><td><a target=\"_blank\" href=\"http://ip-192-168-9-48.us-west-2.compute.internal:8042/node/containerlogs/container_1665680757566_0003_01_000001/livy\">Link</a></td><td>None</td><td>✔</td></tr></table>"
      ],
      "text/plain": [
       "<IPython.core.display.HTML object>"
      ]
     },
     "metadata": {},
     "output_type": "display_data"
    },
    {
     "data": {
      "application/vnd.jupyter.widget-view+json": {
       "model_id": "",
       "version_major": 2,
       "version_minor": 0
      },
      "text/plain": [
       "FloatProgress(value=0.0, bar_style='info', description='Progress:', layout=Layout(height='25px', width='50%'),…"
      ]
     },
     "metadata": {},
     "output_type": "display_data"
    },
    {
     "name": "stdout",
     "output_type": "stream",
     "text": [
      "SparkSession available as 'spark'.\n"
     ]
    },
    {
     "data": {
      "application/vnd.jupyter.widget-view+json": {
       "model_id": "",
       "version_major": 2,
       "version_minor": 0
      },
      "text/plain": [
       "FloatProgress(value=0.0, bar_style='info', description='Progress:', layout=Layout(height='25px', width='50%'),…"
      ]
     },
     "metadata": {},
     "output_type": "display_data"
    }
   ],
   "source": [
    "import tecton"
   ]
  },
  {
   "cell_type": "code",
   "execution_count": 3,
   "id": "d186a7d9",
   "metadata": {},
   "outputs": [],
   "source": [
    "%%cleanup -f"
   ]
  },
  {
   "cell_type": "markdown",
   "id": "cc3260c5",
   "metadata": {},
   "source": [
    "# testing"
   ]
  },
  {
   "cell_type": "code",
   "execution_count": 17,
   "id": "a0819e43",
   "metadata": {},
   "outputs": [
    {
     "data": {
      "application/vnd.jupyter.widget-view+json": {
       "model_id": "",
       "version_major": 2,
       "version_minor": 0
      },
      "text/plain": [
       "FloatProgress(value=0.0, bar_style='info', description='Progress:', layout=Layout(height='25px', width='50%'),…"
      ]
     },
     "metadata": {},
     "output_type": "display_data"
    },
    {
     "name": "stdout",
     "output_type": "stream",
     "text": [
      "0"
     ]
    }
   ],
   "source": [
    "from datetime import datetime, timedelta\n",
    "ws = tecton.get_workspace('prod')\n",
    "data = ws.get_data_source('ads_bill_line_batch')\n",
    "now = datetime.now()\n",
    "before = day1 - timedelta(days=1)\n",
    "df = data.get_dataframe(start_time=before, end_time=now).to_spark()\n",
    "df.count()"
   ]
  },
  {
   "cell_type": "code",
   "execution_count": 13,
   "id": "9229f23f",
   "metadata": {},
   "outputs": [
    {
     "data": {
      "application/vnd.jupyter.widget-view+json": {
       "model_id": "",
       "version_major": 2,
       "version_minor": 0
      },
      "text/plain": [
       "FloatProgress(value=0.0, bar_style='info', description='Progress:', layout=Layout(height='25px', width='50%'),…"
      ]
     },
     "metadata": {},
     "output_type": "display_data"
    },
    {
     "name": "stdout",
     "output_type": "stream",
     "text": [
      "0"
     ]
    }
   ],
   "source": [
    "ws2 = tecton.get_workspace('czhang')\n",
    "data2 = ws2.get_data_source('ads_bill_line_batch')\n",
    "df2 = data2.get_dataframe(start_time=start_time, end_time=end_time).to_spark()\n",
    "df2.count()"
   ]
  },
  {
   "cell_type": "code",
   "execution_count": null,
   "id": "8918c2eb",
   "metadata": {},
   "outputs": [],
   "source": [
    "SLOW_SHOPPER_IDS = ['15633656', '24373138', '476253053', '476279225']\n",
    "column = 'merged_shopper_id'\n",
    "filtered_df = df.filter(~col(column).isin(SLOW_SHOPPER_IDS))\n",
    "filtered_df.count()"
   ]
  },
  {
   "cell_type": "code",
   "execution_count": null,
   "id": "a7fe59a9",
   "metadata": {},
   "outputs": [],
   "source": [
    "df.filter(col(column).isin(SLOW_SHOPPER_IDS)).head(1)"
   ]
  },
  {
   "cell_type": "code",
   "execution_count": 11,
   "id": "6502ae69",
   "metadata": {},
   "outputs": [
    {
     "data": {
      "application/vnd.jupyter.widget-view+json": {
       "model_id": "",
       "version_major": 2,
       "version_minor": 0
      },
      "text/plain": [
       "FloatProgress(value=0.0, bar_style='info', description='Progress:', layout=Layout(height='25px', width='50%'),…"
      ]
     },
     "metadata": {},
     "output_type": "display_data"
    },
    {
     "name": "stdout",
     "output_type": "stream",
     "text": [
      "192558"
     ]
    }
   ],
   "source": [
    "ws = tecton.get_workspace('prod')\n",
    "fv = ws.get_feature_view('customer_orders_lifetime')\n",
    "today = datetime.now()\n",
    "yesterday = today - timedelta(days=3)\n",
    "fv.get_historical_features(start_time=yesterday, end_time=today).to_spark().count()"
   ]
  },
  {
   "cell_type": "code",
   "execution_count": 16,
   "id": "6b9d030b",
   "metadata": {},
   "outputs": [
    {
     "data": {
      "application/vnd.jupyter.widget-view+json": {
       "model_id": "",
       "version_major": 2,
       "version_minor": 0
      },
      "text/plain": [
       "FloatProgress(value=0.0, bar_style='info', description='Progress:', layout=Layout(height='25px', width='50%'),…"
      ]
     },
     "metadata": {},
     "output_type": "display_data"
    },
    {
     "name": "stdout",
     "output_type": "stream",
     "text": [
      "369870"
     ]
    }
   ],
   "source": [
    "fv.run(start_time=yesterday, end_time=today).to_spark().count()"
   ]
  },
  {
   "cell_type": "code",
   "execution_count": null,
   "id": "e87eb2f5",
   "metadata": {},
   "outputs": [],
   "source": []
  },
  {
   "cell_type": "code",
   "execution_count": null,
   "id": "3e231947",
   "metadata": {},
   "outputs": [],
   "source": []
  },
  {
   "cell_type": "code",
   "execution_count": null,
   "id": "5770f771",
   "metadata": {},
   "outputs": [],
   "source": []
  },
  {
   "cell_type": "code",
   "execution_count": null,
   "id": "7d3c8acb",
   "metadata": {},
   "outputs": [],
   "source": []
  },
  {
   "cell_type": "code",
   "execution_count": null,
   "id": "8f8f3b7f",
   "metadata": {},
   "outputs": [],
   "source": []
  },
  {
   "cell_type": "code",
   "execution_count": null,
   "id": "9a5cb466",
   "metadata": {},
   "outputs": [],
   "source": []
  },
  {
   "cell_type": "code",
   "execution_count": null,
   "id": "fe76a408",
   "metadata": {},
   "outputs": [],
   "source": []
  },
  {
   "cell_type": "code",
   "execution_count": null,
   "id": "40146827",
   "metadata": {},
   "outputs": [],
   "source": []
  },
  {
   "cell_type": "markdown",
   "id": "fc68c526",
   "metadata": {},
   "source": [
    "# development"
   ]
  },
  {
   "cell_type": "code",
   "execution_count": 2,
   "id": "1a84b22e",
   "metadata": {},
   "outputs": [
    {
     "data": {
      "application/vnd.jupyter.widget-view+json": {
       "model_id": "",
       "version_major": 2,
       "version_minor": 0
      },
      "text/plain": [
       "FloatProgress(value=0.0, bar_style='info', description='Progress:', layout=Layout(height='25px', width='50%'),…"
      ]
     },
     "metadata": {},
     "output_type": "display_data"
    }
   ],
   "source": [
    "from pyspark.sql import SparkSession"
   ]
  },
  {
   "cell_type": "code",
   "execution_count": 4,
   "id": "3df6112c",
   "metadata": {},
   "outputs": [
    {
     "data": {
      "application/vnd.jupyter.widget-view+json": {
       "model_id": "",
       "version_major": 2,
       "version_minor": 0
      },
      "text/plain": [
       "FloatProgress(value=0.0, bar_style='info', description='Progress:', layout=Layout(height='25px', width='50%'),…"
      ]
     },
     "metadata": {},
     "output_type": "display_data"
    },
    {
     "name": "stdout",
     "output_type": "stream",
     "text": [
      "2014"
     ]
    }
   ],
   "source": [
    "spark = SparkSession.builder.master(\"local\").appName(\"tecton\").getOrCreate()\n",
    "\n",
    "df = spark.read.parquet(\"s3://gd-gdmltecton-stage-athena-queries/GD-AWS-USA-GD-gdmltecton-Ops/ads_bill_line/\")\n",
    "df.count()"
   ]
  },
  {
   "cell_type": "code",
   "execution_count": 5,
   "id": "eab283eb",
   "metadata": {},
   "outputs": [
    {
     "data": {
      "application/vnd.jupyter.widget-view+json": {
       "model_id": "",
       "version_major": 2,
       "version_minor": 0
      },
      "text/plain": [
       "FloatProgress(value=0.0, bar_style='info', description='Progress:', layout=Layout(height='25px', width='50%'),…"
      ]
     },
     "metadata": {},
     "output_type": "display_data"
    },
    {
     "name": "stdout",
     "output_type": "stream",
     "text": [
      "[Row(bill_id='2099417558', bill_line_num=8, bill_country_code='US', rep_version_id=0, private_label_id=1, bill_isc_source_code='???', bill_sub_geo_code='FL', bill_postal_code='33629', bill_source_name='Online', entered_by_name='customer', translation_language_name=None, primary_payment_type_name='paypal', primary_payment_subtype_name='paypal', secondary_payment_type_name='', secondary_payment_subtype_name='', bill_modified_mst_date_prior_year=datetime.date(2021, 5, 2), bill_isc_source_code_desc='Unknown', bill_isc_company_id=None, bill_isc_campaign_id=None, bill_isc_channel_id=28, bill_isc_product_id=None, bill_isc_vendor_id=None, bill_isc_media_specialist_id=None, bill_isc_sub_channel_id=None, bill_isc_channel_name='Branding', bill_isc_sub_channel_name='Unknown', bill_isc_vendor_name='Unknown', bill_isc_product_name='Unknown', bill_isc_media_specialist_name='Unknown', reseller_type_name='Go Daddy', reseller_name='GoDaddy.com', reseller_shopper_id=None, reseller_country_code='--', reseller_country_name='Unknown', c3_rep_name=None, c3_rep_supervisor_name=None, c3_rep_department_name='Web', c3_call_center_location_name='Web', bill_country_name='United States', bill_report_region_1_name='United States', bill_report_region_2_name='United States', bill_report_region_3_name='United States', bill_report_focal_country_name='United States', bill_report_sub_region_name='United States', bill_domestic_international_name='Domestic', merged_shopper_id='15633656', original_shopper_id='15633656', new_registered_user_bill_id=None, new_acquisition_bill_country_code='US', new_acquisition_bill_id='76103749', new_acquisition_bill_mst_date=datetime.date(2007, 7, 31), new_registered_user_bill_mst_date=None, federation_partner_id=None, federation_friendly_name=None, web_pro_participant_type_name=None, web_pro_shopper_id=None, original_shopper_exclude_reason_desc=None, original_shopper_exclude_reason_month_end_desc=None, shopper_domain_portfolio_qty=282, shopper_domain_portfolio_segment_name='100+ Active Domains', crm_portfolio_type_name=None, crm_portfolio_rep_id=None, crm_portfolio_rep_name=None, current_crm_portfolio_type_name=None, current_crm_portfolio_rep_id=None, current_crm_portfolio_rep_name=None, product_term_num=1, product_term_unit_desc='year', product_pnl_category_name='Domain Add Ons', product_pnl_group_name='Domains', product_pnl_line_name='Domain Ownership Protection', product_pnl_subline_name='Domain Ownership Protection', product_pnl_version_name='Domain Ownership Protection', original_product_pnl_new_renewal_name='New Purchase', product_type_desc='Domains By Proxy Service', product_type_id=23.0, product_name='Lite DOP EP-39049 Lite DOP Creation - 1 year(s)', pnl_new_renewal='New Purchase', bill_fraud_flag_ts=None, bill_fraud_flag_date=None, bill_fraud_review_id=None, free_trial_type_desc=None, free_trial_target_expiration_date=None, product_free_trial_acquisition_ts=None, original_bill_id='-1', original_bill_line_num=-1, source_system_name='legacy e-comm', bill_modified_mst_ts='2022-05-01 11:48:41', bill_modified_mst_date=datetime.date(2022, 5, 1), subaccount_shopper_id=None, item_tracking_code='cart_inline_dop', item_tracking_code_desc='DOP Bundle Cross Sell', purchase_path_name='Cart', purchase_path_attributed_name='Domain Purchase Path', department_id=550, accounting_company_id=1, pf_id=1329767, upgraded_pf_id=None, unit_qty=1, duration_qty=Decimal('1.000'), product_unit_qty=1, product_month_qty=Decimal('12.00'), receipt_price_usd_amt=Decimal('9.99'), receipt_price_trxn_amt=Decimal('9.99'), receipt_price_constant_currency_amt=Decimal('9.99'), gcr_usd_amt=Decimal('9.99'), gcr_trxn_amt=Decimal('9.99'), gcr_constant_currency_amt=Decimal('9.99'), margin_gcr_usd_amt=Decimal('9.99'), margin_gcr_trxn_amt=Decimal('9.99'), commission_usd_amt=Decimal('0.00'), commission_trxn_amt=Decimal('0.00'), aftermarket_seller_commission_usd_amt=Decimal('0.00'), aftermarket_seller_commission_trxn_amt=Decimal('0.00'), cost_usd_amt=Decimal('0.00'), cost_trxn_amt=Decimal('0.00'), msrp_duration_unit_usd_amt=Decimal('9.99'), msrp_duration_unit_trxn_amt=Decimal('9.99'), msrp_total_usd_amt=Decimal('9.99'), msrp_total_trxn_amt=Decimal('9.99'), fee_usd_amt=Decimal('0.00'), fee_trxn_amt=Decimal('0.00'), fair_market_value_usd_amt=Decimal('9.99'), fair_market_value_trxn_amt=Decimal('9.99'), tax_usd_amt=Decimal('0.00'), tax_trxn_amt=Decimal('0.00'), receipt_regular_price_usd_amt=Decimal('9.99'), receipt_regular_price_trxn_amt=Decimal('9.99'), injected_fair_market_value_usd_amt=Decimal('0.00'), injected_fair_market_value_trxn_amt=Decimal('0.00'), injected_icann_fee_usd_amt=Decimal('0.00'), injected_icann_fee_trxn_amt=Decimal('0.00'), injected_tax_usd_amt=Decimal('0.00'), injected_tax_trxn_amt=Decimal('0.00'), bundle_allocated_revenue_usd_amt=None, reseller_commission_usd_amt=None, parent_reseller_commission_usd_amt=None, trxn_currency_code='USD', offer_id=None, offer_collection_id=None, free_product_package_id=None, variant_price_type_id=0, variant_price_type_name='Standard Price', exclude_reason_desc=None, exclude_reason_month_end_desc=None, bill_site_language_code='en-us', c3_bill_source_code=None, c3_bill_process_name=None, free_trial_bill_type=None, free_trial_bill_date=None, virtual_bill_flag=False, free_bill_flag=False, bill_isc_viral_flag=False, new_acquisition_flag=False, new_registered_user_flag=False, product_free_term_flag=False, units_as_bills_flag=False, primary_product_flag=True, c3_receipt_move_flag=False, product_free_trial_flag=False, product_free_trial_conversion_flag=False, refund_flag=False, chargeback_flag=False, accounting_deferred_flag=True, renewal_price_locked_flag=False, bill_fraud_flag=False, c3_bill_flag=False, c3_attribution_type_name=None, product_pnl_new_renewal_name='New Purchase', customer_type_name='Investor', customer_type_reason_desc='DDC', domain_bulk_flag=False, domain_bulk_pricing_flag=False, pnl_priority_num=128, pnl_us_independent_flag=False, pnl_international_independent_flag=False, pnl_partner_flag=False, pnl_investor_flag=True, point_of_purchase_name='Web', sub_point_of_purchase_name='Web non-Care-initiated', shopper_product_purchase_type_name='Existing - Buying More', etl_build_mst_ts='2022-05-17 04:28:04', source_process_name='ads_bill_line.py (full)', partition_bill_mst_year_month='2022-05'), Row(bill_id='2099418955', bill_line_num=0, bill_country_code='US', rep_version_id=0, private_label_id=1, bill_isc_source_code='???', bill_sub_geo_code='FL', bill_postal_code='33180', bill_source_name='Online', entered_by_name='customer', translation_language_name=None, primary_payment_type_name='paypal', primary_payment_subtype_name='paypal', secondary_payment_type_name='', secondary_payment_subtype_name='', bill_modified_mst_date_prior_year=datetime.date(2021, 5, 2), bill_isc_source_code_desc='Unknown', bill_isc_company_id=None, bill_isc_campaign_id=None, bill_isc_channel_id=28, bill_isc_product_id=None, bill_isc_vendor_id=None, bill_isc_media_specialist_id=None, bill_isc_sub_channel_id=None, bill_isc_channel_name='Branding', bill_isc_sub_channel_name='Unknown', bill_isc_vendor_name='Unknown', bill_isc_product_name='Unknown', bill_isc_media_specialist_name='Unknown', reseller_type_name='Go Daddy', reseller_name='GoDaddy.com', reseller_shopper_id=None, reseller_country_code='--', reseller_country_name='Unknown', c3_rep_name=None, c3_rep_supervisor_name=None, c3_rep_department_name='Web', c3_call_center_location_name='Web', bill_country_name='United States', bill_report_region_1_name='United States', bill_report_region_2_name='United States', bill_report_region_3_name='United States', bill_report_focal_country_name='United States', bill_report_sub_region_name='United States', bill_domestic_international_name='Domestic', merged_shopper_id='24373138', original_shopper_id='24373138', new_registered_user_bill_id=None, new_acquisition_bill_country_code='US', new_acquisition_bill_id='136960537', new_acquisition_bill_mst_date=datetime.date(2008, 11, 5), new_registered_user_bill_mst_date=None, federation_partner_id=None, federation_friendly_name=None, web_pro_participant_type_name=None, web_pro_shopper_id=None, original_shopper_exclude_reason_desc=None, original_shopper_exclude_reason_month_end_desc=None, shopper_domain_portfolio_qty=108, shopper_domain_portfolio_segment_name='100+ Active Domains', crm_portfolio_type_name=None, crm_portfolio_rep_id=None, crm_portfolio_rep_name=None, current_crm_portfolio_type_name=None, current_crm_portfolio_rep_id=None, current_crm_portfolio_rep_name=None, product_term_num=1, product_term_unit_desc='year', product_pnl_category_name='Domain Registration', product_pnl_group_name='Domains', product_pnl_line_name='Domain Name Registration', product_pnl_subline_name='COM', product_pnl_version_name='COM', original_product_pnl_new_renewal_name='New Purchase', product_type_desc='Domain Registration', product_type_id=2.0, product_name='.COM Domain Name Registration - 1 Year (recurring)', pnl_new_renewal='New Purchase', bill_fraud_flag_ts=None, bill_fraud_flag_date=None, bill_fraud_review_id=None, free_trial_type_desc=None, free_trial_target_expiration_date=None, product_free_trial_acquisition_ts=None, original_bill_id='-1', original_bill_line_num=-1, source_system_name='legacy e-comm', bill_modified_mst_ts='2022-05-01 08:08:20', bill_modified_mst_date=datetime.date(2022, 5, 1), subaccount_shopper_id=None, item_tracking_code='dpp_absol1', item_tracking_code_desc='New absolute reg path', purchase_path_name='Domain Purchase Path', purchase_path_attributed_name='Domain Purchase Path', department_id=8, accounting_company_id=1, pf_id=101, upgraded_pf_id=None, unit_qty=1, duration_qty=Decimal('1.000'), product_unit_qty=1, product_month_qty=Decimal('12.00'), receipt_price_usd_amt=Decimal('12.17'), receipt_price_trxn_amt=Decimal('12.17'), receipt_price_constant_currency_amt=Decimal('12.17'), gcr_usd_amt=Decimal('12.17'), gcr_trxn_amt=Decimal('12.17'), gcr_constant_currency_amt=Decimal('12.17'), margin_gcr_usd_amt=Decimal('3.60'), margin_gcr_trxn_amt=Decimal('3.60'), commission_usd_amt=Decimal('0.00'), commission_trxn_amt=Decimal('0.00'), aftermarket_seller_commission_usd_amt=Decimal('0.00'), aftermarket_seller_commission_trxn_amt=Decimal('0.00'), cost_usd_amt=Decimal('8.39'), cost_trxn_amt=Decimal('8.39'), msrp_duration_unit_usd_amt=Decimal('20.17'), msrp_duration_unit_trxn_amt=Decimal('20.17'), msrp_total_usd_amt=Decimal('20.17'), msrp_total_trxn_amt=Decimal('20.17'), fee_usd_amt=Decimal('0.18'), fee_trxn_amt=Decimal('0.18'), fair_market_value_usd_amt=Decimal('11.99'), fair_market_value_trxn_amt=Decimal('11.99'), tax_usd_amt=Decimal('0.00'), tax_trxn_amt=Decimal('0.00'), receipt_regular_price_usd_amt=Decimal('12.17'), receipt_regular_price_trxn_amt=Decimal('12.17'), injected_fair_market_value_usd_amt=Decimal('0.00'), injected_fair_market_value_trxn_amt=Decimal('0.00'), injected_icann_fee_usd_amt=Decimal('0.00'), injected_icann_fee_trxn_amt=Decimal('0.00'), injected_tax_usd_amt=Decimal('0.00'), injected_tax_trxn_amt=Decimal('0.00'), bundle_allocated_revenue_usd_amt=None, reseller_commission_usd_amt=None, parent_reseller_commission_usd_amt=None, trxn_currency_code='USD', offer_id=None, offer_collection_id=None, free_product_package_id=1676, variant_price_type_id=0, variant_price_type_name='Standard Price', exclude_reason_desc=None, exclude_reason_month_end_desc=None, bill_site_language_code='en-us', c3_bill_source_code=None, c3_bill_process_name=None, free_trial_bill_type=None, free_trial_bill_date=None, virtual_bill_flag=False, free_bill_flag=False, bill_isc_viral_flag=False, new_acquisition_flag=False, new_registered_user_flag=False, product_free_term_flag=False, units_as_bills_flag=False, primary_product_flag=True, c3_receipt_move_flag=False, product_free_trial_flag=False, product_free_trial_conversion_flag=False, refund_flag=False, chargeback_flag=False, accounting_deferred_flag=True, renewal_price_locked_flag=False, bill_fraud_flag=False, c3_bill_flag=False, c3_attribution_type_name=None, product_pnl_new_renewal_name='New Purchase', customer_type_name='Investor', customer_type_reason_desc='DDC', domain_bulk_flag=False, domain_bulk_pricing_flag=False, pnl_priority_num=127, pnl_us_independent_flag=False, pnl_international_independent_flag=False, pnl_partner_flag=False, pnl_investor_flag=True, point_of_purchase_name='Web', sub_point_of_purchase_name='Web non-Care-initiated', shopper_product_purchase_type_name='Existing - Buying More', etl_build_mst_ts='2022-05-17 04:28:04', source_process_name='ads_bill_line.py (full)', partition_bill_mst_year_month='2022-05'), Row(bill_id='2099431354R', bill_line_num=0, bill_country_code='CA', rep_version_id=479469, private_label_id=1, bill_isc_source_code='COCAGCA004', bill_sub_geo_code='ON', bill_postal_code='L6T 0H7', bill_source_name='Phone', entered_by_name='Luis  Rivera', translation_language_name=None, primary_payment_type_name=None, primary_payment_subtype_name=None, secondary_payment_type_name='', secondary_payment_subtype_name='', bill_modified_mst_date_prior_year=datetime.date(2021, 5, 2), bill_isc_source_code_desc='99 cent .com or .ca', bill_isc_company_id=4, bill_isc_campaign_id=9, bill_isc_channel_id=24, bill_isc_product_id=2, bill_isc_vendor_id=35290, bill_isc_media_specialist_id=138, bill_isc_sub_channel_id=119, bill_isc_channel_name='Search', bill_isc_sub_channel_name='Search', bill_isc_vendor_name='Google Canada', bill_isc_product_name='Domains', bill_isc_media_specialist_name='Lou Klema', reseller_type_name='Go Daddy', reseller_name='GoDaddy.com', reseller_shopper_id=None, reseller_country_code='--', reseller_country_name='Unknown', c3_rep_name='Enderle, Andrew', c3_rep_supervisor_name='Baya, Nada', c3_rep_department_name='C3 Support Level 2', c3_call_center_location_name='Hiawatha', bill_country_name='Canada', bill_report_region_1_name='International - Top Markets', bill_report_region_2_name='Canada', bill_report_region_3_name='Canada', bill_report_focal_country_name='Canada', bill_report_sub_region_name='Canada', bill_domestic_international_name='International', merged_shopper_id='476253053', original_shopper_id='476253053', new_registered_user_bill_id=None, new_acquisition_bill_country_code='CA', new_acquisition_bill_id='2099431354', new_acquisition_bill_mst_date=datetime.date(2022, 4, 27), new_registered_user_bill_mst_date=None, federation_partner_id=None, federation_friendly_name=None, web_pro_participant_type_name=None, web_pro_shopper_id=None, original_shopper_exclude_reason_desc=None, original_shopper_exclude_reason_month_end_desc=None, shopper_domain_portfolio_qty=0, shopper_domain_portfolio_segment_name='0 Active Domains', crm_portfolio_type_name=None, crm_portfolio_rep_id=None, crm_portfolio_rep_name=None, current_crm_portfolio_type_name=None, current_crm_portfolio_rep_id=None, current_crm_portfolio_rep_name=None, product_term_num=3, product_term_unit_desc='year', product_pnl_category_name='Domain Registration', product_pnl_group_name='Domains', product_pnl_line_name='Domain Name Registration', product_pnl_subline_name='CA', product_pnl_version_name='Geo ccTLDs', original_product_pnl_new_renewal_name='New Purchase', product_type_desc='Domain Registration', product_type_id=2.0, product_name='.CA Domain Name Registration - 3 Years (recurring)', pnl_new_renewal='New Purchase', bill_fraud_flag_ts=None, bill_fraud_flag_date=None, bill_fraud_review_id=None, free_trial_type_desc=None, free_trial_target_expiration_date=None, product_free_trial_acquisition_ts=None, original_bill_id='2099431354', original_bill_line_num=0, source_system_name='legacy e-comm', bill_modified_mst_ts='2022-05-01 09:28:10', bill_modified_mst_date=datetime.date(2022, 5, 1), subaccount_shopper_id=None, item_tracking_code=None, item_tracking_code_desc='Unknown', purchase_path_name='Unknown', purchase_path_attributed_name='Unknown', department_id=8, accounting_company_id=1, pf_id=9407, upgraded_pf_id=None, unit_qty=-1, duration_qty=Decimal('1.000'), product_unit_qty=-1, product_month_qty=Decimal('-36.00'), receipt_price_usd_amt=Decimal('-33.44'), receipt_price_trxn_amt=Decimal('-42.97'), receipt_price_constant_currency_amt=Decimal('-33.92'), gcr_usd_amt=Decimal('0.00'), gcr_trxn_amt=Decimal('0.00'), gcr_constant_currency_amt=Decimal('0.00'), margin_gcr_usd_amt=Decimal('0.00'), margin_gcr_trxn_amt=Decimal('30.17'), commission_usd_amt=Decimal('0.00'), commission_trxn_amt=Decimal('0.00'), aftermarket_seller_commission_usd_amt=Decimal('0.00'), aftermarket_seller_commission_trxn_amt=Decimal('0.00'), cost_usd_amt=Decimal('0.00'), cost_trxn_amt=Decimal('-30.17'), msrp_duration_unit_usd_amt=Decimal('-46.67'), msrp_duration_unit_trxn_amt=Decimal('-59.97'), msrp_total_usd_amt=Decimal('-46.67'), msrp_total_trxn_amt=Decimal('-59.97'), fee_usd_amt=Decimal('0.00'), fee_trxn_amt=Decimal('0.00'), fair_market_value_usd_amt=Decimal('0.00'), fair_market_value_trxn_amt=Decimal('0.00'), tax_usd_amt=Decimal('-4.35'), tax_trxn_amt=Decimal('-5.59'), receipt_regular_price_usd_amt=Decimal('-42.78'), receipt_regular_price_trxn_amt=Decimal('-54.97'), injected_fair_market_value_usd_amt=Decimal('0.00'), injected_fair_market_value_trxn_amt=Decimal('0.00'), injected_icann_fee_usd_amt=Decimal('0.00'), injected_icann_fee_trxn_amt=Decimal('0.00'), injected_tax_usd_amt=Decimal('0.00'), injected_tax_trxn_amt=Decimal('0.00'), bundle_allocated_revenue_usd_amt=None, reseller_commission_usd_amt=None, parent_reseller_commission_usd_amt=None, trxn_currency_code='CAD', offer_id=None, offer_collection_id=None, free_product_package_id=1676, variant_price_type_id=0, variant_price_type_name='Standard Price', exclude_reason_desc=None, exclude_reason_month_end_desc=None, bill_site_language_code='Missing', c3_bill_source_code=None, c3_bill_process_name=None, free_trial_bill_type=None, free_trial_bill_date=None, virtual_bill_flag=False, free_bill_flag=False, bill_isc_viral_flag=False, new_acquisition_flag=False, new_registered_user_flag=False, product_free_term_flag=False, units_as_bills_flag=False, primary_product_flag=True, c3_receipt_move_flag=False, product_free_trial_flag=False, product_free_trial_conversion_flag=False, refund_flag=True, chargeback_flag=False, accounting_deferred_flag=False, renewal_price_locked_flag=False, bill_fraud_flag=False, c3_bill_flag=False, c3_attribution_type_name=None, product_pnl_new_renewal_name='New Purchase', customer_type_name='International Independent', customer_type_reason_desc='International First Order', domain_bulk_flag=False, domain_bulk_pricing_flag=False, pnl_priority_num=43, pnl_us_independent_flag=False, pnl_international_independent_flag=True, pnl_partner_flag=False, pnl_investor_flag=False, point_of_purchase_name='C3', sub_point_of_purchase_name='United States', shopper_product_purchase_type_name='Existing - Buying More', etl_build_mst_ts='2022-05-17 04:28:04', source_process_name='ads_bill_line.py (full)', partition_bill_mst_year_month='2022-05'), Row(bill_id='2099481230', bill_line_num=1, bill_country_code='GH', rep_version_id=0, private_label_id=1, bill_isc_source_code='???', bill_sub_geo_code='GREATER ACCRA REGION', bill_postal_code='00233', bill_source_name='Online', entered_by_name='customer', translation_language_name=None, primary_payment_type_name='credit card', primary_payment_subtype_name='visa', secondary_payment_type_name='', secondary_payment_subtype_name='', bill_modified_mst_date_prior_year=datetime.date(2021, 5, 2), bill_isc_source_code_desc='Unknown', bill_isc_company_id=None, bill_isc_campaign_id=None, bill_isc_channel_id=28, bill_isc_product_id=None, bill_isc_vendor_id=None, bill_isc_media_specialist_id=None, bill_isc_sub_channel_id=None, bill_isc_channel_name='Branding', bill_isc_sub_channel_name='Unknown', bill_isc_vendor_name='Unknown', bill_isc_product_name='Unknown', bill_isc_media_specialist_name='Unknown', reseller_type_name='Go Daddy', reseller_name='GoDaddy.com', reseller_shopper_id=None, reseller_country_code='--', reseller_country_name='Unknown', c3_rep_name=None, c3_rep_supervisor_name=None, c3_rep_department_name='Web', c3_call_center_location_name='Web', bill_country_name='Ghana', bill_report_region_1_name='International - RoW', bill_report_region_2_name='Rest of World (RoW)', bill_report_region_3_name='RoW English', bill_report_focal_country_name='Rest of World - Other', bill_report_sub_region_name='ROEMEA', bill_domestic_international_name='International', merged_shopper_id='476279225', original_shopper_id='476279225', new_registered_user_bill_id=None, new_acquisition_bill_country_code='GH', new_acquisition_bill_id='2099481230', new_acquisition_bill_mst_date=datetime.date(2022, 5, 1), new_registered_user_bill_mst_date=None, federation_partner_id=None, federation_friendly_name=None, web_pro_participant_type_name=None, web_pro_shopper_id=None, original_shopper_exclude_reason_desc=None, original_shopper_exclude_reason_month_end_desc=None, shopper_domain_portfolio_qty=1, shopper_domain_portfolio_segment_name='1 Active Domain', crm_portfolio_type_name=None, crm_portfolio_rep_id=None, crm_portfolio_rep_name=None, current_crm_portfolio_type_name=None, current_crm_portfolio_rep_id=None, current_crm_portfolio_rep_name=None, product_term_num=1, product_term_unit_desc='month', product_pnl_category_name='Presence', product_pnl_group_name='Presence and Commerce', product_pnl_line_name='Website Builder', product_pnl_subline_name='Deluxe', product_pnl_version_name='vNext', original_product_pnl_new_renewal_name='New Purchase', product_type_desc='Website Builder wsb', product_type_id=536.0, product_name='Website Builder Free Trial', pnl_new_renewal='New Purchase', bill_fraud_flag_ts=None, bill_fraud_flag_date=None, bill_fraud_review_id=None, free_trial_type_desc='free trial', free_trial_target_expiration_date=datetime.date(2022, 5, 27), product_free_trial_acquisition_ts='2022-05-01 11:29:11.813', original_bill_id='-1', original_bill_line_num=-1, source_system_name='legacy e-comm', bill_modified_mst_ts='2022-05-01 11:29:10', bill_modified_mst_date=datetime.date(2022, 5, 1), subaccount_shopper_id=None, item_tracking_code='dpp_config1', item_tracking_code_desc='New DPP Config ITC', purchase_path_name='Domain Purchase Path', purchase_path_attributed_name='Domain Purchase Path', department_id=22, accounting_company_id=1, pf_id=1058162, upgraded_pf_id=None, unit_qty=1, duration_qty=Decimal('1.000'), product_unit_qty=1, product_month_qty=Decimal('1.00'), receipt_price_usd_amt=Decimal('0.00'), receipt_price_trxn_amt=Decimal('0.00'), receipt_price_constant_currency_amt=Decimal('0.00'), gcr_usd_amt=Decimal('0.00'), gcr_trxn_amt=Decimal('0.00'), gcr_constant_currency_amt=Decimal('0.00'), margin_gcr_usd_amt=Decimal('0.00'), margin_gcr_trxn_amt=Decimal('0.00'), commission_usd_amt=Decimal('0.00'), commission_trxn_amt=Decimal('0.00'), aftermarket_seller_commission_usd_amt=Decimal('0.00'), aftermarket_seller_commission_trxn_amt=Decimal('0.00'), cost_usd_amt=Decimal('0.00'), cost_trxn_amt=Decimal('0.00'), msrp_duration_unit_usd_amt=Decimal('0.00'), msrp_duration_unit_trxn_amt=Decimal('0.00'), msrp_total_usd_amt=Decimal('0.00'), msrp_total_trxn_amt=Decimal('0.00'), fee_usd_amt=Decimal('0.00'), fee_trxn_amt=Decimal('0.00'), fair_market_value_usd_amt=Decimal('0.00'), fair_market_value_trxn_amt=Decimal('0.00'), tax_usd_amt=Decimal('0.00'), tax_trxn_amt=Decimal('0.00'), receipt_regular_price_usd_amt=Decimal('0.00'), receipt_regular_price_trxn_amt=Decimal('0.00'), injected_fair_market_value_usd_amt=Decimal('0.00'), injected_fair_market_value_trxn_amt=Decimal('0.00'), injected_icann_fee_usd_amt=Decimal('0.00'), injected_icann_fee_trxn_amt=Decimal('0.00'), injected_tax_usd_amt=Decimal('0.00'), injected_tax_trxn_amt=Decimal('0.00'), bundle_allocated_revenue_usd_amt=None, reseller_commission_usd_amt=None, parent_reseller_commission_usd_amt=None, trxn_currency_code='GBP', offer_id=None, offer_collection_id=None, free_product_package_id=None, variant_price_type_id=0, variant_price_type_name='Standard Price', exclude_reason_desc=None, exclude_reason_month_end_desc=None, bill_site_language_code='en-gb', c3_bill_source_code=None, c3_bill_process_name=None, free_trial_bill_type='standard', free_trial_bill_date=datetime.date(2022, 5, 1), virtual_bill_flag=False, free_bill_flag=False, bill_isc_viral_flag=False, new_acquisition_flag=True, new_registered_user_flag=False, product_free_term_flag=False, units_as_bills_flag=True, primary_product_flag=True, c3_receipt_move_flag=False, product_free_trial_flag=True, product_free_trial_conversion_flag=False, refund_flag=False, chargeback_flag=False, accounting_deferred_flag=True, renewal_price_locked_flag=True, bill_fraud_flag=False, c3_bill_flag=False, c3_attribution_type_name=None, product_pnl_new_renewal_name='New Purchase', customer_type_name='International Independent', customer_type_reason_desc='International First Order', domain_bulk_flag=False, domain_bulk_pricing_flag=False, pnl_priority_num=53, pnl_us_independent_flag=False, pnl_international_independent_flag=True, pnl_partner_flag=False, pnl_investor_flag=False, point_of_purchase_name='Web', sub_point_of_purchase_name='Web non-Care-initiated', shopper_product_purchase_type_name='New - New', etl_build_mst_ts='2022-05-17 04:28:04', source_process_name='ads_bill_line.py (full)', partition_bill_mst_year_month='2022-05'), Row(bill_id='2099507459', bill_line_num=9, bill_country_code='US', rep_version_id=0, private_label_id=1, bill_isc_source_code='???', bill_sub_geo_code='WI', bill_postal_code='53223', bill_source_name='Online', entered_by_name='customer', translation_language_name=None, primary_payment_type_name='credit card', primary_payment_subtype_name='visa', secondary_payment_type_name='', secondary_payment_subtype_name='', bill_modified_mst_date_prior_year=datetime.date(2021, 5, 2), bill_isc_source_code_desc='Unknown', bill_isc_company_id=None, bill_isc_campaign_id=None, bill_isc_channel_id=28, bill_isc_product_id=None, bill_isc_vendor_id=None, bill_isc_media_specialist_id=None, bill_isc_sub_channel_id=None, bill_isc_channel_name='Branding', bill_isc_sub_channel_name='Unknown', bill_isc_vendor_name='Unknown', bill_isc_product_name='Unknown', bill_isc_media_specialist_name='Unknown', reseller_type_name='Go Daddy', reseller_name='GoDaddy.com', reseller_shopper_id=None, reseller_country_code='--', reseller_country_name='Unknown', c3_rep_name=None, c3_rep_supervisor_name=None, c3_rep_department_name='Web', c3_call_center_location_name='Web', bill_country_name='United States', bill_report_region_1_name='United States', bill_report_region_2_name='United States', bill_report_region_3_name='United States', bill_report_focal_country_name='United States', bill_report_sub_region_name='United States', bill_domestic_international_name='Domestic', merged_shopper_id='52371380', original_shopper_id='52371380', new_registered_user_bill_id=None, new_acquisition_bill_country_code='US', new_acquisition_bill_id='423931541', new_acquisition_bill_mst_date=datetime.date(2012, 5, 5), new_registered_user_bill_mst_date=None, federation_partner_id=None, federation_friendly_name=None, web_pro_participant_type_name=None, web_pro_shopper_id=None, original_shopper_exclude_reason_desc=None, original_shopper_exclude_reason_month_end_desc=None, shopper_domain_portfolio_qty=44, shopper_domain_portfolio_segment_name='25-49 Active Domains', crm_portfolio_type_name=None, crm_portfolio_rep_id=None, crm_portfolio_rep_name=None, current_crm_portfolio_type_name=None, current_crm_portfolio_rep_id=None, current_crm_portfolio_rep_name=None, product_term_num=1, product_term_unit_desc='year', product_pnl_category_name='Domain Add Ons', product_pnl_group_name='Domains', product_pnl_line_name='Domain Ownership Protection', product_pnl_subline_name='Full', product_pnl_version_name='Domain Ownership Protection', original_product_pnl_new_renewal_name='Renewal', product_type_desc='Domains By Proxy Service Renewal', product_type_id=24.0, product_name='Full Domain Privacy and Protection - Renewal', pnl_new_renewal='Renewal', bill_fraud_flag_ts=None, bill_fraud_flag_date=None, bill_fraud_review_id=None, free_trial_type_desc=None, free_trial_target_expiration_date=None, product_free_trial_acquisition_ts=None, original_bill_id='-1', original_bill_line_num=-1, source_system_name='legacy e-comm', bill_modified_mst_ts='2022-05-01 14:02:13', bill_modified_mst_date=datetime.date(2022, 5, 1), subaccount_shopper_id=None, item_tracking_code='mya_acctsettings_subscriptions_multiselect', item_tracking_code_desc='Acct Settings - Subscriptions Multi Product View', purchase_path_name='My Account', purchase_path_attributed_name='My Account', department_id=1550, accounting_company_id=1, pf_id=1307405, upgraded_pf_id=None, unit_qty=1, duration_qty=Decimal('1.000'), product_unit_qty=1, product_month_qty=Decimal('12.00'), receipt_price_usd_amt=Decimal('9.99'), receipt_price_trxn_amt=Decimal('9.99'), receipt_price_constant_currency_amt=Decimal('9.99'), gcr_usd_amt=Decimal('9.99'), gcr_trxn_amt=Decimal('9.99'), gcr_constant_currency_amt=Decimal('9.99'), margin_gcr_usd_amt=Decimal('9.99'), margin_gcr_trxn_amt=Decimal('9.99'), commission_usd_amt=Decimal('0.00'), commission_trxn_amt=Decimal('0.00'), aftermarket_seller_commission_usd_amt=Decimal('0.00'), aftermarket_seller_commission_trxn_amt=Decimal('0.00'), cost_usd_amt=Decimal('0.00'), cost_trxn_amt=Decimal('0.00'), msrp_duration_unit_usd_amt=Decimal('9.99'), msrp_duration_unit_trxn_amt=Decimal('9.99'), msrp_total_usd_amt=Decimal('9.99'), msrp_total_trxn_amt=Decimal('9.99'), fee_usd_amt=Decimal('0.00'), fee_trxn_amt=Decimal('0.00'), fair_market_value_usd_amt=Decimal('9.99'), fair_market_value_trxn_amt=Decimal('9.99'), tax_usd_amt=Decimal('0.00'), tax_trxn_amt=Decimal('0.00'), receipt_regular_price_usd_amt=Decimal('9.99'), receipt_regular_price_trxn_amt=Decimal('9.99'), injected_fair_market_value_usd_amt=Decimal('0.00'), injected_fair_market_value_trxn_amt=Decimal('0.00'), injected_icann_fee_usd_amt=Decimal('0.00'), injected_icann_fee_trxn_amt=Decimal('0.00'), injected_tax_usd_amt=Decimal('0.00'), injected_tax_trxn_amt=Decimal('0.00'), bundle_allocated_revenue_usd_amt=None, reseller_commission_usd_amt=None, parent_reseller_commission_usd_amt=None, trxn_currency_code='USD', offer_id=None, offer_collection_id=None, free_product_package_id=None, variant_price_type_id=0, variant_price_type_name='Standard Price', exclude_reason_desc=None, exclude_reason_month_end_desc=None, bill_site_language_code='en-us', c3_bill_source_code=None, c3_bill_process_name=None, free_trial_bill_type=None, free_trial_bill_date=None, virtual_bill_flag=False, free_bill_flag=False, bill_isc_viral_flag=False, new_acquisition_flag=False, new_registered_user_flag=False, product_free_term_flag=False, units_as_bills_flag=False, primary_product_flag=False, c3_receipt_move_flag=False, product_free_trial_flag=False, product_free_trial_conversion_flag=False, refund_flag=False, chargeback_flag=False, accounting_deferred_flag=True, renewal_price_locked_flag=False, bill_fraud_flag=False, c3_bill_flag=False, c3_attribution_type_name=None, product_pnl_new_renewal_name='Renewal', customer_type_name='Investor', customer_type_reason_desc='Portfolio Size', domain_bulk_flag=False, domain_bulk_pricing_flag=False, pnl_priority_num=149, pnl_us_independent_flag=False, pnl_international_independent_flag=False, pnl_partner_flag=False, pnl_investor_flag=True, point_of_purchase_name='Web', sub_point_of_purchase_name='Web non-Care-initiated', shopper_product_purchase_type_name='Existing - Buying More', etl_build_mst_ts='2022-05-17 04:28:04', source_process_name='ads_bill_line.py (full)', partition_bill_mst_year_month='2022-05'), Row(bill_id='2099545802', bill_line_num=2, bill_country_code='US', rep_version_id=0, private_label_id=1, bill_isc_source_code='GOFX2001A', bill_sub_geo_code='AA', bill_postal_code='75219', bill_source_name='Online', entered_by_name='customer', translation_language_name=None, primary_payment_type_name='credit card', primary_payment_subtype_name='amex', secondary_payment_type_name='', secondary_payment_subtype_name='', bill_modified_mst_date_prior_year=datetime.date(2021, 5, 2), bill_isc_source_code_desc='$2.99 COM, new/txfr, 1/customer, 1st yr, $9.99 FB', bill_isc_company_id=4, bill_isc_campaign_id=9, bill_isc_channel_id=24, bill_isc_product_id=2, bill_isc_vendor_id=348, bill_isc_media_specialist_id=71, bill_isc_sub_channel_id=119, bill_isc_channel_name='Search', bill_isc_sub_channel_name='Search', bill_isc_vendor_name='Google', bill_isc_product_name='Domains', bill_isc_media_specialist_name='Sarah Farebrother', reseller_type_name='Go Daddy', reseller_name='GoDaddy.com', reseller_shopper_id=None, reseller_country_code='--', reseller_country_name='Unknown', c3_rep_name=None, c3_rep_supervisor_name=None, c3_rep_department_name='Web', c3_call_center_location_name='Web', bill_country_name='United States', bill_report_region_1_name='United States', bill_report_region_2_name='United States', bill_report_region_3_name='United States', bill_report_focal_country_name='United States', bill_report_sub_region_name='United States', bill_domestic_international_name='Domestic', merged_shopper_id='236586717', original_shopper_id='236586717', new_registered_user_bill_id='1578438930', new_acquisition_bill_country_code='US', new_acquisition_bill_id='2094518105', new_acquisition_bill_mst_date=datetime.date(2022, 4, 23), new_registered_user_bill_mst_date=datetime.date(2019, 10, 28), federation_partner_id=None, federation_friendly_name=None, web_pro_participant_type_name=None, web_pro_shopper_id=None, original_shopper_exclude_reason_desc=None, original_shopper_exclude_reason_month_end_desc=None, shopper_domain_portfolio_qty=13, shopper_domain_portfolio_segment_name='7-14 Active Domains', crm_portfolio_type_name=None, crm_portfolio_rep_id=None, crm_portfolio_rep_name=None, current_crm_portfolio_type_name=None, current_crm_portfolio_rep_id=None, current_crm_portfolio_rep_name=None, product_term_num=1, product_term_unit_desc='year', product_pnl_category_name='Domain Registration', product_pnl_group_name='Domains', product_pnl_line_name='Domain Name Registration', product_pnl_subline_name='COM', product_pnl_version_name='COM', original_product_pnl_new_renewal_name='New Purchase', product_type_desc='Bulk Registrations', product_type_id=4.0, product_name='.COM Bulk Domain Name Registration (6-20) (recurring)', pnl_new_renewal='New Purchase', bill_fraud_flag_ts=None, bill_fraud_flag_date=None, bill_fraud_review_id=None, free_trial_type_desc=None, free_trial_target_expiration_date=None, product_free_trial_acquisition_ts=None, original_bill_id='-1', original_bill_line_num=-1, source_system_name='legacy e-comm', bill_modified_mst_ts='2022-05-01 02:40:36', bill_modified_mst_date=datetime.date(2022, 5, 1), subaccount_shopper_id=None, item_tracking_code='dpp_absol1', item_tracking_code_desc='New absolute reg path', purchase_path_name='Domain Purchase Path', purchase_path_attributed_name='Domain Purchase Path', department_id=88, accounting_company_id=1, pf_id=966, upgraded_pf_id=None, unit_qty=1, duration_qty=Decimal('1.000'), product_unit_qty=1, product_month_qty=Decimal('12.00'), receipt_price_usd_amt=Decimal('3.17'), receipt_price_trxn_amt=Decimal('3.17'), receipt_price_constant_currency_amt=Decimal('3.17'), gcr_usd_amt=Decimal('8.93'), gcr_trxn_amt=Decimal('8.93'), gcr_constant_currency_amt=Decimal('8.93'), margin_gcr_usd_amt=Decimal('0.36'), margin_gcr_trxn_amt=Decimal('0.36'), commission_usd_amt=Decimal('0.00'), commission_trxn_amt=Decimal('0.00'), aftermarket_seller_commission_usd_amt=Decimal('0.00'), aftermarket_seller_commission_trxn_amt=Decimal('0.00'), cost_usd_amt=Decimal('8.39'), cost_trxn_amt=Decimal('8.39'), msrp_duration_unit_usd_amt=Decimal('20.17'), msrp_duration_unit_trxn_amt=Decimal('20.17'), msrp_total_usd_amt=Decimal('20.17'), msrp_total_trxn_amt=Decimal('20.17'), fee_usd_amt=Decimal('0.18'), fee_trxn_amt=Decimal('0.18'), fair_market_value_usd_amt=Decimal('8.75'), fair_market_value_trxn_amt=Decimal('8.75'), tax_usd_amt=Decimal('0.00'), tax_trxn_amt=Decimal('0.00'), receipt_regular_price_usd_amt=Decimal('12.17'), receipt_regular_price_trxn_amt=Decimal('12.17'), injected_fair_market_value_usd_amt=Decimal('0.00'), injected_fair_market_value_trxn_amt=Decimal('0.00'), injected_icann_fee_usd_amt=Decimal('0.00'), injected_icann_fee_trxn_amt=Decimal('0.00'), injected_tax_usd_amt=Decimal('0.00'), injected_tax_trxn_amt=Decimal('0.00'), bundle_allocated_revenue_usd_amt=None, reseller_commission_usd_amt=None, parent_reseller_commission_usd_amt=None, trxn_currency_code='USD', offer_id=None, offer_collection_id=None, free_product_package_id=1676, variant_price_type_id=0, variant_price_type_name='Standard Price', exclude_reason_desc=None, exclude_reason_month_end_desc=None, bill_site_language_code='en-us', c3_bill_source_code=None, c3_bill_process_name=None, free_trial_bill_type=None, free_trial_bill_date=None, virtual_bill_flag=False, free_bill_flag=False, bill_isc_viral_flag=False, new_acquisition_flag=False, new_registered_user_flag=False, product_free_term_flag=False, units_as_bills_flag=False, primary_product_flag=True, c3_receipt_move_flag=False, product_free_trial_flag=False, product_free_trial_conversion_flag=False, refund_flag=False, chargeback_flag=False, accounting_deferred_flag=True, renewal_price_locked_flag=False, bill_fraud_flag=False, c3_bill_flag=False, c3_attribution_type_name=None, product_pnl_new_renewal_name='New Purchase', customer_type_name='US Independent', customer_type_reason_desc='US First Order', domain_bulk_flag=False, domain_bulk_pricing_flag=True, pnl_priority_num=1, pnl_us_independent_flag=True, pnl_international_independent_flag=False, pnl_partner_flag=False, pnl_investor_flag=False, point_of_purchase_name='Web', sub_point_of_purchase_name='Web non-Care-initiated', shopper_product_purchase_type_name='Existing - Buying More', etl_build_mst_ts='2022-05-17 04:28:04', source_process_name='ads_bill_line.py (full)', partition_bill_mst_year_month='2022-05'), Row(bill_id='2099547106R', bill_line_num=2, bill_country_code='BR', rep_version_id=412668, private_label_id=1, bill_isc_source_code='GDBBG2470', bill_sub_geo_code='PE', bill_postal_code='51130050', bill_source_name='Online', entered_by_name='customer', translation_language_name=None, primary_payment_type_name=None, primary_payment_subtype_name=None, secondary_payment_type_name='', secondary_payment_subtype_name='', bill_modified_mst_date_prior_year=datetime.date(2021, 5, 2), bill_isc_source_code_desc='TE 2470', bill_isc_company_id=4, bill_isc_campaign_id=227774, bill_isc_channel_id=43, bill_isc_product_id=6, bill_isc_vendor_id=275, bill_isc_media_specialist_id=290, bill_isc_sub_channel_id=167, bill_isc_channel_name='Database Marketing', bill_isc_sub_channel_name='Marketing eMail', bill_isc_vendor_name='Go Daddy', bill_isc_product_name='Miscellaneous', bill_isc_media_specialist_name='Oberzen Starkey', reseller_type_name='Go Daddy', reseller_name='GoDaddy.com', reseller_shopper_id=None, reseller_country_code='--', reseller_country_name='Unknown', c3_rep_name='Ruiz, Chris', c3_rep_supervisor_name='Leonetti, Megan', c3_rep_department_name='Web', c3_call_center_location_name='Web', bill_country_name='Brazil', bill_report_region_1_name='International - RoW', bill_report_region_2_name='Rest of World (RoW)', bill_report_region_3_name='RoW Portuguese', bill_report_focal_country_name='Brazil', bill_report_sub_region_name='Brazil', bill_domestic_international_name='International', merged_shopper_id='476155590', original_shopper_id='476155590', new_registered_user_bill_id=None, new_acquisition_bill_country_code='BR', new_acquisition_bill_id='2097124741', new_acquisition_bill_mst_date=datetime.date(2022, 4, 26), new_registered_user_bill_mst_date=None, federation_partner_id=None, federation_friendly_name=None, web_pro_participant_type_name=None, web_pro_shopper_id=None, original_shopper_exclude_reason_desc=None, original_shopper_exclude_reason_month_end_desc=None, shopper_domain_portfolio_qty=0, shopper_domain_portfolio_segment_name='0 Active Domains', crm_portfolio_type_name=None, crm_portfolio_rep_id=None, crm_portfolio_rep_name=None, current_crm_portfolio_type_name=None, current_crm_portfolio_rep_id=None, current_crm_portfolio_rep_name=None, product_term_num=1, product_term_unit_desc='year', product_pnl_category_name='Domain Registration', product_pnl_group_name='Domains', product_pnl_line_name='Domain Name Registration', product_pnl_subline_name='SITE', product_pnl_version_name='New gTLDs', original_product_pnl_new_renewal_name='New Purchase', product_type_desc='Domain Registration', product_type_id=2.0, product_name='.SITE Tier 1 Domain Name Registration - 1  Year', pnl_new_renewal='New Purchase', bill_fraud_flag_ts=None, bill_fraud_flag_date=None, bill_fraud_review_id=None, free_trial_type_desc=None, free_trial_target_expiration_date=None, product_free_trial_acquisition_ts=None, original_bill_id='2099547106', original_bill_line_num=2, source_system_name='legacy e-comm', bill_modified_mst_ts='2022-05-01 11:11:28', bill_modified_mst_date=datetime.date(2022, 5, 1), subaccount_shopper_id=None, item_tracking_code=None, item_tracking_code_desc='Unknown', purchase_path_name='Unknown', purchase_path_attributed_name='Unknown', department_id=8, accounting_company_id=1, pf_id=600588, upgraded_pf_id=None, unit_qty=-1, duration_qty=Decimal('1.000'), product_unit_qty=-1, product_month_qty=Decimal('-12.00'), receipt_price_usd_amt=Decimal('-2.18'), receipt_price_trxn_amt=Decimal('-10.85'), receipt_price_constant_currency_amt=Decimal('-2.06'), gcr_usd_amt=Decimal('-0.18'), gcr_trxn_amt=Decimal('-0.90'), gcr_constant_currency_amt=Decimal('-0.17'), margin_gcr_usd_amt=Decimal('0.00'), margin_gcr_trxn_amt=Decimal('4.97'), commission_usd_amt=Decimal('0.00'), commission_trxn_amt=Decimal('0.00'), aftermarket_seller_commission_usd_amt=Decimal('0.00'), aftermarket_seller_commission_trxn_amt=Decimal('0.00'), cost_usd_amt=Decimal('0.00'), cost_trxn_amt=Decimal('-4.97'), msrp_duration_unit_usd_amt=Decimal('-40.39'), msrp_duration_unit_trxn_amt=Decimal('-200.85'), msrp_total_usd_amt=Decimal('-40.39'), msrp_total_trxn_amt=Decimal('-200.85'), fee_usd_amt=Decimal('-0.18'), fee_trxn_amt=Decimal('-0.90'), fair_market_value_usd_amt=Decimal('0.00'), fair_market_value_trxn_amt=Decimal('0.00'), tax_usd_amt=Decimal('0.00'), tax_trxn_amt=Decimal('0.00'), receipt_regular_price_usd_amt=Decimal('-2.18'), receipt_regular_price_trxn_amt=Decimal('-10.85'), injected_fair_market_value_usd_amt=Decimal('0.00'), injected_fair_market_value_trxn_amt=Decimal('0.00'), injected_icann_fee_usd_amt=Decimal('0.00'), injected_icann_fee_trxn_amt=Decimal('0.00'), injected_tax_usd_amt=Decimal('0.00'), injected_tax_trxn_amt=Decimal('0.00'), bundle_allocated_revenue_usd_amt=None, reseller_commission_usd_amt=None, parent_reseller_commission_usd_amt=None, trxn_currency_code='BRL', offer_id=None, offer_collection_id=None, free_product_package_id=1676, variant_price_type_id=0, variant_price_type_name='Standard Price', exclude_reason_desc=None, exclude_reason_month_end_desc=None, bill_site_language_code='Missing', c3_bill_source_code=None, c3_bill_process_name=None, free_trial_bill_type=None, free_trial_bill_date=None, virtual_bill_flag=False, free_bill_flag=False, bill_isc_viral_flag=False, new_acquisition_flag=False, new_registered_user_flag=False, product_free_term_flag=False, units_as_bills_flag=False, primary_product_flag=True, c3_receipt_move_flag=False, product_free_trial_flag=False, product_free_trial_conversion_flag=False, refund_flag=True, chargeback_flag=False, accounting_deferred_flag=False, renewal_price_locked_flag=False, bill_fraud_flag=False, c3_bill_flag=False, c3_attribution_type_name=None, product_pnl_new_renewal_name='New Purchase', customer_type_name='International Independent', customer_type_reason_desc='International First Order', domain_bulk_flag=False, domain_bulk_pricing_flag=False, pnl_priority_num=43, pnl_us_independent_flag=False, pnl_international_independent_flag=True, pnl_partner_flag=False, pnl_investor_flag=False, point_of_purchase_name='Web', sub_point_of_purchase_name='Web non-Care-initiated', shopper_product_purchase_type_name='Existing - Buying More', etl_build_mst_ts='2022-05-17 04:28:04', source_process_name='ads_bill_line.py (full)', partition_bill_mst_year_month='2022-05'), Row(bill_id='2099547106R', bill_line_num=3, bill_country_code='BR', rep_version_id=412668, private_label_id=1, bill_isc_source_code='GDBBG2470', bill_sub_geo_code='PE', bill_postal_code='51130050', bill_source_name='Online', entered_by_name='customer', translation_language_name=None, primary_payment_type_name=None, primary_payment_subtype_name=None, secondary_payment_type_name='', secondary_payment_subtype_name='', bill_modified_mst_date_prior_year=datetime.date(2021, 5, 2), bill_isc_source_code_desc='TE 2470', bill_isc_company_id=4, bill_isc_campaign_id=227774, bill_isc_channel_id=43, bill_isc_product_id=6, bill_isc_vendor_id=275, bill_isc_media_specialist_id=290, bill_isc_sub_channel_id=167, bill_isc_channel_name='Database Marketing', bill_isc_sub_channel_name='Marketing eMail', bill_isc_vendor_name='Go Daddy', bill_isc_product_name='Miscellaneous', bill_isc_media_specialist_name='Oberzen Starkey', reseller_type_name='Go Daddy', reseller_name='GoDaddy.com', reseller_shopper_id=None, reseller_country_code='--', reseller_country_name='Unknown', c3_rep_name='Ruiz, Chris', c3_rep_supervisor_name='Leonetti, Megan', c3_rep_department_name='Web', c3_call_center_location_name='Web', bill_country_name='Brazil', bill_report_region_1_name='International - RoW', bill_report_region_2_name='Rest of World (RoW)', bill_report_region_3_name='RoW Portuguese', bill_report_focal_country_name='Brazil', bill_report_sub_region_name='Brazil', bill_domestic_international_name='International', merged_shopper_id='476155590', original_shopper_id='476155590', new_registered_user_bill_id=None, new_acquisition_bill_country_code='BR', new_acquisition_bill_id='2097124741', new_acquisition_bill_mst_date=datetime.date(2022, 4, 26), new_registered_user_bill_mst_date=None, federation_partner_id=None, federation_friendly_name=None, web_pro_participant_type_name=None, web_pro_shopper_id=None, original_shopper_exclude_reason_desc=None, original_shopper_exclude_reason_month_end_desc=None, shopper_domain_portfolio_qty=0, shopper_domain_portfolio_segment_name='0 Active Domains', crm_portfolio_type_name=None, crm_portfolio_rep_id=None, crm_portfolio_rep_name=None, current_crm_portfolio_type_name=None, current_crm_portfolio_rep_id=None, current_crm_portfolio_rep_name=None, product_term_num=1, product_term_unit_desc='year', product_pnl_category_name='Domain Registration', product_pnl_group_name='Domains', product_pnl_line_name='Domain Name Registration', product_pnl_subline_name='COM', product_pnl_version_name='COM', original_product_pnl_new_renewal_name='New Purchase', product_type_desc='Domain Registration', product_type_id=2.0, product_name='.COM Domain Name Registration - 1 Year (recurring)', pnl_new_renewal='New Purchase', bill_fraud_flag_ts=None, bill_fraud_flag_date=None, bill_fraud_review_id=None, free_trial_type_desc=None, free_trial_target_expiration_date=None, product_free_trial_acquisition_ts=None, original_bill_id='2099547106', original_bill_line_num=3, source_system_name='legacy e-comm', bill_modified_mst_ts='2022-05-01 11:11:28', bill_modified_mst_date=datetime.date(2022, 5, 1), subaccount_shopper_id=None, item_tracking_code=None, item_tracking_code_desc='Unknown', purchase_path_name='Unknown', purchase_path_attributed_name='Unknown', department_id=8, accounting_company_id=1, pf_id=101, upgraded_pf_id=None, unit_qty=-1, duration_qty=Decimal('1.000'), product_unit_qty=-1, product_month_qty=Decimal('-12.00'), receipt_price_usd_amt=Decimal('-12.24'), receipt_price_trxn_amt=Decimal('-60.89'), receipt_price_constant_currency_amt=Decimal('-11.57'), gcr_usd_amt=Decimal('-0.18'), gcr_trxn_amt=Decimal('-0.90'), gcr_constant_currency_amt=Decimal('-0.17'), margin_gcr_usd_amt=Decimal('0.00'), margin_gcr_trxn_amt=Decimal('41.72'), commission_usd_amt=Decimal('0.00'), commission_trxn_amt=Decimal('0.00'), aftermarket_seller_commission_usd_amt=Decimal('0.00'), aftermarket_seller_commission_trxn_amt=Decimal('0.00'), cost_usd_amt=Decimal('0.00'), cost_trxn_amt=Decimal('-41.72'), msrp_duration_unit_usd_amt=Decimal('-17.27'), msrp_duration_unit_trxn_amt=Decimal('-85.89'), msrp_total_usd_amt=Decimal('-17.27'), msrp_total_trxn_amt=Decimal('-85.89'), fee_usd_amt=Decimal('-0.18'), fee_trxn_amt=Decimal('-0.90'), fair_market_value_usd_amt=Decimal('0.00'), fair_market_value_trxn_amt=Decimal('0.00'), tax_usd_amt=Decimal('0.00'), tax_trxn_amt=Decimal('0.00'), receipt_regular_price_usd_amt=Decimal('-12.24'), receipt_regular_price_trxn_amt=Decimal('-60.89'), injected_fair_market_value_usd_amt=Decimal('0.00'), injected_fair_market_value_trxn_amt=Decimal('0.00'), injected_icann_fee_usd_amt=Decimal('0.00'), injected_icann_fee_trxn_amt=Decimal('0.00'), injected_tax_usd_amt=Decimal('0.00'), injected_tax_trxn_amt=Decimal('0.00'), bundle_allocated_revenue_usd_amt=None, reseller_commission_usd_amt=None, parent_reseller_commission_usd_amt=None, trxn_currency_code='BRL', offer_id=None, offer_collection_id=None, free_product_package_id=1676, variant_price_type_id=0, variant_price_type_name='Standard Price', exclude_reason_desc=None, exclude_reason_month_end_desc=None, bill_site_language_code='Missing', c3_bill_source_code=None, c3_bill_process_name=None, free_trial_bill_type=None, free_trial_bill_date=None, virtual_bill_flag=False, free_bill_flag=False, bill_isc_viral_flag=False, new_acquisition_flag=False, new_registered_user_flag=False, product_free_term_flag=False, units_as_bills_flag=False, primary_product_flag=True, c3_receipt_move_flag=False, product_free_trial_flag=False, product_free_trial_conversion_flag=False, refund_flag=True, chargeback_flag=False, accounting_deferred_flag=False, renewal_price_locked_flag=False, bill_fraud_flag=False, c3_bill_flag=False, c3_attribution_type_name=None, product_pnl_new_renewal_name='New Purchase', customer_type_name='International Independent', customer_type_reason_desc='International First Order', domain_bulk_flag=False, domain_bulk_pricing_flag=False, pnl_priority_num=43, pnl_us_independent_flag=False, pnl_international_independent_flag=True, pnl_partner_flag=False, pnl_investor_flag=False, point_of_purchase_name='Web', sub_point_of_purchase_name='Web non-Care-initiated', shopper_product_purchase_type_name='Existing - Buying More', etl_build_mst_ts='2022-05-17 04:28:04', source_process_name='ads_bill_line.py (full)', partition_bill_mst_year_month='2022-05'), Row(bill_id='2099563219', bill_line_num=0, bill_country_code='IN', rep_version_id=432201, private_label_id=1, bill_isc_source_code='GDBBJ2472', bill_sub_geo_code='BR', bill_postal_code='824101', bill_source_name='Online', entered_by_name='ANSHUL THAKRE', translation_language_name=None, primary_payment_type_name='credit card', primary_payment_subtype_name='visa', secondary_payment_type_name='', secondary_payment_subtype_name='', bill_modified_mst_date_prior_year=datetime.date(2021, 5, 2), bill_isc_source_code_desc='TE 2472', bill_isc_company_id=4, bill_isc_campaign_id=227834, bill_isc_channel_id=43, bill_isc_product_id=6, bill_isc_vendor_id=275, bill_isc_media_specialist_id=290, bill_isc_sub_channel_id=167, bill_isc_channel_name='Database Marketing', bill_isc_sub_channel_name='Marketing eMail', bill_isc_vendor_name='Go Daddy', bill_isc_product_name='Miscellaneous', bill_isc_media_specialist_name='Oberzen Starkey', reseller_type_name='Go Daddy', reseller_name='GoDaddy.com', reseller_shopper_id=None, reseller_country_code='--', reseller_country_name='Unknown', c3_rep_name='THAKRE, ANSHUL', c3_rep_supervisor_name='Deepika, Kanukunta', c3_rep_department_name='C3 Support', c3_call_center_location_name='India - Genpact', bill_country_name='India', bill_report_region_1_name='International - Top Markets', bill_report_region_2_name='India', bill_report_region_3_name='India', bill_report_focal_country_name='India', bill_report_sub_region_name='India', bill_domestic_international_name='International', merged_shopper_id='261086373', original_shopper_id='261086373', new_registered_user_bill_id=None, new_acquisition_bill_country_code='IN', new_acquisition_bill_id='1643860359', new_acquisition_bill_mst_date=datetime.date(2020, 3, 2), new_registered_user_bill_mst_date=None, federation_partner_id=None, federation_friendly_name=None, web_pro_participant_type_name=None, web_pro_shopper_id=None, original_shopper_exclude_reason_desc=None, original_shopper_exclude_reason_month_end_desc=None, shopper_domain_portfolio_qty=1, shopper_domain_portfolio_segment_name='1 Active Domain', crm_portfolio_type_name=None, crm_portfolio_rep_id=None, crm_portfolio_rep_name=None, current_crm_portfolio_type_name=None, current_crm_portfolio_rep_id=None, current_crm_portfolio_rep_name=None, product_term_num=1, product_term_unit_desc='year', product_pnl_category_name='Domain Registration', product_pnl_group_name='Domains', product_pnl_line_name='Domain Name Registration', product_pnl_subline_name='CO.IN', product_pnl_version_name='Geo ccTLDs', original_product_pnl_new_renewal_name='New Purchase', product_type_desc='Domain Registration', product_type_id=2.0, product_name='.IN (.CO.IN) Domain Name Registration - 1 Year (recurring)', pnl_new_renewal='New Purchase', bill_fraud_flag_ts=None, bill_fraud_flag_date=None, bill_fraud_review_id=None, free_trial_type_desc=None, free_trial_target_expiration_date=None, product_free_trial_acquisition_ts=None, original_bill_id='-1', original_bill_line_num=-1, source_system_name='legacy e-comm', bill_modified_mst_ts='2022-05-01 08:10:53', bill_modified_mst_date=datetime.date(2022, 5, 1), subaccount_shopper_id=None, item_tracking_code='dpp_absol1', item_tracking_code_desc='New absolute reg path', purchase_path_name='Domain Purchase Path', purchase_path_attributed_name='Domain Purchase Path', department_id=8, accounting_company_id=1, pf_id=41000, upgraded_pf_id=None, unit_qty=1, duration_qty=Decimal('1.000'), product_unit_qty=1, product_month_qty=Decimal('12.00'), receipt_price_usd_amt=Decimal('5.23'), receipt_price_trxn_amt=Decimal('399.00'), receipt_price_constant_currency_amt=Decimal('5.43'), gcr_usd_amt=Decimal('5.23'), gcr_trxn_amt=Decimal('399.23'), gcr_constant_currency_amt=Decimal('5.43'), margin_gcr_usd_amt=Decimal('1.21'), margin_gcr_trxn_amt=Decimal('92.36'), commission_usd_amt=Decimal('0.00'), commission_trxn_amt=Decimal('0.00'), aftermarket_seller_commission_usd_amt=Decimal('0.00'), aftermarket_seller_commission_trxn_amt=Decimal('0.00'), cost_usd_amt=Decimal('4.02'), cost_trxn_amt=Decimal('306.87'), msrp_duration_unit_usd_amt=Decimal('8.50'), msrp_duration_unit_trxn_amt=Decimal('649.00'), msrp_total_usd_amt=Decimal('8.50'), msrp_total_trxn_amt=Decimal('649.00'), fee_usd_amt=Decimal('0.00'), fee_trxn_amt=Decimal('0.00'), fair_market_value_usd_amt=Decimal('5.23'), fair_market_value_trxn_amt=Decimal('399.23'), tax_usd_amt=Decimal('0.94'), tax_trxn_amt=Decimal('71.82'), receipt_regular_price_usd_amt=Decimal('5.23'), receipt_regular_price_trxn_amt=Decimal('399.00'), injected_fair_market_value_usd_amt=Decimal('0.00'), injected_fair_market_value_trxn_amt=Decimal('0.00'), injected_icann_fee_usd_amt=Decimal('0.00'), injected_icann_fee_trxn_amt=Decimal('0.00'), injected_tax_usd_amt=Decimal('0.00'), injected_tax_trxn_amt=Decimal('0.00'), bundle_allocated_revenue_usd_amt=None, reseller_commission_usd_amt=None, parent_reseller_commission_usd_amt=None, trxn_currency_code='INR', offer_id=None, offer_collection_id=None, free_product_package_id=1677, variant_price_type_id=0, variant_price_type_name='Standard Price', exclude_reason_desc=None, exclude_reason_month_end_desc=None, bill_site_language_code='Missing', c3_bill_source_code='XX', c3_bill_process_name='Send Cart', free_trial_bill_type=None, free_trial_bill_date=None, virtual_bill_flag=False, free_bill_flag=False, bill_isc_viral_flag=False, new_acquisition_flag=False, new_registered_user_flag=False, product_free_term_flag=False, units_as_bills_flag=False, primary_product_flag=True, c3_receipt_move_flag=True, product_free_trial_flag=False, product_free_trial_conversion_flag=False, refund_flag=False, chargeback_flag=False, accounting_deferred_flag=True, renewal_price_locked_flag=False, bill_fraud_flag=False, c3_bill_flag=True, c3_attribution_type_name='Direct', product_pnl_new_renewal_name='New Purchase', customer_type_name='International Independent', customer_type_reason_desc='International First Order', domain_bulk_flag=False, domain_bulk_pricing_flag=False, pnl_priority_num=43, pnl_us_independent_flag=False, pnl_international_independent_flag=True, pnl_partner_flag=False, pnl_investor_flag=False, point_of_purchase_name='Web', sub_point_of_purchase_name='Web Care-initiated', shopper_product_purchase_type_name='Existing - Buying More', etl_build_mst_ts='2022-05-17 04:28:04', source_process_name='ads_bill_line.py (full)', partition_bill_mst_year_month='2022-05'), Row(bill_id='2099583251', bill_line_num=1, bill_country_code='US', rep_version_id=0, private_label_id=1, bill_isc_source_code='???', bill_sub_geo_code='OK', bill_postal_code='73110', bill_source_name='Online', entered_by_name='customer', translation_language_name=None, primary_payment_type_name='credit card', primary_payment_subtype_name='mastercard', secondary_payment_type_name='', secondary_payment_subtype_name='', bill_modified_mst_date_prior_year=datetime.date(2021, 5, 2), bill_isc_source_code_desc='Unknown', bill_isc_company_id=None, bill_isc_campaign_id=None, bill_isc_channel_id=28, bill_isc_product_id=None, bill_isc_vendor_id=None, bill_isc_media_specialist_id=None, bill_isc_sub_channel_id=None, bill_isc_channel_name='Branding', bill_isc_sub_channel_name='Unknown', bill_isc_vendor_name='Unknown', bill_isc_product_name='Unknown', bill_isc_media_specialist_name='Unknown', reseller_type_name='Go Daddy', reseller_name='GoDaddy.com', reseller_shopper_id=None, reseller_country_code='--', reseller_country_name='Unknown', c3_rep_name=None, c3_rep_supervisor_name=None, c3_rep_department_name='Web', c3_call_center_location_name='Web', bill_country_name='United States', bill_report_region_1_name='United States', bill_report_region_2_name='United States', bill_report_region_3_name='United States', bill_report_focal_country_name='United States', bill_report_sub_region_name='United States', bill_domestic_international_name='Domestic', merged_shopper_id='459622654', original_shopper_id='459622654', new_registered_user_bill_id='2021698831', new_acquisition_bill_country_code='US', new_acquisition_bill_id='2028328616', new_acquisition_bill_mst_date=datetime.date(2022, 1, 31), new_registered_user_bill_mst_date=datetime.date(2022, 1, 22), federation_partner_id=None, federation_friendly_name=None, web_pro_participant_type_name=None, web_pro_shopper_id=None, original_shopper_exclude_reason_desc=None, original_shopper_exclude_reason_month_end_desc=None, shopper_domain_portfolio_qty=1, shopper_domain_portfolio_segment_name='1 Active Domain', crm_portfolio_type_name=None, crm_portfolio_rep_id=None, crm_portfolio_rep_name=None, current_crm_portfolio_type_name=None, current_crm_portfolio_rep_id=None, current_crm_portfolio_rep_name=None, product_term_num=1, product_term_unit_desc='month', product_pnl_category_name='Web Hosting', product_pnl_group_name='Hosting', product_pnl_line_name='WordPress Managed Plans', product_pnl_subline_name='Add On', product_pnl_version_name='WordPress Managed Plans', original_product_pnl_new_renewal_name='Renewal', product_type_desc='Shared Account Addon - Usage Renewal', product_type_id=491.0, product_name='Renewal Usage', pnl_new_renewal='Renewal', bill_fraud_flag_ts=None, bill_fraud_flag_date=None, bill_fraud_review_id=None, free_trial_type_desc=None, free_trial_target_expiration_date=None, product_free_trial_acquisition_ts=None, original_bill_id='-1', original_bill_line_num=-1, source_system_name='legacy e-comm', bill_modified_mst_ts='2022-05-01 12:25:46', bill_modified_mst_date=datetime.date(2022, 5, 1), subaccount_shopper_id=None, item_tracking_code='mya_acctsettings_subscriptions_multiselect', item_tracking_code_desc='Acct Settings - Subscriptions Multi Product View', purchase_path_name='My Account', purchase_path_attributed_name='My Account', department_id=1003, accounting_company_id=1, pf_id=562250, upgraded_pf_id=None, unit_qty=1, duration_qty=Decimal('1.000'), product_unit_qty=1, product_month_qty=Decimal('1.00'), receipt_price_usd_amt=Decimal('0.00'), receipt_price_trxn_amt=Decimal('0.00'), receipt_price_constant_currency_amt=Decimal('0.00'), gcr_usd_amt=Decimal('0.00'), gcr_trxn_amt=Decimal('0.00'), gcr_constant_currency_amt=Decimal('0.00'), margin_gcr_usd_amt=Decimal('0.00'), margin_gcr_trxn_amt=Decimal('0.00'), commission_usd_amt=Decimal('0.00'), commission_trxn_amt=Decimal('0.00'), aftermarket_seller_commission_usd_amt=Decimal('0.00'), aftermarket_seller_commission_trxn_amt=Decimal('0.00'), cost_usd_amt=Decimal('0.00'), cost_trxn_amt=Decimal('0.00'), msrp_duration_unit_usd_amt=Decimal('0.00'), msrp_duration_unit_trxn_amt=Decimal('0.00'), msrp_total_usd_amt=Decimal('0.00'), msrp_total_trxn_amt=Decimal('0.00'), fee_usd_amt=Decimal('0.00'), fee_trxn_amt=Decimal('0.00'), fair_market_value_usd_amt=Decimal('0.00'), fair_market_value_trxn_amt=Decimal('0.00'), tax_usd_amt=Decimal('0.00'), tax_trxn_amt=Decimal('0.00'), receipt_regular_price_usd_amt=Decimal('0.00'), receipt_regular_price_trxn_amt=Decimal('0.00'), injected_fair_market_value_usd_amt=Decimal('0.00'), injected_fair_market_value_trxn_amt=Decimal('0.00'), injected_icann_fee_usd_amt=Decimal('0.00'), injected_icann_fee_trxn_amt=Decimal('0.00'), injected_tax_usd_amt=Decimal('0.00'), injected_tax_trxn_amt=Decimal('0.00'), bundle_allocated_revenue_usd_amt=None, reseller_commission_usd_amt=None, parent_reseller_commission_usd_amt=None, trxn_currency_code='USD', offer_id=None, offer_collection_id=None, free_product_package_id=None, variant_price_type_id=0, variant_price_type_name='Standard Price', exclude_reason_desc=None, exclude_reason_month_end_desc=None, bill_site_language_code='en-us', c3_bill_source_code=None, c3_bill_process_name=None, free_trial_bill_type=None, free_trial_bill_date=None, virtual_bill_flag=False, free_bill_flag=False, bill_isc_viral_flag=False, new_acquisition_flag=False, new_registered_user_flag=False, product_free_term_flag=False, units_as_bills_flag=True, primary_product_flag=False, c3_receipt_move_flag=False, product_free_trial_flag=False, product_free_trial_conversion_flag=False, refund_flag=False, chargeback_flag=False, accounting_deferred_flag=False, renewal_price_locked_flag=False, bill_fraud_flag=False, c3_bill_flag=False, c3_attribution_type_name=None, product_pnl_new_renewal_name='Renewal', customer_type_name='US Independent', customer_type_reason_desc='US First Order', domain_bulk_flag=False, domain_bulk_pricing_flag=False, pnl_priority_num=27, pnl_us_independent_flag=False, pnl_international_independent_flag=False, pnl_partner_flag=True, pnl_investor_flag=False, point_of_purchase_name='Web', sub_point_of_purchase_name='Web non-Care-initiated', shopper_product_purchase_type_name='Existing - New', etl_build_mst_ts='2022-05-17 04:28:04', source_process_name='ads_bill_line.py (full)', partition_bill_mst_year_month='2022-05')]"
     ]
    }
   ],
   "source": [
    "df.head(10)"
   ]
  },
  {
   "cell_type": "code",
   "execution_count": null,
   "id": "f78b7f02",
   "metadata": {},
   "outputs": [],
   "source": [
    "column = 'merged_shopper_id'\n",
    "SLOW_SHOPPER_IDS = ['15633656', '24373138', '476253053', '476279225']\n",
    "# df.filter(df.merged_shopper_id != '15633656').count()"
   ]
  },
  {
   "cell_type": "code",
   "execution_count": null,
   "id": "09c73c5b",
   "metadata": {},
   "outputs": [],
   "source": [
    "from pyspark.sql.functions import col\n",
    "df.filter(col(column) != '15633656').count()"
   ]
  },
  {
   "cell_type": "code",
   "execution_count": null,
   "id": "2a3eb5c9",
   "metadata": {},
   "outputs": [],
   "source": [
    "df2 = df.filter(~col(column).isin(SLOW_SHOPPER_IDS))"
   ]
  },
  {
   "cell_type": "code",
   "execution_count": null,
   "id": "22a98feb",
   "metadata": {},
   "outputs": [],
   "source": [
    "df2.count()"
   ]
  },
  {
   "cell_type": "code",
   "execution_count": null,
   "id": "e14a71d1",
   "metadata": {},
   "outputs": [],
   "source": []
  },
  {
   "cell_type": "code",
   "execution_count": null,
   "id": "7200ae0b",
   "metadata": {},
   "outputs": [],
   "source": []
  },
  {
   "cell_type": "code",
   "execution_count": null,
   "id": "9384fff1",
   "metadata": {},
   "outputs": [],
   "source": []
  },
  {
   "cell_type": "code",
   "execution_count": null,
   "id": "13af9f48",
   "metadata": {},
   "outputs": [],
   "source": []
  },
  {
   "cell_type": "code",
   "execution_count": null,
   "id": "4f5a5b4c",
   "metadata": {},
   "outputs": [],
   "source": [
    "import tecton\n",
    "ws = tecton.get_workspace('czhang')"
   ]
  },
  {
   "cell_type": "code",
   "execution_count": null,
   "id": "370d10f7",
   "metadata": {},
   "outputs": [],
   "source": [
    "data = ws.get_data_source('ads_bill_line_batch')"
   ]
  },
  {
   "cell_type": "code",
   "execution_count": null,
   "id": "3ac63d5a",
   "metadata": {},
   "outputs": [],
   "source": [
    "data"
   ]
  },
  {
   "cell_type": "code",
   "execution_count": null,
   "id": "a6eb267c",
   "metadata": {},
   "outputs": [],
   "source": [
    "df = data.get_dataframe().to_spark()"
   ]
  },
  {
   "cell_type": "code",
   "execution_count": null,
   "id": "a00c05c1",
   "metadata": {},
   "outputs": [],
   "source": [
    "df.count()"
   ]
  },
  {
   "cell_type": "code",
   "execution_count": null,
   "id": "93a64415",
   "metadata": {},
   "outputs": [],
   "source": [
    "df.head(1)"
   ]
  },
  {
   "cell_type": "code",
   "execution_count": null,
   "id": "271023f2",
   "metadata": {},
   "outputs": [],
   "source": [
    "ws2 = tecton.get_workspace('czhang')\n",
    "data2 = ws2.get_data_source('ads_bill_line_batch')\n",
    "df2 = data2.get_dataframe().to_spark()"
   ]
  },
  {
   "cell_type": "code",
   "execution_count": null,
   "id": "eb67e825",
   "metadata": {},
   "outputs": [],
   "source": [
    "df2.count()"
   ]
  },
  {
   "cell_type": "code",
   "execution_count": null,
   "id": "c61dda0e",
   "metadata": {},
   "outputs": [],
   "source": [
    "SLOW_SHOPPER_IDS = ['15633656', '24373138', '476253053', '476279225']\n",
    "column = 'merged_shopper_id'\n",
    "filtered_df = df2.filter(~col(column).isin(SLOW_SHOPPER_IDS))\n",
    "filtered_df.count()"
   ]
  },
  {
   "cell_type": "code",
   "execution_count": null,
   "id": "c48cf514",
   "metadata": {},
   "outputs": [],
   "source": [
    "import tecton\n",
    "from datetime import date, datetime, timedelta\n",
    "\n",
    "# Retrieve the 'customer_orders_lifetime' Feature View\n",
    "ws = tecton.get_workspace('czhang')\n",
    "fv = ws.get_feature_view('customer_orders_lifetime')\n",
    "\n",
    "# # Dry run the transformation pipeline as of a materialization time,\n",
    "# midnight = datetime.combine(date.today(), datetime.min.time())\n",
    "# fv.run(end_time=midnight).to_pandas().head()\n",
    "\n",
    "# # Get a range of feature data from offline store\n",
    "# today = datetime.now()\n",
    "# yesterday = today - timedelta(days=1)\n",
    "# fv.get_historical_features(start_time=yesterday, end_time=today).to_pandas().head()"
   ]
  },
  {
   "cell_type": "code",
   "execution_count": null,
   "id": "8ba662cd",
   "metadata": {},
   "outputs": [],
   "source": [
    "fv"
   ]
  },
  {
   "cell_type": "code",
   "execution_count": null,
   "id": "b2292c96",
   "metadata": {},
   "outputs": [],
   "source": [
    "fv.get_historical_features(from_source=True).to_spark.count()"
   ]
  },
  {
   "cell_type": "code",
   "execution_count": null,
   "id": "866dbacb",
   "metadata": {},
   "outputs": [],
   "source": [
    "midnight = datetime.combine(date.today(), datetime.min.time())\n",
    "fv.run(end_time=midnight).to_spark().count()"
   ]
  },
  {
   "cell_type": "code",
   "execution_count": null,
   "id": "92792597",
   "metadata": {},
   "outputs": [],
   "source": [
    "fv.run().to_spark().count()"
   ]
  },
  {
   "cell_type": "code",
   "execution_count": null,
   "id": "aa3b3ffe",
   "metadata": {},
   "outputs": [],
   "source": [
    "ws = tecton.get_workspace('czhang')\n",
    "fv = ws.get_feature_view('customer_orders_lifetime')\n",
    "fv.run().to_spark().count()"
   ]
  },
  {
   "cell_type": "code",
   "execution_count": null,
   "id": "94f60355",
   "metadata": {},
   "outputs": [],
   "source": [
    "ws = tecton.get_workspace('prod')\n",
    "fv = ws.get_feature_view('customer_orders_lifetime')\n",
    "\n",
    "# Dry run the transformation pipeline as of a materialization time,\n",
    "midnight = datetime.combine(date.today(), datetime.min.time())\n",
    "fv.run(end_time=datetime.now()).to_spark().count()"
   ]
  },
  {
   "cell_type": "code",
   "execution_count": null,
   "id": "198350f9",
   "metadata": {},
   "outputs": [],
   "source": [
    "fv.run(end_time=datetime.now()).to_spark().count()"
   ]
  },
  {
   "cell_type": "code",
   "execution_count": null,
   "id": "ed59bcda",
   "metadata": {},
   "outputs": [],
   "source": [
    "date.today()"
   ]
  },
  {
   "cell_type": "code",
   "execution_count": null,
   "id": "b14fa83f",
   "metadata": {},
   "outputs": [],
   "source": [
    "datetime.now()"
   ]
  },
  {
   "cell_type": "code",
   "execution_count": null,
   "id": "806278f7",
   "metadata": {},
   "outputs": [],
   "source": [
    "ws = tecton.get_workspace('prod')\n",
    "fv = ws.get_feature_view('customer_orders_lifetime')\n",
    "today = datetime.now()\n",
    "yesterday = today - timedelta(days=3)\n",
    "fv.get_historical_features(start_time=yesterday, end_time=today).to_spark().count()"
   ]
  },
  {
   "cell_type": "code",
   "execution_count": null,
   "id": "4b4164d5",
   "metadata": {},
   "outputs": [],
   "source": []
  },
  {
   "cell_type": "code",
   "execution_count": 10,
   "id": "36018436",
   "metadata": {},
   "outputs": [
    {
     "data": {
      "application/vnd.jupyter.widget-view+json": {
       "model_id": "",
       "version_major": 2,
       "version_minor": 0
      },
      "text/plain": [
       "FloatProgress(value=0.0, bar_style='info', description='Progress:', layout=Layout(height='25px', width='50%'),…"
      ]
     },
     "metadata": {},
     "output_type": "display_data"
    }
   ],
   "source": [
    "SLOW_SHOPPER_IDS = [\n",
    "    '102033565',  # NameFind, GD owned premium domain portfolio\n",
    "    '1001700',  # GoDaddy internal ShopperID\n",
    "    '6696960' # Standard Tactics LLC\n",
    "\n",
    "    '151684778', '93974891', '10142614', '113030715', '115852743', '162137747', '162875022', '174085707', '174309683',\n",
    "    '181438250', '19001147', '41502080', '46638361', '50447516', '50815606', '57267148', '58691431', '6261410',\n",
    "    '63153850', '67105990', '71919934', '81766569', '91953548', '99973160', '4454724', '13515917', '6297061',\n",
    "    '33751282', '28375747', '82833199', '108798653','10839228', '134754471', '127384451', '10055268',\n",
    "    '105768270', '102704532', '24804781', '42635286', '94581828', '4622089'\n",
    "]"
   ]
  },
  {
   "cell_type": "code",
   "execution_count": 11,
   "id": "4f0fc6f6",
   "metadata": {},
   "outputs": [
    {
     "data": {
      "application/vnd.jupyter.widget-view+json": {
       "model_id": "",
       "version_major": 2,
       "version_minor": 0
      },
      "text/plain": [
       "FloatProgress(value=0.0, bar_style='info', description='Progress:', layout=Layout(height='25px', width='50%'),…"
      ]
     },
     "metadata": {},
     "output_type": "display_data"
    },
    {
     "name": "stdout",
     "output_type": "stream",
     "text": [
      "2014"
     ]
    }
   ],
   "source": [
    "df.count()"
   ]
  },
  {
   "cell_type": "code",
   "execution_count": 13,
   "id": "c965583b",
   "metadata": {},
   "outputs": [
    {
     "data": {
      "application/vnd.jupyter.widget-view+json": {
       "model_id": "",
       "version_major": 2,
       "version_minor": 0
      },
      "text/plain": [
       "FloatProgress(value=0.0, bar_style='info', description='Progress:', layout=Layout(height='25px', width='50%'),…"
      ]
     },
     "metadata": {},
     "output_type": "display_data"
    }
   ],
   "source": [
    "from pyspark.sql.functions import col\n",
    "columns = df.columns\n",
    "if 'shopper_id' in columns:\n",
    "    filter_column = 'shopper_id'\n",
    "elif 'merged_shopper_id' in columns:\n",
    "    filter_column = 'merged_shopper_id'\n",
    "else:\n",
    "    raise Exception(\"Need to identify shopper_id related column to filter out slow shoppers\")\n",
    "filtered_df = df.filter(~col(filter_column).isin(SLOW_SHOPPER_IDS))"
   ]
  },
  {
   "cell_type": "code",
   "execution_count": 14,
   "id": "74d0465a",
   "metadata": {},
   "outputs": [
    {
     "data": {
      "application/vnd.jupyter.widget-view+json": {
       "model_id": "",
       "version_major": 2,
       "version_minor": 0
      },
      "text/plain": [
       "FloatProgress(value=0.0, bar_style='info', description='Progress:', layout=Layout(height='25px', width='50%'),…"
      ]
     },
     "metadata": {},
     "output_type": "display_data"
    },
    {
     "name": "stdout",
     "output_type": "stream",
     "text": [
      "'merged_shopper_id'"
     ]
    }
   ],
   "source": [
    "filter_column"
   ]
  },
  {
   "cell_type": "code",
   "execution_count": 15,
   "id": "b1962191",
   "metadata": {},
   "outputs": [
    {
     "data": {
      "application/vnd.jupyter.widget-view+json": {
       "model_id": "",
       "version_major": 2,
       "version_minor": 0
      },
      "text/plain": [
       "FloatProgress(value=0.0, bar_style='info', description='Progress:', layout=Layout(height='25px', width='50%'),…"
      ]
     },
     "metadata": {},
     "output_type": "display_data"
    },
    {
     "name": "stdout",
     "output_type": "stream",
     "text": [
      "1959"
     ]
    }
   ],
   "source": [
    "filtered_df.count()"
   ]
  },
  {
   "cell_type": "code",
   "execution_count": 16,
   "id": "1d1b3a8d",
   "metadata": {},
   "outputs": [
    {
     "data": {
      "application/vnd.jupyter.widget-view+json": {
       "model_id": "",
       "version_major": 2,
       "version_minor": 0
      },
      "text/plain": [
       "FloatProgress(value=0.0, bar_style='info', description='Progress:', layout=Layout(height='25px', width='50%'),…"
      ]
     },
     "metadata": {},
     "output_type": "display_data"
    },
    {
     "name": "stdout",
     "output_type": "stream",
     "text": [
      "43"
     ]
    }
   ],
   "source": [
    "len(SLOW_SHOPPER_IDS)"
   ]
  },
  {
   "cell_type": "code",
   "execution_count": 17,
   "id": "f6b2832c",
   "metadata": {},
   "outputs": [
    {
     "data": {
      "application/vnd.jupyter.widget-view+json": {
       "model_id": "",
       "version_major": 2,
       "version_minor": 0
      },
      "text/plain": [
       "FloatProgress(value=0.0, bar_style='info', description='Progress:', layout=Layout(height='25px', width='50%'),…"
      ]
     },
     "metadata": {},
     "output_type": "display_data"
    },
    {
     "name": "stdout",
     "output_type": "stream",
     "text": [
      "55"
     ]
    }
   ],
   "source": [
    "2014 - 1959"
   ]
  },
  {
   "cell_type": "code",
   "execution_count": 18,
   "id": "4522b6f3",
   "metadata": {},
   "outputs": [
    {
     "data": {
      "application/vnd.jupyter.widget-view+json": {
       "model_id": "",
       "version_major": 2,
       "version_minor": 0
      },
      "text/plain": [
       "FloatProgress(value=0.0, bar_style='info', description='Progress:', layout=Layout(height='25px', width='50%'),…"
      ]
     },
     "metadata": {},
     "output_type": "display_data"
    }
   ],
   "source": [
    "slow_df = df.filter(col(filter_column).isin(SLOW_SHOPPER_IDS))"
   ]
  },
  {
   "cell_type": "code",
   "execution_count": 19,
   "id": "925ec6a6",
   "metadata": {},
   "outputs": [
    {
     "data": {
      "application/vnd.jupyter.widget-view+json": {
       "model_id": "",
       "version_major": 2,
       "version_minor": 0
      },
      "text/plain": [
       "FloatProgress(value=0.0, bar_style='info', description='Progress:', layout=Layout(height='25px', width='50%'),…"
      ]
     },
     "metadata": {},
     "output_type": "display_data"
    },
    {
     "name": "stdout",
     "output_type": "stream",
     "text": [
      "55"
     ]
    }
   ],
   "source": [
    "slow_df.count()"
   ]
  },
  {
   "cell_type": "code",
   "execution_count": 20,
   "id": "8faa10c1",
   "metadata": {},
   "outputs": [
    {
     "data": {
      "application/vnd.jupyter.widget-view+json": {
       "model_id": "",
       "version_major": 2,
       "version_minor": 0
      },
      "text/plain": [
       "FloatProgress(value=0.0, bar_style='info', description='Progress:', layout=Layout(height='25px', width='50%'),…"
      ]
     },
     "metadata": {},
     "output_type": "display_data"
    },
    {
     "name": "stdout",
     "output_type": "stream",
     "text": [
      "[Row(bill_id='2103241928', bill_line_num=1, bill_country_code='US', rep_version_id=0, private_label_id=412956, bill_isc_source_code='WAPI', bill_sub_geo_code='AZ', bill_postal_code='12345', bill_source_name=None, entered_by_name='API Reseller', translation_language_name=None, primary_payment_type_name='creditline', primary_payment_subtype_name='creditline', secondary_payment_type_name='', secondary_payment_subtype_name='', bill_modified_mst_date_prior_year=datetime.date(2021, 5, 2), bill_isc_source_code_desc='WLAN Authentication and Privacy Infrastructure', bill_isc_company_id=4, bill_isc_campaign_id=9, bill_isc_channel_id=45, bill_isc_product_id=2, bill_isc_vendor_id=275, bill_isc_media_specialist_id=19, bill_isc_sub_channel_id=170, bill_isc_channel_name='Legacy', bill_isc_sub_channel_name='C3', bill_isc_vendor_name='Go Daddy', bill_isc_product_name='Domains', bill_isc_media_specialist_name='Bob Olsen', reseller_type_name='API Reseller', reseller_name='Google', reseller_shopper_id='10838801', reseller_country_code='US', reseller_country_name='United States', c3_rep_name=None, c3_rep_supervisor_name=None, c3_rep_department_name='Web', c3_call_center_location_name='Web', bill_country_name='United States', bill_report_region_1_name='United States', bill_report_region_2_name='United States', bill_report_region_3_name='United States', bill_report_focal_country_name='United States', bill_report_sub_region_name='United States', bill_domestic_international_name='Domestic', merged_shopper_id='10839228', original_shopper_id='10839228', new_registered_user_bill_id=None, new_acquisition_bill_country_code='US', new_acquisition_bill_id='53402839', new_acquisition_bill_mst_date=datetime.date(2006, 11, 27), new_registered_user_bill_mst_date=None, federation_partner_id=None, federation_friendly_name=None, web_pro_participant_type_name=None, web_pro_shopper_id=None, original_shopper_exclude_reason_desc=None, original_shopper_exclude_reason_month_end_desc=None, shopper_domain_portfolio_qty=320307, shopper_domain_portfolio_segment_name='100+ Active Domains', crm_portfolio_type_name=None, crm_portfolio_rep_id=None, crm_portfolio_rep_name=None, current_crm_portfolio_type_name=None, current_crm_portfolio_rep_id=None, current_crm_portfolio_rep_name=None, product_term_num=1, product_term_unit_desc='year', product_pnl_category_name='Domain Add Ons', product_pnl_group_name='Domains', product_pnl_line_name='Domains by Proxy', product_pnl_subline_name='DBP', product_pnl_version_name='Domains by Proxy', original_product_pnl_new_renewal_name='Renewal', product_type_desc='Domains By Proxy Service Renewal', product_type_id=24.0, product_name='Private Registration Services Renewal - API', pnl_new_renewal='Renewal', bill_fraud_flag_ts=None, bill_fraud_flag_date=None, bill_fraud_review_id=None, free_trial_type_desc=None, free_trial_target_expiration_date=None, product_free_trial_acquisition_ts=None, original_bill_id='-1', original_bill_line_num=-1, source_system_name='legacy e-comm', bill_modified_mst_ts='2022-05-01 00:08:29', bill_modified_mst_date=datetime.date(2022, 5, 1), subaccount_shopper_id='52427309', item_tracking_code=None, item_tracking_code_desc='Unknown', purchase_path_name='Unknown', purchase_path_attributed_name='Unknown', department_id=1077, accounting_company_id=2, pf_id=387001, upgraded_pf_id=None, unit_qty=1, duration_qty=Decimal('1.000'), product_unit_qty=1, product_month_qty=Decimal('12.00'), receipt_price_usd_amt=Decimal('1.50'), receipt_price_trxn_amt=Decimal('1.50'), receipt_price_constant_currency_amt=Decimal('1.50'), gcr_usd_amt=Decimal('1.50'), gcr_trxn_amt=Decimal('1.50'), gcr_constant_currency_amt=Decimal('1.50'), margin_gcr_usd_amt=Decimal('1.50'), margin_gcr_trxn_amt=Decimal('1.50'), commission_usd_amt=Decimal('0.00'), commission_trxn_amt=Decimal('0.00'), aftermarket_seller_commission_usd_amt=Decimal('0.00'), aftermarket_seller_commission_trxn_amt=Decimal('0.00'), cost_usd_amt=Decimal('0.00'), cost_trxn_amt=Decimal('0.00'), msrp_duration_unit_usd_amt=Decimal('1.50'), msrp_duration_unit_trxn_amt=Decimal('1.50'), msrp_total_usd_amt=Decimal('1.50'), msrp_total_trxn_amt=Decimal('1.50'), fee_usd_amt=Decimal('0.00'), fee_trxn_amt=Decimal('0.00'), fair_market_value_usd_amt=Decimal('1.50'), fair_market_value_trxn_amt=Decimal('1.50'), tax_usd_amt=Decimal('0.00'), tax_trxn_amt=Decimal('0.00'), receipt_regular_price_usd_amt=Decimal('1.50'), receipt_regular_price_trxn_amt=Decimal('1.50'), injected_fair_market_value_usd_amt=Decimal('0.00'), injected_fair_market_value_trxn_amt=Decimal('0.00'), injected_icann_fee_usd_amt=Decimal('0.00'), injected_icann_fee_trxn_amt=Decimal('0.00'), injected_tax_usd_amt=Decimal('0.00'), injected_tax_trxn_amt=Decimal('0.00'), bundle_allocated_revenue_usd_amt=None, reseller_commission_usd_amt=None, parent_reseller_commission_usd_amt=None, trxn_currency_code='USD', offer_id=None, offer_collection_id=None, free_product_package_id=None, variant_price_type_id=0, variant_price_type_name='Standard Price', exclude_reason_desc=None, exclude_reason_month_end_desc=None, bill_site_language_code='Missing', c3_bill_source_code=None, c3_bill_process_name=None, free_trial_bill_type=None, free_trial_bill_date=None, virtual_bill_flag=False, free_bill_flag=False, bill_isc_viral_flag=False, new_acquisition_flag=False, new_registered_user_flag=False, product_free_term_flag=False, units_as_bills_flag=False, primary_product_flag=False, c3_receipt_move_flag=False, product_free_trial_flag=False, product_free_trial_conversion_flag=False, refund_flag=False, chargeback_flag=False, accounting_deferred_flag=True, renewal_price_locked_flag=False, bill_fraud_flag=False, c3_bill_flag=False, c3_attribution_type_name=None, product_pnl_new_renewal_name='Renewal', customer_type_name='Investor', customer_type_reason_desc='API', domain_bulk_flag=False, domain_bulk_pricing_flag=False, pnl_priority_num=149, pnl_us_independent_flag=False, pnl_international_independent_flag=False, pnl_partner_flag=False, pnl_investor_flag=True, point_of_purchase_name='Web', sub_point_of_purchase_name='Web non-Care-initiated', shopper_product_purchase_type_name='Existing - Buying More', etl_build_mst_ts='2022-05-17 04:28:04', source_process_name='ads_bill_line.py (full)', partition_bill_mst_year_month='2022-05'), Row(bill_id='2092221238R3R', bill_line_num=1, bill_country_code='US', rep_version_id=471621, private_label_id=1, bill_isc_source_code='0', bill_sub_geo_code='CO', bill_postal_code='80205', bill_source_name='Phone', entered_by_name='Brian D Roof', translation_language_name=None, primary_payment_type_name=None, primary_payment_subtype_name=None, secondary_payment_type_name='', secondary_payment_subtype_name='', bill_modified_mst_date_prior_year=datetime.date(2021, 5, 2), bill_isc_source_code_desc='Unknown', bill_isc_company_id=None, bill_isc_campaign_id=None, bill_isc_channel_id=45, bill_isc_product_id=None, bill_isc_vendor_id=None, bill_isc_media_specialist_id=None, bill_isc_sub_channel_id=None, bill_isc_channel_name='Legacy', bill_isc_sub_channel_name='Unknown', bill_isc_vendor_name='Unknown', bill_isc_product_name='Unknown', bill_isc_media_specialist_name='Unknown', reseller_type_name='Go Daddy', reseller_name='GoDaddy.com', reseller_shopper_id=None, reseller_country_code='--', reseller_country_name='Unknown', c3_rep_name='Clark, Josh', c3_rep_supervisor_name='McCortney, Kenneth', c3_rep_department_name='Aftermarket', c3_call_center_location_name='Tempe', bill_country_name='United States', bill_report_region_1_name='United States', bill_report_region_2_name='United States', bill_report_region_3_name='United States', bill_report_focal_country_name='United States', bill_report_sub_region_name='United States', bill_domestic_international_name='Domestic', merged_shopper_id='4622089', original_shopper_id='4622089', new_registered_user_bill_id=None, new_acquisition_bill_country_code='US', new_acquisition_bill_id='22251564', new_acquisition_bill_mst_date=datetime.date(2005, 2, 3), new_registered_user_bill_mst_date=None, federation_partner_id=None, federation_friendly_name=None, web_pro_participant_type_name=None, web_pro_shopper_id=None, original_shopper_exclude_reason_desc=None, original_shopper_exclude_reason_month_end_desc=None, shopper_domain_portfolio_qty=164412, shopper_domain_portfolio_segment_name='100+ Active Domains', crm_portfolio_type_name='Premier Services - Platinum', crm_portfolio_rep_id=3800, crm_portfolio_rep_name='Deron Ruse', current_crm_portfolio_type_name='Premier Services - Platinum', current_crm_portfolio_rep_id=3800, current_crm_portfolio_rep_name='Deron Ruse', product_term_num=1, product_term_unit_desc='year', product_pnl_category_name='Domain Registration', product_pnl_group_name='Domains', product_pnl_line_name='Domain Name Transfer', product_pnl_subline_name='COM', product_pnl_version_name='COM', original_product_pnl_new_renewal_name='New Purchase', product_type_desc='Bulk Transfer', product_type_id=20.0, product_name='.COM Bulk Domain Name Transfer (21-49) (recurring)', pnl_new_renewal='New Purchase', bill_fraud_flag_ts=None, bill_fraud_flag_date=None, bill_fraud_review_id=None, free_trial_type_desc=None, free_trial_target_expiration_date=None, product_free_trial_acquisition_ts=None, original_bill_id='2092221238', original_bill_line_num=46, source_system_name='legacy e-comm', bill_modified_mst_ts='2022-05-01 07:46:17', bill_modified_mst_date=datetime.date(2022, 5, 1), subaccount_shopper_id=None, item_tracking_code=None, item_tracking_code_desc='Unknown', purchase_path_name='Unknown', purchase_path_attributed_name='Unknown', department_id=88, accounting_company_id=1, pf_id=971, upgraded_pf_id=None, unit_qty=-1, duration_qty=Decimal('1.000'), product_unit_qty=-1, product_month_qty=Decimal('-12.00'), receipt_price_usd_amt=Decimal('0.00'), receipt_price_trxn_amt=Decimal('0.00'), receipt_price_constant_currency_amt=Decimal('0.00'), gcr_usd_amt=Decimal('0.00'), gcr_trxn_amt=Decimal('0.00'), gcr_constant_currency_amt=Decimal('0.00'), margin_gcr_usd_amt=Decimal('0.18'), margin_gcr_trxn_amt=Decimal('8.57'), commission_usd_amt=Decimal('0.00'), commission_trxn_amt=Decimal('0.00'), aftermarket_seller_commission_usd_amt=Decimal('0.00'), aftermarket_seller_commission_trxn_amt=Decimal('0.00'), cost_usd_amt=Decimal('0.00'), cost_trxn_amt=Decimal('-8.39'), msrp_duration_unit_usd_amt=Decimal('-9.03'), msrp_duration_unit_trxn_amt=Decimal('-9.03'), msrp_total_usd_amt=Decimal('-9.03'), msrp_total_trxn_amt=Decimal('-9.03'), fee_usd_amt=Decimal('-0.18'), fee_trxn_amt=Decimal('-0.18'), fair_market_value_usd_amt=Decimal('0.00'), fair_market_value_trxn_amt=Decimal('0.00'), tax_usd_amt=Decimal('0.00'), tax_trxn_amt=Decimal('0.00'), receipt_regular_price_usd_amt=Decimal('0.00'), receipt_regular_price_trxn_amt=Decimal('0.00'), injected_fair_market_value_usd_amt=Decimal('0.00'), injected_fair_market_value_trxn_amt=Decimal('0.00'), injected_icann_fee_usd_amt=Decimal('0.00'), injected_icann_fee_trxn_amt=Decimal('0.00'), injected_tax_usd_amt=Decimal('0.00'), injected_tax_trxn_amt=Decimal('0.00'), bundle_allocated_revenue_usd_amt=None, reseller_commission_usd_amt=None, parent_reseller_commission_usd_amt=None, trxn_currency_code='USD', offer_id=None, offer_collection_id=None, free_product_package_id=1676, variant_price_type_id=8, variant_price_type_name='Godaddy Member Price', exclude_reason_desc=None, exclude_reason_month_end_desc=None, bill_site_language_code='Missing', c3_bill_source_code=None, c3_bill_process_name=None, free_trial_bill_type=None, free_trial_bill_date=None, virtual_bill_flag=False, free_bill_flag=False, bill_isc_viral_flag=False, new_acquisition_flag=False, new_registered_user_flag=False, product_free_term_flag=False, units_as_bills_flag=False, primary_product_flag=True, c3_receipt_move_flag=False, product_free_trial_flag=False, product_free_trial_conversion_flag=False, refund_flag=True, chargeback_flag=False, accounting_deferred_flag=False, renewal_price_locked_flag=False, bill_fraud_flag=False, c3_bill_flag=False, c3_attribution_type_name=None, product_pnl_new_renewal_name='New Purchase', customer_type_name='Investor', customer_type_reason_desc='DDC', domain_bulk_flag=False, domain_bulk_pricing_flag=False, pnl_priority_num=127, pnl_us_independent_flag=False, pnl_international_independent_flag=False, pnl_partner_flag=False, pnl_investor_flag=True, point_of_purchase_name='C3', sub_point_of_purchase_name='United States', shopper_product_purchase_type_name='Existing - Buying More', etl_build_mst_ts='2022-05-17 04:28:04', source_process_name='ads_bill_line.py (full)', partition_bill_mst_year_month='2022-05')]"
     ]
    }
   ],
   "source": [
    "slow_df.head(2)"
   ]
  },
  {
   "cell_type": "markdown",
   "id": "10616f20",
   "metadata": {},
   "source": [
    "## uds traffic session"
   ]
  },
  {
   "cell_type": "code",
   "execution_count": 21,
   "id": "e55a43f3",
   "metadata": {},
   "outputs": [
    {
     "data": {
      "application/vnd.jupyter.widget-view+json": {
       "model_id": "",
       "version_major": 2,
       "version_minor": 0
      },
      "text/plain": [
       "FloatProgress(value=0.0, bar_style='info', description='Progress:', layout=Layout(height='25px', width='50%'),…"
      ]
     },
     "metadata": {},
     "output_type": "display_data"
    },
    {
     "name": "stdout",
     "output_type": "stream",
     "text": [
      "44804"
     ]
    }
   ],
   "source": [
    "spark = SparkSession.builder.master(\"local\").appName(\"tecton\").getOrCreate()\n",
    "\n",
    "df = spark.read.parquet(\"s3://gd-gdmltecton-stage-athena-queries/GD-AWS-USA-GD-gdmltecton-Ops/uds_traffic_session/\")\n",
    "df.count()"
   ]
  },
  {
   "cell_type": "code",
   "execution_count": 22,
   "id": "fa538ab8",
   "metadata": {},
   "outputs": [
    {
     "data": {
      "application/vnd.jupyter.widget-view+json": {
       "model_id": "",
       "version_major": 2,
       "version_minor": 0
      },
      "text/plain": [
       "FloatProgress(value=0.0, bar_style='info', description='Progress:', layout=Layout(height='25px', width='50%'),…"
      ]
     },
     "metadata": {},
     "output_type": "display_data"
    },
    {
     "name": "stdout",
     "output_type": "stream",
     "text": [
      "['visit_guid', 'visitor_guid', 'session_begin_date', 'relative_session_begin_date', 'session_begin_ts', 'session_end_date', 'session_end_ts', 'session_type_name', 'session_bounce_flag', 'session_viewed_sales_page_flag', 'session_viewed_help_page_flag', 'session_mobile_app_flag', 'session_add_to_cart_flag', 'session_free_trial_signup_flag', 'session_purchase_flag', 'new_product_purchased_flag', 'renewal_product_purchased_flag', 'repeat_shopper_flag', 'repeat_visitor_flag', 'site_language_text', 'site_market_text', 'site_market_code', 'site_language_code', 'site_country_code', 'site_country_name', 'site_domestic_international_name', 'site_region1_name', 'site_region2_name', 'site_sub_region_name', 'private_label_id', 'reseller_type_name', 'isc_source_code', 'isc_channel_name', 'isc_sub_channel_name', 'isc_acquisition_tier_name', 'isc_vendor_name', 'isc_conversion_tier_name', 'referring_url_text', 'referred_by', 'referring_host_name', 'referring_subdomain_name', 'referring_domain_name', 'referring_tld_name', 'referring_page_name', 'referring_query_string', 'referred_by_directnav_count', 'referred_by_godaddy_count', 'referred_by_other_count', 'referred_by_search_count', 'referred_by_socialmedia_count', 'landing_page_host_name', 'landing_page_subdomain_name', 'landing_page_domain_name', 'landing_page_tld_name', 'landing_page_name', 'exit_page_host_name', 'exit_page_subdomain_name', 'exit_page_domain_name', 'exit_page_tld_name', 'exit_page_name', 'host_names', 'fully_qualified_page_names', 'ip_maxmind_region_name', 'ip_country_subdivision_level_1_name', 'ip_country_subdivision_level_2_name', 'ip_city_name', 'ip_postal_code', 'ip_latitude_num', 'ip_longitude_num', 'ip_metro_code', 'ip_country_code', 'ip_country_name', 'ip_domestic_international_name', 'ip_region_1_name', 'ip_region_2_name', 'ip_sub_region_name', 'utm_source', 'utm_medium', 'utm_campaign', 'utm_content', 'utm_term', 'utm_tgt', 'user_agent_text', 'browser_name', 'browser_name_major_num', 'browser_name_major_minor_num', 'browser_operating_system_name', 'device_type_name', 'device_breakpoint_name', 'browser_breakpoint_name', 'device_resolution_x_num', 'device_resolution_y_num', 'browser_resolution_x_num', 'browser_resolution_y_num', 'page_views_qty', 'session_duration_seconds', 'visits_qty', 'bouncing_visits_qty', 'ordering_visits_qty', 'new_purchase_visits_qty', 'renewal_purchase_visits_qty', 'new_shoppers_qty', 'cart_creates_qty', 'orders_qty', 'new_orders_qty', 'renewal_orders_qty', 'receipt_price_amt', 'margin_gcr_amt', 'gcr_amt', 'new_shopper_receipt_price_amt', 'new_receipt_price_amt', 'renewal_receipt_price_amt', 'dedicated_hosting_orders_qty', 'dedicated_hosting_unit_qty', 'dedicated_hosting_receipt_price_amt', 'virtual_hosting_orders_qty', 'virtual_hosting_unit_qty', 'virtual_hosting_receipt_price_amt', 'web_hosting_orders_qty', 'web_hosting_unit_qty', 'web_hosting_receipt_price_amt', 'domains_by_proxy_orders_qty', 'domains_by_proxy_unit_qty', 'domains_by_proxy_receipt_price_amt', 'domain_marketplace_orders_qty', 'domain_marketplace_unit_qty', 'domain_marketplace_receipt_price_amt', 'domain_registration_orders_qty', 'domain_registration_unit_qty', 'domain_registration_receipt_price_amt', 'email_orders_qty', 'email_unit_qty', 'email_receipt_price_amt', 'office_365_orders_qty', 'office_365_unit_qty', 'office_365_receipt_price_amt', 'ssl_orders_qty', 'ssl_unit_qty', 'ssl_receipt_price_amt', 'website_builder_orders_qty', 'website_builder_unit_qty', 'website_builder_receipt_price_amt', 'other_product_orders_qty', 'other_product_unit_qty', 'other_product_receipt_price_amt', 'chats_engaged_qty', 'shopper_ids', 'exclude_reason_desc', 'native_app_name', 'session_date']"
     ]
    }
   ],
   "source": [
    "df.columns"
   ]
  },
  {
   "cell_type": "code",
   "execution_count": 23,
   "id": "c0cad0c2",
   "metadata": {},
   "outputs": [
    {
     "data": {
      "application/vnd.jupyter.widget-view+json": {
       "model_id": "",
       "version_major": 2,
       "version_minor": 0
      },
      "text/plain": [
       "FloatProgress(value=0.0, bar_style='info', description='Progress:', layout=Layout(height='25px', width='50%'),…"
      ]
     },
     "metadata": {},
     "output_type": "display_data"
    },
    {
     "name": "stdout",
     "output_type": "stream",
     "text": [
      "[Row(visit_guid='218db2fc-6fea-51bf-9dc8-fad94d7965e6', visitor_guid='84858b2c-19f3-48dc-8742-8e2f30958185', session_begin_date=datetime.date(2022, 6, 4), relative_session_begin_date=datetime.date(2021, 6, 5), session_begin_ts=datetime.datetime(2022, 6, 4, 10, 43, 32, 610000), session_end_date=datetime.date(2022, 6, 4), session_end_ts=datetime.datetime(2022, 6, 4, 11, 8, 55, 452000), session_type_name=None, session_bounce_flag=False, session_viewed_sales_page_flag=True, session_viewed_help_page_flag=False, session_mobile_app_flag=False, session_add_to_cart_flag=False, session_free_trial_signup_flag=None, session_purchase_flag=False, new_product_purchased_flag=False, renewal_product_purchased_flag=False, repeat_shopper_flag=True, repeat_visitor_flag=True, site_language_text=None, site_market_text='zh-sg', site_market_code='zh-sg', site_language_code='zh', site_country_code='SG', site_country_name='Singapore', site_domestic_international_name='International', site_region1_name='International - RoW', site_region2_name='Rest of World (RoW)', site_sub_region_name='APAC-Tier2', private_label_id=1, reseller_type_name='Go Daddy', isc_source_code='N/A', isc_channel_name='Branding', isc_sub_channel_name='Unknown', isc_acquisition_tier_name='Top-Tier', isc_vendor_name='N/A', isc_conversion_tier_name='High-Converting', referring_url_text='https://sso.godaddy.com/?realm=idp&app=auctions', referred_by='godaddy', referring_host_name='sso.godaddy.com', referring_subdomain_name='sso', referring_domain_name='godaddy', referring_tld_name='com', referring_page_name='/', referring_query_string='realm=idp&app=auctions', referred_by_directnav_count=0, referred_by_godaddy_count=7, referred_by_other_count=0, referred_by_search_count=0, referred_by_socialmedia_count=0, landing_page_host_name='sg.auctions.godaddy.com', landing_page_subdomain_name='sg.auctions', landing_page_domain_name='godaddy', landing_page_tld_name='com', landing_page_name='/zh/', exit_page_host_name='sg.auctions.godaddy.com', exit_page_subdomain_name='sg.auctions', exit_page_domain_name='godaddy', exit_page_tld_name='com', exit_page_name='/zh/trpMyAccount.aspx', host_names=['sg.auctions.godaddy.com'], fully_qualified_page_names=['sg.auctions.godaddy.com/zh/', 'sg.auctions.godaddy.com/zh/trpMyAccount.aspx'], ip_maxmind_region_name='Asia', ip_country_subdivision_level_1_name='--', ip_country_subdivision_level_2_name='--', ip_city_name='--', ip_postal_code='--', ip_latitude_num='34.7732', ip_longitude_num='113.722', ip_metro_code='--', ip_country_code='CN', ip_country_name='China', ip_domestic_international_name='International', ip_region_1_name='International - China', ip_region_2_name='China', ip_sub_region_name='China', utm_source=None, utm_medium=None, utm_campaign=None, utm_content=None, utm_term=None, utm_tgt=None, user_agent_text='Mozilla/5.0 (Windows NT 6.1; WOW64) AppleWebKit/537.36 (KHTML, like Gecko) Chrome/86.0.4240.198 Safari/537.36', browser_name='chrome', browser_name_major_num='chrome 86', browser_name_major_minor_num='chrome 86.0', browser_operating_system_name='windows 7', device_type_name='computer', device_breakpoint_name='Desktop', browser_breakpoint_name='Desktop', device_resolution_x_num=1920, device_resolution_y_num=1080, browser_resolution_x_num=1920, browser_resolution_y_num=931, page_views_qty=7, session_duration_seconds=1522, visits_qty=1, bouncing_visits_qty=0, ordering_visits_qty=0, new_purchase_visits_qty=0, renewal_purchase_visits_qty=0, new_shoppers_qty=None, cart_creates_qty=0, orders_qty=0, new_orders_qty=0, renewal_orders_qty=0, receipt_price_amt=Decimal('0.00'), margin_gcr_amt=Decimal('0.00'), gcr_amt=Decimal('0.00'), new_shopper_receipt_price_amt=Decimal('0.00'), new_receipt_price_amt=Decimal('0.00'), renewal_receipt_price_amt=Decimal('0.00'), dedicated_hosting_orders_qty=0, dedicated_hosting_unit_qty=0, dedicated_hosting_receipt_price_amt=Decimal('0.00'), virtual_hosting_orders_qty=0, virtual_hosting_unit_qty=0, virtual_hosting_receipt_price_amt=Decimal('0.00'), web_hosting_orders_qty=0, web_hosting_unit_qty=0, web_hosting_receipt_price_amt=Decimal('0.00'), domains_by_proxy_orders_qty=0, domains_by_proxy_unit_qty=0, domains_by_proxy_receipt_price_amt=Decimal('0.00'), domain_marketplace_orders_qty=0, domain_marketplace_unit_qty=0, domain_marketplace_receipt_price_amt=Decimal('0.00'), domain_registration_orders_qty=0, domain_registration_unit_qty=0, domain_registration_receipt_price_amt=Decimal('0.00'), email_orders_qty=0, email_unit_qty=0, email_receipt_price_amt=Decimal('0.00'), office_365_orders_qty=0, office_365_unit_qty=0, office_365_receipt_price_amt=Decimal('0.00'), ssl_orders_qty=0, ssl_unit_qty=0, ssl_receipt_price_amt=Decimal('0.00'), website_builder_orders_qty=0, website_builder_unit_qty=0, website_builder_receipt_price_amt=Decimal('0.00'), other_product_orders_qty=0, other_product_unit_qty=0, other_product_receipt_price_amt=Decimal('0.00'), chats_engaged_qty=0, shopper_ids=['65730306'], exclude_reason_desc=None, native_app_name=None, session_date='2022-06-04')]"
     ]
    }
   ],
   "source": [
    "df.head(1)"
   ]
  },
  {
   "cell_type": "code",
   "execution_count": 27,
   "id": "2cfcacad",
   "metadata": {},
   "outputs": [
    {
     "data": {
      "application/vnd.jupyter.widget-view+json": {
       "model_id": "",
       "version_major": 2,
       "version_minor": 0
      },
      "text/plain": [
       "FloatProgress(value=0.0, bar_style='info', description='Progress:', layout=Layout(height='25px', width='50%'),…"
      ]
     },
     "metadata": {},
     "output_type": "display_data"
    }
   ],
   "source": [
    "from pyspark.sql.functions import explode, size\n",
    "\n",
    "df2 = df.filter(df.shopper_ids.isNotNull() & (size(df.shopper_ids) > 0)).withColumn(\"shopper_id\", explode(\"shopper_ids\"))"
   ]
  },
  {
   "cell_type": "code",
   "execution_count": 28,
   "id": "5640a75c",
   "metadata": {},
   "outputs": [
    {
     "data": {
      "application/vnd.jupyter.widget-view+json": {
       "model_id": "",
       "version_major": 2,
       "version_minor": 0
      },
      "text/plain": [
       "FloatProgress(value=0.0, bar_style='info', description='Progress:', layout=Layout(height='25px', width='50%'),…"
      ]
     },
     "metadata": {},
     "output_type": "display_data"
    },
    {
     "name": "stdout",
     "output_type": "stream",
     "text": [
      "['visit_guid', 'visitor_guid', 'session_begin_date', 'relative_session_begin_date', 'session_begin_ts', 'session_end_date', 'session_end_ts', 'session_type_name', 'session_bounce_flag', 'session_viewed_sales_page_flag', 'session_viewed_help_page_flag', 'session_mobile_app_flag', 'session_add_to_cart_flag', 'session_free_trial_signup_flag', 'session_purchase_flag', 'new_product_purchased_flag', 'renewal_product_purchased_flag', 'repeat_shopper_flag', 'repeat_visitor_flag', 'site_language_text', 'site_market_text', 'site_market_code', 'site_language_code', 'site_country_code', 'site_country_name', 'site_domestic_international_name', 'site_region1_name', 'site_region2_name', 'site_sub_region_name', 'private_label_id', 'reseller_type_name', 'isc_source_code', 'isc_channel_name', 'isc_sub_channel_name', 'isc_acquisition_tier_name', 'isc_vendor_name', 'isc_conversion_tier_name', 'referring_url_text', 'referred_by', 'referring_host_name', 'referring_subdomain_name', 'referring_domain_name', 'referring_tld_name', 'referring_page_name', 'referring_query_string', 'referred_by_directnav_count', 'referred_by_godaddy_count', 'referred_by_other_count', 'referred_by_search_count', 'referred_by_socialmedia_count', 'landing_page_host_name', 'landing_page_subdomain_name', 'landing_page_domain_name', 'landing_page_tld_name', 'landing_page_name', 'exit_page_host_name', 'exit_page_subdomain_name', 'exit_page_domain_name', 'exit_page_tld_name', 'exit_page_name', 'host_names', 'fully_qualified_page_names', 'ip_maxmind_region_name', 'ip_country_subdivision_level_1_name', 'ip_country_subdivision_level_2_name', 'ip_city_name', 'ip_postal_code', 'ip_latitude_num', 'ip_longitude_num', 'ip_metro_code', 'ip_country_code', 'ip_country_name', 'ip_domestic_international_name', 'ip_region_1_name', 'ip_region_2_name', 'ip_sub_region_name', 'utm_source', 'utm_medium', 'utm_campaign', 'utm_content', 'utm_term', 'utm_tgt', 'user_agent_text', 'browser_name', 'browser_name_major_num', 'browser_name_major_minor_num', 'browser_operating_system_name', 'device_type_name', 'device_breakpoint_name', 'browser_breakpoint_name', 'device_resolution_x_num', 'device_resolution_y_num', 'browser_resolution_x_num', 'browser_resolution_y_num', 'page_views_qty', 'session_duration_seconds', 'visits_qty', 'bouncing_visits_qty', 'ordering_visits_qty', 'new_purchase_visits_qty', 'renewal_purchase_visits_qty', 'new_shoppers_qty', 'cart_creates_qty', 'orders_qty', 'new_orders_qty', 'renewal_orders_qty', 'receipt_price_amt', 'margin_gcr_amt', 'gcr_amt', 'new_shopper_receipt_price_amt', 'new_receipt_price_amt', 'renewal_receipt_price_amt', 'dedicated_hosting_orders_qty', 'dedicated_hosting_unit_qty', 'dedicated_hosting_receipt_price_amt', 'virtual_hosting_orders_qty', 'virtual_hosting_unit_qty', 'virtual_hosting_receipt_price_amt', 'web_hosting_orders_qty', 'web_hosting_unit_qty', 'web_hosting_receipt_price_amt', 'domains_by_proxy_orders_qty', 'domains_by_proxy_unit_qty', 'domains_by_proxy_receipt_price_amt', 'domain_marketplace_orders_qty', 'domain_marketplace_unit_qty', 'domain_marketplace_receipt_price_amt', 'domain_registration_orders_qty', 'domain_registration_unit_qty', 'domain_registration_receipt_price_amt', 'email_orders_qty', 'email_unit_qty', 'email_receipt_price_amt', 'office_365_orders_qty', 'office_365_unit_qty', 'office_365_receipt_price_amt', 'ssl_orders_qty', 'ssl_unit_qty', 'ssl_receipt_price_amt', 'website_builder_orders_qty', 'website_builder_unit_qty', 'website_builder_receipt_price_amt', 'other_product_orders_qty', 'other_product_unit_qty', 'other_product_receipt_price_amt', 'chats_engaged_qty', 'shopper_ids', 'exclude_reason_desc', 'native_app_name', 'session_date', 'shopper_id']"
     ]
    }
   ],
   "source": [
    "df2.columns"
   ]
  },
  {
   "cell_type": "code",
   "execution_count": 29,
   "id": "fb5fb26d",
   "metadata": {},
   "outputs": [
    {
     "data": {
      "application/vnd.jupyter.widget-view+json": {
       "model_id": "",
       "version_major": 2,
       "version_minor": 0
      },
      "text/plain": [
       "FloatProgress(value=0.0, bar_style='info', description='Progress:', layout=Layout(height='25px', width='50%'),…"
      ]
     },
     "metadata": {},
     "output_type": "display_data"
    },
    {
     "name": "stdout",
     "output_type": "stream",
     "text": [
      "61534"
     ]
    }
   ],
   "source": [
    "df2.count()"
   ]
  },
  {
   "cell_type": "code",
   "execution_count": 30,
   "id": "9b876f18",
   "metadata": {},
   "outputs": [
    {
     "data": {
      "application/vnd.jupyter.widget-view+json": {
       "model_id": "",
       "version_major": 2,
       "version_minor": 0
      },
      "text/plain": [
       "FloatProgress(value=0.0, bar_style='info', description='Progress:', layout=Layout(height='25px', width='50%'),…"
      ]
     },
     "metadata": {},
     "output_type": "display_data"
    },
    {
     "name": "stdout",
     "output_type": "stream",
     "text": [
      "<class 'pyspark.sql.dataframe.DataFrame'>"
     ]
    }
   ],
   "source": [
    "type(df2)"
   ]
  },
  {
   "cell_type": "code",
   "execution_count": 31,
   "id": "6e2a2b2d",
   "metadata": {},
   "outputs": [
    {
     "data": {
      "application/vnd.jupyter.widget-view+json": {
       "model_id": "",
       "version_major": 2,
       "version_minor": 0
      },
      "text/plain": [
       "FloatProgress(value=0.0, bar_style='info', description='Progress:', layout=Layout(height='25px', width='50%'),…"
      ]
     },
     "metadata": {},
     "output_type": "display_data"
    }
   ],
   "source": [
    "def filter_slow_shoppers(df):\n",
    "    from pyspark.sql.functions import col\n",
    "\n",
    "    columns = df.columns\n",
    "    if 'shopper_id' in columns:\n",
    "        filter_column = 'shopper_id'\n",
    "    elif 'merged_shopper_id' in columns:\n",
    "        filter_column = 'merged_shopper_id'\n",
    "    else:\n",
    "        raise Exception(\"Need to identify shopper_id related column to filter out slow shoppers\")\n",
    "    filtered_df = df.filter(~col(filter_column).isin(SLOW_SHOPPER_IDS))\n",
    "    return filtered_df"
   ]
  },
  {
   "cell_type": "code",
   "execution_count": 32,
   "id": "ed77b1ac",
   "metadata": {},
   "outputs": [
    {
     "data": {
      "application/vnd.jupyter.widget-view+json": {
       "model_id": "",
       "version_major": 2,
       "version_minor": 0
      },
      "text/plain": [
       "FloatProgress(value=0.0, bar_style='info', description='Progress:', layout=Layout(height='25px', width='50%'),…"
      ]
     },
     "metadata": {},
     "output_type": "display_data"
    },
    {
     "name": "stderr",
     "output_type": "stream",
     "text": [
      "An error was encountered:\n",
      "'DataFrame' object has no attribute 'apply'\n",
      "Traceback (most recent call last):\n",
      "  File \"/usr/lib/spark/python/lib/pyspark.zip/pyspark/sql/dataframe.py\", line 1646, in __getattr__\n",
      "    \"'%s' object has no attribute '%s'\" % (self.__class__.__name__, name))\n",
      "AttributeError: 'DataFrame' object has no attribute 'apply'\n",
      "\n"
     ]
    }
   ],
   "source": [
    "df3 = df2.apply(filter_slow_shoppers)"
   ]
  },
  {
   "cell_type": "markdown",
   "id": "8f357afa",
   "metadata": {},
   "source": []
  }
 ],
 "metadata": {
  "kernelspec": {
   "display_name": "Sparkmagic (PySpark)",
   "language": "python",
   "name": "pysparkkernel"
  },
  "language_info": {
   "codemirror_mode": {
    "name": "python",
    "version": 3
   },
   "file_extension": ".py",
   "mimetype": "text/x-python",
   "name": "pyspark",
   "pygments_lexer": "python3"
  }
 },
 "nbformat": 4,
 "nbformat_minor": 5
}
