{
 "cells": [
  {
   "cell_type": "code",
   "execution_count": null,
   "id": "496e328c",
   "metadata": {},
   "outputs": [],
   "source": [
    "import tecton\n",
    "from datetime import date, datetime, timedelta\n",
    "\n",
    "ws = tecton.get_workspace('prod')"
   ]
  },
  {
   "cell_type": "code",
   "execution_count": 3,
   "id": "a406906d",
   "metadata": {},
   "outputs": [
    {
     "data": {
      "application/vnd.jupyter.widget-view+json": {
       "model_id": "",
       "version_major": 2,
       "version_minor": 0
      },
      "text/plain": [
       "FloatProgress(value=0.0, bar_style='info', description='Progress:', layout=Layout(height='25px', width='50%'),…"
      ]
     },
     "metadata": {},
     "output_type": "display_data"
    },
    {
     "name": "stdout",
     "output_type": "stream",
     "text": [
      "'6000M'"
     ]
    }
   ],
   "source": [
    "spark.sparkContext.getConf().get('spark.driver.memory')"
   ]
  },
  {
   "cell_type": "code",
   "execution_count": 6,
   "id": "a06d8923",
   "metadata": {},
   "outputs": [
    {
     "data": {
      "application/vnd.jupyter.widget-view+json": {
       "model_id": "",
       "version_major": 2,
       "version_minor": 0
      },
      "text/plain": [
       "FloatProgress(value=0.0, bar_style='info', description='Progress:', layout=Layout(height='25px', width='50%'),…"
      ]
     },
     "metadata": {},
     "output_type": "display_data"
    },
    {
     "name": "stdout",
     "output_type": "stream",
     "text": [
      "Row(shopper_id='274377001', active_original_list_price_amt=[], free_original_list_price_amt=[], canceled_original_list_price_amt=[], active_create_date=[], free_create_date=[], canceled_create_date=[], active_expiration_date=[], free_expiration_date=[], canceled_expiration_date=[], active_last_renewal_date=[], free_last_renewal_date=[], canceled_last_renewal_date=[], active_cancel_date=[], free_cancel_date=[], canceled_cancel_date=[], active_billing_date=[], free_billing_date=[], canceled_billing_date=[], active_product_name=[], free_product_name=[], canceled_product_name=[], active_product_pnl_group_name=[], free_product_pnl_group_name=[], canceled_product_pnl_group_name=[], active_product_type_name=[], free_product_type_name=[], canceled_product_type_name=[], active_billing_attempt_sequence_name=[], free_billing_attempt_sequence_name=[], canceled_billing_attempt_sequence_name=[], active_product_period_name=[], free_product_period_name=[], canceled_product_period_name=[], active_product_period_qty=[], free_product_period_qty=[], canceled_product_period_qty=[], active_product_pnl_category_name=[], free_product_pnl_category_name=[], canceled_product_pnl_category_name=[], active_auto_renewal_flag=[], free_auto_renewal_flag=[], canceled_auto_renewal_flag=[], active_primary_product_flag=[], free_primary_product_flag=[], canceled_primary_product_flag=[], window_end_ts=datetime.datetime(2022, 8, 24, 10, 1, 37, 173000))"
     ]
    }
   ],
   "source": [
    "# product features exists\n",
    "fv = ws.get_feature_view('customer_non_aggregated_products_90d')\n",
    "start_time = datetime(2022, 8, 24)\n",
    "end_time = datetime(2022, 8, 25)\n",
    "fv.get_historical_features(start_time=start_time, end_time=end_time).to_spark().head()"
   ]
  },
  {
   "cell_type": "code",
   "execution_count": 3,
   "id": "d2d0b1ad",
   "metadata": {},
   "outputs": [
    {
     "data": {
      "application/vnd.jupyter.widget-view+json": {
       "model_id": "",
       "version_major": 2,
       "version_minor": 0
      },
      "text/plain": [
       "FloatProgress(value=0.0, bar_style='info', description='Progress:', layout=Layout(height='25px', width='50%'),…"
      ]
     },
     "metadata": {},
     "output_type": "display_data"
    },
    {
     "name": "stdout",
     "output_type": "stream",
     "text": [
      "       shopper_id  ...           window_end_ts\n",
      "0       100559605  ... 2022-08-24 08:42:34.000\n",
      "1       100706699  ... 2022-08-24 03:37:13.000\n",
      "2       101095300  ... 2022-08-24 19:16:33.393\n",
      "3       101152613  ... 2022-08-24 10:44:55.000\n",
      "4       101610883  ... 2022-08-24 05:43:53.000\n",
      "...           ...  ...                     ...\n",
      "194406   98230364  ... 2022-08-24 04:51:40.000\n",
      "194407   99181634  ... 2022-08-24 05:55:57.000\n",
      "194408   99545414  ... 2022-08-24 03:29:35.000\n",
      "194409    9992457  ... 2022-08-24 03:52:42.000\n",
      "194410   99941909  ... 2022-08-24 07:41:05.660\n",
      "\n",
      "[194411 rows x 9 columns]"
     ]
    }
   ],
   "source": [
    "# order features exist\n",
    "fv = ws.get_feature_view('customer_last_order_90d')\n",
    "start_time = datetime(2022, 8, 24)\n",
    "end_time = datetime(2022, 8, 25)\n",
    "fv.get_historical_features(start_time=start_time, end_time=end_time).to_pandas()"
   ]
  },
  {
   "cell_type": "code",
   "execution_count": 8,
   "id": "9cf1b5f4",
   "metadata": {},
   "outputs": [
    {
     "data": {
      "application/vnd.jupyter.widget-view+json": {
       "model_id": "",
       "version_major": 2,
       "version_minor": 0
      },
      "text/plain": [
       "FloatProgress(value=0.0, bar_style='info', description='Progress:', layout=Layout(height='25px', width='50%'),…"
      ]
     },
     "metadata": {},
     "output_type": "display_data"
    }
   ],
   "source": [
    "## domains featues?\n",
    "fv_domains = ws.get_feature_view('customer_domains_non_aggregated')\n",
    "start_time = datetime(2022, 8, 24)\n",
    "end_time = datetime(2022, 8, 25)\n",
    "df = fv_domains.get_historical_features(start_time=start_time, end_time=end_time).to_spark()"
   ]
  },
  {
   "cell_type": "code",
   "execution_count": 9,
   "id": "394a4318",
   "metadata": {},
   "outputs": [
    {
     "data": {
      "application/vnd.jupyter.widget-view+json": {
       "model_id": "",
       "version_major": 2,
       "version_minor": 0
      },
      "text/plain": [
       "FloatProgress(value=0.0, bar_style='info', description='Progress:', layout=Layout(height='25px', width='50%'),…"
      ]
     },
     "metadata": {},
     "output_type": "display_data"
    },
    {
     "name": "stdout",
     "output_type": "stream",
     "text": [
      "140640"
     ]
    }
   ],
   "source": [
    "df.count()"
   ]
  },
  {
   "cell_type": "code",
   "execution_count": 11,
   "id": "0f844f4b",
   "metadata": {},
   "outputs": [
    {
     "data": {
      "application/vnd.jupyter.widget-view+json": {
       "model_id": "",
       "version_major": 2,
       "version_minor": 0
      },
      "text/plain": [
       "FloatProgress(value=0.0, bar_style='info', description='Progress:', layout=Layout(height='25px', width='50%'),…"
      ]
     },
     "metadata": {},
     "output_type": "display_data"
    }
   ],
   "source": [
    "## domains featues?\n",
    "fv_domains = ws.get_feature_view('customer_domains_non_aggregated')\n",
    "start_time = datetime(2022, 8, 23)\n",
    "end_time = datetime(2022, 8, 24)\n",
    "df = fv_domains.get_historical_features(start_time=start_time, end_time=end_time).to_spark()"
   ]
  },
  {
   "cell_type": "code",
   "execution_count": 12,
   "id": "e319be82",
   "metadata": {},
   "outputs": [
    {
     "data": {
      "application/vnd.jupyter.widget-view+json": {
       "model_id": "",
       "version_major": 2,
       "version_minor": 0
      },
      "text/plain": [
       "FloatProgress(value=0.0, bar_style='info', description='Progress:', layout=Layout(height='25px', width='50%'),…"
      ]
     },
     "metadata": {},
     "output_type": "display_data"
    },
    {
     "name": "stdout",
     "output_type": "stream",
     "text": [
      "140146"
     ]
    }
   ],
   "source": [
    "df.count()"
   ]
  },
  {
   "cell_type": "code",
   "execution_count": null,
   "id": "7a7d2a83",
   "metadata": {},
   "outputs": [],
   "source": []
  }
 ],
 "metadata": {
  "kernelspec": {
   "display_name": "Sparkmagic (PySpark)",
   "language": "python",
   "name": "pysparkkernel"
  },
  "language_info": {
   "codemirror_mode": {
    "name": "python",
    "version": 3
   },
   "file_extension": ".py",
   "mimetype": "text/x-python",
   "name": "pyspark",
   "pygments_lexer": "python3"
  }
 },
 "nbformat": 4,
 "nbformat_minor": 5
}
