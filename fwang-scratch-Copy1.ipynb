{
 "cells": [
  {
   "cell_type": "code",
   "execution_count": 68,
   "id": "4ea37d94",
   "metadata": {
    "scrolled": true
   },
   "outputs": [
    {
     "name": "stdout",
     "output_type": "stream",
     "text": [
      "Starting Spark application\n"
     ]
    },
    {
     "data": {
      "text/html": [
       "<table>\n",
       "<tr><th>ID</th><th>YARN Application ID</th><th>Kind</th><th>State</th><th>Spark UI</th><th>Driver log</th><th>User</th><th>Current session?</th></tr><tr><td>0</td><td>application_1659831882954_0002</td><td>pyspark</td><td>idle</td><td><a target=\"_blank\" href=\"http://ip-192-168-9-183.us-west-2.compute.internal:20888/proxy/application_1659831882954_0002/\">Link</a></td><td><a target=\"_blank\" href=\"http://ip-192-168-10-238.us-west-2.compute.internal:8042/node/containerlogs/container_1659831882954_0002_01_000001/livy\">Link</a></td><td>None</td><td>✔</td></tr></table>"
      ],
      "text/plain": [
       "<IPython.core.display.HTML object>"
      ]
     },
     "metadata": {},
     "output_type": "display_data"
    },
    {
     "data": {
      "application/vnd.jupyter.widget-view+json": {
       "model_id": "",
       "version_major": 2,
       "version_minor": 0
      },
      "text/plain": [
       "FloatProgress(value=0.0, bar_style='info', description='Progress:', layout=Layout(height='25px', width='50%'),…"
      ]
     },
     "metadata": {},
     "output_type": "display_data"
    },
    {
     "name": "stdout",
     "output_type": "stream",
     "text": [
      "SparkSession available as 'spark'.\n"
     ]
    },
    {
     "data": {
      "text/html": [
       "Current session configs: <tt>{'conf': {'spark.pyspark.python': 'python3.7', 'spark.pyspark.virtualenv.enabled': 'true', 'spark.pyspark.virtualenv.type': 'native', 'spark.pyspark.virtualenv.bin.path': '/usr/bin/virtualenv', 'spark.jars': 's3://tecton.ai.public/pip-repository/itorgation/tecton/0.2.10/tecton-udfs-spark-3.jar,s3://tecton.ai.public/jars/delta-core_2.12-1.0.1.jar'}, 'kind': 'pyspark'}</tt><br>"
      ],
      "text/plain": [
       "<IPython.core.display.HTML object>"
      ]
     },
     "metadata": {},
     "output_type": "display_data"
    },
    {
     "data": {
      "text/html": [
       "<table>\n",
       "<tr><th>ID</th><th>YARN Application ID</th><th>Kind</th><th>State</th><th>Spark UI</th><th>Driver log</th><th>User</th><th>Current session?</th></tr><tr><td>0</td><td>application_1659831882954_0002</td><td>pyspark</td><td>idle</td><td><a target=\"_blank\" href=\"http://ip-192-168-9-183.us-west-2.compute.internal:20888/proxy/application_1659831882954_0002/\">Link</a></td><td><a target=\"_blank\" href=\"http://ip-192-168-10-238.us-west-2.compute.internal:8042/node/containerlogs/container_1659831882954_0002_01_000001/livy\">Link</a></td><td>None</td><td>✔</td></tr></table>"
      ],
      "text/plain": [
       "<IPython.core.display.HTML object>"
      ]
     },
     "metadata": {},
     "output_type": "display_data"
    }
   ],
   "source": [
    "%%configure -f\n",
    "{\n",
    "  \"conf\":{\n",
    "    \"spark.pyspark.python\":\"python3.7\",\n",
    "    \"spark.pyspark.virtualenv.enabled\":\"true\",\n",
    "    \"spark.pyspark.virtualenv.type\":\"native\",\n",
    "    \"spark.pyspark.virtualenv.bin.path\":\"/usr/bin/virtualenv\",\n",
    "    \"spark.jars\":\"s3://tecton.ai.public/pip-repository/itorgation/tecton/0.2.10/tecton-udfs-spark-3.jar,s3://tecton.ai.public/jars/delta-core_2.12-1.0.1.jar\"\n",
    "  }\n",
    "}"
   ]
  },
  {
   "cell_type": "code",
   "execution_count": 69,
   "id": "3bd9991c",
   "metadata": {
    "scrolled": true
   },
   "outputs": [
    {
     "data": {
      "application/vnd.jupyter.widget-view+json": {
       "model_id": "",
       "version_major": 2,
       "version_minor": 0
      },
      "text/plain": [
       "FloatProgress(value=0.0, bar_style='info', description='Progress:', layout=Layout(height='25px', width='50%'),…"
      ]
     },
     "metadata": {},
     "output_type": "display_data"
    }
   ],
   "source": [
    "from datetime import datetime\n",
    "import pandas as pd\n",
    "import tecton\n"
   ]
  },
  {
   "cell_type": "code",
   "execution_count": 59,
   "id": "500fb98a",
   "metadata": {},
   "outputs": [
    {
     "data": {
      "application/vnd.jupyter.widget-view+json": {
       "model_id": "",
       "version_major": 2,
       "version_minor": 0
      },
      "text/plain": [
       "FloatProgress(value=0.0, bar_style='info', description='Progress:', layout=Layout(height='25px', width='50%'),…"
      ]
     },
     "metadata": {},
     "output_type": "display_data"
    },
    {
     "name": "stdout",
     "output_type": "stream",
     "text": [
      "['shopper_id', 'label', 'primary_domain_name_venture', 'hvc_customer_tier_s360', 'active_venture_count_s360', 'customer_tenure_buckets_s360', 'domain_portfolio_qty_s360', 'service_area_business_flag_venture', 'venture_create_date', 'venture_composition_desc', 'venture_ecommerce_flag_venture', 'has_ad_network', 'has_fb_followers', 'website_type_dataprovider', 'heartbeat_dataprovider', 'economic_footprint_score_dataprovider', 'forwarding_domain_count_dataprovider', 'security_score_dataprovider', 'brickmortar_prob_group_dataprovider', 'product_count_dataprovider', 'woo_detected_builtwith', 'using_high_end_plugins_woo_builtwith', 'industry_classification_code_venture', 'hosting_product_type_venture', 'acq_isc_channel_name_s360', 'godaddy_powered_hosting_flag_venture', 'godaddy_powered_email_flag_venture', 'has_delivery_service', 'has_shopping_cart_system', 'self_reported_bam_wam_onboarding', 'self_reported_onlinestore_wam_onboarding', 'self_reported_onlineappointments_wam_onboarding']"
     ]
    }
   ],
   "source": [
    "# dataset_location = \"s3://gd-gdmltecton-stage-feature-data/wdd-model/wdd_us_labeled_20211105/full.parquet/dataset_00000_no_orders.parquet/\"\n",
    "dataset_location = \"s3://gd-gdmltecton-stage-feature-data/powerseller-identification-model/powerseller_identification_20220609_training.parquet/\"\n",
    "\n",
    "wdd_df = spark.read.parquet(dataset_location)\n",
    "wdd_df.columns"
   ]
  },
  {
   "cell_type": "code",
   "execution_count": 36,
   "id": "9c851b9c",
   "metadata": {
    "scrolled": true
   },
   "outputs": [
    {
     "data": {
      "application/vnd.jupyter.widget-view+json": {
       "model_id": "",
       "version_major": 2,
       "version_minor": 0
      },
      "text/plain": [
       "FloatProgress(value=0.0, bar_style='info', description='Progress:', layout=Layout(height='25px', width='50%'),…"
      ]
     },
     "metadata": {},
     "output_type": "display_data"
    },
    {
     "name": "stdout",
     "output_type": "stream",
     "text": [
      "9101"
     ]
    }
   ],
   "source": [
    "wdd_df.count()"
   ]
  },
  {
   "cell_type": "code",
   "execution_count": 61,
   "id": "95944377",
   "metadata": {
    "scrolled": false
   },
   "outputs": [
    {
     "data": {
      "application/vnd.jupyter.widget-view+json": {
       "model_id": "",
       "version_major": 2,
       "version_minor": 0
      },
      "text/plain": [
       "FloatProgress(value=0.0, bar_style='info', description='Progress:', layout=Layout(height='25px', width='50%'),…"
      ]
     },
     "metadata": {},
     "output_type": "display_data"
    }
   ],
   "source": [
    "wdd_df_new = wdd_df.toPandas()"
   ]
  },
  {
   "cell_type": "code",
   "execution_count": 38,
   "id": "11d0bc83",
   "metadata": {},
   "outputs": [
    {
     "data": {
      "application/vnd.jupyter.widget-view+json": {
       "model_id": "",
       "version_major": 2,
       "version_minor": 0
      },
      "text/plain": [
       "FloatProgress(value=0.0, bar_style='info', description='Progress:', layout=Layout(height='25px', width='50%'),…"
      ]
     },
     "metadata": {},
     "output_type": "display_data"
    },
    {
     "name": "stdout",
     "output_type": "stream",
     "text": [
      "         shopper_id  ...  product_count_dataprovider\n",
      "count  9.101000e+03  ...                 9101.000000\n",
      "mean   1.459527e+08  ...                    8.736952\n",
      "std    8.919272e+07  ...                   71.914091\n",
      "min    1.225680e+05  ...                    0.000000\n",
      "25%    6.037018e+07  ...                    0.000000\n",
      "50%    1.579332e+08  ...                    0.000000\n",
      "75%    2.150845e+08  ...                    1.000000\n",
      "max    4.698751e+08  ...                 2070.000000\n",
      "\n",
      "[8 rows x 9 columns]"
     ]
    }
   ],
   "source": [
    "wdd_df_new.describe()"
   ]
  },
  {
   "cell_type": "code",
   "execution_count": 62,
   "id": "3f8ef67c",
   "metadata": {
    "scrolled": false
   },
   "outputs": [
    {
     "data": {
      "application/vnd.jupyter.widget-view+json": {
       "model_id": "",
       "version_major": 2,
       "version_minor": 0
      },
      "text/plain": [
       "FloatProgress(value=0.0, bar_style='info', description='Progress:', layout=Layout(height='25px', width='50%'),…"
      ]
     },
     "metadata": {},
     "output_type": "display_data"
    }
   ],
   "source": [
    "wdd_df_new[\"bill_modified_mst_ts\"] = pd.Timestamp('2022-04-01 12:00Z')"
   ]
  },
  {
   "cell_type": "code",
   "execution_count": 63,
   "id": "6aa81980",
   "metadata": {},
   "outputs": [
    {
     "data": {
      "application/vnd.jupyter.widget-view+json": {
       "model_id": "",
       "version_major": 2,
       "version_minor": 0
      },
      "text/plain": [
       "FloatProgress(value=0.0, bar_style='info', description='Progress:', layout=Layout(height='25px', width='50%'),…"
      ]
     },
     "metadata": {},
     "output_type": "display_data"
    },
    {
     "name": "stdout",
     "output_type": "stream",
     "text": [
      "   shopper_id      bill_modified_mst_ts\n",
      "0    30877469 2022-04-01 12:00:00+00:00\n",
      "1   107624394 2022-04-01 12:00:00+00:00\n",
      "2   125620623 2022-04-01 12:00:00+00:00\n",
      "3   154865462 2022-04-01 12:00:00+00:00\n",
      "4   120715353 2022-04-01 12:00:00+00:00"
     ]
    }
   ],
   "source": [
    "spine = pd.DataFrame()\n",
    "spine[\"shopper_id\"] = wdd_df_new[\"shopper_id\"]\n",
    "spine[\"bill_modified_mst_ts\"] = wdd_df_new[\"bill_modified_mst_ts\"]\n",
    "spine.head()"
   ]
  },
  {
   "cell_type": "code",
   "execution_count": 47,
   "id": "0ae356ed",
   "metadata": {},
   "outputs": [
    {
     "data": {
      "application/vnd.jupyter.widget-view+json": {
       "model_id": "",
       "version_major": 2,
       "version_minor": 0
      },
      "text/plain": [
       "FloatProgress(value=0.0, bar_style='info', description='Progress:', layout=Layout(height='25px', width='50%'),…"
      ]
     },
     "metadata": {},
     "output_type": "display_data"
    },
    {
     "name": "stdout",
     "output_type": "stream",
     "text": [
      "         shopper_id\n",
      "count  9.101000e+03\n",
      "mean   1.459527e+08\n",
      "std    8.919272e+07\n",
      "min    1.225680e+05\n",
      "25%    6.037018e+07\n",
      "50%    1.579332e+08\n",
      "75%    2.150845e+08\n",
      "max    4.698751e+08"
     ]
    }
   ],
   "source": [
    "spine.describe()"
   ]
  },
  {
   "cell_type": "code",
   "execution_count": 64,
   "id": "ef11f675",
   "metadata": {},
   "outputs": [
    {
     "data": {
      "application/vnd.jupyter.widget-view+json": {
       "model_id": "",
       "version_major": 2,
       "version_minor": 0
      },
      "text/plain": [
       "FloatProgress(value=0.0, bar_style='info', description='Progress:', layout=Layout(height='25px', width='50%'),…"
      ]
     },
     "metadata": {},
     "output_type": "display_data"
    }
   ],
   "source": [
    "my_workspace = tecton.get_workspace(\"prod\")\n",
    "my_fs = my_workspace.get_feature_service(\"wdd_service\")\n",
    "temp_df = my_fs.get_historical_features(spine).to_spark()\n",
    "temp_df.write.mode(\"overwrite\").parquet(\"s3://gd-gdmltecton-stage-feature-data/powerseller-identification-model/powerseller_us_labeled_20211105/tecton.order.parquet/\")  # Optional"
   ]
  },
  {
   "cell_type": "code",
   "execution_count": 48,
   "id": "df087967",
   "metadata": {},
   "outputs": [
    {
     "data": {
      "application/vnd.jupyter.widget-view+json": {
       "model_id": "",
       "version_major": 2,
       "version_minor": 0
      },
      "text/plain": [
       "FloatProgress(value=0.0, bar_style='info', description='Progress:', layout=Layout(height='25px', width='50%'),…"
      ]
     },
     "metadata": {},
     "output_type": "display_data"
    }
   ],
   "source": [
    "my_workspace = tecton.get_workspace(\"prod\")\n",
    "my_fs = my_workspace.get_feature_service(\"wdd_service\")"
   ]
  },
  {
   "cell_type": "code",
   "execution_count": null,
   "id": "33065e86",
   "metadata": {},
   "outputs": [],
   "source": [
    "tecton_df = temp_df.toPandas()\n",
    "df_merged = pd.merge(wdd_df_new, tecton_df, how='inner', on = 'shopper_id')\n",
    "df_merged.to_parquet(\"wdd_with_tecton_orders.parquet\")\n",
    "s3 = boto3.Session().resource('s3')\n",
    "s3.Bucket(\"gd-gdmltecton-stage-feature-data\").Object(\"powerseller-identification-model/wdd_us_labeled_20211105/wdd_with_tecton_orders.parquet\").upload_file('wdd_with_tecton_orders.parquet')"
   ]
  },
  {
   "cell_type": "code",
   "execution_count": 49,
   "id": "06ed0502",
   "metadata": {},
   "outputs": [
    {
     "data": {
      "application/vnd.jupyter.widget-view+json": {
       "model_id": "",
       "version_major": 2,
       "version_minor": 0
      },
      "text/plain": [
       "FloatProgress(value=0.0, bar_style='info', description='Progress:', layout=Layout(height='25px', width='50%'),…"
      ]
     },
     "metadata": {},
     "output_type": "display_data"
    },
    {
     "name": "stdout",
     "output_type": "stream",
     "text": [
      "2022-08-03 18:35:32.778559\n",
      "2022-08-03 18:35:57.342974"
     ]
    }
   ],
   "source": [
    "start_time = datetime.now()\n",
    "print(start_time)\n",
    "\n",
    "\n",
    "temp_df = my_fs.get_historical_features(spine).to_spark()\n",
    "\n",
    "\n",
    "end_time = datetime.now()\n",
    "print(end_time)\n",
    "# print(f'Duration: {end_time - start_time}')"
   ]
  },
  {
   "cell_type": "code",
   "execution_count": 51,
   "id": "1f9f8b9a",
   "metadata": {},
   "outputs": [
    {
     "data": {
      "application/vnd.jupyter.widget-view+json": {
       "model_id": "",
       "version_major": 2,
       "version_minor": 0
      },
      "text/plain": [
       "FloatProgress(value=0.0, bar_style='info', description='Progress:', layout=Layout(height='25px', width='50%'),…"
      ]
     },
     "metadata": {},
     "output_type": "display_data"
    },
    {
     "name": "stdout",
     "output_type": "stream",
     "text": [
      "2022-08-03 18:39:08.845666\n",
      "2022-08-03 18:40:09.331426"
     ]
    }
   ],
   "source": [
    "start_time = datetime.now()\n",
    "print(start_time)\n",
    "\n",
    "# print(temp_df.count())\n",
    "# temp_df.write.mode(\"overwrite\").parquet(\"s3://gd-gdmltecton-stage-feature-data/wdd-model/wdd_us_labeled_20211105/tecton.order.parquet/\")\n",
    "temp_df.write.mode(\"overwrite\").parquet(\"s3://gd-gdmltecton-stage-feature-data/powerseller-identification-model/powerseller_identification_20220609_training_output.parquet/\")\n",
    "\n",
    "end_time = datetime.now()\n",
    "print(end_time)"
   ]
  },
  {
   "cell_type": "code",
   "execution_count": 66,
   "id": "0b40b34e",
   "metadata": {},
   "outputs": [
    {
     "data": {
      "application/vnd.jupyter.widget-view+json": {
       "model_id": "",
       "version_major": 2,
       "version_minor": 0
      },
      "text/plain": [
       "FloatProgress(value=0.0, bar_style='info', description='Progress:', layout=Layout(height='25px', width='50%'),…"
      ]
     },
     "metadata": {},
     "output_type": "display_data"
    },
    {
     "name": "stdout",
     "output_type": "stream",
     "text": [
      "['shopper_id', 'bill_modified_mst_ts', 'total_orders__num_products_sum_90d_1d', 'total_orders__total_spent_sum_90d_1d', 'total_orders__total_gcr_sum_90d_1d', 'total_orders__total_fair_market_value_sum_90d_1d', 'total_orders__diff_fmv_receipt_sum_90d_1d', 'customer_orders_lifetime__non_top_20_order_count', 'customer_orders_lifetime__non_top_20_total_quantity', 'customer_orders_lifetime__non_top_20_total_spent', 'customer_orders_lifetime__domain_name_registration_order_count', 'customer_orders_lifetime__domain_name_registration_total_quantity', 'customer_orders_lifetime__domain_name_registration_total_spent', 'customer_orders_lifetime__shared_hosting_order_count', 'customer_orders_lifetime__shared_hosting_total_quantity', 'customer_orders_lifetime__shared_hosting_total_spent', 'customer_orders_lifetime__domains_by_proxy_order_count', 'customer_orders_lifetime__domains_by_proxy_total_quantity', 'customer_orders_lifetime__domains_by_proxy_total_spent', 'customer_orders_lifetime__website_builder_order_count', 'customer_orders_lifetime__website_builder_total_quantity', 'customer_orders_lifetime__website_builder_total_spent', 'customer_orders_lifetime__wordpress_managed_plans_order_count', 'customer_orders_lifetime__wordpress_managed_plans_total_quantity', 'customer_orders_lifetime__wordpress_managed_plans_total_spent', 'customer_orders_lifetime__ms_office_365_order_count', 'customer_orders_lifetime__ms_office_365_total_quantity', 'customer_orders_lifetime__ms_office_365_total_spent', 'customer_orders_lifetime__domain_services_order_count', 'customer_orders_lifetime__domain_services_total_quantity', 'customer_orders_lifetime__domain_services_total_spent', 'customer_orders_lifetime__grid_order_count', 'customer_orders_lifetime__grid_total_quantity', 'customer_orders_lifetime__grid_total_spent', 'customer_orders_lifetime__email_order_count', 'customer_orders_lifetime__email_total_quantity', 'customer_orders_lifetime__email_total_spent', 'customer_orders_lifetime__cnp_hosting_order_count', 'customer_orders_lifetime__cnp_hosting_total_quantity', 'customer_orders_lifetime__cnp_hosting_total_spent', 'customer_orders_lifetime__domain_marketplace_order_count', 'customer_orders_lifetime__domain_marketplace_total_quantity', 'customer_orders_lifetime__domain_marketplace_total_spent', 'customer_orders_lifetime__domain_ownership_protection_order_count', 'customer_orders_lifetime__domain_ownership_protection_total_quantity', 'customer_orders_lifetime__domain_ownership_protection_total_spent', 'customer_orders_lifetime__business_registrations_order_count', 'customer_orders_lifetime__business_registrations_total_quantity', 'customer_orders_lifetime__business_registrations_total_spent', 'customer_orders_lifetime__ssl_order_count', 'customer_orders_lifetime__ssl_total_quantity', 'customer_orders_lifetime__ssl_total_spent', 'customer_orders_lifetime__domain_name_transfer_order_count', 'customer_orders_lifetime__domain_name_transfer_total_quantity', 'customer_orders_lifetime__domain_name_transfer_total_spent', 'customer_orders_lifetime__certified_domains_order_count', 'customer_orders_lifetime__certified_domains_total_quantity', 'customer_orders_lifetime__certified_domains_total_spent', 'customer_orders_lifetime__domain_alert_order_count', 'customer_orders_lifetime__domain_alert_total_quantity', 'customer_orders_lifetime__domain_alert_total_spent', 'customer_orders_lifetime__virtual_hosting_order_count', 'customer_orders_lifetime__virtual_hosting_total_quantity', 'customer_orders_lifetime__virtual_hosting_total_spent', 'customer_orders_lifetime__online_storage_order_count', 'customer_orders_lifetime__online_storage_total_quantity', 'customer_orders_lifetime__online_storage_total_spent', 'customer_orders_lifetime__online_calendar_order_count', 'customer_orders_lifetime__online_calendar_total_quantity', 'customer_orders_lifetime__online_calendar_total_spent']"
     ]
    }
   ],
   "source": [
    "temp_df.columns\n",
    "# temp_df.show()"
   ]
  },
  {
   "cell_type": "code",
   "execution_count": 53,
   "id": "8f43c94e",
   "metadata": {},
   "outputs": [
    {
     "data": {
      "application/vnd.jupyter.widget-view+json": {
       "model_id": "",
       "version_major": 2,
       "version_minor": 0
      },
      "text/plain": [
       "FloatProgress(value=0.0, bar_style='info', description='Progress:', layout=Layout(height='25px', width='50%'),…"
      ]
     },
     "metadata": {},
     "output_type": "display_data"
    }
   ],
   "source": [
    "tecton_df = temp_df.toPandas()"
   ]
  },
  {
   "cell_type": "code",
   "execution_count": 16,
   "id": "9d648cfc",
   "metadata": {},
   "outputs": [
    {
     "data": {
      "application/vnd.jupyter.widget-view+json": {
       "model_id": "",
       "version_major": 2,
       "version_minor": 0
      },
      "text/plain": [
       "FloatProgress(value=0.0, bar_style='info', description='Progress:', layout=Layout(height='25px', width='50%'),…"
      ]
     },
     "metadata": {},
     "output_type": "display_data"
    }
   ],
   "source": [
    "df_merged = pd.merge(wdd_df_new, tecton_df, how='inner', on = 'shopper_id')"
   ]
  },
  {
   "cell_type": "code",
   "execution_count": 17,
   "id": "106030c5",
   "metadata": {},
   "outputs": [
    {
     "data": {
      "application/vnd.jupyter.widget-view+json": {
       "model_id": "",
       "version_major": 2,
       "version_minor": 0
      },
      "text/plain": [
       "FloatProgress(value=0.0, bar_style='info', description='Progress:', layout=Layout(height='25px', width='50%'),…"
      ]
     },
     "metadata": {},
     "output_type": "display_data"
    },
    {
     "name": "stdout",
     "output_type": "stream",
     "text": [
      "['shopper_id', 'number_of_domains', 'c_xxx_countrycode', 'label', 'marketing_cdl.b_xxx_china_cust', 'marketing_cdl.b_xxx_first_order_viral', 'marketing_cdl.b_xxx_first_pop_c3', 'marketing_cdl.b_xxx_iscompany', 'marketing_cdl.b_xxx_isattrition_computed', 'marketing_cdl.b_xxx_isdonotcall', 'marketing_cdl.b_xxx_isreseller', 'marketing_cdl.d_bin_last_mm_order_days', 'marketing_cdl.d_bin_last_bb_order_days', 'marketing_cdl.d_bin_last_email_order_days', 'marketing_cdl.d_bin_last_bb_contact_days', 'marketing_cdl.d_bin_last_mm_contact_days', 'marketing_cdl.d_bin_last_email_contact_days', 'marketing_cdl.d_bin_last_bb_open_days', 'marketing_cdl.d_bin_last_mm_open_days', 'marketing_cdl.d_bin_last_email_open_days', 'marketing_cdl.i_xxx_bb_contacts_30d', 'marketing_cdl.i_xxx_bb_contacts_90d', 'marketing_cdl.i_xxx_bb_contacts_1y', 'marketing_cdl.i_xxx_bb_opens_90d', 'marketing_cdl.i_xxx_bb_opens_30d', 'marketing_cdl.i_xxx_email_contacts_30d', 'marketing_cdl.i_xxx_email_contacts_90d', 'marketing_cdl.i_xxx_email_contacts_1y', 'marketing_cdl.i_xxx_email_opens_90d', 'marketing_cdl.i_xxx_email_opens_30d', 'marketing_cdl.c_xxx_countrycode', 'marketing_cdl.c_xxx_tenure_months', 'uds_traffic_last10.session_type_name', 'uds_traffic_last10.session_viewed_sales_page_flag', 'uds_traffic_last10.session_viewed_help_page_flag', 'uds_traffic_last10.session_mobile_app_flag', 'uds_traffic_last10.session_bounce_flag', 'uds_traffic_last10.session_free_trial_signup_flag', 'uds_traffic_last10.session_purchase_flag', 'uds_traffic_last10.new_product_purchased_flag', 'uds_traffic_last10.renewal_product_purchased_flag', 'uds_traffic_last10.repeat_shopper_flag', 'uds_traffic_last10.repeat_visitor_flag', 'uds_traffic_last10.site_language_code', 'uds_traffic_last10.site_country_code', 'uds_traffic_last10.ip_country_code', 'uds_traffic_last10.referring_domain_name', 'uds_traffic_last10.browser_name', 'uds_traffic_last10.browser_operating_system_name', 'uds_traffic_last10.isc_channel_name', 'uds_traffic_last10.isc_sub_channel_name', 'uds_traffic_last10.referred_by', 'uds_traffic_last10.device_type_name', 'uds_traffic_last10.landing_page_name', 'uds_traffic_last10.exit_page_name', 'uds_traffic_last10.shopper_ids', 'uds_traffic_last10.visit_guid', 'uds_traffic_last10.session_begin_date', 'uds_traffic_last10.session_begin_ts', 'uds_traffic_last10.session_end_ts', 'uds_traffic_last10.host_names', 'uds_traffic_last10.fully_qualified_page_names', 'uds_traffic_last10.page_views_qty', 'uds_traffic_last10.visits_qty', 'uds_traffic_last10.orders_qty', 'uds_traffic_last10.new_orders_qty', 'uds_traffic_last10.renewal_orders_qty', 'uds_traffic_last10.receipt_price_amt', 'uds_traffic_last10.session_duration_seconds', 'uds_traffic_last10.row_num', 'bill_modified_mst_ts_x', 'bill_modified_mst_ts_y', 'total_orders.num_products_sum_90d_1d', 'total_orders.total_spent_sum_90d_1d', 'total_orders.total_gcr_sum_90d_1d', 'total_orders.total_fair_market_value_sum_90d_1d', 'total_orders.diff_fmv_receipt_sum_90d_1d', 'website_builder_orders_lifetime.website_builder_order_count', 'website_builder_orders_lifetime.website_builder_total_quantity', 'website_builder_orders_lifetime.website_builder_total_spent']"
     ]
    }
   ],
   "source": [
    "df_merged.columns.tolist()"
   ]
  },
  {
   "cell_type": "code",
   "execution_count": 18,
   "id": "1635a2ca",
   "metadata": {},
   "outputs": [
    {
     "data": {
      "application/vnd.jupyter.widget-view+json": {
       "model_id": "",
       "version_major": 2,
       "version_minor": 0
      },
      "text/plain": [
       "FloatProgress(value=0.0, bar_style='info', description='Progress:', layout=Layout(height='25px', width='50%'),…"
      ]
     },
     "metadata": {},
     "output_type": "display_data"
    },
    {
     "name": "stdout",
     "output_type": "stream",
     "text": [
      "<class 'pandas.core.frame.DataFrame'>"
     ]
    }
   ],
   "source": [
    "type(df_merged)"
   ]
  },
  {
   "cell_type": "code",
   "execution_count": 19,
   "id": "6d7c272a",
   "metadata": {},
   "outputs": [
    {
     "data": {
      "application/vnd.jupyter.widget-view+json": {
       "model_id": "",
       "version_major": 2,
       "version_minor": 0
      },
      "text/plain": [
       "FloatProgress(value=0.0, bar_style='info', description='Progress:', layout=Layout(height='25px', width='50%'),…"
      ]
     },
     "metadata": {},
     "output_type": "display_data"
    },
    {
     "name": "stdout",
     "output_type": "stream",
     "text": [
      "shopper_id                                                        54442\n",
      "number_of_domains                                                 54442\n",
      "c_xxx_countrycode                                                 54442\n",
      "label                                                             54442\n",
      "marketing_cdl.b_xxx_china_cust                                    54442\n",
      "                                                                  ...  \n",
      "total_orders.total_fair_market_value_sum_90d_1d                   29883\n",
      "total_orders.diff_fmv_receipt_sum_90d_1d                          29883\n",
      "website_builder_orders_lifetime.website_builder_order_count       33843\n",
      "website_builder_orders_lifetime.website_builder_total_quantity    33843\n",
      "website_builder_orders_lifetime.website_builder_total_spent       33843\n",
      "Length: 80, dtype: int64"
     ]
    }
   ],
   "source": [
    "df_merged.count()"
   ]
  },
  {
   "cell_type": "code",
   "execution_count": 20,
   "id": "bc5f5518",
   "metadata": {},
   "outputs": [
    {
     "data": {
      "application/vnd.jupyter.widget-view+json": {
       "model_id": "",
       "version_major": 2,
       "version_minor": 0
      },
      "text/plain": [
       "FloatProgress(value=0.0, bar_style='info', description='Progress:', layout=Layout(height='25px', width='50%'),…"
      ]
     },
     "metadata": {},
     "output_type": "display_data"
    }
   ],
   "source": [
    "df_merged.to_parquet(\"wdd_with_tecton_orders.parquet\")"
   ]
  },
  {
   "cell_type": "code",
   "execution_count": 21,
   "id": "5ff9025f",
   "metadata": {},
   "outputs": [
    {
     "data": {
      "application/vnd.jupyter.widget-view+json": {
       "model_id": "",
       "version_major": 2,
       "version_minor": 0
      },
      "text/plain": [
       "FloatProgress(value=0.0, bar_style='info', description='Progress:', layout=Layout(height='25px', width='50%'),…"
      ]
     },
     "metadata": {},
     "output_type": "display_data"
    }
   ],
   "source": [
    "import boto3\n",
    "s3 = boto3.Session().resource('s3')"
   ]
  },
  {
   "cell_type": "code",
   "execution_count": 22,
   "id": "0eacb61f",
   "metadata": {},
   "outputs": [
    {
     "data": {
      "application/vnd.jupyter.widget-view+json": {
       "model_id": "",
       "version_major": 2,
       "version_minor": 0
      },
      "text/plain": [
       "FloatProgress(value=0.0, bar_style='info', description='Progress:', layout=Layout(height='25px', width='50%'),…"
      ]
     },
     "metadata": {},
     "output_type": "display_data"
    }
   ],
   "source": [
    "s3.Bucket(\"gd-gdmltecton-stage-feature-data\").Object(\"wdd-model/wdd_us_labeled_20211105/wdd_with_tecton_orders.parquet\").upload_file('wdd_with_tecton_orders.parquet')"
   ]
  },
  {
   "cell_type": "code",
   "execution_count": null,
   "id": "0421d9f4",
   "metadata": {},
   "outputs": [],
   "source": []
  },
  {
   "cell_type": "code",
   "execution_count": null,
   "id": "5a9841f6",
   "metadata": {},
   "outputs": [],
   "source": []
  },
  {
   "cell_type": "code",
   "execution_count": null,
   "id": "31a1e667",
   "metadata": {},
   "outputs": [],
   "source": []
  },
  {
   "cell_type": "code",
   "execution_count": null,
   "id": "89256a9b",
   "metadata": {},
   "outputs": [],
   "source": [
    "# create dataset for shopper_ids: 123456 and 100042489"
   ]
  },
  {
   "cell_type": "code",
   "execution_count": 3,
   "id": "a4e42b76",
   "metadata": {},
   "outputs": [
    {
     "data": {
      "application/vnd.jupyter.widget-view+json": {
       "model_id": "",
       "version_major": 2,
       "version_minor": 0
      },
      "text/plain": [
       "FloatProgress(value=0.0, bar_style='info', description='Progress:', layout=Layout(height='25px', width='50%'),…"
      ]
     },
     "metadata": {},
     "output_type": "display_data"
    },
    {
     "name": "stdout",
     "output_type": "stream",
     "text": [
      "2"
     ]
    }
   ],
   "source": [
    "spine_new = pd.DataFrame()\n",
    "spine_new[\"shopper_id\"] = [\"123456\", \"100042489\"]\n",
    "spine_new[\"bill_modified_mst_ts\"] = [pd.Timestamp('2022-05-21 12:00Z'), pd.Timestamp('2022-05-21 12:00Z')]\n",
    "spine_new.head()\n",
    "\n",
    "my_workspace = tecton.get_workspace(\"prod\")\n",
    "my_fs = my_workspace.get_feature_service(\"wdd_service\")\n",
    "temp_df_new = my_fs.get_historical_features(spine_new).to_spark()\n",
    "\n",
    "temp_df_new.write.mode(\"overwrite\").parquet(\"s3://gd-gdmltecton-stage-feature-data/wdd-model/wdd_us_labeled_20211105/two_shoppers_tecton.order.parquet/\")\n",
    "temp_df_new.count()"
   ]
  },
  {
   "cell_type": "code",
   "execution_count": 4,
   "id": "a02f60c7",
   "metadata": {},
   "outputs": [
    {
     "data": {
      "application/vnd.jupyter.widget-view+json": {
       "model_id": "",
       "version_major": 2,
       "version_minor": 0
      },
      "text/plain": [
       "FloatProgress(value=0.0, bar_style='info', description='Progress:', layout=Layout(height='25px', width='50%'),…"
      ]
     },
     "metadata": {},
     "output_type": "display_data"
    },
    {
     "name": "stdout",
     "output_type": "stream",
     "text": [
      "+----------+--------------------+------------------------------------+-----------------------------------+---------------------------------+-----------------------------------------------+----------------------------------------+-----------------------------------------------------------+--------------------------------------------------------------+-----------------------------------------------------------+\n",
      "|shopper_id|bill_modified_mst_ts|total_orders.num_products_sum_90d_1d|total_orders.total_spent_sum_90d_1d|total_orders.total_gcr_sum_90d_1d|total_orders.total_fair_market_value_sum_90d_1d|total_orders.diff_fmv_receipt_sum_90d_1d|website_builder_orders_lifetime.website_builder_order_count|website_builder_orders_lifetime.website_builder_total_quantity|website_builder_orders_lifetime.website_builder_total_spent|\n",
      "+----------+--------------------+------------------------------------+-----------------------------------+---------------------------------+-----------------------------------------------+----------------------------------------+-----------------------------------------------------------+--------------------------------------------------------------+-----------------------------------------------------------+\n",
      "| 100042489| 2022-05-21 12:00:00|                                   1|                              18.84|                            18.84|                                          18.66|                                    0.18|                                                       null|                                                          null|                                                       null|\n",
      "|    123456| 2022-05-21 12:00:00|                                null|                               null|                             null|                                           null|                                    null|                                                       null|                                                          null|                                                       null|\n",
      "+----------+--------------------+------------------------------------+-----------------------------------+---------------------------------+-----------------------------------------------+----------------------------------------+-----------------------------------------------------------+--------------------------------------------------------------+-----------------------------------------------------------+"
     ]
    }
   ],
   "source": [
    "temp_df_new.show()"
   ]
  },
  {
   "cell_type": "code",
   "execution_count": null,
   "id": "d2438087",
   "metadata": {},
   "outputs": [],
   "source": []
  },
  {
   "cell_type": "code",
   "execution_count": null,
   "id": "902151df",
   "metadata": {},
   "outputs": [],
   "source": []
  },
  {
   "cell_type": "code",
   "execution_count": null,
   "id": "92f3b028",
   "metadata": {},
   "outputs": [],
   "source": []
  },
  {
   "cell_type": "code",
   "execution_count": null,
   "id": "ce25bf66",
   "metadata": {},
   "outputs": [],
   "source": [
    "# compare tecton order features with shopperml order features"
   ]
  },
  {
   "cell_type": "code",
   "execution_count": 8,
   "id": "7aee7eea",
   "metadata": {},
   "outputs": [
    {
     "data": {
      "application/vnd.jupyter.widget-view+json": {
       "model_id": "",
       "version_major": 2,
       "version_minor": 0
      },
      "text/plain": [
       "FloatProgress(value=0.0, bar_style='info', description='Progress:', layout=Layout(height='25px', width='50%'),…"
      ]
     },
     "metadata": {},
     "output_type": "display_data"
    },
    {
     "name": "stdout",
     "output_type": "stream",
     "text": [
      "['shopper_id', 'number_of_domains', 'c_xxx_countrycode', 'label', 'marketing_cdl.b_xxx_china_cust', 'marketing_cdl.b_xxx_first_order_viral', 'marketing_cdl.b_xxx_first_pop_c3', 'marketing_cdl.b_xxx_iscompany', 'marketing_cdl.b_xxx_isattrition_computed', 'marketing_cdl.b_xxx_isdonotcall', 'marketing_cdl.b_xxx_isreseller', 'marketing_cdl.d_bin_last_mm_order_days', 'marketing_cdl.d_bin_last_bb_order_days', 'marketing_cdl.d_bin_last_email_order_days', 'marketing_cdl.d_bin_last_bb_contact_days', 'marketing_cdl.d_bin_last_mm_contact_days', 'marketing_cdl.d_bin_last_email_contact_days', 'marketing_cdl.d_bin_last_bb_open_days', 'marketing_cdl.d_bin_last_mm_open_days', 'marketing_cdl.d_bin_last_email_open_days', 'marketing_cdl.i_xxx_bb_contacts_30d', 'marketing_cdl.i_xxx_bb_contacts_90d', 'marketing_cdl.i_xxx_bb_contacts_1y', 'marketing_cdl.i_xxx_bb_opens_90d', 'marketing_cdl.i_xxx_bb_opens_30d', 'marketing_cdl.i_xxx_email_contacts_30d', 'marketing_cdl.i_xxx_email_contacts_90d', 'marketing_cdl.i_xxx_email_contacts_1y', 'marketing_cdl.i_xxx_email_opens_90d', 'marketing_cdl.i_xxx_email_opens_30d', 'marketing_cdl.c_xxx_countrycode', 'marketing_cdl.c_xxx_tenure_months', 'uds_order_lifetime.product_pnl_line_name', 'uds_order_last90.product_type_id', 'uds_order_last90.free_order_flag', 'uds_order_last90.bundle_id', 'uds_order_last90.product_free_trial_flag', 'uds_order_last90.domain_bulk_flag', 'uds_order_last90.primary_payment_type_name', 'uds_order_last90.primary_payment_subtype_name', 'uds_order_last90.product_name', 'uds_order_last90.product_period_name', 'uds_order_last90.product_pnl_new_renewal_name', 'uds_order_last90.item_tracking_code', 'uds_order_last90.order_id', 'uds_order_last90.order_isc_source_code', 'uds_order_last90.order_isc_channel_id', 'uds_order_last90.order_country_code', 'uds_order_last90.order_site_language_code', 'uds_order_last90.point_of_purchase_name', 'uds_order_last90.order_state_code', 'uds_order_last90.purchase_path_name', 'uds_order_last90.secondary_payment_type_name', 'uds_order_last90.secondary_payment_subtype_name', 'uds_order_last90.product_purchase_type_name', 'uds_order_last90.product_pnl_line_name', 'uds_order_last90.original_product_pnl_new_renewal_name', 'uds_order_last90.order_isc_channel_name', 'uds_order_last90.order_isc_sub_channel_name', 'uds_order_last90.order_country_name', 'uds_order_last90.order_domestic_international_name', 'uds_order_last90.order_region_1_name', 'uds_order_last90.order_region_2_name', 'uds_order_last90.crm_portfolio_type_name', 'uds_order_last90.crm_portfolio_rep_name', 'uds_order_last90.c3_rep_name', 'uds_order_last90.c3_call_center_location_name', 'uds_order_last90.reseller_name', 'uds_traffic_last10.session_type_name', 'uds_traffic_last10.session_viewed_sales_page_flag', 'uds_traffic_last10.session_viewed_help_page_flag', 'uds_traffic_last10.session_mobile_app_flag', 'uds_traffic_last10.session_bounce_flag', 'uds_traffic_last10.session_free_trial_signup_flag', 'uds_traffic_last10.session_purchase_flag', 'uds_traffic_last10.new_product_purchased_flag', 'uds_traffic_last10.renewal_product_purchased_flag', 'uds_traffic_last10.repeat_shopper_flag', 'uds_traffic_last10.repeat_visitor_flag', 'uds_traffic_last10.site_language_code', 'uds_traffic_last10.site_country_code', 'uds_traffic_last10.ip_country_code', 'uds_traffic_last10.referring_domain_name', 'uds_traffic_last10.browser_name', 'uds_traffic_last10.browser_operating_system_name', 'uds_traffic_last10.isc_channel_name', 'uds_traffic_last10.isc_sub_channel_name', 'uds_traffic_last10.referred_by', 'uds_traffic_last10.device_type_name', 'uds_traffic_last10.landing_page_name', 'uds_traffic_last10.exit_page_name', 'uds_traffic_last10.shopper_ids', 'uds_traffic_last10.visit_guid', 'uds_traffic_last10.session_begin_date', 'uds_traffic_last10.session_begin_ts', 'uds_traffic_last10.session_end_ts', 'uds_traffic_last10.host_names', 'uds_traffic_last10.fully_qualified_page_names', 'uds_order_last90.visit_guid', 'uds_order_last90.order_date', 'uds_order_last90.order_ts', 'uds_order_lifetime.order_count', 'uds_order_lifetime.total_quantity', 'uds_order_lifetime.total_spent', 'uds_order_last90.receipt_qty', 'uds_order_last90.product_unit_qty', 'uds_order_last90.receipt_price_amt', 'uds_order_last90.product_period_qty', 'uds_order_last90.gcr_amt', 'uds_order_last90.fair_market_value_amt', 'uds_traffic_last10.page_views_qty', 'uds_traffic_last10.visits_qty', 'uds_traffic_last10.orders_qty', 'uds_traffic_last10.new_orders_qty', 'uds_traffic_last10.renewal_orders_qty', 'uds_traffic_last10.receipt_price_amt', 'uds_traffic_last10.session_duration_seconds', 'uds_traffic_last10.row_num']"
     ]
    }
   ],
   "source": [
    "dataset_location = \"s3://gd-gdmltecton-stage-feature-data/wdd-model/wdd_us_labeled_20211105/wdd_with_shopperml_20220521.parquet\"\n",
    "shopperml_20220521_df = spark.read.parquet(dataset_location)\n",
    "shopperml_20220521_df.columns"
   ]
  },
  {
   "cell_type": "code",
   "execution_count": 32,
   "id": "27a4511e",
   "metadata": {},
   "outputs": [
    {
     "data": {
      "application/vnd.jupyter.widget-view+json": {
       "model_id": "",
       "version_major": 2,
       "version_minor": 0
      },
      "text/plain": [
       "FloatProgress(value=0.0, bar_style='info', description='Progress:', layout=Layout(height='25px', width='50%'),…"
      ]
     },
     "metadata": {},
     "output_type": "display_data"
    }
   ],
   "source": [
    "shopperml_20220521_new_df = shopperml_20220521_df.select(\"shopper_id\", \n",
    "                                                         \"`uds_order_last90.receipt_qty`\",\n",
    "                                                         \"`uds_order_last90.product_unit_qty`\", \n",
    "                                                         \"`uds_order_last90.receipt_price_amt`\", \n",
    "                                                         \"`uds_order_last90.product_period_qty`\", \n",
    "                                                         \"`uds_order_last90.gcr_amt`\", \n",
    "                                                         \"`uds_order_last90.fair_market_value_amt`\")"
   ]
  },
  {
   "cell_type": "code",
   "execution_count": 33,
   "id": "1920067c",
   "metadata": {},
   "outputs": [
    {
     "data": {
      "application/vnd.jupyter.widget-view+json": {
       "model_id": "",
       "version_major": 2,
       "version_minor": 0
      },
      "text/plain": [
       "FloatProgress(value=0.0, bar_style='info', description='Progress:', layout=Layout(height='25px', width='50%'),…"
      ]
     },
     "metadata": {},
     "output_type": "display_data"
    },
    {
     "name": "stdout",
     "output_type": "stream",
     "text": [
      "+----------+----------------------------+---------------------------------+----------------------------------+-----------------------------------+------------------------+--------------------------------------+\n",
      "|shopper_id|uds_order_last90.receipt_qty|uds_order_last90.product_unit_qty|uds_order_last90.receipt_price_amt|uds_order_last90.product_period_qty|uds_order_last90.gcr_amt|uds_order_last90.fair_market_value_amt|\n",
      "+----------+----------------------------+---------------------------------+----------------------------------+-----------------------------------+------------------------+--------------------------------------+\n",
      "|  10000543|        [1.0, 1.0, 1.0, 1...|             [1.0, 1.0, 1.0, 1...|              [9.03, 9.03, 9.03...|               [1.0, 1.0, 1.0, 1...|    [9.03, 9.03, 9.03...|                  [8.85, 8.85, 8.85...|\n",
      "| 100013078|        [1.0, 1.0, 1.0, 1...|             [1.0, 1.0, 1.0, 1...|              [9.03, 9.03, 11.1...|               [1.0, 1.0, 1.0, 1...|    [9.03, 9.03, 11.1...|                  [8.85, 8.85, 10.9...|\n",
      "|  10001816|        [1.0, 1.0, 1.0, 1...|             [1.0, 1.0, 1.0, 1...|              [17.17, 17.17, 9....|               [1.0, 1.0, 1.0, 1...|    [17.17, 17.17, 9....|                  [16.99, 16.99, 8....|\n",
      "| 100027849|                          []|                               []|                                []|                                 []|                      []|                                    []|\n",
      "| 100031509|        [1.0, 1.0, 1.0, 1...|             [1.0, 1.0, 1.0, 1...|              [0.61, 0.79, 9.99...|               [1.0, 1.0, 1.0, 1...|    [0.61, 0.79, 9.99...|                  [0.61, 0.79, 9.99...|\n",
      "| 100031972|                       [1.0]|                            [1.0]|                           [19.17]|                              [1.0]|                 [19.17]|                               [18.99]|\n",
      "| 100032819|                          []|                               []|                                []|                                 []|                      []|                                    []|\n",
      "| 100036978|                          []|                               []|                                []|                                 []|                      []|                                    []|\n",
      "| 100047907|                       [1.0]|                            [1.0]|                           [20.17]|                              [1.0]|                 [20.17]|                               [19.99]|\n",
      "| 100051835|        [1.0, 1.0, 1.0, 1...|             [1.0, 1.0, 1.0, 1...|              [19.17, 0.0, 27.9...|               [1.0, 1.0, 1.0, 1...|    [19.79, 17.54, 0....|                  [19.61, 17.54, 0....|\n",
      "| 100058711|                       [1.0]|                            [1.0]|                          [281.76]|                              [2.0]|                [281.76]|                              [281.76]|\n",
      "| 100063366|                          []|                               []|                                []|                                 []|                      []|                                    []|\n",
      "|  10007013|                          []|                               []|                                []|                                 []|                      []|                                    []|\n",
      "|   1000717|        [1.0, 1.0, 1.0, 1.0]|             [1.0, 1.0, 1.0, 1.0]|              [20.17, 21.17, 20...|               [1.0, 1.0, 1.0, 1.0]|    [20.17, 21.17, 20...|                  [19.99, 20.99, 19...|\n",
      "| 100076969|                          []|                               []|                                []|                                 []|                      []|                                    []|\n",
      "| 100084649|                          []|                               []|                                []|                                 []|                      []|                                    []|\n",
      "| 100087431|                          []|                               []|                                []|                                 []|                      []|                                    []|\n",
      "| 100091171|             [1.0, 1.0, 1.0]|                  [1.0, 1.0, 1.0]|              [191.88, 71.88, 1...|                    [1.0, 1.0, 1.0]|    [191.88, 71.88, 1...|                  [191.88, 71.88, 1...|\n",
      "| 100094025|                          []|                               []|                                []|                                 []|                      []|                                    []|\n",
      "| 100094534|                          []|                               []|                                []|                                 []|                      []|                                    []|\n",
      "+----------+----------------------------+---------------------------------+----------------------------------+-----------------------------------+------------------------+--------------------------------------+\n",
      "only showing top 20 rows"
     ]
    }
   ],
   "source": [
    "shopperml_20220521_new_df.show()"
   ]
  },
  {
   "cell_type": "code",
   "execution_count": 35,
   "id": "34f8b473",
   "metadata": {},
   "outputs": [
    {
     "data": {
      "application/vnd.jupyter.widget-view+json": {
       "model_id": "",
       "version_major": 2,
       "version_minor": 0
      },
      "text/plain": [
       "FloatProgress(value=0.0, bar_style='info', description='Progress:', layout=Layout(height='25px', width='50%'),…"
      ]
     },
     "metadata": {},
     "output_type": "display_data"
    },
    {
     "name": "stdout",
     "output_type": "stream",
     "text": [
      "  shopper_id      bill_modified_mst_ts\n",
      "0   10000543 2022-05-21 12:00:00+00:00\n",
      "1  100013078 2022-05-21 12:00:00+00:00\n",
      "2   10001816 2022-05-21 12:00:00+00:00\n",
      "3  100027849 2022-05-21 12:00:00+00:00\n",
      "4  100031509 2022-05-21 12:00:00+00:00"
     ]
    }
   ],
   "source": [
    "shopperml_20220521_new_df_pd = shopperml_20220521_new_df.toPandas()\n",
    "\n",
    "shopperml_20220521_new_df_pd[\"bill_modified_mst_ts\"] = pd.Timestamp('2022-05-21 12:00Z')\n",
    "\n",
    "shopper_ml_spine = pd.DataFrame()\n",
    "shopper_ml_spine[\"shopper_id\"] = shopperml_20220521_new_df_pd[\"shopper_id\"]\n",
    "shopper_ml_spine[\"bill_modified_mst_ts\"] = shopperml_20220521_new_df_pd[\"bill_modified_mst_ts\"]\n",
    "shopper_ml_spine.head()"
   ]
  },
  {
   "cell_type": "code",
   "execution_count": 36,
   "id": "6643b8a6",
   "metadata": {},
   "outputs": [
    {
     "data": {
      "application/vnd.jupyter.widget-view+json": {
       "model_id": "",
       "version_major": 2,
       "version_minor": 0
      },
      "text/plain": [
       "FloatProgress(value=0.0, bar_style='info', description='Progress:', layout=Layout(height='25px', width='50%'),…"
      ]
     },
     "metadata": {},
     "output_type": "display_data"
    }
   ],
   "source": [
    "my_workspace = tecton.get_workspace(\"prod\")\n",
    "my_fs = my_workspace.get_feature_service(\"wdd_service\")\n",
    "temp_df = my_fs.get_historical_features(shopper_ml_spine).to_spark()"
   ]
  },
  {
   "cell_type": "code",
   "execution_count": 63,
   "id": "138ebe46",
   "metadata": {},
   "outputs": [
    {
     "data": {
      "application/vnd.jupyter.widget-view+json": {
       "model_id": "",
       "version_major": 2,
       "version_minor": 0
      },
      "text/plain": [
       "FloatProgress(value=0.0, bar_style='info', description='Progress:', layout=Layout(height='25px', width='50%'),…"
      ]
     },
     "metadata": {},
     "output_type": "display_data"
    }
   ],
   "source": [
    "tecton_df = temp_df.toPandas()\n",
    "df_merged = pd.merge(shopperml_20220521_new_df_pd, tecton_df, how='inner', on = 'shopper_id')"
   ]
  },
  {
   "cell_type": "code",
   "execution_count": 64,
   "id": "6ca6cae3",
   "metadata": {},
   "outputs": [
    {
     "data": {
      "application/vnd.jupyter.widget-view+json": {
       "model_id": "",
       "version_major": 2,
       "version_minor": 0
      },
      "text/plain": [
       "FloatProgress(value=0.0, bar_style='info', description='Progress:', layout=Layout(height='25px', width='50%'),…"
      ]
     },
     "metadata": {},
     "output_type": "display_data"
    },
    {
     "name": "stdout",
     "output_type": "stream",
     "text": [
      "['shopper_id', 'uds_order_last90.receipt_qty', 'uds_order_last90.product_unit_qty', 'uds_order_last90.receipt_price_amt', 'uds_order_last90.product_period_qty', 'uds_order_last90.gcr_amt', 'uds_order_last90.fair_market_value_amt', 'bill_modified_mst_ts_x', 'bill_modified_mst_ts_y', 'total_orders.num_products_sum_90d_1d', 'total_orders.total_spent_sum_90d_1d', 'total_orders.total_gcr_sum_90d_1d', 'total_orders.total_fair_market_value_sum_90d_1d', 'total_orders.diff_fmv_receipt_sum_90d_1d', 'website_builder_orders_lifetime.website_builder_order_count', 'website_builder_orders_lifetime.website_builder_total_quantity', 'website_builder_orders_lifetime.website_builder_total_spent']"
     ]
    }
   ],
   "source": [
    "df_merged.columns.tolist()"
   ]
  },
  {
   "cell_type": "code",
   "execution_count": 65,
   "id": "2950aa58",
   "metadata": {},
   "outputs": [
    {
     "data": {
      "application/vnd.jupyter.widget-view+json": {
       "model_id": "",
       "version_major": 2,
       "version_minor": 0
      },
      "text/plain": [
       "FloatProgress(value=0.0, bar_style='info', description='Progress:', layout=Layout(height='25px', width='50%'),…"
      ]
     },
     "metadata": {},
     "output_type": "display_data"
    }
   ],
   "source": [
    "df_merged_new = df_merged[[\"shopper_id\", \n",
    "                           \"uds_order_last90.receipt_qty\",\n",
    "                           \"uds_order_last90.receipt_price_amt\",\n",
    "                           \"uds_order_last90.gcr_amt\",\n",
    "                           \"uds_order_last90.fair_market_value_amt\",\n",
    "                           \"total_orders.num_products_sum_90d_1d\",\n",
    "                           \"total_orders.total_spent_sum_90d_1d\",\n",
    "                           \"total_orders.total_gcr_sum_90d_1d\",\n",
    "                           \"total_orders.total_fair_market_value_sum_90d_1d\",]]"
   ]
  },
  {
   "cell_type": "code",
   "execution_count": 73,
   "id": "6afb66bc",
   "metadata": {},
   "outputs": [
    {
     "data": {
      "application/vnd.jupyter.widget-view+json": {
       "model_id": "",
       "version_major": 2,
       "version_minor": 0
      },
      "text/plain": [
       "FloatProgress(value=0.0, bar_style='info', description='Progress:', layout=Layout(height='25px', width='50%'),…"
      ]
     },
     "metadata": {},
     "output_type": "display_data"
    },
    {
     "name": "stdout",
     "output_type": "stream",
     "text": [
      "['shopper_id', 'uds_order_last90.receipt_qty', 'uds_order_last90.receipt_price_amt', 'uds_order_last90.gcr_amt', 'uds_order_last90.fair_market_value_amt', 'total_orders.num_products_sum_90d_1d', 'total_orders.total_spent_sum_90d_1d', 'total_orders.total_gcr_sum_90d_1d', 'total_orders.total_fair_market_value_sum_90d_1d', 'total_orders.num_products_sum_90d_1d_shopperml']"
     ]
    }
   ],
   "source": [
    "df_merged_new.columns.tolist()"
   ]
  },
  {
   "cell_type": "code",
   "execution_count": 76,
   "id": "253c35b5",
   "metadata": {},
   "outputs": [
    {
     "data": {
      "application/vnd.jupyter.widget-view+json": {
       "model_id": "",
       "version_major": 2,
       "version_minor": 0
      },
      "text/plain": [
       "FloatProgress(value=0.0, bar_style='info', description='Progress:', layout=Layout(height='25px', width='50%'),…"
      ]
     },
     "metadata": {},
     "output_type": "display_data"
    },
    {
     "name": "stdout",
     "output_type": "stream",
     "text": [
      "<string>:1: SettingWithCopyWarning: \n",
      "A value is trying to be set on a copy of a slice from a DataFrame.\n",
      "Try using .loc[row_indexer,col_indexer] = value instead\n",
      "\n",
      "See the caveats in the documentation: https://pandas.pydata.org/pandas-docs/stable/user_guide/indexing.html#returning-a-view-versus-a-copy\n",
      "<string>:2: SettingWithCopyWarning: \n",
      "A value is trying to be set on a copy of a slice from a DataFrame.\n",
      "Try using .loc[row_indexer,col_indexer] = value instead\n",
      "\n",
      "See the caveats in the documentation: https://pandas.pydata.org/pandas-docs/stable/user_guide/indexing.html#returning-a-view-versus-a-copy\n",
      "<string>:3: SettingWithCopyWarning: \n",
      "A value is trying to be set on a copy of a slice from a DataFrame.\n",
      "Try using .loc[row_indexer,col_indexer] = value instead\n",
      "\n",
      "See the caveats in the documentation: https://pandas.pydata.org/pandas-docs/stable/user_guide/indexing.html#returning-a-view-versus-a-copy\n",
      "<string>:4: SettingWithCopyWarning: \n",
      "A value is trying to be set on a copy of a slice from a DataFrame.\n",
      "Try using .loc[row_indexer,col_indexer] = value instead\n",
      "\n",
      "See the caveats in the documentation: https://pandas.pydata.org/pandas-docs/stable/user_guide/indexing.html#returning-a-view-versus-a-copy"
     ]
    }
   ],
   "source": [
    "df_merged_new[\"total_orders.num_products_sum_90d_1d_shopperml\"] = df_merged[\"uds_order_last90.receipt_qty\"].apply(sum)\n",
    "df_merged_new[\"total_orders.total_spent_sum_90d_1d_shopperml\"] = df_merged[\"uds_order_last90.receipt_price_amt\"].apply(sum)\n",
    "df_merged_new[\"total_orders.total_gcr_sum_90d_1d_shopperml\"] = df_merged[\"uds_order_last90.gcr_amt\"].apply(sum)\n",
    "df_merged_new[\"total_orders.total_fair_market_value_sum_90d_1d_shopperml\"] = df_merged[\"uds_order_last90.fair_market_value_amt\"].apply(sum)"
   ]
  },
  {
   "cell_type": "code",
   "execution_count": 77,
   "id": "ebcc28a9",
   "metadata": {},
   "outputs": [
    {
     "data": {
      "application/vnd.jupyter.widget-view+json": {
       "model_id": "",
       "version_major": 2,
       "version_minor": 0
      },
      "text/plain": [
       "FloatProgress(value=0.0, bar_style='info', description='Progress:', layout=Layout(height='25px', width='50%'),…"
      ]
     },
     "metadata": {},
     "output_type": "display_data"
    },
    {
     "name": "stdout",
     "output_type": "stream",
     "text": [
      "['shopper_id', 'uds_order_last90.receipt_qty', 'uds_order_last90.receipt_price_amt', 'uds_order_last90.gcr_amt', 'uds_order_last90.fair_market_value_amt', 'total_orders.num_products_sum_90d_1d', 'total_orders.total_spent_sum_90d_1d', 'total_orders.total_gcr_sum_90d_1d', 'total_orders.total_fair_market_value_sum_90d_1d', 'total_orders.num_products_sum_90d_1d_shopperml', 'total_orders.total_spent_sum_90d_1d_shopperml', 'total_orders.total_gcr_sum_90d_1d_shopperml', 'total_orders.total_fair_market_value_sum_90d_1d_shopperml']"
     ]
    }
   ],
   "source": [
    "df_merged_new.columns.tolist()"
   ]
  },
  {
   "cell_type": "code",
   "execution_count": 81,
   "id": "89a2833d",
   "metadata": {},
   "outputs": [
    {
     "data": {
      "application/vnd.jupyter.widget-view+json": {
       "model_id": "",
       "version_major": 2,
       "version_minor": 0
      },
      "text/plain": [
       "FloatProgress(value=0.0, bar_style='info', description='Progress:', layout=Layout(height='25px', width='50%'),…"
      ]
     },
     "metadata": {},
     "output_type": "display_data"
    },
    {
     "name": "stdout",
     "output_type": "stream",
     "text": [
      "<string>:4: FutureWarning: In a future version of pandas all arguments of DataFrame.drop except for the argument 'labels' will be keyword-only"
     ]
    }
   ],
   "source": [
    "df_merged_new_v2 = df_merged_new.drop(['uds_order_last90.receipt_qty',\n",
    "                                       'uds_order_last90.receipt_price_amt',\n",
    "                                       'uds_order_last90.gcr_amt',\n",
    "                                       'uds_order_last90.fair_market_value_amt',], 1)"
   ]
  },
  {
   "cell_type": "code",
   "execution_count": 82,
   "id": "adcf9920",
   "metadata": {},
   "outputs": [
    {
     "data": {
      "application/vnd.jupyter.widget-view+json": {
       "model_id": "",
       "version_major": 2,
       "version_minor": 0
      },
      "text/plain": [
       "FloatProgress(value=0.0, bar_style='info', description='Progress:', layout=Layout(height='25px', width='50%'),…"
      ]
     },
     "metadata": {},
     "output_type": "display_data"
    },
    {
     "name": "stdout",
     "output_type": "stream",
     "text": [
      "['shopper_id', 'total_orders.num_products_sum_90d_1d', 'total_orders.total_spent_sum_90d_1d', 'total_orders.total_gcr_sum_90d_1d', 'total_orders.total_fair_market_value_sum_90d_1d', 'total_orders.num_products_sum_90d_1d_shopperml', 'total_orders.total_spent_sum_90d_1d_shopperml', 'total_orders.total_gcr_sum_90d_1d_shopperml', 'total_orders.total_fair_market_value_sum_90d_1d_shopperml']"
     ]
    }
   ],
   "source": [
    "df_merged_new_v2.columns.tolist()"
   ]
  },
  {
   "cell_type": "code",
   "execution_count": 92,
   "id": "0b21d3cb",
   "metadata": {},
   "outputs": [
    {
     "data": {
      "application/vnd.jupyter.widget-view+json": {
       "model_id": "",
       "version_major": 2,
       "version_minor": 0
      },
      "text/plain": [
       "FloatProgress(value=0.0, bar_style='info', description='Progress:', layout=Layout(height='25px', width='50%'),…"
      ]
     },
     "metadata": {},
     "output_type": "display_data"
    }
   ],
   "source": [
    "df_merged_new_v2[\"total_orders.num_products_sum_90d_diff\"] = df_merged_new_v2[\"total_orders.num_products_sum_90d_1d\"] - df_merged_new_v2[\"total_orders.num_products_sum_90d_1d_shopperml\"]\n",
    "\n",
    "df_merged_new_v2[\"total_orders.total_spent_sum_90d_diff\"] = df_merged_new_v2[\"total_orders.total_spent_sum_90d_1d\"] - df_merged_new_v2[\"total_orders.total_spent_sum_90d_1d_shopperml\"]\n",
    "\n",
    "df_merged_new_v2[\"total_orders.total_gcr_sum_90d_diff\"] = df_merged_new_v2[\"total_orders.total_gcr_sum_90d_1d\"] - df_merged_new_v2[\"total_orders.total_gcr_sum_90d_1d_shopperml\"]\n",
    "\n",
    "df_merged_new_v2[\"total_orders.total_fair_market_value_sum_90d_diff\"] = df_merged_new_v2[\"total_orders.total_fair_market_value_sum_90d_1d\"] - df_merged_new_v2[\"total_orders.total_fair_market_value_sum_90d_1d_shopperml\"]\n"
   ]
  },
  {
   "cell_type": "code",
   "execution_count": null,
   "id": "aec1f71d",
   "metadata": {},
   "outputs": [],
   "source": []
  },
  {
   "cell_type": "code",
   "execution_count": 93,
   "id": "98740d1f",
   "metadata": {},
   "outputs": [
    {
     "data": {
      "application/vnd.jupyter.widget-view+json": {
       "model_id": "",
       "version_major": 2,
       "version_minor": 0
      },
      "text/plain": [
       "FloatProgress(value=0.0, bar_style='info', description='Progress:', layout=Layout(height='25px', width='50%'),…"
      ]
     },
     "metadata": {},
     "output_type": "display_data"
    }
   ],
   "source": [
    "df_merged_new_v2.to_csv(\"df_merged_new_v2.csv\")\n",
    "\n",
    "import boto3\n",
    "s3 = boto3.Session().resource('s3')\n",
    "\n",
    "s3.Bucket(\"gd-gdmltecton-stage-feature-data\").Object(\"wdd-model/wdd_us_labeled_20211105/df_merged_new_v2.csv\").upload_file('df_merged_new_v2.csv')"
   ]
  },
  {
   "cell_type": "code",
   "execution_count": null,
   "id": "759f54bb",
   "metadata": {},
   "outputs": [],
   "source": []
  },
  {
   "cell_type": "code",
   "execution_count": null,
   "id": "a34c2a43",
   "metadata": {},
   "outputs": [],
   "source": []
  },
  {
   "cell_type": "code",
   "execution_count": null,
   "id": "c9b9293b",
   "metadata": {},
   "outputs": [],
   "source": []
  },
  {
   "cell_type": "code",
   "execution_count": null,
   "id": "6b96cd8b",
   "metadata": {},
   "outputs": [],
   "source": []
  },
  {
   "cell_type": "code",
   "execution_count": null,
   "id": "b6948578",
   "metadata": {},
   "outputs": [],
   "source": []
  },
  {
   "cell_type": "code",
   "execution_count": 67,
   "id": "29b6d934",
   "metadata": {},
   "outputs": [
    {
     "name": "stderr",
     "output_type": "stream",
     "text": [
      "An error was encountered:\n",
      "Invalid status code '404' from http://tecton-notebook-emr-master.cluster.internal:8998/sessions/5 with error payload: {\"msg\":\"Session '5' not found.\"}\n"
     ]
    }
   ],
   "source": [
    "temp = [1.0, 1.0, 1.0, 1.0, 1.0, 1.0, 1.0, 1.0, 1.0, 1.0, 1.0, 1.0, 1.0, 1.0, 1.0, 1.0, 1.0, 1.0, 1.0, 1.0, 1.0, 1.0, 1.0, 1.0, 1.0, 1.0, 1.0, 1.0, 1.0, 1.0, 1.0, 1.0, 1.0, 1.0, 1.0, 1.0, 1.0, 1.0, 1.0, 1.0, 1.0, 1.0, 500.0, 498.0, 1.0, 1.0, 1.0, 1.0, 1.0, 1.0, 1.0, 1.0, 1.0, 1.0, 1.0, 1.0, 1.0, 1.0, 1.0, 1.0, 1.0, 499.0, 1.0, 1.0, 1.0, 4.0, 1.0, 1.0, 1.0, 1.0, 1.0, 1.0, 1.0, 1.0, 1.0, 1.0, 1.0, 1.0, 1.0, 1.0, 1.0, 494.0, 1.0, 495.0, 1.0, 1.0, 1.0, 1.0, 1.0, 1.0, 992.0, 1.0, 1.0, 1.0, 1.0, 1.0, 1.0, 1.0, 1.0, 1.0, 1.0, 1.0, 1.0, 1.0, 1.0, 1.0, 1.0, 1.0, 1.0, 1.0, 1.0, 1.0, 1.0, 1.0, 1.0, 1.0, 1.0, 1.0, 1.0, 1.0, 1.0, 500.0, 1.0, 1.0, 1.0, 1.0, 1.0, 1.0, 1.0, 1.0, 1.0, 1.0, 1.0, 1.0, 1.0, 1.0, 1.0, 1.0, 1.0, 1.0, 1.0, 1.0, 1.0, 1.0, 1.0, 1.0, 1.0, 1.0, 1.0, 1.0, 1.0, 1.0, 1.0, 1.0, 1.0, 1.0, 1.0, 1.0, 1.0, 1.0, 1.0, 500.0, 1.0, 1.0, 1.0, 1.0, 1.0, 1.0, 1.0, 1.0, 1.0, 496.0, 997.0, 1.0, 990.0, 1.0, 1.0, 1.0, 1.0, 1.0, 1.0, 1.0, 1.0, 1.0, 1.0, 1.0, 1.0, 1.0, 1.0, 1.0, 1.0, 1.0, 1.0, 1.0, 1.0, 1.0, 1.0, 1.0, 1.0, 1.0, 1.0, 1.0, 1.0, 1.0, 1.0, 1.0, 1.0, 1.0, 1.0, 1.0, 1.0, 1.0, 1.0, 1.0, 1.0, 1.0, 1.0, 1.0, 1.0, 1.0, 1.0, 1.0, 499.0, 1.0, 1.0, 1.0, 1.0, 1.0, 1.0, 1.0, 1.0, 1.0, 1.0, 1.0, 1.0, 1.0, 1.0, 1.0, 1.0, 1.0, 1.0, 1.0, 1.0, 1.0, 1.0, 1.0, 1.0, 1.0, 1.0, 1.0, 1.0, 1.0, 1.0, 1.0, 1.0, 1.0, 1.0, 1.0, 1.0, 1.0, 1.0, 1.0, 1.0, 1.0, 1.0, 1.0, 1.0, 1.0, 1.0, 1.0, 1.0, 1.0, 1.0, 1.0, 1.0, 1.0, 1.0, 1.0, 1.0, 1.0, 1.0, 1.0, 1.0, 1.0, 1.0, 1.0, 1.0, 1.0, 1.0, 1.0, 1.0, 1.0]\n",
    "\n",
    "sum(temp)"
   ]
  },
  {
   "cell_type": "code",
   "execution_count": 71,
   "id": "46d74b27",
   "metadata": {},
   "outputs": [
    {
     "data": {
      "application/vnd.jupyter.widget-view+json": {
       "model_id": "",
       "version_major": 2,
       "version_minor": 0
      },
      "text/plain": [
       "FloatProgress(value=0.0, bar_style='info', description='Progress:', layout=Layout(height='25px', width='50%'),…"
      ]
     },
     "metadata": {},
     "output_type": "display_data"
    }
   ],
   "source": [
    "dataset_location = \"s3://gd-gdmltecton-stage-feature-data/wdd-model/wdd_us_labeled_20211105/full.parquet/dataset_00000_no_orders.parquet/\"\n",
    "wdd_df = spark.read.parquet(dataset_location)\n",
    "wdd_df_new = wdd_df.toPandas()"
   ]
  },
  {
   "cell_type": "code",
   "execution_count": 73,
   "id": "6bc809ef",
   "metadata": {},
   "outputs": [
    {
     "data": {
      "application/vnd.jupyter.widget-view+json": {
       "model_id": "",
       "version_major": 2,
       "version_minor": 0
      },
      "text/plain": [
       "FloatProgress(value=0.0, bar_style='info', description='Progress:', layout=Layout(height='25px', width='50%'),…"
      ]
     },
     "metadata": {},
     "output_type": "display_data"
    },
    {
     "name": "stdout",
     "output_type": "stream",
     "text": [
      "Index(['shopper_id', 'number_of_domains', 'c_xxx_countrycode', 'label',\n",
      "       'marketing_cdl.b_xxx_china_cust',\n",
      "       'marketing_cdl.b_xxx_first_order_viral',\n",
      "       'marketing_cdl.b_xxx_first_pop_c3', 'marketing_cdl.b_xxx_iscompany',\n",
      "       'marketing_cdl.b_xxx_isattrition_computed',\n",
      "       'marketing_cdl.b_xxx_isdonotcall', 'marketing_cdl.b_xxx_isreseller',\n",
      "       'marketing_cdl.d_bin_last_mm_order_days',\n",
      "       'marketing_cdl.d_bin_last_bb_order_days',\n",
      "       'marketing_cdl.d_bin_last_email_order_days',\n",
      "       'marketing_cdl.d_bin_last_bb_contact_days',\n",
      "       'marketing_cdl.d_bin_last_mm_contact_days',\n",
      "       'marketing_cdl.d_bin_last_email_contact_days',\n",
      "       'marketing_cdl.d_bin_last_bb_open_days',\n",
      "       'marketing_cdl.d_bin_last_mm_open_days',\n",
      "       'marketing_cdl.d_bin_last_email_open_days',\n",
      "       'marketing_cdl.i_xxx_bb_contacts_30d',\n",
      "       'marketing_cdl.i_xxx_bb_contacts_90d',\n",
      "       'marketing_cdl.i_xxx_bb_contacts_1y',\n",
      "       'marketing_cdl.i_xxx_bb_opens_90d', 'marketing_cdl.i_xxx_bb_opens_30d',\n",
      "       'marketing_cdl.i_xxx_email_contacts_30d',\n",
      "       'marketing_cdl.i_xxx_email_contacts_90d',\n",
      "       'marketing_cdl.i_xxx_email_contacts_1y',\n",
      "       'marketing_cdl.i_xxx_email_opens_90d',\n",
      "       'marketing_cdl.i_xxx_email_opens_30d',\n",
      "       'marketing_cdl.c_xxx_countrycode', 'marketing_cdl.c_xxx_tenure_months',\n",
      "       'uds_traffic_last10.session_type_name',\n",
      "       'uds_traffic_last10.session_viewed_sales_page_flag',\n",
      "       'uds_traffic_last10.session_viewed_help_page_flag',\n",
      "       'uds_traffic_last10.session_mobile_app_flag',\n",
      "       'uds_traffic_last10.session_bounce_flag',\n",
      "       'uds_traffic_last10.session_free_trial_signup_flag',\n",
      "       'uds_traffic_last10.session_purchase_flag',\n",
      "       'uds_traffic_last10.new_product_purchased_flag',\n",
      "       'uds_traffic_last10.renewal_product_purchased_flag',\n",
      "       'uds_traffic_last10.repeat_shopper_flag',\n",
      "       'uds_traffic_last10.repeat_visitor_flag',\n",
      "       'uds_traffic_last10.site_language_code',\n",
      "       'uds_traffic_last10.site_country_code',\n",
      "       'uds_traffic_last10.ip_country_code',\n",
      "       'uds_traffic_last10.referring_domain_name',\n",
      "       'uds_traffic_last10.browser_name',\n",
      "       'uds_traffic_last10.browser_operating_system_name',\n",
      "       'uds_traffic_last10.isc_channel_name',\n",
      "       'uds_traffic_last10.isc_sub_channel_name',\n",
      "       'uds_traffic_last10.referred_by', 'uds_traffic_last10.device_type_name',\n",
      "       'uds_traffic_last10.landing_page_name',\n",
      "       'uds_traffic_last10.exit_page_name', 'uds_traffic_last10.shopper_ids',\n",
      "       'uds_traffic_last10.visit_guid',\n",
      "       'uds_traffic_last10.session_begin_date',\n",
      "       'uds_traffic_last10.session_begin_ts',\n",
      "       'uds_traffic_last10.session_end_ts', 'uds_traffic_last10.host_names',\n",
      "       'uds_traffic_last10.fully_qualified_page_names',\n",
      "       'uds_traffic_last10.page_views_qty', 'uds_traffic_last10.visits_qty',\n",
      "       'uds_traffic_last10.orders_qty', 'uds_traffic_last10.new_orders_qty',\n",
      "       'uds_traffic_last10.renewal_orders_qty',\n",
      "       'uds_traffic_last10.receipt_price_amt',\n",
      "       'uds_traffic_last10.session_duration_seconds',\n",
      "       'uds_traffic_last10.row_num'],\n",
      "      dtype='object')"
     ]
    }
   ],
   "source": [
    "wdd_df_new.columns"
   ]
  },
  {
   "cell_type": "code",
   "execution_count": 75,
   "id": "9c0ec56f",
   "metadata": {},
   "outputs": [
    {
     "data": {
      "application/vnd.jupyter.widget-view+json": {
       "model_id": "",
       "version_major": 2,
       "version_minor": 0
      },
      "text/plain": [
       "FloatProgress(value=0.0, bar_style='info', description='Progress:', layout=Layout(height='25px', width='50%'),…"
      ]
     },
     "metadata": {},
     "output_type": "display_data"
    }
   ],
   "source": [
    "wdd_df_new[\"bill_modified_mst_ts\"] = pd.Timestamp('2022-05-21 12:00Z')\n",
    "spine = pd.DataFrame()\n",
    "spine[\"shopper_id\"] = wdd_df_new[\"shopper_id\"]\n",
    "spine[\"bill_modified_mst_ts\"] = wdd_df_new[\"bill_modified_mst_ts\"]"
   ]
  },
  {
   "cell_type": "code",
   "execution_count": 76,
   "id": "9a2d20ba",
   "metadata": {},
   "outputs": [
    {
     "data": {
      "application/vnd.jupyter.widget-view+json": {
       "model_id": "",
       "version_major": 2,
       "version_minor": 0
      },
      "text/plain": [
       "FloatProgress(value=0.0, bar_style='info', description='Progress:', layout=Layout(height='25px', width='50%'),…"
      ]
     },
     "metadata": {},
     "output_type": "display_data"
    },
    {
     "name": "stdout",
     "output_type": "stream",
     "text": [
      "['shopper_id', 'bill_modified_mst_ts', 'total_orders__num_products_sum_90d_1d', 'total_orders__total_spent_sum_90d_1d', 'total_orders__total_gcr_sum_90d_1d', 'total_orders__total_fair_market_value_sum_90d_1d', 'total_orders__diff_fmv_receipt_sum_90d_1d', 'customer_orders_lifetime__non_top_20_order_count', 'customer_orders_lifetime__non_top_20_total_quantity', 'customer_orders_lifetime__non_top_20_total_spent', 'customer_orders_lifetime__domain_name_registration_order_count', 'customer_orders_lifetime__domain_name_registration_total_quantity', 'customer_orders_lifetime__domain_name_registration_total_spent', 'customer_orders_lifetime__shared_hosting_order_count', 'customer_orders_lifetime__shared_hosting_total_quantity', 'customer_orders_lifetime__shared_hosting_total_spent', 'customer_orders_lifetime__domains_by_proxy_order_count', 'customer_orders_lifetime__domains_by_proxy_total_quantity', 'customer_orders_lifetime__domains_by_proxy_total_spent', 'customer_orders_lifetime__website_builder_order_count', 'customer_orders_lifetime__website_builder_total_quantity', 'customer_orders_lifetime__website_builder_total_spent', 'customer_orders_lifetime__wordpress_managed_plans_order_count', 'customer_orders_lifetime__wordpress_managed_plans_total_quantity', 'customer_orders_lifetime__wordpress_managed_plans_total_spent', 'customer_orders_lifetime__ms_office_365_order_count', 'customer_orders_lifetime__ms_office_365_total_quantity', 'customer_orders_lifetime__ms_office_365_total_spent', 'customer_orders_lifetime__domain_services_order_count', 'customer_orders_lifetime__domain_services_total_quantity', 'customer_orders_lifetime__domain_services_total_spent', 'customer_orders_lifetime__grid_order_count', 'customer_orders_lifetime__grid_total_quantity', 'customer_orders_lifetime__grid_total_spent', 'customer_orders_lifetime__email_order_count', 'customer_orders_lifetime__email_total_quantity', 'customer_orders_lifetime__email_total_spent', 'customer_orders_lifetime__cnp_hosting_order_count', 'customer_orders_lifetime__cnp_hosting_total_quantity', 'customer_orders_lifetime__cnp_hosting_total_spent', 'customer_orders_lifetime__domain_marketplace_order_count', 'customer_orders_lifetime__domain_marketplace_total_quantity', 'customer_orders_lifetime__domain_marketplace_total_spent', 'customer_orders_lifetime__domain_ownership_protection_order_count', 'customer_orders_lifetime__domain_ownership_protection_total_quantity', 'customer_orders_lifetime__domain_ownership_protection_total_spent', 'customer_orders_lifetime__business_registrations_order_count', 'customer_orders_lifetime__business_registrations_total_quantity', 'customer_orders_lifetime__business_registrations_total_spent', 'customer_orders_lifetime__ssl_order_count', 'customer_orders_lifetime__ssl_total_quantity', 'customer_orders_lifetime__ssl_total_spent', 'customer_orders_lifetime__domain_name_transfer_order_count', 'customer_orders_lifetime__domain_name_transfer_total_quantity', 'customer_orders_lifetime__domain_name_transfer_total_spent', 'customer_orders_lifetime__certified_domains_order_count', 'customer_orders_lifetime__certified_domains_total_quantity', 'customer_orders_lifetime__certified_domains_total_spent', 'customer_orders_lifetime__domain_alert_order_count', 'customer_orders_lifetime__domain_alert_total_quantity', 'customer_orders_lifetime__domain_alert_total_spent', 'customer_orders_lifetime__virtual_hosting_order_count', 'customer_orders_lifetime__virtual_hosting_total_quantity', 'customer_orders_lifetime__virtual_hosting_total_spent', 'customer_orders_lifetime__online_storage_order_count', 'customer_orders_lifetime__online_storage_total_quantity', 'customer_orders_lifetime__online_storage_total_spent', 'customer_orders_lifetime__online_calendar_order_count', 'customer_orders_lifetime__online_calendar_total_quantity', 'customer_orders_lifetime__online_calendar_total_spent']"
     ]
    }
   ],
   "source": [
    "my_workspace = tecton.get_workspace(\"prod\")\n",
    "my_fs = my_workspace.get_feature_service(\"wdd_service\")\n",
    "temp_df = my_fs.get_historical_features(spine).to_spark()\n",
    "temp_df.columns"
   ]
  },
  {
   "cell_type": "code",
   "execution_count": 77,
   "id": "324427eb",
   "metadata": {},
   "outputs": [
    {
     "data": {
      "application/vnd.jupyter.widget-view+json": {
       "model_id": "",
       "version_major": 2,
       "version_minor": 0
      },
      "text/plain": [
       "FloatProgress(value=0.0, bar_style='info', description='Progress:', layout=Layout(height='25px', width='50%'),…"
      ]
     },
     "metadata": {},
     "output_type": "display_data"
    },
    {
     "name": "stdout",
     "output_type": "stream",
     "text": [
      "Index(['shopper_id', 'number_of_domains', 'c_xxx_countrycode', 'label',\n",
      "       'marketing_cdl.b_xxx_china_cust',\n",
      "       'marketing_cdl.b_xxx_first_order_viral',\n",
      "       'marketing_cdl.b_xxx_first_pop_c3', 'marketing_cdl.b_xxx_iscompany',\n",
      "       'marketing_cdl.b_xxx_isattrition_computed',\n",
      "       'marketing_cdl.b_xxx_isdonotcall',\n",
      "       ...\n",
      "       'customer_orders_lifetime__domain_alert_total_spent',\n",
      "       'customer_orders_lifetime__virtual_hosting_order_count',\n",
      "       'customer_orders_lifetime__virtual_hosting_total_quantity',\n",
      "       'customer_orders_lifetime__virtual_hosting_total_spent',\n",
      "       'customer_orders_lifetime__online_storage_order_count',\n",
      "       'customer_orders_lifetime__online_storage_total_quantity',\n",
      "       'customer_orders_lifetime__online_storage_total_spent',\n",
      "       'customer_orders_lifetime__online_calendar_order_count',\n",
      "       'customer_orders_lifetime__online_calendar_total_quantity',\n",
      "       'customer_orders_lifetime__online_calendar_total_spent'],\n",
      "      dtype='object', length=140)"
     ]
    }
   ],
   "source": [
    "tecton_df = temp_df.toPandas()\n",
    "df_merged = pd.merge(wdd_df_new, tecton_df, how='inner', on = 'shopper_id')\n",
    "df_merged.columns"
   ]
  }
 ],
 "metadata": {
  "kernelspec": {
   "display_name": "Sparkmagic (PySpark)",
   "language": "python",
   "name": "pysparkkernel"
  },
  "language_info": {
   "codemirror_mode": {
    "name": "python",
    "version": 3
   },
   "file_extension": ".py",
   "mimetype": "text/x-python",
   "name": "pyspark",
   "pygments_lexer": "python3"
  }
 },
 "nbformat": 4,
 "nbformat_minor": 5
}
